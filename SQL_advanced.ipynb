{
 "cells": [
  {
   "cell_type": "markdown",
   "metadata": {
    "id": "sRW85nPMDWKb"
   },
   "source": [
    "Задача: написать несколько SQL-запросов в Jupyter Notebook. Необходимые данные находятся в таблицах схемы `stackoverflow`. "
   ]
  },
  {
   "cell_type": "code",
   "execution_count": 1,
   "metadata": {
    "id": "nlZBlglMDWKe"
   },
   "outputs": [],
   "source": [
    "#импорт библиотек\n",
    "import pandas as pd\n",
    "import matplotlib.pyplot as plt\n",
    "import seaborn as sns\n",
    "import numpy as np\n",
    "from sqlalchemy import create_engine "
   ]
  },
  {
   "cell_type": "markdown",
   "metadata": {
    "id": "XnOE3n28DWKg"
   },
   "source": [
    "### Конфигурация для подключения к базе данных `data-analyst-advanced-sql`"
   ]
  },
  {
   "cell_type": "code",
   "execution_count": 2,
   "metadata": {
    "id": "6p-yGp7qDWKg"
   },
   "outputs": [],
   "source": [
    "db_config = {\n",
    "    'user': 'praktikum_student', # имя пользователя\n",
    "    'pwd': 'Sdf4$2;d-d30pp', # пароль\n",
    "    'host': 'rc1b-wcoijxj3yxfsf3fs.mdb.yandexcloud.net',\n",
    "    'port': 6432, # порт подключения\n",
    "    'db': 'data-analyst-advanced-sql' # название базы данных\n",
    "}  \n",
    "\n",
    "connection_string = 'postgresql://{}:{}@{}:{}/{}'.format(\n",
    "    db_config['user'],\n",
    "    db_config['pwd'],\n",
    "    db_config['host'],\n",
    "    db_config['port'],\n",
    "    db_config['db'],\n",
    ")"
   ]
  },
  {
   "cell_type": "code",
   "execution_count": 3,
   "metadata": {
    "id": "DamCUTR6DWKi"
   },
   "outputs": [],
   "source": [
    "#Создание подключения\n",
    "engine = create_engine(connection_string) "
   ]
  },
  {
   "cell_type": "markdown",
   "metadata": {
    "id": "gnBMXkDBDWKm"
   },
   "source": [
    "# Задание 1"
   ]
  },
  {
   "cell_type": "markdown",
   "metadata": {
    "id": "vHsfOrrNDWKn"
   },
   "source": [
    "Выведите общую сумму просмотров постов за каждый месяц 2008 года. Если данных за какой-либо месяц в базе нет, такой месяц можно пропустить. Результат отсортируйте по убыванию общего количества просмотров."
   ]
  },
  {
   "cell_type": "markdown",
   "metadata": {
    "id": "N5rTgGNmDWKn"
   },
   "source": [
    "| month_date  | total_views |\n",
    "| ------------- | ------------- |\n",
    "| 2008-09-01  | 452928568  |\n",
    "| 2008-10-01  | 365400138  |\n",
    "| ...         | ... |"
   ]
  },
  {
   "cell_type": "code",
   "execution_count": 4,
   "metadata": {
    "id": "eWvykcXTDWKo"
   },
   "outputs": [],
   "source": [
    "# напишите запрос\n",
    "query = '''\n",
    "SELECT CAST(DATE_TRUNC('month', creation_date) AS date) AS month,\n",
    "       SUM(views_count) AS sum\n",
    "FROM stackoverflow.posts\n",
    "WHERE creation_date::date BETWEEN '2008-01-01' AND '2008-12-31'\n",
    "GROUP BY CAST(DATE_TRUNC('month', creation_date) AS date)\n",
    "ORDER BY sum DESC;\n",
    "'''\n",
    "\n",
    "# выполните запрос\n",
    "views_count = pd.read_sql_query(query, con=engine) "
   ]
  },
  {
   "cell_type": "code",
   "execution_count": 5,
   "metadata": {},
   "outputs": [
    {
     "data": {
      "text/html": [
       "<div>\n",
       "<style scoped>\n",
       "    .dataframe tbody tr th:only-of-type {\n",
       "        vertical-align: middle;\n",
       "    }\n",
       "\n",
       "    .dataframe tbody tr th {\n",
       "        vertical-align: top;\n",
       "    }\n",
       "\n",
       "    .dataframe thead th {\n",
       "        text-align: right;\n",
       "    }\n",
       "</style>\n",
       "<table border=\"1\" class=\"dataframe\">\n",
       "  <thead>\n",
       "    <tr style=\"text-align: right;\">\n",
       "      <th></th>\n",
       "      <th>month</th>\n",
       "      <th>sum</th>\n",
       "    </tr>\n",
       "  </thead>\n",
       "  <tbody>\n",
       "    <tr>\n",
       "      <th>0</th>\n",
       "      <td>2008-09-01</td>\n",
       "      <td>452928568</td>\n",
       "    </tr>\n",
       "    <tr>\n",
       "      <th>1</th>\n",
       "      <td>2008-10-01</td>\n",
       "      <td>365400138</td>\n",
       "    </tr>\n",
       "    <tr>\n",
       "      <th>2</th>\n",
       "      <td>2008-11-01</td>\n",
       "      <td>221759651</td>\n",
       "    </tr>\n",
       "    <tr>\n",
       "      <th>3</th>\n",
       "      <td>2008-12-01</td>\n",
       "      <td>197792841</td>\n",
       "    </tr>\n",
       "    <tr>\n",
       "      <th>4</th>\n",
       "      <td>2008-08-01</td>\n",
       "      <td>131367083</td>\n",
       "    </tr>\n",
       "    <tr>\n",
       "      <th>5</th>\n",
       "      <td>2008-07-01</td>\n",
       "      <td>669895</td>\n",
       "    </tr>\n",
       "  </tbody>\n",
       "</table>\n",
       "</div>"
      ],
      "text/plain": [
       "        month        sum\n",
       "0  2008-09-01  452928568\n",
       "1  2008-10-01  365400138\n",
       "2  2008-11-01  221759651\n",
       "3  2008-12-01  197792841\n",
       "4  2008-08-01  131367083\n",
       "5  2008-07-01     669895"
      ]
     },
     "execution_count": 5,
     "metadata": {},
     "output_type": "execute_result"
    }
   ],
   "source": [
    "views_count"
   ]
  },
  {
   "cell_type": "code",
   "execution_count": 6,
   "metadata": {},
   "outputs": [
    {
     "data": {
      "image/png": "[encoded data removed]",
      "text/plain": [
       "<Figure size 1000x400 with 1 Axes>"
      ]
     },
     "metadata": {},
     "output_type": "display_data"
    }
   ],
   "source": [
    "# применяем стиль whitegrid из библиотеки seaborn\n",
    "sns.set_style('whitegrid')\n",
    "# назначаем размер графика\n",
    "plt.figure(figsize=(10, 4))\n",
    "# строим линейный график средствами seaborn\n",
    "sns.lineplot(x = 'month', y = 'sum', data=views_count, marker='D');"
   ]
  },
  {
   "cell_type": "markdown",
   "metadata": {
    "id": "I_ZvhOxkDWKp"
   },
   "source": [
    "Проанализируйте итоговую таблицу. Отличаются ли данные за разные месяцы? С чем могут быть связаны отличия?"
   ]
  },
  {
   "cell_type": "markdown",
   "metadata": {
    "id": "luxSj17oDWKq"
   },
   "source": [
    "Ответ: да, данные отличаются. Виден явный рост от июля 2008 года с пиком в августе и дальше идет постепенное снижение до ноября 2008 года, с ноября по декабрь почти стагнация.\n",
    "БД - stackoverflow, возможно тестовые задания, вступительные экзамены во 2/3 волну поступающих в ВУЗы."
   ]
  },
  {
   "cell_type": "markdown",
   "metadata": {
    "id": "FziIXkn5DWKr"
   },
   "source": [
    "# Задание 2"
   ]
  },
  {
   "cell_type": "markdown",
   "metadata": {
    "id": "fTGESZvYDWKr"
   },
   "source": [
    "Выведите имена самых активных пользователей, которые в первый месяц после регистрации (включая день регистрации) дали больше 100 ответов. Вопросы, которые задавали пользователи, не учитывайте. Для каждого имени пользователя выведите количество уникальных значений `user_id`. Отсортируйте результат по полю с именами в лексикографическом порядке."
   ]
  },
  {
   "cell_type": "markdown",
   "metadata": {
    "id": "W5-tv6Y3DWKs"
   },
   "source": [
    "| display_name | count |\n",
    "| ------------ | ----- |\n",
    "| 1800 INFORMATION | 1 |\n",
    "| Adam Bellaire | 1 |\n",
    "| Adam Davis | 1 |\n",
    "| ... | ... |"
   ]
  },
  {
   "cell_type": "code",
   "execution_count": 7,
   "metadata": {
    "id": "fIO-y-YjDWKt"
   },
   "outputs": [],
   "source": [
    "# напишите запрос\n",
    "query = '''\n",
    "SELECT display_name,\n",
    "       COUNT(DISTINCT(user_id))\n",
    "FROM stackoverflow.users AS u \n",
    "INNER JOIN stackoverflow.posts AS p ON u.id=p.user_id\n",
    "INNER JOIN stackoverflow.post_types AS t ON p.post_type_id=t.id\n",
    "WHERE (DATE_TRUNC('day', p.creation_date) <= DATE_TRUNC('day', u.creation_date) + INTERVAL '1 month') AND (p.post_type_id=2)\n",
    "GROUP BY display_name\n",
    "HAVING COUNT(p.id) > 100;\n",
    "'''\n",
    "\n",
    "# выполните запрос\n",
    "active_users = pd.read_sql_query(query, con=engine) "
   ]
  },
  {
   "cell_type": "code",
   "execution_count": 8,
   "metadata": {},
   "outputs": [
    {
     "data": {
      "text/html": [
       "<div>\n",
       "<style scoped>\n",
       "    .dataframe tbody tr th:only-of-type {\n",
       "        vertical-align: middle;\n",
       "    }\n",
       "\n",
       "    .dataframe tbody tr th {\n",
       "        vertical-align: top;\n",
       "    }\n",
       "\n",
       "    .dataframe thead th {\n",
       "        text-align: right;\n",
       "    }\n",
       "</style>\n",
       "<table border=\"1\" class=\"dataframe\">\n",
       "  <thead>\n",
       "    <tr style=\"text-align: right;\">\n",
       "      <th></th>\n",
       "      <th>display_name</th>\n",
       "      <th>count</th>\n",
       "    </tr>\n",
       "  </thead>\n",
       "  <tbody>\n",
       "    <tr>\n",
       "      <th>0</th>\n",
       "      <td>1800 INFORMATION</td>\n",
       "      <td>1</td>\n",
       "    </tr>\n",
       "    <tr>\n",
       "      <th>1</th>\n",
       "      <td>Adam Bellaire</td>\n",
       "      <td>1</td>\n",
       "    </tr>\n",
       "    <tr>\n",
       "      <th>2</th>\n",
       "      <td>Adam Davis</td>\n",
       "      <td>1</td>\n",
       "    </tr>\n",
       "    <tr>\n",
       "      <th>3</th>\n",
       "      <td>Adam Liss</td>\n",
       "      <td>1</td>\n",
       "    </tr>\n",
       "    <tr>\n",
       "      <th>4</th>\n",
       "      <td>Alan</td>\n",
       "      <td>8</td>\n",
       "    </tr>\n",
       "    <tr>\n",
       "      <th>...</th>\n",
       "      <td>...</td>\n",
       "      <td>...</td>\n",
       "    </tr>\n",
       "    <tr>\n",
       "      <th>74</th>\n",
       "      <td>lomaxx</td>\n",
       "      <td>1</td>\n",
       "    </tr>\n",
       "    <tr>\n",
       "      <th>75</th>\n",
       "      <td>mattlant</td>\n",
       "      <td>1</td>\n",
       "    </tr>\n",
       "    <tr>\n",
       "      <th>76</th>\n",
       "      <td>paxdiablo</td>\n",
       "      <td>1</td>\n",
       "    </tr>\n",
       "    <tr>\n",
       "      <th>77</th>\n",
       "      <td>tvanfosson</td>\n",
       "      <td>1</td>\n",
       "    </tr>\n",
       "    <tr>\n",
       "      <th>78</th>\n",
       "      <td>tzot</td>\n",
       "      <td>1</td>\n",
       "    </tr>\n",
       "  </tbody>\n",
       "</table>\n",
       "<p>79 rows × 2 columns</p>\n",
       "</div>"
      ],
      "text/plain": [
       "        display_name  count\n",
       "0   1800 INFORMATION      1\n",
       "1      Adam Bellaire      1\n",
       "2         Adam Davis      1\n",
       "3          Adam Liss      1\n",
       "4               Alan      8\n",
       "..               ...    ...\n",
       "74            lomaxx      1\n",
       "75          mattlant      1\n",
       "76         paxdiablo      1\n",
       "77        tvanfosson      1\n",
       "78              tzot      1\n",
       "\n",
       "[79 rows x 2 columns]"
      ]
     },
     "execution_count": 8,
     "metadata": {},
     "output_type": "execute_result"
    }
   ],
   "source": [
    "active_users"
   ]
  },
  {
   "cell_type": "code",
   "execution_count": 9,
   "metadata": {},
   "outputs": [
    {
     "data": {
      "image/png": "[encoded data removed]",
      "text/plain": [
       "<Figure size 640x480 with 1 Axes>"
      ]
     },
     "metadata": {},
     "output_type": "display_data"
    }
   ],
   "source": [
    "# Генерируем гистограмму\n",
    "active_users.plot(kind='hist')\n",
    "plt.show()"
   ]
  },
  {
   "cell_type": "markdown",
   "metadata": {},
   "source": [
    "Гистограмма смещена вправо, существует ограничение на минимально возможное значение (1), но нет ограничения на максимально возможное значение (нет ограничения по активности пользователй)."
   ]
  },
  {
   "cell_type": "code",
   "execution_count": 10,
   "metadata": {},
   "outputs": [
    {
     "data": {
      "text/html": [
       "<div>\n",
       "<style scoped>\n",
       "    .dataframe tbody tr th:only-of-type {\n",
       "        vertical-align: middle;\n",
       "    }\n",
       "\n",
       "    .dataframe tbody tr th {\n",
       "        vertical-align: top;\n",
       "    }\n",
       "\n",
       "    .dataframe thead th {\n",
       "        text-align: right;\n",
       "    }\n",
       "</style>\n",
       "<table border=\"1\" class=\"dataframe\">\n",
       "  <thead>\n",
       "    <tr style=\"text-align: right;\">\n",
       "      <th></th>\n",
       "      <th>count</th>\n",
       "    </tr>\n",
       "  </thead>\n",
       "  <tbody>\n",
       "    <tr>\n",
       "      <th>count</th>\n",
       "      <td>79.000000</td>\n",
       "    </tr>\n",
       "    <tr>\n",
       "      <th>mean</th>\n",
       "      <td>3.987342</td>\n",
       "    </tr>\n",
       "    <tr>\n",
       "      <th>std</th>\n",
       "      <td>6.446016</td>\n",
       "    </tr>\n",
       "    <tr>\n",
       "      <th>min</th>\n",
       "      <td>1.000000</td>\n",
       "    </tr>\n",
       "    <tr>\n",
       "      <th>25%</th>\n",
       "      <td>1.000000</td>\n",
       "    </tr>\n",
       "    <tr>\n",
       "      <th>50%</th>\n",
       "      <td>1.000000</td>\n",
       "    </tr>\n",
       "    <tr>\n",
       "      <th>75%</th>\n",
       "      <td>1.000000</td>\n",
       "    </tr>\n",
       "    <tr>\n",
       "      <th>max</th>\n",
       "      <td>29.000000</td>\n",
       "    </tr>\n",
       "  </tbody>\n",
       "</table>\n",
       "</div>"
      ],
      "text/plain": [
       "           count\n",
       "count  79.000000\n",
       "mean    3.987342\n",
       "std     6.446016\n",
       "min     1.000000\n",
       "25%     1.000000\n",
       "50%     1.000000\n",
       "75%     1.000000\n",
       "max    29.000000"
      ]
     },
     "execution_count": 10,
     "metadata": {},
     "output_type": "execute_result"
    }
   ],
   "source": [
    "#посмотрим на данные методом describe()\n",
    "active_users.describe()"
   ]
  },
  {
   "cell_type": "markdown",
   "metadata": {},
   "source": [
    "среднее значение 3,98, стандартное отклонение 6,44. Максимальное значение 29"
   ]
  },
  {
   "cell_type": "code",
   "execution_count": 11,
   "metadata": {},
   "outputs": [
    {
     "data": {
      "image/png": "[encoded data removed]",
      "text/plain": [
       "<Figure size 640x480 with 1 Axes>"
      ]
     },
     "metadata": {},
     "output_type": "display_data"
    }
   ],
   "source": [
    "#визуализация выбросов\n",
    "sns.violinplot(data = active_users); "
   ]
  },
  {
   "cell_type": "markdown",
   "metadata": {
    "id": "I3Wr82TplKpI"
   },
   "source": [
    "Какие аномалии наблюдаются в данных? О чём они говорят?"
   ]
  },
  {
   "cell_type": "markdown",
   "metadata": {
    "id": "CEIGGQ6ODWKy"
   },
   "source": [
    "В данных есть аномально большие значения (при среднем значении 3,98, максимальное значение 29). Визуализация также подтверждает наличие аномально высоких начений.\n",
    "Возможно часть ответов давали боты; воозможно пользователи доуточняли информацию и вместо 1й публикации, получалось 5-10 уточняющих.  "
   ]
  },
  {
   "cell_type": "markdown",
   "metadata": {
    "id": "JhM2xXj5DWKu"
   },
   "source": [
    "# Задание 3"
   ]
  },
  {
   "cell_type": "markdown",
   "metadata": {
    "id": "IS6xPqyyDWKu"
   },
   "source": [
    "Выведите количество постов за 2008 год по месяцам. Отберите посты от пользователей, которые зарегистрировались в сентябре 2008 года и сделали хотя бы один пост в декабре того же года. Отсортируйте таблицу по значению месяца по убыванию."
   ]
  },
  {
   "cell_type": "markdown",
   "metadata": {
    "id": "WmjhjV2xDWKv"
   },
   "source": [
    "| month | count |\n",
    "| ------|------ |\n",
    "| 2008-12-01 | 17641 |\n",
    "| 2008-11-01 | 18294 |\n",
    "| ... | ... |"
   ]
  },
  {
   "cell_type": "code",
   "execution_count": 12,
   "metadata": {
    "id": "kVu0FB8WDWKv"
   },
   "outputs": [],
   "source": [
    "# напишите запрос\n",
    "query = '''\n",
    "WITH x AS \n",
    "    (SELECT u.id\n",
    "    FROM stackoverflow.users AS u JOIN stackoverflow.posts AS p ON u.id=p.user_id\n",
    "    WHERE (u.creation_date::date BETWEEN '2008-09-01' AND '2008-09-30')\n",
    "    AND ((p.creation_date::date BETWEEN '2008-12-01' AND '2008-12-31'))\n",
    "    GROUP BY u.id)\n",
    "\n",
    "SELECT CAST(DATE_TRUNC('month', p.creation_date) AS date) AS month,\n",
    "       COUNT(p.id) AS count\n",
    "FROM stackoverflow.users AS u JOIN stackoverflow.posts AS p ON u.id=p.user_id\n",
    "WHERE (p.creation_date::date BETWEEN '2008-01-01' AND '2008-12-31')\n",
    "AND p.user_id IN (SELECT * FROM x)\n",
    "GROUP BY CAST(DATE_TRUNC('month', p.creation_date) AS date)\n",
    "ORDER BY CAST(DATE_TRUNC('month', p.creation_date) AS date) DESC;\n",
    "'''\n",
    "\n",
    "# выполните запрос\n",
    "posts_per_month = pd.read_sql_query(query, con=engine) "
   ]
  },
  {
   "cell_type": "code",
   "execution_count": 13,
   "metadata": {},
   "outputs": [
    {
     "data": {
      "text/html": [
       "<div>\n",
       "<style scoped>\n",
       "    .dataframe tbody tr th:only-of-type {\n",
       "        vertical-align: middle;\n",
       "    }\n",
       "\n",
       "    .dataframe tbody tr th {\n",
       "        vertical-align: top;\n",
       "    }\n",
       "\n",
       "    .dataframe thead th {\n",
       "        text-align: right;\n",
       "    }\n",
       "</style>\n",
       "<table border=\"1\" class=\"dataframe\">\n",
       "  <thead>\n",
       "    <tr style=\"text-align: right;\">\n",
       "      <th></th>\n",
       "      <th>month</th>\n",
       "      <th>count</th>\n",
       "    </tr>\n",
       "  </thead>\n",
       "  <tbody>\n",
       "    <tr>\n",
       "      <th>0</th>\n",
       "      <td>2008-12-01</td>\n",
       "      <td>17641</td>\n",
       "    </tr>\n",
       "    <tr>\n",
       "      <th>1</th>\n",
       "      <td>2008-11-01</td>\n",
       "      <td>18294</td>\n",
       "    </tr>\n",
       "    <tr>\n",
       "      <th>2</th>\n",
       "      <td>2008-10-01</td>\n",
       "      <td>27171</td>\n",
       "    </tr>\n",
       "    <tr>\n",
       "      <th>3</th>\n",
       "      <td>2008-09-01</td>\n",
       "      <td>24870</td>\n",
       "    </tr>\n",
       "    <tr>\n",
       "      <th>4</th>\n",
       "      <td>2008-08-01</td>\n",
       "      <td>32</td>\n",
       "    </tr>\n",
       "  </tbody>\n",
       "</table>\n",
       "</div>"
      ],
      "text/plain": [
       "        month  count\n",
       "0  2008-12-01  17641\n",
       "1  2008-11-01  18294\n",
       "2  2008-10-01  27171\n",
       "3  2008-09-01  24870\n",
       "4  2008-08-01     32"
      ]
     },
     "execution_count": 13,
     "metadata": {},
     "output_type": "execute_result"
    }
   ],
   "source": [
    "posts_per_month"
   ]
  },
  {
   "cell_type": "code",
   "execution_count": 14,
   "metadata": {},
   "outputs": [
    {
     "data": {
      "text/html": [
       "<div>\n",
       "<style scoped>\n",
       "    .dataframe tbody tr th:only-of-type {\n",
       "        vertical-align: middle;\n",
       "    }\n",
       "\n",
       "    .dataframe tbody tr th {\n",
       "        vertical-align: top;\n",
       "    }\n",
       "\n",
       "    .dataframe thead th {\n",
       "        text-align: right;\n",
       "    }\n",
       "</style>\n",
       "<table border=\"1\" class=\"dataframe\">\n",
       "  <thead>\n",
       "    <tr style=\"text-align: right;\">\n",
       "      <th></th>\n",
       "      <th>count</th>\n",
       "    </tr>\n",
       "  </thead>\n",
       "  <tbody>\n",
       "    <tr>\n",
       "      <th>count</th>\n",
       "      <td>5.000000</td>\n",
       "    </tr>\n",
       "    <tr>\n",
       "      <th>mean</th>\n",
       "      <td>17601.600000</td>\n",
       "    </tr>\n",
       "    <tr>\n",
       "      <th>std</th>\n",
       "      <td>10648.648614</td>\n",
       "    </tr>\n",
       "    <tr>\n",
       "      <th>min</th>\n",
       "      <td>32.000000</td>\n",
       "    </tr>\n",
       "    <tr>\n",
       "      <th>25%</th>\n",
       "      <td>17641.000000</td>\n",
       "    </tr>\n",
       "    <tr>\n",
       "      <th>50%</th>\n",
       "      <td>18294.000000</td>\n",
       "    </tr>\n",
       "    <tr>\n",
       "      <th>75%</th>\n",
       "      <td>24870.000000</td>\n",
       "    </tr>\n",
       "    <tr>\n",
       "      <th>max</th>\n",
       "      <td>27171.000000</td>\n",
       "    </tr>\n",
       "  </tbody>\n",
       "</table>\n",
       "</div>"
      ],
      "text/plain": [
       "              count\n",
       "count      5.000000\n",
       "mean   17601.600000\n",
       "std    10648.648614\n",
       "min       32.000000\n",
       "25%    17641.000000\n",
       "50%    18294.000000\n",
       "75%    24870.000000\n",
       "max    27171.000000"
      ]
     },
     "execution_count": 14,
     "metadata": {},
     "output_type": "execute_result"
    }
   ],
   "source": [
    "#посмотрим на данные методом describe()\n",
    "posts_per_month.describe()"
   ]
  },
  {
   "cell_type": "code",
   "execution_count": 15,
   "metadata": {},
   "outputs": [
    {
     "data": {
      "image/png": "[encoded data removed]",
      "text/plain": [
       "<Figure size 1000x400 with 1 Axes>"
      ]
     },
     "metadata": {},
     "output_type": "display_data"
    }
   ],
   "source": [
    "# посмотрим распределение по месяцам\n",
    "# применяем стиль whitegrid из библиотеки seaborn\n",
    "sns.set_style('whitegrid')\n",
    "# назначаем размер графика\n",
    "plt.figure(figsize=(10, 4))\n",
    "# строим линейный график средствами seaborn\n",
    "sns.lineplot(x = 'month', y = 'count', data = posts_per_month, marker = 'D');"
   ]
  },
  {
   "cell_type": "code",
   "execution_count": 16,
   "metadata": {},
   "outputs": [
    {
     "data": {
      "image/png": "[encoded data removed]",
      "text/plain": [
       "<Figure size 640x480 with 1 Axes>"
      ]
     },
     "metadata": {},
     "output_type": "display_data"
    }
   ],
   "source": [
    "#визуализация выбросов\n",
    "sns.violinplot(data = posts_per_month); "
   ]
  },
  {
   "cell_type": "markdown",
   "metadata": {
    "id": "Vnxn9DVHDWKx"
   },
   "source": [
    "Изучите данные: есть ли в них аномалии? Предположите, почему могли появиться аномальные значения."
   ]
  },
  {
   "cell_type": "markdown",
   "metadata": {
    "id": "MMVIz4yMlKpN"
   },
   "source": [
    "аномально резкий рост/скачек в августе. Возможная причина: техническая ошибка при выгрузке данных; технический сбой, который привел с неверной дате поста"
   ]
  },
  {
   "cell_type": "markdown",
   "metadata": {
    "id": "5Pcizm0DDWKz"
   },
   "source": [
    "# Задание 4"
   ]
  },
  {
   "cell_type": "markdown",
   "metadata": {
    "id": "KUZPF6vHDWKz"
   },
   "source": [
    "Используя данные о постах, выведите несколько полей:\n",
    "\n",
    "- идентификатор пользователя, который написал пост;\n",
    "- дата создания поста;\n",
    "- количество просмотров у текущего поста;\n",
    "- сумму просмотров постов автора с накоплением.\n",
    "\n",
    "Данные в таблице должны быть отсортированы по возрастанию идентификаторов пользователей, а данные об одном и том же пользователе — по возрастанию даты создания поста."
   ]
  },
  {
   "cell_type": "markdown",
   "metadata": {
    "id": "ZpsTUVDYDWK0"
   },
   "source": [
    "| user_id | creation_date | views_count | cumulative_count |\n",
    "| ------ | -------------- | ----------- | ---------------- |\n",
    "| 1 | 2008-07-31 23:41:00  | 480476   | 480476  |\n",
    "| 1 | 2008-07-31 23:55:38  | 136033 | 616509  | \n",
    "| 1 | 2008-07-31 23:56:41  | 0 |  616509  |\n",
    "| ... | ... | ... | ... |\n",
    "| 2 | 2008-07-31 23:56:41 | 79087  | 79087 |\n",
    "| 2 | 2008-08-01 05:09:56 | 65443 | 144530 |\n",
    "| ... | ...  | ...  | ...  |"
   ]
  },
  {
   "cell_type": "code",
   "execution_count": 17,
   "metadata": {
    "id": "hDoJhMzfDWK0"
   },
   "outputs": [],
   "source": [
    "# напишите запрос\n",
    "query = '''\n",
    "SELECT user_id, \n",
    "       creation_date, \n",
    "       views_count,\n",
    "       SUM(views_count) OVER (PARTITION BY user_id ORDER BY creation_date) AS cumulative_count\n",
    "FROM stackoverflow.posts \n",
    "ORDER BY user_id, creation_date;\n",
    "'''\n",
    "\n",
    "# выполните запрос\n",
    "posts_info = pd.read_sql_query(query, con=engine) "
   ]
  },
  {
   "cell_type": "code",
   "execution_count": 18,
   "metadata": {},
   "outputs": [
    {
     "data": {
      "text/html": [
       "<div>\n",
       "<style scoped>\n",
       "    .dataframe tbody tr th:only-of-type {\n",
       "        vertical-align: middle;\n",
       "    }\n",
       "\n",
       "    .dataframe tbody tr th {\n",
       "        vertical-align: top;\n",
       "    }\n",
       "\n",
       "    .dataframe thead th {\n",
       "        text-align: right;\n",
       "    }\n",
       "</style>\n",
       "<table border=\"1\" class=\"dataframe\">\n",
       "  <thead>\n",
       "    <tr style=\"text-align: right;\">\n",
       "      <th></th>\n",
       "      <th>user_id</th>\n",
       "      <th>creation_date</th>\n",
       "      <th>views_count</th>\n",
       "      <th>cumulative_count</th>\n",
       "    </tr>\n",
       "  </thead>\n",
       "  <tbody>\n",
       "    <tr>\n",
       "      <th>0</th>\n",
       "      <td>1</td>\n",
       "      <td>2008-07-31 23:41:00</td>\n",
       "      <td>480476</td>\n",
       "      <td>480476</td>\n",
       "    </tr>\n",
       "    <tr>\n",
       "      <th>1</th>\n",
       "      <td>1</td>\n",
       "      <td>2008-07-31 23:55:38</td>\n",
       "      <td>136033</td>\n",
       "      <td>616509</td>\n",
       "    </tr>\n",
       "    <tr>\n",
       "      <th>2</th>\n",
       "      <td>1</td>\n",
       "      <td>2008-07-31 23:56:41</td>\n",
       "      <td>0</td>\n",
       "      <td>616509</td>\n",
       "    </tr>\n",
       "    <tr>\n",
       "      <th>3</th>\n",
       "      <td>1</td>\n",
       "      <td>2008-08-04 02:45:08</td>\n",
       "      <td>0</td>\n",
       "      <td>616509</td>\n",
       "    </tr>\n",
       "    <tr>\n",
       "      <th>4</th>\n",
       "      <td>1</td>\n",
       "      <td>2008-08-04 04:31:03</td>\n",
       "      <td>0</td>\n",
       "      <td>616509</td>\n",
       "    </tr>\n",
       "    <tr>\n",
       "      <th>...</th>\n",
       "      <td>...</td>\n",
       "      <td>...</td>\n",
       "      <td>...</td>\n",
       "      <td>...</td>\n",
       "    </tr>\n",
       "    <tr>\n",
       "      <th>243791</th>\n",
       "      <td>5696608</td>\n",
       "      <td>2008-12-23 16:00:37</td>\n",
       "      <td>0</td>\n",
       "      <td>2804</td>\n",
       "    </tr>\n",
       "    <tr>\n",
       "      <th>243792</th>\n",
       "      <td>5696608</td>\n",
       "      <td>2008-12-23 17:35:09</td>\n",
       "      <td>0</td>\n",
       "      <td>2804</td>\n",
       "    </tr>\n",
       "    <tr>\n",
       "      <th>243793</th>\n",
       "      <td>5696608</td>\n",
       "      <td>2008-12-24 01:02:48</td>\n",
       "      <td>0</td>\n",
       "      <td>2804</td>\n",
       "    </tr>\n",
       "    <tr>\n",
       "      <th>243794</th>\n",
       "      <td>5696608</td>\n",
       "      <td>2008-12-30 14:34:45</td>\n",
       "      <td>0</td>\n",
       "      <td>2804</td>\n",
       "    </tr>\n",
       "    <tr>\n",
       "      <th>243795</th>\n",
       "      <td>5696608</td>\n",
       "      <td>2008-12-30 16:32:12</td>\n",
       "      <td>0</td>\n",
       "      <td>2804</td>\n",
       "    </tr>\n",
       "  </tbody>\n",
       "</table>\n",
       "<p>243796 rows × 4 columns</p>\n",
       "</div>"
      ],
      "text/plain": [
       "        user_id       creation_date  views_count  cumulative_count\n",
       "0             1 2008-07-31 23:41:00       480476            480476\n",
       "1             1 2008-07-31 23:55:38       136033            616509\n",
       "2             1 2008-07-31 23:56:41            0            616509\n",
       "3             1 2008-08-04 02:45:08            0            616509\n",
       "4             1 2008-08-04 04:31:03            0            616509\n",
       "...         ...                 ...          ...               ...\n",
       "243791  5696608 2008-12-23 16:00:37            0              2804\n",
       "243792  5696608 2008-12-23 17:35:09            0              2804\n",
       "243793  5696608 2008-12-24 01:02:48            0              2804\n",
       "243794  5696608 2008-12-30 14:34:45            0              2804\n",
       "243795  5696608 2008-12-30 16:32:12            0              2804\n",
       "\n",
       "[243796 rows x 4 columns]"
      ]
     },
     "execution_count": 18,
     "metadata": {},
     "output_type": "execute_result"
    }
   ],
   "source": [
    "posts_info"
   ]
  },
  {
   "cell_type": "markdown",
   "metadata": {
    "id": "N0kHRHvIDWK2"
   },
   "source": [
    "# Задание 5"
   ]
  },
  {
   "cell_type": "markdown",
   "metadata": {
    "id": "gBgvmPtODWK2"
   },
   "source": [
    "Найдите среднее количество постов пользователей в день за август 2008 года. Отберите данные о пользователях, которые опубликовали больше 120 постов за август. Дни без публикаций не учитывайте. \n",
    "\n",
    "Отсортируйте результат по возрастанию среднего количества постов. Значения можно не округлять."
   ]
  },
  {
   "cell_type": "markdown",
   "metadata": {
    "id": "nfzR08BODWK3"
   },
   "source": [
    "| user_id | avg_daily |\n",
    "| ------- | --------- |\n",
    "| 116     | 4.777778  |\n",
    "| 234     | 5.208333  |\n",
    "| ...     | ... |"
   ]
  },
  {
   "cell_type": "code",
   "execution_count": 19,
   "metadata": {
    "id": "YFyPNz5GDWK3"
   },
   "outputs": [],
   "source": [
    "# напишите запрос\n",
    "query = '''\n",
    "WITH x AS\n",
    "    (SELECT p.user_id,\n",
    "            DATE_TRUNC('day', p.creation_date)::date,\n",
    "            COUNT(p.id)\n",
    "     FROM stackoverflow.posts p\n",
    "     WHERE user_id IN\n",
    "          (SELECT user_id\n",
    "           FROM stackoverflow.posts\n",
    "           WHERE DATE_TRUNC('month', creation_date)::date BETWEEN '2008-08-01' AND '2008-08-31'\n",
    "           GROUP BY user_id\n",
    "           HAVING COUNT(id) > 120)\n",
    "     GROUP BY p.user_id, DATE_TRUNC('day', p.creation_date)::date)\n",
    "SELECT d.user_id,\n",
    "       AVG(d.count)\n",
    "FROM x AS d\n",
    "WHERE DATE_TRUNC('month', d.date_trunc)::date BETWEEN '2008-08-01' AND '2008-08-31'\n",
    "GROUP BY 1\n",
    "ORDER BY 2;\n",
    "\n",
    "'''\n",
    "\n",
    "# выполните запрос\n",
    "posts_avg = pd.read_sql_query(query, con=engine) "
   ]
  },
  {
   "cell_type": "code",
   "execution_count": 20,
   "metadata": {
    "scrolled": true
   },
   "outputs": [
    {
     "data": {
      "text/html": [
       "<div>\n",
       "<style scoped>\n",
       "    .dataframe tbody tr th:only-of-type {\n",
       "        vertical-align: middle;\n",
       "    }\n",
       "\n",
       "    .dataframe tbody tr th {\n",
       "        vertical-align: top;\n",
       "    }\n",
       "\n",
       "    .dataframe thead th {\n",
       "        text-align: right;\n",
       "    }\n",
       "</style>\n",
       "<table border=\"1\" class=\"dataframe\">\n",
       "  <thead>\n",
       "    <tr style=\"text-align: right;\">\n",
       "      <th></th>\n",
       "      <th>user_id</th>\n",
       "      <th>avg</th>\n",
       "    </tr>\n",
       "  </thead>\n",
       "  <tbody>\n",
       "    <tr>\n",
       "      <th>0</th>\n",
       "      <td>116</td>\n",
       "      <td>4.777778</td>\n",
       "    </tr>\n",
       "    <tr>\n",
       "      <th>1</th>\n",
       "      <td>234</td>\n",
       "      <td>5.208333</td>\n",
       "    </tr>\n",
       "    <tr>\n",
       "      <th>2</th>\n",
       "      <td>91</td>\n",
       "      <td>5.681818</td>\n",
       "    </tr>\n",
       "    <tr>\n",
       "      <th>3</th>\n",
       "      <td>905</td>\n",
       "      <td>7.000000</td>\n",
       "    </tr>\n",
       "    <tr>\n",
       "      <th>4</th>\n",
       "      <td>383</td>\n",
       "      <td>7.277778</td>\n",
       "    </tr>\n",
       "  </tbody>\n",
       "</table>\n",
       "</div>"
      ],
      "text/plain": [
       "   user_id       avg\n",
       "0      116  4.777778\n",
       "1      234  5.208333\n",
       "2       91  5.681818\n",
       "3      905  7.000000\n",
       "4      383  7.277778"
      ]
     },
     "execution_count": 20,
     "metadata": {},
     "output_type": "execute_result"
    }
   ],
   "source": [
    "posts_avg"
   ]
  },
  {
   "cell_type": "markdown",
   "metadata": {
    "id": "EQ0dcFH4DWK5"
   },
   "source": [
    "# Задание 6"
   ]
  },
  {
   "cell_type": "markdown",
   "metadata": {
    "id": "c7flfg_hDWK5"
   },
   "source": [
    "Сколько в среднем дней в период с 1 по 7 декабря 2008 года пользователи взаимодействовали с платформой? Для каждого пользователя отберите дни, в которые он или она опубликовали хотя бы один пост. Нужно получить одно целое число — не забудьте округлить результат. "
   ]
  },
  {
   "cell_type": "markdown",
   "metadata": {
    "id": "RC1Ibzm9DWK6"
   },
   "source": [
    "| result |\n",
    "| -----  |\n",
    "| <целое число> |"
   ]
  },
  {
   "cell_type": "code",
   "execution_count": 21,
   "metadata": {
    "id": "kZ7LXTr6DWK6"
   },
   "outputs": [],
   "source": [
    "# напишите запрос\n",
    "query = '''\n",
    "WITH x AS\n",
    "    (SELECT user_id,\n",
    "             COUNT(DISTINCT creation_date::date)  AS cnt\n",
    "      FROM stackoverflow.posts\n",
    "      WHERE creation_date::date BETWEEN '2008-12-01' AND '2008-12-07' \n",
    "      GROUP BY user_id)\n",
    "SELECT ROUND(AVG(x.cnt)) AS result\n",
    "FROM x\n",
    "\n",
    "'''\n",
    "\n",
    "# выполните запрос\n",
    "avg = pd.read_sql_query(query, con=engine)"
   ]
  },
  {
   "cell_type": "code",
   "execution_count": 22,
   "metadata": {
    "scrolled": true
   },
   "outputs": [
    {
     "data": {
      "text/html": [
       "<div>\n",
       "<style scoped>\n",
       "    .dataframe tbody tr th:only-of-type {\n",
       "        vertical-align: middle;\n",
       "    }\n",
       "\n",
       "    .dataframe tbody tr th {\n",
       "        vertical-align: top;\n",
       "    }\n",
       "\n",
       "    .dataframe thead th {\n",
       "        text-align: right;\n",
       "    }\n",
       "</style>\n",
       "<table border=\"1\" class=\"dataframe\">\n",
       "  <thead>\n",
       "    <tr style=\"text-align: right;\">\n",
       "      <th></th>\n",
       "      <th>result</th>\n",
       "    </tr>\n",
       "  </thead>\n",
       "  <tbody>\n",
       "    <tr>\n",
       "      <th>0</th>\n",
       "      <td>2.0</td>\n",
       "    </tr>\n",
       "  </tbody>\n",
       "</table>\n",
       "</div>"
      ],
      "text/plain": [
       "   result\n",
       "0     2.0"
      ]
     },
     "execution_count": 22,
     "metadata": {},
     "output_type": "execute_result"
    }
   ],
   "source": [
    "avg"
   ]
  },
  {
   "cell_type": "markdown",
   "metadata": {
    "id": "UJFtNNggDWK7"
   },
   "source": [
    "Проанализируйте итоговую таблицу — какие выводы можно сделать?"
   ]
  },
  {
   "cell_type": "markdown",
   "metadata": {
    "id": "LfUuYz-1DWK8"
   },
   "source": [
    "В среднем 2 дня в период с 1 по 7 декабря 2008 года пользователи взаимодействовали с платформой"
   ]
  },
  {
   "cell_type": "markdown",
   "metadata": {
    "id": "wfOmqmfLDWK8"
   },
   "source": [
    "# Задание 7"
   ]
  },
  {
   "cell_type": "markdown",
   "metadata": {
    "id": "X4ARQimADWK9"
   },
   "source": [
    "Выведите историю активности каждого пользователя в таком виде: идентификатор пользователя, дата публикации поста. Отсортируйте вывод по возрастанию идентификаторов пользователей, а для каждого пользователя — по возрастанию даты публикации.\n",
    "\n",
    "Добавьте в таблицу новое поле: для каждого поста в нём будет указано название месяца предпоследней публикации пользователя относительно текущей. Если такой публикации нет, укажите `NULL`.  Python автоматически поменяет `NULL` на `None`, но дополнительно преобразовывать значения `None` вам не нужно.\n",
    "\n",
    "Посмотрите внимательно на образец таблицы: для первых двух постов предпоследней публикации нет, но, начиная с третьего поста, в новое поле входит нужный месяц. Для следующего пользователя в первые две записи поля `second_last_month` тоже войдёт `NULL`."
   ]
  },
  {
   "cell_type": "markdown",
   "metadata": {
    "id": "IGPjRP01DWK9"
   },
   "source": [
    "| user_id | creation_date | second_last_month |\n",
    "| ------- | ------------- | ----------------- |\n",
    "| 1       | 2008-07-31 23:41:00 | None |\n",
    "| 1       | 2008-07-31 23:55:38 | None |\n",
    "| 1       | 2008-07-31 23:56:41 | July |\n",
    "| 1       | 2008-08-04 02:45:08 | July |\n",
    "| 1       | 2008-08-04 04:31:03 | July |\n",
    "| 1       | 2008-08-04 08:04:42 | August |\n",
    "| ... | ... | ... |"
   ]
  },
  {
   "cell_type": "code",
   "execution_count": 23,
   "metadata": {
    "id": "HzI1vhaMDWK-"
   },
   "outputs": [],
   "source": [
    "# напишите запрос\n",
    "query = '''\n",
    "WITH x AS \n",
    "(SELECT user_id,\n",
    "       creation_date,\n",
    "       LAG(creation_date, 2) OVER(PARTITION BY user_id ORDER BY creation_date)::date AS lag\n",
    "FROM stackoverflow.posts\n",
    "ORDER BY user_id, creation_date)\n",
    "SELECT user_id,\n",
    "       creation_date,\n",
    "       TO_CHAR(lag, 'Month') AS second_last_month   \n",
    "FROM x\n",
    "'''\n",
    "\n",
    "# выполните запрос\n",
    "activity_history = pd.read_sql_query(query, con=engine)"
   ]
  },
  {
   "cell_type": "code",
   "execution_count": 24,
   "metadata": {},
   "outputs": [
    {
     "data": {
      "text/html": [
       "<div>\n",
       "<style scoped>\n",
       "    .dataframe tbody tr th:only-of-type {\n",
       "        vertical-align: middle;\n",
       "    }\n",
       "\n",
       "    .dataframe tbody tr th {\n",
       "        vertical-align: top;\n",
       "    }\n",
       "\n",
       "    .dataframe thead th {\n",
       "        text-align: right;\n",
       "    }\n",
       "</style>\n",
       "<table border=\"1\" class=\"dataframe\">\n",
       "  <thead>\n",
       "    <tr style=\"text-align: right;\">\n",
       "      <th></th>\n",
       "      <th>user_id</th>\n",
       "      <th>creation_date</th>\n",
       "      <th>second_last_month</th>\n",
       "    </tr>\n",
       "  </thead>\n",
       "  <tbody>\n",
       "    <tr>\n",
       "      <th>0</th>\n",
       "      <td>1</td>\n",
       "      <td>2008-07-31 23:41:00</td>\n",
       "      <td>None</td>\n",
       "    </tr>\n",
       "    <tr>\n",
       "      <th>1</th>\n",
       "      <td>1</td>\n",
       "      <td>2008-07-31 23:55:38</td>\n",
       "      <td>None</td>\n",
       "    </tr>\n",
       "    <tr>\n",
       "      <th>2</th>\n",
       "      <td>1</td>\n",
       "      <td>2008-07-31 23:56:41</td>\n",
       "      <td>July</td>\n",
       "    </tr>\n",
       "    <tr>\n",
       "      <th>3</th>\n",
       "      <td>1</td>\n",
       "      <td>2008-08-04 02:45:08</td>\n",
       "      <td>July</td>\n",
       "    </tr>\n",
       "    <tr>\n",
       "      <th>4</th>\n",
       "      <td>1</td>\n",
       "      <td>2008-08-04 04:31:03</td>\n",
       "      <td>July</td>\n",
       "    </tr>\n",
       "    <tr>\n",
       "      <th>...</th>\n",
       "      <td>...</td>\n",
       "      <td>...</td>\n",
       "      <td>...</td>\n",
       "    </tr>\n",
       "    <tr>\n",
       "      <th>243791</th>\n",
       "      <td>5696608</td>\n",
       "      <td>2008-12-23 16:00:37</td>\n",
       "      <td>December</td>\n",
       "    </tr>\n",
       "    <tr>\n",
       "      <th>243792</th>\n",
       "      <td>5696608</td>\n",
       "      <td>2008-12-23 17:35:09</td>\n",
       "      <td>December</td>\n",
       "    </tr>\n",
       "    <tr>\n",
       "      <th>243793</th>\n",
       "      <td>5696608</td>\n",
       "      <td>2008-12-24 01:02:48</td>\n",
       "      <td>December</td>\n",
       "    </tr>\n",
       "    <tr>\n",
       "      <th>243794</th>\n",
       "      <td>5696608</td>\n",
       "      <td>2008-12-30 14:34:45</td>\n",
       "      <td>December</td>\n",
       "    </tr>\n",
       "    <tr>\n",
       "      <th>243795</th>\n",
       "      <td>5696608</td>\n",
       "      <td>2008-12-30 16:32:12</td>\n",
       "      <td>December</td>\n",
       "    </tr>\n",
       "  </tbody>\n",
       "</table>\n",
       "<p>243796 rows × 3 columns</p>\n",
       "</div>"
      ],
      "text/plain": [
       "        user_id       creation_date second_last_month\n",
       "0             1 2008-07-31 23:41:00              None\n",
       "1             1 2008-07-31 23:55:38              None\n",
       "2             1 2008-07-31 23:56:41         July     \n",
       "3             1 2008-08-04 02:45:08         July     \n",
       "4             1 2008-08-04 04:31:03         July     \n",
       "...         ...                 ...               ...\n",
       "243791  5696608 2008-12-23 16:00:37         December \n",
       "243792  5696608 2008-12-23 17:35:09         December \n",
       "243793  5696608 2008-12-24 01:02:48         December \n",
       "243794  5696608 2008-12-30 14:34:45         December \n",
       "243795  5696608 2008-12-30 16:32:12         December \n",
       "\n",
       "[243796 rows x 3 columns]"
      ]
     },
     "execution_count": 24,
     "metadata": {},
     "output_type": "execute_result"
    }
   ],
   "source": [
    "activity_history"
   ]
  },
  {
   "cell_type": "markdown",
   "metadata": {
    "id": "tf9qq2yzDWK_"
   },
   "source": [
    "# Задание 8"
   ]
  },
  {
   "cell_type": "markdown",
   "metadata": {
    "id": "gfwLVXBYDWLA"
   },
   "source": [
    "Рассчитайте аналог Retention Rate по месяцам для пользователей StackOverflow. Объедините пользователей в когорты по месяцу их первого поста. Возвращение определяйте по наличию поста в текущем месяце. "
   ]
  },
  {
   "cell_type": "markdown",
   "metadata": {
    "id": "kN2ic39WlKpl"
   },
   "source": [
    "| cohort_dt | session_date | users_cnt | cohort_users_cnt | retention_rate |\n",
    "| --- | --- | --- | --- | --- |\n",
    "| 2008-07-01 00:00:00 | 2008-07-01 00:00:00 | 3 | 3 | 100 |\n",
    "| 2008-07-01 00:00:00 | 2008-08-01 00:00:00 | 2 | 3 | 66,67 |\n",
    "| 2008-07-01 00:00:00 | 2008-09-01 00:00:00 | 1 | 3 | 33,33 |\n",
    "| 2008-07-01 00:00:00 | 2008-10-01 00:00:00 | 2 | 3 | 66,67 |\n",
    "| 2008-07-01 00:00:00 | 2008-11-01 00:00:00 | 1 | 3 | 33,33 |\n",
    "| 2008-07-01 00:00:00 | 2008-12-01 00:00:00 | 2 | 3 | 66,67 |\n",
    "| 2008-08-01 00:00:00 | 2008-08-01 00:00:00 | 2151 | 2151 | 100 |\n",
    "| ... | ... | ... | ... | ... |"
   ]
  },
  {
   "cell_type": "code",
   "execution_count": 25,
   "metadata": {
    "id": "LUgFmwmTDWLB"
   },
   "outputs": [],
   "source": [
    "# напишите запрос\n",
    "query = '''\n",
    "WITH profile AS\n",
    "    (WITH x AS\n",
    "        (SELECT DISTINCT user_id,\n",
    "            FIRST_VALUE(DATE_TRUNC('month', creation_date)) OVER \n",
    "           (PARTITION BY user_id ORDER BY DATE_TRUNC('month', creation_date)) cohort_x\n",
    "        FROM stackoverflow.posts)\n",
    "SELECT *,\n",
    "      COUNT(user_id) OVER(PARTITION BY cohort_x) AS cohort_users_cnt\n",
    "FROM x),\n",
    "\n",
    "sessions AS\n",
    "    (SELECT user_id,\n",
    "            DATE_TRUNC('month', creation_date) AS session_date\n",
    "  FROM stackoverflow.posts\n",
    "  GROUP BY user_id, creation_date)\n",
    "\n",
    "SELECT p.cohort_x,\n",
    "       s.session_date,\n",
    "       COUNT(DISTINCT p.user_id) AS users_cnt,\n",
    "       p.cohort_users_cnt,\n",
    "       ROUND(COUNT(DISTINCT p.user_id) * 100.0 / p.cohort_users_cnt, 2) AS retention_rate\n",
    "FROM profile p\n",
    "JOIN sessions s ON p.user_id = s.user_id\n",
    "GROUP BY 1, 2, 4;\n",
    "'''\n",
    "\n",
    "# выполните запрос\n",
    "retention_rate = pd.read_sql_query(query, con=engine)"
   ]
  },
  {
   "cell_type": "code",
   "execution_count": 26,
   "metadata": {},
   "outputs": [
    {
     "data": {
      "text/html": [
       "<div>\n",
       "<style scoped>\n",
       "    .dataframe tbody tr th:only-of-type {\n",
       "        vertical-align: middle;\n",
       "    }\n",
       "\n",
       "    .dataframe tbody tr th {\n",
       "        vertical-align: top;\n",
       "    }\n",
       "\n",
       "    .dataframe thead th {\n",
       "        text-align: right;\n",
       "    }\n",
       "</style>\n",
       "<table border=\"1\" class=\"dataframe\">\n",
       "  <thead>\n",
       "    <tr style=\"text-align: right;\">\n",
       "      <th></th>\n",
       "      <th>cohort_x</th>\n",
       "      <th>session_date</th>\n",
       "      <th>users_cnt</th>\n",
       "      <th>cohort_users_cnt</th>\n",
       "      <th>retention_rate</th>\n",
       "    </tr>\n",
       "  </thead>\n",
       "  <tbody>\n",
       "    <tr>\n",
       "      <th>0</th>\n",
       "      <td>2008-07-01</td>\n",
       "      <td>2008-07-01</td>\n",
       "      <td>3</td>\n",
       "      <td>3</td>\n",
       "      <td>100.00</td>\n",
       "    </tr>\n",
       "    <tr>\n",
       "      <th>1</th>\n",
       "      <td>2008-07-01</td>\n",
       "      <td>2008-08-01</td>\n",
       "      <td>2</td>\n",
       "      <td>3</td>\n",
       "      <td>66.67</td>\n",
       "    </tr>\n",
       "    <tr>\n",
       "      <th>2</th>\n",
       "      <td>2008-07-01</td>\n",
       "      <td>2008-09-01</td>\n",
       "      <td>1</td>\n",
       "      <td>3</td>\n",
       "      <td>33.33</td>\n",
       "    </tr>\n",
       "    <tr>\n",
       "      <th>3</th>\n",
       "      <td>2008-07-01</td>\n",
       "      <td>2008-10-01</td>\n",
       "      <td>2</td>\n",
       "      <td>3</td>\n",
       "      <td>66.67</td>\n",
       "    </tr>\n",
       "    <tr>\n",
       "      <th>4</th>\n",
       "      <td>2008-07-01</td>\n",
       "      <td>2008-11-01</td>\n",
       "      <td>1</td>\n",
       "      <td>3</td>\n",
       "      <td>33.33</td>\n",
       "    </tr>\n",
       "    <tr>\n",
       "      <th>5</th>\n",
       "      <td>2008-07-01</td>\n",
       "      <td>2008-12-01</td>\n",
       "      <td>2</td>\n",
       "      <td>3</td>\n",
       "      <td>66.67</td>\n",
       "    </tr>\n",
       "    <tr>\n",
       "      <th>6</th>\n",
       "      <td>2008-08-01</td>\n",
       "      <td>2008-08-01</td>\n",
       "      <td>2151</td>\n",
       "      <td>2151</td>\n",
       "      <td>100.00</td>\n",
       "    </tr>\n",
       "    <tr>\n",
       "      <th>7</th>\n",
       "      <td>2008-08-01</td>\n",
       "      <td>2008-09-01</td>\n",
       "      <td>1571</td>\n",
       "      <td>2151</td>\n",
       "      <td>73.04</td>\n",
       "    </tr>\n",
       "    <tr>\n",
       "      <th>8</th>\n",
       "      <td>2008-08-01</td>\n",
       "      <td>2008-10-01</td>\n",
       "      <td>1275</td>\n",
       "      <td>2151</td>\n",
       "      <td>59.27</td>\n",
       "    </tr>\n",
       "    <tr>\n",
       "      <th>9</th>\n",
       "      <td>2008-08-01</td>\n",
       "      <td>2008-11-01</td>\n",
       "      <td>1050</td>\n",
       "      <td>2151</td>\n",
       "      <td>48.81</td>\n",
       "    </tr>\n",
       "    <tr>\n",
       "      <th>10</th>\n",
       "      <td>2008-08-01</td>\n",
       "      <td>2008-12-01</td>\n",
       "      <td>894</td>\n",
       "      <td>2151</td>\n",
       "      <td>41.56</td>\n",
       "    </tr>\n",
       "    <tr>\n",
       "      <th>11</th>\n",
       "      <td>2008-09-01</td>\n",
       "      <td>2008-09-01</td>\n",
       "      <td>7678</td>\n",
       "      <td>7678</td>\n",
       "      <td>100.00</td>\n",
       "    </tr>\n",
       "    <tr>\n",
       "      <th>12</th>\n",
       "      <td>2008-09-01</td>\n",
       "      <td>2008-10-01</td>\n",
       "      <td>4132</td>\n",
       "      <td>7678</td>\n",
       "      <td>53.82</td>\n",
       "    </tr>\n",
       "    <tr>\n",
       "      <th>13</th>\n",
       "      <td>2008-09-01</td>\n",
       "      <td>2008-11-01</td>\n",
       "      <td>2966</td>\n",
       "      <td>7678</td>\n",
       "      <td>38.63</td>\n",
       "    </tr>\n",
       "    <tr>\n",
       "      <th>14</th>\n",
       "      <td>2008-09-01</td>\n",
       "      <td>2008-12-01</td>\n",
       "      <td>2500</td>\n",
       "      <td>7678</td>\n",
       "      <td>32.56</td>\n",
       "    </tr>\n",
       "    <tr>\n",
       "      <th>15</th>\n",
       "      <td>2008-10-01</td>\n",
       "      <td>2008-10-01</td>\n",
       "      <td>3629</td>\n",
       "      <td>3629</td>\n",
       "      <td>100.00</td>\n",
       "    </tr>\n",
       "    <tr>\n",
       "      <th>16</th>\n",
       "      <td>2008-10-01</td>\n",
       "      <td>2008-11-01</td>\n",
       "      <td>1640</td>\n",
       "      <td>3629</td>\n",
       "      <td>45.19</td>\n",
       "    </tr>\n",
       "    <tr>\n",
       "      <th>17</th>\n",
       "      <td>2008-10-01</td>\n",
       "      <td>2008-12-01</td>\n",
       "      <td>1221</td>\n",
       "      <td>3629</td>\n",
       "      <td>33.65</td>\n",
       "    </tr>\n",
       "    <tr>\n",
       "      <th>18</th>\n",
       "      <td>2008-11-01</td>\n",
       "      <td>2008-11-01</td>\n",
       "      <td>2852</td>\n",
       "      <td>2852</td>\n",
       "      <td>100.00</td>\n",
       "    </tr>\n",
       "    <tr>\n",
       "      <th>19</th>\n",
       "      <td>2008-11-01</td>\n",
       "      <td>2008-12-01</td>\n",
       "      <td>1151</td>\n",
       "      <td>2852</td>\n",
       "      <td>40.36</td>\n",
       "    </tr>\n",
       "    <tr>\n",
       "      <th>20</th>\n",
       "      <td>2008-12-01</td>\n",
       "      <td>2008-12-01</td>\n",
       "      <td>2536</td>\n",
       "      <td>2536</td>\n",
       "      <td>100.00</td>\n",
       "    </tr>\n",
       "  </tbody>\n",
       "</table>\n",
       "</div>"
      ],
      "text/plain": [
       "     cohort_x session_date  users_cnt  cohort_users_cnt  retention_rate\n",
       "0  2008-07-01   2008-07-01          3                 3          100.00\n",
       "1  2008-07-01   2008-08-01          2                 3           66.67\n",
       "2  2008-07-01   2008-09-01          1                 3           33.33\n",
       "3  2008-07-01   2008-10-01          2                 3           66.67\n",
       "4  2008-07-01   2008-11-01          1                 3           33.33\n",
       "5  2008-07-01   2008-12-01          2                 3           66.67\n",
       "6  2008-08-01   2008-08-01       2151              2151          100.00\n",
       "7  2008-08-01   2008-09-01       1571              2151           73.04\n",
       "8  2008-08-01   2008-10-01       1275              2151           59.27\n",
       "9  2008-08-01   2008-11-01       1050              2151           48.81\n",
       "10 2008-08-01   2008-12-01        894              2151           41.56\n",
       "11 2008-09-01   2008-09-01       7678              7678          100.00\n",
       "12 2008-09-01   2008-10-01       4132              7678           53.82\n",
       "13 2008-09-01   2008-11-01       2966              7678           38.63\n",
       "14 2008-09-01   2008-12-01       2500              7678           32.56\n",
       "15 2008-10-01   2008-10-01       3629              3629          100.00\n",
       "16 2008-10-01   2008-11-01       1640              3629           45.19\n",
       "17 2008-10-01   2008-12-01       1221              3629           33.65\n",
       "18 2008-11-01   2008-11-01       2852              2852          100.00\n",
       "19 2008-11-01   2008-12-01       1151              2852           40.36\n",
       "20 2008-12-01   2008-12-01       2536              2536          100.00"
      ]
     },
     "execution_count": 26,
     "metadata": {},
     "output_type": "execute_result"
    }
   ],
   "source": [
    "retention_rate"
   ]
  },
  {
   "cell_type": "markdown",
   "metadata": {
    "id": "_msBtnb2DWLC"
   },
   "source": [
    "Постройте тепловую карту Retention Rate. Какие аномалии или другие необычные явления удалось выявить? Сформулируйте гипотезы о возможных причинах."
   ]
  },
  {
   "cell_type": "code",
   "execution_count": 27,
   "metadata": {},
   "outputs": [
    {
     "data": {
      "image/png": "[encoded data removed]",
      "text/plain": [
       "<Figure size 1000x1000 with 2 Axes>"
      ]
     },
     "metadata": {},
     "output_type": "display_data"
    }
   ],
   "source": [
    "retention = retention_rate.pivot('cohort_x', 'session_date', 'retention_rate')\n",
    "retention.index = [str(x)[0:10] for x in retention.index]\n",
    "retention.columns = [str(x)[0:10] for x in retention.columns]\n",
    "plt.figure(figsize=(10, 10)) \n",
    "sns.heatmap(retention, \n",
    "            annot=True,\n",
    "            cmap=\"BrBG\",\n",
    "            fmt='')\n",
    "plt.xlabel('месяц активности')\n",
    "plt.ylabel('месяц привлечения')\n",
    "plt.title('Тепловая карта по когортам') \n",
    "plt.show()"
   ]
  },
  {
   "cell_type": "markdown",
   "metadata": {
    "id": "EgOfIsI4DWLC"
   },
   "source": [
    "Опишите аномалии или другие необычные явления и сформулируйте гипотезы:\n",
    "    \n",
    "    1) для когорты от 01-07-2008 года удержание постоянно то увеличивается, то снижается. В когорту попало всего 3 пользователя - вероятно результаты не очень показательны;\n",
    "    2) для когорты от 01-08-2008 года и дальше удержание постепенно и постоянно снижается. \n",
    "\n",
    "Гипотеза: возможно, в это время появилось новое ПО, новая версия уже существующего ПО и кол-во запросов на StackOverflow увеличилось"
   ]
  },
  {
   "cell_type": "markdown",
   "metadata": {
    "id": "1k7oPWt5DWLK"
   },
   "source": [
    "# Задание 9\n"
   ]
  },
  {
   "cell_type": "markdown",
   "metadata": {
    "id": "ALsYVSyRDWLM"
   },
   "source": [
    "На сколько процентов менялось количество постов ежемесячно с 1 сентября по 31 декабря 2008 года? Отобразите таблицу со следующими полями:\n",
    "\n",
    "- номер месяца;\n",
    "- количество постов за месяц;\n",
    "- процент, который показывает, насколько изменилось количество постов в текущем месяце по сравнению с предыдущим.\n",
    "\n",
    "Если постов стало меньше, значение процента должно быть отрицательным, если больше — положительным. Округлите значение процента до двух знаков после запятой.\n",
    "\n",
    "Напомним, что при делении одного целого числа на другое в PostgreSQL в результате получится целое число, округлённое до ближайшего целого вниз. Чтобы этого избежать, переведите делимое в тип `numeric`."
   ]
  },
  {
   "cell_type": "markdown",
   "metadata": {
    "id": "u4E2zF8DDWLM"
   },
   "source": [
    "| creation_month | posts_count | percentage |\n",
    "| -------------- | ----------- | ---------- |\n",
    "| 9 | 70731 | Nan |\n",
    "| 10 | 63102 | -10.33 |\n",
    "| ... | ... | ... |"
   ]
  },
  {
   "cell_type": "code",
   "execution_count": 28,
   "metadata": {
    "id": "Mb5pShStDWLN"
   },
   "outputs": [],
   "source": [
    "# напишите запрос\n",
    "query = '''\n",
    "WITH x AS\n",
    "    (SELECT ROUND(EXTRACT(MONTH from creation_date::date)) AS creation_month,\n",
    "            COUNT(DISTINCT id)    \n",
    "     FROM stackoverflow.posts\n",
    "     WHERE creation_date::date BETWEEN '2008-09-01' AND '2008-12-31'\n",
    "     GROUP BY EXTRACT(MONTH from creation_date::date))\n",
    "\n",
    "SELECT *,\n",
    "       ROUND(((count::numeric / LAG(count) OVER (ORDER BY creation_month)) - 1) * 100,2) AS percentage\n",
    "FROM x;\n",
    "'''\n",
    "\n",
    "# выполните запрос\n",
    "percentage_difference = pd.read_sql_query(query, con=engine)"
   ]
  },
  {
   "cell_type": "code",
   "execution_count": 29,
   "metadata": {},
   "outputs": [
    {
     "data": {
      "text/html": [
       "<div>\n",
       "<style scoped>\n",
       "    .dataframe tbody tr th:only-of-type {\n",
       "        vertical-align: middle;\n",
       "    }\n",
       "\n",
       "    .dataframe tbody tr th {\n",
       "        vertical-align: top;\n",
       "    }\n",
       "\n",
       "    .dataframe thead th {\n",
       "        text-align: right;\n",
       "    }\n",
       "</style>\n",
       "<table border=\"1\" class=\"dataframe\">\n",
       "  <thead>\n",
       "    <tr style=\"text-align: right;\">\n",
       "      <th></th>\n",
       "      <th>creation_month</th>\n",
       "      <th>count</th>\n",
       "      <th>percentage</th>\n",
       "    </tr>\n",
       "  </thead>\n",
       "  <tbody>\n",
       "    <tr>\n",
       "      <th>0</th>\n",
       "      <td>9.0</td>\n",
       "      <td>70371</td>\n",
       "      <td>NaN</td>\n",
       "    </tr>\n",
       "    <tr>\n",
       "      <th>1</th>\n",
       "      <td>10.0</td>\n",
       "      <td>63102</td>\n",
       "      <td>-10.33</td>\n",
       "    </tr>\n",
       "    <tr>\n",
       "      <th>2</th>\n",
       "      <td>11.0</td>\n",
       "      <td>46975</td>\n",
       "      <td>-25.56</td>\n",
       "    </tr>\n",
       "    <tr>\n",
       "      <th>3</th>\n",
       "      <td>12.0</td>\n",
       "      <td>44592</td>\n",
       "      <td>-5.07</td>\n",
       "    </tr>\n",
       "  </tbody>\n",
       "</table>\n",
       "</div>"
      ],
      "text/plain": [
       "   creation_month  count  percentage\n",
       "0             9.0  70371         NaN\n",
       "1            10.0  63102      -10.33\n",
       "2            11.0  46975      -25.56\n",
       "3            12.0  44592       -5.07"
      ]
     },
     "execution_count": 29,
     "metadata": {},
     "output_type": "execute_result"
    }
   ],
   "source": [
    "percentage_difference"
   ]
  },
  {
   "cell_type": "code",
   "execution_count": 30,
   "metadata": {},
   "outputs": [
    {
     "data": {
      "image/png": "[encoded data removed]",
      "text/plain": [
       "<Figure size 640x480 with 1 Axes>"
      ]
     },
     "metadata": {},
     "output_type": "display_data"
    }
   ],
   "source": [
    "#строим piechart с количеством постов по месяцам\n",
    "plt.pie(percentage_difference['count'], labels = percentage_difference['creation_month'], autopct='%.0f%%')\n",
    "plt.show()"
   ]
  },
  {
   "cell_type": "markdown",
   "metadata": {
    "id": "uw7qMtafDWLP"
   },
   "source": [
    "# Задание 10"
   ]
  },
  {
   "cell_type": "markdown",
   "metadata": {
    "id": "oRBpWKx3DWLQ"
   },
   "source": [
    "Выгрузите данные активности пользователя, который опубликовал больше всего постов за всё время. Выведите данные за октябрь 2008 года в таком виде:\n",
    "\n",
    "- номер недели;\n",
    "- дата и время последнего поста, опубликованного на этой неделе."
   ]
  },
  {
   "cell_type": "markdown",
   "metadata": {
    "id": "XjAWSn_3DWLQ"
   },
   "source": [
    "| week_creation | creation_date |\n",
    "| ------------- | ------------- |\n",
    "| 40 | 2008-10-05 09:00:58 |\n",
    "| 41 | 2008-10-12 21:22:23 |\n",
    "| ... | ... |"
   ]
  },
  {
   "cell_type": "code",
   "execution_count": 31,
   "metadata": {
    "id": "r5F5fSkwDWLQ"
   },
   "outputs": [],
   "source": [
    "# напишите запрос\n",
    "query = '''\n",
    "WITH x AS\n",
    "    (SELECT user_id,\n",
    "            COUNT(DISTINCT id) AS cnt\n",
    "    FROM stackoverflow.posts\n",
    "    GROUP BY user_id\n",
    "    ORDER BY cnt DESC\n",
    "    LIMIT 1),\n",
    "\n",
    "     t AS\n",
    "     (SELECT p.user_id,\n",
    "             p.creation_date,\n",
    "             EXTRACT('week' from p.creation_date) AS week_number\n",
    "    FROM stackoverflow.posts AS p\n",
    "    JOIN x ON x.user_id = p.user_id\n",
    "    WHERE DATE_TRUNC('month', p.creation_date)::date BETWEEN '2008-10-01' AND '2008-10-31')\n",
    "\n",
    "SELECT DISTINCT week_number::numeric,\n",
    "       MAX(creation_date) OVER (PARTITION BY week_number) AS creation_date\n",
    "FROM t\n",
    "ORDER BY week_number;\n",
    "'''\n",
    "\n",
    "\n",
    "# выполните запрос\n",
    "user_activities = pd.read_sql_query(query, con=engine)"
   ]
  },
  {
   "cell_type": "code",
   "execution_count": 32,
   "metadata": {},
   "outputs": [
    {
     "data": {
      "text/html": [
       "<div>\n",
       "<style scoped>\n",
       "    .dataframe tbody tr th:only-of-type {\n",
       "        vertical-align: middle;\n",
       "    }\n",
       "\n",
       "    .dataframe tbody tr th {\n",
       "        vertical-align: top;\n",
       "    }\n",
       "\n",
       "    .dataframe thead th {\n",
       "        text-align: right;\n",
       "    }\n",
       "</style>\n",
       "<table border=\"1\" class=\"dataframe\">\n",
       "  <thead>\n",
       "    <tr style=\"text-align: right;\">\n",
       "      <th></th>\n",
       "      <th>week_number</th>\n",
       "      <th>creation_date</th>\n",
       "    </tr>\n",
       "  </thead>\n",
       "  <tbody>\n",
       "    <tr>\n",
       "      <th>0</th>\n",
       "      <td>40.0</td>\n",
       "      <td>2008-10-05 09:00:58</td>\n",
       "    </tr>\n",
       "    <tr>\n",
       "      <th>1</th>\n",
       "      <td>41.0</td>\n",
       "      <td>2008-10-12 21:22:23</td>\n",
       "    </tr>\n",
       "    <tr>\n",
       "      <th>2</th>\n",
       "      <td>42.0</td>\n",
       "      <td>2008-10-19 06:49:30</td>\n",
       "    </tr>\n",
       "    <tr>\n",
       "      <th>3</th>\n",
       "      <td>43.0</td>\n",
       "      <td>2008-10-26 21:44:36</td>\n",
       "    </tr>\n",
       "    <tr>\n",
       "      <th>4</th>\n",
       "      <td>44.0</td>\n",
       "      <td>2008-10-31 22:16:01</td>\n",
       "    </tr>\n",
       "  </tbody>\n",
       "</table>\n",
       "</div>"
      ],
      "text/plain": [
       "   week_number       creation_date\n",
       "0         40.0 2008-10-05 09:00:58\n",
       "1         41.0 2008-10-12 21:22:23\n",
       "2         42.0 2008-10-19 06:49:30\n",
       "3         43.0 2008-10-26 21:44:36\n",
       "4         44.0 2008-10-31 22:16:01"
      ]
     },
     "execution_count": 32,
     "metadata": {},
     "output_type": "execute_result"
    }
   ],
   "source": [
    "user_activities"
   ]
  }
 ],
 "metadata": {
  "ExecuteTimeLog": [
   {
    "duration": 9,
    "start_time": "2023-07-04T14:21:33.111Z"
   },
   {
    "duration": 64,
    "start_time": "2023-07-04T14:21:34.569Z"
   },
   {
    "duration": 1066,
    "start_time": "2023-07-04T14:21:49.669Z"
   },
   {
    "duration": 5,
    "start_time": "2023-07-04T14:21:50.737Z"
   },
   {
    "duration": 8087,
    "start_time": "2023-07-04T14:21:50.744Z"
   },
   {
    "duration": 346,
    "start_time": "2023-07-04T14:21:58.834Z"
   },
   {
    "duration": 14,
    "start_time": "2023-07-04T14:21:59.182Z"
   },
   {
    "duration": 2,
    "start_time": "2023-07-04T14:21:59.199Z"
   },
   {
    "duration": 4,
    "start_time": "2023-07-04T14:21:59.204Z"
   },
   {
    "duration": 5,
    "start_time": "2023-07-04T14:21:59.210Z"
   },
   {
    "duration": 7,
    "start_time": "2023-07-04T14:21:59.217Z"
   },
   {
    "duration": 5,
    "start_time": "2023-07-04T14:21:59.226Z"
   },
   {
    "duration": 5,
    "start_time": "2023-07-04T14:21:59.233Z"
   },
   {
    "duration": 25,
    "start_time": "2023-07-04T14:21:59.240Z"
   },
   {
    "duration": 3,
    "start_time": "2023-07-04T14:21:59.268Z"
   },
   {
    "duration": 4,
    "start_time": "2023-07-04T14:21:59.274Z"
   },
   {
    "duration": 6,
    "start_time": "2023-07-04T14:21:59.280Z"
   },
   {
    "duration": 10,
    "start_time": "2023-07-04T14:21:59.287Z"
   },
   {
    "duration": 7,
    "start_time": "2023-07-04T14:21:59.299Z"
   },
   {
    "duration": 7,
    "start_time": "2023-07-04T14:21:59.308Z"
   },
   {
    "duration": 15,
    "start_time": "2023-07-04T14:21:59.318Z"
   },
   {
    "duration": 8,
    "start_time": "2023-07-04T14:21:59.335Z"
   },
   {
    "duration": 30,
    "start_time": "2023-07-04T14:21:59.345Z"
   },
   {
    "duration": 8,
    "start_time": "2023-07-04T14:21:59.378Z"
   },
   {
    "duration": 3,
    "start_time": "2023-07-04T14:23:13.602Z"
   },
   {
    "duration": 100,
    "start_time": "2023-07-04T14:24:30.001Z"
   },
   {
    "duration": 7,
    "start_time": "2023-07-04T14:24:30.909Z"
   },
   {
    "duration": 247,
    "start_time": "2023-07-04T14:32:55.307Z"
   },
   {
    "duration": 1341,
    "start_time": "2023-07-04T14:33:29.871Z"
   },
   {
    "duration": 3,
    "start_time": "2023-07-04T14:33:31.215Z"
   },
   {
    "duration": 10968,
    "start_time": "2023-07-04T14:33:31.220Z"
   },
   {
    "duration": 314,
    "start_time": "2023-07-04T14:33:42.190Z"
   },
   {
    "duration": 14,
    "start_time": "2023-07-04T14:33:42.507Z"
   },
   {
    "duration": 100,
    "start_time": "2023-07-04T14:33:42.522Z"
   },
   {
    "duration": 7,
    "start_time": "2023-07-04T14:33:42.624Z"
   },
   {
    "duration": 202,
    "start_time": "2023-07-04T14:33:42.632Z"
   },
   {
    "duration": 2,
    "start_time": "2023-07-04T14:33:42.836Z"
   },
   {
    "duration": 10,
    "start_time": "2023-07-04T14:33:42.840Z"
   },
   {
    "duration": 36,
    "start_time": "2023-07-04T14:33:42.855Z"
   },
   {
    "duration": 6,
    "start_time": "2023-07-04T14:33:42.893Z"
   },
   {
    "duration": 11,
    "start_time": "2023-07-04T14:33:42.901Z"
   },
   {
    "duration": 6,
    "start_time": "2023-07-04T14:33:42.915Z"
   },
   {
    "duration": 6,
    "start_time": "2023-07-04T14:33:42.922Z"
   },
   {
    "duration": 6,
    "start_time": "2023-07-04T14:33:42.930Z"
   },
   {
    "duration": 6,
    "start_time": "2023-07-04T14:33:42.937Z"
   },
   {
    "duration": 30,
    "start_time": "2023-07-04T14:33:42.945Z"
   },
   {
    "duration": 10,
    "start_time": "2023-07-04T14:33:42.977Z"
   },
   {
    "duration": 7,
    "start_time": "2023-07-04T14:33:42.988Z"
   },
   {
    "duration": 7,
    "start_time": "2023-07-04T14:33:42.997Z"
   },
   {
    "duration": 9,
    "start_time": "2023-07-04T14:33:43.005Z"
   },
   {
    "duration": 8,
    "start_time": "2023-07-04T14:33:43.016Z"
   },
   {
    "duration": 6,
    "start_time": "2023-07-04T14:33:43.026Z"
   },
   {
    "duration": 198,
    "start_time": "2023-07-04T14:35:35.501Z"
   },
   {
    "duration": 202,
    "start_time": "2023-07-04T14:35:44.287Z"
   },
   {
    "duration": 156,
    "start_time": "2023-07-04T14:36:53.934Z"
   },
   {
    "duration": 336,
    "start_time": "2023-07-04T14:37:44.767Z"
   },
   {
    "duration": 212,
    "start_time": "2023-07-04T14:37:56.621Z"
   },
   {
    "duration": 198,
    "start_time": "2023-07-04T14:38:08.926Z"
   },
   {
    "duration": 189,
    "start_time": "2023-07-04T14:38:40.913Z"
   },
   {
    "duration": 1449,
    "start_time": "2023-07-04T14:50:54.193Z"
   },
   {
    "duration": 4,
    "start_time": "2023-07-04T14:50:55.644Z"
   },
   {
    "duration": 11636,
    "start_time": "2023-07-04T14:50:55.658Z"
   },
   {
    "duration": 309,
    "start_time": "2023-07-04T14:51:07.296Z"
   },
   {
    "duration": 23,
    "start_time": "2023-07-04T14:51:07.608Z"
   },
   {
    "duration": 100,
    "start_time": "2023-07-04T14:51:07.633Z"
   },
   {
    "duration": 10,
    "start_time": "2023-07-04T14:51:07.735Z"
   },
   {
    "duration": 400,
    "start_time": "2023-07-04T14:51:07.747Z"
   },
   {
    "duration": 265,
    "start_time": "2023-07-04T14:51:08.161Z"
   },
   {
    "duration": 0,
    "start_time": "2023-07-04T14:51:08.429Z"
   },
   {
    "duration": 0,
    "start_time": "2023-07-04T14:51:08.431Z"
   },
   {
    "duration": 0,
    "start_time": "2023-07-04T14:51:08.433Z"
   },
   {
    "duration": 0,
    "start_time": "2023-07-04T14:51:08.434Z"
   },
   {
    "duration": 0,
    "start_time": "2023-07-04T14:51:08.436Z"
   },
   {
    "duration": 0,
    "start_time": "2023-07-04T14:51:08.438Z"
   },
   {
    "duration": 0,
    "start_time": "2023-07-04T14:51:08.439Z"
   },
   {
    "duration": 0,
    "start_time": "2023-07-04T14:51:08.441Z"
   },
   {
    "duration": 0,
    "start_time": "2023-07-04T14:51:08.443Z"
   },
   {
    "duration": 0,
    "start_time": "2023-07-04T14:51:08.446Z"
   },
   {
    "duration": 0,
    "start_time": "2023-07-04T14:51:08.447Z"
   },
   {
    "duration": 0,
    "start_time": "2023-07-04T14:51:08.449Z"
   },
   {
    "duration": 0,
    "start_time": "2023-07-04T14:51:08.451Z"
   },
   {
    "duration": 0,
    "start_time": "2023-07-04T14:51:08.452Z"
   },
   {
    "duration": 1,
    "start_time": "2023-07-04T14:51:08.452Z"
   },
   {
    "duration": 256,
    "start_time": "2023-07-04T14:52:03.701Z"
   },
   {
    "duration": 252,
    "start_time": "2023-07-04T14:52:58.998Z"
   },
   {
    "duration": 11,
    "start_time": "2023-07-04T14:53:03.605Z"
   },
   {
    "duration": 150,
    "start_time": "2023-07-04T14:55:33.271Z"
   },
   {
    "duration": 128,
    "start_time": "2023-07-04T14:55:38.994Z"
   },
   {
    "duration": 264,
    "start_time": "2023-07-04T14:57:18.136Z"
   },
   {
    "duration": 14,
    "start_time": "2023-07-04T15:04:03.014Z"
   },
   {
    "duration": 223,
    "start_time": "2023-07-04T15:09:47.009Z"
   },
   {
    "duration": 195,
    "start_time": "2023-07-04T15:11:21.108Z"
   },
   {
    "duration": 170,
    "start_time": "2023-07-04T15:11:33.619Z"
   },
   {
    "duration": 140,
    "start_time": "2023-07-04T15:11:46.283Z"
   },
   {
    "duration": 131,
    "start_time": "2023-07-04T15:12:05.390Z"
   },
   {
    "duration": 1329,
    "start_time": "2023-07-04T15:19:02.019Z"
   },
   {
    "duration": 19,
    "start_time": "2023-07-04T15:19:03.352Z"
   },
   {
    "duration": 8302,
    "start_time": "2023-07-04T15:19:03.378Z"
   },
   {
    "duration": 268,
    "start_time": "2023-07-04T15:19:11.682Z"
   },
   {
    "duration": 19,
    "start_time": "2023-07-04T15:19:11.952Z"
   },
   {
    "duration": 117,
    "start_time": "2023-07-04T15:19:11.973Z"
   },
   {
    "duration": 7,
    "start_time": "2023-07-04T15:19:12.092Z"
   },
   {
    "duration": 339,
    "start_time": "2023-07-04T15:19:12.101Z"
   },
   {
    "duration": 265,
    "start_time": "2023-07-04T15:19:12.443Z"
   },
   {
    "duration": 12,
    "start_time": "2023-07-04T15:19:12.711Z"
   },
   {
    "duration": 208,
    "start_time": "2023-07-04T15:19:12.725Z"
   },
   {
    "duration": 29,
    "start_time": "2023-07-04T15:19:12.935Z"
   },
   {
    "duration": 127,
    "start_time": "2023-07-04T15:19:12.978Z"
   },
   {
    "duration": 2,
    "start_time": "2023-07-04T15:19:13.108Z"
   },
   {
    "duration": 7,
    "start_time": "2023-07-04T15:19:13.112Z"
   },
   {
    "duration": 5,
    "start_time": "2023-07-04T15:19:13.120Z"
   },
   {
    "duration": 9,
    "start_time": "2023-07-04T15:19:13.127Z"
   },
   {
    "duration": 8,
    "start_time": "2023-07-04T15:19:13.137Z"
   },
   {
    "duration": 32,
    "start_time": "2023-07-04T15:19:13.146Z"
   },
   {
    "duration": 8,
    "start_time": "2023-07-04T15:19:13.180Z"
   },
   {
    "duration": 10,
    "start_time": "2023-07-04T15:19:13.190Z"
   },
   {
    "duration": 5,
    "start_time": "2023-07-04T15:19:13.202Z"
   },
   {
    "duration": 6,
    "start_time": "2023-07-04T15:19:13.209Z"
   },
   {
    "duration": 5,
    "start_time": "2023-07-04T15:19:13.217Z"
   },
   {
    "duration": 11,
    "start_time": "2023-07-04T15:19:13.224Z"
   },
   {
    "duration": 12,
    "start_time": "2023-07-04T15:19:13.237Z"
   },
   {
    "duration": 159,
    "start_time": "2023-07-04T15:21:06.774Z"
   },
   {
    "duration": 8,
    "start_time": "2023-07-04T15:21:07.426Z"
   },
   {
    "duration": 1378,
    "start_time": "2023-07-04T15:21:51.038Z"
   },
   {
    "duration": 3,
    "start_time": "2023-07-04T15:21:52.419Z"
   },
   {
    "duration": 9282,
    "start_time": "2023-07-04T15:21:52.424Z"
   },
   {
    "duration": 280,
    "start_time": "2023-07-04T15:22:01.708Z"
   },
   {
    "duration": 15,
    "start_time": "2023-07-04T15:22:01.991Z"
   },
   {
    "duration": 118,
    "start_time": "2023-07-04T15:22:02.008Z"
   },
   {
    "duration": 7,
    "start_time": "2023-07-04T15:22:02.128Z"
   },
   {
    "duration": 397,
    "start_time": "2023-07-04T15:22:02.136Z"
   },
   {
    "duration": 255,
    "start_time": "2023-07-04T15:22:02.535Z"
   },
   {
    "duration": 10,
    "start_time": "2023-07-04T15:22:02.792Z"
   },
   {
    "duration": 210,
    "start_time": "2023-07-04T15:22:02.804Z"
   },
   {
    "duration": 11,
    "start_time": "2023-07-04T15:22:03.015Z"
   },
   {
    "duration": 153,
    "start_time": "2023-07-04T15:22:03.028Z"
   },
   {
    "duration": 157,
    "start_time": "2023-07-04T15:22:03.184Z"
   },
   {
    "duration": 7,
    "start_time": "2023-07-04T15:22:03.343Z"
   },
   {
    "duration": 42,
    "start_time": "2023-07-04T15:22:03.351Z"
   },
   {
    "duration": 122,
    "start_time": "2023-07-04T15:22:03.395Z"
   },
   {
    "duration": 3,
    "start_time": "2023-07-04T15:22:03.518Z"
   },
   {
    "duration": 41,
    "start_time": "2023-07-04T15:22:03.523Z"
   },
   {
    "duration": 12,
    "start_time": "2023-07-04T15:22:03.574Z"
   },
   {
    "duration": 8,
    "start_time": "2023-07-04T15:22:03.588Z"
   },
   {
    "duration": 8,
    "start_time": "2023-07-04T15:22:03.598Z"
   },
   {
    "duration": 7,
    "start_time": "2023-07-04T15:22:03.608Z"
   },
   {
    "duration": 6,
    "start_time": "2023-07-04T15:22:03.617Z"
   },
   {
    "duration": 8,
    "start_time": "2023-07-04T15:22:03.625Z"
   },
   {
    "duration": 5,
    "start_time": "2023-07-04T15:22:03.635Z"
   },
   {
    "duration": 5,
    "start_time": "2023-07-04T15:22:03.642Z"
   },
   {
    "duration": 30,
    "start_time": "2023-07-04T15:22:03.649Z"
   },
   {
    "duration": 7,
    "start_time": "2023-07-04T15:22:03.681Z"
   },
   {
    "duration": 408,
    "start_time": "2023-07-04T15:27:56.608Z"
   },
   {
    "duration": 1572,
    "start_time": "2023-07-05T16:13:17.118Z"
   },
   {
    "duration": 18,
    "start_time": "2023-07-05T16:13:18.692Z"
   },
   {
    "duration": 9359,
    "start_time": "2023-07-05T16:13:18.711Z"
   },
   {
    "duration": 256,
    "start_time": "2023-07-05T16:13:28.072Z"
   },
   {
    "duration": 18,
    "start_time": "2023-07-05T16:13:28.331Z"
   },
   {
    "duration": 100,
    "start_time": "2023-07-05T16:13:28.351Z"
   },
   {
    "duration": 7,
    "start_time": "2023-07-05T16:13:28.454Z"
   },
   {
    "duration": 327,
    "start_time": "2023-07-05T16:13:28.464Z"
   },
   {
    "duration": 249,
    "start_time": "2023-07-05T16:13:28.794Z"
   },
   {
    "duration": 10,
    "start_time": "2023-07-05T16:13:29.045Z"
   },
   {
    "duration": 215,
    "start_time": "2023-07-05T16:13:29.057Z"
   },
   {
    "duration": 12,
    "start_time": "2023-07-05T16:13:29.274Z"
   },
   {
    "duration": 127,
    "start_time": "2023-07-05T16:13:29.304Z"
   },
   {
    "duration": 155,
    "start_time": "2023-07-05T16:13:29.434Z"
   },
   {
    "duration": 8,
    "start_time": "2023-07-05T16:13:29.590Z"
   },
   {
    "duration": 65,
    "start_time": "2023-07-05T16:13:29.600Z"
   },
   {
    "duration": 312,
    "start_time": "2023-07-05T16:13:29.666Z"
   },
   {
    "duration": 212,
    "start_time": "2023-07-05T16:13:29.980Z"
   },
   {
    "duration": 1316,
    "start_time": "2023-07-05T16:13:30.194Z"
   },
   {
    "duration": 15,
    "start_time": "2023-07-05T16:13:31.511Z"
   },
   {
    "duration": 40,
    "start_time": "2023-07-05T16:13:31.528Z"
   },
   {
    "duration": 27,
    "start_time": "2023-07-05T16:13:31.570Z"
   },
   {
    "duration": 29,
    "start_time": "2023-07-05T16:13:31.599Z"
   },
   {
    "duration": 19,
    "start_time": "2023-07-05T16:13:31.629Z"
   },
   {
    "duration": 17,
    "start_time": "2023-07-05T16:13:31.650Z"
   },
   {
    "duration": 17,
    "start_time": "2023-07-05T16:13:31.669Z"
   },
   {
    "duration": 10,
    "start_time": "2023-07-05T16:13:31.688Z"
   },
   {
    "duration": 31,
    "start_time": "2023-07-05T16:13:31.700Z"
   },
   {
    "duration": 28,
    "start_time": "2023-07-05T16:13:31.732Z"
   },
   {
    "duration": 26,
    "start_time": "2023-07-05T16:13:31.762Z"
   },
   {
    "duration": 1332,
    "start_time": "2023-07-05T16:17:58.257Z"
   },
   {
    "duration": 24,
    "start_time": "2023-07-05T16:17:59.591Z"
   },
   {
    "duration": 73,
    "start_time": "2023-07-05T16:25:47.854Z"
   },
   {
    "duration": 18,
    "start_time": "2023-07-05T16:25:48.399Z"
   },
   {
    "duration": 1419,
    "start_time": "2023-07-05T16:31:04.588Z"
   },
   {
    "duration": 4,
    "start_time": "2023-07-05T16:31:06.009Z"
   },
   {
    "duration": 16839,
    "start_time": "2023-07-05T16:31:06.014Z"
   },
   {
    "duration": 209,
    "start_time": "2023-07-05T16:31:22.854Z"
   },
   {
    "duration": 15,
    "start_time": "2023-07-05T16:31:23.066Z"
   },
   {
    "duration": 112,
    "start_time": "2023-07-05T16:31:23.082Z"
   },
   {
    "duration": 7,
    "start_time": "2023-07-05T16:31:23.197Z"
   },
   {
    "duration": 330,
    "start_time": "2023-07-05T16:31:23.205Z"
   },
   {
    "duration": 251,
    "start_time": "2023-07-05T16:31:23.536Z"
   },
   {
    "duration": 10,
    "start_time": "2023-07-05T16:31:23.789Z"
   },
   {
    "duration": 216,
    "start_time": "2023-07-05T16:31:23.801Z"
   },
   {
    "duration": 11,
    "start_time": "2023-07-05T16:31:24.019Z"
   },
   {
    "duration": 134,
    "start_time": "2023-07-05T16:31:24.031Z"
   },
   {
    "duration": 162,
    "start_time": "2023-07-05T16:31:24.168Z"
   },
   {
    "duration": 7,
    "start_time": "2023-07-05T16:31:24.332Z"
   },
   {
    "duration": 12,
    "start_time": "2023-07-05T16:31:24.341Z"
   },
   {
    "duration": 296,
    "start_time": "2023-07-05T16:31:24.355Z"
   },
   {
    "duration": 196,
    "start_time": "2023-07-05T16:31:24.653Z"
   },
   {
    "duration": 1223,
    "start_time": "2023-07-05T16:31:24.851Z"
   },
   {
    "duration": 12,
    "start_time": "2023-07-05T16:31:26.075Z"
   },
   {
    "duration": 16,
    "start_time": "2023-07-05T16:31:26.088Z"
   },
   {
    "duration": 15,
    "start_time": "2023-07-05T16:31:26.105Z"
   },
   {
    "duration": 64,
    "start_time": "2023-07-05T16:31:26.122Z"
   },
   {
    "duration": 3,
    "start_time": "2023-07-05T16:31:26.187Z"
   },
   {
    "duration": 10,
    "start_time": "2023-07-05T16:31:26.191Z"
   },
   {
    "duration": 5,
    "start_time": "2023-07-05T16:31:26.202Z"
   },
   {
    "duration": 5,
    "start_time": "2023-07-05T16:31:26.208Z"
   },
   {
    "duration": 9,
    "start_time": "2023-07-05T16:31:26.215Z"
   },
   {
    "duration": 6,
    "start_time": "2023-07-05T16:31:26.225Z"
   },
   {
    "duration": 5,
    "start_time": "2023-07-05T16:31:26.232Z"
   },
   {
    "duration": 11,
    "start_time": "2023-07-05T16:31:26.239Z"
   },
   {
    "duration": 7,
    "start_time": "2023-07-05T16:31:40.624Z"
   },
   {
    "duration": 61,
    "start_time": "2023-07-05T16:31:52.179Z"
   },
   {
    "duration": 6,
    "start_time": "2023-07-05T16:31:52.678Z"
   },
   {
    "duration": 60,
    "start_time": "2023-07-05T16:33:28.766Z"
   },
   {
    "duration": 6,
    "start_time": "2023-07-05T16:33:29.410Z"
   },
   {
    "duration": 62,
    "start_time": "2023-07-05T16:34:06.039Z"
   },
   {
    "duration": 7,
    "start_time": "2023-07-05T16:34:06.688Z"
   },
   {
    "duration": 107,
    "start_time": "2023-07-05T16:51:30.201Z"
   },
   {
    "duration": 116,
    "start_time": "2023-07-05T16:51:31.938Z"
   },
   {
    "duration": 10,
    "start_time": "2023-07-05T16:51:32.439Z"
   },
   {
    "duration": 237,
    "start_time": "2023-07-05T16:51:53.479Z"
   },
   {
    "duration": 9,
    "start_time": "2023-07-05T16:51:54.503Z"
   },
   {
    "duration": 231,
    "start_time": "2023-07-05T16:52:14.044Z"
   },
   {
    "duration": 9,
    "start_time": "2023-07-05T16:52:14.586Z"
   },
   {
    "duration": 1346,
    "start_time": "2023-07-05T16:54:52.490Z"
   },
   {
    "duration": 6,
    "start_time": "2023-07-05T16:54:53.838Z"
   },
   {
    "duration": 13261,
    "start_time": "2023-07-05T16:54:53.846Z"
   },
   {
    "duration": 216,
    "start_time": "2023-07-05T16:55:07.110Z"
   },
   {
    "duration": 16,
    "start_time": "2023-07-05T16:55:07.328Z"
   },
   {
    "duration": 128,
    "start_time": "2023-07-05T16:55:07.347Z"
   },
   {
    "duration": 7,
    "start_time": "2023-07-05T16:55:07.477Z"
   },
   {
    "duration": 359,
    "start_time": "2023-07-05T16:55:07.485Z"
   },
   {
    "duration": 252,
    "start_time": "2023-07-05T16:55:07.846Z"
   },
   {
    "duration": 9,
    "start_time": "2023-07-05T16:55:08.101Z"
   },
   {
    "duration": 223,
    "start_time": "2023-07-05T16:55:08.111Z"
   },
   {
    "duration": 13,
    "start_time": "2023-07-05T16:55:08.336Z"
   },
   {
    "duration": 138,
    "start_time": "2023-07-05T16:55:08.350Z"
   },
   {
    "duration": 158,
    "start_time": "2023-07-05T16:55:08.490Z"
   },
   {
    "duration": 7,
    "start_time": "2023-07-05T16:55:08.650Z"
   },
   {
    "duration": 32,
    "start_time": "2023-07-05T16:55:08.660Z"
   },
   {
    "duration": 172,
    "start_time": "2023-07-05T16:55:08.695Z"
   },
   {
    "duration": 0,
    "start_time": "2023-07-05T16:55:08.869Z"
   },
   {
    "duration": 0,
    "start_time": "2023-07-05T16:55:08.870Z"
   },
   {
    "duration": 0,
    "start_time": "2023-07-05T16:55:08.871Z"
   },
   {
    "duration": 0,
    "start_time": "2023-07-05T16:55:08.873Z"
   },
   {
    "duration": 0,
    "start_time": "2023-07-05T16:55:08.874Z"
   },
   {
    "duration": 0,
    "start_time": "2023-07-05T16:55:08.875Z"
   },
   {
    "duration": 0,
    "start_time": "2023-07-05T16:55:08.876Z"
   },
   {
    "duration": 0,
    "start_time": "2023-07-05T16:55:08.878Z"
   },
   {
    "duration": 0,
    "start_time": "2023-07-05T16:55:08.879Z"
   },
   {
    "duration": 0,
    "start_time": "2023-07-05T16:55:08.881Z"
   },
   {
    "duration": 0,
    "start_time": "2023-07-05T16:55:08.881Z"
   },
   {
    "duration": 0,
    "start_time": "2023-07-05T16:55:08.882Z"
   },
   {
    "duration": 0,
    "start_time": "2023-07-05T16:55:08.902Z"
   },
   {
    "duration": 0,
    "start_time": "2023-07-05T16:55:08.903Z"
   },
   {
    "duration": 0,
    "start_time": "2023-07-05T16:55:08.904Z"
   },
   {
    "duration": 0,
    "start_time": "2023-07-05T16:55:08.906Z"
   },
   {
    "duration": 456,
    "start_time": "2023-07-05T16:55:53.755Z"
   },
   {
    "duration": 113,
    "start_time": "2023-07-05T16:55:54.939Z"
   },
   {
    "duration": 1364,
    "start_time": "2023-07-05T16:56:05.684Z"
   },
   {
    "duration": 13,
    "start_time": "2023-07-05T16:56:07.051Z"
   },
   {
    "duration": 61,
    "start_time": "2023-07-05T16:56:11.743Z"
   },
   {
    "duration": 7,
    "start_time": "2023-07-05T16:56:12.565Z"
   },
   {
    "duration": 169,
    "start_time": "2023-07-05T16:56:22.391Z"
   },
   {
    "duration": 9,
    "start_time": "2023-07-05T16:56:23.084Z"
   },
   {
    "duration": 228,
    "start_time": "2023-07-05T16:56:33.340Z"
   },
   {
    "duration": 11,
    "start_time": "2023-07-05T16:56:34.639Z"
   },
   {
    "duration": 141,
    "start_time": "2023-07-05T16:58:07.193Z"
   },
   {
    "duration": 9,
    "start_time": "2023-07-05T16:58:07.768Z"
   },
   {
    "duration": 176,
    "start_time": "2023-07-05T16:58:27.155Z"
   },
   {
    "duration": 10,
    "start_time": "2023-07-05T16:58:28.269Z"
   },
   {
    "duration": 1324,
    "start_time": "2023-07-05T16:58:45.098Z"
   },
   {
    "duration": 4,
    "start_time": "2023-07-05T16:58:46.423Z"
   },
   {
    "duration": 7072,
    "start_time": "2023-07-05T16:58:46.428Z"
   },
   {
    "duration": 217,
    "start_time": "2023-07-05T16:58:53.502Z"
   },
   {
    "duration": 17,
    "start_time": "2023-07-05T16:58:53.723Z"
   },
   {
    "duration": 97,
    "start_time": "2023-07-05T16:58:53.742Z"
   },
   {
    "duration": 9,
    "start_time": "2023-07-05T16:58:53.841Z"
   },
   {
    "duration": 375,
    "start_time": "2023-07-05T16:58:53.852Z"
   },
   {
    "duration": 258,
    "start_time": "2023-07-05T16:58:54.229Z"
   },
   {
    "duration": 11,
    "start_time": "2023-07-05T16:58:54.488Z"
   },
   {
    "duration": 193,
    "start_time": "2023-07-05T16:58:54.501Z"
   },
   {
    "duration": 13,
    "start_time": "2023-07-05T16:58:54.696Z"
   },
   {
    "duration": 126,
    "start_time": "2023-07-05T16:58:54.711Z"
   },
   {
    "duration": 156,
    "start_time": "2023-07-05T16:58:54.840Z"
   },
   {
    "duration": 7,
    "start_time": "2023-07-05T16:58:54.998Z"
   },
   {
    "duration": 22,
    "start_time": "2023-07-05T16:58:55.007Z"
   },
   {
    "duration": 336,
    "start_time": "2023-07-05T16:58:55.032Z"
   },
   {
    "duration": 215,
    "start_time": "2023-07-05T16:58:55.370Z"
   },
   {
    "duration": 1253,
    "start_time": "2023-07-05T16:58:55.587Z"
   },
   {
    "duration": 12,
    "start_time": "2023-07-05T16:58:56.842Z"
   },
   {
    "duration": 6,
    "start_time": "2023-07-05T16:58:56.855Z"
   },
   {
    "duration": 5,
    "start_time": "2023-07-05T16:58:56.863Z"
   },
   {
    "duration": 64,
    "start_time": "2023-07-05T16:58:56.870Z"
   },
   {
    "duration": 7,
    "start_time": "2023-07-05T16:58:56.935Z"
   },
   {
    "duration": 5,
    "start_time": "2023-07-05T16:58:56.943Z"
   },
   {
    "duration": 8,
    "start_time": "2023-07-05T16:58:56.950Z"
   },
   {
    "duration": 5,
    "start_time": "2023-07-05T16:58:56.960Z"
   },
   {
    "duration": 5,
    "start_time": "2023-07-05T16:58:56.966Z"
   },
   {
    "duration": 169,
    "start_time": "2023-07-05T16:58:56.973Z"
   },
   {
    "duration": 7,
    "start_time": "2023-07-05T16:58:57.144Z"
   },
   {
    "duration": 10,
    "start_time": "2023-07-05T16:58:57.153Z"
   },
   {
    "duration": 231,
    "start_time": "2023-07-05T16:58:57.165Z"
   },
   {
    "duration": 9,
    "start_time": "2023-07-05T16:58:57.397Z"
   },
   {
    "duration": 250,
    "start_time": "2023-07-05T17:01:36.242Z"
   },
   {
    "duration": 11,
    "start_time": "2023-07-05T17:01:52.109Z"
   },
   {
    "duration": 12,
    "start_time": "2023-07-05T17:01:58.015Z"
   },
   {
    "duration": 237,
    "start_time": "2023-07-05T17:02:04.635Z"
   },
   {
    "duration": 74,
    "start_time": "2023-07-05T17:05:24.643Z"
   },
   {
    "duration": 165,
    "start_time": "2023-07-05T17:06:49.431Z"
   },
   {
    "duration": 7,
    "start_time": "2023-07-05T17:06:50.341Z"
   },
   {
    "duration": 74,
    "start_time": "2023-07-05T17:06:52.937Z"
   },
   {
    "duration": 82,
    "start_time": "2023-07-05T17:09:55.261Z"
   },
   {
    "duration": 1333,
    "start_time": "2023-07-05T17:10:43.692Z"
   },
   {
    "duration": 4,
    "start_time": "2023-07-05T17:10:45.027Z"
   },
   {
    "duration": 14558,
    "start_time": "2023-07-05T17:10:45.032Z"
   },
   {
    "duration": 255,
    "start_time": "2023-07-05T17:10:59.593Z"
   },
   {
    "duration": 16,
    "start_time": "2023-07-05T17:10:59.850Z"
   },
   {
    "duration": 102,
    "start_time": "2023-07-05T17:10:59.867Z"
   },
   {
    "duration": 9,
    "start_time": "2023-07-05T17:10:59.971Z"
   },
   {
    "duration": 339,
    "start_time": "2023-07-05T17:10:59.982Z"
   },
   {
    "duration": 254,
    "start_time": "2023-07-05T17:11:00.323Z"
   },
   {
    "duration": 13,
    "start_time": "2023-07-05T17:11:00.582Z"
   },
   {
    "duration": 261,
    "start_time": "2023-07-05T17:11:00.597Z"
   },
   {
    "duration": 13,
    "start_time": "2023-07-05T17:11:00.860Z"
   },
   {
    "duration": 197,
    "start_time": "2023-07-05T17:11:00.874Z"
   },
   {
    "duration": 159,
    "start_time": "2023-07-05T17:11:01.073Z"
   },
   {
    "duration": 7,
    "start_time": "2023-07-05T17:11:01.234Z"
   },
   {
    "duration": 50,
    "start_time": "2023-07-05T17:11:01.243Z"
   },
   {
    "duration": 382,
    "start_time": "2023-07-05T17:11:01.295Z"
   },
   {
    "duration": 247,
    "start_time": "2023-07-05T17:11:01.679Z"
   },
   {
    "duration": 1311,
    "start_time": "2023-07-05T17:11:01.928Z"
   },
   {
    "duration": 13,
    "start_time": "2023-07-05T17:11:03.241Z"
   },
   {
    "duration": 13,
    "start_time": "2023-07-05T17:11:03.255Z"
   },
   {
    "duration": 13,
    "start_time": "2023-07-05T17:11:03.270Z"
   },
   {
    "duration": 82,
    "start_time": "2023-07-05T17:11:03.284Z"
   },
   {
    "duration": 9,
    "start_time": "2023-07-05T17:11:03.368Z"
   },
   {
    "duration": 10,
    "start_time": "2023-07-05T17:11:03.379Z"
   },
   {
    "duration": 20,
    "start_time": "2023-07-05T17:11:03.391Z"
   },
   {
    "duration": 17,
    "start_time": "2023-07-05T17:11:03.415Z"
   },
   {
    "duration": 3,
    "start_time": "2023-07-05T17:11:03.436Z"
   },
   {
    "duration": 192,
    "start_time": "2023-07-05T17:11:03.441Z"
   },
   {
    "duration": 11,
    "start_time": "2023-07-05T17:11:03.635Z"
   },
   {
    "duration": 102,
    "start_time": "2023-07-05T17:11:03.648Z"
   },
   {
    "duration": 227,
    "start_time": "2023-07-05T17:11:03.752Z"
   },
   {
    "duration": 9,
    "start_time": "2023-07-05T17:11:03.980Z"
   },
   {
    "duration": 993,
    "start_time": "2023-07-05T17:16:17.540Z"
   },
   {
    "duration": 0,
    "start_time": "2023-07-05T17:16:18.535Z"
   },
   {
    "duration": 376,
    "start_time": "2023-07-05T17:16:29.596Z"
   },
   {
    "duration": 296,
    "start_time": "2023-07-05T17:17:12.962Z"
   },
   {
    "duration": 135,
    "start_time": "2023-07-05T17:18:06.337Z"
   },
   {
    "duration": 11,
    "start_time": "2023-07-05T17:18:07.335Z"
   },
   {
    "duration": 213,
    "start_time": "2023-07-05T17:18:22.735Z"
   },
   {
    "duration": 337,
    "start_time": "2023-07-05T17:18:33.483Z"
   },
   {
    "duration": 235,
    "start_time": "2023-07-05T17:18:36.282Z"
   },
   {
    "duration": 85,
    "start_time": "2023-07-05T17:19:37.297Z"
   },
   {
    "duration": 9,
    "start_time": "2023-07-05T17:19:39.159Z"
   },
   {
    "duration": 151,
    "start_time": "2023-07-05T17:20:50.291Z"
   },
   {
    "duration": 92,
    "start_time": "2023-07-05T17:21:10.941Z"
   },
   {
    "duration": 518,
    "start_time": "2023-07-05T17:38:46.609Z"
   },
   {
    "duration": 10,
    "start_time": "2023-07-05T17:38:47.439Z"
   },
   {
    "duration": 68,
    "start_time": "2023-07-05T17:39:01.223Z"
   },
   {
    "duration": 9,
    "start_time": "2023-07-05T17:39:02.341Z"
   },
   {
    "duration": 86,
    "start_time": "2023-07-05T17:40:36.437Z"
   },
   {
    "duration": 7,
    "start_time": "2023-07-05T17:40:37.138Z"
   },
   {
    "duration": 111,
    "start_time": "2023-07-05T17:41:40.781Z"
   },
   {
    "duration": 10,
    "start_time": "2023-07-05T17:41:41.684Z"
   },
   {
    "duration": 1105,
    "start_time": "2023-07-05T17:43:15.924Z"
   },
   {
    "duration": 0,
    "start_time": "2023-07-05T17:43:17.031Z"
   },
   {
    "duration": 209,
    "start_time": "2023-07-05T17:43:30.732Z"
   },
   {
    "duration": 112,
    "start_time": "2023-07-05T17:43:49.656Z"
   },
   {
    "duration": 10,
    "start_time": "2023-07-05T17:43:50.555Z"
   },
   {
    "duration": 111,
    "start_time": "2023-07-05T17:44:08.075Z"
   },
   {
    "duration": 11,
    "start_time": "2023-07-05T17:44:08.786Z"
   },
   {
    "duration": 1301,
    "start_time": "2023-07-05T17:48:07.602Z"
   },
   {
    "duration": 13,
    "start_time": "2023-07-05T17:48:08.919Z"
   },
   {
    "duration": 1472,
    "start_time": "2023-07-05T17:48:34.672Z"
   },
   {
    "duration": 13,
    "start_time": "2023-07-05T17:48:36.147Z"
   },
   {
    "duration": 286,
    "start_time": "2023-07-05T17:48:57.857Z"
   },
   {
    "duration": 1600,
    "start_time": "2023-07-05T17:49:10.985Z"
   },
   {
    "duration": 23,
    "start_time": "2023-07-05T17:49:12.587Z"
   },
   {
    "duration": 1419,
    "start_time": "2023-07-05T17:50:46.160Z"
   },
   {
    "duration": 4,
    "start_time": "2023-07-05T17:50:47.581Z"
   },
   {
    "duration": 17712,
    "start_time": "2023-07-05T17:50:47.586Z"
   },
   {
    "duration": 266,
    "start_time": "2023-07-05T17:51:05.302Z"
   },
   {
    "duration": 20,
    "start_time": "2023-07-05T17:51:05.571Z"
   },
   {
    "duration": 128,
    "start_time": "2023-07-05T17:51:05.593Z"
   },
   {
    "duration": 8,
    "start_time": "2023-07-05T17:51:05.724Z"
   },
   {
    "duration": 371,
    "start_time": "2023-07-05T17:51:05.733Z"
   },
   {
    "duration": 266,
    "start_time": "2023-07-05T17:51:06.110Z"
   },
   {
    "duration": 11,
    "start_time": "2023-07-05T17:51:06.381Z"
   },
   {
    "duration": 255,
    "start_time": "2023-07-05T17:51:06.394Z"
   },
   {
    "duration": 17,
    "start_time": "2023-07-05T17:51:06.651Z"
   },
   {
    "duration": 176,
    "start_time": "2023-07-05T17:51:06.670Z"
   },
   {
    "duration": 175,
    "start_time": "2023-07-05T17:51:06.849Z"
   },
   {
    "duration": 10,
    "start_time": "2023-07-05T17:51:07.027Z"
   },
   {
    "duration": 23,
    "start_time": "2023-07-05T17:51:07.039Z"
   },
   {
    "duration": 461,
    "start_time": "2023-07-05T17:51:07.064Z"
   },
   {
    "duration": 221,
    "start_time": "2023-07-05T17:51:07.528Z"
   },
   {
    "duration": 1328,
    "start_time": "2023-07-05T17:51:07.751Z"
   },
   {
    "duration": 24,
    "start_time": "2023-07-05T17:51:09.081Z"
   },
   {
    "duration": 130,
    "start_time": "2023-07-05T17:51:09.113Z"
   },
   {
    "duration": 8,
    "start_time": "2023-07-05T17:51:09.245Z"
   },
   {
    "duration": 83,
    "start_time": "2023-07-05T17:51:09.255Z"
   },
   {
    "duration": 8,
    "start_time": "2023-07-05T17:51:09.340Z"
   },
   {
    "duration": 1556,
    "start_time": "2023-07-05T17:51:09.353Z"
   },
   {
    "duration": 20,
    "start_time": "2023-07-05T17:51:10.917Z"
   },
   {
    "duration": 583,
    "start_time": "2023-07-05T17:51:10.941Z"
   },
   {
    "duration": 15,
    "start_time": "2023-07-05T17:51:11.529Z"
   },
   {
    "duration": 18,
    "start_time": "2023-07-05T17:51:11.548Z"
   },
   {
    "duration": 54,
    "start_time": "2023-07-05T17:51:11.568Z"
   },
   {
    "duration": 205,
    "start_time": "2023-07-05T17:51:11.624Z"
   },
   {
    "duration": 13,
    "start_time": "2023-07-05T17:51:11.832Z"
   },
   {
    "duration": 159,
    "start_time": "2023-07-05T17:51:11.847Z"
   },
   {
    "duration": 239,
    "start_time": "2023-07-05T17:51:12.009Z"
   },
   {
    "duration": 16,
    "start_time": "2023-07-05T17:51:12.251Z"
   },
   {
    "duration": 157,
    "start_time": "2023-07-05T17:55:09.416Z"
   },
   {
    "duration": 9,
    "start_time": "2023-07-05T17:55:11.394Z"
   },
   {
    "duration": 67,
    "start_time": "2023-07-05T17:56:13.023Z"
   },
   {
    "duration": 1528,
    "start_time": "2023-07-05T17:57:01.856Z"
   },
   {
    "duration": 31,
    "start_time": "2023-07-05T17:57:03.386Z"
   },
   {
    "duration": 421,
    "start_time": "2023-07-05T17:59:05.299Z"
   },
   {
    "duration": 268,
    "start_time": "2023-07-05T18:00:49.859Z"
   },
   {
    "duration": 564,
    "start_time": "2023-07-05T18:01:41.470Z"
   },
   {
    "duration": 19,
    "start_time": "2023-07-05T18:01:42.242Z"
   },
   {
    "duration": 579,
    "start_time": "2023-07-05T18:03:56.380Z"
   },
   {
    "duration": 12,
    "start_time": "2023-07-05T18:03:57.475Z"
   },
   {
    "duration": 159,
    "start_time": "2023-07-05T18:04:28.967Z"
   },
   {
    "duration": 558,
    "start_time": "2023-07-05T18:04:38.924Z"
   },
   {
    "duration": 12,
    "start_time": "2023-07-05T18:04:40.330Z"
   },
   {
    "duration": 208,
    "start_time": "2023-07-05T18:09:05.701Z"
   },
   {
    "duration": 143,
    "start_time": "2023-07-05T18:09:55.250Z"
   },
   {
    "duration": 11448,
    "start_time": "2023-07-05T18:10:23.536Z"
   },
   {
    "duration": 40,
    "start_time": "2023-07-05T18:10:34.987Z"
   },
   {
    "duration": 392,
    "start_time": "2023-07-05T18:12:19.605Z"
   },
   {
    "duration": 411,
    "start_time": "2023-07-05T18:13:02.227Z"
   },
   {
    "duration": 326,
    "start_time": "2023-07-05T18:14:44.719Z"
   },
   {
    "duration": 1332,
    "start_time": "2023-07-05T19:38:00.757Z"
   },
   {
    "duration": 3,
    "start_time": "2023-07-05T19:38:02.091Z"
   },
   {
    "duration": 12879,
    "start_time": "2023-07-05T19:38:02.095Z"
   },
   {
    "duration": 61,
    "start_time": "2023-07-05T19:38:14.975Z"
   },
   {
    "duration": 15,
    "start_time": "2023-07-05T19:38:15.039Z"
   },
   {
    "duration": 99,
    "start_time": "2023-07-05T19:38:15.056Z"
   },
   {
    "duration": 8,
    "start_time": "2023-07-05T19:38:15.157Z"
   },
   {
    "duration": 338,
    "start_time": "2023-07-05T19:38:15.166Z"
   },
   {
    "duration": 208,
    "start_time": "2023-07-05T19:38:15.506Z"
   },
   {
    "duration": 10,
    "start_time": "2023-07-05T19:38:15.715Z"
   },
   {
    "duration": 184,
    "start_time": "2023-07-05T19:38:15.727Z"
   },
   {
    "duration": 12,
    "start_time": "2023-07-05T19:38:15.913Z"
   },
   {
    "duration": 136,
    "start_time": "2023-07-05T19:38:15.927Z"
   },
   {
    "duration": 126,
    "start_time": "2023-07-05T19:38:16.066Z"
   },
   {
    "duration": 7,
    "start_time": "2023-07-05T19:38:16.194Z"
   },
   {
    "duration": 12,
    "start_time": "2023-07-05T19:38:16.203Z"
   },
   {
    "duration": 316,
    "start_time": "2023-07-05T19:38:16.216Z"
   },
   {
    "duration": 202,
    "start_time": "2023-07-05T19:38:16.534Z"
   },
   {
    "duration": 1274,
    "start_time": "2023-07-05T19:38:16.738Z"
   },
   {
    "duration": 13,
    "start_time": "2023-07-05T19:38:18.014Z"
   },
   {
    "duration": 77,
    "start_time": "2023-07-05T19:38:18.028Z"
   },
   {
    "duration": 7,
    "start_time": "2023-07-05T19:38:18.107Z"
   },
   {
    "duration": 32,
    "start_time": "2023-07-05T19:38:18.115Z"
   },
   {
    "duration": 6,
    "start_time": "2023-07-05T19:38:18.149Z"
   },
   {
    "duration": 1275,
    "start_time": "2023-07-05T19:38:18.156Z"
   },
   {
    "duration": 11,
    "start_time": "2023-07-05T19:38:19.432Z"
   },
   {
    "duration": 10054,
    "start_time": "2023-07-05T19:38:19.454Z"
   },
   {
    "duration": 12,
    "start_time": "2023-07-05T19:38:29.510Z"
   },
   {
    "duration": 363,
    "start_time": "2023-07-05T19:38:29.523Z"
   },
   {
    "duration": 354,
    "start_time": "2023-07-05T19:38:29.888Z"
   },
   {
    "duration": 0,
    "start_time": "2023-07-05T19:38:30.244Z"
   },
   {
    "duration": 0,
    "start_time": "2023-07-05T19:38:30.245Z"
   },
   {
    "duration": 0,
    "start_time": "2023-07-05T19:38:30.246Z"
   },
   {
    "duration": 0,
    "start_time": "2023-07-05T19:38:30.254Z"
   },
   {
    "duration": 0,
    "start_time": "2023-07-05T19:38:30.255Z"
   },
   {
    "duration": 0,
    "start_time": "2023-07-05T19:38:30.256Z"
   },
   {
    "duration": 157,
    "start_time": "2023-07-05T19:44:29.856Z"
   },
   {
    "duration": 311,
    "start_time": "2023-07-05T19:44:47.616Z"
   },
   {
    "duration": 301,
    "start_time": "2023-07-05T19:45:20.704Z"
   },
   {
    "duration": 2232,
    "start_time": "2023-07-05T19:45:46.261Z"
   },
   {
    "duration": 296,
    "start_time": "2023-07-05T19:46:34.998Z"
   },
   {
    "duration": 189,
    "start_time": "2023-07-05T19:46:43.987Z"
   },
   {
    "duration": 407,
    "start_time": "2023-07-05T19:46:53.650Z"
   },
   {
    "duration": 1432,
    "start_time": "2023-07-07T06:45:07.626Z"
   },
   {
    "duration": 4,
    "start_time": "2023-07-07T06:45:09.060Z"
   },
   {
    "duration": 9873,
    "start_time": "2023-07-07T06:45:09.065Z"
   },
   {
    "duration": 238,
    "start_time": "2023-07-07T06:45:18.940Z"
   },
   {
    "duration": 65,
    "start_time": "2023-07-07T06:45:19.180Z"
   },
   {
    "duration": 122,
    "start_time": "2023-07-07T06:45:19.247Z"
   },
   {
    "duration": 6,
    "start_time": "2023-07-07T06:45:19.371Z"
   },
   {
    "duration": 350,
    "start_time": "2023-07-07T06:45:19.379Z"
   },
   {
    "duration": 211,
    "start_time": "2023-07-07T06:45:19.732Z"
   },
   {
    "duration": 10,
    "start_time": "2023-07-07T06:45:19.946Z"
   },
   {
    "duration": 185,
    "start_time": "2023-07-07T06:45:19.957Z"
   },
   {
    "duration": 12,
    "start_time": "2023-07-07T06:45:20.144Z"
   },
   {
    "duration": 125,
    "start_time": "2023-07-07T06:45:20.158Z"
   },
   {
    "duration": 122,
    "start_time": "2023-07-07T06:45:20.285Z"
   },
   {
    "duration": 7,
    "start_time": "2023-07-07T06:45:20.409Z"
   },
   {
    "duration": 17,
    "start_time": "2023-07-07T06:45:20.418Z"
   },
   {
    "duration": 298,
    "start_time": "2023-07-07T06:45:20.437Z"
   },
   {
    "duration": 182,
    "start_time": "2023-07-07T06:45:20.737Z"
   },
   {
    "duration": 1114,
    "start_time": "2023-07-07T06:45:20.921Z"
   },
   {
    "duration": 11,
    "start_time": "2023-07-07T06:45:22.037Z"
   },
   {
    "duration": 85,
    "start_time": "2023-07-07T06:45:22.049Z"
   },
   {
    "duration": 7,
    "start_time": "2023-07-07T06:45:22.135Z"
   },
   {
    "duration": 35,
    "start_time": "2023-07-07T06:45:22.143Z"
   },
   {
    "duration": 6,
    "start_time": "2023-07-07T06:45:22.180Z"
   },
   {
    "duration": 1197,
    "start_time": "2023-07-07T06:45:22.187Z"
   },
   {
    "duration": 12,
    "start_time": "2023-07-07T06:45:23.386Z"
   },
   {
    "duration": 9849,
    "start_time": "2023-07-07T06:45:23.413Z"
   },
   {
    "duration": 12,
    "start_time": "2023-07-07T06:45:33.266Z"
   },
   {
    "duration": 364,
    "start_time": "2023-07-07T06:45:33.280Z"
   },
   {
    "duration": 335,
    "start_time": "2023-07-07T06:45:33.646Z"
   },
   {
    "duration": 0,
    "start_time": "2023-07-07T06:45:33.983Z"
   },
   {
    "duration": 0,
    "start_time": "2023-07-07T06:45:33.984Z"
   },
   {
    "duration": 0,
    "start_time": "2023-07-07T06:45:33.986Z"
   },
   {
    "duration": 0,
    "start_time": "2023-07-07T06:45:33.987Z"
   },
   {
    "duration": 0,
    "start_time": "2023-07-07T06:45:33.988Z"
   },
   {
    "duration": 0,
    "start_time": "2023-07-07T06:45:33.989Z"
   },
   {
    "duration": 1030,
    "start_time": "2023-07-07T06:49:21.000Z"
   },
   {
    "duration": 11,
    "start_time": "2023-07-07T06:49:22.033Z"
   },
   {
    "duration": 195,
    "start_time": "2023-07-07T06:53:56.654Z"
   },
   {
    "duration": 152,
    "start_time": "2023-07-07T06:59:25.525Z"
   },
   {
    "duration": 19376,
    "start_time": "2023-07-07T07:00:06.581Z"
   },
   {
    "duration": 12,
    "start_time": "2023-07-07T07:00:25.959Z"
   },
   {
    "duration": 112,
    "start_time": "2023-07-07T07:04:51.204Z"
   },
   {
    "duration": 22763,
    "start_time": "2023-07-07T07:10:05.502Z"
   },
   {
    "duration": 138,
    "start_time": "2023-07-07T07:14:33.249Z"
   },
   {
    "duration": 277,
    "start_time": "2023-07-07T07:15:05.862Z"
   },
   {
    "duration": 14190,
    "start_time": "2023-07-07T07:15:25.948Z"
   },
   {
    "duration": 15,
    "start_time": "2023-07-07T07:15:40.140Z"
   },
   {
    "duration": 746,
    "start_time": "2023-07-07T07:38:51.535Z"
   },
   {
    "duration": 12,
    "start_time": "2023-07-07T07:38:52.655Z"
   },
   {
    "duration": 124,
    "start_time": "2023-07-07T07:39:34.924Z"
   },
   {
    "duration": 136,
    "start_time": "2023-07-07T07:39:52.521Z"
   },
   {
    "duration": 751,
    "start_time": "2023-07-07T07:40:32.036Z"
   },
   {
    "duration": 13,
    "start_time": "2023-07-07T07:40:32.981Z"
   },
   {
    "duration": 1484,
    "start_time": "2023-07-07T07:42:55.132Z"
   },
   {
    "duration": 452,
    "start_time": "2023-07-07T07:43:18.598Z"
   },
   {
    "duration": 418,
    "start_time": "2023-07-07T07:47:29.103Z"
   },
   {
    "duration": 434,
    "start_time": "2023-07-07T07:47:49.016Z"
   },
   {
    "duration": 421,
    "start_time": "2023-07-07T07:48:35.213Z"
   },
   {
    "duration": 412,
    "start_time": "2023-07-07T07:48:52.139Z"
   },
   {
    "duration": 1311,
    "start_time": "2023-07-07T08:02:34.455Z"
   },
   {
    "duration": 5,
    "start_time": "2023-07-07T08:02:35.768Z"
   },
   {
    "duration": 11759,
    "start_time": "2023-07-07T08:02:35.774Z"
   },
   {
    "duration": 44,
    "start_time": "2023-07-07T08:02:47.536Z"
   },
   {
    "duration": 17,
    "start_time": "2023-07-07T08:02:47.581Z"
   },
   {
    "duration": 84,
    "start_time": "2023-07-07T08:02:47.599Z"
   },
   {
    "duration": 8,
    "start_time": "2023-07-07T08:02:47.685Z"
   },
   {
    "duration": 381,
    "start_time": "2023-07-07T08:02:47.696Z"
   },
   {
    "duration": 217,
    "start_time": "2023-07-07T08:02:48.079Z"
   },
   {
    "duration": 13,
    "start_time": "2023-07-07T08:02:48.299Z"
   },
   {
    "duration": 219,
    "start_time": "2023-07-07T08:02:48.313Z"
   },
   {
    "duration": 13,
    "start_time": "2023-07-07T08:02:48.534Z"
   },
   {
    "duration": 155,
    "start_time": "2023-07-07T08:02:48.549Z"
   },
   {
    "duration": 127,
    "start_time": "2023-07-07T08:02:48.706Z"
   },
   {
    "duration": 9,
    "start_time": "2023-07-07T08:02:48.836Z"
   },
   {
    "duration": 29,
    "start_time": "2023-07-07T08:02:48.847Z"
   },
   {
    "duration": 332,
    "start_time": "2023-07-07T08:02:48.879Z"
   },
   {
    "duration": 218,
    "start_time": "2023-07-07T08:02:49.212Z"
   },
   {
    "duration": 1297,
    "start_time": "2023-07-07T08:02:49.432Z"
   },
   {
    "duration": 13,
    "start_time": "2023-07-07T08:02:50.731Z"
   },
   {
    "duration": 91,
    "start_time": "2023-07-07T08:02:50.746Z"
   },
   {
    "duration": 8,
    "start_time": "2023-07-07T08:02:50.839Z"
   },
   {
    "duration": 78,
    "start_time": "2023-07-07T08:02:50.849Z"
   },
   {
    "duration": 8,
    "start_time": "2023-07-07T08:02:50.928Z"
   },
   {
    "duration": 1414,
    "start_time": "2023-07-07T08:02:50.937Z"
   },
   {
    "duration": 13,
    "start_time": "2023-07-07T08:02:52.353Z"
   },
   {
    "duration": 781,
    "start_time": "2023-07-07T08:02:52.368Z"
   },
   {
    "duration": 19,
    "start_time": "2023-07-07T08:02:53.157Z"
   },
   {
    "duration": 484,
    "start_time": "2023-07-07T08:02:53.178Z"
   },
   {
    "duration": 139,
    "start_time": "2023-07-07T08:02:53.664Z"
   },
   {
    "duration": 10,
    "start_time": "2023-07-07T08:02:53.805Z"
   },
   {
    "duration": 109,
    "start_time": "2023-07-07T08:02:53.817Z"
   },
   {
    "duration": 188,
    "start_time": "2023-07-07T08:02:53.928Z"
   },
   {
    "duration": 10,
    "start_time": "2023-07-07T08:02:54.118Z"
   },
   {
    "duration": 1360,
    "start_time": "2023-07-07T08:54:51.395Z"
   },
   {
    "duration": 4,
    "start_time": "2023-07-07T08:54:52.757Z"
   },
   {
    "duration": 35492,
    "start_time": "2023-07-07T08:54:52.763Z"
   },
   {
    "duration": 213,
    "start_time": "2023-07-07T08:55:28.258Z"
   },
   {
    "duration": 15,
    "start_time": "2023-07-07T08:55:28.473Z"
   },
   {
    "duration": 106,
    "start_time": "2023-07-07T08:55:28.490Z"
   },
   {
    "duration": 7,
    "start_time": "2023-07-07T08:55:28.598Z"
   },
   {
    "duration": 307,
    "start_time": "2023-07-07T08:55:28.606Z"
   },
   {
    "duration": 246,
    "start_time": "2023-07-07T08:55:28.914Z"
   },
   {
    "duration": 9,
    "start_time": "2023-07-07T08:55:29.163Z"
   },
   {
    "duration": 202,
    "start_time": "2023-07-07T08:55:29.173Z"
   },
   {
    "duration": 12,
    "start_time": "2023-07-07T08:55:29.376Z"
   },
   {
    "duration": 118,
    "start_time": "2023-07-07T08:55:29.389Z"
   },
   {
    "duration": 161,
    "start_time": "2023-07-07T08:55:29.509Z"
   },
   {
    "duration": 6,
    "start_time": "2023-07-07T08:55:29.672Z"
   },
   {
    "duration": 14,
    "start_time": "2023-07-07T08:55:29.679Z"
   },
   {
    "duration": 268,
    "start_time": "2023-07-07T08:55:29.695Z"
   },
   {
    "duration": 194,
    "start_time": "2023-07-07T08:55:29.965Z"
   },
   {
    "duration": 1244,
    "start_time": "2023-07-07T08:55:30.161Z"
   },
   {
    "duration": 12,
    "start_time": "2023-07-07T08:55:31.406Z"
   },
   {
    "duration": 128,
    "start_time": "2023-07-07T08:55:31.420Z"
   },
   {
    "duration": 6,
    "start_time": "2023-07-07T08:55:31.550Z"
   },
   {
    "duration": 84,
    "start_time": "2023-07-07T08:55:31.558Z"
   },
   {
    "duration": 5,
    "start_time": "2023-07-07T08:55:31.644Z"
   },
   {
    "duration": 1374,
    "start_time": "2023-07-07T08:55:31.651Z"
   },
   {
    "duration": 10,
    "start_time": "2023-07-07T08:55:33.027Z"
   },
   {
    "duration": 829,
    "start_time": "2023-07-07T08:55:33.038Z"
   },
   {
    "duration": 13,
    "start_time": "2023-07-07T08:55:33.870Z"
   },
   {
    "duration": 458,
    "start_time": "2023-07-07T08:55:33.885Z"
   },
   {
    "duration": 168,
    "start_time": "2023-07-07T08:55:34.345Z"
   },
   {
    "duration": 7,
    "start_time": "2023-07-07T08:55:34.515Z"
   },
   {
    "duration": 75,
    "start_time": "2023-07-07T08:55:34.524Z"
   },
   {
    "duration": 223,
    "start_time": "2023-07-07T08:55:34.601Z"
   },
   {
    "duration": 8,
    "start_time": "2023-07-07T08:55:34.825Z"
   }
  ],
  "colab": {
   "provenance": []
  },
  "kernelspec": {
   "display_name": "Python 3 (ipykernel)",
   "language": "python",
   "name": "python3"
  },
  "language_info": {
   "codemirror_mode": {
    "name": "ipython",
    "version": 3
   },
   "file_extension": ".py",
   "mimetype": "text/x-python",
   "name": "python",
   "nbconvert_exporter": "python",
   "pygments_lexer": "ipython3",
   "version": "3.9.15"
  },
  "toc": {
   "base_numbering": 1,
   "nav_menu": {},
   "number_sections": true,
   "sideBar": true,
   "skip_h1_title": true,
   "title_cell": "Table of Contents",
   "title_sidebar": "Contents",
   "toc_cell": false,
   "toc_position": {
    "height": "calc(100% - 180px)",
    "left": "10px",
    "top": "150px",
    "width": "267.375px"
   },
   "toc_section_display": true,
   "toc_window_display": true
  }
 },
 "nbformat": 4,
 "nbformat_minor": 1
}
