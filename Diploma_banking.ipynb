{
 "cells": [
  {
   "cell_type": "markdown",
   "id": "49d90e40",
   "metadata": {},
   "source": [
    "<div class=\"alert alert-info\"> <b>Комментарии студента:</b> \n",
    "\n",
    "Ссылка на дашборд:\n",
    "https://public.tableau.com/app/profile/anastasia.peresypkina/viz/_17010185085250/Dashboard1?publish=yes\n",
    "</div>"
   ]
  },
  {
   "cell_type": "markdown",
   "id": "b19d9eb3-7eb9-4cda-ba0d-6a23baa2f9c2",
   "metadata": {},
   "source": [
    "<div style=\"border:solid green 2px; padding: 20px\">\n",
    "\n",
    "Описание проекта.\n",
    "    \n",
    "Задача: провести анализ оттока клиентов «Метанпромбанк»:\n",
    "1) Спрогнозировать вероятность оттока (на уровне следующего месяца) для каждого клиента;\n",
    "2) Сформировать типичные портреты клиентов: выделить несколько наиболее ярких групп и охарактеризовать их основные свойства;\n",
    "3) Проанализировать основные признаки, наиболее сильно влияющие на отток;\n",
    "4) Сформулировать основные выводы и разработать рекомендации по повышению качества работы с клиентами:\n",
    "    \n",
    "    4.1. Выделить целевые группы клиентов;\n",
    "    \n",
    "    4.2. Предложить меры по снижению оттока;\n",
    "    \n",
    "    4.3 Определить другие особенности взаимодействия с клиентами.\n",
    "\n",
    "Описание датасета bank_scrooge:\n",
    "- `USERID` — идентификатор пользователя,\n",
    "- `score` — баллы кредитного скоринга,\n",
    "- `city` — город,\n",
    "- `gender` — пол,\n",
    "- `age` — возраст,\n",
    "- `equity` — количество баллов собственности\n",
    "- `balance` — баланс на счёте,\n",
    "- `products` — количество продуктов, которыми пользуется клиент,\n",
    "- `credit_card` — есть ли кредитная карта,\n",
    "- `last_activity` — активный клиент,\n",
    "- `EST_SALARY` — оценочный доход клиента,\n",
    "- `сhurn` — признак оттока.ак оттока."
   ]
  },
  {
   "cell_type": "code",
   "execution_count": 1,
   "id": "d47c35e3-3f55-4f20-8011-fe194777ba14",
   "metadata": {
    "tags": []
   },
   "outputs": [],
   "source": [
    "#импорт библиотек\n",
    "import pandas as pd\n",
    "import numpy as np\n",
    "import seaborn as sns\n",
    "import matplotlib.pyplot as plt\n",
    "import plotly.express as px\n",
    "import math\n",
    "from scipy import stats as st\n",
    "from scipy.stats import shapiro # для проведения теста Шапиро - Уилка\n",
    "from scipy.stats import mannwhitneyu # для проведения теста Манна - Уитни\n",
    "from statsmodels.stats.proportion import proportions_ztest # для проведения z-теста\n",
    "from scipy. stats import lognorm\n",
    "import statsmodels.api as sm"
   ]
  },
  {
   "cell_type": "markdown",
   "id": "64fec6c6-ff5c-4d8a-bc9d-13d23c040e1d",
   "metadata": {},
   "source": [
    "## Предобработка данных"
   ]
  },
  {
   "cell_type": "code",
   "execution_count": 2,
   "id": "46930699-00f7-43f0-9f8b-e3bcb736d020",
   "metadata": {},
   "outputs": [
    {
     "ename": "HTTPError",
     "evalue": "HTTP Error 404: Not Found",
     "output_type": "error",
     "traceback": [
      "\u001b[1;31m---------------------------------------------------------------------------\u001b[0m",
      "\u001b[1;31mFileNotFoundError\u001b[0m                         Traceback (most recent call last)",
      "Cell \u001b[1;32mIn[2], line 3\u001b[0m\n\u001b[0;32m      2\u001b[0m \u001b[38;5;28;01mtry\u001b[39;00m:\n\u001b[1;32m----> 3\u001b[0m     bank_scrooge \u001b[38;5;241m=\u001b[39m pd\u001b[38;5;241m.\u001b[39mread_csv(\u001b[38;5;124m'\u001b[39m\u001b[38;5;124m/datasets/bank_scrooge.csv\u001b[39m\u001b[38;5;124m'\u001b[39m)\n\u001b[0;32m      4\u001b[0m \u001b[38;5;28;01mexcept\u001b[39;00m:\n",
      "File \u001b[1;32m~\\anaconda3\\Lib\\site-packages\\pandas\\util\\_decorators.py:211\u001b[0m, in \u001b[0;36mdeprecate_kwarg.<locals>._deprecate_kwarg.<locals>.wrapper\u001b[1;34m(*args, **kwargs)\u001b[0m\n\u001b[0;32m    210\u001b[0m         kwargs[new_arg_name] \u001b[38;5;241m=\u001b[39m new_arg_value\n\u001b[1;32m--> 211\u001b[0m \u001b[38;5;28;01mreturn\u001b[39;00m func(\u001b[38;5;241m*\u001b[39margs, \u001b[38;5;241m*\u001b[39m\u001b[38;5;241m*\u001b[39mkwargs)\n",
      "File \u001b[1;32m~\\anaconda3\\Lib\\site-packages\\pandas\\util\\_decorators.py:331\u001b[0m, in \u001b[0;36mdeprecate_nonkeyword_arguments.<locals>.decorate.<locals>.wrapper\u001b[1;34m(*args, **kwargs)\u001b[0m\n\u001b[0;32m    326\u001b[0m     warnings\u001b[38;5;241m.\u001b[39mwarn(\n\u001b[0;32m    327\u001b[0m         msg\u001b[38;5;241m.\u001b[39mformat(arguments\u001b[38;5;241m=\u001b[39m_format_argument_list(allow_args)),\n\u001b[0;32m    328\u001b[0m         \u001b[38;5;167;01mFutureWarning\u001b[39;00m,\n\u001b[0;32m    329\u001b[0m         stacklevel\u001b[38;5;241m=\u001b[39mfind_stack_level(),\n\u001b[0;32m    330\u001b[0m     )\n\u001b[1;32m--> 331\u001b[0m \u001b[38;5;28;01mreturn\u001b[39;00m func(\u001b[38;5;241m*\u001b[39margs, \u001b[38;5;241m*\u001b[39m\u001b[38;5;241m*\u001b[39mkwargs)\n",
      "File \u001b[1;32m~\\anaconda3\\Lib\\site-packages\\pandas\\io\\parsers\\readers.py:950\u001b[0m, in \u001b[0;36mread_csv\u001b[1;34m(filepath_or_buffer, sep, delimiter, header, names, index_col, usecols, squeeze, prefix, mangle_dupe_cols, dtype, engine, converters, true_values, false_values, skipinitialspace, skiprows, skipfooter, nrows, na_values, keep_default_na, na_filter, verbose, skip_blank_lines, parse_dates, infer_datetime_format, keep_date_col, date_parser, dayfirst, cache_dates, iterator, chunksize, compression, thousands, decimal, lineterminator, quotechar, quoting, doublequote, escapechar, comment, encoding, encoding_errors, dialect, error_bad_lines, warn_bad_lines, on_bad_lines, delim_whitespace, low_memory, memory_map, float_precision, storage_options)\u001b[0m\n\u001b[0;32m    948\u001b[0m kwds\u001b[38;5;241m.\u001b[39mupdate(kwds_defaults)\n\u001b[1;32m--> 950\u001b[0m \u001b[38;5;28;01mreturn\u001b[39;00m _read(filepath_or_buffer, kwds)\n",
      "File \u001b[1;32m~\\anaconda3\\Lib\\site-packages\\pandas\\io\\parsers\\readers.py:605\u001b[0m, in \u001b[0;36m_read\u001b[1;34m(filepath_or_buffer, kwds)\u001b[0m\n\u001b[0;32m    604\u001b[0m \u001b[38;5;66;03m# Create the parser.\u001b[39;00m\n\u001b[1;32m--> 605\u001b[0m parser \u001b[38;5;241m=\u001b[39m TextFileReader(filepath_or_buffer, \u001b[38;5;241m*\u001b[39m\u001b[38;5;241m*\u001b[39mkwds)\n\u001b[0;32m    607\u001b[0m \u001b[38;5;28;01mif\u001b[39;00m chunksize \u001b[38;5;129;01mor\u001b[39;00m iterator:\n",
      "File \u001b[1;32m~\\anaconda3\\Lib\\site-packages\\pandas\\io\\parsers\\readers.py:1442\u001b[0m, in \u001b[0;36mTextFileReader.__init__\u001b[1;34m(self, f, engine, **kwds)\u001b[0m\n\u001b[0;32m   1441\u001b[0m \u001b[38;5;28mself\u001b[39m\u001b[38;5;241m.\u001b[39mhandles: IOHandles \u001b[38;5;241m|\u001b[39m \u001b[38;5;28;01mNone\u001b[39;00m \u001b[38;5;241m=\u001b[39m \u001b[38;5;28;01mNone\u001b[39;00m\n\u001b[1;32m-> 1442\u001b[0m \u001b[38;5;28mself\u001b[39m\u001b[38;5;241m.\u001b[39m_engine \u001b[38;5;241m=\u001b[39m \u001b[38;5;28mself\u001b[39m\u001b[38;5;241m.\u001b[39m_make_engine(f, \u001b[38;5;28mself\u001b[39m\u001b[38;5;241m.\u001b[39mengine)\n",
      "File \u001b[1;32m~\\anaconda3\\Lib\\site-packages\\pandas\\io\\parsers\\readers.py:1735\u001b[0m, in \u001b[0;36mTextFileReader._make_engine\u001b[1;34m(self, f, engine)\u001b[0m\n\u001b[0;32m   1734\u001b[0m         mode \u001b[38;5;241m+\u001b[39m\u001b[38;5;241m=\u001b[39m \u001b[38;5;124m\"\u001b[39m\u001b[38;5;124mb\u001b[39m\u001b[38;5;124m\"\u001b[39m\n\u001b[1;32m-> 1735\u001b[0m \u001b[38;5;28mself\u001b[39m\u001b[38;5;241m.\u001b[39mhandles \u001b[38;5;241m=\u001b[39m get_handle(\n\u001b[0;32m   1736\u001b[0m     f,\n\u001b[0;32m   1737\u001b[0m     mode,\n\u001b[0;32m   1738\u001b[0m     encoding\u001b[38;5;241m=\u001b[39m\u001b[38;5;28mself\u001b[39m\u001b[38;5;241m.\u001b[39moptions\u001b[38;5;241m.\u001b[39mget(\u001b[38;5;124m\"\u001b[39m\u001b[38;5;124mencoding\u001b[39m\u001b[38;5;124m\"\u001b[39m, \u001b[38;5;28;01mNone\u001b[39;00m),\n\u001b[0;32m   1739\u001b[0m     compression\u001b[38;5;241m=\u001b[39m\u001b[38;5;28mself\u001b[39m\u001b[38;5;241m.\u001b[39moptions\u001b[38;5;241m.\u001b[39mget(\u001b[38;5;124m\"\u001b[39m\u001b[38;5;124mcompression\u001b[39m\u001b[38;5;124m\"\u001b[39m, \u001b[38;5;28;01mNone\u001b[39;00m),\n\u001b[0;32m   1740\u001b[0m     memory_map\u001b[38;5;241m=\u001b[39m\u001b[38;5;28mself\u001b[39m\u001b[38;5;241m.\u001b[39moptions\u001b[38;5;241m.\u001b[39mget(\u001b[38;5;124m\"\u001b[39m\u001b[38;5;124mmemory_map\u001b[39m\u001b[38;5;124m\"\u001b[39m, \u001b[38;5;28;01mFalse\u001b[39;00m),\n\u001b[0;32m   1741\u001b[0m     is_text\u001b[38;5;241m=\u001b[39mis_text,\n\u001b[0;32m   1742\u001b[0m     errors\u001b[38;5;241m=\u001b[39m\u001b[38;5;28mself\u001b[39m\u001b[38;5;241m.\u001b[39moptions\u001b[38;5;241m.\u001b[39mget(\u001b[38;5;124m\"\u001b[39m\u001b[38;5;124mencoding_errors\u001b[39m\u001b[38;5;124m\"\u001b[39m, \u001b[38;5;124m\"\u001b[39m\u001b[38;5;124mstrict\u001b[39m\u001b[38;5;124m\"\u001b[39m),\n\u001b[0;32m   1743\u001b[0m     storage_options\u001b[38;5;241m=\u001b[39m\u001b[38;5;28mself\u001b[39m\u001b[38;5;241m.\u001b[39moptions\u001b[38;5;241m.\u001b[39mget(\u001b[38;5;124m\"\u001b[39m\u001b[38;5;124mstorage_options\u001b[39m\u001b[38;5;124m\"\u001b[39m, \u001b[38;5;28;01mNone\u001b[39;00m),\n\u001b[0;32m   1744\u001b[0m )\n\u001b[0;32m   1745\u001b[0m \u001b[38;5;28;01massert\u001b[39;00m \u001b[38;5;28mself\u001b[39m\u001b[38;5;241m.\u001b[39mhandles \u001b[38;5;129;01mis\u001b[39;00m \u001b[38;5;129;01mnot\u001b[39;00m \u001b[38;5;28;01mNone\u001b[39;00m\n",
      "File \u001b[1;32m~\\anaconda3\\Lib\\site-packages\\pandas\\io\\common.py:856\u001b[0m, in \u001b[0;36mget_handle\u001b[1;34m(path_or_buf, mode, encoding, compression, memory_map, is_text, errors, storage_options)\u001b[0m\n\u001b[0;32m    854\u001b[0m \u001b[38;5;28;01mif\u001b[39;00m ioargs\u001b[38;5;241m.\u001b[39mencoding \u001b[38;5;129;01mand\u001b[39;00m \u001b[38;5;124m\"\u001b[39m\u001b[38;5;124mb\u001b[39m\u001b[38;5;124m\"\u001b[39m \u001b[38;5;129;01mnot\u001b[39;00m \u001b[38;5;129;01min\u001b[39;00m ioargs\u001b[38;5;241m.\u001b[39mmode:\n\u001b[0;32m    855\u001b[0m     \u001b[38;5;66;03m# Encoding\u001b[39;00m\n\u001b[1;32m--> 856\u001b[0m     handle \u001b[38;5;241m=\u001b[39m \u001b[38;5;28mopen\u001b[39m(\n\u001b[0;32m    857\u001b[0m         handle,\n\u001b[0;32m    858\u001b[0m         ioargs\u001b[38;5;241m.\u001b[39mmode,\n\u001b[0;32m    859\u001b[0m         encoding\u001b[38;5;241m=\u001b[39mioargs\u001b[38;5;241m.\u001b[39mencoding,\n\u001b[0;32m    860\u001b[0m         errors\u001b[38;5;241m=\u001b[39merrors,\n\u001b[0;32m    861\u001b[0m         newline\u001b[38;5;241m=\u001b[39m\u001b[38;5;124m\"\u001b[39m\u001b[38;5;124m\"\u001b[39m,\n\u001b[0;32m    862\u001b[0m     )\n\u001b[0;32m    863\u001b[0m \u001b[38;5;28;01melse\u001b[39;00m:\n\u001b[0;32m    864\u001b[0m     \u001b[38;5;66;03m# Binary mode\u001b[39;00m\n",
      "\u001b[1;31mFileNotFoundError\u001b[0m: [Errno 2] No such file or directory: '/datasets/bank_scrooge.csv'",
      "\nDuring handling of the above exception, another exception occurred:\n",
      "\u001b[1;31mHTTPError\u001b[0m                                 Traceback (most recent call last)",
      "Cell \u001b[1;32mIn[2], line 5\u001b[0m\n\u001b[0;32m      3\u001b[0m     bank_scrooge \u001b[38;5;241m=\u001b[39m pd\u001b[38;5;241m.\u001b[39mread_csv(\u001b[38;5;124m'\u001b[39m\u001b[38;5;124m/datasets/bank_scrooge.csv\u001b[39m\u001b[38;5;124m'\u001b[39m)\n\u001b[0;32m      4\u001b[0m \u001b[38;5;28;01mexcept\u001b[39;00m:\n\u001b[1;32m----> 5\u001b[0m     data \u001b[38;5;241m=\u001b[39m pd\u001b[38;5;241m.\u001b[39mread_csv(\u001b[38;5;124m'\u001b[39m\u001b[38;5;124mhttps://code.s3.yandex.net/bank_scrooge.csv\u001b[39m\u001b[38;5;124m'\u001b[39m)\n",
      "File \u001b[1;32m~\\anaconda3\\Lib\\site-packages\\pandas\\util\\_decorators.py:211\u001b[0m, in \u001b[0;36mdeprecate_kwarg.<locals>._deprecate_kwarg.<locals>.wrapper\u001b[1;34m(*args, **kwargs)\u001b[0m\n\u001b[0;32m    209\u001b[0m     \u001b[38;5;28;01melse\u001b[39;00m:\n\u001b[0;32m    210\u001b[0m         kwargs[new_arg_name] \u001b[38;5;241m=\u001b[39m new_arg_value\n\u001b[1;32m--> 211\u001b[0m \u001b[38;5;28;01mreturn\u001b[39;00m func(\u001b[38;5;241m*\u001b[39margs, \u001b[38;5;241m*\u001b[39m\u001b[38;5;241m*\u001b[39mkwargs)\n",
      "File \u001b[1;32m~\\anaconda3\\Lib\\site-packages\\pandas\\util\\_decorators.py:331\u001b[0m, in \u001b[0;36mdeprecate_nonkeyword_arguments.<locals>.decorate.<locals>.wrapper\u001b[1;34m(*args, **kwargs)\u001b[0m\n\u001b[0;32m    325\u001b[0m \u001b[38;5;28;01mif\u001b[39;00m \u001b[38;5;28mlen\u001b[39m(args) \u001b[38;5;241m>\u001b[39m num_allow_args:\n\u001b[0;32m    326\u001b[0m     warnings\u001b[38;5;241m.\u001b[39mwarn(\n\u001b[0;32m    327\u001b[0m         msg\u001b[38;5;241m.\u001b[39mformat(arguments\u001b[38;5;241m=\u001b[39m_format_argument_list(allow_args)),\n\u001b[0;32m    328\u001b[0m         \u001b[38;5;167;01mFutureWarning\u001b[39;00m,\n\u001b[0;32m    329\u001b[0m         stacklevel\u001b[38;5;241m=\u001b[39mfind_stack_level(),\n\u001b[0;32m    330\u001b[0m     )\n\u001b[1;32m--> 331\u001b[0m \u001b[38;5;28;01mreturn\u001b[39;00m func(\u001b[38;5;241m*\u001b[39margs, \u001b[38;5;241m*\u001b[39m\u001b[38;5;241m*\u001b[39mkwargs)\n",
      "File \u001b[1;32m~\\anaconda3\\Lib\\site-packages\\pandas\\io\\parsers\\readers.py:950\u001b[0m, in \u001b[0;36mread_csv\u001b[1;34m(filepath_or_buffer, sep, delimiter, header, names, index_col, usecols, squeeze, prefix, mangle_dupe_cols, dtype, engine, converters, true_values, false_values, skipinitialspace, skiprows, skipfooter, nrows, na_values, keep_default_na, na_filter, verbose, skip_blank_lines, parse_dates, infer_datetime_format, keep_date_col, date_parser, dayfirst, cache_dates, iterator, chunksize, compression, thousands, decimal, lineterminator, quotechar, quoting, doublequote, escapechar, comment, encoding, encoding_errors, dialect, error_bad_lines, warn_bad_lines, on_bad_lines, delim_whitespace, low_memory, memory_map, float_precision, storage_options)\u001b[0m\n\u001b[0;32m    935\u001b[0m kwds_defaults \u001b[38;5;241m=\u001b[39m _refine_defaults_read(\n\u001b[0;32m    936\u001b[0m     dialect,\n\u001b[0;32m    937\u001b[0m     delimiter,\n\u001b[1;32m   (...)\u001b[0m\n\u001b[0;32m    946\u001b[0m     defaults\u001b[38;5;241m=\u001b[39m{\u001b[38;5;124m\"\u001b[39m\u001b[38;5;124mdelimiter\u001b[39m\u001b[38;5;124m\"\u001b[39m: \u001b[38;5;124m\"\u001b[39m\u001b[38;5;124m,\u001b[39m\u001b[38;5;124m\"\u001b[39m},\n\u001b[0;32m    947\u001b[0m )\n\u001b[0;32m    948\u001b[0m kwds\u001b[38;5;241m.\u001b[39mupdate(kwds_defaults)\n\u001b[1;32m--> 950\u001b[0m \u001b[38;5;28;01mreturn\u001b[39;00m _read(filepath_or_buffer, kwds)\n",
      "File \u001b[1;32m~\\anaconda3\\Lib\\site-packages\\pandas\\io\\parsers\\readers.py:605\u001b[0m, in \u001b[0;36m_read\u001b[1;34m(filepath_or_buffer, kwds)\u001b[0m\n\u001b[0;32m    602\u001b[0m _validate_names(kwds\u001b[38;5;241m.\u001b[39mget(\u001b[38;5;124m\"\u001b[39m\u001b[38;5;124mnames\u001b[39m\u001b[38;5;124m\"\u001b[39m, \u001b[38;5;28;01mNone\u001b[39;00m))\n\u001b[0;32m    604\u001b[0m \u001b[38;5;66;03m# Create the parser.\u001b[39;00m\n\u001b[1;32m--> 605\u001b[0m parser \u001b[38;5;241m=\u001b[39m TextFileReader(filepath_or_buffer, \u001b[38;5;241m*\u001b[39m\u001b[38;5;241m*\u001b[39mkwds)\n\u001b[0;32m    607\u001b[0m \u001b[38;5;28;01mif\u001b[39;00m chunksize \u001b[38;5;129;01mor\u001b[39;00m iterator:\n\u001b[0;32m    608\u001b[0m     \u001b[38;5;28;01mreturn\u001b[39;00m parser\n",
      "File \u001b[1;32m~\\anaconda3\\Lib\\site-packages\\pandas\\io\\parsers\\readers.py:1442\u001b[0m, in \u001b[0;36mTextFileReader.__init__\u001b[1;34m(self, f, engine, **kwds)\u001b[0m\n\u001b[0;32m   1439\u001b[0m     \u001b[38;5;28mself\u001b[39m\u001b[38;5;241m.\u001b[39moptions[\u001b[38;5;124m\"\u001b[39m\u001b[38;5;124mhas_index_names\u001b[39m\u001b[38;5;124m\"\u001b[39m] \u001b[38;5;241m=\u001b[39m kwds[\u001b[38;5;124m\"\u001b[39m\u001b[38;5;124mhas_index_names\u001b[39m\u001b[38;5;124m\"\u001b[39m]\n\u001b[0;32m   1441\u001b[0m \u001b[38;5;28mself\u001b[39m\u001b[38;5;241m.\u001b[39mhandles: IOHandles \u001b[38;5;241m|\u001b[39m \u001b[38;5;28;01mNone\u001b[39;00m \u001b[38;5;241m=\u001b[39m \u001b[38;5;28;01mNone\u001b[39;00m\n\u001b[1;32m-> 1442\u001b[0m \u001b[38;5;28mself\u001b[39m\u001b[38;5;241m.\u001b[39m_engine \u001b[38;5;241m=\u001b[39m \u001b[38;5;28mself\u001b[39m\u001b[38;5;241m.\u001b[39m_make_engine(f, \u001b[38;5;28mself\u001b[39m\u001b[38;5;241m.\u001b[39mengine)\n",
      "File \u001b[1;32m~\\anaconda3\\Lib\\site-packages\\pandas\\io\\parsers\\readers.py:1735\u001b[0m, in \u001b[0;36mTextFileReader._make_engine\u001b[1;34m(self, f, engine)\u001b[0m\n\u001b[0;32m   1733\u001b[0m     \u001b[38;5;28;01mif\u001b[39;00m \u001b[38;5;124m\"\u001b[39m\u001b[38;5;124mb\u001b[39m\u001b[38;5;124m\"\u001b[39m \u001b[38;5;129;01mnot\u001b[39;00m \u001b[38;5;129;01min\u001b[39;00m mode:\n\u001b[0;32m   1734\u001b[0m         mode \u001b[38;5;241m+\u001b[39m\u001b[38;5;241m=\u001b[39m \u001b[38;5;124m\"\u001b[39m\u001b[38;5;124mb\u001b[39m\u001b[38;5;124m\"\u001b[39m\n\u001b[1;32m-> 1735\u001b[0m \u001b[38;5;28mself\u001b[39m\u001b[38;5;241m.\u001b[39mhandles \u001b[38;5;241m=\u001b[39m get_handle(\n\u001b[0;32m   1736\u001b[0m     f,\n\u001b[0;32m   1737\u001b[0m     mode,\n\u001b[0;32m   1738\u001b[0m     encoding\u001b[38;5;241m=\u001b[39m\u001b[38;5;28mself\u001b[39m\u001b[38;5;241m.\u001b[39moptions\u001b[38;5;241m.\u001b[39mget(\u001b[38;5;124m\"\u001b[39m\u001b[38;5;124mencoding\u001b[39m\u001b[38;5;124m\"\u001b[39m, \u001b[38;5;28;01mNone\u001b[39;00m),\n\u001b[0;32m   1739\u001b[0m     compression\u001b[38;5;241m=\u001b[39m\u001b[38;5;28mself\u001b[39m\u001b[38;5;241m.\u001b[39moptions\u001b[38;5;241m.\u001b[39mget(\u001b[38;5;124m\"\u001b[39m\u001b[38;5;124mcompression\u001b[39m\u001b[38;5;124m\"\u001b[39m, \u001b[38;5;28;01mNone\u001b[39;00m),\n\u001b[0;32m   1740\u001b[0m     memory_map\u001b[38;5;241m=\u001b[39m\u001b[38;5;28mself\u001b[39m\u001b[38;5;241m.\u001b[39moptions\u001b[38;5;241m.\u001b[39mget(\u001b[38;5;124m\"\u001b[39m\u001b[38;5;124mmemory_map\u001b[39m\u001b[38;5;124m\"\u001b[39m, \u001b[38;5;28;01mFalse\u001b[39;00m),\n\u001b[0;32m   1741\u001b[0m     is_text\u001b[38;5;241m=\u001b[39mis_text,\n\u001b[0;32m   1742\u001b[0m     errors\u001b[38;5;241m=\u001b[39m\u001b[38;5;28mself\u001b[39m\u001b[38;5;241m.\u001b[39moptions\u001b[38;5;241m.\u001b[39mget(\u001b[38;5;124m\"\u001b[39m\u001b[38;5;124mencoding_errors\u001b[39m\u001b[38;5;124m\"\u001b[39m, \u001b[38;5;124m\"\u001b[39m\u001b[38;5;124mstrict\u001b[39m\u001b[38;5;124m\"\u001b[39m),\n\u001b[0;32m   1743\u001b[0m     storage_options\u001b[38;5;241m=\u001b[39m\u001b[38;5;28mself\u001b[39m\u001b[38;5;241m.\u001b[39moptions\u001b[38;5;241m.\u001b[39mget(\u001b[38;5;124m\"\u001b[39m\u001b[38;5;124mstorage_options\u001b[39m\u001b[38;5;124m\"\u001b[39m, \u001b[38;5;28;01mNone\u001b[39;00m),\n\u001b[0;32m   1744\u001b[0m )\n\u001b[0;32m   1745\u001b[0m \u001b[38;5;28;01massert\u001b[39;00m \u001b[38;5;28mself\u001b[39m\u001b[38;5;241m.\u001b[39mhandles \u001b[38;5;129;01mis\u001b[39;00m \u001b[38;5;129;01mnot\u001b[39;00m \u001b[38;5;28;01mNone\u001b[39;00m\n\u001b[0;32m   1746\u001b[0m f \u001b[38;5;241m=\u001b[39m \u001b[38;5;28mself\u001b[39m\u001b[38;5;241m.\u001b[39mhandles\u001b[38;5;241m.\u001b[39mhandle\n",
      "File \u001b[1;32m~\\anaconda3\\Lib\\site-packages\\pandas\\io\\common.py:713\u001b[0m, in \u001b[0;36mget_handle\u001b[1;34m(path_or_buf, mode, encoding, compression, memory_map, is_text, errors, storage_options)\u001b[0m\n\u001b[0;32m    710\u001b[0m     codecs\u001b[38;5;241m.\u001b[39mlookup_error(errors)\n\u001b[0;32m    712\u001b[0m \u001b[38;5;66;03m# open URLs\u001b[39;00m\n\u001b[1;32m--> 713\u001b[0m ioargs \u001b[38;5;241m=\u001b[39m _get_filepath_or_buffer(\n\u001b[0;32m    714\u001b[0m     path_or_buf,\n\u001b[0;32m    715\u001b[0m     encoding\u001b[38;5;241m=\u001b[39mencoding,\n\u001b[0;32m    716\u001b[0m     compression\u001b[38;5;241m=\u001b[39mcompression,\n\u001b[0;32m    717\u001b[0m     mode\u001b[38;5;241m=\u001b[39mmode,\n\u001b[0;32m    718\u001b[0m     storage_options\u001b[38;5;241m=\u001b[39mstorage_options,\n\u001b[0;32m    719\u001b[0m )\n\u001b[0;32m    721\u001b[0m handle \u001b[38;5;241m=\u001b[39m ioargs\u001b[38;5;241m.\u001b[39mfilepath_or_buffer\n\u001b[0;32m    722\u001b[0m handles: \u001b[38;5;28mlist\u001b[39m[BaseBuffer]\n",
      "File \u001b[1;32m~\\anaconda3\\Lib\\site-packages\\pandas\\io\\common.py:363\u001b[0m, in \u001b[0;36m_get_filepath_or_buffer\u001b[1;34m(filepath_or_buffer, encoding, compression, mode, storage_options)\u001b[0m\n\u001b[0;32m    361\u001b[0m \u001b[38;5;66;03m# assuming storage_options is to be interpreted as headers\u001b[39;00m\n\u001b[0;32m    362\u001b[0m req_info \u001b[38;5;241m=\u001b[39m urllib\u001b[38;5;241m.\u001b[39mrequest\u001b[38;5;241m.\u001b[39mRequest(filepath_or_buffer, headers\u001b[38;5;241m=\u001b[39mstorage_options)\n\u001b[1;32m--> 363\u001b[0m \u001b[38;5;28;01mwith\u001b[39;00m urlopen(req_info) \u001b[38;5;28;01mas\u001b[39;00m req:\n\u001b[0;32m    364\u001b[0m     content_encoding \u001b[38;5;241m=\u001b[39m req\u001b[38;5;241m.\u001b[39mheaders\u001b[38;5;241m.\u001b[39mget(\u001b[38;5;124m\"\u001b[39m\u001b[38;5;124mContent-Encoding\u001b[39m\u001b[38;5;124m\"\u001b[39m, \u001b[38;5;28;01mNone\u001b[39;00m)\n\u001b[0;32m    365\u001b[0m     \u001b[38;5;28;01mif\u001b[39;00m content_encoding \u001b[38;5;241m==\u001b[39m \u001b[38;5;124m\"\u001b[39m\u001b[38;5;124mgzip\u001b[39m\u001b[38;5;124m\"\u001b[39m:\n\u001b[0;32m    366\u001b[0m         \u001b[38;5;66;03m# Override compression based on Content-Encoding header\u001b[39;00m\n",
      "File \u001b[1;32m~\\anaconda3\\Lib\\site-packages\\pandas\\io\\common.py:265\u001b[0m, in \u001b[0;36murlopen\u001b[1;34m(*args, **kwargs)\u001b[0m\n\u001b[0;32m    259\u001b[0m \u001b[38;5;250m\u001b[39m\u001b[38;5;124;03m\"\"\"\u001b[39;00m\n\u001b[0;32m    260\u001b[0m \u001b[38;5;124;03mLazy-import wrapper for stdlib urlopen, as that imports a big chunk of\u001b[39;00m\n\u001b[0;32m    261\u001b[0m \u001b[38;5;124;03mthe stdlib.\u001b[39;00m\n\u001b[0;32m    262\u001b[0m \u001b[38;5;124;03m\"\"\"\u001b[39;00m\n\u001b[0;32m    263\u001b[0m \u001b[38;5;28;01mimport\u001b[39;00m \u001b[38;5;21;01murllib\u001b[39;00m\u001b[38;5;21;01m.\u001b[39;00m\u001b[38;5;21;01mrequest\u001b[39;00m\n\u001b[1;32m--> 265\u001b[0m \u001b[38;5;28;01mreturn\u001b[39;00m urllib\u001b[38;5;241m.\u001b[39mrequest\u001b[38;5;241m.\u001b[39murlopen(\u001b[38;5;241m*\u001b[39margs, \u001b[38;5;241m*\u001b[39m\u001b[38;5;241m*\u001b[39mkwargs)\n",
      "File \u001b[1;32m~\\anaconda3\\Lib\\urllib\\request.py:216\u001b[0m, in \u001b[0;36murlopen\u001b[1;34m(url, data, timeout, cafile, capath, cadefault, context)\u001b[0m\n\u001b[0;32m    214\u001b[0m \u001b[38;5;28;01melse\u001b[39;00m:\n\u001b[0;32m    215\u001b[0m     opener \u001b[38;5;241m=\u001b[39m _opener\n\u001b[1;32m--> 216\u001b[0m \u001b[38;5;28;01mreturn\u001b[39;00m opener\u001b[38;5;241m.\u001b[39mopen(url, data, timeout)\n",
      "File \u001b[1;32m~\\anaconda3\\Lib\\urllib\\request.py:525\u001b[0m, in \u001b[0;36mOpenerDirector.open\u001b[1;34m(self, fullurl, data, timeout)\u001b[0m\n\u001b[0;32m    523\u001b[0m \u001b[38;5;28;01mfor\u001b[39;00m processor \u001b[38;5;129;01min\u001b[39;00m \u001b[38;5;28mself\u001b[39m\u001b[38;5;241m.\u001b[39mprocess_response\u001b[38;5;241m.\u001b[39mget(protocol, []):\n\u001b[0;32m    524\u001b[0m     meth \u001b[38;5;241m=\u001b[39m \u001b[38;5;28mgetattr\u001b[39m(processor, meth_name)\n\u001b[1;32m--> 525\u001b[0m     response \u001b[38;5;241m=\u001b[39m meth(req, response)\n\u001b[0;32m    527\u001b[0m \u001b[38;5;28;01mreturn\u001b[39;00m response\n",
      "File \u001b[1;32m~\\anaconda3\\Lib\\urllib\\request.py:634\u001b[0m, in \u001b[0;36mHTTPErrorProcessor.http_response\u001b[1;34m(self, request, response)\u001b[0m\n\u001b[0;32m    631\u001b[0m \u001b[38;5;66;03m# According to RFC 2616, \"2xx\" code indicates that the client's\u001b[39;00m\n\u001b[0;32m    632\u001b[0m \u001b[38;5;66;03m# request was successfully received, understood, and accepted.\u001b[39;00m\n\u001b[0;32m    633\u001b[0m \u001b[38;5;28;01mif\u001b[39;00m \u001b[38;5;129;01mnot\u001b[39;00m (\u001b[38;5;241m200\u001b[39m \u001b[38;5;241m<\u001b[39m\u001b[38;5;241m=\u001b[39m code \u001b[38;5;241m<\u001b[39m \u001b[38;5;241m300\u001b[39m):\n\u001b[1;32m--> 634\u001b[0m     response \u001b[38;5;241m=\u001b[39m \u001b[38;5;28mself\u001b[39m\u001b[38;5;241m.\u001b[39mparent\u001b[38;5;241m.\u001b[39merror(\n\u001b[0;32m    635\u001b[0m         \u001b[38;5;124m'\u001b[39m\u001b[38;5;124mhttp\u001b[39m\u001b[38;5;124m'\u001b[39m, request, response, code, msg, hdrs)\n\u001b[0;32m    637\u001b[0m \u001b[38;5;28;01mreturn\u001b[39;00m response\n",
      "File \u001b[1;32m~\\anaconda3\\Lib\\urllib\\request.py:563\u001b[0m, in \u001b[0;36mOpenerDirector.error\u001b[1;34m(self, proto, *args)\u001b[0m\n\u001b[0;32m    561\u001b[0m \u001b[38;5;28;01mif\u001b[39;00m http_err:\n\u001b[0;32m    562\u001b[0m     args \u001b[38;5;241m=\u001b[39m (\u001b[38;5;28mdict\u001b[39m, \u001b[38;5;124m'\u001b[39m\u001b[38;5;124mdefault\u001b[39m\u001b[38;5;124m'\u001b[39m, \u001b[38;5;124m'\u001b[39m\u001b[38;5;124mhttp_error_default\u001b[39m\u001b[38;5;124m'\u001b[39m) \u001b[38;5;241m+\u001b[39m orig_args\n\u001b[1;32m--> 563\u001b[0m     \u001b[38;5;28;01mreturn\u001b[39;00m \u001b[38;5;28mself\u001b[39m\u001b[38;5;241m.\u001b[39m_call_chain(\u001b[38;5;241m*\u001b[39margs)\n",
      "File \u001b[1;32m~\\anaconda3\\Lib\\urllib\\request.py:496\u001b[0m, in \u001b[0;36mOpenerDirector._call_chain\u001b[1;34m(self, chain, kind, meth_name, *args)\u001b[0m\n\u001b[0;32m    494\u001b[0m \u001b[38;5;28;01mfor\u001b[39;00m handler \u001b[38;5;129;01min\u001b[39;00m handlers:\n\u001b[0;32m    495\u001b[0m     func \u001b[38;5;241m=\u001b[39m \u001b[38;5;28mgetattr\u001b[39m(handler, meth_name)\n\u001b[1;32m--> 496\u001b[0m     result \u001b[38;5;241m=\u001b[39m func(\u001b[38;5;241m*\u001b[39margs)\n\u001b[0;32m    497\u001b[0m     \u001b[38;5;28;01mif\u001b[39;00m result \u001b[38;5;129;01mis\u001b[39;00m \u001b[38;5;129;01mnot\u001b[39;00m \u001b[38;5;28;01mNone\u001b[39;00m:\n\u001b[0;32m    498\u001b[0m         \u001b[38;5;28;01mreturn\u001b[39;00m result\n",
      "File \u001b[1;32m~\\anaconda3\\Lib\\urllib\\request.py:643\u001b[0m, in \u001b[0;36mHTTPDefaultErrorHandler.http_error_default\u001b[1;34m(self, req, fp, code, msg, hdrs)\u001b[0m\n\u001b[0;32m    642\u001b[0m \u001b[38;5;28;01mdef\u001b[39;00m \u001b[38;5;21mhttp_error_default\u001b[39m(\u001b[38;5;28mself\u001b[39m, req, fp, code, msg, hdrs):\n\u001b[1;32m--> 643\u001b[0m     \u001b[38;5;28;01mraise\u001b[39;00m HTTPError(req\u001b[38;5;241m.\u001b[39mfull_url, code, msg, hdrs, fp)\n",
      "\u001b[1;31mHTTPError\u001b[0m: HTTP Error 404: Not Found"
     ]
    }
   ],
   "source": [
    "#открыть датасет (bank_scrooge)\n",
    "try:\n",
    "    bank_scrooge = pd.read_csv('/datasets/bank_scrooge.csv')\n",
    "except:\n",
    "    data = pd.read_csv('https://code.s3.yandex.net/bank_scrooge.csv')"
   ]
  },
  {
   "cell_type": "markdown",
   "id": "b880c606-452c-482f-8f43-f9cd5acfce02",
   "metadata": {},
   "source": [
    "### Проверка корректности наименования столбцов"
   ]
  },
  {
   "cell_type": "code",
   "execution_count": null,
   "id": "2c7c0f96-442d-46da-94e2-86a99d42a3d1",
   "metadata": {
    "tags": []
   },
   "outputs": [],
   "source": [
    "#ознакомиться с bank_scrooge\n",
    "bank_scrooge.head()"
   ]
  },
  {
   "cell_type": "code",
   "execution_count": null,
   "id": "f1754570-6de9-4ef1-a777-460778d125f2",
   "metadata": {},
   "outputs": [],
   "source": [
    "#уйдем от \"научной нотации\" для отображения числовых значений\n",
    "pd.options.display.float_format = '{:.3f}'.format "
   ]
  },
  {
   "cell_type": "code",
   "execution_count": null,
   "id": "1c7c361b-6057-4308-ac9a-abed7c565e28",
   "metadata": {},
   "outputs": [],
   "source": [
    "# приведем наименования столбцов к единому формату\n",
    "bank_scrooge.rename(columns = {'USERID':'user_id', 'EST_SALARY':'est_salary'}, inplace = True )"
   ]
  },
  {
   "cell_type": "markdown",
   "id": "401604cb-df01-4cdd-abfc-11c7e00363ce",
   "metadata": {},
   "source": [
    "### Типы данных и обработка пропусков"
   ]
  },
  {
   "cell_type": "code",
   "execution_count": null,
   "id": "b60e7efe-2d61-44b2-977f-5ae871a6b1dc",
   "metadata": {},
   "outputs": [],
   "source": [
    "#общая информация о bank_scrooge\n",
    "bank_scrooge.info()"
   ]
  },
  {
   "cell_type": "code",
   "execution_count": null,
   "id": "93a2e3aa-161a-44e5-9b05-9e9ae22a2563",
   "metadata": {
    "tags": []
   },
   "outputs": [],
   "source": [
    "#количество впропусков в записях\n",
    "bank_scrooge.isnull().sum()"
   ]
  },
  {
   "cell_type": "code",
   "execution_count": null,
   "id": "a989f201-f2fa-4e74-8f2a-2bb1781db154",
   "metadata": {},
   "outputs": [],
   "source": [
    "#визуализация пропусков\n",
    "\n",
    "plt.figure(figsize=(10, 8))\n",
    "sns.heatmap(bank_scrooge.isna(), yticklabels=False, cbar=False, cmap=\"YlGnBu\")\n",
    "\n",
    "plt.xlabel('Признак')  # подпись оси х\n",
    "plt.ylabel('Кол-во пропусков')  # подпись оси у\n",
    "plt.title('Распределение пропущенных значений')  # подпись названия\n",
    "\n",
    "plt.show()"
   ]
  },
  {
   "cell_type": "code",
   "execution_count": null,
   "id": "389df322-c1f0-421d-9530-a3c771f1e884",
   "metadata": {},
   "outputs": [],
   "source": [
    "#цикл для отображения доли пропусков\n",
    "for col in bank_scrooge.columns:\n",
    "    pct_missing = np.mean(bank_scrooge[col].isnull())\n",
    "    print('{} - {}%'.format(col, round(pct_missing*100)))"
   ]
  },
  {
   "cell_type": "code",
   "execution_count": null,
   "id": "610ba37c-c001-4a31-b5d9-def9f795c126",
   "metadata": {},
   "outputs": [],
   "source": [
    "#посмотрим на пропуски непосредственно\n",
    "bank_scrooge[bank_scrooge['age'].isna()]['age'].unique()"
   ]
  },
  {
   "cell_type": "markdown",
   "id": "87ab7a47-f0cd-4e10-94ce-0535018aa9b0",
   "metadata": {},
   "source": [
    "**Вывод:** доля пропусков крайне мала - удалим пропуски в столбце возраст ('age')"
   ]
  },
  {
   "cell_type": "code",
   "execution_count": null,
   "id": "7ddbd9b6-cc4f-4e78-8641-495ad97653b8",
   "metadata": {},
   "outputs": [],
   "source": [
    "# удаление пропусков в столбце возраст ('age'), так как доля пропусков крайне мала \n",
    "bank_scrooge.dropna(axis = 'index', subset = ['age'], inplace = True)\n",
    "\n",
    "# убедимся, что действительно не осталось пропусков\n",
    "bank_scrooge ['age'].isna().sum()"
   ]
  },
  {
   "cell_type": "code",
   "execution_count": null,
   "id": "71669046-b193-4dbf-9c65-038e80be81fc",
   "metadata": {},
   "outputs": [],
   "source": [
    "# приведем тип данных столбца возраст к типу int64\n",
    "bank_scrooge['age'] = bank_scrooge['age'].astype(int) "
   ]
  },
  {
   "cell_type": "code",
   "execution_count": null,
   "id": "6176ba16-aa48-47c7-8ddd-37e26d964eae",
   "metadata": {},
   "outputs": [],
   "source": [
    "#попробуем понять причину отсутствия данных о балансе на счету (случайно ли упущены данные?) \n",
    "# сгруппируем по столбцу 'balance', где True - отсутствуют данные; False - значение заполнено\n",
    "bank_scrooge.groupby(bank_scrooge['balance'].isnull()).mean().style.background_gradient(axis = 1)"
   ]
  },
  {
   "cell_type": "markdown",
   "id": "78664fe3-3f50-44cf-8cb6-d3e4f6cbb2b4",
   "metadata": {},
   "source": [
    "**Вывод:**\n",
    "наиболее сильная разница по параметрам: \n",
    "- кол-во баллов собственности;\n",
    "- кол-во используемых клиентом продуктов банка: клиенты, в записях которых содержатся пропуска пользуются меньшим числом продуктов банка;\n",
    "- оценочный доход клиента: клиенты, в записях которых содержатся пропуска имеют чуть более высокий уровень заработной платы;"
   ]
  },
  {
   "cell_type": "code",
   "execution_count": null,
   "id": "e3010d9f-c0f9-49fd-b4f4-79954781fe9d",
   "metadata": {},
   "outputs": [],
   "source": [
    "# посмотрим связаны ли пропуски в столбце balance с фактом оттока:\n",
    "bank_scrooge[bank_scrooge['balance'].isna()]['churn'].value_counts()"
   ]
  },
  {
   "cell_type": "markdown",
   "id": "f876e45f-80e6-490c-98e3-e675b0ca980d",
   "metadata": {},
   "source": [
    "**Вывод:**\n",
    "В 12 случаях пропуск мог быть связан с тем, что клиент ушел из банка."
   ]
  },
  {
   "cell_type": "code",
   "execution_count": null,
   "id": "5a319f06-e00d-460e-94f9-789342dd4a8f",
   "metadata": {},
   "outputs": [],
   "source": [
    "#посмотрим на пропуски непосредственно\n",
    "bank_scrooge[bank_scrooge['balance'].isna()]['balance'].unique()"
   ]
  },
  {
   "cell_type": "markdown",
   "id": "9aadb428-b0de-4e83-8834-df8286438937",
   "metadata": {},
   "source": [
    "**Вывод:**\n",
    "Имеющиеся пропуски  - NaN. Данный тип значений относится к вещественным числам, float. NaN можно использовать в математических операциях, не вызывая ошибку из-за несовместимых типов.\n",
    "Так как доля таких пропусков во всем датасете значительна (23%), удалить данные записи нельзя. Заполнить их каким-либо расчетным значением тоже не корректно. Следует также отметить, что сложно себе представить ситуацию, когда у банка нет данных о балансе (остатке денежных средств на счету клиента).\n",
    "По моему мнению они относятся к категории MNAR (Missing Not At Random / Отсутствует не случайно). Учитывая вышеизложенное нужно оставить пропуски как есть.  "
   ]
  },
  {
   "cell_type": "markdown",
   "id": "04e002f5-047d-4721-9104-a864e0d1543f",
   "metadata": {},
   "source": [
    "### Поиск дубликатов"
   ]
  },
  {
   "cell_type": "code",
   "execution_count": null,
   "id": "d1042c50-4ccf-4a73-ab70-61683476b1ae",
   "metadata": {
    "tags": []
   },
   "outputs": [],
   "source": [
    "# поиск дубликатов\n",
    "print('Дубликатов:', bank_scrooge.duplicated().sum())"
   ]
  },
  {
   "cell_type": "code",
   "execution_count": null,
   "id": "9da2b24e-5b8b-49e1-a897-b4900c0d77db",
   "metadata": {},
   "outputs": [],
   "source": [
    "# поиск дубликатов по столбцам с уникальными значениями\n",
    "print('Дубликатов по столбцу идентификатор пользователя:', bank_scrooge['user_id'].duplicated().sum())"
   ]
  },
  {
   "cell_type": "code",
   "execution_count": null,
   "id": "7f74da5b-d105-4634-9aef-04255529e3fb",
   "metadata": {},
   "outputs": [],
   "source": [
    "bank_scrooge['user_id'].value_counts()"
   ]
  },
  {
   "cell_type": "code",
   "execution_count": null,
   "id": "93489238-9a45-4219-bafa-c0ab3495b090",
   "metadata": {},
   "outputs": [],
   "source": [
    "duplicateRows = bank_scrooge[bank_scrooge.duplicated(['user_id'])]\n",
    "duplicateRows"
   ]
  },
  {
   "cell_type": "code",
   "execution_count": null,
   "id": "ddd9c5ee-1b6c-438f-a30f-29c0971554ab",
   "metadata": {},
   "outputs": [],
   "source": [
    "# посмотрим как распределены эти записи по городам присутствия банка\n",
    "duplicateRows.groupby(['city', 'est_salary']).count()"
   ]
  },
  {
   "cell_type": "markdown",
   "id": "2370c0a4-082d-4471-8c80-e979cee37dd3",
   "metadata": {},
   "source": [
    "**Вывод:** \n",
    "1) дубликаты user_id есть только в 2х городах (Рябинск, Ярославль) из 3х (нет в Ростове). При этом значения в столбце оценочный доход клиента ('est_salary') не дублируются, то есть скорее всего клиенты разные.\n",
    "\n",
    "2) в банковской системе бывает, что у разных филиалов разные базы данных, в таком случае вполне возможно дублирование идентификатора пользователя ('user_id').\n",
    "\n",
    "Резюмируя считаю, что можно оставить данные записи, так как для результат анализа - выделение сегмента, группы клиентов."
   ]
  },
  {
   "cell_type": "code",
   "execution_count": null,
   "id": "02328f08",
   "metadata": {},
   "outputs": [],
   "source": [
    "bank_scrooge.drop('user_id', axis= 1 , inplace= True )"
   ]
  },
  {
   "cell_type": "code",
   "execution_count": null,
   "id": "22c0fef6-4648-4401-a75a-e64317e74089",
   "metadata": {},
   "outputs": [],
   "source": [
    "#изучение данных в столбце 'city'; проверка на наличие дубликатов\n",
    "bank_scrooge['city'].value_counts()"
   ]
  },
  {
   "cell_type": "markdown",
   "id": "9c0a3f8b-6ff0-4ea9-8ac3-c962d32f235f",
   "metadata": {},
   "source": [
    "**Вывод:**\n",
    "3 города, как и должно быть"
   ]
  },
  {
   "cell_type": "code",
   "execution_count": null,
   "id": "3afa2090-f944-4d67-abd1-4ea45454697b",
   "metadata": {},
   "outputs": [],
   "source": [
    "#изучение данных в столбце 'gender'; проверка на наличие дубликатов\n",
    "bank_scrooge['gender'].value_counts()"
   ]
  },
  {
   "cell_type": "markdown",
   "id": "b1b853ff-9e71-405e-800d-0c58bb21238e",
   "metadata": {},
   "source": [
    "**Вывод:**\n",
    "2 пола, как и должно быть"
   ]
  },
  {
   "cell_type": "code",
   "execution_count": null,
   "id": "9612d5ee-1326-4bd2-8d03-d52e9ee78905",
   "metadata": {},
   "outputs": [],
   "source": [
    "#изучение данных в столбце 'credit_card'; проверка на наличие дубликатов\n",
    "bank_scrooge['credit_card'].value_counts()"
   ]
  },
  {
   "cell_type": "code",
   "execution_count": null,
   "id": "200c7a13-2e87-4ac8-a738-dd60be68ed70",
   "metadata": {},
   "outputs": [],
   "source": [
    "#изучение данных в столбце 'last_activity'; проверка на наличие дубликатов\n",
    "bank_scrooge['last_activity'].value_counts()"
   ]
  },
  {
   "cell_type": "code",
   "execution_count": null,
   "id": "30157a59-2bc2-4cfb-8d55-6c0e8fa0d2df",
   "metadata": {},
   "outputs": [],
   "source": [
    "#изучение данных в столбце 'churn'; проверка на наличие дубликатов\n",
    "bank_scrooge['churn'].value_counts()"
   ]
  },
  {
   "cell_type": "markdown",
   "id": "8b4f58c7-3de3-48e2-9751-90ab1f017da6",
   "metadata": {},
   "source": [
    "<div style=\"border:solid green 2px; padding: 20px\">\n",
    "    \n",
    "**Выводы по этапу Предобратока данных:**\n",
    "1) для единообразия названия столбцов приведены к нижнему регистру;\n",
    "    \n",
    "2) не обнаружено полностью идентичных записей, однако, обнаружены дубликаты в столбце идентификатор пользователя ('user_id'). Принято решение оставить данные записи;\n",
    "    \n",
    "3) типы данных столбцов, в целом, корректны. Данные в столбце возраст приведены к типу int32, так как нас интересует полное кол-во лет и чаще всего именно полное кол-во лет отображается (без .0).\n",
    "    \n",
    "4) общий объем датасета - 10 000 строк. Из них пропуски есть в 2х столбцах:\n",
    "   - возраст (26 пропущенных значений);\n",
    "   - баланс на счете (2 295 пропущенных значений);\n",
    "    \n",
    "5) удалены строки с пропуском в столбце 'возраст';\n",
    "    \n",
    "6) пропуски в столбце 'баланс на счете' оставлены без изменений: определено, что данные пропуски это Nan значения, которые можно использовать в математических операциях. Также крайне не понятно как в банке может не быть информации о балансе клиента (то есть не ясна природа этих пропусков и заполнять их каким-либо расчетными значениями неверно). По моему мнению они относятся к категории MNAR (Missing Not At Random / Отсутствует не случайно).   \n",
    "    \n",
    "</div>"
   ]
  },
  {
   "cell_type": "markdown",
   "id": "6f09ba88-3253-4a8b-8278-cfeaa9278ed2",
   "metadata": {},
   "source": [
    "## Исследовательский анализ данных"
   ]
  },
  {
   "cell_type": "code",
   "execution_count": null,
   "id": "56c76beb-0072-47cf-97b9-626ab7f9577f",
   "metadata": {},
   "outputs": [],
   "source": [
    "#визуализация распределения признаков, общее знакомство\n",
    "bank_scrooge.hist(figsize=(20,12));"
   ]
  },
  {
   "cell_type": "markdown",
   "id": "97c19d46-b42a-48c1-a500-c12512cb8db6",
   "metadata": {},
   "source": [
    "**Выводы:**\n",
    "- `score` — баллы кредитного скоринга: скошенное распределение (отрицательная ассиметрия)\n",
    "- `age` — возраст: смещение вправо, положительная ассиметрия\n",
    "- `equity` — количество баллов собственности: 2 пика: чаще встречается 0 оценка и далее уже росто от 2х баллов.\n",
    "- `balance` — баланс на счёте: мы знаем, что есть 23% пропусков (Nan) и, очевидно, много значений баланса клиентов близких к 0.\n",
    "- `products` — количество продуктов, которыми пользуется клиент: 5 типов продуктов, с учетом удаленной записи с 0 значением - 4ре пика, ожидаемо.\n",
    "- `credit_card` — есть ли кредитная карта:бинарные данные, отсюда просто 2 пика. ожидаемо.\n",
    "- `last_activity` — активный клиент:бинарные данные, отсюда просто 2 пика. ожидаемо.\n",
    "- `est_salary` — оценочный доход клиента: смещение вправо, положительная ассиметрия. Чаще встречается низкий уровень оценочного дохода клиента, что ожидаемо.\n",
    "- `сhurn` — признак оттока: бинарные данные, отсюда просто 2 пика. ожидаемо."
   ]
  },
  {
   "cell_type": "code",
   "execution_count": null,
   "id": "f6c93856-f137-4a84-89e1-f3af78ea914d",
   "metadata": {
    "tags": []
   },
   "outputs": [],
   "source": [
    "# изучение данных\n",
    "bank_scrooge.describe()"
   ]
  },
  {
   "cell_type": "markdown",
   "id": "77b3023a-071f-4606-a6b4-4f27b29e7235",
   "metadata": {},
   "source": [
    "**Выводы:**\n",
    "1) в столбце products минимальное значение  = 0, то есть клиент банка не имеет ни одного продукта этого банка. А такое невозможно, необходимо понять причину такого минимального значения. При этом максимально кол-во банковских продуктов клиента = 5;\n",
    "\n",
    "2) клиенты банка люди в возрасте от 18 до 86 лет; Средний возраст составляет 42 года\n",
    "\n",
    "3) средний показатель в столбце оценочный доход клиента ('est_salary') составляет 147 866,88, при этом максимальное значение 1 395 064.45 - вероятно тут есть аномалии/выбросы (мы рассматриваем региональный банк, там маловероятны клиенты с таким уровнем дохода); нужно посмотреть, возможно искл. из датасета.\n",
    "\n",
    "4) средний показатель в столбце баланс на счёте ('balance') составляет 827 794.307, при этом максимальное значение 119 113 552.010. Возможно среди клиентов есть очень состоятельные люди, но все равно есть смысл посмотреть внимательнее.\t"
   ]
  },
  {
   "cell_type": "code",
   "execution_count": null,
   "id": "cf40ddd4-a976-4e0d-a8bc-56d1ee595fd1",
   "metadata": {},
   "outputs": [],
   "source": [
    "# посмотрим на стороку, где значение в столбце 'products' = 0\n",
    "bank_scrooge[bank_scrooge['products']==0]"
   ]
  },
  {
   "cell_type": "markdown",
   "id": "2bb6f1d6-7b4f-41a6-9b50-cf5204c645d8",
   "metadata": {},
   "source": [
    "Видимо данный клиент уже не является активным, так как last_activity имеет значение 0."
   ]
  },
  {
   "cell_type": "code",
   "execution_count": null,
   "id": "1f5dd0e2-e51e-48a1-9144-48a400e17e93",
   "metadata": {},
   "outputs": [],
   "source": [
    "#удаление данных, где значение в графе количество продуктов, которыми пользуется клиент ('priducts') = 0\n",
    "bank_scrooge = bank_scrooge[bank_scrooge['products']!=0]"
   ]
  },
  {
   "cell_type": "markdown",
   "id": "46b7208d-f081-439a-8573-1ec9d1384e8d",
   "metadata": {},
   "source": [
    "### Выбросы, аномальные значения"
   ]
  },
  {
   "cell_type": "code",
   "execution_count": null,
   "id": "579d88d8-5c4f-4c2f-95b4-834e60ac8da8",
   "metadata": {},
   "outputs": [],
   "source": [
    "#цикл для расчет IQR и пределов/границ выбросов\n",
    "for x in ['score', 'balance', 'est_salary' ]:\n",
    "    IQR = st.iqr(bank_scrooge[x], interpolation = 'midpoint', nan_policy='omit')\n",
    "    Q1 = np.percentile(bank_scrooge[x], 25 , interpolation = 'midpoint' )\n",
    "    Q3 = np.percentile(bank_scrooge[x], 75 , interpolation = 'midpoint' )\n",
    "    low_lim = Q1 - 1.5 * IQR\n",
    "    up_lim = Q3 + 1.5 * IQR\n",
    "    print(x, ' '*(15-len(x)),  'IQR =', IQR)\n",
    "    print(' '*15, 'нижняя граница =', low_lim)\n",
    "    print(' '*15, 'верхняя граница =', up_lim)\n",
    "    print()"
   ]
  },
  {
   "cell_type": "markdown",
   "id": "0be64200-3d72-4d21-bff3-18d0dcfc507d",
   "metadata": {},
   "source": [
    "**Вывод**: все значения набора данных, которые отклоняются от медианы больше, чем на 3IQR, считаются выбросами"
   ]
  },
  {
   "cell_type": "code",
   "execution_count": null,
   "id": "7635461f-d457-49a0-80a7-3d17d2aff271",
   "metadata": {},
   "outputs": [],
   "source": [
    "# посмотрим строки, где значение оценочного дохода клиента 'est_salary' > 3*323 374.625 + 147 866.886 = 1 117 990,761\n",
    "bank_scrooge.query('est_salary > 1117990')"
   ]
  },
  {
   "cell_type": "code",
   "execution_count": null,
   "id": "36c59ca7-703a-4a3c-a1df-437756db97f1",
   "metadata": {
    "scrolled": true
   },
   "outputs": [],
   "source": [
    "#сгруппируем по количеству баллов собственности ('equity')\n",
    "bank_scrooge.query('est_salary > 1117990').groupby(['equity']).count()"
   ]
  },
  {
   "cell_type": "markdown",
   "id": "42804099-ce1d-44db-90d5-74407af21827",
   "metadata": {},
   "source": [
    "**Вывод:**\n",
    "Нет доверия к сотрудникам банка «Метанпром» в городе Ярославль:\n",
    "из 24х записей о клиентах, чей доход более 1 117 990,00 у 14ти записей нет данных о балансе, количество баллов собственности ('equity') = 0 (то есть нет информации о собственности клиента); всего лишь 1 банковский продукт чаще всего. \n",
    "\n",
    "Все это ... странно. "
   ]
  },
  {
   "cell_type": "code",
   "execution_count": null,
   "id": "4bd089be-a697-4b05-a000-c8a7470a4fc7",
   "metadata": {},
   "outputs": [],
   "source": [
    "pd.pivot_table(bank_scrooge[['credit_card', 'equity', 'last_activity', 'city', 'products', 'churn']],\n",
    "               index = ['city', 'products'],\n",
    "               values=['churn'],\n",
    "               aggfunc = [np.mean] # узнаем среднее значение\n",
    "              ).style.background_gradient(axis = 1) # форматирование"
   ]
  },
  {
   "cell_type": "markdown",
   "id": "a0bfc447-fe09-4114-af2b-e391d7deaa4c",
   "metadata": {},
   "source": [
    "### Портрет клиента"
   ]
  },
  {
   "cell_type": "code",
   "execution_count": null,
   "id": "cdf65bd6-b4f9-47bf-b0d2-70866a89944f",
   "metadata": {},
   "outputs": [],
   "source": [
    "# Создадим сводную таблицу для отображение мер центральной тенденции по некоторым из параметров\n",
    "table_1 = pd.pivot_table(bank_scrooge, \n",
    "                           values=['balance','est_salary', 'score','age','equity','products','city', 'gender'],\n",
    "                           index=['churn'],\n",
    "                           aggfunc={'balance': 'mean', 'est_salary':'mean',\n",
    "                                    'score': 'mean', 'age':'mean',\n",
    "                                    'equity':np.median, 'products':np.median}).T\n",
    "table_1['% (delta)'] = ((table_1[1]/table_1[0]) - 1) * 100"
   ]
  },
  {
   "cell_type": "code",
   "execution_count": null,
   "id": "5127d494-afd3-4f5d-9826-e6a735f60f81",
   "metadata": {
    "scrolled": true
   },
   "outputs": [],
   "source": [
    "# Создадим сводную таблицу для категориальных признаков\n",
    "table_mode = pd.pivot_table(bank_scrooge, values=['city', 'gender','last_activity','credit_card'], \n",
    "                index=['churn'], aggfunc={\n",
    "                'city':st.mode, 'gender':st.mode,\n",
    "                'last_activity':st.mode, 'credit_card':st.mode}).T\n",
    "table_mode['% (delta)'] = 0"
   ]
  },
  {
   "cell_type": "code",
   "execution_count": null,
   "id": "1de75bac-bed7-481a-a79a-83b14caa8080",
   "metadata": {},
   "outputs": [],
   "source": [
    "pd.concat([table_1,table_mode])"
   ]
  },
  {
   "cell_type": "markdown",
   "id": "1252a4a2-8b02-48a2-aca7-368572d4a5a6",
   "metadata": {},
   "source": [
    "### Кодировка данных (город, пол)"
   ]
  },
  {
   "cell_type": "code",
   "execution_count": null,
   "id": "f262fd20-1a56-4579-84ad-ba94b4f83c37",
   "metadata": {},
   "outputs": [],
   "source": [
    "bank_scrooge_dummy = bank_scrooge.copy()\n",
    "bank_scrooge_dummy['gender_origin'] = bank_scrooge_dummy['gender'] # оставим этот слобец он далее понадобится\n",
    "# применим функцию к столбцу пол ('gender')\n",
    "bank_scrooge_dummy = pd.get_dummies(bank_scrooge_dummy, columns = ['gender'],\n",
    "               prefix = '',\n",
    "               prefix_sep = '')"
   ]
  },
  {
   "cell_type": "code",
   "execution_count": null,
   "id": "66a6700b-85a9-4120-991b-42fb020eeaca",
   "metadata": {},
   "outputs": [],
   "source": [
    "# полностью предобработанные данные запишем в переменную df \n",
    "df = bank_scrooge_dummy.copy()\n",
    "df['city_origin'] = df['city'] # оставим этот слобец он далее понадобится\n",
    "\n",
    "# применим функцию к столбцу город ('city')\n",
    "df = pd.get_dummies(df, columns = ['city'],\n",
    "                    prefix = '',\n",
    "                    prefix_sep = '',\n",
    "                    drop_first = False)\n",
    "\n",
    "# приведем наименования столбцов к единому формату\n",
    "df.rename(columns = {'Ростов':'rostov', 'Рыбинск':'rubinsk', 'Ярославль':'yaroslavl', 'Ж':'female', 'М':'male'}, inplace = True )"
   ]
  },
  {
   "cell_type": "code",
   "execution_count": null,
   "id": "e6ebd360-71cc-4be6-9c87-1b0a1b63f954",
   "metadata": {
    "scrolled": true
   },
   "outputs": [],
   "source": [
    "# проверка\n",
    "df.head()"
   ]
  },
  {
   "cell_type": "markdown",
   "id": "f9477009-db66-46aa-8038-f55e57a4d541",
   "metadata": {},
   "source": [
    "### Распределение признаков"
   ]
  },
  {
   "cell_type": "code",
   "execution_count": null,
   "id": "7168f91d-ae3e-413b-b5e3-3a8055c8f7e1",
   "metadata": {},
   "outputs": [],
   "source": [
    "# посчитаем % оттока от числа клиентов по городам\n",
    "cities = bank_scrooge_dummy.groupby('city')\\\n",
    "  .agg({'churn': 'mean'})\\\n",
    "  .sort_values(by='churn', ascending=False)\\\n",
    "  .rename(columns={'churn': '% оттока'})\\\n",
    "  .style.format({'% оттока': '{:.2%}'})\\\n",
    "\n",
    "cities"
   ]
  },
  {
   "cell_type": "markdown",
   "id": "dbe3012c-6c0d-4030-bf3c-af633eba0220",
   "metadata": {},
   "source": [
    "**Вывод:**\n",
    "Больше всего ушло клиентов из Ярославля (19,02%); Ростов (18,77%); Рыбинск (16,18%)"
   ]
  },
  {
   "cell_type": "code",
   "execution_count": null,
   "id": "2357eeb8-d49f-42d3-b79a-58ede47c57c4",
   "metadata": {},
   "outputs": [],
   "source": [
    "#доля оттока по продукту через pivot_table()\n",
    "outflow_share = bank_scrooge_dummy.pivot_table(index='products',\n",
    "                                               values='churn',\n",
    "                                               aggfunc=['count', 'sum', 'mean']).sort_values(by=('mean', 'churn'))  # сортировка по % оттока\n",
    "outflow_share.columns = ['Общее количество клиентов', 'Количество ушедших клиентов', '% оттока']\n",
    "outflow_share_formatted = outflow_share.style.format({'% оттока': '{:.2%}'})  # применение форматирования\n",
    "outflow_share_formatted"
   ]
  },
  {
   "cell_type": "markdown",
   "id": "2b5cf6f7-eb48-4624-8edf-7bcaf5e388c8",
   "metadata": {},
   "source": [
    "**Вывод:**\n",
    "В порядке убывания:\n",
    "- 4ре продукта - отток 63,29%;\n",
    "- 5 продуктов - отток 42,11%;\n",
    "- 3 продукта - 28,59%\n",
    "- 2 продукта - 19,11%\n",
    "- 1 продукт - 7,06%"
   ]
  },
  {
   "cell_type": "code",
   "execution_count": null,
   "id": "57bd3072-d6c8-4586-b63e-c24e72c21b33",
   "metadata": {},
   "outputs": [],
   "source": [
    "#доля оттока по количествe баллов собственности через pivot_table()\n",
    "equity_share = bank_scrooge_dummy.pivot_table(index = 'equity', \n",
    "                               values = 'churn',\n",
    "                               aggfunc = ['count', 'sum', 'mean']).sort_values(by=('mean', 'churn')) # сортировка по % оттока\n",
    "equity_share.columns = ['Общее количество клиентов', 'Количество ушедших клиентов', '% оттока']\n",
    "equity_share_formatted = equity_share.style.format({'% оттока': '{:.2%}'})  # применение форматирования\n",
    "equity_share_formatted"
   ]
  },
  {
   "cell_type": "markdown",
   "id": "9a2d1dbd-a81c-4921-9444-825b2c3db753",
   "metadata": {},
   "source": [
    "**Вывод:** % оттока растет по мере увеличения кол-ва баллов собственности, однако, следует отметить, что и кол-во клиентов значимо сокращается начиная с 8ми баллов собственности. Отсюда и больший %."
   ]
  },
  {
   "cell_type": "markdown",
   "id": "f6ecb927-7312-4c7f-a268-6b257b32fe04",
   "metadata": {},
   "source": [
    "Посмотрим распределение признаков"
   ]
  },
  {
   "cell_type": "code",
   "execution_count": null,
   "id": "86566777-6f82-474d-8986-2cb1d4579b6b",
   "metadata": {},
   "outputs": [],
   "source": [
    "# список с бинарными значениями\n",
    "features = [\n",
    "    'products', 'credit_card', 'last_activity', 'churn', 'female', 'male', 'rostov', 'rubinsk', 'yaroslavl' \n",
    "    ]"
   ]
  },
  {
   "cell_type": "code",
   "execution_count": null,
   "id": "3f1dcfe9-443a-4370-8318-edc4111885bf",
   "metadata": {},
   "outputs": [],
   "source": [
    "# визуализация\n",
    "row, col, num_cols = 0, 0, 3\n",
    "fig, myplot = plt.subplots(figsize = (15,8), nrows = math.ceil(len(features) / num_cols), ncols = num_cols)\n",
    "\n",
    "for u in features:\n",
    "    sns.barplot(\n",
    "        x = df[u].value_counts().index, \n",
    "        y = df[u].value_counts(), \n",
    "        ax  = myplot[row, col]\n",
    "    )\n",
    "    myplot[row, col].set_xlabel(\"\")\n",
    "    myplot[row, col].set_title(u, fontsize = 15)\n",
    "    myplot[row, col].set_ylabel(\"Количество\")\n",
    "    col = col + 1\n",
    "    if col == num_cols:\n",
    "        col = 0\n",
    "        row = row + 1\n",
    "\n",
    "plt.subplots_adjust(hspace = 0.5)\n",
    "plt.subplots_adjust(wspace = 0.3)\n",
    "\n",
    "for v in range(row):\n",
    "    for z in range(num_cols):\n",
    "        for patch in myplot[v,z].patches:\n",
    "            label_x = patch.get_x() + patch.get_width()/2  \n",
    "            label_y = patch.get_y() + patch.get_height()/2\n",
    "            myplot[v,z].text(label_x, label_y, \n",
    "                             str(int(patch.get_height())) + '('+'{:.0%}'.format(\n",
    "                               patch.get_height()/len(df))+')',\n",
    "                            horizontalalignment='center', verticalalignment='center')"
   ]
  },
  {
   "cell_type": "markdown",
   "id": "cf7d61c8-b639-4689-bd51-cb5ec93b2110",
   "metadata": {},
   "source": [
    "**Вывод:**\n",
    "1) по количеству банковских продуктов:(top3)\n",
    "   - 51% клиентов имеет 2 банковских продукта;\n",
    "   - 33% клиентов имеет 1 банковский продукт;\n",
    "   - 10% клиентов имеет 3 банковских продукта;\n",
    "   \n",
    "2) кредитная карта есть у 68% клиентов;\n",
    "\n",
    "3) активность клиентов:\n",
    "  - 52% активны;\n",
    "  - 48% не активны;\n",
    "  \n",
    "4) **в отток ушло 18% клиентов**;\n",
    "\n",
    "5) гендерное распределение среди клиентов 50/50;\n",
    "\n",
    "6) распределение по городам: Ростов (14%), Рыбинск (27%), Ярославль (59%)"
   ]
  },
  {
   "cell_type": "markdown",
   "id": "27cd120c-2d56-4b8d-aa99-d6e26ab7c7f0",
   "metadata": {},
   "source": [
    "### Столбчатые гистограммы и распределения признаков для тех, кто ушёл (отток) и тех, кто остался"
   ]
  },
  {
   "cell_type": "code",
   "execution_count": null,
   "id": "997cc3dc-1bf8-4fca-8192-4baa4c78d4cf",
   "metadata": {},
   "outputs": [],
   "source": [
    "# список \n",
    "features_1 = [\n",
    "    'products', 'credit_card', 'last_activity', 'female', 'male', 'equity' \n",
    "    ]\n",
    "\n",
    "# визуализация\n",
    "row, col, num_cols = 0, 0, 2\n",
    "fig, myplot = plt.subplots(figsize = (15, 24), nrows = len(features_1), ncols = num_cols)\n",
    "\n",
    "for u in features_1:\n",
    "    for churn in [0, 1]:\n",
    "        col = churn\n",
    "        sns.barplot(\n",
    "            x = df.loc[df['churn']==churn, u].value_counts().index, \n",
    "            y = df.loc[df['churn']==churn, u].value_counts(), \n",
    "            ax  = myplot[row, col]\n",
    "        )\n",
    "        myplot[row, col].set_xlabel(\"\")\n",
    "        myplot[row, col].set_title(u, fontsize = 15)\n",
    "        if churn == 0:\n",
    "            myplot[row, col].set_ylabel(\"Отток (те, кто ушел)\")\n",
    "        else:\n",
    "            myplot[row, col].set_ylabel(\"Оставшиеся клиенты\")\n",
    "    row = row + 1\n",
    "\n",
    "plt.subplots_adjust(hspace = 0.5)\n",
    "plt.subplots_adjust(wspace = 0.3)\n",
    "for v in range(row):\n",
    "    for z in range(num_cols):\n",
    "        for patch in myplot[v,z].patches:\n",
    "            label_x = patch.get_x() + patch.get_width()/2  \n",
    "            label_y = patch.get_y() + patch.get_height()/2\n",
    "            myplot[v,z].text(label_x, label_y, \n",
    "                             str(int(patch.get_height())) + '('+'{:.0%}'.format(\n",
    "                               patch.get_height()/len(df.loc[df['churn']==z]))+')',\n",
    "                            horizontalalignment='center', verticalalignment='center')"
   ]
  },
  {
   "cell_type": "markdown",
   "id": "7bb40097-398a-447e-aacb-34e4f35fdf5c",
   "metadata": {},
   "source": [
    "**Вывод:**\n",
    "\n",
    "*Общие данные*\n",
    "\n",
    "|                        |products                          | credit card         |last_activity |\n",
    "| ---------------------- | -------------------------------- |---------------------|--------------|\n",
    "|Отток (ушедшие клиенты) | 2 продукта (51%); 1 продукт (38%)|имеют кред. карту 71%|активны 48%   |\n",
    "|Оставшиеся клиенты      | 2 продукта (54%); 1 продукт (13%)|имеют кред. карту 55%|активны 70%   |\n",
    "\n",
    "\n",
    "*Гендерное распределение*\n",
    "\n",
    "|                        |female                  |  male                  |\n",
    "| ---------------------- | ---------------------- |------------------------|\n",
    "|Отток (ушедшие клиенты) |53% жен среди ушедших   |47% муж среди ушедших   |\n",
    "|Оставшиеся клиенты      |35% жен среди оставшихся|65% муж среди оставшихся|"
   ]
  },
  {
   "cell_type": "markdown",
   "id": "f06fea3c-a656-4c1b-93f2-e980a9f2e08c",
   "metadata": {},
   "source": [
    "**Итого определено, что в отток ушли:**\n",
    "- преимущественно женщины;\n",
    "- клиенты, имеющие кредит.карту;\n",
    "- клиенты, которые имеют количество баллов собственности = 0  \n",
    "\n",
    "Первые 3 признака отточных сегментов определены. "
   ]
  },
  {
   "cell_type": "code",
   "execution_count": null,
   "id": "8ed45f9c-16dc-47cf-8efe-1016b25c1f5a",
   "metadata": {},
   "outputs": [],
   "source": [
    "# список числовых признаков\n",
    "features_nonbool = ['score', 'age', 'balance', 'est_salary'] "
   ]
  },
  {
   "cell_type": "code",
   "execution_count": null,
   "id": "c43b417c",
   "metadata": {},
   "outputs": [],
   "source": [
    "# визуализация распределения числовых признаков\n",
    "fig, axes = plt.subplots(nrows=2, ncols=2, figsize=(12, 12))\n",
    "axes_list = [item for sublist in axes for item in sublist]\n",
    "fig.tight_layout(pad=5.0)\n",
    "fig.suptitle('Распределение числовых признаков', fontsize=16)\n",
    "for feature in features_nonbool:  # цикл\n",
    "    ax = axes_list.pop(0)\n",
    "    sns.histplot(df.query('churn == 0')[feature], bins=30, ax=ax, kde=False, color='orange', stat=\"density\",\n",
    "                 common_norm=False, label='Оставшиеся клиенты')\n",
    "    sns.histplot(df.query('churn == 1')[feature], bins=30, ax=ax, kde=False, color='skyblue', stat=\"density\",\n",
    "                 common_norm=False, label='Отток (те, кто ушел)')\n",
    "    ax.set_xlabel(feature, fontsize=11)\n",
    "    ax.set_xlim(left=df[feature].min(), right=df[feature].max()) # установка границ оси x по минимальному и максимальному значению признака\n",
    "    ax.set_ylabel('Кол-во записей', fontsize=12)\n",
    "    ax.legend()\n"
   ]
  },
  {
   "cell_type": "code",
   "execution_count": null,
   "id": "0b916a1c",
   "metadata": {},
   "outputs": [],
   "source": [
    "# отдельно посмотрим распределение параметра оценочный доход клиента (зар.плата)\n",
    "fig, ax = plt.subplots(figsize=(7, 7))\n",
    "fig.tight_layout(pad=5.0)\n",
    "fig.suptitle('Распределение параметра оценочный доход клиента (зар.плата)', fontsize=16)\n",
    "sns.histplot(df.query('churn == 0')['est_salary'], bins=30, ax=ax, kde=False, color='orange', stat=\"density\",\n",
    "             common_norm=False, label='Оставшиеся клиенты')\n",
    "sns.histplot(df.query('churn == 1')['est_salary'], bins=30, ax=ax, kde=False, color='skyblue', stat=\"density\",\n",
    "             common_norm=False, label='Отток (те, кто ушел)')\n",
    "ax.set_xlabel('est_salary', fontsize=11)\n",
    "ax.set_xlim(left=df['est_salary'].min(), right=600000)\n",
    "ax.set_ylabel('Кол-во записей', fontsize=12)\n",
    "ax.legend();\n"
   ]
  },
  {
   "cell_type": "code",
   "execution_count": null,
   "id": "04c2c489",
   "metadata": {},
   "outputs": [],
   "source": [
    "# отдельно посмотрим распределение параметра баланс на счете клиента\n",
    "fig, ax = plt.subplots(figsize=(7, 7))\n",
    "fig.tight_layout(pad=5.0)\n",
    "fig.suptitle('Распределение параметра баланс на счете клиента', fontsize=16)\n",
    "sns.histplot(df.query('churn == 0')['balance'], bins=30, ax=ax, kde=False, color='orange', stat=\"density\",\n",
    "             common_norm=False, label='Оставшиеся клиенты')\n",
    "sns.histplot(df.query('churn == 1')['balance'], bins=30, ax=ax, kde=False, color='skyblue', stat=\"density\",\n",
    "             common_norm=False, label='Отток (те, кто ушел)')\n",
    "ax.set_xlabel('balance', fontsize=11)\n",
    "ax.set_xlim(left=df['balance'].min(), right=10000000)\n",
    "ax.set_ylabel('Кол-во записей', fontsize=12)\n",
    "ax.legend();\n"
   ]
  },
  {
   "cell_type": "markdown",
   "id": "efc6114f-52e7-4183-916c-b3e9daf00bbd",
   "metadata": {},
   "source": [
    "**Вывод:**\n",
    "\n",
    "*Общие данные*\n",
    "\n",
    "|           |Оставшиеся клиенты                                                  |  Отток (ушедшие клиенты)                                                   |\n",
    "| ----------| ------------------------------------------------------------------ |----------------------------------------------------------------------------|\n",
    "|score      |выходит на \"плато\" к 800 ед. больше всего в диапазоне от 800 до 950.| наблюдается пик на 850 - 870 ед. больше всего в диапазоне от 800 до 950.   |\n",
    "|age        |больше всего клиентов от 35 до 45 лет                               | больше всего клиентов от 25-35, 37-45, 50-60                                      |\n",
    "|equity     |больше всего клиентов с 0 кол-вом, далее 2й пик - 4 ед.             | среди ушедших клиентов больше всего состоятельных кол-вом баллов от 4 до 5 |\n",
    "|balance    |много клиентов с небольшим балансом, вкл. пропуска, далее спад      | видимо у ушедших в отток больше всего пропусков                            |\n",
    "|est_salary |нет сильного различия в уровне дохода у тех кто ушел в отток и тех, кто остался. гистограммы весьма схожи в обеих группах                        |\n",
    "\n"
   ]
  },
  {
   "cell_type": "markdown",
   "id": "d9410869-037c-40bd-9d03-b2612e4ec2f5",
   "metadata": {},
   "source": [
    "**Наиболее очевидно, что в отток ушли состоятельные клиенты, с количеством баллов кредитного скорринга от 800 до 950. Возраст от 25 до 35 лет - самая значительная группа и от 50 до 60 вторая по значимости группа клиентов** - вероятно определены 3й и 4й признак отточного сегмента"
   ]
  },
  {
   "cell_type": "markdown",
   "id": "a8164c2d-99e3-4eec-a2ad-5d5a9890d6de",
   "metadata": {},
   "source": [
    "### Средние значения относительно оттока "
   ]
  },
  {
   "cell_type": "code",
   "execution_count": null,
   "id": "aa4e15c8-709a-4cc0-ae74-1c664efbed04",
   "metadata": {},
   "outputs": [],
   "source": [
    "# Построим гистограммы чтобы посмотреть средний уровень оттока по признакам\n",
    "bools = ['equity', 'products', 'rubinsk', 'yaroslavl', 'rostov', 'credit_card', 'last_activity', 'gender_origin'] \n",
    "\n",
    "rows = 4\n",
    "fig, ax = plt.subplots(nrows=rows, ncols=2, figsize=(15, 24))\n",
    "ax = ax.flatten()\n",
    "\n",
    "for i in range(len(bools)):\n",
    "    sns.barplot(x=df[bools[i]], y='churn', data=df, ax=ax[i])\n",
    "    ax[i].axhline(y=df['churn'].mean(), c='red', label='Средний показатель оттока') \n",
    "    ax[i].set_title(f'{bools[i]}')\n",
    "    ax[i].set_xlabel('')\n",
    "\n",
    "plt.show()"
   ]
  },
  {
   "cell_type": "markdown",
   "id": "e589eabf-0aca-4d8c-bcf7-01ee95dc4125",
   "metadata": {},
   "source": [
    "**Выводы:**\n",
    "\n",
    "1) Выше всего отток клиентов в Ярославле, далее в Ростове, после Рыбинск, что в целом подтверждает полученную ранее информацию.\n",
    "\n",
    "2) Больше отток среди клиентов с высоким количеством баллов собственности и несколькими банковскими продуктами, что в целом объяснимо: люди более заинтересованы в финансовой сфере и в поиске оптимальных банковских продуктов;"
   ]
  },
  {
   "cell_type": "markdown",
   "id": "33f44cd7-2643-44e3-9c32-b33924019cbf",
   "metadata": {},
   "source": [
    "### Корреляция признаков"
   ]
  },
  {
   "cell_type": "code",
   "execution_count": null,
   "id": "210d0500-b5bf-4022-86e9-52bcc172a28d",
   "metadata": {},
   "outputs": [],
   "source": [
    "#sns.set(font_scale=1.15)\n",
    "plt.figure(figsize=(15,10))\n",
    "sns.heatmap(\n",
    "    df.corr(), #вычисляем матрицу корреляций        \n",
    "    cmap='RdBu_r', # задаём цветовую схему\n",
    "    annot=True, # рисуем значения внутри ячеек\n",
    "    vmin=-1, vmax=1); # указываем начало цветовых кодов от -1 до 1."
   ]
  },
  {
   "cell_type": "markdown",
   "id": "71480de4-ec48-4118-94af-270cfdf82a59",
   "metadata": {},
   "source": [
    "**Выводы:**\n",
    "1) наиболее сильная положительная кореляция между:\n",
    "- количеством баллов собственности и количеством продуктов банка ('equity' и 'products') = 0,43: чем состоятельнее клиент, тем больше у него банковскких продуктов;\n",
    "- уровнем дохода клеиента и балансом его счета ('est_salary' и 'balance') = 0,34: чем больше доход, тем больше счет в банке;\n",
    "- количеством баллов собственности и оттоком ('equity' и 'churn') = 0,27: получается, что чем больше собственности у клинета банка, тем выше вероятность его оттока.\n",
    "2) наиболее значимая отрицательная кореляция между:\n",
    "- наличие/отсутствие кредитной карты и количеством продуктов, которыми пользуется клиент ('credit_card' и 'products') = -0,25;"
   ]
  },
  {
   "cell_type": "markdown",
   "id": "76c3aaba-2161-438f-833c-c2c604b2bb9f",
   "metadata": {},
   "source": [
    "### Проверка гипотез:"
   ]
  },
  {
   "cell_type": "markdown",
   "id": "56ba0dd2-2651-41c8-bf01-0f537440fa1c",
   "metadata": {},
   "source": [
    "Ранее определено, что на отток влияют:\n",
    "1) сумма дохода клиента - необходимо проверить гипотезу;\n",
    "2) количество баллов собственности - необходимо проверить гипотезу;\n",
    "3) количество продуктов банка - необходимо проверить гипотезу;\n",
    "4) наличие/отсутствие кредитной карты - необходимо проверить гипотезу;"
   ]
  },
  {
   "cell_type": "markdown",
   "id": "528cb55e-1e2a-4ba2-8e6f-3e4726e9d930",
   "metadata": {},
   "source": [
    "Проверим применимость t-test (критерия Стьюдента). Именно он применяется для проверки гипотез о равенстве средних значений двух совокупностей - ему отдается приоритет чаще всего. \n",
    "Условия применения статистического критерия Стьюдента:\n",
    "* Генеральные совокупности не должны зависеть друг от друга;\n",
    "* Выборочные средние должны быть нормально распределены (благодаря ЦПТ, если размер выборки составляет хотя бы несколько десятков значений, выборочные средние, которые можно получить из одной и той же генеральной совокупности, будут распределены нормально вокруг истинного среднего этой совокупности. Это утверждение верно, даже если сама генеральная совокупность не распределена нормально - наш случай);\n",
    "* Дисперсии рассматриваемых генеральных совокупностей должны быть равны (допустим, что дисперсии у генеральных совокупностей разные, следовательно, укажим equal_var= False при вызове метода scipy.stats.ttest_ind()."
   ]
  },
  {
   "cell_type": "markdown",
   "id": "0068fd8a-ef30-4f1d-ada6-579dac3f0754",
   "metadata": {},
   "source": [
    "#### Гипотеза №1: Различие суммы дохода оставшихся и отточных клиентов"
   ]
  },
  {
   "cell_type": "markdown",
   "id": "9088b55c-8a19-453e-b8a4-4eca92071325",
   "metadata": {},
   "source": [
    "Сформулируем нулевые гипотезы:\n",
    "\n",
    "    - H₀: средние доходы оставшихся и отточных клиентов равны\n",
    "    - H₁: средние доходы оставшихся и отточных клиентов не равны"
   ]
  },
  {
   "cell_type": "code",
   "execution_count": null,
   "id": "2b3fd68e-2b52-4379-823f-7251e5c44987",
   "metadata": {},
   "outputs": [],
   "source": [
    "#посчитаем среднюю оценку для гипотезы №1\n",
    "print('Средняя оценка по доходу клиентов не в оттоке', df[df['churn'] == 0]['est_salary'].mean())\n",
    "print('Средняя оценка по доходу клиентов в оттоке', df[df['churn'] == 1]['est_salary'].mean())"
   ]
  },
  {
   "cell_type": "code",
   "execution_count": null,
   "id": "c190397b",
   "metadata": {},
   "outputs": [],
   "source": [
    "# проверка с помощью теста Левена\n",
    "# тест Левана с определением медианы\n",
    "\n",
    "test_leven, p = st.levene(df[df['churn'] == 0]['est_salary'], df[df['churn'] == 1]['est_salary'], center='median')\n",
    "print('Statistics=%.3f, p-value=%.3f' % (test_leven, p))\n",
    "alpha = 0.05\n",
    "if p < alpha:\n",
    "    print('Отклонить гипотезу о равенстве дисперсий')\n",
    "else:\n",
    "    print('Принять гипотезу о равенстве дисперсий')"
   ]
  },
  {
   "cell_type": "code",
   "execution_count": null,
   "id": "7bf2de09",
   "metadata": {},
   "outputs": [],
   "source": [
    "# проверка с помощью теста Левена\n",
    "#тест Левана с определением среднего значения\n",
    "\n",
    "test_leven, p = st.levene(df[df['churn'] == 0]['est_salary'], df[df['churn'] == 1]['est_salary'], center='mean')\n",
    "print('Statistics=%.3f, p-value=%.3f' % (test_leven, p))\n",
    "alpha = 0.05\n",
    "if p < alpha:\n",
    "    print('Отклонить гипотезу о равенстве дисперсий')\n",
    "else:\n",
    "    print('Принять гипотезу о равенстве дисперсий')"
   ]
  },
  {
   "cell_type": "markdown",
   "id": "c1d4e80a",
   "metadata": {},
   "source": [
    "**Вывод:** \n",
    "Тест Левина проверяет нулевую гипотезу о том, что дисперсии равны. По результатом проверки p-value меньше 0,05, следовательно, мы не можем подтвердить нулевую гипотезу и вправе сделать вывод о наличии разницы между дисперсиями."
   ]
  },
  {
   "cell_type": "code",
   "execution_count": null,
   "id": "bf8185fe",
   "metadata": {},
   "outputs": [],
   "source": [
    "# посмотрим гистограмму распределения\n",
    "df[df['churn'] == 0]['est_salary'].hist(bins=30, alpha=0.5)\n",
    "df[df['churn'] == 1]['est_salary'].hist(bins=30, alpha=0.5)\n",
    "plt.title('Гистограмма распределения')\n",
    "plt.xlabel('оценочный доход клиента (est_salary)')\n",
    "plt.ylabel('Кол-во записей');"
   ]
  },
  {
   "cell_type": "markdown",
   "id": "f19b4d56",
   "metadata": {},
   "source": [
    "Применим U-критерий Манна-Уитни для сравнения различий между двумя выборками, так как было установлено, что распределение не является нормальным (результаты тестов + длинный правый хвост на гистограмме)"
   ]
  },
  {
   "cell_type": "code",
   "execution_count": null,
   "id": "e2617e2e",
   "metadata": {},
   "outputs": [],
   "source": [
    "# применим тест Манна-Уитни\n",
    "stat, p_value = mannwhitneyu(df[df['churn'] == 0]['est_salary'], df[df['churn'] == 1]['est_salary']) \n",
    "print('Statistics=%.2f, p=%.2f' % (stat, p_value)) \n",
    "# установим уровень значимости\n",
    "alpha = 0.05\n",
    "# выводы\n",
    "if p_value < alpha: \n",
    "    print('Отклонить нулевую гипотезу') \n",
    "else: \n",
    "    print('Не получилось отклонить нулевую гипотезу')"
   ]
  },
  {
   "cell_type": "markdown",
   "id": "e62a0daf-8176-426a-a842-ddd195308955",
   "metadata": {},
   "source": [
    "**Вывод:** Отклоняем нулевую гипотезу, то есть средние доходы оставшихся и отточных клиентов не равны."
   ]
  },
  {
   "cell_type": "markdown",
   "id": "4a5e1d95-6db5-4367-b752-77f7e261b3fa",
   "metadata": {},
   "source": [
    "#### Гипотеза №2: Pазличие количества баллов собственности оставшихся и отточных клиентов"
   ]
  },
  {
   "cell_type": "markdown",
   "id": "17dccd9a-4852-4c0c-a0bb-da53865a2545",
   "metadata": {},
   "source": [
    "Сформулируем нулевые гипотезы:\n",
    "\n",
    "    - H₀: средняя оценка баллов собственности оставшихся и отточных клиентов равны\n",
    "    - H₁: средняя оценка баллов собственности оставшихся и отточных клиентов не равны"
   ]
  },
  {
   "cell_type": "code",
   "execution_count": null,
   "id": "9c5e8555-ce1a-40f0-98e0-ff0868f51a17",
   "metadata": {},
   "outputs": [],
   "source": [
    "#посчитаем среднюю оценку для гипотезы №2\n",
    "print('Средняя оценка по доходу клиентов не в оттоке', df[df['churn'] == 0]['equity'].mean())\n",
    "print('Средняя оценка по доходу клиентов в оттоке', df[df['churn'] == 1]['equity'].mean())"
   ]
  },
  {
   "cell_type": "code",
   "execution_count": null,
   "id": "51cd1844",
   "metadata": {},
   "outputs": [],
   "source": [
    "# посмотрим гистограмму распределения\n",
    "df[df['churn'] == 0]['equity'].hist(bins=30, alpha=0.5)\n",
    "df[df['churn'] == 1]['equity'].hist(bins=30, alpha=0.5)\n",
    "plt.title('Гистограмма распределения')\n",
    "plt.xlabel('Количество баллов собственности (equity)')\n",
    "plt.ylabel('Кол-во записей');"
   ]
  },
  {
   "cell_type": "code",
   "execution_count": null,
   "id": "a75af7ac",
   "metadata": {},
   "outputs": [],
   "source": [
    "# проверка с помощью теста Левена\n",
    "# тест Левана с определением медианы\n",
    "\n",
    "test_leven, p = st.levene(df[df['churn'] == 0]['equity'], df[df['churn'] == 1]['equity'], center='median')\n",
    "print('Statistics=%.3f, p-value=%.3f' % (test_leven, p))\n",
    "alpha = 0.05\n",
    "if p < alpha:\n",
    "    print('Отклонить гипотезу о равенстве дисперсий')\n",
    "else:\n",
    "    print('Принять гипотезу о равенстве дисперсий')"
   ]
  },
  {
   "cell_type": "code",
   "execution_count": null,
   "id": "5d09a142",
   "metadata": {},
   "outputs": [],
   "source": [
    "# проверка с помощью теста Левена\n",
    "# тест Левана с определением среднего значения\n",
    "\n",
    "test_leven, p = st.levene(df[df['churn'] == 0]['equity'], df[df['churn'] == 1]['equity'], center='mean')\n",
    "print('Statistics=%.3f, p-value=%.3f' % (test_leven, p))\n",
    "alpha = 0.05\n",
    "if p < alpha:\n",
    "    print('Отклонить гипотезу о равенстве дисперсий')\n",
    "else:\n",
    "    print('Принять гипотезу о равенстве дисперсий')"
   ]
  },
  {
   "cell_type": "markdown",
   "id": "a6f23457",
   "metadata": {},
   "source": [
    "**Вывод:** Отклоняем гипотезу о равенстве дисперсий."
   ]
  },
  {
   "cell_type": "markdown",
   "id": "b4c6304d",
   "metadata": {},
   "source": [
    "Установлено, что 2х выборок неравные дисперсии, приемним t-тест Уэлча. Он рассматривается как параметрический эквивалент T-теста с двумя выборками. Так же t-критерий Уэлча работает лучше, чем t-критерий Стьюдента, когда размеры выборки и дисперсии между группами не равны, и дает идентичные результаты, когда размеры выборки дисперсии равны."
   ]
  },
  {
   "cell_type": "code",
   "execution_count": null,
   "id": "4fa73548-7a9f-44d3-8511-acfdda03a124",
   "metadata": {},
   "outputs": [],
   "source": [
    "# results = вызов метода для проверки гипотезы\n",
    "\n",
    "results = st.ttest_ind (\n",
    "    df[df['churn']==0]['equity'],\n",
    "    df[df['churn']==1]['equity'], equal_var = False)\n",
    "\n",
    "alpha = 0.05\n",
    "\n",
    "# вывод значения p-value на экран \n",
    "print (results.pvalue) \n",
    "# условный оператор с выводом строки с ответом\n",
    "\n",
    "if results.pvalue < alpha:\n",
    "    print ('Отвергаем нулевую гипотезу')\n",
    "else:\n",
    "    print ('Не получилось отвергнуть нулевую гипотезу')"
   ]
  },
  {
   "cell_type": "markdown",
   "id": "cb2b3bbb-fa1d-46ab-8939-d69b4cd125b7",
   "metadata": {},
   "source": [
    "**Вывод:** Отвергаем нулевую гипотезу. Средняя оценка баллов собственности оставшихся и отточных клиентов не равны; в целом ранее установлено, что более состоятельные клиенты (большее кол-во баллов собственности) более склонны к оттоку."
   ]
  },
  {
   "cell_type": "markdown",
   "id": "765f64c3-99f8-48e1-b6d7-61dcfe95a82c",
   "metadata": {},
   "source": [
    "#### Гипотеза №3: Pазличие количества продуктов банка оставшихся и отточных клиентов"
   ]
  },
  {
   "cell_type": "markdown",
   "id": "0808dac0-1e12-4413-9918-fd550dd75773",
   "metadata": {},
   "source": [
    "Сформулируем нулевые гипотезы:\n",
    "\n",
    "    - H₀: среднее количество продуктов банка оставшихся и отточных клиентов равны\n",
    "    - H₁: среднее количество продуктов банка оставшихся и отточных клиентов не равно"
   ]
  },
  {
   "cell_type": "code",
   "execution_count": null,
   "id": "04e060f5-a219-4955-b984-fe1430dd4a88",
   "metadata": {},
   "outputs": [],
   "source": [
    "#посчитаем среднюю оценку для гипотезы №3\n",
    "print('Средняя оценка по доходу клиентов не в оттоке', df[df['churn'] == 0]['products'].mean())\n",
    "print('Средняя оценка по доходу клиентов в оттоке', df[df['churn'] == 1]['products'].mean())"
   ]
  },
  {
   "cell_type": "code",
   "execution_count": null,
   "id": "4a61509c",
   "metadata": {},
   "outputs": [],
   "source": [
    "# посмотрим гистограмму распределения\n",
    "df[df['churn'] == 0]['products'].hist(bins=30, alpha=0.5)\n",
    "df[df['churn'] == 1]['products'].hist(bins=30, alpha=0.5)\n",
    "plt.title('Гистограмма распределения')\n",
    "plt.xlabel('Количество продуктов банка (products)')\n",
    "plt.ylabel('Кол-во записей');"
   ]
  },
  {
   "cell_type": "code",
   "execution_count": null,
   "id": "39566646",
   "metadata": {},
   "outputs": [],
   "source": [
    "# проверка с помощью теста Левена\n",
    "#тест Левана с определением среднего значения\n",
    "\n",
    "test_leven, p = st.levene(df[df['churn'] == 0]['products'], df[df['churn'] == 1]['products'], center='mean')\n",
    "print('Statistics=%.3f, p-value=%.3f' % (test_leven, p))\n",
    "alpha = 0.05\n",
    "if p < alpha:\n",
    "    print('Отклонить гипотезу о равенстве дисперсий')\n",
    "else:\n",
    "    print('Принять гипотезу о равенстве дисперсий')"
   ]
  },
  {
   "cell_type": "markdown",
   "id": "6a7503c0",
   "metadata": {},
   "source": [
    "Установлено, что 2х выборок неравные дисперсии, приемним t-тест Уэлча. Он рассматривается как параметрический эквивалент T-теста с двумя выборками. Так же t-критерий Уэлча работает лучше, чем t-критерий Стьюдента, когда размеры выборки и дисперсии между группами не равны, и дает идентичные результаты, когда размеры выборки дисперсии равны."
   ]
  },
  {
   "cell_type": "code",
   "execution_count": null,
   "id": "c791ec98-6c96-4f5e-8775-496ea883b7cc",
   "metadata": {},
   "outputs": [],
   "source": [
    "# results = вызов метода для проверки гипотезы\n",
    "\n",
    "results = st.ttest_ind (\n",
    "    df[df['churn']==0]['products'],\n",
    "    df[df['churn']==1]['products'], equal_var = False)\n",
    "\n",
    "alpha = 0.05\n",
    "\n",
    "# вывод значения p-value на экран \n",
    "print (results.pvalue) \n",
    "# условный оператор с выводом строки с ответом\n",
    "\n",
    "if results.pvalue < alpha:\n",
    "    print ('Отвергаем нулевую гипотезу')\n",
    "else:\n",
    "    print ('Не получилось отвергнуть нулевую гипотезу')"
   ]
  },
  {
   "cell_type": "markdown",
   "id": "8958c4ac-89db-4c44-94c5-59995439350e",
   "metadata": {},
   "source": [
    "**Вывод:** Отвергаем нулевую гипотезу. Среднее количество продуктов банка оставшихся и отточных клиентов не равно; в целом ранее установлено, что более состоятельные клиенты (большее кол-во баллов собственности) более склонны к оттоку."
   ]
  },
  {
   "cell_type": "markdown",
   "id": "c27d286a-526a-44b2-83a5-660d29f6a9f7",
   "metadata": {},
   "source": [
    "#### Гипотеза №4: Pазличие количества кредитных карт банка оставшихся и отточных клиентов"
   ]
  },
  {
   "cell_type": "markdown",
   "id": "1558e981-3617-4dde-89d7-9428c23f4cd0",
   "metadata": {},
   "source": [
    "Сформулируем нулевые гипотезы:\n",
    "\n",
    "    - H₀: среднее количество кредитных карт банка оставшихся и отточных клиентов равны\n",
    "    - H₁: среднее количество кредитных карт банка оставшихся и отточных клиентов не равно"
   ]
  },
  {
   "cell_type": "code",
   "execution_count": null,
   "id": "6f2e4655-87a4-4675-b1c7-df41826e294e",
   "metadata": {},
   "outputs": [],
   "source": [
    "#посчитаем среднюю оценку для гипотезы №4\n",
    "print('Средняя оценка по доходу клиентов не в оттоке', df[df['churn'] == 0]['credit_card'].mean())\n",
    "print('Средняя оценка по доходу клиентов в оттоке', df[df['churn'] == 1]['credit_card'].mean())"
   ]
  },
  {
   "cell_type": "code",
   "execution_count": null,
   "id": "8431153b",
   "metadata": {},
   "outputs": [],
   "source": [
    "# посмотрим гистограмму распределения\n",
    "df[df['churn'] == 0]['credit_card'].hist(bins=30, alpha=0.5)\n",
    "df[df['churn'] == 1]['credit_card'].hist(bins=30, alpha=0.5)\n",
    "plt.title('Гистограмма распределения')\n",
    "plt.xlabel('Наличие кредитной карты (credit_card)')\n",
    "plt.ylabel('Кол-во записей');"
   ]
  },
  {
   "cell_type": "code",
   "execution_count": null,
   "id": "316ba3d1",
   "metadata": {},
   "outputs": [],
   "source": [
    "# проверка с помощью теста Левена\n",
    "#тест Левана с определением среднего значения\n",
    "\n",
    "test_leven, p = st.levene(df[df['churn'] == 0]['credit_card'], df[df['churn'] == 1]['credit_card'], center='mean')\n",
    "print('Statistics=%.3f, p-value=%.3f' % (test_leven, p))\n",
    "alpha = 0.05\n",
    "if p < alpha:\n",
    "    print('Отклонить гипотезу о равенстве дисперсий')\n",
    "else:\n",
    "    print('Принять гипотезу о равенстве дисперсий')"
   ]
  },
  {
   "cell_type": "code",
   "execution_count": null,
   "id": "a5a95c80",
   "metadata": {},
   "outputs": [],
   "source": [
    "# проверка с помощью теста Левена\n",
    "#тест Левана с определением медианы\n",
    "\n",
    "test_leven, p = st.levene(df[df['churn'] == 0]['credit_card'], df[df['churn'] == 1]['credit_card'], center='median')\n",
    "print('Statistics=%.3f, p-value=%.3f' % (test_leven, p))\n",
    "alpha = 0.05\n",
    "if p < alpha:\n",
    "    print('Отклонить гипотезу о равенстве дисперсий')\n",
    "else:\n",
    "    print('Принять гипотезу о равенстве дисперсий')"
   ]
  },
  {
   "cell_type": "markdown",
   "id": "8dbfcc7a",
   "metadata": {},
   "source": [
    "**Вывод:** отклоняем гипотезу о равенстве дисперсий."
   ]
  },
  {
   "cell_type": "markdown",
   "id": "31a57531",
   "metadata": {},
   "source": [
    "Так как распределение не явл.нормальным и размер выборки большой применим Z-тест "
   ]
  },
  {
   "cell_type": "code",
   "execution_count": null,
   "id": "56c2e3b3",
   "metadata": {},
   "outputs": [],
   "source": [
    "# применим z-тест\n",
    "#определим размер групп\n",
    "group_size = df['credit_card'].value_counts(sort=False) \n",
    "\n",
    "#определеим размер целевых подгрупп в группах\n",
    "share_size = df.groupby('credit_card')['churn'].sum()\n",
    "\n",
    "z_value, p_value = proportions_ztest(share_size, group_size)\n",
    "\n",
    "test_leven, p = st.levene(df[df['churn'] == 0]['credit_card'], df[df['churn'] == 1]['credit_card'], center='median')\n",
    "print('Statistics=%.3f, p-value=%.3f' % (z_value, p))\n",
    "alpha = 0.05\n",
    "if p < alpha:\n",
    "    print('Отвергаем нулевую гипотезу')\n",
    "else:\n",
    "    print('Не получилось отвергнуть нулевую гипотезу, статистически значимых различий в выборках нет')"
   ]
  },
  {
   "cell_type": "code",
   "execution_count": null,
   "id": "f8d2b709",
   "metadata": {},
   "outputs": [],
   "source": [
    "# без округления\n",
    "z_value"
   ]
  },
  {
   "cell_type": "code",
   "execution_count": null,
   "id": "c5503380",
   "metadata": {},
   "outputs": [],
   "source": [
    "# без округления\n",
    "p_value"
   ]
  },
  {
   "cell_type": "markdown",
   "id": "6b3a1fa6-274c-41ac-a713-9a20dead519c",
   "metadata": {},
   "source": [
    "**Вывод:** Отвергаем нулевую гипотезу. Как ранее было установлено в ходе анализа среди клиентов, ушедших в отток 71% пользователей кредитной картой, а среди оставшихся 55%."
   ]
  },
  {
   "cell_type": "markdown",
   "id": "f3a7f778-f205-448e-84c4-679f3e873f3a",
   "metadata": {},
   "source": [
    "### Выводы по этапу Исследовательский анализ данных (EDA)"
   ]
  },
  {
   "cell_type": "markdown",
   "id": "1f5b6335-f7f2-4427-a059-546c5c9702ea",
   "metadata": {},
   "source": [
    "<div style=\"border:solid green 2px; padding: 20px\">\n",
    "    \n",
    "1) по количеству банковских продуктов:(top3)\n",
    "   - 51% клиентов имеет 2 банковских продукта;\n",
    "   - 33% клиентов имеет 1 банковский продукт;\n",
    "   - 10% клиентов имеет 3 банковских продукта;\n",
    "    \n",
    "2) кредитная карта есть у 68% клиентов;\n",
    "    \n",
    "3) активность клиентов:\n",
    "  - 52% активны;\n",
    "  - 48% не активны;\n",
    "    \n",
    "4) **в отток ушло 18% клиентов**;\n",
    "    \n",
    "5) гендерное распределение среди клиентов 50/50;\n",
    "    \n",
    "6) распределение клиентов по городам: Ростов (14%), Рыбинск (27%), Ярославль (59%)\n",
    "    \n",
    "7) по географическому признаку: больше всего ушло клиентов из Ярославля (19,02%); Ростов (18,77%); Рыбинск (16,18%)\n",
    "\n",
    "\n",
    "  *Общие данные*\n",
    "\n",
    "|                        |products                          | credit card             |last_activity |\n",
    "| ---------------------- | -------------------------------- |-------------------------|--------------|\n",
    "|Отток (ушедшие клиенты) | 2 продукта (51%); 1 продукт (38%)|**имеют кред. карту 71%**|активны 48%   |\n",
    "|Оставшиеся клиенты      | 2 продукта (54%); 1 продукт (13%)|имеют кред. карту 55%    |активны 70%   |\n",
    "\n",
    "\n",
    "*Гендерное распределение*\n",
    "\n",
    "|                        |female                    |  male                  |\n",
    "| ---------------------- | ------------------------ |------------------------|\n",
    "|Отток (ушедшие клиенты) |**53% жен среди ушедших** |47% муж среди ушедших   |\n",
    "|Оставшиеся клиенты      |35% жен среди оставшихся  |65% муж среди оставшихся|\n",
    "\n",
    "\n",
    "*Географическое распределение*\n",
    "\n",
    "|                        |  Ярославль  |Ростов      |  Рыбинск |\n",
    "|----------------------- | ------------| -----------|----------|\n",
    "| Кол-во клиентов        |5 874        |1 417       |2 694     |\n",
    "| Доля ушедших клиентов  |19.02%       |18.77%      |16.18%    |\n",
    "\n",
    "\n",
    "*Результат анализа исследования распределения числовых признаков*\n",
    "\n",
    "|           |Оставшиеся клиенты                                                  |  Отток (ушедшие клиенты)                                                   |\n",
    "| ----------| ------------------------------------------------------------------ |----------------------------------------------------------------------------|\n",
    "|score      |выходит на \"плато\" к 800 ед. больше всего в диапазоне от 800 до 950.| наблюдается пик на 850 - 870 ед. больше всего в диапазоне от 800 до 950.   |\n",
    "|age        |больше всего клиентов от 35 до 45 лет                               | больше всего клиентов от 25-35, 37-45, 50-60                                      |\n",
    "|equity     |больше всего клиентов с 0 кол-вом, далее 2й пик - 4 ед.             | среди ушедших клиентов больше всего состоятельных кол-вом баллов от 4 до 5 |\n",
    "|balance    |много клиентов с небольшим балансом, вкл. пропуска, далее спад      | видимо у ушедших в отток больше всего пропусков                            |\n",
    "|est_salary |нет сильного различия в уровне дохода у тех кто ушел в отток и тех, кто остался. гистограммы весьма схожи в обеих группах   "
   ]
  },
  {
   "cell_type": "markdown",
   "id": "17b834ed-0cca-43dc-8f66-4f362a8e6eb8",
   "metadata": {},
   "source": [
    "<div style=\"border:solid green 2px; padding: 20px\">\n",
    "\n",
    "*Выдвинутые и проверенные гипотезы:*\n",
    "    \n",
    "Гипотеза №1:\n",
    "- H₀: средние доходы оставшихся и отточных клиентов равны (отвергаем);\n",
    "- H₁: средние доходы оставшихся и отточных клиентов не равны;\n",
    "    \n",
    "Гипотеза №2:\n",
    "- H₀: средняя оценка баллов собственности оставшихся и отточных клиентов равны (отвергаем);\n",
    "- H₁: средняя оценка баллов собственности оставшихся и отточных клиентов не равны;\n",
    "    \n",
    "Гипотеза №3:\n",
    "- H₀: среднее количество продуктов банка оставшихся и отточных клиентов равны (отвергаем);\n",
    "- H₁: среднее количество продуктов банка оставшихся и отточных клиентов не равны;\n",
    "\n",
    "Гипотеза №4:\n",
    "- H₀: среднее количество кредитных карт банка оставшихся и отточных клиентов равны (отвергаем);\n",
    "- H₁: среднее количество кредитных карт банка оставшихся и отточных клиентов не равны"
   ]
  },
  {
   "cell_type": "markdown",
   "id": "f97520e1-c13d-46bf-82cc-c11d326cf3bf",
   "metadata": {},
   "source": [
    "## Сегментация"
   ]
  },
  {
   "cell_type": "markdown",
   "id": "f9f4fa46-4ab8-4a50-84f2-ad4bc746377a",
   "metadata": {},
   "source": [
    "По итогам проведенного анализа и проверки гипотез выделим несколько высокоотточных сегментов клиентов банка. При этом в качестве критериев используем следующие параметры:\n",
    "\n",
    "* пол ('gender') или прекодированные столбцы ('f', 'm');\n",
    "* возраст ('age');\n",
    "* количество баллов собственности ('equity');\n",
    "* количество продуктов банка ('products');\n",
    "* оценочный доход клиента ('est_salary');\n",
    "* активность клиента ('last_acrtivity')"
   ]
  },
  {
   "cell_type": "code",
   "execution_count": null,
   "id": "cd832eac-23b8-490d-aba3-65f306be4c2b",
   "metadata": {},
   "outputs": [],
   "source": [
    "# напишем функцию для сегментации\n",
    "def get_segment(row):\n",
    "    result = [0, 0, 0]\n",
    "    if row['male'] == 1 and row['balance']>= 80000:\n",
    "        result[0]  = 1\n",
    "    if row['products'] >= 2 and row['score']>= 700:\n",
    "        result[1]  = 1\n",
    "    if row['est_salary'] >= 50000 and row['last_activity'] == 1:\n",
    "        result[2]  = 1\n",
    "#     else:\n",
    "#         return 'клиенты, не попавшие в сегментацию'\n",
    "    return np.array(result)"
   ]
  },
  {
   "cell_type": "code",
   "execution_count": null,
   "id": "87d33af4",
   "metadata": {},
   "outputs": [],
   "source": [
    "df[['segment_1', 'segment_2', 'segment_3']] = np.vstack(df.apply(get_segment, axis=1))"
   ]
  },
  {
   "cell_type": "code",
   "execution_count": null,
   "id": "c4e2bd48",
   "metadata": {},
   "outputs": [],
   "source": [
    "# Построим гистограммы чтобы посмотреть средний уровень оттока по сегментам\n",
    "list_segment = [\n",
    "    'segment_1', 'segment_2', 'segment_3' \n",
    "    ] \n",
    "\n",
    "rows = 2\n",
    "fig, ax = plt.subplots(nrows=rows, ncols=2, figsize=(10, 12))\n",
    "ax = ax.flatten()\n",
    "\n",
    "for i in range(len(list_segment)):\n",
    "    sns.barplot(x=df[list_segment[i]], y='churn', data=df, ax=ax[i])\n",
    "    ax[i].axhline(y=df['churn'].mean(), c='red', label='Средний показатель оттока') \n",
    "    ax[i].set_title(f'{list_segment[i]}')\n",
    "    ax[i].set_xlabel('')\n",
    "\n",
    "plt.show()"
   ]
  },
  {
   "cell_type": "markdown",
   "id": "12dcea86",
   "metadata": {},
   "source": [
    "**Вывод:** средний уровень оттока по сегментам выше, чем средний уровень оттока по банку в целом (18%) "
   ]
  },
  {
   "cell_type": "code",
   "execution_count": null,
   "id": "92c07e4d",
   "metadata": {},
   "outputs": [],
   "source": [
    "# посмотим кол-во клиентов банка в каждом сегменте\n",
    "df[['segment_1', 'segment_2', 'segment_3']].sum(axis=0)"
   ]
  },
  {
   "cell_type": "code",
   "execution_count": null,
   "id": "b5ca03da",
   "metadata": {},
   "outputs": [],
   "source": [
    "# посмотрим средний отток в сегменте_1\n",
    "df.loc[df['segment_1']==1, 'churn'].mean()"
   ]
  },
  {
   "cell_type": "code",
   "execution_count": null,
   "id": "c445ac96",
   "metadata": {},
   "outputs": [],
   "source": [
    "# посмотрим средний отток в сегменте_2\n",
    "df.loc[df['segment_2']==1, 'churn'].mean()"
   ]
  },
  {
   "cell_type": "code",
   "execution_count": null,
   "id": "a823810a",
   "metadata": {},
   "outputs": [],
   "source": [
    "# посмотрим средний отток в сегменте_3\n",
    "df.loc[df['segment_3']==1, 'churn'].mean()"
   ]
  },
  {
   "cell_type": "markdown",
   "id": "dd3a6f6d",
   "metadata": {},
   "source": [
    "**Вывод:** количество клиентов банка в сегментах более 500 человек, средний %оттока выше 18% (средний %оттока по банку)"
   ]
  },
  {
   "cell_type": "markdown",
   "id": "ebdd4f5b",
   "metadata": {},
   "source": [
    "### Приоритизация сегментов"
   ]
  },
  {
   "cell_type": "markdown",
   "id": "c7990a7b",
   "metadata": {},
   "source": [
    "Приоритезируем сегменты по мере убывания отточных клиентов:\n",
    "\n",
    "1. Сегмент №1: 3 551 чел (мужчины с балансом на счету более 80 000) - 32,07 % оттока;\n",
    "2. Сегмент №3: 4 537 чел (активные клиенты с оценочным доходом (зар.плата) более 50 000) - 25,85 % оттока;\n",
    "3. Сегмент №2: 6 621 чел (клиенты банка имеющие более 2х продуктов банка и кредитный скоринг более 700) - 23,90 % оттока."
   ]
  },
  {
   "cell_type": "markdown",
   "id": "38c79ee9-8875-4905-9008-c3fa87307153",
   "metadata": {},
   "source": [
    "<div style=\"border:solid green 2px; padding: 20px\">\n",
    "\n",
    "## Рекомендации:\n",
    "\n",
    "Сегмент 1: мужчины с балансом на счету более 80 000 (3 551 человек, 32,07 % оттока):\n",
    "    \n",
    "    - возможность самостоятельно выбирать категории кэшбэка (доплатить за выбор конткретной категории на месяц);    \n",
    "    - среди программ лояльности предлагать больше автомобильной тематики (кэшбэк за бензин), программ связанных с недвижимостью;\n",
    "\n",
    "    \n",
    "Сегмент 3: активные клиенты с оценочным доходом (зар.плата) более 50 000 (4 537 человек, 25,85 % оттока):\n",
    "    \n",
    "    - более высокий % на накопительном счету; \n",
    "    - предложить выгодный перевод з/п в банк «Метанпромбанк» (в случае получения з/п в др. банке)\n",
    "    - информировать о новых доступных банковских продуктах;\n",
    "    \n",
    "Сегмент 2: клиенты банка имеющие более 2х продуктов банка и кредитный скоринг более 700 (6 621 человек, 20,90 % оттока):\n",
    "    \n",
    "    - предложить специальные условия по страхованию объектов собственности (авто, недвижимость);    \n",
    "    - кредитная карта с большей суммой кредита/более длительным сроком погашения кредита;\n",
    "    - возможность самостоятельно выбирать категории кэшбэка (доплатить за выбор конткретной категории на месяц);\n",
    "    - информировать о новых доступных банковских продуктах;\n",
    "    "
   ]
  },
  {
   "cell_type": "code",
   "execution_count": null,
   "id": "31f506a7",
   "metadata": {},
   "outputs": [],
   "source": []
  }
 ],
 "metadata": {
  "ExecuteTimeLog": [
   {
    "duration": 1403,
    "start_time": "2023-11-25T11:10:50.681Z"
   },
   {
    "duration": 215,
    "start_time": "2023-11-25T11:10:52.087Z"
   },
   {
    "duration": 0,
    "start_time": "2023-11-25T11:10:52.305Z"
   },
   {
    "duration": 0,
    "start_time": "2023-11-25T11:10:52.307Z"
   },
   {
    "duration": 0,
    "start_time": "2023-11-25T11:10:52.307Z"
   },
   {
    "duration": 0,
    "start_time": "2023-11-25T11:10:52.308Z"
   },
   {
    "duration": 0,
    "start_time": "2023-11-25T11:10:52.309Z"
   },
   {
    "duration": 0,
    "start_time": "2023-11-25T11:10:52.310Z"
   },
   {
    "duration": 0,
    "start_time": "2023-11-25T11:10:52.311Z"
   },
   {
    "duration": 0,
    "start_time": "2023-11-25T11:10:52.312Z"
   },
   {
    "duration": 0,
    "start_time": "2023-11-25T11:10:52.313Z"
   },
   {
    "duration": 0,
    "start_time": "2023-11-25T11:10:52.314Z"
   },
   {
    "duration": 0,
    "start_time": "2023-11-25T11:10:52.315Z"
   },
   {
    "duration": 0,
    "start_time": "2023-11-25T11:10:52.316Z"
   },
   {
    "duration": 0,
    "start_time": "2023-11-25T11:10:52.317Z"
   },
   {
    "duration": 0,
    "start_time": "2023-11-25T11:10:52.318Z"
   },
   {
    "duration": 0,
    "start_time": "2023-11-25T11:10:52.319Z"
   },
   {
    "duration": 0,
    "start_time": "2023-11-25T11:10:52.321Z"
   },
   {
    "duration": 0,
    "start_time": "2023-11-25T11:10:52.322Z"
   },
   {
    "duration": 0,
    "start_time": "2023-11-25T11:10:52.323Z"
   },
   {
    "duration": 0,
    "start_time": "2023-11-25T11:10:52.324Z"
   },
   {
    "duration": 0,
    "start_time": "2023-11-25T11:10:52.325Z"
   },
   {
    "duration": 0,
    "start_time": "2023-11-25T11:10:52.326Z"
   },
   {
    "duration": 0,
    "start_time": "2023-11-25T11:10:52.327Z"
   },
   {
    "duration": 0,
    "start_time": "2023-11-25T11:10:52.328Z"
   },
   {
    "duration": 0,
    "start_time": "2023-11-25T11:10:52.329Z"
   },
   {
    "duration": 0,
    "start_time": "2023-11-25T11:10:52.373Z"
   },
   {
    "duration": 0,
    "start_time": "2023-11-25T11:10:52.374Z"
   },
   {
    "duration": 0,
    "start_time": "2023-11-25T11:10:52.375Z"
   },
   {
    "duration": 0,
    "start_time": "2023-11-25T11:10:52.376Z"
   },
   {
    "duration": 0,
    "start_time": "2023-11-25T11:10:52.377Z"
   },
   {
    "duration": 0,
    "start_time": "2023-11-25T11:10:52.378Z"
   },
   {
    "duration": 1,
    "start_time": "2023-11-25T11:10:52.379Z"
   },
   {
    "duration": 0,
    "start_time": "2023-11-25T11:10:52.381Z"
   },
   {
    "duration": 0,
    "start_time": "2023-11-25T11:10:52.382Z"
   },
   {
    "duration": 0,
    "start_time": "2023-11-25T11:10:52.383Z"
   },
   {
    "duration": 0,
    "start_time": "2023-11-25T11:10:52.384Z"
   },
   {
    "duration": 0,
    "start_time": "2023-11-25T11:10:52.385Z"
   },
   {
    "duration": 0,
    "start_time": "2023-11-25T11:10:52.386Z"
   },
   {
    "duration": 0,
    "start_time": "2023-11-25T11:10:52.387Z"
   },
   {
    "duration": 0,
    "start_time": "2023-11-25T11:10:52.388Z"
   },
   {
    "duration": 0,
    "start_time": "2023-11-25T11:10:52.389Z"
   },
   {
    "duration": 0,
    "start_time": "2023-11-25T11:10:52.390Z"
   },
   {
    "duration": 0,
    "start_time": "2023-11-25T11:10:52.391Z"
   },
   {
    "duration": 0,
    "start_time": "2023-11-25T11:10:52.393Z"
   },
   {
    "duration": 0,
    "start_time": "2023-11-25T11:10:52.393Z"
   },
   {
    "duration": 0,
    "start_time": "2023-11-25T11:10:52.394Z"
   },
   {
    "duration": 0,
    "start_time": "2023-11-25T11:10:52.396Z"
   },
   {
    "duration": 0,
    "start_time": "2023-11-25T11:10:52.397Z"
   },
   {
    "duration": 0,
    "start_time": "2023-11-25T11:10:52.398Z"
   },
   {
    "duration": 0,
    "start_time": "2023-11-25T11:10:52.399Z"
   },
   {
    "duration": 0,
    "start_time": "2023-11-25T11:10:52.400Z"
   },
   {
    "duration": 0,
    "start_time": "2023-11-25T11:10:52.401Z"
   },
   {
    "duration": 0,
    "start_time": "2023-11-25T11:10:52.402Z"
   },
   {
    "duration": 0,
    "start_time": "2023-11-25T11:10:52.403Z"
   },
   {
    "duration": 0,
    "start_time": "2023-11-25T11:10:52.404Z"
   },
   {
    "duration": 0,
    "start_time": "2023-11-25T11:10:52.405Z"
   },
   {
    "duration": 0,
    "start_time": "2023-11-25T11:10:52.406Z"
   },
   {
    "duration": 0,
    "start_time": "2023-11-25T11:10:52.406Z"
   },
   {
    "duration": 0,
    "start_time": "2023-11-25T11:10:52.407Z"
   },
   {
    "duration": 0,
    "start_time": "2023-11-25T11:10:52.473Z"
   },
   {
    "duration": 1,
    "start_time": "2023-11-25T11:10:52.474Z"
   },
   {
    "duration": 78,
    "start_time": "2023-11-25T11:11:30.441Z"
   },
   {
    "duration": 15,
    "start_time": "2023-11-25T11:11:32.008Z"
   },
   {
    "duration": 1213,
    "start_time": "2023-11-25T11:11:36.473Z"
   },
   {
    "duration": 41,
    "start_time": "2023-11-25T11:11:37.687Z"
   },
   {
    "duration": 17,
    "start_time": "2023-11-25T11:11:37.729Z"
   },
   {
    "duration": 2,
    "start_time": "2023-11-25T11:11:37.748Z"
   },
   {
    "duration": 3,
    "start_time": "2023-11-25T11:11:37.753Z"
   },
   {
    "duration": 16,
    "start_time": "2023-11-25T11:11:37.758Z"
   },
   {
    "duration": 7,
    "start_time": "2023-11-25T11:11:37.776Z"
   },
   {
    "duration": 338,
    "start_time": "2023-11-25T11:11:37.785Z"
   },
   {
    "duration": 11,
    "start_time": "2023-11-25T11:11:38.125Z"
   },
   {
    "duration": 6,
    "start_time": "2023-11-25T11:11:38.138Z"
   },
   {
    "duration": 9,
    "start_time": "2023-11-25T11:11:38.146Z"
   },
   {
    "duration": 19,
    "start_time": "2023-11-25T11:11:38.156Z"
   },
   {
    "duration": 69,
    "start_time": "2023-11-25T11:11:38.177Z"
   },
   {
    "duration": 8,
    "start_time": "2023-11-25T11:11:38.248Z"
   },
   {
    "duration": 16,
    "start_time": "2023-11-25T11:11:38.257Z"
   },
   {
    "duration": 9,
    "start_time": "2023-11-25T11:11:38.274Z"
   },
   {
    "duration": 2,
    "start_time": "2023-11-25T11:11:38.285Z"
   },
   {
    "duration": 17,
    "start_time": "2023-11-25T11:11:38.289Z"
   },
   {
    "duration": 18,
    "start_time": "2023-11-25T11:11:38.307Z"
   },
   {
    "duration": 16,
    "start_time": "2023-11-25T11:11:38.326Z"
   },
   {
    "duration": 16,
    "start_time": "2023-11-25T11:11:38.343Z"
   },
   {
    "duration": 16,
    "start_time": "2023-11-25T11:11:38.360Z"
   },
   {
    "duration": 5,
    "start_time": "2023-11-25T11:11:38.378Z"
   },
   {
    "duration": 4,
    "start_time": "2023-11-25T11:11:38.385Z"
   },
   {
    "duration": 5,
    "start_time": "2023-11-25T11:11:38.390Z"
   },
   {
    "duration": 1184,
    "start_time": "2023-11-25T11:11:38.396Z"
   },
   {
    "duration": 109,
    "start_time": "2023-11-25T11:11:39.581Z"
   },
   {
    "duration": 10,
    "start_time": "2023-11-25T11:11:39.691Z"
   },
   {
    "duration": 13,
    "start_time": "2023-11-25T11:11:39.702Z"
   },
   {
    "duration": 15,
    "start_time": "2023-11-25T11:11:39.717Z"
   },
   {
    "duration": 16,
    "start_time": "2023-11-25T11:11:39.734Z"
   },
   {
    "duration": 10,
    "start_time": "2023-11-25T11:11:39.751Z"
   },
   {
    "duration": 3,
    "start_time": "2023-11-25T11:11:39.773Z"
   },
   {
    "duration": 26,
    "start_time": "2023-11-25T11:11:39.778Z"
   },
   {
    "duration": 16,
    "start_time": "2023-11-25T11:11:39.805Z"
   },
   {
    "duration": 60,
    "start_time": "2023-11-25T11:11:39.822Z"
   },
   {
    "duration": 12,
    "start_time": "2023-11-25T11:11:39.883Z"
   },
   {
    "duration": 32,
    "start_time": "2023-11-25T11:11:39.896Z"
   },
   {
    "duration": 47,
    "start_time": "2023-11-25T11:11:39.930Z"
   },
   {
    "duration": 10,
    "start_time": "2023-11-25T11:11:39.979Z"
   },
   {
    "duration": 11,
    "start_time": "2023-11-25T11:11:39.992Z"
   },
   {
    "duration": 42,
    "start_time": "2023-11-25T11:11:40.005Z"
   },
   {
    "duration": 22,
    "start_time": "2023-11-25T11:11:40.049Z"
   },
   {
    "duration": 2,
    "start_time": "2023-11-25T11:11:40.072Z"
   },
   {
    "duration": 637,
    "start_time": "2023-11-25T11:11:40.075Z"
   },
   {
    "duration": 1016,
    "start_time": "2023-11-25T11:11:40.713Z"
   },
   {
    "duration": 3,
    "start_time": "2023-11-25T11:11:41.731Z"
   },
   {
    "duration": 1448,
    "start_time": "2023-11-25T11:11:41.735Z"
   },
   {
    "duration": 21,
    "start_time": "2023-11-25T11:11:43.184Z"
   },
   {
    "duration": 2388,
    "start_time": "2023-11-25T11:11:43.206Z"
   },
   {
    "duration": 1467,
    "start_time": "2023-11-25T11:11:45.595Z"
   },
   {
    "duration": 9,
    "start_time": "2023-11-25T11:11:47.064Z"
   },
   {
    "duration": 11,
    "start_time": "2023-11-25T11:11:47.075Z"
   },
   {
    "duration": 14,
    "start_time": "2023-11-25T11:11:47.087Z"
   },
   {
    "duration": 17,
    "start_time": "2023-11-25T11:11:47.102Z"
   },
   {
    "duration": 20,
    "start_time": "2023-11-25T11:11:47.120Z"
   },
   {
    "duration": 11,
    "start_time": "2023-11-25T11:11:47.142Z"
   },
   {
    "duration": 6,
    "start_time": "2023-11-25T11:11:47.154Z"
   },
   {
    "duration": 12,
    "start_time": "2023-11-25T11:11:47.161Z"
   },
   {
    "duration": 7,
    "start_time": "2023-11-25T11:11:47.174Z"
   },
   {
    "duration": 424,
    "start_time": "2023-11-25T11:11:47.182Z"
   },
   {
    "duration": 6,
    "start_time": "2023-11-25T11:11:47.608Z"
   },
   {
    "duration": 1180,
    "start_time": "2023-11-25T12:22:31.695Z"
   },
   {
    "duration": 144,
    "start_time": "2023-11-25T12:22:32.877Z"
   },
   {
    "duration": 12,
    "start_time": "2023-11-25T12:22:33.024Z"
   },
   {
    "duration": 2,
    "start_time": "2023-11-25T12:22:33.038Z"
   },
   {
    "duration": 5,
    "start_time": "2023-11-25T12:22:33.041Z"
   },
   {
    "duration": 9,
    "start_time": "2023-11-25T12:22:33.047Z"
   },
   {
    "duration": 4,
    "start_time": "2023-11-25T12:22:33.058Z"
   },
   {
    "duration": 409,
    "start_time": "2023-11-25T12:22:33.064Z"
   },
   {
    "duration": 8,
    "start_time": "2023-11-25T12:22:33.474Z"
   },
   {
    "duration": 4,
    "start_time": "2023-11-25T12:22:33.483Z"
   },
   {
    "duration": 3,
    "start_time": "2023-11-25T12:22:33.488Z"
   },
   {
    "duration": 5,
    "start_time": "2023-11-25T12:22:33.492Z"
   },
   {
    "duration": 60,
    "start_time": "2023-11-25T12:22:33.499Z"
   },
   {
    "duration": 4,
    "start_time": "2023-11-25T12:22:33.560Z"
   },
   {
    "duration": 4,
    "start_time": "2023-11-25T12:22:33.566Z"
   },
   {
    "duration": 7,
    "start_time": "2023-11-25T12:22:33.571Z"
   },
   {
    "duration": 3,
    "start_time": "2023-11-25T12:22:33.579Z"
   },
   {
    "duration": 7,
    "start_time": "2023-11-25T12:22:33.583Z"
   },
   {
    "duration": 32,
    "start_time": "2023-11-25T12:22:33.591Z"
   },
   {
    "duration": 13,
    "start_time": "2023-11-25T12:22:33.624Z"
   },
   {
    "duration": 4,
    "start_time": "2023-11-25T12:22:33.638Z"
   },
   {
    "duration": 4,
    "start_time": "2023-11-25T12:22:33.643Z"
   },
   {
    "duration": 4,
    "start_time": "2023-11-25T12:22:33.648Z"
   },
   {
    "duration": 4,
    "start_time": "2023-11-25T12:22:33.653Z"
   },
   {
    "duration": 3,
    "start_time": "2023-11-25T12:22:33.658Z"
   },
   {
    "duration": 975,
    "start_time": "2023-11-25T12:22:33.662Z"
   },
   {
    "duration": 82,
    "start_time": "2023-11-25T12:22:34.638Z"
   },
   {
    "duration": 8,
    "start_time": "2023-11-25T12:22:34.721Z"
   },
   {
    "duration": 3,
    "start_time": "2023-11-25T12:22:34.730Z"
   },
   {
    "duration": 11,
    "start_time": "2023-11-25T12:22:34.734Z"
   },
   {
    "duration": 12,
    "start_time": "2023-11-25T12:22:34.746Z"
   },
   {
    "duration": 14,
    "start_time": "2023-11-25T12:22:34.759Z"
   },
   {
    "duration": 13,
    "start_time": "2023-11-25T12:22:34.774Z"
   },
   {
    "duration": 37,
    "start_time": "2023-11-25T12:22:34.788Z"
   },
   {
    "duration": 12,
    "start_time": "2023-11-25T12:22:34.826Z"
   },
   {
    "duration": 31,
    "start_time": "2023-11-25T12:22:34.839Z"
   },
   {
    "duration": 9,
    "start_time": "2023-11-25T12:22:34.872Z"
   },
   {
    "duration": 11,
    "start_time": "2023-11-25T12:22:34.882Z"
   },
   {
    "duration": 23,
    "start_time": "2023-11-25T12:22:34.894Z"
   },
   {
    "duration": 9,
    "start_time": "2023-11-25T12:22:34.920Z"
   },
   {
    "duration": 9,
    "start_time": "2023-11-25T12:22:34.930Z"
   },
   {
    "duration": 16,
    "start_time": "2023-11-25T12:22:34.940Z"
   },
   {
    "duration": 18,
    "start_time": "2023-11-25T12:22:34.957Z"
   },
   {
    "duration": 2,
    "start_time": "2023-11-25T12:22:34.976Z"
   },
   {
    "duration": 541,
    "start_time": "2023-11-25T12:22:34.979Z"
   },
   {
    "duration": 840,
    "start_time": "2023-11-25T12:22:35.521Z"
   },
   {
    "duration": 2,
    "start_time": "2023-11-25T12:22:36.363Z"
   },
   {
    "duration": 1275,
    "start_time": "2023-11-25T12:22:36.366Z"
   },
   {
    "duration": 17,
    "start_time": "2023-11-25T12:22:37.643Z"
   },
   {
    "duration": 2556,
    "start_time": "2023-11-25T12:22:37.661Z"
   },
   {
    "duration": 1197,
    "start_time": "2023-11-25T12:22:40.218Z"
   },
   {
    "duration": 6,
    "start_time": "2023-11-25T12:22:41.417Z"
   },
   {
    "duration": 6,
    "start_time": "2023-11-25T12:22:41.424Z"
   },
   {
    "duration": 6,
    "start_time": "2023-11-25T12:22:41.432Z"
   },
   {
    "duration": 6,
    "start_time": "2023-11-25T12:22:41.439Z"
   },
   {
    "duration": 7,
    "start_time": "2023-11-25T12:22:41.446Z"
   },
   {
    "duration": 6,
    "start_time": "2023-11-25T12:22:41.454Z"
   },
   {
    "duration": 5,
    "start_time": "2023-11-25T12:22:41.461Z"
   },
   {
    "duration": 53,
    "start_time": "2023-11-25T12:22:41.467Z"
   },
   {
    "duration": 6,
    "start_time": "2023-11-25T12:22:41.521Z"
   },
   {
    "duration": 368,
    "start_time": "2023-11-25T12:22:41.528Z"
   },
   {
    "duration": 4,
    "start_time": "2023-11-25T12:22:41.897Z"
   },
   {
    "duration": 1078,
    "start_time": "2023-11-25T12:28:44.144Z"
   },
   {
    "duration": 37,
    "start_time": "2023-11-25T12:28:45.224Z"
   },
   {
    "duration": 13,
    "start_time": "2023-11-25T12:28:45.263Z"
   },
   {
    "duration": 2,
    "start_time": "2023-11-25T12:28:45.278Z"
   },
   {
    "duration": 4,
    "start_time": "2023-11-25T12:28:45.281Z"
   },
   {
    "duration": 9,
    "start_time": "2023-11-25T12:28:45.286Z"
   },
   {
    "duration": 5,
    "start_time": "2023-11-25T12:28:45.296Z"
   },
   {
    "duration": 350,
    "start_time": "2023-11-25T12:28:45.302Z"
   },
   {
    "duration": 7,
    "start_time": "2023-11-25T12:28:45.654Z"
   },
   {
    "duration": 4,
    "start_time": "2023-11-25T12:28:45.662Z"
   },
   {
    "duration": 16,
    "start_time": "2023-11-25T12:28:45.668Z"
   },
   {
    "duration": 30,
    "start_time": "2023-11-25T12:28:45.686Z"
   },
   {
    "duration": 99,
    "start_time": "2023-11-25T12:28:45.717Z"
   },
   {
    "duration": 0,
    "start_time": "2023-11-25T12:28:45.819Z"
   },
   {
    "duration": 0,
    "start_time": "2023-11-25T12:28:45.821Z"
   },
   {
    "duration": 0,
    "start_time": "2023-11-25T12:28:45.822Z"
   },
   {
    "duration": 0,
    "start_time": "2023-11-25T12:28:45.823Z"
   },
   {
    "duration": 0,
    "start_time": "2023-11-25T12:28:45.824Z"
   },
   {
    "duration": 0,
    "start_time": "2023-11-25T12:28:45.825Z"
   },
   {
    "duration": 0,
    "start_time": "2023-11-25T12:28:45.826Z"
   },
   {
    "duration": 0,
    "start_time": "2023-11-25T12:28:45.827Z"
   },
   {
    "duration": 0,
    "start_time": "2023-11-25T12:28:45.828Z"
   },
   {
    "duration": 0,
    "start_time": "2023-11-25T12:28:45.829Z"
   },
   {
    "duration": 0,
    "start_time": "2023-11-25T12:28:45.830Z"
   },
   {
    "duration": 0,
    "start_time": "2023-11-25T12:28:45.832Z"
   },
   {
    "duration": 0,
    "start_time": "2023-11-25T12:28:45.833Z"
   },
   {
    "duration": 0,
    "start_time": "2023-11-25T12:28:45.835Z"
   },
   {
    "duration": 0,
    "start_time": "2023-11-25T12:28:45.836Z"
   },
   {
    "duration": 0,
    "start_time": "2023-11-25T12:28:45.837Z"
   },
   {
    "duration": 0,
    "start_time": "2023-11-25T12:28:45.838Z"
   },
   {
    "duration": 0,
    "start_time": "2023-11-25T12:28:45.839Z"
   },
   {
    "duration": 0,
    "start_time": "2023-11-25T12:28:45.840Z"
   },
   {
    "duration": 0,
    "start_time": "2023-11-25T12:28:45.841Z"
   },
   {
    "duration": 0,
    "start_time": "2023-11-25T12:28:45.842Z"
   },
   {
    "duration": 0,
    "start_time": "2023-11-25T12:28:45.843Z"
   },
   {
    "duration": 0,
    "start_time": "2023-11-25T12:28:45.844Z"
   },
   {
    "duration": 0,
    "start_time": "2023-11-25T12:28:45.845Z"
   },
   {
    "duration": 0,
    "start_time": "2023-11-25T12:28:45.846Z"
   },
   {
    "duration": 0,
    "start_time": "2023-11-25T12:28:45.847Z"
   },
   {
    "duration": 0,
    "start_time": "2023-11-25T12:28:45.847Z"
   },
   {
    "duration": 0,
    "start_time": "2023-11-25T12:28:45.848Z"
   },
   {
    "duration": 0,
    "start_time": "2023-11-25T12:28:45.849Z"
   },
   {
    "duration": 0,
    "start_time": "2023-11-25T12:28:45.850Z"
   },
   {
    "duration": 0,
    "start_time": "2023-11-25T12:28:45.851Z"
   },
   {
    "duration": 0,
    "start_time": "2023-11-25T12:28:45.851Z"
   },
   {
    "duration": 0,
    "start_time": "2023-11-25T12:28:45.852Z"
   },
   {
    "duration": 0,
    "start_time": "2023-11-25T12:28:45.853Z"
   },
   {
    "duration": 0,
    "start_time": "2023-11-25T12:28:45.854Z"
   },
   {
    "duration": 0,
    "start_time": "2023-11-25T12:28:45.855Z"
   },
   {
    "duration": 0,
    "start_time": "2023-11-25T12:28:45.914Z"
   },
   {
    "duration": 0,
    "start_time": "2023-11-25T12:28:45.915Z"
   },
   {
    "duration": 0,
    "start_time": "2023-11-25T12:28:45.916Z"
   },
   {
    "duration": 0,
    "start_time": "2023-11-25T12:28:45.917Z"
   },
   {
    "duration": 0,
    "start_time": "2023-11-25T12:28:45.918Z"
   },
   {
    "duration": 0,
    "start_time": "2023-11-25T12:28:45.919Z"
   },
   {
    "duration": 0,
    "start_time": "2023-11-25T12:28:45.920Z"
   },
   {
    "duration": 0,
    "start_time": "2023-11-25T12:28:45.921Z"
   },
   {
    "duration": 0,
    "start_time": "2023-11-25T12:28:45.921Z"
   },
   {
    "duration": 0,
    "start_time": "2023-11-25T12:28:45.922Z"
   },
   {
    "duration": 0,
    "start_time": "2023-11-25T12:28:45.923Z"
   },
   {
    "duration": 0,
    "start_time": "2023-11-25T12:28:45.924Z"
   },
   {
    "duration": 0,
    "start_time": "2023-11-25T12:28:45.925Z"
   },
   {
    "duration": 0,
    "start_time": "2023-11-25T12:28:45.925Z"
   },
   {
    "duration": 10,
    "start_time": "2023-11-25T12:30:17.040Z"
   },
   {
    "duration": 1062,
    "start_time": "2023-11-25T12:30:24.335Z"
   },
   {
    "duration": 36,
    "start_time": "2023-11-25T12:30:25.399Z"
   },
   {
    "duration": 12,
    "start_time": "2023-11-25T12:30:25.438Z"
   },
   {
    "duration": 8,
    "start_time": "2023-11-25T12:30:25.451Z"
   },
   {
    "duration": 4,
    "start_time": "2023-11-25T12:30:25.461Z"
   },
   {
    "duration": 9,
    "start_time": "2023-11-25T12:30:25.466Z"
   },
   {
    "duration": 5,
    "start_time": "2023-11-25T12:30:25.476Z"
   },
   {
    "duration": 356,
    "start_time": "2023-11-25T12:30:25.482Z"
   },
   {
    "duration": 7,
    "start_time": "2023-11-25T12:30:25.840Z"
   },
   {
    "duration": 6,
    "start_time": "2023-11-25T12:30:25.848Z"
   },
   {
    "duration": 15,
    "start_time": "2023-11-25T12:30:25.855Z"
   },
   {
    "duration": 103,
    "start_time": "2023-11-25T12:30:25.871Z"
   },
   {
    "duration": 0,
    "start_time": "2023-11-25T12:30:25.976Z"
   },
   {
    "duration": 0,
    "start_time": "2023-11-25T12:30:25.977Z"
   },
   {
    "duration": 0,
    "start_time": "2023-11-25T12:30:25.978Z"
   },
   {
    "duration": 0,
    "start_time": "2023-11-25T12:30:25.979Z"
   },
   {
    "duration": 0,
    "start_time": "2023-11-25T12:30:25.979Z"
   },
   {
    "duration": 0,
    "start_time": "2023-11-25T12:30:25.980Z"
   },
   {
    "duration": 0,
    "start_time": "2023-11-25T12:30:25.981Z"
   },
   {
    "duration": 0,
    "start_time": "2023-11-25T12:30:25.982Z"
   },
   {
    "duration": 0,
    "start_time": "2023-11-25T12:30:25.982Z"
   },
   {
    "duration": 0,
    "start_time": "2023-11-25T12:30:25.984Z"
   },
   {
    "duration": 0,
    "start_time": "2023-11-25T12:30:25.984Z"
   },
   {
    "duration": 0,
    "start_time": "2023-11-25T12:30:25.985Z"
   },
   {
    "duration": 0,
    "start_time": "2023-11-25T12:30:25.985Z"
   },
   {
    "duration": 0,
    "start_time": "2023-11-25T12:30:25.986Z"
   },
   {
    "duration": 0,
    "start_time": "2023-11-25T12:30:25.987Z"
   },
   {
    "duration": 0,
    "start_time": "2023-11-25T12:30:25.988Z"
   },
   {
    "duration": 0,
    "start_time": "2023-11-25T12:30:25.988Z"
   },
   {
    "duration": 0,
    "start_time": "2023-11-25T12:30:26.015Z"
   },
   {
    "duration": 0,
    "start_time": "2023-11-25T12:30:26.016Z"
   },
   {
    "duration": 0,
    "start_time": "2023-11-25T12:30:26.017Z"
   },
   {
    "duration": 0,
    "start_time": "2023-11-25T12:30:26.018Z"
   },
   {
    "duration": 0,
    "start_time": "2023-11-25T12:30:26.019Z"
   },
   {
    "duration": 0,
    "start_time": "2023-11-25T12:30:26.020Z"
   },
   {
    "duration": 0,
    "start_time": "2023-11-25T12:30:26.021Z"
   },
   {
    "duration": 0,
    "start_time": "2023-11-25T12:30:26.022Z"
   },
   {
    "duration": 0,
    "start_time": "2023-11-25T12:30:26.023Z"
   },
   {
    "duration": 0,
    "start_time": "2023-11-25T12:30:26.023Z"
   },
   {
    "duration": 0,
    "start_time": "2023-11-25T12:30:26.024Z"
   },
   {
    "duration": 0,
    "start_time": "2023-11-25T12:30:26.025Z"
   },
   {
    "duration": 0,
    "start_time": "2023-11-25T12:30:26.026Z"
   },
   {
    "duration": 0,
    "start_time": "2023-11-25T12:30:26.026Z"
   },
   {
    "duration": 0,
    "start_time": "2023-11-25T12:30:26.027Z"
   },
   {
    "duration": 0,
    "start_time": "2023-11-25T12:30:26.028Z"
   },
   {
    "duration": 0,
    "start_time": "2023-11-25T12:30:26.029Z"
   },
   {
    "duration": 0,
    "start_time": "2023-11-25T12:30:26.030Z"
   },
   {
    "duration": 0,
    "start_time": "2023-11-25T12:30:26.030Z"
   },
   {
    "duration": 0,
    "start_time": "2023-11-25T12:30:26.031Z"
   },
   {
    "duration": 0,
    "start_time": "2023-11-25T12:30:26.032Z"
   },
   {
    "duration": 0,
    "start_time": "2023-11-25T12:30:26.033Z"
   },
   {
    "duration": 0,
    "start_time": "2023-11-25T12:30:26.033Z"
   },
   {
    "duration": 0,
    "start_time": "2023-11-25T12:30:26.034Z"
   },
   {
    "duration": 0,
    "start_time": "2023-11-25T12:30:26.035Z"
   },
   {
    "duration": 0,
    "start_time": "2023-11-25T12:30:26.036Z"
   },
   {
    "duration": 0,
    "start_time": "2023-11-25T12:30:26.036Z"
   },
   {
    "duration": 0,
    "start_time": "2023-11-25T12:30:26.037Z"
   },
   {
    "duration": 0,
    "start_time": "2023-11-25T12:30:26.038Z"
   },
   {
    "duration": 0,
    "start_time": "2023-11-25T12:30:26.038Z"
   },
   {
    "duration": 0,
    "start_time": "2023-11-25T12:30:26.039Z"
   },
   {
    "duration": 0,
    "start_time": "2023-11-25T12:30:26.040Z"
   },
   {
    "duration": 1,
    "start_time": "2023-11-25T12:30:26.040Z"
   },
   {
    "duration": 1146,
    "start_time": "2023-11-25T12:35:05.917Z"
   },
   {
    "duration": 36,
    "start_time": "2023-11-25T12:35:07.064Z"
   },
   {
    "duration": 12,
    "start_time": "2023-11-25T12:35:07.101Z"
   },
   {
    "duration": 1,
    "start_time": "2023-11-25T12:35:07.115Z"
   },
   {
    "duration": 6,
    "start_time": "2023-11-25T12:35:07.117Z"
   },
   {
    "duration": 9,
    "start_time": "2023-11-25T12:35:07.124Z"
   },
   {
    "duration": 5,
    "start_time": "2023-11-25T12:35:07.134Z"
   },
   {
    "duration": 330,
    "start_time": "2023-11-25T12:35:07.140Z"
   },
   {
    "duration": 7,
    "start_time": "2023-11-25T12:35:07.471Z"
   },
   {
    "duration": 4,
    "start_time": "2023-11-25T12:35:07.480Z"
   },
   {
    "duration": 30,
    "start_time": "2023-11-25T12:35:07.486Z"
   },
   {
    "duration": 325,
    "start_time": "2023-11-25T12:35:07.517Z"
   },
   {
    "duration": 97,
    "start_time": "2023-11-25T12:35:07.843Z"
   },
   {
    "duration": 0,
    "start_time": "2023-11-25T12:35:07.942Z"
   },
   {
    "duration": 0,
    "start_time": "2023-11-25T12:35:07.942Z"
   },
   {
    "duration": 0,
    "start_time": "2023-11-25T12:35:07.944Z"
   },
   {
    "duration": 0,
    "start_time": "2023-11-25T12:35:07.944Z"
   },
   {
    "duration": 0,
    "start_time": "2023-11-25T12:35:07.945Z"
   },
   {
    "duration": 0,
    "start_time": "2023-11-25T12:35:07.946Z"
   },
   {
    "duration": 0,
    "start_time": "2023-11-25T12:35:07.946Z"
   },
   {
    "duration": 0,
    "start_time": "2023-11-25T12:35:07.947Z"
   },
   {
    "duration": 0,
    "start_time": "2023-11-25T12:35:07.948Z"
   },
   {
    "duration": 0,
    "start_time": "2023-11-25T12:35:07.948Z"
   },
   {
    "duration": 0,
    "start_time": "2023-11-25T12:35:07.949Z"
   },
   {
    "duration": 0,
    "start_time": "2023-11-25T12:35:07.950Z"
   },
   {
    "duration": 0,
    "start_time": "2023-11-25T12:35:07.951Z"
   },
   {
    "duration": 0,
    "start_time": "2023-11-25T12:35:07.951Z"
   },
   {
    "duration": 0,
    "start_time": "2023-11-25T12:35:07.952Z"
   },
   {
    "duration": 0,
    "start_time": "2023-11-25T12:35:07.953Z"
   },
   {
    "duration": 0,
    "start_time": "2023-11-25T12:35:07.954Z"
   },
   {
    "duration": 0,
    "start_time": "2023-11-25T12:35:07.954Z"
   },
   {
    "duration": 0,
    "start_time": "2023-11-25T12:35:07.955Z"
   },
   {
    "duration": 0,
    "start_time": "2023-11-25T12:35:07.956Z"
   },
   {
    "duration": 0,
    "start_time": "2023-11-25T12:35:07.957Z"
   },
   {
    "duration": 0,
    "start_time": "2023-11-25T12:35:07.957Z"
   },
   {
    "duration": 0,
    "start_time": "2023-11-25T12:35:07.958Z"
   },
   {
    "duration": 0,
    "start_time": "2023-11-25T12:35:07.959Z"
   },
   {
    "duration": 0,
    "start_time": "2023-11-25T12:35:07.960Z"
   },
   {
    "duration": 0,
    "start_time": "2023-11-25T12:35:07.961Z"
   },
   {
    "duration": 0,
    "start_time": "2023-11-25T12:35:07.961Z"
   },
   {
    "duration": 0,
    "start_time": "2023-11-25T12:35:07.962Z"
   },
   {
    "duration": 0,
    "start_time": "2023-11-25T12:35:07.963Z"
   },
   {
    "duration": 0,
    "start_time": "2023-11-25T12:35:07.963Z"
   },
   {
    "duration": 0,
    "start_time": "2023-11-25T12:35:07.964Z"
   },
   {
    "duration": 0,
    "start_time": "2023-11-25T12:35:07.965Z"
   },
   {
    "duration": 0,
    "start_time": "2023-11-25T12:35:07.965Z"
   },
   {
    "duration": 0,
    "start_time": "2023-11-25T12:35:07.966Z"
   },
   {
    "duration": 0,
    "start_time": "2023-11-25T12:35:07.967Z"
   },
   {
    "duration": 0,
    "start_time": "2023-11-25T12:35:07.967Z"
   },
   {
    "duration": 0,
    "start_time": "2023-11-25T12:35:07.968Z"
   },
   {
    "duration": 0,
    "start_time": "2023-11-25T12:35:07.969Z"
   },
   {
    "duration": 0,
    "start_time": "2023-11-25T12:35:08.015Z"
   },
   {
    "duration": 0,
    "start_time": "2023-11-25T12:35:08.016Z"
   },
   {
    "duration": 0,
    "start_time": "2023-11-25T12:35:08.016Z"
   },
   {
    "duration": 0,
    "start_time": "2023-11-25T12:35:08.017Z"
   },
   {
    "duration": 0,
    "start_time": "2023-11-25T12:35:08.018Z"
   },
   {
    "duration": 0,
    "start_time": "2023-11-25T12:35:08.019Z"
   },
   {
    "duration": 0,
    "start_time": "2023-11-25T12:35:08.019Z"
   },
   {
    "duration": 0,
    "start_time": "2023-11-25T12:35:08.020Z"
   },
   {
    "duration": 0,
    "start_time": "2023-11-25T12:35:08.021Z"
   },
   {
    "duration": 0,
    "start_time": "2023-11-25T12:35:08.022Z"
   },
   {
    "duration": 0,
    "start_time": "2023-11-25T12:35:08.022Z"
   },
   {
    "duration": 0,
    "start_time": "2023-11-25T12:35:08.023Z"
   },
   {
    "duration": 1064,
    "start_time": "2023-11-25T12:42:34.700Z"
   },
   {
    "duration": 36,
    "start_time": "2023-11-25T12:42:35.766Z"
   },
   {
    "duration": 13,
    "start_time": "2023-11-25T12:42:35.803Z"
   },
   {
    "duration": 2,
    "start_time": "2023-11-25T12:42:35.817Z"
   },
   {
    "duration": 3,
    "start_time": "2023-11-25T12:42:35.820Z"
   },
   {
    "duration": 9,
    "start_time": "2023-11-25T12:42:35.824Z"
   },
   {
    "duration": 6,
    "start_time": "2023-11-25T12:42:35.834Z"
   },
   {
    "duration": 319,
    "start_time": "2023-11-25T12:42:35.841Z"
   },
   {
    "duration": 7,
    "start_time": "2023-11-25T12:42:36.161Z"
   },
   {
    "duration": 4,
    "start_time": "2023-11-25T12:42:36.170Z"
   },
   {
    "duration": 10,
    "start_time": "2023-11-25T12:42:36.175Z"
   },
   {
    "duration": 347,
    "start_time": "2023-11-25T12:42:36.186Z"
   },
   {
    "duration": 4,
    "start_time": "2023-11-25T12:42:36.534Z"
   },
   {
    "duration": 50,
    "start_time": "2023-11-25T12:42:36.539Z"
   },
   {
    "duration": 5,
    "start_time": "2023-11-25T12:42:36.590Z"
   },
   {
    "duration": 19,
    "start_time": "2023-11-25T12:42:36.596Z"
   },
   {
    "duration": 7,
    "start_time": "2023-11-25T12:42:36.617Z"
   },
   {
    "duration": 3,
    "start_time": "2023-11-25T12:42:36.624Z"
   },
   {
    "duration": 5,
    "start_time": "2023-11-25T12:42:36.628Z"
   },
   {
    "duration": 14,
    "start_time": "2023-11-25T12:42:36.635Z"
   },
   {
    "duration": 14,
    "start_time": "2023-11-25T12:42:36.650Z"
   },
   {
    "duration": 5,
    "start_time": "2023-11-25T12:42:36.665Z"
   },
   {
    "duration": 6,
    "start_time": "2023-11-25T12:42:36.671Z"
   },
   {
    "duration": 38,
    "start_time": "2023-11-25T12:42:36.678Z"
   },
   {
    "duration": 4,
    "start_time": "2023-11-25T12:42:36.717Z"
   },
   {
    "duration": 4,
    "start_time": "2023-11-25T12:42:36.722Z"
   },
   {
    "duration": 1000,
    "start_time": "2023-11-25T12:42:36.727Z"
   },
   {
    "duration": 26,
    "start_time": "2023-11-25T12:42:37.730Z"
   },
   {
    "duration": 8,
    "start_time": "2023-11-25T12:42:37.757Z"
   },
   {
    "duration": 3,
    "start_time": "2023-11-25T12:42:37.766Z"
   },
   {
    "duration": 10,
    "start_time": "2023-11-25T12:42:37.770Z"
   },
   {
    "duration": 35,
    "start_time": "2023-11-25T12:42:37.781Z"
   },
   {
    "duration": 9,
    "start_time": "2023-11-25T12:42:37.817Z"
   },
   {
    "duration": 4,
    "start_time": "2023-11-25T12:42:37.827Z"
   },
   {
    "duration": 22,
    "start_time": "2023-11-25T12:42:37.832Z"
   },
   {
    "duration": 13,
    "start_time": "2023-11-25T12:42:37.855Z"
   },
   {
    "duration": 61,
    "start_time": "2023-11-25T12:42:37.869Z"
   },
   {
    "duration": 10,
    "start_time": "2023-11-25T12:42:37.931Z"
   },
   {
    "duration": 11,
    "start_time": "2023-11-25T12:42:37.942Z"
   },
   {
    "duration": 9,
    "start_time": "2023-11-25T12:42:37.954Z"
   },
   {
    "duration": 8,
    "start_time": "2023-11-25T12:42:37.964Z"
   },
   {
    "duration": 8,
    "start_time": "2023-11-25T12:42:37.974Z"
   },
   {
    "duration": 39,
    "start_time": "2023-11-25T12:42:37.983Z"
   },
   {
    "duration": 18,
    "start_time": "2023-11-25T12:42:38.023Z"
   },
   {
    "duration": 2,
    "start_time": "2023-11-25T12:42:38.042Z"
   },
   {
    "duration": 524,
    "start_time": "2023-11-25T12:42:38.045Z"
   },
   {
    "duration": 1373,
    "start_time": "2023-11-25T12:42:38.571Z"
   },
   {
    "duration": 2,
    "start_time": "2023-11-25T12:42:39.946Z"
   },
   {
    "duration": 1229,
    "start_time": "2023-11-25T12:42:39.949Z"
   },
   {
    "duration": 16,
    "start_time": "2023-11-25T12:42:41.179Z"
   },
   {
    "duration": 2141,
    "start_time": "2023-11-25T12:42:41.197Z"
   },
   {
    "duration": 1156,
    "start_time": "2023-11-25T12:42:43.339Z"
   },
   {
    "duration": 5,
    "start_time": "2023-11-25T12:42:44.497Z"
   },
   {
    "duration": 15,
    "start_time": "2023-11-25T12:42:44.504Z"
   },
   {
    "duration": 6,
    "start_time": "2023-11-25T12:42:44.520Z"
   },
   {
    "duration": 6,
    "start_time": "2023-11-25T12:42:44.527Z"
   },
   {
    "duration": 5,
    "start_time": "2023-11-25T12:42:44.535Z"
   },
   {
    "duration": 6,
    "start_time": "2023-11-25T12:42:44.542Z"
   },
   {
    "duration": 6,
    "start_time": "2023-11-25T12:42:44.549Z"
   },
   {
    "duration": 6,
    "start_time": "2023-11-25T12:42:44.557Z"
   },
   {
    "duration": 5,
    "start_time": "2023-11-25T12:42:44.565Z"
   },
   {
    "duration": 365,
    "start_time": "2023-11-25T12:42:44.614Z"
   },
   {
    "duration": 5,
    "start_time": "2023-11-25T12:42:44.980Z"
   },
   {
    "duration": 1051,
    "start_time": "2023-11-25T12:43:44.713Z"
   },
   {
    "duration": 36,
    "start_time": "2023-11-25T12:43:45.765Z"
   },
   {
    "duration": 13,
    "start_time": "2023-11-25T12:43:45.802Z"
   },
   {
    "duration": 2,
    "start_time": "2023-11-25T12:43:45.816Z"
   },
   {
    "duration": 6,
    "start_time": "2023-11-25T12:43:45.819Z"
   },
   {
    "duration": 9,
    "start_time": "2023-11-25T12:43:45.826Z"
   },
   {
    "duration": 6,
    "start_time": "2023-11-25T12:43:45.837Z"
   },
   {
    "duration": 327,
    "start_time": "2023-11-25T12:43:45.844Z"
   },
   {
    "duration": 9,
    "start_time": "2023-11-25T12:43:46.173Z"
   },
   {
    "duration": 4,
    "start_time": "2023-11-25T12:43:46.184Z"
   },
   {
    "duration": 8,
    "start_time": "2023-11-25T12:43:46.189Z"
   },
   {
    "duration": 3,
    "start_time": "2023-11-25T12:43:46.214Z"
   },
   {
    "duration": 55,
    "start_time": "2023-11-25T12:43:46.218Z"
   },
   {
    "duration": 5,
    "start_time": "2023-11-25T12:43:46.274Z"
   },
   {
    "duration": 5,
    "start_time": "2023-11-25T12:43:46.281Z"
   },
   {
    "duration": 27,
    "start_time": "2023-11-25T12:43:46.287Z"
   },
   {
    "duration": 4,
    "start_time": "2023-11-25T12:43:46.315Z"
   },
   {
    "duration": 6,
    "start_time": "2023-11-25T12:43:46.320Z"
   },
   {
    "duration": 26,
    "start_time": "2023-11-25T12:43:46.327Z"
   },
   {
    "duration": 16,
    "start_time": "2023-11-25T12:43:46.355Z"
   },
   {
    "duration": 5,
    "start_time": "2023-11-25T12:43:46.372Z"
   },
   {
    "duration": 6,
    "start_time": "2023-11-25T12:43:46.378Z"
   },
   {
    "duration": 30,
    "start_time": "2023-11-25T12:43:46.385Z"
   },
   {
    "duration": 20,
    "start_time": "2023-11-25T12:43:46.416Z"
   },
   {
    "duration": 5,
    "start_time": "2023-11-25T12:43:46.438Z"
   },
   {
    "duration": 987,
    "start_time": "2023-11-25T12:43:46.445Z"
   },
   {
    "duration": 83,
    "start_time": "2023-11-25T12:43:47.433Z"
   },
   {
    "duration": 8,
    "start_time": "2023-11-25T12:43:47.519Z"
   },
   {
    "duration": 5,
    "start_time": "2023-11-25T12:43:47.528Z"
   },
   {
    "duration": 11,
    "start_time": "2023-11-25T12:43:47.534Z"
   },
   {
    "duration": 13,
    "start_time": "2023-11-25T12:43:47.546Z"
   },
   {
    "duration": 18,
    "start_time": "2023-11-25T12:43:47.560Z"
   },
   {
    "duration": 17,
    "start_time": "2023-11-25T12:43:47.579Z"
   },
   {
    "duration": 31,
    "start_time": "2023-11-25T12:43:47.597Z"
   },
   {
    "duration": 19,
    "start_time": "2023-11-25T12:43:47.629Z"
   },
   {
    "duration": 38,
    "start_time": "2023-11-25T12:43:47.649Z"
   },
   {
    "duration": 28,
    "start_time": "2023-11-25T12:43:47.688Z"
   },
   {
    "duration": 15,
    "start_time": "2023-11-25T12:43:47.717Z"
   },
   {
    "duration": 14,
    "start_time": "2023-11-25T12:43:47.733Z"
   },
   {
    "duration": 10,
    "start_time": "2023-11-25T12:43:47.748Z"
   },
   {
    "duration": 12,
    "start_time": "2023-11-25T12:43:47.759Z"
   },
   {
    "duration": 19,
    "start_time": "2023-11-25T12:43:47.772Z"
   },
   {
    "duration": 30,
    "start_time": "2023-11-25T12:43:47.792Z"
   },
   {
    "duration": 2,
    "start_time": "2023-11-25T12:43:47.824Z"
   },
   {
    "duration": 524,
    "start_time": "2023-11-25T12:43:47.828Z"
   },
   {
    "duration": 1195,
    "start_time": "2023-11-25T12:43:48.354Z"
   },
   {
    "duration": 3,
    "start_time": "2023-11-25T12:43:49.550Z"
   },
   {
    "duration": 1407,
    "start_time": "2023-11-25T12:43:49.554Z"
   },
   {
    "duration": 15,
    "start_time": "2023-11-25T12:43:50.962Z"
   },
   {
    "duration": 2255,
    "start_time": "2023-11-25T12:43:50.979Z"
   },
   {
    "duration": 1208,
    "start_time": "2023-11-25T12:43:53.235Z"
   },
   {
    "duration": 6,
    "start_time": "2023-11-25T12:43:54.445Z"
   },
   {
    "duration": 6,
    "start_time": "2023-11-25T12:43:54.453Z"
   },
   {
    "duration": 6,
    "start_time": "2023-11-25T12:43:54.460Z"
   },
   {
    "duration": 7,
    "start_time": "2023-11-25T12:43:54.467Z"
   },
   {
    "duration": 6,
    "start_time": "2023-11-25T12:43:54.475Z"
   },
   {
    "duration": 37,
    "start_time": "2023-11-25T12:43:54.482Z"
   },
   {
    "duration": 6,
    "start_time": "2023-11-25T12:43:54.520Z"
   },
   {
    "duration": 7,
    "start_time": "2023-11-25T12:43:54.527Z"
   },
   {
    "duration": 6,
    "start_time": "2023-11-25T12:43:54.535Z"
   },
   {
    "duration": 402,
    "start_time": "2023-11-25T12:43:54.542Z"
   },
   {
    "duration": 4,
    "start_time": "2023-11-25T12:43:54.945Z"
   },
   {
    "duration": 1078,
    "start_time": "2023-11-25T12:51:50.039Z"
   },
   {
    "duration": 37,
    "start_time": "2023-11-25T12:51:51.118Z"
   },
   {
    "duration": 13,
    "start_time": "2023-11-25T12:51:51.156Z"
   },
   {
    "duration": 2,
    "start_time": "2023-11-25T12:51:51.171Z"
   },
   {
    "duration": 11,
    "start_time": "2023-11-25T12:51:51.175Z"
   },
   {
    "duration": 24,
    "start_time": "2023-11-25T12:51:51.187Z"
   },
   {
    "duration": 6,
    "start_time": "2023-11-25T12:51:51.212Z"
   },
   {
    "duration": 331,
    "start_time": "2023-11-25T12:51:51.219Z"
   },
   {
    "duration": 6,
    "start_time": "2023-11-25T12:51:51.552Z"
   },
   {
    "duration": 10,
    "start_time": "2023-11-25T12:51:51.561Z"
   },
   {
    "duration": 12,
    "start_time": "2023-11-25T12:51:51.572Z"
   },
   {
    "duration": 11,
    "start_time": "2023-11-25T12:51:51.585Z"
   },
   {
    "duration": 49,
    "start_time": "2023-11-25T12:51:51.597Z"
   },
   {
    "duration": 6,
    "start_time": "2023-11-25T12:51:51.647Z"
   },
   {
    "duration": 16,
    "start_time": "2023-11-25T12:51:51.654Z"
   },
   {
    "duration": 10,
    "start_time": "2023-11-25T12:51:51.671Z"
   },
   {
    "duration": 3,
    "start_time": "2023-11-25T12:51:51.682Z"
   },
   {
    "duration": 6,
    "start_time": "2023-11-25T12:51:51.687Z"
   },
   {
    "duration": 30,
    "start_time": "2023-11-25T12:51:51.694Z"
   },
   {
    "duration": 15,
    "start_time": "2023-11-25T12:51:51.726Z"
   },
   {
    "duration": 3,
    "start_time": "2023-11-25T12:51:51.742Z"
   },
   {
    "duration": 8,
    "start_time": "2023-11-25T12:51:51.747Z"
   },
   {
    "duration": 5,
    "start_time": "2023-11-25T12:51:51.757Z"
   },
   {
    "duration": 4,
    "start_time": "2023-11-25T12:51:51.764Z"
   },
   {
    "duration": 5,
    "start_time": "2023-11-25T12:51:51.769Z"
   },
   {
    "duration": 13,
    "start_time": "2023-11-25T12:51:51.775Z"
   },
   {
    "duration": 908,
    "start_time": "2023-11-25T12:51:51.789Z"
   },
   {
    "duration": 26,
    "start_time": "2023-11-25T12:51:52.701Z"
   },
   {
    "duration": 7,
    "start_time": "2023-11-25T12:51:52.728Z"
   },
   {
    "duration": 25,
    "start_time": "2023-11-25T12:51:52.736Z"
   },
   {
    "duration": 21,
    "start_time": "2023-11-25T12:51:52.762Z"
   },
   {
    "duration": 23,
    "start_time": "2023-11-25T12:51:52.784Z"
   },
   {
    "duration": 20,
    "start_time": "2023-11-25T12:51:52.808Z"
   },
   {
    "duration": 11,
    "start_time": "2023-11-25T12:51:52.829Z"
   },
   {
    "duration": 21,
    "start_time": "2023-11-25T12:51:52.841Z"
   },
   {
    "duration": 13,
    "start_time": "2023-11-25T12:51:52.863Z"
   },
   {
    "duration": 39,
    "start_time": "2023-11-25T12:51:52.877Z"
   },
   {
    "duration": 10,
    "start_time": "2023-11-25T12:51:52.918Z"
   },
   {
    "duration": 17,
    "start_time": "2023-11-25T12:51:52.929Z"
   },
   {
    "duration": 9,
    "start_time": "2023-11-25T12:51:52.947Z"
   },
   {
    "duration": 11,
    "start_time": "2023-11-25T12:51:52.957Z"
   },
   {
    "duration": 111,
    "start_time": "2023-11-25T12:51:52.969Z"
   },
   {
    "duration": 0,
    "start_time": "2023-11-25T12:51:53.081Z"
   },
   {
    "duration": 0,
    "start_time": "2023-11-25T12:51:53.082Z"
   },
   {
    "duration": 0,
    "start_time": "2023-11-25T12:51:53.082Z"
   },
   {
    "duration": 0,
    "start_time": "2023-11-25T12:51:53.083Z"
   },
   {
    "duration": 0,
    "start_time": "2023-11-25T12:51:53.084Z"
   },
   {
    "duration": 0,
    "start_time": "2023-11-25T12:51:53.084Z"
   },
   {
    "duration": 0,
    "start_time": "2023-11-25T12:51:53.085Z"
   },
   {
    "duration": 0,
    "start_time": "2023-11-25T12:51:53.086Z"
   },
   {
    "duration": 0,
    "start_time": "2023-11-25T12:51:53.086Z"
   },
   {
    "duration": 0,
    "start_time": "2023-11-25T12:51:53.087Z"
   },
   {
    "duration": 0,
    "start_time": "2023-11-25T12:51:53.088Z"
   },
   {
    "duration": 0,
    "start_time": "2023-11-25T12:51:53.089Z"
   },
   {
    "duration": 0,
    "start_time": "2023-11-25T12:51:53.089Z"
   },
   {
    "duration": 0,
    "start_time": "2023-11-25T12:51:53.090Z"
   },
   {
    "duration": 1,
    "start_time": "2023-11-25T12:51:53.090Z"
   },
   {
    "duration": 0,
    "start_time": "2023-11-25T12:51:53.091Z"
   },
   {
    "duration": 0,
    "start_time": "2023-11-25T12:51:53.092Z"
   },
   {
    "duration": 0,
    "start_time": "2023-11-25T12:51:53.092Z"
   },
   {
    "duration": 0,
    "start_time": "2023-11-25T12:51:53.093Z"
   },
   {
    "duration": 0,
    "start_time": "2023-11-25T12:51:53.094Z"
   },
   {
    "duration": 0,
    "start_time": "2023-11-25T12:51:53.115Z"
   },
   {
    "duration": 1019,
    "start_time": "2023-11-25T12:56:03.399Z"
   },
   {
    "duration": 37,
    "start_time": "2023-11-25T12:56:04.419Z"
   },
   {
    "duration": 12,
    "start_time": "2023-11-25T12:56:04.457Z"
   },
   {
    "duration": 2,
    "start_time": "2023-11-25T12:56:04.471Z"
   },
   {
    "duration": 3,
    "start_time": "2023-11-25T12:56:04.474Z"
   },
   {
    "duration": 10,
    "start_time": "2023-11-25T12:56:04.478Z"
   },
   {
    "duration": 5,
    "start_time": "2023-11-25T12:56:04.489Z"
   },
   {
    "duration": 372,
    "start_time": "2023-11-25T12:56:04.495Z"
   },
   {
    "duration": 7,
    "start_time": "2023-11-25T12:56:04.868Z"
   },
   {
    "duration": 4,
    "start_time": "2023-11-25T12:56:04.877Z"
   },
   {
    "duration": 7,
    "start_time": "2023-11-25T12:56:04.882Z"
   },
   {
    "duration": 25,
    "start_time": "2023-11-25T12:56:04.890Z"
   },
   {
    "duration": 49,
    "start_time": "2023-11-25T12:56:04.916Z"
   },
   {
    "duration": 4,
    "start_time": "2023-11-25T12:56:04.966Z"
   },
   {
    "duration": 4,
    "start_time": "2023-11-25T12:56:04.971Z"
   },
   {
    "duration": 8,
    "start_time": "2023-11-25T12:56:04.977Z"
   },
   {
    "duration": 10,
    "start_time": "2023-11-25T12:56:04.986Z"
   },
   {
    "duration": 19,
    "start_time": "2023-11-25T12:56:04.997Z"
   },
   {
    "duration": 52,
    "start_time": "2023-11-25T12:56:05.017Z"
   },
   {
    "duration": 15,
    "start_time": "2023-11-25T12:56:05.071Z"
   },
   {
    "duration": 16,
    "start_time": "2023-11-25T12:56:05.088Z"
   },
   {
    "duration": 8,
    "start_time": "2023-11-25T12:56:05.105Z"
   },
   {
    "duration": 14,
    "start_time": "2023-11-25T12:56:05.114Z"
   },
   {
    "duration": 22,
    "start_time": "2023-11-25T12:56:05.129Z"
   },
   {
    "duration": 19,
    "start_time": "2023-11-25T12:56:05.152Z"
   },
   {
    "duration": 12,
    "start_time": "2023-11-25T12:56:05.172Z"
   },
   {
    "duration": 884,
    "start_time": "2023-11-25T12:56:05.186Z"
   },
   {
    "duration": 24,
    "start_time": "2023-11-25T12:56:06.074Z"
   },
   {
    "duration": 17,
    "start_time": "2023-11-25T12:56:06.099Z"
   },
   {
    "duration": 3,
    "start_time": "2023-11-25T12:56:06.117Z"
   },
   {
    "duration": 12,
    "start_time": "2023-11-25T12:56:06.121Z"
   },
   {
    "duration": 14,
    "start_time": "2023-11-25T12:56:06.134Z"
   },
   {
    "duration": 12,
    "start_time": "2023-11-25T12:56:06.150Z"
   },
   {
    "duration": 25,
    "start_time": "2023-11-25T12:56:06.163Z"
   },
   {
    "duration": 31,
    "start_time": "2023-11-25T12:56:06.189Z"
   },
   {
    "duration": 32,
    "start_time": "2023-11-25T12:56:06.221Z"
   },
   {
    "duration": 9,
    "start_time": "2023-11-25T12:56:06.254Z"
   },
   {
    "duration": 7,
    "start_time": "2023-11-25T12:56:06.265Z"
   },
   {
    "duration": 9,
    "start_time": "2023-11-25T12:56:06.273Z"
   },
   {
    "duration": 9,
    "start_time": "2023-11-25T12:56:06.283Z"
   },
   {
    "duration": 103,
    "start_time": "2023-11-25T12:56:06.315Z"
   },
   {
    "duration": 0,
    "start_time": "2023-11-25T12:56:06.419Z"
   },
   {
    "duration": 0,
    "start_time": "2023-11-25T12:56:06.421Z"
   },
   {
    "duration": 0,
    "start_time": "2023-11-25T12:56:06.422Z"
   },
   {
    "duration": 0,
    "start_time": "2023-11-25T12:56:06.423Z"
   },
   {
    "duration": 0,
    "start_time": "2023-11-25T12:56:06.425Z"
   },
   {
    "duration": 0,
    "start_time": "2023-11-25T12:56:06.426Z"
   },
   {
    "duration": 0,
    "start_time": "2023-11-25T12:56:06.428Z"
   },
   {
    "duration": 0,
    "start_time": "2023-11-25T12:56:06.429Z"
   },
   {
    "duration": 0,
    "start_time": "2023-11-25T12:56:06.430Z"
   },
   {
    "duration": 0,
    "start_time": "2023-11-25T12:56:06.431Z"
   },
   {
    "duration": 0,
    "start_time": "2023-11-25T12:56:06.432Z"
   },
   {
    "duration": 0,
    "start_time": "2023-11-25T12:56:06.433Z"
   },
   {
    "duration": 0,
    "start_time": "2023-11-25T12:56:06.434Z"
   },
   {
    "duration": 0,
    "start_time": "2023-11-25T12:56:06.436Z"
   },
   {
    "duration": 0,
    "start_time": "2023-11-25T12:56:06.437Z"
   },
   {
    "duration": 0,
    "start_time": "2023-11-25T12:56:06.438Z"
   },
   {
    "duration": 0,
    "start_time": "2023-11-25T12:56:06.439Z"
   },
   {
    "duration": 0,
    "start_time": "2023-11-25T12:56:06.440Z"
   },
   {
    "duration": 0,
    "start_time": "2023-11-25T12:56:06.442Z"
   },
   {
    "duration": 0,
    "start_time": "2023-11-25T12:56:06.443Z"
   },
   {
    "duration": 0,
    "start_time": "2023-11-25T12:56:06.444Z"
   },
   {
    "duration": 9,
    "start_time": "2023-11-25T12:57:10.164Z"
   },
   {
    "duration": 1000,
    "start_time": "2023-11-25T12:57:21.467Z"
   },
   {
    "duration": 36,
    "start_time": "2023-11-25T12:57:22.469Z"
   },
   {
    "duration": 12,
    "start_time": "2023-11-25T12:57:22.508Z"
   },
   {
    "duration": 2,
    "start_time": "2023-11-25T12:57:22.521Z"
   },
   {
    "duration": 6,
    "start_time": "2023-11-25T12:57:22.524Z"
   },
   {
    "duration": 10,
    "start_time": "2023-11-25T12:57:22.531Z"
   },
   {
    "duration": 8,
    "start_time": "2023-11-25T12:57:22.542Z"
   },
   {
    "duration": 322,
    "start_time": "2023-11-25T12:57:22.551Z"
   },
   {
    "duration": 7,
    "start_time": "2023-11-25T12:57:22.875Z"
   },
   {
    "duration": 30,
    "start_time": "2023-11-25T12:57:22.883Z"
   },
   {
    "duration": 25,
    "start_time": "2023-11-25T12:57:22.914Z"
   },
   {
    "duration": 11,
    "start_time": "2023-11-25T12:57:22.940Z"
   },
   {
    "duration": 67,
    "start_time": "2023-11-25T12:57:22.952Z"
   },
   {
    "duration": 5,
    "start_time": "2023-11-25T12:57:23.020Z"
   },
   {
    "duration": 7,
    "start_time": "2023-11-25T12:57:23.026Z"
   },
   {
    "duration": 23,
    "start_time": "2023-11-25T12:57:23.034Z"
   },
   {
    "duration": 3,
    "start_time": "2023-11-25T12:57:23.058Z"
   },
   {
    "duration": 20,
    "start_time": "2023-11-25T12:57:23.062Z"
   },
   {
    "duration": 21,
    "start_time": "2023-11-25T12:57:23.083Z"
   },
   {
    "duration": 14,
    "start_time": "2023-11-25T12:57:23.105Z"
   },
   {
    "duration": 5,
    "start_time": "2023-11-25T12:57:23.120Z"
   },
   {
    "duration": 11,
    "start_time": "2023-11-25T12:57:23.126Z"
   },
   {
    "duration": 13,
    "start_time": "2023-11-25T12:57:23.138Z"
   },
   {
    "duration": 18,
    "start_time": "2023-11-25T12:57:23.152Z"
   },
   {
    "duration": 13,
    "start_time": "2023-11-25T12:57:23.171Z"
   },
   {
    "duration": 9,
    "start_time": "2023-11-25T12:57:23.186Z"
   },
   {
    "duration": 876,
    "start_time": "2023-11-25T12:57:23.198Z"
   },
   {
    "duration": 24,
    "start_time": "2023-11-25T12:57:24.075Z"
   },
   {
    "duration": 18,
    "start_time": "2023-11-25T12:57:24.100Z"
   },
   {
    "duration": 6,
    "start_time": "2023-11-25T12:57:24.119Z"
   },
   {
    "duration": 10,
    "start_time": "2023-11-25T12:57:24.126Z"
   },
   {
    "duration": 12,
    "start_time": "2023-11-25T12:57:24.137Z"
   },
   {
    "duration": 40,
    "start_time": "2023-11-25T12:57:24.150Z"
   },
   {
    "duration": 28,
    "start_time": "2023-11-25T12:57:24.191Z"
   },
   {
    "duration": 13,
    "start_time": "2023-11-25T12:57:24.221Z"
   },
   {
    "duration": 34,
    "start_time": "2023-11-25T12:57:24.235Z"
   },
   {
    "duration": 11,
    "start_time": "2023-11-25T12:57:24.270Z"
   },
   {
    "duration": 11,
    "start_time": "2023-11-25T12:57:24.282Z"
   },
   {
    "duration": 28,
    "start_time": "2023-11-25T12:57:24.294Z"
   },
   {
    "duration": 9,
    "start_time": "2023-11-25T12:57:24.323Z"
   },
   {
    "duration": 7,
    "start_time": "2023-11-25T12:57:24.333Z"
   },
   {
    "duration": 18,
    "start_time": "2023-11-25T12:57:24.341Z"
   },
   {
    "duration": 18,
    "start_time": "2023-11-25T12:57:24.360Z"
   },
   {
    "duration": 2,
    "start_time": "2023-11-25T12:57:24.379Z"
   },
   {
    "duration": 587,
    "start_time": "2023-11-25T12:57:24.382Z"
   },
   {
    "duration": 823,
    "start_time": "2023-11-25T12:57:24.970Z"
   },
   {
    "duration": 2,
    "start_time": "2023-11-25T12:57:25.794Z"
   },
   {
    "duration": 1648,
    "start_time": "2023-11-25T12:57:25.797Z"
   },
   {
    "duration": 15,
    "start_time": "2023-11-25T12:57:27.447Z"
   },
   {
    "duration": 2665,
    "start_time": "2023-11-25T12:57:27.463Z"
   },
   {
    "duration": 1095,
    "start_time": "2023-11-25T12:57:30.129Z"
   },
   {
    "duration": 5,
    "start_time": "2023-11-25T12:57:31.225Z"
   },
   {
    "duration": 39,
    "start_time": "2023-11-25T12:57:31.231Z"
   },
   {
    "duration": 21,
    "start_time": "2023-11-25T12:57:31.272Z"
   },
   {
    "duration": 78,
    "start_time": "2023-11-25T12:57:31.294Z"
   },
   {
    "duration": 70,
    "start_time": "2023-11-25T12:57:31.373Z"
   },
   {
    "duration": 16,
    "start_time": "2023-11-25T12:57:31.444Z"
   },
   {
    "duration": 35,
    "start_time": "2023-11-25T12:57:31.461Z"
   },
   {
    "duration": 35,
    "start_time": "2023-11-25T12:57:31.497Z"
   },
   {
    "duration": 27,
    "start_time": "2023-11-25T12:57:31.533Z"
   },
   {
    "duration": 364,
    "start_time": "2023-11-25T12:57:31.561Z"
   },
   {
    "duration": 4,
    "start_time": "2023-11-25T12:57:31.927Z"
   },
   {
    "duration": 979,
    "start_time": "2023-11-25T12:59:49.254Z"
   },
   {
    "duration": 41,
    "start_time": "2023-11-25T12:59:50.234Z"
   },
   {
    "duration": 18,
    "start_time": "2023-11-25T12:59:50.276Z"
   },
   {
    "duration": 5,
    "start_time": "2023-11-25T12:59:50.296Z"
   },
   {
    "duration": 6,
    "start_time": "2023-11-25T12:59:50.303Z"
   },
   {
    "duration": 18,
    "start_time": "2023-11-25T12:59:50.310Z"
   },
   {
    "duration": 6,
    "start_time": "2023-11-25T12:59:50.330Z"
   },
   {
    "duration": 338,
    "start_time": "2023-11-25T12:59:50.337Z"
   },
   {
    "duration": 7,
    "start_time": "2023-11-25T12:59:50.676Z"
   },
   {
    "duration": 3,
    "start_time": "2023-11-25T12:59:50.685Z"
   },
   {
    "duration": 26,
    "start_time": "2023-11-25T12:59:50.690Z"
   },
   {
    "duration": 2,
    "start_time": "2023-11-25T12:59:50.717Z"
   },
   {
    "duration": 75,
    "start_time": "2023-11-25T12:59:50.720Z"
   },
   {
    "duration": 6,
    "start_time": "2023-11-25T12:59:50.797Z"
   },
   {
    "duration": 22,
    "start_time": "2023-11-25T12:59:50.804Z"
   },
   {
    "duration": 21,
    "start_time": "2023-11-25T12:59:50.827Z"
   },
   {
    "duration": 12,
    "start_time": "2023-11-25T12:59:50.849Z"
   },
   {
    "duration": 8,
    "start_time": "2023-11-25T12:59:50.862Z"
   },
   {
    "duration": 30,
    "start_time": "2023-11-25T12:59:50.871Z"
   },
   {
    "duration": 15,
    "start_time": "2023-11-25T12:59:50.902Z"
   },
   {
    "duration": 10,
    "start_time": "2023-11-25T12:59:50.918Z"
   },
   {
    "duration": 7,
    "start_time": "2023-11-25T12:59:50.929Z"
   },
   {
    "duration": 10,
    "start_time": "2023-11-25T12:59:50.937Z"
   },
   {
    "duration": 5,
    "start_time": "2023-11-25T12:59:50.948Z"
   },
   {
    "duration": 5,
    "start_time": "2023-11-25T12:59:50.954Z"
   },
   {
    "duration": 3,
    "start_time": "2023-11-25T12:59:50.960Z"
   },
   {
    "duration": 917,
    "start_time": "2023-11-25T12:59:50.964Z"
   },
   {
    "duration": 24,
    "start_time": "2023-11-25T12:59:51.882Z"
   },
   {
    "duration": 7,
    "start_time": "2023-11-25T12:59:51.915Z"
   },
   {
    "duration": 13,
    "start_time": "2023-11-25T12:59:51.923Z"
   },
   {
    "duration": 19,
    "start_time": "2023-11-25T12:59:51.937Z"
   },
   {
    "duration": 11,
    "start_time": "2023-11-25T12:59:51.957Z"
   },
   {
    "duration": 16,
    "start_time": "2023-11-25T12:59:51.970Z"
   },
   {
    "duration": 34,
    "start_time": "2023-11-25T12:59:51.987Z"
   },
   {
    "duration": 12,
    "start_time": "2023-11-25T12:59:52.022Z"
   },
   {
    "duration": 32,
    "start_time": "2023-11-25T12:59:52.035Z"
   },
   {
    "duration": 9,
    "start_time": "2023-11-25T12:59:52.068Z"
   },
   {
    "duration": 23,
    "start_time": "2023-11-25T12:59:52.078Z"
   },
   {
    "duration": 61,
    "start_time": "2023-11-25T12:59:52.101Z"
   },
   {
    "duration": 26,
    "start_time": "2023-11-25T12:59:52.164Z"
   },
   {
    "duration": 31,
    "start_time": "2023-11-25T12:59:52.193Z"
   },
   {
    "duration": 26,
    "start_time": "2023-11-25T12:59:52.225Z"
   },
   {
    "duration": 18,
    "start_time": "2023-11-25T12:59:52.252Z"
   },
   {
    "duration": 2,
    "start_time": "2023-11-25T12:59:52.270Z"
   },
   {
    "duration": 560,
    "start_time": "2023-11-25T12:59:52.273Z"
   },
   {
    "duration": 1136,
    "start_time": "2023-11-25T12:59:52.835Z"
   },
   {
    "duration": 3,
    "start_time": "2023-11-25T12:59:53.972Z"
   },
   {
    "duration": 1077,
    "start_time": "2023-11-25T12:59:53.976Z"
   },
   {
    "duration": 15,
    "start_time": "2023-11-25T12:59:55.054Z"
   },
   {
    "duration": 2865,
    "start_time": "2023-11-25T12:59:55.070Z"
   },
   {
    "duration": 1417,
    "start_time": "2023-11-25T12:59:57.937Z"
   },
   {
    "duration": 7,
    "start_time": "2023-11-25T12:59:59.355Z"
   },
   {
    "duration": 12,
    "start_time": "2023-11-25T12:59:59.364Z"
   },
   {
    "duration": 5,
    "start_time": "2023-11-25T12:59:59.377Z"
   },
   {
    "duration": 6,
    "start_time": "2023-11-25T12:59:59.383Z"
   },
   {
    "duration": 11,
    "start_time": "2023-11-25T12:59:59.390Z"
   },
   {
    "duration": 16,
    "start_time": "2023-11-25T12:59:59.402Z"
   },
   {
    "duration": 7,
    "start_time": "2023-11-25T12:59:59.419Z"
   },
   {
    "duration": 5,
    "start_time": "2023-11-25T12:59:59.427Z"
   },
   {
    "duration": 13,
    "start_time": "2023-11-25T12:59:59.433Z"
   },
   {
    "duration": 379,
    "start_time": "2023-11-25T12:59:59.447Z"
   },
   {
    "duration": 4,
    "start_time": "2023-11-25T12:59:59.827Z"
   },
   {
    "duration": 1039,
    "start_time": "2023-11-25T13:01:05.649Z"
   },
   {
    "duration": 38,
    "start_time": "2023-11-25T13:01:06.690Z"
   },
   {
    "duration": 12,
    "start_time": "2023-11-25T13:01:06.730Z"
   },
   {
    "duration": 2,
    "start_time": "2023-11-25T13:01:06.743Z"
   },
   {
    "duration": 17,
    "start_time": "2023-11-25T13:01:06.746Z"
   },
   {
    "duration": 28,
    "start_time": "2023-11-25T13:01:06.765Z"
   },
   {
    "duration": 5,
    "start_time": "2023-11-25T13:01:06.795Z"
   },
   {
    "duration": 345,
    "start_time": "2023-11-25T13:01:06.801Z"
   },
   {
    "duration": 8,
    "start_time": "2023-11-25T13:01:07.148Z"
   },
   {
    "duration": 4,
    "start_time": "2023-11-25T13:01:07.159Z"
   },
   {
    "duration": 17,
    "start_time": "2023-11-25T13:01:07.164Z"
   },
   {
    "duration": 3,
    "start_time": "2023-11-25T13:01:07.182Z"
   },
   {
    "duration": 66,
    "start_time": "2023-11-25T13:01:07.186Z"
   },
   {
    "duration": 5,
    "start_time": "2023-11-25T13:01:07.254Z"
   },
   {
    "duration": 6,
    "start_time": "2023-11-25T13:01:07.260Z"
   },
   {
    "duration": 13,
    "start_time": "2023-11-25T13:01:07.267Z"
   },
   {
    "duration": 3,
    "start_time": "2023-11-25T13:01:07.281Z"
   },
   {
    "duration": 7,
    "start_time": "2023-11-25T13:01:07.285Z"
   },
   {
    "duration": 36,
    "start_time": "2023-11-25T13:01:07.293Z"
   },
   {
    "duration": 15,
    "start_time": "2023-11-25T13:01:07.330Z"
   },
   {
    "duration": 13,
    "start_time": "2023-11-25T13:01:07.346Z"
   },
   {
    "duration": 7,
    "start_time": "2023-11-25T13:01:07.360Z"
   },
   {
    "duration": 6,
    "start_time": "2023-11-25T13:01:07.368Z"
   },
   {
    "duration": 19,
    "start_time": "2023-11-25T13:01:07.375Z"
   },
   {
    "duration": 9,
    "start_time": "2023-11-25T13:01:07.395Z"
   },
   {
    "duration": 13,
    "start_time": "2023-11-25T13:01:07.405Z"
   },
   {
    "duration": 886,
    "start_time": "2023-11-25T13:01:07.419Z"
   },
   {
    "duration": 27,
    "start_time": "2023-11-25T13:01:08.309Z"
   },
   {
    "duration": 40,
    "start_time": "2023-11-25T13:01:08.337Z"
   },
   {
    "duration": 31,
    "start_time": "2023-11-25T13:01:08.378Z"
   },
   {
    "duration": 19,
    "start_time": "2023-11-25T13:01:08.410Z"
   },
   {
    "duration": 12,
    "start_time": "2023-11-25T13:01:08.430Z"
   },
   {
    "duration": 25,
    "start_time": "2023-11-25T13:01:08.443Z"
   },
   {
    "duration": 31,
    "start_time": "2023-11-25T13:01:08.469Z"
   },
   {
    "duration": 12,
    "start_time": "2023-11-25T13:01:08.502Z"
   },
   {
    "duration": 38,
    "start_time": "2023-11-25T13:01:08.516Z"
   },
   {
    "duration": 10,
    "start_time": "2023-11-25T13:01:08.555Z"
   },
   {
    "duration": 33,
    "start_time": "2023-11-25T13:01:08.567Z"
   },
   {
    "duration": 17,
    "start_time": "2023-11-25T13:01:08.601Z"
   },
   {
    "duration": 8,
    "start_time": "2023-11-25T13:01:08.619Z"
   },
   {
    "duration": 20,
    "start_time": "2023-11-25T13:01:08.628Z"
   },
   {
    "duration": 24,
    "start_time": "2023-11-25T13:01:08.649Z"
   },
   {
    "duration": 22,
    "start_time": "2023-11-25T13:01:08.674Z"
   },
   {
    "duration": 2,
    "start_time": "2023-11-25T13:01:08.698Z"
   },
   {
    "duration": 572,
    "start_time": "2023-11-25T13:01:08.701Z"
   },
   {
    "duration": 1144,
    "start_time": "2023-11-25T13:01:09.275Z"
   },
   {
    "duration": 2,
    "start_time": "2023-11-25T13:01:10.420Z"
   },
   {
    "duration": 938,
    "start_time": "2023-11-25T13:01:10.423Z"
   },
   {
    "duration": 17,
    "start_time": "2023-11-25T13:01:11.362Z"
   },
   {
    "duration": 2642,
    "start_time": "2023-11-25T13:01:11.380Z"
   },
   {
    "duration": 1080,
    "start_time": "2023-11-25T13:01:14.023Z"
   },
   {
    "duration": 14,
    "start_time": "2023-11-25T13:01:15.105Z"
   },
   {
    "duration": 27,
    "start_time": "2023-11-25T13:01:15.120Z"
   },
   {
    "duration": 6,
    "start_time": "2023-11-25T13:01:15.148Z"
   },
   {
    "duration": 6,
    "start_time": "2023-11-25T13:01:15.155Z"
   },
   {
    "duration": 8,
    "start_time": "2023-11-25T13:01:15.162Z"
   },
   {
    "duration": 5,
    "start_time": "2023-11-25T13:01:15.171Z"
   },
   {
    "duration": 9,
    "start_time": "2023-11-25T13:01:15.177Z"
   },
   {
    "duration": 7,
    "start_time": "2023-11-25T13:01:15.188Z"
   },
   {
    "duration": 19,
    "start_time": "2023-11-25T13:01:15.196Z"
   },
   {
    "duration": 346,
    "start_time": "2023-11-25T13:01:15.216Z"
   },
   {
    "duration": 4,
    "start_time": "2023-11-25T13:01:15.563Z"
   },
   {
    "duration": 1066,
    "start_time": "2023-11-25T13:02:30.690Z"
   },
   {
    "duration": 999,
    "start_time": "2023-11-25T13:06:53.544Z"
   },
   {
    "duration": 1005,
    "start_time": "2023-11-25T13:07:14.974Z"
   },
   {
    "duration": 1146,
    "start_time": "2023-11-25T13:13:22.711Z"
   },
   {
    "duration": 1116,
    "start_time": "2023-11-25T13:15:11.303Z"
   },
   {
    "duration": 37,
    "start_time": "2023-11-25T13:15:12.421Z"
   },
   {
    "duration": 13,
    "start_time": "2023-11-25T13:15:12.459Z"
   },
   {
    "duration": 4,
    "start_time": "2023-11-25T13:15:12.474Z"
   },
   {
    "duration": 4,
    "start_time": "2023-11-25T13:15:12.479Z"
   },
   {
    "duration": 14,
    "start_time": "2023-11-25T13:15:12.484Z"
   },
   {
    "duration": 5,
    "start_time": "2023-11-25T13:15:12.500Z"
   },
   {
    "duration": 347,
    "start_time": "2023-11-25T13:15:12.506Z"
   },
   {
    "duration": 7,
    "start_time": "2023-11-25T13:15:12.855Z"
   },
   {
    "duration": 4,
    "start_time": "2023-11-25T13:15:12.863Z"
   },
   {
    "duration": 8,
    "start_time": "2023-11-25T13:15:12.868Z"
   },
   {
    "duration": 4,
    "start_time": "2023-11-25T13:15:12.877Z"
   },
   {
    "duration": 65,
    "start_time": "2023-11-25T13:15:12.882Z"
   },
   {
    "duration": 6,
    "start_time": "2023-11-25T13:15:12.949Z"
   },
   {
    "duration": 4,
    "start_time": "2023-11-25T13:15:12.956Z"
   },
   {
    "duration": 7,
    "start_time": "2023-11-25T13:15:12.961Z"
   },
   {
    "duration": 6,
    "start_time": "2023-11-25T13:15:12.969Z"
   },
   {
    "duration": 5,
    "start_time": "2023-11-25T13:15:12.976Z"
   },
   {
    "duration": 36,
    "start_time": "2023-11-25T13:15:12.982Z"
   },
   {
    "duration": 14,
    "start_time": "2023-11-25T13:15:13.019Z"
   },
   {
    "duration": 2,
    "start_time": "2023-11-25T13:15:13.035Z"
   },
   {
    "duration": 8,
    "start_time": "2023-11-25T13:15:13.038Z"
   },
   {
    "duration": 9,
    "start_time": "2023-11-25T13:15:13.047Z"
   },
   {
    "duration": 5,
    "start_time": "2023-11-25T13:15:13.057Z"
   },
   {
    "duration": 8,
    "start_time": "2023-11-25T13:15:13.063Z"
   },
   {
    "duration": 4,
    "start_time": "2023-11-25T13:15:13.072Z"
   },
   {
    "duration": 934,
    "start_time": "2023-11-25T13:15:13.077Z"
   },
   {
    "duration": 27,
    "start_time": "2023-11-25T13:15:14.015Z"
   },
   {
    "duration": 8,
    "start_time": "2023-11-25T13:15:14.043Z"
   },
   {
    "duration": 4,
    "start_time": "2023-11-25T13:15:14.053Z"
   },
   {
    "duration": 11,
    "start_time": "2023-11-25T13:15:14.058Z"
   },
   {
    "duration": 13,
    "start_time": "2023-11-25T13:15:14.070Z"
   },
   {
    "duration": 41,
    "start_time": "2023-11-25T13:15:14.084Z"
   },
   {
    "duration": 25,
    "start_time": "2023-11-25T13:15:14.126Z"
   },
   {
    "duration": 12,
    "start_time": "2023-11-25T13:15:14.152Z"
   },
   {
    "duration": 54,
    "start_time": "2023-11-25T13:15:14.165Z"
   },
   {
    "duration": 10,
    "start_time": "2023-11-25T13:15:14.221Z"
   },
   {
    "duration": 10,
    "start_time": "2023-11-25T13:15:14.232Z"
   },
   {
    "duration": 9,
    "start_time": "2023-11-25T13:15:14.243Z"
   },
   {
    "duration": 9,
    "start_time": "2023-11-25T13:15:14.253Z"
   },
   {
    "duration": 7,
    "start_time": "2023-11-25T13:15:14.265Z"
   },
   {
    "duration": 43,
    "start_time": "2023-11-25T13:15:14.273Z"
   },
   {
    "duration": 18,
    "start_time": "2023-11-25T13:15:14.317Z"
   },
   {
    "duration": 3,
    "start_time": "2023-11-25T13:15:14.336Z"
   },
   {
    "duration": 602,
    "start_time": "2023-11-25T13:15:14.340Z"
   },
   {
    "duration": 1214,
    "start_time": "2023-11-25T13:15:14.944Z"
   },
   {
    "duration": 2,
    "start_time": "2023-11-25T13:15:16.159Z"
   },
   {
    "duration": 777,
    "start_time": "2023-11-25T13:15:16.162Z"
   },
   {
    "duration": 717,
    "start_time": "2023-11-25T13:15:16.940Z"
   },
   {
    "duration": 14,
    "start_time": "2023-11-25T13:15:17.659Z"
   },
   {
    "duration": 2869,
    "start_time": "2023-11-25T13:15:17.675Z"
   },
   {
    "duration": 1119,
    "start_time": "2023-11-25T13:15:20.545Z"
   },
   {
    "duration": 7,
    "start_time": "2023-11-25T13:15:21.666Z"
   },
   {
    "duration": 6,
    "start_time": "2023-11-25T13:15:21.674Z"
   },
   {
    "duration": 5,
    "start_time": "2023-11-25T13:15:21.682Z"
   },
   {
    "duration": 7,
    "start_time": "2023-11-25T13:15:21.688Z"
   },
   {
    "duration": 6,
    "start_time": "2023-11-25T13:15:21.714Z"
   },
   {
    "duration": 7,
    "start_time": "2023-11-25T13:15:21.722Z"
   },
   {
    "duration": 6,
    "start_time": "2023-11-25T13:15:21.730Z"
   },
   {
    "duration": 6,
    "start_time": "2023-11-25T13:15:21.737Z"
   },
   {
    "duration": 103,
    "start_time": "2023-11-25T13:15:21.745Z"
   },
   {
    "duration": 394,
    "start_time": "2023-11-25T13:15:21.850Z"
   },
   {
    "duration": 5,
    "start_time": "2023-11-25T13:15:22.245Z"
   },
   {
    "duration": 252,
    "start_time": "2023-11-25T13:19:26.802Z"
   },
   {
    "duration": 714,
    "start_time": "2023-11-25T13:19:39.073Z"
   },
   {
    "duration": 1138,
    "start_time": "2023-11-25T13:19:50.002Z"
   },
   {
    "duration": 38,
    "start_time": "2023-11-25T13:19:51.142Z"
   },
   {
    "duration": 14,
    "start_time": "2023-11-25T13:19:51.182Z"
   },
   {
    "duration": 14,
    "start_time": "2023-11-25T13:19:51.198Z"
   },
   {
    "duration": 12,
    "start_time": "2023-11-25T13:19:51.213Z"
   },
   {
    "duration": 14,
    "start_time": "2023-11-25T13:19:51.226Z"
   },
   {
    "duration": 6,
    "start_time": "2023-11-25T13:19:51.241Z"
   },
   {
    "duration": 324,
    "start_time": "2023-11-25T13:19:51.248Z"
   },
   {
    "duration": 8,
    "start_time": "2023-11-25T13:19:51.574Z"
   },
   {
    "duration": 9,
    "start_time": "2023-11-25T13:19:51.584Z"
   },
   {
    "duration": 26,
    "start_time": "2023-11-25T13:19:51.594Z"
   },
   {
    "duration": 3,
    "start_time": "2023-11-25T13:19:51.621Z"
   },
   {
    "duration": 59,
    "start_time": "2023-11-25T13:19:51.625Z"
   },
   {
    "duration": 5,
    "start_time": "2023-11-25T13:19:51.686Z"
   },
   {
    "duration": 10,
    "start_time": "2023-11-25T13:19:51.692Z"
   },
   {
    "duration": 14,
    "start_time": "2023-11-25T13:19:51.703Z"
   },
   {
    "duration": 8,
    "start_time": "2023-11-25T13:19:51.718Z"
   },
   {
    "duration": 17,
    "start_time": "2023-11-25T13:19:51.728Z"
   },
   {
    "duration": 21,
    "start_time": "2023-11-25T13:19:51.747Z"
   },
   {
    "duration": 20,
    "start_time": "2023-11-25T13:19:51.769Z"
   },
   {
    "duration": 22,
    "start_time": "2023-11-25T13:19:51.790Z"
   },
   {
    "duration": 5,
    "start_time": "2023-11-25T13:19:51.814Z"
   },
   {
    "duration": 14,
    "start_time": "2023-11-25T13:19:51.820Z"
   },
   {
    "duration": 33,
    "start_time": "2023-11-25T13:19:51.835Z"
   },
   {
    "duration": 19,
    "start_time": "2023-11-25T13:19:51.869Z"
   },
   {
    "duration": 27,
    "start_time": "2023-11-25T13:19:51.890Z"
   },
   {
    "duration": 930,
    "start_time": "2023-11-25T13:19:51.919Z"
   },
   {
    "duration": 26,
    "start_time": "2023-11-25T13:19:52.853Z"
   },
   {
    "duration": 15,
    "start_time": "2023-11-25T13:19:52.880Z"
   },
   {
    "duration": 4,
    "start_time": "2023-11-25T13:19:52.896Z"
   },
   {
    "duration": 21,
    "start_time": "2023-11-25T13:19:52.901Z"
   },
   {
    "duration": 47,
    "start_time": "2023-11-25T13:19:52.923Z"
   },
   {
    "duration": 17,
    "start_time": "2023-11-25T13:19:52.972Z"
   },
   {
    "duration": 23,
    "start_time": "2023-11-25T13:19:52.990Z"
   },
   {
    "duration": 14,
    "start_time": "2023-11-25T13:19:53.014Z"
   },
   {
    "duration": 34,
    "start_time": "2023-11-25T13:19:53.030Z"
   },
   {
    "duration": 10,
    "start_time": "2023-11-25T13:19:53.065Z"
   },
   {
    "duration": 10,
    "start_time": "2023-11-25T13:19:53.076Z"
   },
   {
    "duration": 45,
    "start_time": "2023-11-25T13:19:53.087Z"
   },
   {
    "duration": 13,
    "start_time": "2023-11-25T13:19:53.133Z"
   },
   {
    "duration": 39,
    "start_time": "2023-11-25T13:19:53.147Z"
   },
   {
    "duration": 40,
    "start_time": "2023-11-25T13:19:53.188Z"
   },
   {
    "duration": 18,
    "start_time": "2023-11-25T13:19:53.229Z"
   },
   {
    "duration": 4,
    "start_time": "2023-11-25T13:19:53.248Z"
   },
   {
    "duration": 573,
    "start_time": "2023-11-25T13:19:53.253Z"
   },
   {
    "duration": 1140,
    "start_time": "2023-11-25T13:19:53.828Z"
   },
   {
    "duration": 2,
    "start_time": "2023-11-25T13:19:54.969Z"
   },
   {
    "duration": 750,
    "start_time": "2023-11-25T13:19:54.972Z"
   },
   {
    "duration": 699,
    "start_time": "2023-11-25T13:19:55.724Z"
   },
   {
    "duration": 16,
    "start_time": "2023-11-25T13:19:56.425Z"
   },
   {
    "duration": 2709,
    "start_time": "2023-11-25T13:19:56.443Z"
   },
   {
    "duration": 1201,
    "start_time": "2023-11-25T13:19:59.154Z"
   },
   {
    "duration": 8,
    "start_time": "2023-11-25T13:20:00.357Z"
   },
   {
    "duration": 46,
    "start_time": "2023-11-25T13:20:00.366Z"
   },
   {
    "duration": 76,
    "start_time": "2023-11-25T13:20:00.413Z"
   },
   {
    "duration": 27,
    "start_time": "2023-11-25T13:20:00.490Z"
   },
   {
    "duration": 36,
    "start_time": "2023-11-25T13:20:00.518Z"
   },
   {
    "duration": 44,
    "start_time": "2023-11-25T13:20:00.556Z"
   },
   {
    "duration": 19,
    "start_time": "2023-11-25T13:20:00.601Z"
   },
   {
    "duration": 29,
    "start_time": "2023-11-25T13:20:00.621Z"
   },
   {
    "duration": 78,
    "start_time": "2023-11-25T13:20:00.651Z"
   },
   {
    "duration": 426,
    "start_time": "2023-11-25T13:20:00.731Z"
   },
   {
    "duration": 4,
    "start_time": "2023-11-25T13:20:01.158Z"
   },
   {
    "duration": 250,
    "start_time": "2023-11-25T13:20:16.492Z"
   },
   {
    "duration": 674,
    "start_time": "2023-11-25T13:20:23.430Z"
   },
   {
    "duration": 124,
    "start_time": "2023-11-25T13:20:43.507Z"
   },
   {
    "duration": 687,
    "start_time": "2023-11-25T13:20:52.089Z"
   },
   {
    "duration": 123,
    "start_time": "2023-11-25T13:22:04.193Z"
   },
   {
    "duration": 762,
    "start_time": "2023-11-25T13:22:10.516Z"
   },
   {
    "duration": 268,
    "start_time": "2023-11-25T13:24:06.001Z"
   },
   {
    "duration": 688,
    "start_time": "2023-11-25T13:24:15.847Z"
   },
   {
    "duration": 120,
    "start_time": "2023-11-25T13:25:44.810Z"
   },
   {
    "duration": 683,
    "start_time": "2023-11-25T13:25:56.264Z"
   },
   {
    "duration": 1148,
    "start_time": "2023-11-25T13:27:02.086Z"
   },
   {
    "duration": 38,
    "start_time": "2023-11-25T13:27:03.235Z"
   },
   {
    "duration": 22,
    "start_time": "2023-11-25T13:27:03.274Z"
   },
   {
    "duration": 5,
    "start_time": "2023-11-25T13:27:03.298Z"
   },
   {
    "duration": 13,
    "start_time": "2023-11-25T13:27:03.304Z"
   },
   {
    "duration": 22,
    "start_time": "2023-11-25T13:27:03.319Z"
   },
   {
    "duration": 7,
    "start_time": "2023-11-25T13:27:03.342Z"
   },
   {
    "duration": 316,
    "start_time": "2023-11-25T13:27:03.350Z"
   },
   {
    "duration": 8,
    "start_time": "2023-11-25T13:27:03.667Z"
   },
   {
    "duration": 5,
    "start_time": "2023-11-25T13:27:03.677Z"
   },
   {
    "duration": 7,
    "start_time": "2023-11-25T13:27:03.683Z"
   },
   {
    "duration": 2,
    "start_time": "2023-11-25T13:27:03.691Z"
   },
   {
    "duration": 68,
    "start_time": "2023-11-25T13:27:03.694Z"
   },
   {
    "duration": 5,
    "start_time": "2023-11-25T13:27:03.763Z"
   },
   {
    "duration": 4,
    "start_time": "2023-11-25T13:27:03.769Z"
   },
   {
    "duration": 10,
    "start_time": "2023-11-25T13:27:03.774Z"
   },
   {
    "duration": 2,
    "start_time": "2023-11-25T13:27:03.785Z"
   },
   {
    "duration": 28,
    "start_time": "2023-11-25T13:27:03.788Z"
   },
   {
    "duration": 17,
    "start_time": "2023-11-25T13:27:03.817Z"
   },
   {
    "duration": 15,
    "start_time": "2023-11-25T13:27:03.835Z"
   },
   {
    "duration": 4,
    "start_time": "2023-11-25T13:27:03.851Z"
   },
   {
    "duration": 4,
    "start_time": "2023-11-25T13:27:03.856Z"
   },
   {
    "duration": 20,
    "start_time": "2023-11-25T13:27:03.861Z"
   },
   {
    "duration": 17,
    "start_time": "2023-11-25T13:27:03.882Z"
   },
   {
    "duration": 13,
    "start_time": "2023-11-25T13:27:03.900Z"
   },
   {
    "duration": 4,
    "start_time": "2023-11-25T13:27:03.914Z"
   },
   {
    "duration": 925,
    "start_time": "2023-11-25T13:27:03.920Z"
   },
   {
    "duration": 25,
    "start_time": "2023-11-25T13:27:04.849Z"
   },
   {
    "duration": 7,
    "start_time": "2023-11-25T13:27:04.876Z"
   },
   {
    "duration": 3,
    "start_time": "2023-11-25T13:27:04.884Z"
   },
   {
    "duration": 29,
    "start_time": "2023-11-25T13:27:04.888Z"
   },
   {
    "duration": 12,
    "start_time": "2023-11-25T13:27:04.919Z"
   },
   {
    "duration": 10,
    "start_time": "2023-11-25T13:27:04.932Z"
   },
   {
    "duration": 23,
    "start_time": "2023-11-25T13:27:04.943Z"
   },
   {
    "duration": 14,
    "start_time": "2023-11-25T13:27:04.967Z"
   },
   {
    "duration": 60,
    "start_time": "2023-11-25T13:27:04.982Z"
   },
   {
    "duration": 11,
    "start_time": "2023-11-25T13:27:05.043Z"
   },
   {
    "duration": 23,
    "start_time": "2023-11-25T13:27:05.056Z"
   },
   {
    "duration": 10,
    "start_time": "2023-11-25T13:27:05.080Z"
   },
   {
    "duration": 10,
    "start_time": "2023-11-25T13:27:05.091Z"
   },
   {
    "duration": 15,
    "start_time": "2023-11-25T13:27:05.102Z"
   },
   {
    "duration": 21,
    "start_time": "2023-11-25T13:27:05.119Z"
   },
   {
    "duration": 20,
    "start_time": "2023-11-25T13:27:05.141Z"
   },
   {
    "duration": 2,
    "start_time": "2023-11-25T13:27:05.163Z"
   },
   {
    "duration": 622,
    "start_time": "2023-11-25T13:27:05.167Z"
   },
   {
    "duration": 1158,
    "start_time": "2023-11-25T13:27:05.791Z"
   },
   {
    "duration": 3,
    "start_time": "2023-11-25T13:27:06.951Z"
   },
   {
    "duration": 1144,
    "start_time": "2023-11-25T13:27:06.955Z"
   },
   {
    "duration": 23,
    "start_time": "2023-11-25T13:27:08.100Z"
   },
   {
    "duration": 2529,
    "start_time": "2023-11-25T13:27:08.124Z"
   },
   {
    "duration": 1437,
    "start_time": "2023-11-25T13:27:10.655Z"
   },
   {
    "duration": 6,
    "start_time": "2023-11-25T13:27:12.093Z"
   },
   {
    "duration": 19,
    "start_time": "2023-11-25T13:27:12.100Z"
   },
   {
    "duration": 5,
    "start_time": "2023-11-25T13:27:12.120Z"
   },
   {
    "duration": 9,
    "start_time": "2023-11-25T13:27:12.126Z"
   },
   {
    "duration": 6,
    "start_time": "2023-11-25T13:27:12.136Z"
   },
   {
    "duration": 12,
    "start_time": "2023-11-25T13:27:12.143Z"
   },
   {
    "duration": 5,
    "start_time": "2023-11-25T13:27:12.156Z"
   },
   {
    "duration": 5,
    "start_time": "2023-11-25T13:27:12.163Z"
   },
   {
    "duration": 6,
    "start_time": "2023-11-25T13:27:12.169Z"
   },
   {
    "duration": 407,
    "start_time": "2023-11-25T13:27:12.176Z"
   },
   {
    "duration": 3,
    "start_time": "2023-11-25T13:27:12.585Z"
   },
   {
    "duration": 2594,
    "start_time": "2023-11-25T13:36:24.159Z"
   },
   {
    "duration": 10,
    "start_time": "2023-11-25T13:44:30.990Z"
   },
   {
    "duration": 6,
    "start_time": "2023-11-25T13:44:45.338Z"
   },
   {
    "duration": 1096,
    "start_time": "2023-11-25T13:45:14.622Z"
   },
   {
    "duration": 37,
    "start_time": "2023-11-25T13:45:15.719Z"
   },
   {
    "duration": 12,
    "start_time": "2023-11-25T13:45:15.757Z"
   },
   {
    "duration": 4,
    "start_time": "2023-11-25T13:45:15.771Z"
   },
   {
    "duration": 7,
    "start_time": "2023-11-25T13:45:15.776Z"
   },
   {
    "duration": 11,
    "start_time": "2023-11-25T13:45:15.785Z"
   },
   {
    "duration": 7,
    "start_time": "2023-11-25T13:45:15.797Z"
   },
   {
    "duration": 348,
    "start_time": "2023-11-25T13:45:15.805Z"
   },
   {
    "duration": 9,
    "start_time": "2023-11-25T13:45:16.155Z"
   },
   {
    "duration": 4,
    "start_time": "2023-11-25T13:45:16.166Z"
   },
   {
    "duration": 6,
    "start_time": "2023-11-25T13:45:16.172Z"
   },
   {
    "duration": 3,
    "start_time": "2023-11-25T13:45:16.179Z"
   },
   {
    "duration": 70,
    "start_time": "2023-11-25T13:45:16.183Z"
   },
   {
    "duration": 5,
    "start_time": "2023-11-25T13:45:16.254Z"
   },
   {
    "duration": 4,
    "start_time": "2023-11-25T13:45:16.260Z"
   },
   {
    "duration": 9,
    "start_time": "2023-11-25T13:45:16.265Z"
   },
   {
    "duration": 3,
    "start_time": "2023-11-25T13:45:16.275Z"
   },
   {
    "duration": 4,
    "start_time": "2023-11-25T13:45:16.280Z"
   },
   {
    "duration": 44,
    "start_time": "2023-11-25T13:45:16.285Z"
   },
   {
    "duration": 16,
    "start_time": "2023-11-25T13:45:16.330Z"
   },
   {
    "duration": 4,
    "start_time": "2023-11-25T13:45:16.347Z"
   },
   {
    "duration": 5,
    "start_time": "2023-11-25T13:45:16.353Z"
   },
   {
    "duration": 12,
    "start_time": "2023-11-25T13:45:16.359Z"
   },
   {
    "duration": 4,
    "start_time": "2023-11-25T13:45:16.372Z"
   },
   {
    "duration": 4,
    "start_time": "2023-11-25T13:45:16.377Z"
   },
   {
    "duration": 5,
    "start_time": "2023-11-25T13:45:16.382Z"
   },
   {
    "duration": 927,
    "start_time": "2023-11-25T13:45:16.388Z"
   },
   {
    "duration": 25,
    "start_time": "2023-11-25T13:45:17.318Z"
   },
   {
    "duration": 7,
    "start_time": "2023-11-25T13:45:17.344Z"
   },
   {
    "duration": 5,
    "start_time": "2023-11-25T13:45:17.352Z"
   },
   {
    "duration": 10,
    "start_time": "2023-11-25T13:45:17.358Z"
   },
   {
    "duration": 12,
    "start_time": "2023-11-25T13:45:17.369Z"
   },
   {
    "duration": 36,
    "start_time": "2023-11-25T13:45:17.382Z"
   },
   {
    "duration": 33,
    "start_time": "2023-11-25T13:45:17.419Z"
   },
   {
    "duration": 13,
    "start_time": "2023-11-25T13:45:17.453Z"
   },
   {
    "duration": 40,
    "start_time": "2023-11-25T13:45:17.467Z"
   },
   {
    "duration": 16,
    "start_time": "2023-11-25T13:45:17.508Z"
   },
   {
    "duration": 16,
    "start_time": "2023-11-25T13:45:17.525Z"
   },
   {
    "duration": 9,
    "start_time": "2023-11-25T13:45:17.542Z"
   },
   {
    "duration": 9,
    "start_time": "2023-11-25T13:45:17.553Z"
   },
   {
    "duration": 7,
    "start_time": "2023-11-25T13:45:17.563Z"
   },
   {
    "duration": 18,
    "start_time": "2023-11-25T13:45:17.571Z"
   },
   {
    "duration": 36,
    "start_time": "2023-11-25T13:45:17.590Z"
   },
   {
    "duration": 2,
    "start_time": "2023-11-25T13:45:17.627Z"
   },
   {
    "duration": 583,
    "start_time": "2023-11-25T13:45:17.630Z"
   },
   {
    "duration": 1152,
    "start_time": "2023-11-25T13:45:18.214Z"
   },
   {
    "duration": 2,
    "start_time": "2023-11-25T13:45:19.367Z"
   },
   {
    "duration": 1146,
    "start_time": "2023-11-25T13:45:19.371Z"
   },
   {
    "duration": 16,
    "start_time": "2023-11-25T13:45:20.518Z"
   },
   {
    "duration": 2502,
    "start_time": "2023-11-25T13:45:20.535Z"
   },
   {
    "duration": 1074,
    "start_time": "2023-11-25T13:45:23.038Z"
   },
   {
    "duration": 6,
    "start_time": "2023-11-25T13:45:24.113Z"
   },
   {
    "duration": 6,
    "start_time": "2023-11-25T13:45:24.120Z"
   },
   {
    "duration": 7,
    "start_time": "2023-11-25T13:45:24.127Z"
   },
   {
    "duration": 8,
    "start_time": "2023-11-25T13:45:24.135Z"
   },
   {
    "duration": 11,
    "start_time": "2023-11-25T13:45:24.144Z"
   },
   {
    "duration": 13,
    "start_time": "2023-11-25T13:45:24.156Z"
   },
   {
    "duration": 7,
    "start_time": "2023-11-25T13:45:24.170Z"
   },
   {
    "duration": 12,
    "start_time": "2023-11-25T13:45:24.179Z"
   },
   {
    "duration": 13,
    "start_time": "2023-11-25T13:45:24.193Z"
   },
   {
    "duration": 11,
    "start_time": "2023-11-25T13:45:24.207Z"
   },
   {
    "duration": 13,
    "start_time": "2023-11-25T13:45:24.219Z"
   },
   {
    "duration": 362,
    "start_time": "2023-11-25T13:45:24.234Z"
   },
   {
    "duration": 4,
    "start_time": "2023-11-25T13:45:24.598Z"
   },
   {
    "duration": 7,
    "start_time": "2023-11-25T13:57:46.641Z"
   },
   {
    "duration": 215,
    "start_time": "2023-11-25T14:06:07.940Z"
   },
   {
    "duration": 891,
    "start_time": "2023-11-25T14:07:42.022Z"
   },
   {
    "duration": 881,
    "start_time": "2023-11-25T14:07:51.494Z"
   },
   {
    "duration": 232,
    "start_time": "2023-11-25T14:08:12.938Z"
   },
   {
    "duration": 7,
    "start_time": "2023-11-25T14:10:00.150Z"
   },
   {
    "duration": 7,
    "start_time": "2023-11-25T14:10:31.107Z"
   },
   {
    "duration": 6,
    "start_time": "2023-11-25T14:11:02.295Z"
   },
   {
    "duration": 161,
    "start_time": "2023-11-25T14:12:37.952Z"
   },
   {
    "duration": 165,
    "start_time": "2023-11-25T14:12:57.000Z"
   },
   {
    "duration": 125,
    "start_time": "2023-11-25T14:26:43.590Z"
   },
   {
    "duration": 97,
    "start_time": "2023-11-25T14:27:13.382Z"
   },
   {
    "duration": 65,
    "start_time": "2023-11-25T14:28:02.083Z"
   },
   {
    "duration": 84,
    "start_time": "2023-11-25T14:28:38.820Z"
   },
   {
    "duration": 67,
    "start_time": "2023-11-25T14:28:46.820Z"
   },
   {
    "duration": 67,
    "start_time": "2023-11-25T14:28:58.355Z"
   },
   {
    "duration": 3,
    "start_time": "2023-11-25T14:31:06.944Z"
   },
   {
    "duration": 3,
    "start_time": "2023-11-25T14:32:13.460Z"
   },
   {
    "duration": 87,
    "start_time": "2023-11-25T14:32:34.412Z"
   },
   {
    "duration": 1041,
    "start_time": "2023-11-25T14:33:46.175Z"
   },
   {
    "duration": 37,
    "start_time": "2023-11-25T14:33:47.218Z"
   },
   {
    "duration": 12,
    "start_time": "2023-11-25T14:33:47.256Z"
   },
   {
    "duration": 2,
    "start_time": "2023-11-25T14:33:47.270Z"
   },
   {
    "duration": 3,
    "start_time": "2023-11-25T14:33:47.273Z"
   },
   {
    "duration": 10,
    "start_time": "2023-11-25T14:33:47.277Z"
   },
   {
    "duration": 5,
    "start_time": "2023-11-25T14:33:47.288Z"
   },
   {
    "duration": 348,
    "start_time": "2023-11-25T14:33:47.294Z"
   },
   {
    "duration": 8,
    "start_time": "2023-11-25T14:33:47.643Z"
   },
   {
    "duration": 5,
    "start_time": "2023-11-25T14:33:47.653Z"
   },
   {
    "duration": 6,
    "start_time": "2023-11-25T14:33:47.659Z"
   },
   {
    "duration": 3,
    "start_time": "2023-11-25T14:33:47.666Z"
   },
   {
    "duration": 67,
    "start_time": "2023-11-25T14:33:47.670Z"
   },
   {
    "duration": 5,
    "start_time": "2023-11-25T14:33:47.739Z"
   },
   {
    "duration": 8,
    "start_time": "2023-11-25T14:33:47.745Z"
   },
   {
    "duration": 8,
    "start_time": "2023-11-25T14:33:47.754Z"
   },
   {
    "duration": 2,
    "start_time": "2023-11-25T14:33:47.764Z"
   },
   {
    "duration": 20,
    "start_time": "2023-11-25T14:33:47.767Z"
   },
   {
    "duration": 27,
    "start_time": "2023-11-25T14:33:47.788Z"
   },
   {
    "duration": 15,
    "start_time": "2023-11-25T14:33:47.816Z"
   },
   {
    "duration": 5,
    "start_time": "2023-11-25T14:33:47.832Z"
   },
   {
    "duration": 6,
    "start_time": "2023-11-25T14:33:47.838Z"
   },
   {
    "duration": 5,
    "start_time": "2023-11-25T14:33:47.845Z"
   },
   {
    "duration": 8,
    "start_time": "2023-11-25T14:33:47.851Z"
   },
   {
    "duration": 4,
    "start_time": "2023-11-25T14:33:47.860Z"
   },
   {
    "duration": 4,
    "start_time": "2023-11-25T14:33:47.865Z"
   },
   {
    "duration": 904,
    "start_time": "2023-11-25T14:33:47.870Z"
   },
   {
    "duration": 24,
    "start_time": "2023-11-25T14:33:48.777Z"
   },
   {
    "duration": 14,
    "start_time": "2023-11-25T14:33:48.802Z"
   },
   {
    "duration": 3,
    "start_time": "2023-11-25T14:33:48.817Z"
   },
   {
    "duration": 11,
    "start_time": "2023-11-25T14:33:48.821Z"
   },
   {
    "duration": 11,
    "start_time": "2023-11-25T14:33:48.833Z"
   },
   {
    "duration": 9,
    "start_time": "2023-11-25T14:33:48.845Z"
   },
   {
    "duration": 22,
    "start_time": "2023-11-25T14:33:48.857Z"
   },
   {
    "duration": 42,
    "start_time": "2023-11-25T14:33:48.880Z"
   },
   {
    "duration": 33,
    "start_time": "2023-11-25T14:33:48.923Z"
   },
   {
    "duration": 9,
    "start_time": "2023-11-25T14:33:48.957Z"
   },
   {
    "duration": 9,
    "start_time": "2023-11-25T14:33:48.967Z"
   },
   {
    "duration": 8,
    "start_time": "2023-11-25T14:33:48.977Z"
   },
   {
    "duration": 9,
    "start_time": "2023-11-25T14:33:48.986Z"
   },
   {
    "duration": 7,
    "start_time": "2023-11-25T14:33:49.015Z"
   },
   {
    "duration": 17,
    "start_time": "2023-11-25T14:33:49.023Z"
   },
   {
    "duration": 18,
    "start_time": "2023-11-25T14:33:49.041Z"
   },
   {
    "duration": 2,
    "start_time": "2023-11-25T14:33:49.060Z"
   },
   {
    "duration": 571,
    "start_time": "2023-11-25T14:33:49.063Z"
   },
   {
    "duration": 1159,
    "start_time": "2023-11-25T14:33:49.636Z"
   },
   {
    "duration": 2,
    "start_time": "2023-11-25T14:33:50.797Z"
   },
   {
    "duration": 1081,
    "start_time": "2023-11-25T14:33:50.801Z"
   },
   {
    "duration": 16,
    "start_time": "2023-11-25T14:33:51.883Z"
   },
   {
    "duration": 2531,
    "start_time": "2023-11-25T14:33:51.900Z"
   },
   {
    "duration": 1068,
    "start_time": "2023-11-25T14:33:54.432Z"
   },
   {
    "duration": 14,
    "start_time": "2023-11-25T14:33:55.501Z"
   },
   {
    "duration": 6,
    "start_time": "2023-11-25T14:33:55.516Z"
   },
   {
    "duration": 6,
    "start_time": "2023-11-25T14:33:55.524Z"
   },
   {
    "duration": 245,
    "start_time": "2023-11-25T14:33:55.531Z"
   },
   {
    "duration": 13,
    "start_time": "2023-11-25T14:33:55.777Z"
   },
   {
    "duration": 7,
    "start_time": "2023-11-25T14:33:55.791Z"
   },
   {
    "duration": 20,
    "start_time": "2023-11-25T14:33:55.799Z"
   },
   {
    "duration": 6,
    "start_time": "2023-11-25T14:33:55.821Z"
   },
   {
    "duration": 6,
    "start_time": "2023-11-25T14:33:55.828Z"
   },
   {
    "duration": 6,
    "start_time": "2023-11-25T14:33:55.835Z"
   },
   {
    "duration": 6,
    "start_time": "2023-11-25T14:33:55.843Z"
   },
   {
    "duration": 6,
    "start_time": "2023-11-25T14:33:55.851Z"
   },
   {
    "duration": 5,
    "start_time": "2023-11-25T14:33:55.858Z"
   },
   {
    "duration": 391,
    "start_time": "2023-11-25T14:33:55.864Z"
   },
   {
    "duration": 4,
    "start_time": "2023-11-25T14:33:56.256Z"
   },
   {
    "duration": 12,
    "start_time": "2023-11-25T14:35:14.228Z"
   },
   {
    "duration": 6,
    "start_time": "2023-11-25T14:40:01.072Z"
   },
   {
    "duration": 179,
    "start_time": "2023-11-25T14:42:11.632Z"
   },
   {
    "duration": 1086,
    "start_time": "2023-11-25T14:43:50.528Z"
   },
   {
    "duration": 37,
    "start_time": "2023-11-25T14:43:51.616Z"
   },
   {
    "duration": 13,
    "start_time": "2023-11-25T14:43:51.654Z"
   },
   {
    "duration": 3,
    "start_time": "2023-11-25T14:43:51.669Z"
   },
   {
    "duration": 4,
    "start_time": "2023-11-25T14:43:51.673Z"
   },
   {
    "duration": 31,
    "start_time": "2023-11-25T14:43:51.678Z"
   },
   {
    "duration": 13,
    "start_time": "2023-11-25T14:43:51.710Z"
   },
   {
    "duration": 326,
    "start_time": "2023-11-25T14:43:51.725Z"
   },
   {
    "duration": 9,
    "start_time": "2023-11-25T14:43:52.052Z"
   },
   {
    "duration": 5,
    "start_time": "2023-11-25T14:43:52.062Z"
   },
   {
    "duration": 7,
    "start_time": "2023-11-25T14:43:52.068Z"
   },
   {
    "duration": 3,
    "start_time": "2023-11-25T14:43:52.076Z"
   },
   {
    "duration": 71,
    "start_time": "2023-11-25T14:43:52.080Z"
   },
   {
    "duration": 4,
    "start_time": "2023-11-25T14:43:52.152Z"
   },
   {
    "duration": 4,
    "start_time": "2023-11-25T14:43:52.157Z"
   },
   {
    "duration": 11,
    "start_time": "2023-11-25T14:43:52.162Z"
   },
   {
    "duration": 3,
    "start_time": "2023-11-25T14:43:52.174Z"
   },
   {
    "duration": 5,
    "start_time": "2023-11-25T14:43:52.178Z"
   },
   {
    "duration": 37,
    "start_time": "2023-11-25T14:43:52.184Z"
   },
   {
    "duration": 14,
    "start_time": "2023-11-25T14:43:52.222Z"
   },
   {
    "duration": 5,
    "start_time": "2023-11-25T14:43:52.238Z"
   },
   {
    "duration": 10,
    "start_time": "2023-11-25T14:43:52.244Z"
   },
   {
    "duration": 7,
    "start_time": "2023-11-25T14:43:52.255Z"
   },
   {
    "duration": 10,
    "start_time": "2023-11-25T14:43:52.263Z"
   },
   {
    "duration": 32,
    "start_time": "2023-11-25T14:43:52.274Z"
   },
   {
    "duration": 17,
    "start_time": "2023-11-25T14:43:52.307Z"
   },
   {
    "duration": 907,
    "start_time": "2023-11-25T14:43:52.325Z"
   },
   {
    "duration": 25,
    "start_time": "2023-11-25T14:43:53.235Z"
   },
   {
    "duration": 7,
    "start_time": "2023-11-25T14:43:53.261Z"
   },
   {
    "duration": 4,
    "start_time": "2023-11-25T14:43:53.269Z"
   },
   {
    "duration": 20,
    "start_time": "2023-11-25T14:43:53.275Z"
   },
   {
    "duration": 22,
    "start_time": "2023-11-25T14:43:53.296Z"
   },
   {
    "duration": 18,
    "start_time": "2023-11-25T14:43:53.319Z"
   },
   {
    "duration": 29,
    "start_time": "2023-11-25T14:43:53.339Z"
   },
   {
    "duration": 13,
    "start_time": "2023-11-25T14:43:53.370Z"
   },
   {
    "duration": 42,
    "start_time": "2023-11-25T14:43:53.384Z"
   },
   {
    "duration": 10,
    "start_time": "2023-11-25T14:43:53.427Z"
   },
   {
    "duration": 14,
    "start_time": "2023-11-25T14:43:53.438Z"
   },
   {
    "duration": 9,
    "start_time": "2023-11-25T14:43:53.453Z"
   },
   {
    "duration": 9,
    "start_time": "2023-11-25T14:43:53.463Z"
   },
   {
    "duration": 9,
    "start_time": "2023-11-25T14:43:53.473Z"
   },
   {
    "duration": 37,
    "start_time": "2023-11-25T14:43:53.483Z"
   },
   {
    "duration": 20,
    "start_time": "2023-11-25T14:43:53.521Z"
   },
   {
    "duration": 2,
    "start_time": "2023-11-25T14:43:53.543Z"
   },
   {
    "duration": 576,
    "start_time": "2023-11-25T14:43:53.546Z"
   },
   {
    "duration": 1149,
    "start_time": "2023-11-25T14:43:54.124Z"
   },
   {
    "duration": 3,
    "start_time": "2023-11-25T14:43:55.274Z"
   },
   {
    "duration": 1108,
    "start_time": "2023-11-25T14:43:55.278Z"
   },
   {
    "duration": 15,
    "start_time": "2023-11-25T14:43:56.387Z"
   },
   {
    "duration": 2530,
    "start_time": "2023-11-25T14:43:56.404Z"
   },
   {
    "duration": 1073,
    "start_time": "2023-11-25T14:43:58.935Z"
   },
   {
    "duration": 8,
    "start_time": "2023-11-25T14:44:00.010Z"
   },
   {
    "duration": 23,
    "start_time": "2023-11-25T14:44:00.019Z"
   },
   {
    "duration": 25,
    "start_time": "2023-11-25T14:44:00.044Z"
   },
   {
    "duration": 285,
    "start_time": "2023-11-25T14:44:00.070Z"
   },
   {
    "duration": 14,
    "start_time": "2023-11-25T14:44:00.357Z"
   },
   {
    "duration": 26,
    "start_time": "2023-11-25T14:44:00.372Z"
   },
   {
    "duration": 170,
    "start_time": "2023-11-25T14:44:00.399Z"
   },
   {
    "duration": 6,
    "start_time": "2023-11-25T14:44:00.571Z"
   },
   {
    "duration": 34,
    "start_time": "2023-11-25T14:44:00.578Z"
   },
   {
    "duration": 204,
    "start_time": "2023-11-25T14:44:00.613Z"
   },
   {
    "duration": 6,
    "start_time": "2023-11-25T14:44:00.818Z"
   },
   {
    "duration": 61,
    "start_time": "2023-11-25T14:44:00.825Z"
   },
   {
    "duration": 222,
    "start_time": "2023-11-25T14:44:00.887Z"
   },
   {
    "duration": 9,
    "start_time": "2023-11-25T14:44:01.110Z"
   },
   {
    "duration": 53,
    "start_time": "2023-11-25T14:44:01.120Z"
   },
   {
    "duration": 422,
    "start_time": "2023-11-25T14:44:01.175Z"
   },
   {
    "duration": 5,
    "start_time": "2023-11-25T14:44:01.598Z"
   },
   {
    "duration": 6,
    "start_time": "2023-11-25T15:06:44.071Z"
   },
   {
    "duration": 99,
    "start_time": "2023-11-25T15:07:08.096Z"
   },
   {
    "duration": 134,
    "start_time": "2023-11-25T15:07:15.235Z"
   },
   {
    "duration": 181,
    "start_time": "2023-11-25T15:07:21.299Z"
   },
   {
    "duration": 172,
    "start_time": "2023-11-25T15:07:36.788Z"
   },
   {
    "duration": 6,
    "start_time": "2023-11-25T15:08:01.766Z"
   },
   {
    "duration": 8,
    "start_time": "2023-11-25T15:15:19.101Z"
   },
   {
    "duration": 2,
    "start_time": "2023-11-25T15:16:49.417Z"
   },
   {
    "duration": 3,
    "start_time": "2023-11-25T15:16:53.773Z"
   },
   {
    "duration": 4,
    "start_time": "2023-11-25T15:17:22.374Z"
   },
   {
    "duration": 3,
    "start_time": "2023-11-25T15:17:50.624Z"
   },
   {
    "duration": 3,
    "start_time": "2023-11-25T15:17:51.019Z"
   },
   {
    "duration": 3,
    "start_time": "2023-11-25T15:18:18.501Z"
   },
   {
    "duration": 3,
    "start_time": "2023-11-25T15:18:25.894Z"
   },
   {
    "duration": 5,
    "start_time": "2023-11-25T15:18:56.553Z"
   },
   {
    "duration": 176,
    "start_time": "2023-11-25T15:19:08.683Z"
   },
   {
    "duration": 6,
    "start_time": "2023-11-25T15:19:46.552Z"
   },
   {
    "duration": 2,
    "start_time": "2023-11-25T15:20:21.666Z"
   },
   {
    "duration": 3,
    "start_time": "2023-11-25T15:20:22.046Z"
   },
   {
    "duration": 4,
    "start_time": "2023-11-25T15:20:28.767Z"
   },
   {
    "duration": 178,
    "start_time": "2023-11-25T15:20:31.840Z"
   },
   {
    "duration": 5,
    "start_time": "2023-11-25T15:20:56.174Z"
   },
   {
    "duration": 177,
    "start_time": "2023-11-25T15:21:08.712Z"
   },
   {
    "duration": 6,
    "start_time": "2023-11-25T15:21:33.954Z"
   },
   {
    "duration": 6,
    "start_time": "2023-11-25T15:21:40.615Z"
   },
   {
    "duration": 7,
    "start_time": "2023-11-25T15:23:11.201Z"
   },
   {
    "duration": 6,
    "start_time": "2023-11-25T15:23:42.766Z"
   },
   {
    "duration": 87,
    "start_time": "2023-11-25T15:39:32.829Z"
   },
   {
    "duration": 12,
    "start_time": "2023-11-25T15:39:38.742Z"
   },
   {
    "duration": 7,
    "start_time": "2023-11-25T15:43:36.772Z"
   },
   {
    "duration": 6,
    "start_time": "2023-11-25T15:43:37.422Z"
   },
   {
    "duration": 1080,
    "start_time": "2023-11-25T15:45:04.791Z"
   },
   {
    "duration": 37,
    "start_time": "2023-11-25T15:45:05.873Z"
   },
   {
    "duration": 13,
    "start_time": "2023-11-25T15:45:05.912Z"
   },
   {
    "duration": 2,
    "start_time": "2023-11-25T15:45:05.926Z"
   },
   {
    "duration": 4,
    "start_time": "2023-11-25T15:45:05.929Z"
   },
   {
    "duration": 17,
    "start_time": "2023-11-25T15:45:05.934Z"
   },
   {
    "duration": 4,
    "start_time": "2023-11-25T15:45:05.952Z"
   },
   {
    "duration": 343,
    "start_time": "2023-11-25T15:45:05.957Z"
   },
   {
    "duration": 7,
    "start_time": "2023-11-25T15:45:06.301Z"
   },
   {
    "duration": 4,
    "start_time": "2023-11-25T15:45:06.316Z"
   },
   {
    "duration": 9,
    "start_time": "2023-11-25T15:45:06.321Z"
   },
   {
    "duration": 3,
    "start_time": "2023-11-25T15:45:06.331Z"
   },
   {
    "duration": 49,
    "start_time": "2023-11-25T15:45:06.335Z"
   },
   {
    "duration": 5,
    "start_time": "2023-11-25T15:45:06.385Z"
   },
   {
    "duration": 6,
    "start_time": "2023-11-25T15:45:06.391Z"
   },
   {
    "duration": 23,
    "start_time": "2023-11-25T15:45:06.398Z"
   },
   {
    "duration": 3,
    "start_time": "2023-11-25T15:45:06.422Z"
   },
   {
    "duration": 9,
    "start_time": "2023-11-25T15:45:06.426Z"
   },
   {
    "duration": 15,
    "start_time": "2023-11-25T15:45:06.436Z"
   },
   {
    "duration": 14,
    "start_time": "2023-11-25T15:45:06.453Z"
   },
   {
    "duration": 8,
    "start_time": "2023-11-25T15:45:06.468Z"
   },
   {
    "duration": 5,
    "start_time": "2023-11-25T15:45:06.477Z"
   },
   {
    "duration": 31,
    "start_time": "2023-11-25T15:45:06.484Z"
   },
   {
    "duration": 4,
    "start_time": "2023-11-25T15:45:06.516Z"
   },
   {
    "duration": 4,
    "start_time": "2023-11-25T15:45:06.521Z"
   },
   {
    "duration": 5,
    "start_time": "2023-11-25T15:45:06.526Z"
   },
   {
    "duration": 885,
    "start_time": "2023-11-25T15:45:06.532Z"
   },
   {
    "duration": 25,
    "start_time": "2023-11-25T15:45:07.421Z"
   },
   {
    "duration": 7,
    "start_time": "2023-11-25T15:45:07.447Z"
   },
   {
    "duration": 4,
    "start_time": "2023-11-25T15:45:07.455Z"
   },
   {
    "duration": 10,
    "start_time": "2023-11-25T15:45:07.460Z"
   },
   {
    "duration": 12,
    "start_time": "2023-11-25T15:45:07.471Z"
   },
   {
    "duration": 38,
    "start_time": "2023-11-25T15:45:07.485Z"
   },
   {
    "duration": 23,
    "start_time": "2023-11-25T15:45:07.524Z"
   },
   {
    "duration": 13,
    "start_time": "2023-11-25T15:45:07.548Z"
   },
   {
    "duration": 33,
    "start_time": "2023-11-25T15:45:07.562Z"
   },
   {
    "duration": 28,
    "start_time": "2023-11-25T15:45:07.596Z"
   },
   {
    "duration": 8,
    "start_time": "2023-11-25T15:45:07.625Z"
   },
   {
    "duration": 9,
    "start_time": "2023-11-25T15:45:07.634Z"
   },
   {
    "duration": 9,
    "start_time": "2023-11-25T15:45:07.644Z"
   },
   {
    "duration": 7,
    "start_time": "2023-11-25T15:45:07.654Z"
   },
   {
    "duration": 17,
    "start_time": "2023-11-25T15:45:07.663Z"
   },
   {
    "duration": 45,
    "start_time": "2023-11-25T15:45:07.681Z"
   },
   {
    "duration": 2,
    "start_time": "2023-11-25T15:45:07.727Z"
   },
   {
    "duration": 559,
    "start_time": "2023-11-25T15:45:07.730Z"
   },
   {
    "duration": 1120,
    "start_time": "2023-11-25T15:45:08.290Z"
   },
   {
    "duration": 4,
    "start_time": "2023-11-25T15:45:09.411Z"
   },
   {
    "duration": 1107,
    "start_time": "2023-11-25T15:45:09.416Z"
   },
   {
    "duration": 18,
    "start_time": "2023-11-25T15:45:10.524Z"
   },
   {
    "duration": 2479,
    "start_time": "2023-11-25T15:45:10.544Z"
   },
   {
    "duration": 1072,
    "start_time": "2023-11-25T15:45:13.024Z"
   },
   {
    "duration": 18,
    "start_time": "2023-11-25T15:45:14.097Z"
   },
   {
    "duration": 88,
    "start_time": "2023-11-25T15:45:14.116Z"
   },
   {
    "duration": 0,
    "start_time": "2023-11-25T15:45:14.206Z"
   },
   {
    "duration": 0,
    "start_time": "2023-11-25T15:45:14.215Z"
   },
   {
    "duration": 0,
    "start_time": "2023-11-25T15:45:14.216Z"
   },
   {
    "duration": 0,
    "start_time": "2023-11-25T15:45:14.217Z"
   },
   {
    "duration": 0,
    "start_time": "2023-11-25T15:45:14.218Z"
   },
   {
    "duration": 0,
    "start_time": "2023-11-25T15:45:14.219Z"
   },
   {
    "duration": 0,
    "start_time": "2023-11-25T15:45:14.221Z"
   },
   {
    "duration": 0,
    "start_time": "2023-11-25T15:45:14.222Z"
   },
   {
    "duration": 0,
    "start_time": "2023-11-25T15:45:14.223Z"
   },
   {
    "duration": 0,
    "start_time": "2023-11-25T15:45:14.224Z"
   },
   {
    "duration": 0,
    "start_time": "2023-11-25T15:45:14.225Z"
   },
   {
    "duration": 0,
    "start_time": "2023-11-25T15:45:14.226Z"
   },
   {
    "duration": 0,
    "start_time": "2023-11-25T15:45:14.227Z"
   },
   {
    "duration": 0,
    "start_time": "2023-11-25T15:45:14.228Z"
   },
   {
    "duration": 0,
    "start_time": "2023-11-25T15:45:14.229Z"
   },
   {
    "duration": 0,
    "start_time": "2023-11-25T15:45:14.231Z"
   },
   {
    "duration": 0,
    "start_time": "2023-11-25T15:45:14.232Z"
   },
   {
    "duration": 6,
    "start_time": "2023-11-25T15:47:47.563Z"
   },
   {
    "duration": 7,
    "start_time": "2023-11-25T15:47:48.200Z"
   },
   {
    "duration": 173,
    "start_time": "2023-11-25T15:47:58.406Z"
   },
   {
    "duration": 13,
    "start_time": "2023-11-25T15:48:05.432Z"
   },
   {
    "duration": 5,
    "start_time": "2023-11-25T15:48:22.741Z"
   },
   {
    "duration": 233,
    "start_time": "2023-11-25T15:48:23.302Z"
   },
   {
    "duration": 7,
    "start_time": "2023-11-25T15:48:28.147Z"
   },
   {
    "duration": 6,
    "start_time": "2023-11-25T15:48:28.744Z"
   },
   {
    "duration": 7,
    "start_time": "2023-11-25T15:54:14.261Z"
   },
   {
    "duration": 1178,
    "start_time": "2023-11-25T15:54:25.095Z"
   },
   {
    "duration": 37,
    "start_time": "2023-11-25T15:54:26.274Z"
   },
   {
    "duration": 14,
    "start_time": "2023-11-25T15:54:26.312Z"
   },
   {
    "duration": 3,
    "start_time": "2023-11-25T15:54:26.327Z"
   },
   {
    "duration": 3,
    "start_time": "2023-11-25T15:54:26.332Z"
   },
   {
    "duration": 10,
    "start_time": "2023-11-25T15:54:26.336Z"
   },
   {
    "duration": 5,
    "start_time": "2023-11-25T15:54:26.348Z"
   },
   {
    "duration": 332,
    "start_time": "2023-11-25T15:54:26.354Z"
   },
   {
    "duration": 7,
    "start_time": "2023-11-25T15:54:26.688Z"
   },
   {
    "duration": 4,
    "start_time": "2023-11-25T15:54:26.696Z"
   },
   {
    "duration": 5,
    "start_time": "2023-11-25T15:54:26.715Z"
   },
   {
    "duration": 2,
    "start_time": "2023-11-25T15:54:26.721Z"
   },
   {
    "duration": 46,
    "start_time": "2023-11-25T15:54:26.725Z"
   },
   {
    "duration": 4,
    "start_time": "2023-11-25T15:54:26.775Z"
   },
   {
    "duration": 4,
    "start_time": "2023-11-25T15:54:26.781Z"
   },
   {
    "duration": 11,
    "start_time": "2023-11-25T15:54:26.786Z"
   },
   {
    "duration": 3,
    "start_time": "2023-11-25T15:54:26.815Z"
   },
   {
    "duration": 17,
    "start_time": "2023-11-25T15:54:26.819Z"
   },
   {
    "duration": 15,
    "start_time": "2023-11-25T15:54:26.837Z"
   },
   {
    "duration": 15,
    "start_time": "2023-11-25T15:54:26.854Z"
   },
   {
    "duration": 8,
    "start_time": "2023-11-25T15:54:26.870Z"
   },
   {
    "duration": 5,
    "start_time": "2023-11-25T15:54:26.879Z"
   },
   {
    "duration": 5,
    "start_time": "2023-11-25T15:54:26.886Z"
   },
   {
    "duration": 4,
    "start_time": "2023-11-25T15:54:26.892Z"
   },
   {
    "duration": 19,
    "start_time": "2023-11-25T15:54:26.897Z"
   },
   {
    "duration": 5,
    "start_time": "2023-11-25T15:54:26.917Z"
   },
   {
    "duration": 936,
    "start_time": "2023-11-25T15:54:26.923Z"
   },
   {
    "duration": 24,
    "start_time": "2023-11-25T15:54:27.861Z"
   },
   {
    "duration": 7,
    "start_time": "2023-11-25T15:54:27.887Z"
   },
   {
    "duration": 20,
    "start_time": "2023-11-25T15:54:27.895Z"
   },
   {
    "duration": 13,
    "start_time": "2023-11-25T15:54:27.916Z"
   },
   {
    "duration": 12,
    "start_time": "2023-11-25T15:54:27.930Z"
   },
   {
    "duration": 9,
    "start_time": "2023-11-25T15:54:27.943Z"
   },
   {
    "duration": 20,
    "start_time": "2023-11-25T15:54:27.953Z"
   },
   {
    "duration": 13,
    "start_time": "2023-11-25T15:54:27.974Z"
   },
   {
    "duration": 75,
    "start_time": "2023-11-25T15:54:27.988Z"
   },
   {
    "duration": 10,
    "start_time": "2023-11-25T15:54:28.064Z"
   },
   {
    "duration": 7,
    "start_time": "2023-11-25T15:54:28.076Z"
   },
   {
    "duration": 10,
    "start_time": "2023-11-25T15:54:28.084Z"
   },
   {
    "duration": 27,
    "start_time": "2023-11-25T15:54:28.095Z"
   },
   {
    "duration": 9,
    "start_time": "2023-11-25T15:54:28.125Z"
   },
   {
    "duration": 19,
    "start_time": "2023-11-25T15:54:28.135Z"
   },
   {
    "duration": 21,
    "start_time": "2023-11-25T15:54:28.156Z"
   },
   {
    "duration": 3,
    "start_time": "2023-11-25T15:54:28.178Z"
   },
   {
    "duration": 550,
    "start_time": "2023-11-25T15:54:28.182Z"
   },
   {
    "duration": 1237,
    "start_time": "2023-11-25T15:54:28.734Z"
   },
   {
    "duration": 2,
    "start_time": "2023-11-25T15:54:29.973Z"
   },
   {
    "duration": 1133,
    "start_time": "2023-11-25T15:54:29.976Z"
   },
   {
    "duration": 18,
    "start_time": "2023-11-25T15:54:31.110Z"
   },
   {
    "duration": 2572,
    "start_time": "2023-11-25T15:54:31.129Z"
   },
   {
    "duration": 1082,
    "start_time": "2023-11-25T15:54:33.702Z"
   },
   {
    "duration": 7,
    "start_time": "2023-11-25T15:54:34.786Z"
   },
   {
    "duration": 9,
    "start_time": "2023-11-25T15:54:34.794Z"
   },
   {
    "duration": 16,
    "start_time": "2023-11-25T15:54:34.804Z"
   },
   {
    "duration": 182,
    "start_time": "2023-11-25T15:54:34.822Z"
   },
   {
    "duration": 14,
    "start_time": "2023-11-25T15:54:35.005Z"
   },
   {
    "duration": 5,
    "start_time": "2023-11-25T15:54:35.020Z"
   },
   {
    "duration": 162,
    "start_time": "2023-11-25T15:54:35.026Z"
   },
   {
    "duration": 6,
    "start_time": "2023-11-25T15:54:35.190Z"
   },
   {
    "duration": 10,
    "start_time": "2023-11-25T15:54:35.197Z"
   },
   {
    "duration": 171,
    "start_time": "2023-11-25T15:54:35.208Z"
   },
   {
    "duration": 5,
    "start_time": "2023-11-25T15:54:35.381Z"
   },
   {
    "duration": 5,
    "start_time": "2023-11-25T15:54:35.387Z"
   },
   {
    "duration": 169,
    "start_time": "2023-11-25T15:54:35.393Z"
   },
   {
    "duration": 6,
    "start_time": "2023-11-25T15:54:35.563Z"
   },
   {
    "duration": 9,
    "start_time": "2023-11-25T15:54:35.570Z"
   },
   {
    "duration": 112,
    "start_time": "2023-11-25T15:54:35.580Z"
   },
   {
    "duration": 5,
    "start_time": "2023-11-25T15:54:35.693Z"
   },
   {
    "duration": 372,
    "start_time": "2023-11-25T15:54:35.699Z"
   },
   {
    "duration": 4,
    "start_time": "2023-11-25T15:54:36.072Z"
   },
   {
    "duration": 121,
    "start_time": "2023-11-25T16:08:49.865Z"
   },
   {
    "duration": 8,
    "start_time": "2023-11-25T16:09:21.885Z"
   },
   {
    "duration": 1206,
    "start_time": "2023-11-25T16:10:53.201Z"
   },
   {
    "duration": 38,
    "start_time": "2023-11-25T16:10:54.408Z"
   },
   {
    "duration": 15,
    "start_time": "2023-11-25T16:10:54.447Z"
   },
   {
    "duration": 2,
    "start_time": "2023-11-25T16:10:54.464Z"
   },
   {
    "duration": 14,
    "start_time": "2023-11-25T16:10:54.467Z"
   },
   {
    "duration": 20,
    "start_time": "2023-11-25T16:10:54.482Z"
   },
   {
    "duration": 5,
    "start_time": "2023-11-25T16:10:54.503Z"
   },
   {
    "duration": 336,
    "start_time": "2023-11-25T16:10:54.509Z"
   },
   {
    "duration": 8,
    "start_time": "2023-11-25T16:10:54.846Z"
   },
   {
    "duration": 4,
    "start_time": "2023-11-25T16:10:54.856Z"
   },
   {
    "duration": 10,
    "start_time": "2023-11-25T16:10:54.861Z"
   },
   {
    "duration": 3,
    "start_time": "2023-11-25T16:10:54.872Z"
   },
   {
    "duration": 66,
    "start_time": "2023-11-25T16:10:54.876Z"
   },
   {
    "duration": 5,
    "start_time": "2023-11-25T16:10:54.943Z"
   },
   {
    "duration": 5,
    "start_time": "2023-11-25T16:10:54.949Z"
   },
   {
    "duration": 7,
    "start_time": "2023-11-25T16:10:54.955Z"
   },
   {
    "duration": 3,
    "start_time": "2023-11-25T16:10:54.963Z"
   },
   {
    "duration": 4,
    "start_time": "2023-11-25T16:10:54.967Z"
   },
   {
    "duration": 44,
    "start_time": "2023-11-25T16:10:54.972Z"
   },
   {
    "duration": 16,
    "start_time": "2023-11-25T16:10:55.018Z"
   },
   {
    "duration": 22,
    "start_time": "2023-11-25T16:10:55.035Z"
   },
   {
    "duration": 11,
    "start_time": "2023-11-25T16:10:55.058Z"
   },
   {
    "duration": 5,
    "start_time": "2023-11-25T16:10:55.071Z"
   },
   {
    "duration": 5,
    "start_time": "2023-11-25T16:10:55.077Z"
   },
   {
    "duration": 4,
    "start_time": "2023-11-25T16:10:55.083Z"
   },
   {
    "duration": 7,
    "start_time": "2023-11-25T16:10:55.088Z"
   },
   {
    "duration": 940,
    "start_time": "2023-11-25T16:10:55.096Z"
   },
   {
    "duration": 25,
    "start_time": "2023-11-25T16:10:56.039Z"
   },
   {
    "duration": 7,
    "start_time": "2023-11-25T16:10:56.065Z"
   },
   {
    "duration": 10,
    "start_time": "2023-11-25T16:10:56.073Z"
   },
   {
    "duration": 20,
    "start_time": "2023-11-25T16:10:56.085Z"
   },
   {
    "duration": 20,
    "start_time": "2023-11-25T16:10:56.106Z"
   },
   {
    "duration": 10,
    "start_time": "2023-11-25T16:10:56.127Z"
   },
   {
    "duration": 23,
    "start_time": "2023-11-25T16:10:56.138Z"
   },
   {
    "duration": 13,
    "start_time": "2023-11-25T16:10:56.162Z"
   },
   {
    "duration": 47,
    "start_time": "2023-11-25T16:10:56.177Z"
   },
   {
    "duration": 10,
    "start_time": "2023-11-25T16:10:56.225Z"
   },
   {
    "duration": 8,
    "start_time": "2023-11-25T16:10:56.236Z"
   },
   {
    "duration": 9,
    "start_time": "2023-11-25T16:10:56.245Z"
   },
   {
    "duration": 8,
    "start_time": "2023-11-25T16:10:56.256Z"
   },
   {
    "duration": 8,
    "start_time": "2023-11-25T16:10:56.265Z"
   },
   {
    "duration": 45,
    "start_time": "2023-11-25T16:10:56.274Z"
   },
   {
    "duration": 18,
    "start_time": "2023-11-25T16:10:56.320Z"
   },
   {
    "duration": 2,
    "start_time": "2023-11-25T16:10:56.339Z"
   },
   {
    "duration": 529,
    "start_time": "2023-11-25T16:10:56.342Z"
   },
   {
    "duration": 1181,
    "start_time": "2023-11-25T16:10:56.872Z"
   },
   {
    "duration": 2,
    "start_time": "2023-11-25T16:10:58.054Z"
   },
   {
    "duration": 1084,
    "start_time": "2023-11-25T16:10:58.058Z"
   },
   {
    "duration": 15,
    "start_time": "2023-11-25T16:10:59.143Z"
   },
   {
    "duration": 2567,
    "start_time": "2023-11-25T16:10:59.159Z"
   },
   {
    "duration": 1075,
    "start_time": "2023-11-25T16:11:01.728Z"
   },
   {
    "duration": 14,
    "start_time": "2023-11-25T16:11:02.804Z"
   },
   {
    "duration": 5,
    "start_time": "2023-11-25T16:11:02.819Z"
   },
   {
    "duration": 6,
    "start_time": "2023-11-25T16:11:02.825Z"
   },
   {
    "duration": 177,
    "start_time": "2023-11-25T16:11:02.832Z"
   },
   {
    "duration": 14,
    "start_time": "2023-11-25T16:11:03.010Z"
   },
   {
    "duration": 5,
    "start_time": "2023-11-25T16:11:03.025Z"
   },
   {
    "duration": 155,
    "start_time": "2023-11-25T16:11:03.031Z"
   },
   {
    "duration": 6,
    "start_time": "2023-11-25T16:11:03.187Z"
   },
   {
    "duration": 13,
    "start_time": "2023-11-25T16:11:03.194Z"
   },
   {
    "duration": 174,
    "start_time": "2023-11-25T16:11:03.208Z"
   },
   {
    "duration": 5,
    "start_time": "2023-11-25T16:11:03.384Z"
   },
   {
    "duration": 30,
    "start_time": "2023-11-25T16:11:03.390Z"
   },
   {
    "duration": 153,
    "start_time": "2023-11-25T16:11:03.421Z"
   },
   {
    "duration": 6,
    "start_time": "2023-11-25T16:11:03.575Z"
   },
   {
    "duration": 30,
    "start_time": "2023-11-25T16:11:03.582Z"
   },
   {
    "duration": 51,
    "start_time": "2023-11-25T16:11:03.613Z"
   },
   {
    "duration": 8,
    "start_time": "2023-11-25T16:11:03.665Z"
   },
   {
    "duration": 373,
    "start_time": "2023-11-25T16:11:03.674Z"
   },
   {
    "duration": 5,
    "start_time": "2023-11-25T16:11:04.048Z"
   },
   {
    "duration": 6,
    "start_time": "2023-11-25T16:11:49.416Z"
   },
   {
    "duration": 6,
    "start_time": "2023-11-25T16:17:05.920Z"
   },
   {
    "duration": 7,
    "start_time": "2023-11-25T16:17:41.946Z"
   },
   {
    "duration": 7,
    "start_time": "2023-11-25T16:21:28.631Z"
   },
   {
    "duration": 5,
    "start_time": "2023-11-25T16:39:53.064Z"
   },
   {
    "duration": 7,
    "start_time": "2023-11-25T16:44:02.049Z"
   },
   {
    "duration": 19,
    "start_time": "2023-11-25T17:02:01.148Z"
   },
   {
    "duration": 1187,
    "start_time": "2023-11-25T17:02:20.470Z"
   },
   {
    "duration": 38,
    "start_time": "2023-11-25T17:02:21.659Z"
   },
   {
    "duration": 14,
    "start_time": "2023-11-25T17:02:21.698Z"
   },
   {
    "duration": 7,
    "start_time": "2023-11-25T17:02:21.713Z"
   },
   {
    "duration": 13,
    "start_time": "2023-11-25T17:02:21.721Z"
   },
   {
    "duration": 11,
    "start_time": "2023-11-25T17:02:21.735Z"
   },
   {
    "duration": 21,
    "start_time": "2023-11-25T17:02:21.748Z"
   },
   {
    "duration": 385,
    "start_time": "2023-11-25T17:02:21.770Z"
   },
   {
    "duration": 8,
    "start_time": "2023-11-25T17:02:22.156Z"
   },
   {
    "duration": 4,
    "start_time": "2023-11-25T17:02:22.166Z"
   },
   {
    "duration": 24,
    "start_time": "2023-11-25T17:02:22.171Z"
   },
   {
    "duration": 15,
    "start_time": "2023-11-25T17:02:22.197Z"
   },
   {
    "duration": 73,
    "start_time": "2023-11-25T17:02:22.214Z"
   },
   {
    "duration": 5,
    "start_time": "2023-11-25T17:02:22.288Z"
   },
   {
    "duration": 4,
    "start_time": "2023-11-25T17:02:22.295Z"
   },
   {
    "duration": 23,
    "start_time": "2023-11-25T17:02:22.314Z"
   },
   {
    "duration": 17,
    "start_time": "2023-11-25T17:02:22.339Z"
   },
   {
    "duration": 25,
    "start_time": "2023-11-25T17:02:22.357Z"
   },
   {
    "duration": 32,
    "start_time": "2023-11-25T17:02:22.383Z"
   },
   {
    "duration": 21,
    "start_time": "2023-11-25T17:02:22.417Z"
   },
   {
    "duration": 17,
    "start_time": "2023-11-25T17:02:22.439Z"
   },
   {
    "duration": 8,
    "start_time": "2023-11-25T17:02:22.458Z"
   },
   {
    "duration": 16,
    "start_time": "2023-11-25T17:02:22.467Z"
   },
   {
    "duration": 6,
    "start_time": "2023-11-25T17:02:22.484Z"
   },
   {
    "duration": 5,
    "start_time": "2023-11-25T17:02:22.491Z"
   },
   {
    "duration": 7,
    "start_time": "2023-11-25T17:02:22.497Z"
   },
   {
    "duration": 966,
    "start_time": "2023-11-25T17:02:22.505Z"
   },
   {
    "duration": 41,
    "start_time": "2023-11-25T17:02:23.475Z"
   },
   {
    "duration": 9,
    "start_time": "2023-11-25T17:02:23.517Z"
   },
   {
    "duration": 31,
    "start_time": "2023-11-25T17:02:23.528Z"
   },
   {
    "duration": 9,
    "start_time": "2023-11-25T17:02:23.560Z"
   },
   {
    "duration": 20,
    "start_time": "2023-11-25T17:02:23.570Z"
   },
   {
    "duration": 10,
    "start_time": "2023-11-25T17:02:23.591Z"
   },
   {
    "duration": 21,
    "start_time": "2023-11-25T17:02:23.602Z"
   },
   {
    "duration": 13,
    "start_time": "2023-11-25T17:02:23.624Z"
   },
   {
    "duration": 35,
    "start_time": "2023-11-25T17:02:23.638Z"
   },
   {
    "duration": 10,
    "start_time": "2023-11-25T17:02:23.674Z"
   },
   {
    "duration": 12,
    "start_time": "2023-11-25T17:02:23.685Z"
   },
   {
    "duration": 23,
    "start_time": "2023-11-25T17:02:23.698Z"
   },
   {
    "duration": 12,
    "start_time": "2023-11-25T17:02:23.722Z"
   },
   {
    "duration": 8,
    "start_time": "2023-11-25T17:02:23.735Z"
   },
   {
    "duration": 17,
    "start_time": "2023-11-25T17:02:23.744Z"
   },
   {
    "duration": 17,
    "start_time": "2023-11-25T17:02:23.762Z"
   },
   {
    "duration": 7,
    "start_time": "2023-11-25T17:02:23.780Z"
   },
   {
    "duration": 527,
    "start_time": "2023-11-25T17:02:23.788Z"
   },
   {
    "duration": 1206,
    "start_time": "2023-11-25T17:02:24.316Z"
   },
   {
    "duration": 2,
    "start_time": "2023-11-25T17:02:25.523Z"
   },
   {
    "duration": 1023,
    "start_time": "2023-11-25T17:02:25.526Z"
   },
   {
    "duration": 16,
    "start_time": "2023-11-25T17:02:26.550Z"
   },
   {
    "duration": 2536,
    "start_time": "2023-11-25T17:02:26.567Z"
   },
   {
    "duration": 1101,
    "start_time": "2023-11-25T17:02:29.104Z"
   },
   {
    "duration": 12,
    "start_time": "2023-11-25T17:02:30.206Z"
   },
   {
    "duration": 20,
    "start_time": "2023-11-25T17:02:30.219Z"
   },
   {
    "duration": 24,
    "start_time": "2023-11-25T17:02:30.240Z"
   },
   {
    "duration": 218,
    "start_time": "2023-11-25T17:02:30.266Z"
   },
   {
    "duration": 13,
    "start_time": "2023-11-25T17:02:30.485Z"
   },
   {
    "duration": 22,
    "start_time": "2023-11-25T17:02:30.499Z"
   },
   {
    "duration": 179,
    "start_time": "2023-11-25T17:02:30.522Z"
   },
   {
    "duration": 6,
    "start_time": "2023-11-25T17:02:30.703Z"
   },
   {
    "duration": 34,
    "start_time": "2023-11-25T17:02:30.715Z"
   },
   {
    "duration": 28,
    "start_time": "2023-11-25T17:02:30.751Z"
   },
   {
    "duration": 27,
    "start_time": "2023-11-25T17:02:30.781Z"
   },
   {
    "duration": 181,
    "start_time": "2023-11-25T17:02:30.810Z"
   },
   {
    "duration": 7,
    "start_time": "2023-11-25T17:02:30.992Z"
   },
   {
    "duration": 36,
    "start_time": "2023-11-25T17:02:31.000Z"
   },
   {
    "duration": 57,
    "start_time": "2023-11-25T17:02:31.037Z"
   },
   {
    "duration": 175,
    "start_time": "2023-11-25T17:02:31.095Z"
   },
   {
    "duration": 7,
    "start_time": "2023-11-25T17:02:31.271Z"
   },
   {
    "duration": 26,
    "start_time": "2023-11-25T17:02:31.279Z"
   },
   {
    "duration": 19,
    "start_time": "2023-11-25T17:02:31.306Z"
   },
   {
    "duration": 24,
    "start_time": "2023-11-25T17:02:31.326Z"
   },
   {
    "duration": 381,
    "start_time": "2023-11-25T17:02:31.351Z"
   },
   {
    "duration": 4,
    "start_time": "2023-11-25T17:02:31.734Z"
   },
   {
    "duration": 43,
    "start_time": "2023-11-25T17:02:31.739Z"
   },
   {
    "duration": 19,
    "start_time": "2023-11-25T17:03:12.938Z"
   },
   {
    "duration": 18,
    "start_time": "2023-11-25T17:04:03.268Z"
   },
   {
    "duration": 1193,
    "start_time": "2023-11-25T17:10:56.959Z"
   },
   {
    "duration": 37,
    "start_time": "2023-11-25T17:10:58.154Z"
   },
   {
    "duration": 14,
    "start_time": "2023-11-25T17:10:58.192Z"
   },
   {
    "duration": 2,
    "start_time": "2023-11-25T17:10:58.208Z"
   },
   {
    "duration": 3,
    "start_time": "2023-11-25T17:10:58.211Z"
   },
   {
    "duration": 14,
    "start_time": "2023-11-25T17:10:58.215Z"
   },
   {
    "duration": 5,
    "start_time": "2023-11-25T17:10:58.230Z"
   },
   {
    "duration": 319,
    "start_time": "2023-11-25T17:10:58.236Z"
   },
   {
    "duration": 8,
    "start_time": "2023-11-25T17:10:58.556Z"
   },
   {
    "duration": 4,
    "start_time": "2023-11-25T17:10:58.565Z"
   },
   {
    "duration": 12,
    "start_time": "2023-11-25T17:10:58.570Z"
   },
   {
    "duration": 4,
    "start_time": "2023-11-25T17:10:58.583Z"
   },
   {
    "duration": 59,
    "start_time": "2023-11-25T17:10:58.588Z"
   },
   {
    "duration": 5,
    "start_time": "2023-11-25T17:10:58.648Z"
   },
   {
    "duration": 4,
    "start_time": "2023-11-25T17:10:58.654Z"
   },
   {
    "duration": 7,
    "start_time": "2023-11-25T17:10:58.659Z"
   },
   {
    "duration": 2,
    "start_time": "2023-11-25T17:10:58.667Z"
   },
   {
    "duration": 5,
    "start_time": "2023-11-25T17:10:58.670Z"
   },
   {
    "duration": 41,
    "start_time": "2023-11-25T17:10:58.676Z"
   },
   {
    "duration": 15,
    "start_time": "2023-11-25T17:10:58.718Z"
   },
   {
    "duration": 3,
    "start_time": "2023-11-25T17:10:58.735Z"
   },
   {
    "duration": 5,
    "start_time": "2023-11-25T17:10:58.739Z"
   },
   {
    "duration": 4,
    "start_time": "2023-11-25T17:10:58.745Z"
   },
   {
    "duration": 4,
    "start_time": "2023-11-25T17:10:58.750Z"
   },
   {
    "duration": 3,
    "start_time": "2023-11-25T17:10:58.755Z"
   },
   {
    "duration": 6,
    "start_time": "2023-11-25T17:10:58.759Z"
   },
   {
    "duration": 943,
    "start_time": "2023-11-25T17:10:58.766Z"
   },
   {
    "duration": 25,
    "start_time": "2023-11-25T17:10:59.715Z"
   },
   {
    "duration": 7,
    "start_time": "2023-11-25T17:10:59.741Z"
   },
   {
    "duration": 4,
    "start_time": "2023-11-25T17:10:59.749Z"
   },
   {
    "duration": 11,
    "start_time": "2023-11-25T17:10:59.754Z"
   },
   {
    "duration": 11,
    "start_time": "2023-11-25T17:10:59.767Z"
   },
   {
    "duration": 10,
    "start_time": "2023-11-25T17:10:59.779Z"
   },
   {
    "duration": 43,
    "start_time": "2023-11-25T17:10:59.790Z"
   },
   {
    "duration": 13,
    "start_time": "2023-11-25T17:10:59.834Z"
   },
   {
    "duration": 33,
    "start_time": "2023-11-25T17:10:59.848Z"
   },
   {
    "duration": 10,
    "start_time": "2023-11-25T17:10:59.882Z"
   },
   {
    "duration": 7,
    "start_time": "2023-11-25T17:10:59.915Z"
   },
   {
    "duration": 8,
    "start_time": "2023-11-25T17:10:59.923Z"
   },
   {
    "duration": 8,
    "start_time": "2023-11-25T17:10:59.932Z"
   },
   {
    "duration": 10,
    "start_time": "2023-11-25T17:10:59.941Z"
   },
   {
    "duration": 21,
    "start_time": "2023-11-25T17:10:59.952Z"
   },
   {
    "duration": 17,
    "start_time": "2023-11-25T17:10:59.974Z"
   },
   {
    "duration": 23,
    "start_time": "2023-11-25T17:10:59.993Z"
   },
   {
    "duration": 563,
    "start_time": "2023-11-25T17:11:00.017Z"
   },
   {
    "duration": 1216,
    "start_time": "2023-11-25T17:11:00.581Z"
   },
   {
    "duration": 3,
    "start_time": "2023-11-25T17:11:01.798Z"
   },
   {
    "duration": 1034,
    "start_time": "2023-11-25T17:11:01.802Z"
   },
   {
    "duration": 15,
    "start_time": "2023-11-25T17:11:02.837Z"
   },
   {
    "duration": 2591,
    "start_time": "2023-11-25T17:11:02.853Z"
   },
   {
    "duration": 1059,
    "start_time": "2023-11-25T17:11:05.445Z"
   },
   {
    "duration": 10,
    "start_time": "2023-11-25T17:11:06.506Z"
   },
   {
    "duration": 50,
    "start_time": "2023-11-25T17:11:06.517Z"
   },
   {
    "duration": 5,
    "start_time": "2023-11-25T17:11:06.569Z"
   },
   {
    "duration": 184,
    "start_time": "2023-11-25T17:11:06.575Z"
   },
   {
    "duration": 12,
    "start_time": "2023-11-25T17:11:06.761Z"
   },
   {
    "duration": 6,
    "start_time": "2023-11-25T17:11:06.775Z"
   },
   {
    "duration": 166,
    "start_time": "2023-11-25T17:11:06.782Z"
   },
   {
    "duration": 8,
    "start_time": "2023-11-25T17:11:06.949Z"
   },
   {
    "duration": 20,
    "start_time": "2023-11-25T17:11:06.958Z"
   },
   {
    "duration": 7,
    "start_time": "2023-11-25T17:11:06.979Z"
   },
   {
    "duration": 6,
    "start_time": "2023-11-25T17:11:06.987Z"
   },
   {
    "duration": 190,
    "start_time": "2023-11-25T17:11:06.994Z"
   },
   {
    "duration": 6,
    "start_time": "2023-11-25T17:11:07.186Z"
   },
   {
    "duration": 10,
    "start_time": "2023-11-25T17:11:07.194Z"
   },
   {
    "duration": 13,
    "start_time": "2023-11-25T17:11:07.205Z"
   },
   {
    "duration": 161,
    "start_time": "2023-11-25T17:11:07.219Z"
   },
   {
    "duration": 7,
    "start_time": "2023-11-25T17:11:07.381Z"
   },
   {
    "duration": 18,
    "start_time": "2023-11-25T17:11:07.389Z"
   },
   {
    "duration": 19,
    "start_time": "2023-11-25T17:11:07.408Z"
   },
   {
    "duration": 12,
    "start_time": "2023-11-25T17:11:07.429Z"
   },
   {
    "duration": 360,
    "start_time": "2023-11-25T17:11:07.442Z"
   },
   {
    "duration": 5,
    "start_time": "2023-11-25T17:11:07.803Z"
   },
   {
    "duration": 18,
    "start_time": "2023-11-25T17:11:07.815Z"
   },
   {
    "duration": 1183,
    "start_time": "2023-11-25T17:12:23.273Z"
   },
   {
    "duration": 36,
    "start_time": "2023-11-25T17:12:24.458Z"
   },
   {
    "duration": 13,
    "start_time": "2023-11-25T17:12:24.495Z"
   },
   {
    "duration": 3,
    "start_time": "2023-11-25T17:12:24.510Z"
   },
   {
    "duration": 4,
    "start_time": "2023-11-25T17:12:24.514Z"
   },
   {
    "duration": 11,
    "start_time": "2023-11-25T17:12:24.519Z"
   },
   {
    "duration": 6,
    "start_time": "2023-11-25T17:12:24.531Z"
   },
   {
    "duration": 321,
    "start_time": "2023-11-25T17:12:24.538Z"
   },
   {
    "duration": 7,
    "start_time": "2023-11-25T17:12:24.861Z"
   },
   {
    "duration": 15,
    "start_time": "2023-11-25T17:12:24.871Z"
   },
   {
    "duration": 8,
    "start_time": "2023-11-25T17:12:24.887Z"
   },
   {
    "duration": 2,
    "start_time": "2023-11-25T17:12:24.897Z"
   },
   {
    "duration": 59,
    "start_time": "2023-11-25T17:12:24.900Z"
   },
   {
    "duration": 5,
    "start_time": "2023-11-25T17:12:24.960Z"
   },
   {
    "duration": 4,
    "start_time": "2023-11-25T17:12:24.966Z"
   },
   {
    "duration": 8,
    "start_time": "2023-11-25T17:12:24.971Z"
   },
   {
    "duration": 3,
    "start_time": "2023-11-25T17:12:24.980Z"
   },
   {
    "duration": 4,
    "start_time": "2023-11-25T17:12:24.984Z"
   },
   {
    "duration": 39,
    "start_time": "2023-11-25T17:12:24.990Z"
   },
   {
    "duration": 15,
    "start_time": "2023-11-25T17:12:25.030Z"
   },
   {
    "duration": 8,
    "start_time": "2023-11-25T17:12:25.047Z"
   },
   {
    "duration": 6,
    "start_time": "2023-11-25T17:12:25.056Z"
   },
   {
    "duration": 5,
    "start_time": "2023-11-25T17:12:25.063Z"
   },
   {
    "duration": 5,
    "start_time": "2023-11-25T17:12:25.070Z"
   },
   {
    "duration": 4,
    "start_time": "2023-11-25T17:12:25.077Z"
   },
   {
    "duration": 35,
    "start_time": "2023-11-25T17:12:25.082Z"
   },
   {
    "duration": 950,
    "start_time": "2023-11-25T17:12:25.118Z"
   },
   {
    "duration": 29,
    "start_time": "2023-11-25T17:12:26.072Z"
   },
   {
    "duration": 18,
    "start_time": "2023-11-25T17:12:26.102Z"
   },
   {
    "duration": 5,
    "start_time": "2023-11-25T17:12:26.121Z"
   },
   {
    "duration": 9,
    "start_time": "2023-11-25T17:12:26.127Z"
   },
   {
    "duration": 12,
    "start_time": "2023-11-25T17:12:26.137Z"
   },
   {
    "duration": 9,
    "start_time": "2023-11-25T17:12:26.150Z"
   },
   {
    "duration": 22,
    "start_time": "2023-11-25T17:12:26.160Z"
   },
   {
    "duration": 38,
    "start_time": "2023-11-25T17:12:26.183Z"
   },
   {
    "duration": 33,
    "start_time": "2023-11-25T17:12:26.222Z"
   },
   {
    "duration": 10,
    "start_time": "2023-11-25T17:12:26.256Z"
   },
   {
    "duration": 7,
    "start_time": "2023-11-25T17:12:26.267Z"
   },
   {
    "duration": 9,
    "start_time": "2023-11-25T17:12:26.275Z"
   },
   {
    "duration": 11,
    "start_time": "2023-11-25T17:12:26.285Z"
   },
   {
    "duration": 6,
    "start_time": "2023-11-25T17:12:26.315Z"
   },
   {
    "duration": 18,
    "start_time": "2023-11-25T17:12:26.322Z"
   },
   {
    "duration": 18,
    "start_time": "2023-11-25T17:12:26.341Z"
   },
   {
    "duration": 2,
    "start_time": "2023-11-25T17:12:26.360Z"
   },
   {
    "duration": 523,
    "start_time": "2023-11-25T17:12:26.363Z"
   },
   {
    "duration": 1190,
    "start_time": "2023-11-25T17:12:26.887Z"
   },
   {
    "duration": 2,
    "start_time": "2023-11-25T17:12:28.078Z"
   },
   {
    "duration": 1039,
    "start_time": "2023-11-25T17:12:28.082Z"
   },
   {
    "duration": 17,
    "start_time": "2023-11-25T17:12:29.122Z"
   },
   {
    "duration": 2570,
    "start_time": "2023-11-25T17:12:29.140Z"
   },
   {
    "duration": 1090,
    "start_time": "2023-11-25T17:12:31.711Z"
   },
   {
    "duration": 13,
    "start_time": "2023-11-25T17:12:32.802Z"
   },
   {
    "duration": 6,
    "start_time": "2023-11-25T17:12:32.816Z"
   },
   {
    "duration": 6,
    "start_time": "2023-11-25T17:12:32.822Z"
   },
   {
    "duration": 176,
    "start_time": "2023-11-25T17:12:32.829Z"
   },
   {
    "duration": 18,
    "start_time": "2023-11-25T17:12:33.006Z"
   },
   {
    "duration": 5,
    "start_time": "2023-11-25T17:12:33.025Z"
   },
   {
    "duration": 154,
    "start_time": "2023-11-25T17:12:33.031Z"
   },
   {
    "duration": 6,
    "start_time": "2023-11-25T17:12:33.186Z"
   },
   {
    "duration": 26,
    "start_time": "2023-11-25T17:12:33.193Z"
   },
   {
    "duration": 6,
    "start_time": "2023-11-25T17:12:33.220Z"
   },
   {
    "duration": 5,
    "start_time": "2023-11-25T17:12:33.227Z"
   },
   {
    "duration": 183,
    "start_time": "2023-11-25T17:12:33.233Z"
   },
   {
    "duration": 6,
    "start_time": "2023-11-25T17:12:33.418Z"
   },
   {
    "duration": 13,
    "start_time": "2023-11-25T17:12:33.425Z"
   },
   {
    "duration": 15,
    "start_time": "2023-11-25T17:12:33.439Z"
   },
   {
    "duration": 160,
    "start_time": "2023-11-25T17:12:33.455Z"
   },
   {
    "duration": 6,
    "start_time": "2023-11-25T17:12:33.616Z"
   },
   {
    "duration": 6,
    "start_time": "2023-11-25T17:12:33.623Z"
   },
   {
    "duration": 8,
    "start_time": "2023-11-25T17:12:33.630Z"
   },
   {
    "duration": 5,
    "start_time": "2023-11-25T17:12:33.639Z"
   },
   {
    "duration": 350,
    "start_time": "2023-11-25T17:12:33.645Z"
   },
   {
    "duration": 4,
    "start_time": "2023-11-25T17:12:33.997Z"
   },
   {
    "duration": 24,
    "start_time": "2023-11-25T17:12:34.002Z"
   },
   {
    "duration": 1245,
    "start_time": "2023-11-25T17:13:16.110Z"
   },
   {
    "duration": 37,
    "start_time": "2023-11-25T17:13:17.357Z"
   },
   {
    "duration": 13,
    "start_time": "2023-11-25T17:13:17.396Z"
   },
   {
    "duration": 3,
    "start_time": "2023-11-25T17:13:17.410Z"
   },
   {
    "duration": 3,
    "start_time": "2023-11-25T17:13:17.414Z"
   },
   {
    "duration": 17,
    "start_time": "2023-11-25T17:13:17.418Z"
   },
   {
    "duration": 5,
    "start_time": "2023-11-25T17:13:17.436Z"
   },
   {
    "duration": 317,
    "start_time": "2023-11-25T17:13:17.442Z"
   },
   {
    "duration": 8,
    "start_time": "2023-11-25T17:13:17.760Z"
   },
   {
    "duration": 4,
    "start_time": "2023-11-25T17:13:17.771Z"
   },
   {
    "duration": 7,
    "start_time": "2023-11-25T17:13:17.777Z"
   },
   {
    "duration": 10,
    "start_time": "2023-11-25T17:13:17.785Z"
   },
   {
    "duration": 65,
    "start_time": "2023-11-25T17:13:17.796Z"
   },
   {
    "duration": 6,
    "start_time": "2023-11-25T17:13:17.862Z"
   },
   {
    "duration": 4,
    "start_time": "2023-11-25T17:13:17.869Z"
   },
   {
    "duration": 7,
    "start_time": "2023-11-25T17:13:17.874Z"
   },
   {
    "duration": 2,
    "start_time": "2023-11-25T17:13:17.882Z"
   },
   {
    "duration": 4,
    "start_time": "2023-11-25T17:13:17.915Z"
   },
   {
    "duration": 15,
    "start_time": "2023-11-25T17:13:17.920Z"
   },
   {
    "duration": 14,
    "start_time": "2023-11-25T17:13:17.936Z"
   },
   {
    "duration": 3,
    "start_time": "2023-11-25T17:13:17.952Z"
   },
   {
    "duration": 5,
    "start_time": "2023-11-25T17:13:17.956Z"
   },
   {
    "duration": 5,
    "start_time": "2023-11-25T17:13:17.962Z"
   },
   {
    "duration": 7,
    "start_time": "2023-11-25T17:13:17.968Z"
   },
   {
    "duration": 3,
    "start_time": "2023-11-25T17:13:18.015Z"
   },
   {
    "duration": 5,
    "start_time": "2023-11-25T17:13:18.019Z"
   },
   {
    "duration": 936,
    "start_time": "2023-11-25T17:13:18.025Z"
   },
   {
    "duration": 24,
    "start_time": "2023-11-25T17:13:18.965Z"
   },
   {
    "duration": 7,
    "start_time": "2023-11-25T17:13:18.990Z"
   },
   {
    "duration": 18,
    "start_time": "2023-11-25T17:13:18.998Z"
   },
   {
    "duration": 9,
    "start_time": "2023-11-25T17:13:19.018Z"
   },
   {
    "duration": 12,
    "start_time": "2023-11-25T17:13:19.028Z"
   },
   {
    "duration": 10,
    "start_time": "2023-11-25T17:13:19.041Z"
   },
   {
    "duration": 21,
    "start_time": "2023-11-25T17:13:19.053Z"
   },
   {
    "duration": 46,
    "start_time": "2023-11-25T17:13:19.075Z"
   },
   {
    "duration": 33,
    "start_time": "2023-11-25T17:13:19.122Z"
   },
   {
    "duration": 9,
    "start_time": "2023-11-25T17:13:19.156Z"
   },
   {
    "duration": 15,
    "start_time": "2023-11-25T17:13:19.166Z"
   },
   {
    "duration": 10,
    "start_time": "2023-11-25T17:13:19.182Z"
   },
   {
    "duration": 28,
    "start_time": "2023-11-25T17:13:19.193Z"
   },
   {
    "duration": 8,
    "start_time": "2023-11-25T17:13:19.223Z"
   },
   {
    "duration": 19,
    "start_time": "2023-11-25T17:13:19.232Z"
   },
   {
    "duration": 18,
    "start_time": "2023-11-25T17:13:19.252Z"
   },
   {
    "duration": 4,
    "start_time": "2023-11-25T17:13:19.271Z"
   },
   {
    "duration": 539,
    "start_time": "2023-11-25T17:13:19.275Z"
   },
   {
    "duration": 1230,
    "start_time": "2023-11-25T17:13:19.816Z"
   },
   {
    "duration": 2,
    "start_time": "2023-11-25T17:13:21.047Z"
   },
   {
    "duration": 1082,
    "start_time": "2023-11-25T17:13:21.051Z"
   },
   {
    "duration": 15,
    "start_time": "2023-11-25T17:13:22.134Z"
   },
   {
    "duration": 2561,
    "start_time": "2023-11-25T17:13:22.150Z"
   },
   {
    "duration": 1098,
    "start_time": "2023-11-25T17:13:24.712Z"
   },
   {
    "duration": 7,
    "start_time": "2023-11-25T17:13:25.812Z"
   },
   {
    "duration": 6,
    "start_time": "2023-11-25T17:13:25.820Z"
   },
   {
    "duration": 6,
    "start_time": "2023-11-25T17:13:25.827Z"
   },
   {
    "duration": 198,
    "start_time": "2023-11-25T17:13:25.835Z"
   },
   {
    "duration": 13,
    "start_time": "2023-11-25T17:13:26.035Z"
   },
   {
    "duration": 5,
    "start_time": "2023-11-25T17:13:26.049Z"
   },
   {
    "duration": 162,
    "start_time": "2023-11-25T17:13:26.055Z"
   },
   {
    "duration": 7,
    "start_time": "2023-11-25T17:13:26.218Z"
   },
   {
    "duration": 6,
    "start_time": "2023-11-25T17:13:26.226Z"
   },
   {
    "duration": 5,
    "start_time": "2023-11-25T17:13:26.233Z"
   },
   {
    "duration": 5,
    "start_time": "2023-11-25T17:13:26.240Z"
   },
   {
    "duration": 199,
    "start_time": "2023-11-25T17:13:26.246Z"
   },
   {
    "duration": 7,
    "start_time": "2023-11-25T17:13:26.447Z"
   },
   {
    "duration": 8,
    "start_time": "2023-11-25T17:13:26.456Z"
   },
   {
    "duration": 7,
    "start_time": "2023-11-25T17:13:26.465Z"
   },
   {
    "duration": 177,
    "start_time": "2023-11-25T17:13:26.473Z"
   },
   {
    "duration": 7,
    "start_time": "2023-11-25T17:13:26.652Z"
   },
   {
    "duration": 7,
    "start_time": "2023-11-25T17:13:26.660Z"
   },
   {
    "duration": 8,
    "start_time": "2023-11-25T17:13:26.668Z"
   },
   {
    "duration": 8,
    "start_time": "2023-11-25T17:13:26.678Z"
   },
   {
    "duration": 219,
    "start_time": "2023-11-25T17:13:26.687Z"
   },
   {
    "duration": 11,
    "start_time": "2023-11-25T17:13:26.907Z"
   },
   {
    "duration": 18,
    "start_time": "2023-11-25T17:13:26.919Z"
   },
   {
    "duration": 5,
    "start_time": "2023-11-25T17:14:03.485Z"
   },
   {
    "duration": 222,
    "start_time": "2023-11-25T17:14:04.122Z"
   },
   {
    "duration": 5,
    "start_time": "2023-11-25T17:14:04.697Z"
   },
   {
    "duration": 20,
    "start_time": "2023-11-25T17:14:05.785Z"
   },
   {
    "duration": 5,
    "start_time": "2023-11-25T17:14:52.539Z"
   },
   {
    "duration": 195,
    "start_time": "2023-11-25T17:14:53.118Z"
   },
   {
    "duration": 4,
    "start_time": "2023-11-25T17:14:53.582Z"
   },
   {
    "duration": 18,
    "start_time": "2023-11-25T17:14:54.776Z"
   },
   {
    "duration": 5,
    "start_time": "2023-11-25T17:15:21.173Z"
   },
   {
    "duration": 169,
    "start_time": "2023-11-25T17:15:21.671Z"
   },
   {
    "duration": 4,
    "start_time": "2023-11-25T17:15:22.108Z"
   },
   {
    "duration": 18,
    "start_time": "2023-11-25T17:15:23.066Z"
   },
   {
    "duration": 4,
    "start_time": "2023-11-25T17:15:40.686Z"
   },
   {
    "duration": 194,
    "start_time": "2023-11-25T17:15:41.203Z"
   },
   {
    "duration": 4,
    "start_time": "2023-11-25T17:15:41.709Z"
   },
   {
    "duration": 18,
    "start_time": "2023-11-25T17:15:42.838Z"
   },
   {
    "duration": 1212,
    "start_time": "2023-11-25T17:19:32.728Z"
   },
   {
    "duration": 36,
    "start_time": "2023-11-25T17:19:33.942Z"
   },
   {
    "duration": 13,
    "start_time": "2023-11-25T17:19:33.979Z"
   },
   {
    "duration": 2,
    "start_time": "2023-11-25T17:19:33.993Z"
   },
   {
    "duration": 9,
    "start_time": "2023-11-25T17:19:33.996Z"
   },
   {
    "duration": 11,
    "start_time": "2023-11-25T17:19:34.006Z"
   },
   {
    "duration": 6,
    "start_time": "2023-11-25T17:19:34.018Z"
   },
   {
    "duration": 353,
    "start_time": "2023-11-25T17:19:34.025Z"
   },
   {
    "duration": 7,
    "start_time": "2023-11-25T17:19:34.380Z"
   },
   {
    "duration": 4,
    "start_time": "2023-11-25T17:19:34.389Z"
   },
   {
    "duration": 24,
    "start_time": "2023-11-25T17:19:34.394Z"
   },
   {
    "duration": 2,
    "start_time": "2023-11-25T17:19:34.420Z"
   },
   {
    "duration": 51,
    "start_time": "2023-11-25T17:19:34.423Z"
   },
   {
    "duration": 5,
    "start_time": "2023-11-25T17:19:34.476Z"
   },
   {
    "duration": 5,
    "start_time": "2023-11-25T17:19:34.482Z"
   },
   {
    "duration": 30,
    "start_time": "2023-11-25T17:19:34.488Z"
   },
   {
    "duration": 3,
    "start_time": "2023-11-25T17:19:34.519Z"
   },
   {
    "duration": 5,
    "start_time": "2023-11-25T17:19:34.523Z"
   },
   {
    "duration": 15,
    "start_time": "2023-11-25T17:19:34.530Z"
   },
   {
    "duration": 15,
    "start_time": "2023-11-25T17:19:34.546Z"
   },
   {
    "duration": 5,
    "start_time": "2023-11-25T17:19:34.563Z"
   },
   {
    "duration": 5,
    "start_time": "2023-11-25T17:19:34.569Z"
   },
   {
    "duration": 5,
    "start_time": "2023-11-25T17:19:34.575Z"
   },
   {
    "duration": 34,
    "start_time": "2023-11-25T17:19:34.581Z"
   },
   {
    "duration": 3,
    "start_time": "2023-11-25T17:19:34.617Z"
   },
   {
    "duration": 4,
    "start_time": "2023-11-25T17:19:34.622Z"
   },
   {
    "duration": 952,
    "start_time": "2023-11-25T17:19:34.627Z"
   },
   {
    "duration": 24,
    "start_time": "2023-11-25T17:19:35.582Z"
   },
   {
    "duration": 14,
    "start_time": "2023-11-25T17:19:35.607Z"
   },
   {
    "duration": 7,
    "start_time": "2023-11-25T17:19:35.622Z"
   },
   {
    "duration": 10,
    "start_time": "2023-11-25T17:19:35.630Z"
   },
   {
    "duration": 12,
    "start_time": "2023-11-25T17:19:35.641Z"
   },
   {
    "duration": 27,
    "start_time": "2023-11-25T17:19:35.655Z"
   },
   {
    "duration": 24,
    "start_time": "2023-11-25T17:19:35.683Z"
   },
   {
    "duration": 17,
    "start_time": "2023-11-25T17:19:35.708Z"
   },
   {
    "duration": 33,
    "start_time": "2023-11-25T17:19:35.726Z"
   },
   {
    "duration": 10,
    "start_time": "2023-11-25T17:19:35.760Z"
   },
   {
    "duration": 8,
    "start_time": "2023-11-25T17:19:35.771Z"
   },
   {
    "duration": 8,
    "start_time": "2023-11-25T17:19:35.780Z"
   },
   {
    "duration": 33,
    "start_time": "2023-11-25T17:19:35.789Z"
   },
   {
    "duration": 8,
    "start_time": "2023-11-25T17:19:35.823Z"
   },
   {
    "duration": 19,
    "start_time": "2023-11-25T17:19:35.832Z"
   },
   {
    "duration": 18,
    "start_time": "2023-11-25T17:19:35.852Z"
   },
   {
    "duration": 2,
    "start_time": "2023-11-25T17:19:35.872Z"
   },
   {
    "duration": 542,
    "start_time": "2023-11-25T17:19:35.875Z"
   },
   {
    "duration": 1204,
    "start_time": "2023-11-25T17:19:36.418Z"
   },
   {
    "duration": 2,
    "start_time": "2023-11-25T17:19:37.624Z"
   },
   {
    "duration": 1279,
    "start_time": "2023-11-25T17:19:37.627Z"
   },
   {
    "duration": 20,
    "start_time": "2023-11-25T17:19:38.907Z"
   },
   {
    "duration": 2582,
    "start_time": "2023-11-25T17:19:38.928Z"
   },
   {
    "duration": 1084,
    "start_time": "2023-11-25T17:19:41.511Z"
   },
   {
    "duration": 6,
    "start_time": "2023-11-25T17:19:42.597Z"
   },
   {
    "duration": 14,
    "start_time": "2023-11-25T17:19:42.604Z"
   },
   {
    "duration": 6,
    "start_time": "2023-11-25T17:19:42.619Z"
   },
   {
    "duration": 179,
    "start_time": "2023-11-25T17:19:42.626Z"
   },
   {
    "duration": 18,
    "start_time": "2023-11-25T17:19:42.806Z"
   },
   {
    "duration": 6,
    "start_time": "2023-11-25T17:19:42.825Z"
   },
   {
    "duration": 161,
    "start_time": "2023-11-25T17:19:42.832Z"
   },
   {
    "duration": 7,
    "start_time": "2023-11-25T17:19:42.995Z"
   },
   {
    "duration": 16,
    "start_time": "2023-11-25T17:19:43.003Z"
   },
   {
    "duration": 6,
    "start_time": "2023-11-25T17:19:43.020Z"
   },
   {
    "duration": 5,
    "start_time": "2023-11-25T17:19:43.028Z"
   },
   {
    "duration": 191,
    "start_time": "2023-11-25T17:19:43.034Z"
   },
   {
    "duration": 6,
    "start_time": "2023-11-25T17:19:43.227Z"
   },
   {
    "duration": 7,
    "start_time": "2023-11-25T17:19:43.234Z"
   },
   {
    "duration": 5,
    "start_time": "2023-11-25T17:19:43.242Z"
   },
   {
    "duration": 176,
    "start_time": "2023-11-25T17:19:43.248Z"
   },
   {
    "duration": 7,
    "start_time": "2023-11-25T17:19:43.425Z"
   },
   {
    "duration": 8,
    "start_time": "2023-11-25T17:19:43.433Z"
   },
   {
    "duration": 9,
    "start_time": "2023-11-25T17:19:43.443Z"
   },
   {
    "duration": 11,
    "start_time": "2023-11-25T17:19:43.453Z"
   },
   {
    "duration": 223,
    "start_time": "2023-11-25T17:19:43.465Z"
   },
   {
    "duration": 4,
    "start_time": "2023-11-25T17:19:43.689Z"
   },
   {
    "duration": 30,
    "start_time": "2023-11-25T17:19:43.694Z"
   },
   {
    "duration": 5,
    "start_time": "2023-11-25T17:23:10.874Z"
   },
   {
    "duration": 186,
    "start_time": "2023-11-25T17:23:11.861Z"
   },
   {
    "duration": 4,
    "start_time": "2023-11-25T17:23:12.306Z"
   },
   {
    "duration": 18,
    "start_time": "2023-11-25T17:23:13.488Z"
   },
   {
    "duration": 5,
    "start_time": "2023-11-25T17:23:40.140Z"
   },
   {
    "duration": 226,
    "start_time": "2023-11-25T17:23:40.703Z"
   },
   {
    "duration": 5,
    "start_time": "2023-11-25T17:23:41.227Z"
   },
   {
    "duration": 20,
    "start_time": "2023-11-25T17:23:42.569Z"
   },
   {
    "duration": 1199,
    "start_time": "2023-11-25T17:24:49.507Z"
   },
   {
    "duration": 37,
    "start_time": "2023-11-25T17:24:50.708Z"
   },
   {
    "duration": 11,
    "start_time": "2023-11-25T17:24:50.747Z"
   },
   {
    "duration": 2,
    "start_time": "2023-11-25T17:24:50.760Z"
   },
   {
    "duration": 3,
    "start_time": "2023-11-25T17:24:50.763Z"
   },
   {
    "duration": 18,
    "start_time": "2023-11-25T17:24:50.767Z"
   },
   {
    "duration": 6,
    "start_time": "2023-11-25T17:24:50.786Z"
   },
   {
    "duration": 351,
    "start_time": "2023-11-25T17:24:50.793Z"
   },
   {
    "duration": 7,
    "start_time": "2023-11-25T17:24:51.145Z"
   },
   {
    "duration": 12,
    "start_time": "2023-11-25T17:24:51.154Z"
   },
   {
    "duration": 9,
    "start_time": "2023-11-25T17:24:51.168Z"
   },
   {
    "duration": 3,
    "start_time": "2023-11-25T17:24:51.179Z"
   },
   {
    "duration": 97,
    "start_time": "2023-11-25T17:24:51.184Z"
   },
   {
    "duration": 9,
    "start_time": "2023-11-25T17:24:51.283Z"
   },
   {
    "duration": 5,
    "start_time": "2023-11-25T17:24:51.294Z"
   },
   {
    "duration": 19,
    "start_time": "2023-11-25T17:24:51.301Z"
   },
   {
    "duration": 14,
    "start_time": "2023-11-25T17:24:51.321Z"
   },
   {
    "duration": 11,
    "start_time": "2023-11-25T17:24:51.337Z"
   },
   {
    "duration": 19,
    "start_time": "2023-11-25T17:24:51.349Z"
   },
   {
    "duration": 15,
    "start_time": "2023-11-25T17:24:51.370Z"
   },
   {
    "duration": 18,
    "start_time": "2023-11-25T17:24:51.386Z"
   },
   {
    "duration": 19,
    "start_time": "2023-11-25T17:24:51.405Z"
   },
   {
    "duration": 10,
    "start_time": "2023-11-25T17:24:51.425Z"
   },
   {
    "duration": 5,
    "start_time": "2023-11-25T17:24:51.436Z"
   },
   {
    "duration": 34,
    "start_time": "2023-11-25T17:24:51.442Z"
   },
   {
    "duration": 10,
    "start_time": "2023-11-25T17:24:51.477Z"
   },
   {
    "duration": 961,
    "start_time": "2023-11-25T17:24:51.488Z"
   },
   {
    "duration": 24,
    "start_time": "2023-11-25T17:24:52.453Z"
   },
   {
    "duration": 8,
    "start_time": "2023-11-25T17:24:52.479Z"
   },
   {
    "duration": 10,
    "start_time": "2023-11-25T17:24:52.488Z"
   },
   {
    "duration": 27,
    "start_time": "2023-11-25T17:24:52.499Z"
   },
   {
    "duration": 25,
    "start_time": "2023-11-25T17:24:52.528Z"
   },
   {
    "duration": 14,
    "start_time": "2023-11-25T17:24:52.555Z"
   },
   {
    "duration": 29,
    "start_time": "2023-11-25T17:24:52.571Z"
   },
   {
    "duration": 14,
    "start_time": "2023-11-25T17:24:52.601Z"
   },
   {
    "duration": 32,
    "start_time": "2023-11-25T17:24:52.616Z"
   },
   {
    "duration": 10,
    "start_time": "2023-11-25T17:24:52.649Z"
   },
   {
    "duration": 16,
    "start_time": "2023-11-25T17:24:52.660Z"
   },
   {
    "duration": 23,
    "start_time": "2023-11-25T17:24:52.677Z"
   },
   {
    "duration": 9,
    "start_time": "2023-11-25T17:24:52.702Z"
   },
   {
    "duration": 8,
    "start_time": "2023-11-25T17:24:52.713Z"
   },
   {
    "duration": 25,
    "start_time": "2023-11-25T17:24:52.722Z"
   },
   {
    "duration": 17,
    "start_time": "2023-11-25T17:24:52.748Z"
   },
   {
    "duration": 2,
    "start_time": "2023-11-25T17:24:52.767Z"
   },
   {
    "duration": 523,
    "start_time": "2023-11-25T17:24:52.769Z"
   },
   {
    "duration": 1192,
    "start_time": "2023-11-25T17:24:53.293Z"
   },
   {
    "duration": 2,
    "start_time": "2023-11-25T17:24:54.486Z"
   },
   {
    "duration": 1041,
    "start_time": "2023-11-25T17:24:54.489Z"
   },
   {
    "duration": 15,
    "start_time": "2023-11-25T17:24:55.532Z"
   },
   {
    "duration": 2558,
    "start_time": "2023-11-25T17:24:55.548Z"
   },
   {
    "duration": 1098,
    "start_time": "2023-11-25T17:24:58.107Z"
   },
   {
    "duration": 12,
    "start_time": "2023-11-25T17:24:59.207Z"
   },
   {
    "duration": 8,
    "start_time": "2023-11-25T17:24:59.220Z"
   },
   {
    "duration": 8,
    "start_time": "2023-11-25T17:24:59.229Z"
   },
   {
    "duration": 190,
    "start_time": "2023-11-25T17:24:59.238Z"
   },
   {
    "duration": 16,
    "start_time": "2023-11-25T17:24:59.429Z"
   },
   {
    "duration": 6,
    "start_time": "2023-11-25T17:24:59.447Z"
   },
   {
    "duration": 168,
    "start_time": "2023-11-25T17:24:59.455Z"
   },
   {
    "duration": 6,
    "start_time": "2023-11-25T17:24:59.624Z"
   },
   {
    "duration": 13,
    "start_time": "2023-11-25T17:24:59.631Z"
   },
   {
    "duration": 6,
    "start_time": "2023-11-25T17:24:59.645Z"
   },
   {
    "duration": 6,
    "start_time": "2023-11-25T17:24:59.652Z"
   },
   {
    "duration": 191,
    "start_time": "2023-11-25T17:24:59.660Z"
   },
   {
    "duration": 7,
    "start_time": "2023-11-25T17:24:59.852Z"
   },
   {
    "duration": 5,
    "start_time": "2023-11-25T17:24:59.860Z"
   },
   {
    "duration": 6,
    "start_time": "2023-11-25T17:24:59.866Z"
   },
   {
    "duration": 176,
    "start_time": "2023-11-25T17:24:59.873Z"
   },
   {
    "duration": 7,
    "start_time": "2023-11-25T17:25:00.050Z"
   },
   {
    "duration": 23,
    "start_time": "2023-11-25T17:25:00.058Z"
   },
   {
    "duration": 22,
    "start_time": "2023-11-25T17:25:00.082Z"
   },
   {
    "duration": 38,
    "start_time": "2023-11-25T17:25:00.105Z"
   },
   {
    "duration": 186,
    "start_time": "2023-11-25T17:25:00.144Z"
   },
   {
    "duration": 4,
    "start_time": "2023-11-25T17:25:00.331Z"
   },
   {
    "duration": 99,
    "start_time": "2023-11-25T17:25:00.337Z"
   },
   {
    "duration": 1199,
    "start_time": "2023-11-25T17:25:54.371Z"
   },
   {
    "duration": 37,
    "start_time": "2023-11-25T17:25:55.571Z"
   },
   {
    "duration": 12,
    "start_time": "2023-11-25T17:25:55.609Z"
   },
   {
    "duration": 2,
    "start_time": "2023-11-25T17:25:55.623Z"
   },
   {
    "duration": 3,
    "start_time": "2023-11-25T17:25:55.625Z"
   },
   {
    "duration": 12,
    "start_time": "2023-11-25T17:25:55.629Z"
   },
   {
    "duration": 5,
    "start_time": "2023-11-25T17:25:55.642Z"
   },
   {
    "duration": 318,
    "start_time": "2023-11-25T17:25:55.648Z"
   },
   {
    "duration": 8,
    "start_time": "2023-11-25T17:25:55.967Z"
   },
   {
    "duration": 20,
    "start_time": "2023-11-25T17:25:55.977Z"
   },
   {
    "duration": 15,
    "start_time": "2023-11-25T17:25:55.999Z"
   },
   {
    "duration": 3,
    "start_time": "2023-11-25T17:25:56.015Z"
   },
   {
    "duration": 50,
    "start_time": "2023-11-25T17:25:56.019Z"
   },
   {
    "duration": 5,
    "start_time": "2023-11-25T17:25:56.070Z"
   },
   {
    "duration": 6,
    "start_time": "2023-11-25T17:25:56.076Z"
   },
   {
    "duration": 10,
    "start_time": "2023-11-25T17:25:56.083Z"
   },
   {
    "duration": 3,
    "start_time": "2023-11-25T17:25:56.094Z"
   },
   {
    "duration": 4,
    "start_time": "2023-11-25T17:25:56.115Z"
   },
   {
    "duration": 18,
    "start_time": "2023-11-25T17:25:56.120Z"
   },
   {
    "duration": 15,
    "start_time": "2023-11-25T17:25:56.139Z"
   },
   {
    "duration": 5,
    "start_time": "2023-11-25T17:25:56.155Z"
   },
   {
    "duration": 7,
    "start_time": "2023-11-25T17:25:56.162Z"
   },
   {
    "duration": 5,
    "start_time": "2023-11-25T17:25:56.171Z"
   },
   {
    "duration": 38,
    "start_time": "2023-11-25T17:25:56.177Z"
   },
   {
    "duration": 5,
    "start_time": "2023-11-25T17:25:56.216Z"
   },
   {
    "duration": 5,
    "start_time": "2023-11-25T17:25:56.222Z"
   },
   {
    "duration": 929,
    "start_time": "2023-11-25T17:25:56.228Z"
   },
   {
    "duration": 27,
    "start_time": "2023-11-25T17:25:57.161Z"
   },
   {
    "duration": 9,
    "start_time": "2023-11-25T17:25:57.189Z"
   },
   {
    "duration": 3,
    "start_time": "2023-11-25T17:25:57.215Z"
   },
   {
    "duration": 12,
    "start_time": "2023-11-25T17:25:57.219Z"
   },
   {
    "duration": 18,
    "start_time": "2023-11-25T17:25:57.233Z"
   },
   {
    "duration": 15,
    "start_time": "2023-11-25T17:25:57.252Z"
   },
   {
    "duration": 22,
    "start_time": "2023-11-25T17:25:57.268Z"
   },
   {
    "duration": 14,
    "start_time": "2023-11-25T17:25:57.315Z"
   },
   {
    "duration": 34,
    "start_time": "2023-11-25T17:25:57.330Z"
   },
   {
    "duration": 12,
    "start_time": "2023-11-25T17:25:57.365Z"
   },
   {
    "duration": 9,
    "start_time": "2023-11-25T17:25:57.378Z"
   },
   {
    "duration": 32,
    "start_time": "2023-11-25T17:25:57.388Z"
   },
   {
    "duration": 8,
    "start_time": "2023-11-25T17:25:57.421Z"
   },
   {
    "duration": 19,
    "start_time": "2023-11-25T17:25:57.430Z"
   },
   {
    "duration": 18,
    "start_time": "2023-11-25T17:25:57.450Z"
   },
   {
    "duration": 18,
    "start_time": "2023-11-25T17:25:57.469Z"
   },
   {
    "duration": 2,
    "start_time": "2023-11-25T17:25:57.488Z"
   },
   {
    "duration": 524,
    "start_time": "2023-11-25T17:25:57.491Z"
   },
   {
    "duration": 1187,
    "start_time": "2023-11-25T17:25:58.016Z"
   },
   {
    "duration": 3,
    "start_time": "2023-11-25T17:25:59.204Z"
   },
   {
    "duration": 1039,
    "start_time": "2023-11-25T17:25:59.215Z"
   },
   {
    "duration": 17,
    "start_time": "2023-11-25T17:26:00.255Z"
   },
   {
    "duration": 2650,
    "start_time": "2023-11-25T17:26:00.273Z"
   },
   {
    "duration": 1077,
    "start_time": "2023-11-25T17:26:02.924Z"
   },
   {
    "duration": 13,
    "start_time": "2023-11-25T17:26:04.002Z"
   },
   {
    "duration": 6,
    "start_time": "2023-11-25T17:26:04.016Z"
   },
   {
    "duration": 6,
    "start_time": "2023-11-25T17:26:04.023Z"
   },
   {
    "duration": 185,
    "start_time": "2023-11-25T17:26:04.030Z"
   },
   {
    "duration": 12,
    "start_time": "2023-11-25T17:26:04.216Z"
   },
   {
    "duration": 9,
    "start_time": "2023-11-25T17:26:04.229Z"
   },
   {
    "duration": 156,
    "start_time": "2023-11-25T17:26:04.240Z"
   },
   {
    "duration": 7,
    "start_time": "2023-11-25T17:26:04.397Z"
   },
   {
    "duration": 14,
    "start_time": "2023-11-25T17:26:04.405Z"
   },
   {
    "duration": 5,
    "start_time": "2023-11-25T17:26:04.421Z"
   },
   {
    "duration": 6,
    "start_time": "2023-11-25T17:26:04.427Z"
   },
   {
    "duration": 186,
    "start_time": "2023-11-25T17:26:04.434Z"
   },
   {
    "duration": 6,
    "start_time": "2023-11-25T17:26:04.622Z"
   },
   {
    "duration": 6,
    "start_time": "2023-11-25T17:26:04.629Z"
   },
   {
    "duration": 6,
    "start_time": "2023-11-25T17:26:04.636Z"
   },
   {
    "duration": 177,
    "start_time": "2023-11-25T17:26:04.643Z"
   },
   {
    "duration": 6,
    "start_time": "2023-11-25T17:26:04.822Z"
   },
   {
    "duration": 7,
    "start_time": "2023-11-25T17:26:04.829Z"
   },
   {
    "duration": 9,
    "start_time": "2023-11-25T17:26:04.837Z"
   },
   {
    "duration": 4,
    "start_time": "2023-11-25T17:26:04.847Z"
   },
   {
    "duration": 167,
    "start_time": "2023-11-25T17:26:04.852Z"
   },
   {
    "duration": 5,
    "start_time": "2023-11-25T17:26:05.020Z"
   },
   {
    "duration": 29,
    "start_time": "2023-11-25T17:26:05.026Z"
   },
   {
    "duration": 4,
    "start_time": "2023-11-25T17:27:42.491Z"
   },
   {
    "duration": 137,
    "start_time": "2023-11-25T17:27:43.487Z"
   },
   {
    "duration": 4,
    "start_time": "2023-11-25T17:27:43.990Z"
   },
   {
    "duration": 18,
    "start_time": "2023-11-25T17:27:45.212Z"
   },
   {
    "duration": 1185,
    "start_time": "2023-11-25T17:28:50.866Z"
   },
   {
    "duration": 37,
    "start_time": "2023-11-25T17:28:52.053Z"
   },
   {
    "duration": 14,
    "start_time": "2023-11-25T17:28:52.091Z"
   },
   {
    "duration": 2,
    "start_time": "2023-11-25T17:28:52.107Z"
   },
   {
    "duration": 10,
    "start_time": "2023-11-25T17:28:52.110Z"
   },
   {
    "duration": 16,
    "start_time": "2023-11-25T17:28:52.121Z"
   },
   {
    "duration": 5,
    "start_time": "2023-11-25T17:28:52.138Z"
   },
   {
    "duration": 340,
    "start_time": "2023-11-25T17:28:52.144Z"
   },
   {
    "duration": 7,
    "start_time": "2023-11-25T17:28:52.485Z"
   },
   {
    "duration": 32,
    "start_time": "2023-11-25T17:28:52.494Z"
   },
   {
    "duration": 8,
    "start_time": "2023-11-25T17:28:52.527Z"
   },
   {
    "duration": 11,
    "start_time": "2023-11-25T17:28:52.536Z"
   },
   {
    "duration": 58,
    "start_time": "2023-11-25T17:28:52.548Z"
   },
   {
    "duration": 6,
    "start_time": "2023-11-25T17:28:52.607Z"
   },
   {
    "duration": 10,
    "start_time": "2023-11-25T17:28:52.614Z"
   },
   {
    "duration": 9,
    "start_time": "2023-11-25T17:28:52.625Z"
   },
   {
    "duration": 4,
    "start_time": "2023-11-25T17:28:52.635Z"
   },
   {
    "duration": 11,
    "start_time": "2023-11-25T17:28:52.640Z"
   },
   {
    "duration": 19,
    "start_time": "2023-11-25T17:28:52.653Z"
   },
   {
    "duration": 15,
    "start_time": "2023-11-25T17:28:52.673Z"
   },
   {
    "duration": 3,
    "start_time": "2023-11-25T17:28:52.690Z"
   },
   {
    "duration": 24,
    "start_time": "2023-11-25T17:28:52.694Z"
   },
   {
    "duration": 19,
    "start_time": "2023-11-25T17:28:52.719Z"
   },
   {
    "duration": 6,
    "start_time": "2023-11-25T17:28:52.739Z"
   },
   {
    "duration": 5,
    "start_time": "2023-11-25T17:28:52.746Z"
   },
   {
    "duration": 7,
    "start_time": "2023-11-25T17:28:52.753Z"
   },
   {
    "duration": 938,
    "start_time": "2023-11-25T17:28:52.762Z"
   },
   {
    "duration": 30,
    "start_time": "2023-11-25T17:28:53.704Z"
   },
   {
    "duration": 8,
    "start_time": "2023-11-25T17:28:53.735Z"
   },
   {
    "duration": 3,
    "start_time": "2023-11-25T17:28:53.744Z"
   },
   {
    "duration": 10,
    "start_time": "2023-11-25T17:28:53.748Z"
   },
   {
    "duration": 12,
    "start_time": "2023-11-25T17:28:53.759Z"
   },
   {
    "duration": 8,
    "start_time": "2023-11-25T17:28:53.773Z"
   },
   {
    "duration": 45,
    "start_time": "2023-11-25T17:28:53.782Z"
   },
   {
    "duration": 13,
    "start_time": "2023-11-25T17:28:53.829Z"
   },
   {
    "duration": 32,
    "start_time": "2023-11-25T17:28:53.843Z"
   },
   {
    "duration": 10,
    "start_time": "2023-11-25T17:28:53.876Z"
   },
   {
    "duration": 7,
    "start_time": "2023-11-25T17:28:53.887Z"
   },
   {
    "duration": 27,
    "start_time": "2023-11-25T17:28:53.895Z"
   },
   {
    "duration": 9,
    "start_time": "2023-11-25T17:28:53.923Z"
   },
   {
    "duration": 8,
    "start_time": "2023-11-25T17:28:53.933Z"
   },
   {
    "duration": 17,
    "start_time": "2023-11-25T17:28:53.942Z"
   },
   {
    "duration": 17,
    "start_time": "2023-11-25T17:28:53.961Z"
   },
   {
    "duration": 2,
    "start_time": "2023-11-25T17:28:53.979Z"
   },
   {
    "duration": 539,
    "start_time": "2023-11-25T17:28:53.982Z"
   },
   {
    "duration": 1193,
    "start_time": "2023-11-25T17:28:54.522Z"
   },
   {
    "duration": 2,
    "start_time": "2023-11-25T17:28:55.716Z"
   },
   {
    "duration": 1010,
    "start_time": "2023-11-25T17:28:55.719Z"
   },
   {
    "duration": 15,
    "start_time": "2023-11-25T17:28:56.730Z"
   },
   {
    "duration": 2562,
    "start_time": "2023-11-25T17:28:56.746Z"
   },
   {
    "duration": 1123,
    "start_time": "2023-11-25T17:28:59.309Z"
   },
   {
    "duration": 6,
    "start_time": "2023-11-25T17:29:00.433Z"
   },
   {
    "duration": 34,
    "start_time": "2023-11-25T17:29:00.440Z"
   },
   {
    "duration": 25,
    "start_time": "2023-11-25T17:29:00.475Z"
   },
   {
    "duration": 189,
    "start_time": "2023-11-25T17:29:00.501Z"
   },
   {
    "duration": 12,
    "start_time": "2023-11-25T17:29:00.691Z"
   },
   {
    "duration": 18,
    "start_time": "2023-11-25T17:29:00.705Z"
   },
   {
    "duration": 172,
    "start_time": "2023-11-25T17:29:00.724Z"
   },
   {
    "duration": 7,
    "start_time": "2023-11-25T17:29:00.898Z"
   },
   {
    "duration": 52,
    "start_time": "2023-11-25T17:29:00.906Z"
   },
   {
    "duration": 29,
    "start_time": "2023-11-25T17:29:00.959Z"
   },
   {
    "duration": 35,
    "start_time": "2023-11-25T17:29:00.989Z"
   },
   {
    "duration": 204,
    "start_time": "2023-11-25T17:29:01.025Z"
   },
   {
    "duration": 7,
    "start_time": "2023-11-25T17:29:01.231Z"
   },
   {
    "duration": 33,
    "start_time": "2023-11-25T17:29:01.240Z"
   },
   {
    "duration": 21,
    "start_time": "2023-11-25T17:29:01.275Z"
   },
   {
    "duration": 159,
    "start_time": "2023-11-25T17:29:01.297Z"
   },
   {
    "duration": 7,
    "start_time": "2023-11-25T17:29:01.457Z"
   },
   {
    "duration": 28,
    "start_time": "2023-11-25T17:29:01.465Z"
   },
   {
    "duration": 38,
    "start_time": "2023-11-25T17:29:01.495Z"
   },
   {
    "duration": 49,
    "start_time": "2023-11-25T17:29:01.535Z"
   },
   {
    "duration": 151,
    "start_time": "2023-11-25T17:29:01.585Z"
   },
   {
    "duration": 4,
    "start_time": "2023-11-25T17:29:01.737Z"
   },
   {
    "duration": 51,
    "start_time": "2023-11-25T17:29:01.742Z"
   },
   {
    "duration": 3,
    "start_time": "2023-11-25T17:29:40.077Z"
   },
   {
    "duration": 128,
    "start_time": "2023-11-25T17:29:40.974Z"
   },
   {
    "duration": 4,
    "start_time": "2023-11-25T17:29:41.482Z"
   },
   {
    "duration": 18,
    "start_time": "2023-11-25T17:29:42.479Z"
   },
   {
    "duration": 15,
    "start_time": "2023-11-25T17:29:57.063Z"
   },
   {
    "duration": 4,
    "start_time": "2023-11-25T17:30:30.174Z"
   },
   {
    "duration": 132,
    "start_time": "2023-11-25T17:30:31.005Z"
   },
   {
    "duration": 4,
    "start_time": "2023-11-25T17:30:31.461Z"
   },
   {
    "duration": 18,
    "start_time": "2023-11-25T17:30:32.808Z"
   },
   {
    "duration": 1205,
    "start_time": "2023-11-25T17:30:44.998Z"
   },
   {
    "duration": 37,
    "start_time": "2023-11-25T17:30:46.204Z"
   },
   {
    "duration": 13,
    "start_time": "2023-11-25T17:30:46.242Z"
   },
   {
    "duration": 2,
    "start_time": "2023-11-25T17:30:46.257Z"
   },
   {
    "duration": 3,
    "start_time": "2023-11-25T17:30:46.260Z"
   },
   {
    "duration": 10,
    "start_time": "2023-11-25T17:30:46.264Z"
   },
   {
    "duration": 5,
    "start_time": "2023-11-25T17:30:46.275Z"
   },
   {
    "duration": 362,
    "start_time": "2023-11-25T17:30:46.281Z"
   },
   {
    "duration": 6,
    "start_time": "2023-11-25T17:30:46.645Z"
   },
   {
    "duration": 4,
    "start_time": "2023-11-25T17:30:46.653Z"
   },
   {
    "duration": 7,
    "start_time": "2023-11-25T17:30:46.659Z"
   },
   {
    "duration": 2,
    "start_time": "2023-11-25T17:30:46.667Z"
   },
   {
    "duration": 69,
    "start_time": "2023-11-25T17:30:46.670Z"
   },
   {
    "duration": 5,
    "start_time": "2023-11-25T17:30:46.740Z"
   },
   {
    "duration": 4,
    "start_time": "2023-11-25T17:30:46.746Z"
   },
   {
    "duration": 7,
    "start_time": "2023-11-25T17:30:46.751Z"
   },
   {
    "duration": 3,
    "start_time": "2023-11-25T17:30:46.759Z"
   },
   {
    "duration": 4,
    "start_time": "2023-11-25T17:30:46.763Z"
   },
   {
    "duration": 15,
    "start_time": "2023-11-25T17:30:46.768Z"
   },
   {
    "duration": 42,
    "start_time": "2023-11-25T17:30:46.785Z"
   },
   {
    "duration": 4,
    "start_time": "2023-11-25T17:30:46.828Z"
   },
   {
    "duration": 5,
    "start_time": "2023-11-25T17:30:46.833Z"
   },
   {
    "duration": 4,
    "start_time": "2023-11-25T17:30:46.839Z"
   },
   {
    "duration": 4,
    "start_time": "2023-11-25T17:30:46.844Z"
   },
   {
    "duration": 4,
    "start_time": "2023-11-25T17:30:46.849Z"
   },
   {
    "duration": 4,
    "start_time": "2023-11-25T17:30:46.854Z"
   },
   {
    "duration": 943,
    "start_time": "2023-11-25T17:30:46.859Z"
   },
   {
    "duration": 26,
    "start_time": "2023-11-25T17:30:47.805Z"
   },
   {
    "duration": 7,
    "start_time": "2023-11-25T17:30:47.833Z"
   },
   {
    "duration": 4,
    "start_time": "2023-11-25T17:30:47.841Z"
   },
   {
    "duration": 10,
    "start_time": "2023-11-25T17:30:47.846Z"
   },
   {
    "duration": 23,
    "start_time": "2023-11-25T17:30:47.857Z"
   },
   {
    "duration": 31,
    "start_time": "2023-11-25T17:30:47.881Z"
   },
   {
    "duration": 31,
    "start_time": "2023-11-25T17:30:47.913Z"
   },
   {
    "duration": 14,
    "start_time": "2023-11-25T17:30:47.945Z"
   },
   {
    "duration": 33,
    "start_time": "2023-11-25T17:30:47.960Z"
   },
   {
    "duration": 9,
    "start_time": "2023-11-25T17:30:47.994Z"
   },
   {
    "duration": 15,
    "start_time": "2023-11-25T17:30:48.004Z"
   },
   {
    "duration": 8,
    "start_time": "2023-11-25T17:30:48.020Z"
   },
   {
    "duration": 9,
    "start_time": "2023-11-25T17:30:48.029Z"
   },
   {
    "duration": 7,
    "start_time": "2023-11-25T17:30:48.039Z"
   },
   {
    "duration": 18,
    "start_time": "2023-11-25T17:30:48.047Z"
   },
   {
    "duration": 18,
    "start_time": "2023-11-25T17:30:48.066Z"
   },
   {
    "duration": 2,
    "start_time": "2023-11-25T17:30:48.085Z"
   },
   {
    "duration": 531,
    "start_time": "2023-11-25T17:30:48.088Z"
   },
   {
    "duration": 1195,
    "start_time": "2023-11-25T17:30:48.620Z"
   },
   {
    "duration": 2,
    "start_time": "2023-11-25T17:30:49.816Z"
   },
   {
    "duration": 1018,
    "start_time": "2023-11-25T17:30:49.819Z"
   },
   {
    "duration": 14,
    "start_time": "2023-11-25T17:30:50.838Z"
   },
   {
    "duration": 2552,
    "start_time": "2023-11-25T17:30:50.853Z"
   },
   {
    "duration": 1074,
    "start_time": "2023-11-25T17:30:53.407Z"
   },
   {
    "duration": 6,
    "start_time": "2023-11-25T17:30:54.482Z"
   },
   {
    "duration": 6,
    "start_time": "2023-11-25T17:30:54.489Z"
   },
   {
    "duration": 21,
    "start_time": "2023-11-25T17:30:54.496Z"
   },
   {
    "duration": 166,
    "start_time": "2023-11-25T17:30:54.518Z"
   },
   {
    "duration": 13,
    "start_time": "2023-11-25T17:30:54.686Z"
   },
   {
    "duration": 18,
    "start_time": "2023-11-25T17:30:54.700Z"
   },
   {
    "duration": 151,
    "start_time": "2023-11-25T17:30:54.719Z"
   },
   {
    "duration": 6,
    "start_time": "2023-11-25T17:30:54.872Z"
   },
   {
    "duration": 12,
    "start_time": "2023-11-25T17:30:54.879Z"
   },
   {
    "duration": 10,
    "start_time": "2023-11-25T17:30:54.892Z"
   },
   {
    "duration": 12,
    "start_time": "2023-11-25T17:30:54.903Z"
   },
   {
    "duration": 176,
    "start_time": "2023-11-25T17:30:54.916Z"
   },
   {
    "duration": 6,
    "start_time": "2023-11-25T17:30:55.094Z"
   },
   {
    "duration": 14,
    "start_time": "2023-11-25T17:30:55.101Z"
   },
   {
    "duration": 17,
    "start_time": "2023-11-25T17:30:55.116Z"
   },
   {
    "duration": 151,
    "start_time": "2023-11-25T17:30:55.134Z"
   },
   {
    "duration": 6,
    "start_time": "2023-11-25T17:30:55.286Z"
   },
   {
    "duration": 8,
    "start_time": "2023-11-25T17:30:55.293Z"
   },
   {
    "duration": 18,
    "start_time": "2023-11-25T17:30:55.302Z"
   },
   {
    "duration": 15,
    "start_time": "2023-11-25T17:30:55.321Z"
   },
   {
    "duration": 4,
    "start_time": "2023-11-25T17:30:55.337Z"
   },
   {
    "duration": 145,
    "start_time": "2023-11-25T17:30:55.342Z"
   },
   {
    "duration": 3,
    "start_time": "2023-11-25T17:30:55.489Z"
   },
   {
    "duration": 23,
    "start_time": "2023-11-25T17:30:55.494Z"
   },
   {
    "duration": 3,
    "start_time": "2023-11-25T17:31:11.859Z"
   },
   {
    "duration": 131,
    "start_time": "2023-11-25T17:31:12.467Z"
   },
   {
    "duration": 4,
    "start_time": "2023-11-25T17:31:12.977Z"
   },
   {
    "duration": 18,
    "start_time": "2023-11-25T17:31:14.174Z"
   },
   {
    "duration": 4,
    "start_time": "2023-11-25T17:31:23.774Z"
   },
   {
    "duration": 130,
    "start_time": "2023-11-25T17:31:24.354Z"
   },
   {
    "duration": 5,
    "start_time": "2023-11-25T17:31:24.846Z"
   },
   {
    "duration": 18,
    "start_time": "2023-11-25T17:31:25.872Z"
   },
   {
    "duration": 4,
    "start_time": "2023-11-25T17:32:04.019Z"
   },
   {
    "duration": 137,
    "start_time": "2023-11-25T17:32:04.534Z"
   },
   {
    "duration": 4,
    "start_time": "2023-11-25T17:32:05.007Z"
   },
   {
    "duration": 18,
    "start_time": "2023-11-25T17:32:06.004Z"
   },
   {
    "duration": 4,
    "start_time": "2023-11-25T17:32:28.575Z"
   },
   {
    "duration": 137,
    "start_time": "2023-11-25T17:32:29.732Z"
   },
   {
    "duration": 4,
    "start_time": "2023-11-25T17:32:30.297Z"
   },
   {
    "duration": 19,
    "start_time": "2023-11-25T17:32:32.834Z"
   },
   {
    "duration": 5,
    "start_time": "2023-11-25T17:33:12.593Z"
   },
   {
    "duration": 137,
    "start_time": "2023-11-25T17:33:13.295Z"
   },
   {
    "duration": 4,
    "start_time": "2023-11-25T17:33:13.820Z"
   },
   {
    "duration": 18,
    "start_time": "2023-11-25T17:33:15.092Z"
   },
   {
    "duration": 1235,
    "start_time": "2023-11-25T17:35:02.957Z"
   },
   {
    "duration": 37,
    "start_time": "2023-11-25T17:35:04.194Z"
   },
   {
    "duration": 12,
    "start_time": "2023-11-25T17:35:04.232Z"
   },
   {
    "duration": 2,
    "start_time": "2023-11-25T17:35:04.246Z"
   },
   {
    "duration": 4,
    "start_time": "2023-11-25T17:35:04.249Z"
   },
   {
    "duration": 11,
    "start_time": "2023-11-25T17:35:04.254Z"
   },
   {
    "duration": 5,
    "start_time": "2023-11-25T17:35:04.266Z"
   },
   {
    "duration": 370,
    "start_time": "2023-11-25T17:35:04.272Z"
   },
   {
    "duration": 8,
    "start_time": "2023-11-25T17:35:04.643Z"
   },
   {
    "duration": 4,
    "start_time": "2023-11-25T17:35:04.653Z"
   },
   {
    "duration": 13,
    "start_time": "2023-11-25T17:35:04.659Z"
   },
   {
    "duration": 5,
    "start_time": "2023-11-25T17:35:04.673Z"
   },
   {
    "duration": 61,
    "start_time": "2023-11-25T17:35:04.679Z"
   },
   {
    "duration": 5,
    "start_time": "2023-11-25T17:35:04.741Z"
   },
   {
    "duration": 18,
    "start_time": "2023-11-25T17:35:04.747Z"
   },
   {
    "duration": 22,
    "start_time": "2023-11-25T17:35:04.767Z"
   },
   {
    "duration": 12,
    "start_time": "2023-11-25T17:35:04.790Z"
   },
   {
    "duration": 9,
    "start_time": "2023-11-25T17:35:04.803Z"
   },
   {
    "duration": 16,
    "start_time": "2023-11-25T17:35:04.813Z"
   },
   {
    "duration": 16,
    "start_time": "2023-11-25T17:35:04.830Z"
   },
   {
    "duration": 3,
    "start_time": "2023-11-25T17:35:04.847Z"
   },
   {
    "duration": 27,
    "start_time": "2023-11-25T17:35:04.851Z"
   },
   {
    "duration": 23,
    "start_time": "2023-11-25T17:35:04.879Z"
   },
   {
    "duration": 20,
    "start_time": "2023-11-25T17:35:04.903Z"
   },
   {
    "duration": 13,
    "start_time": "2023-11-25T17:35:04.924Z"
   },
   {
    "duration": 14,
    "start_time": "2023-11-25T17:35:04.937Z"
   },
   {
    "duration": 966,
    "start_time": "2023-11-25T17:35:04.952Z"
   },
   {
    "duration": 24,
    "start_time": "2023-11-25T17:35:05.921Z"
   },
   {
    "duration": 8,
    "start_time": "2023-11-25T17:35:05.946Z"
   },
   {
    "duration": 36,
    "start_time": "2023-11-25T17:35:05.955Z"
   },
   {
    "duration": 20,
    "start_time": "2023-11-25T17:35:05.993Z"
   },
   {
    "duration": 19,
    "start_time": "2023-11-25T17:35:06.015Z"
   },
   {
    "duration": 10,
    "start_time": "2023-11-25T17:35:06.035Z"
   },
   {
    "duration": 24,
    "start_time": "2023-11-25T17:35:06.046Z"
   },
   {
    "duration": 13,
    "start_time": "2023-11-25T17:35:06.071Z"
   },
   {
    "duration": 47,
    "start_time": "2023-11-25T17:35:06.085Z"
   },
   {
    "duration": 10,
    "start_time": "2023-11-25T17:35:06.134Z"
   },
   {
    "duration": 8,
    "start_time": "2023-11-25T17:35:06.145Z"
   },
   {
    "duration": 8,
    "start_time": "2023-11-25T17:35:06.154Z"
   },
   {
    "duration": 9,
    "start_time": "2023-11-25T17:35:06.163Z"
   },
   {
    "duration": 7,
    "start_time": "2023-11-25T17:35:06.173Z"
   },
   {
    "duration": 40,
    "start_time": "2023-11-25T17:35:06.181Z"
   },
   {
    "duration": 17,
    "start_time": "2023-11-25T17:35:06.222Z"
   },
   {
    "duration": 2,
    "start_time": "2023-11-25T17:35:06.241Z"
   },
   {
    "duration": 515,
    "start_time": "2023-11-25T17:35:06.244Z"
   },
   {
    "duration": 1190,
    "start_time": "2023-11-25T17:35:06.760Z"
   },
   {
    "duration": 3,
    "start_time": "2023-11-25T17:35:07.951Z"
   },
   {
    "duration": 1062,
    "start_time": "2023-11-25T17:35:07.955Z"
   },
   {
    "duration": 15,
    "start_time": "2023-11-25T17:35:09.018Z"
   },
   {
    "duration": 2570,
    "start_time": "2023-11-25T17:35:09.034Z"
   },
   {
    "duration": 1092,
    "start_time": "2023-11-25T17:35:11.605Z"
   },
   {
    "duration": 6,
    "start_time": "2023-11-25T17:35:12.698Z"
   },
   {
    "duration": 6,
    "start_time": "2023-11-25T17:35:12.715Z"
   },
   {
    "duration": 5,
    "start_time": "2023-11-25T17:35:12.722Z"
   },
   {
    "duration": 177,
    "start_time": "2023-11-25T17:35:12.728Z"
   },
   {
    "duration": 13,
    "start_time": "2023-11-25T17:35:12.907Z"
   },
   {
    "duration": 5,
    "start_time": "2023-11-25T17:35:12.922Z"
   },
   {
    "duration": 154,
    "start_time": "2023-11-25T17:35:12.928Z"
   },
   {
    "duration": 6,
    "start_time": "2023-11-25T17:35:13.083Z"
   },
   {
    "duration": 9,
    "start_time": "2023-11-25T17:35:13.090Z"
   },
   {
    "duration": 19,
    "start_time": "2023-11-25T17:35:13.100Z"
   },
   {
    "duration": 7,
    "start_time": "2023-11-25T17:35:13.120Z"
   },
   {
    "duration": 181,
    "start_time": "2023-11-25T17:35:13.128Z"
   },
   {
    "duration": 9,
    "start_time": "2023-11-25T17:35:13.310Z"
   },
   {
    "duration": 5,
    "start_time": "2023-11-25T17:35:13.320Z"
   },
   {
    "duration": 6,
    "start_time": "2023-11-25T17:35:13.326Z"
   },
   {
    "duration": 167,
    "start_time": "2023-11-25T17:35:13.333Z"
   },
   {
    "duration": 14,
    "start_time": "2023-11-25T17:35:13.501Z"
   },
   {
    "duration": 5,
    "start_time": "2023-11-25T17:35:13.516Z"
   },
   {
    "duration": 19,
    "start_time": "2023-11-25T17:35:13.523Z"
   },
   {
    "duration": 43,
    "start_time": "2023-11-25T17:35:13.543Z"
   },
   {
    "duration": 4,
    "start_time": "2023-11-25T17:35:13.587Z"
   },
   {
    "duration": 141,
    "start_time": "2023-11-25T17:35:13.592Z"
   },
   {
    "duration": 4,
    "start_time": "2023-11-25T17:35:13.734Z"
   },
   {
    "duration": 17,
    "start_time": "2023-11-25T17:35:13.740Z"
   },
   {
    "duration": 4,
    "start_time": "2023-11-25T17:35:52.175Z"
   },
   {
    "duration": 139,
    "start_time": "2023-11-25T17:35:52.777Z"
   },
   {
    "duration": 4,
    "start_time": "2023-11-25T17:35:53.219Z"
   },
   {
    "duration": 19,
    "start_time": "2023-11-25T17:35:54.324Z"
   },
   {
    "duration": 3,
    "start_time": "2023-11-25T17:36:35.689Z"
   },
   {
    "duration": 136,
    "start_time": "2023-11-25T17:36:36.312Z"
   },
   {
    "duration": 4,
    "start_time": "2023-11-25T17:36:36.806Z"
   },
   {
    "duration": 19,
    "start_time": "2023-11-25T17:36:38.840Z"
   },
   {
    "duration": 1196,
    "start_time": "2023-11-25T17:37:24.652Z"
   },
   {
    "duration": 37,
    "start_time": "2023-11-25T17:37:25.849Z"
   },
   {
    "duration": 13,
    "start_time": "2023-11-25T17:37:25.887Z"
   },
   {
    "duration": 2,
    "start_time": "2023-11-25T17:37:25.901Z"
   },
   {
    "duration": 4,
    "start_time": "2023-11-25T17:37:25.904Z"
   },
   {
    "duration": 10,
    "start_time": "2023-11-25T17:37:25.909Z"
   },
   {
    "duration": 5,
    "start_time": "2023-11-25T17:37:25.920Z"
   },
   {
    "duration": 327,
    "start_time": "2023-11-25T17:37:25.926Z"
   },
   {
    "duration": 8,
    "start_time": "2023-11-25T17:37:26.254Z"
   },
   {
    "duration": 5,
    "start_time": "2023-11-25T17:37:26.264Z"
   },
   {
    "duration": 8,
    "start_time": "2023-11-25T17:37:26.270Z"
   },
   {
    "duration": 2,
    "start_time": "2023-11-25T17:37:26.279Z"
   },
   {
    "duration": 70,
    "start_time": "2023-11-25T17:37:26.282Z"
   },
   {
    "duration": 5,
    "start_time": "2023-11-25T17:37:26.353Z"
   },
   {
    "duration": 4,
    "start_time": "2023-11-25T17:37:26.359Z"
   },
   {
    "duration": 11,
    "start_time": "2023-11-25T17:37:26.364Z"
   },
   {
    "duration": 3,
    "start_time": "2023-11-25T17:37:26.376Z"
   },
   {
    "duration": 5,
    "start_time": "2023-11-25T17:37:26.381Z"
   },
   {
    "duration": 42,
    "start_time": "2023-11-25T17:37:26.388Z"
   },
   {
    "duration": 15,
    "start_time": "2023-11-25T17:37:26.431Z"
   },
   {
    "duration": 3,
    "start_time": "2023-11-25T17:37:26.448Z"
   },
   {
    "duration": 8,
    "start_time": "2023-11-25T17:37:26.452Z"
   },
   {
    "duration": 5,
    "start_time": "2023-11-25T17:37:26.461Z"
   },
   {
    "duration": 39,
    "start_time": "2023-11-25T17:37:26.467Z"
   },
   {
    "duration": 4,
    "start_time": "2023-11-25T17:37:26.508Z"
   },
   {
    "duration": 4,
    "start_time": "2023-11-25T17:37:26.514Z"
   },
   {
    "duration": 931,
    "start_time": "2023-11-25T17:37:26.520Z"
   },
   {
    "duration": 25,
    "start_time": "2023-11-25T17:37:27.455Z"
   },
   {
    "duration": 8,
    "start_time": "2023-11-25T17:37:27.481Z"
   },
   {
    "duration": 3,
    "start_time": "2023-11-25T17:37:27.491Z"
   },
   {
    "duration": 11,
    "start_time": "2023-11-25T17:37:27.514Z"
   },
   {
    "duration": 12,
    "start_time": "2023-11-25T17:37:27.526Z"
   },
   {
    "duration": 9,
    "start_time": "2023-11-25T17:37:27.540Z"
   },
   {
    "duration": 23,
    "start_time": "2023-11-25T17:37:27.550Z"
   },
   {
    "duration": 44,
    "start_time": "2023-11-25T17:37:27.574Z"
   },
   {
    "duration": 35,
    "start_time": "2023-11-25T17:37:27.619Z"
   },
   {
    "duration": 11,
    "start_time": "2023-11-25T17:37:27.655Z"
   },
   {
    "duration": 8,
    "start_time": "2023-11-25T17:37:27.667Z"
   },
   {
    "duration": 10,
    "start_time": "2023-11-25T17:37:27.676Z"
   },
   {
    "duration": 35,
    "start_time": "2023-11-25T17:37:27.687Z"
   },
   {
    "duration": 9,
    "start_time": "2023-11-25T17:37:27.723Z"
   },
   {
    "duration": 18,
    "start_time": "2023-11-25T17:37:27.734Z"
   },
   {
    "duration": 18,
    "start_time": "2023-11-25T17:37:27.753Z"
   },
   {
    "duration": 2,
    "start_time": "2023-11-25T17:37:27.772Z"
   },
   {
    "duration": 537,
    "start_time": "2023-11-25T17:37:27.775Z"
   },
   {
    "duration": 1196,
    "start_time": "2023-11-25T17:37:28.315Z"
   },
   {
    "duration": 2,
    "start_time": "2023-11-25T17:37:29.514Z"
   },
   {
    "duration": 1054,
    "start_time": "2023-11-25T17:37:29.517Z"
   },
   {
    "duration": 15,
    "start_time": "2023-11-25T17:37:30.572Z"
   },
   {
    "duration": 2629,
    "start_time": "2023-11-25T17:37:30.588Z"
   },
   {
    "duration": 1059,
    "start_time": "2023-11-25T17:37:33.218Z"
   },
   {
    "duration": 6,
    "start_time": "2023-11-25T17:37:34.278Z"
   },
   {
    "duration": 6,
    "start_time": "2023-11-25T17:37:34.285Z"
   },
   {
    "duration": 23,
    "start_time": "2023-11-25T17:37:34.292Z"
   },
   {
    "duration": 176,
    "start_time": "2023-11-25T17:37:34.316Z"
   },
   {
    "duration": 12,
    "start_time": "2023-11-25T17:37:34.493Z"
   },
   {
    "duration": 5,
    "start_time": "2023-11-25T17:37:34.515Z"
   },
   {
    "duration": 150,
    "start_time": "2023-11-25T17:37:34.521Z"
   },
   {
    "duration": 6,
    "start_time": "2023-11-25T17:37:34.672Z"
   },
   {
    "duration": 6,
    "start_time": "2023-11-25T17:37:34.679Z"
   },
   {
    "duration": 5,
    "start_time": "2023-11-25T17:37:34.686Z"
   },
   {
    "duration": 25,
    "start_time": "2023-11-25T17:37:34.692Z"
   },
   {
    "duration": 173,
    "start_time": "2023-11-25T17:37:34.718Z"
   },
   {
    "duration": 8,
    "start_time": "2023-11-25T17:37:34.892Z"
   },
   {
    "duration": 18,
    "start_time": "2023-11-25T17:37:34.902Z"
   },
   {
    "duration": 5,
    "start_time": "2023-11-25T17:37:34.921Z"
   },
   {
    "duration": 165,
    "start_time": "2023-11-25T17:37:34.928Z"
   },
   {
    "duration": 7,
    "start_time": "2023-11-25T17:37:35.094Z"
   },
   {
    "duration": 13,
    "start_time": "2023-11-25T17:37:35.102Z"
   },
   {
    "duration": 9,
    "start_time": "2023-11-25T17:37:35.117Z"
   },
   {
    "duration": 14,
    "start_time": "2023-11-25T17:37:35.127Z"
   },
   {
    "duration": 3,
    "start_time": "2023-11-25T17:37:35.143Z"
   },
   {
    "duration": 154,
    "start_time": "2023-11-25T17:37:35.147Z"
   },
   {
    "duration": 4,
    "start_time": "2023-11-25T17:37:35.302Z"
   },
   {
    "duration": 23,
    "start_time": "2023-11-25T17:37:35.307Z"
   },
   {
    "duration": 1138,
    "start_time": "2023-11-25T17:37:58.239Z"
   },
   {
    "duration": 37,
    "start_time": "2023-11-25T17:37:59.379Z"
   },
   {
    "duration": 12,
    "start_time": "2023-11-25T17:37:59.418Z"
   },
   {
    "duration": 2,
    "start_time": "2023-11-25T17:37:59.432Z"
   },
   {
    "duration": 3,
    "start_time": "2023-11-25T17:37:59.435Z"
   },
   {
    "duration": 11,
    "start_time": "2023-11-25T17:37:59.439Z"
   },
   {
    "duration": 5,
    "start_time": "2023-11-25T17:37:59.451Z"
   },
   {
    "duration": 333,
    "start_time": "2023-11-25T17:37:59.457Z"
   },
   {
    "duration": 8,
    "start_time": "2023-11-25T17:37:59.791Z"
   },
   {
    "duration": 3,
    "start_time": "2023-11-25T17:37:59.801Z"
   },
   {
    "duration": 6,
    "start_time": "2023-11-25T17:37:59.815Z"
   },
   {
    "duration": 6,
    "start_time": "2023-11-25T17:37:59.822Z"
   },
   {
    "duration": 48,
    "start_time": "2023-11-25T17:37:59.829Z"
   },
   {
    "duration": 6,
    "start_time": "2023-11-25T17:37:59.878Z"
   },
   {
    "duration": 5,
    "start_time": "2023-11-25T17:37:59.885Z"
   },
   {
    "duration": 26,
    "start_time": "2023-11-25T17:37:59.891Z"
   },
   {
    "duration": 3,
    "start_time": "2023-11-25T17:37:59.918Z"
   },
   {
    "duration": 7,
    "start_time": "2023-11-25T17:37:59.923Z"
   },
   {
    "duration": 16,
    "start_time": "2023-11-25T17:37:59.932Z"
   },
   {
    "duration": 15,
    "start_time": "2023-11-25T17:37:59.949Z"
   },
   {
    "duration": 3,
    "start_time": "2023-11-25T17:37:59.966Z"
   },
   {
    "duration": 5,
    "start_time": "2023-11-25T17:37:59.970Z"
   },
   {
    "duration": 39,
    "start_time": "2023-11-25T17:37:59.977Z"
   },
   {
    "duration": 28,
    "start_time": "2023-11-25T17:38:00.017Z"
   },
   {
    "duration": 18,
    "start_time": "2023-11-25T17:38:00.046Z"
   },
   {
    "duration": 10,
    "start_time": "2023-11-25T17:38:00.066Z"
   },
   {
    "duration": 1002,
    "start_time": "2023-11-25T17:38:00.077Z"
   },
   {
    "duration": 32,
    "start_time": "2023-11-25T17:38:01.084Z"
   },
   {
    "duration": 17,
    "start_time": "2023-11-25T17:38:01.117Z"
   },
   {
    "duration": 31,
    "start_time": "2023-11-25T17:38:01.135Z"
   },
   {
    "duration": 46,
    "start_time": "2023-11-25T17:38:01.167Z"
   },
   {
    "duration": 34,
    "start_time": "2023-11-25T17:38:01.214Z"
   },
   {
    "duration": 28,
    "start_time": "2023-11-25T17:38:01.249Z"
   },
   {
    "duration": 34,
    "start_time": "2023-11-25T17:38:01.278Z"
   },
   {
    "duration": 25,
    "start_time": "2023-11-25T17:38:01.314Z"
   },
   {
    "duration": 36,
    "start_time": "2023-11-25T17:38:01.340Z"
   },
   {
    "duration": 33,
    "start_time": "2023-11-25T17:38:01.377Z"
   },
   {
    "duration": 31,
    "start_time": "2023-11-25T17:38:01.411Z"
   },
   {
    "duration": 11,
    "start_time": "2023-11-25T17:38:01.443Z"
   },
   {
    "duration": 19,
    "start_time": "2023-11-25T17:38:01.455Z"
   },
   {
    "duration": 25,
    "start_time": "2023-11-25T17:38:01.475Z"
   },
   {
    "duration": 27,
    "start_time": "2023-11-25T17:38:01.501Z"
   },
   {
    "duration": 44,
    "start_time": "2023-11-25T17:38:01.529Z"
   },
   {
    "duration": 2,
    "start_time": "2023-11-25T17:38:01.574Z"
   },
   {
    "duration": 532,
    "start_time": "2023-11-25T17:38:01.577Z"
   },
   {
    "duration": 1184,
    "start_time": "2023-11-25T17:38:02.111Z"
   },
   {
    "duration": 2,
    "start_time": "2023-11-25T17:38:03.297Z"
   },
   {
    "duration": 1039,
    "start_time": "2023-11-25T17:38:03.300Z"
   },
   {
    "duration": 15,
    "start_time": "2023-11-25T17:38:04.341Z"
   },
   {
    "duration": 2546,
    "start_time": "2023-11-25T17:38:04.357Z"
   },
   {
    "duration": 1098,
    "start_time": "2023-11-25T17:38:06.905Z"
   },
   {
    "duration": 12,
    "start_time": "2023-11-25T17:38:08.004Z"
   },
   {
    "duration": 6,
    "start_time": "2023-11-25T17:38:08.017Z"
   },
   {
    "duration": 6,
    "start_time": "2023-11-25T17:38:08.024Z"
   },
   {
    "duration": 182,
    "start_time": "2023-11-25T17:38:08.031Z"
   },
   {
    "duration": 11,
    "start_time": "2023-11-25T17:38:08.215Z"
   },
   {
    "duration": 5,
    "start_time": "2023-11-25T17:38:08.227Z"
   },
   {
    "duration": 162,
    "start_time": "2023-11-25T17:38:08.233Z"
   },
   {
    "duration": 6,
    "start_time": "2023-11-25T17:38:08.396Z"
   },
   {
    "duration": 23,
    "start_time": "2023-11-25T17:38:08.403Z"
   },
   {
    "duration": 13,
    "start_time": "2023-11-25T17:38:08.427Z"
   },
   {
    "duration": 6,
    "start_time": "2023-11-25T17:38:08.442Z"
   },
   {
    "duration": 172,
    "start_time": "2023-11-25T17:38:08.449Z"
   },
   {
    "duration": 8,
    "start_time": "2023-11-25T17:38:08.622Z"
   },
   {
    "duration": 29,
    "start_time": "2023-11-25T17:38:08.631Z"
   },
   {
    "duration": 6,
    "start_time": "2023-11-25T17:38:08.662Z"
   },
   {
    "duration": 159,
    "start_time": "2023-11-25T17:38:08.669Z"
   },
   {
    "duration": 7,
    "start_time": "2023-11-25T17:38:08.829Z"
   },
   {
    "duration": 7,
    "start_time": "2023-11-25T17:38:08.837Z"
   },
   {
    "duration": 8,
    "start_time": "2023-11-25T17:38:08.845Z"
   },
   {
    "duration": 16,
    "start_time": "2023-11-25T17:38:08.854Z"
   },
   {
    "duration": 2,
    "start_time": "2023-11-25T17:38:08.872Z"
   },
   {
    "duration": 148,
    "start_time": "2023-11-25T17:38:08.876Z"
   },
   {
    "duration": 4,
    "start_time": "2023-11-25T17:38:09.026Z"
   },
   {
    "duration": 21,
    "start_time": "2023-11-25T17:38:09.031Z"
   },
   {
    "duration": 1361,
    "start_time": "2023-11-25T17:39:37.287Z"
   },
   {
    "duration": 37,
    "start_time": "2023-11-25T17:39:38.650Z"
   },
   {
    "duration": 13,
    "start_time": "2023-11-25T17:39:38.688Z"
   },
   {
    "duration": 12,
    "start_time": "2023-11-25T17:39:38.703Z"
   },
   {
    "duration": 8,
    "start_time": "2023-11-25T17:39:38.716Z"
   },
   {
    "duration": 11,
    "start_time": "2023-11-25T17:39:38.725Z"
   },
   {
    "duration": 5,
    "start_time": "2023-11-25T17:39:38.737Z"
   },
   {
    "duration": 333,
    "start_time": "2023-11-25T17:39:38.743Z"
   },
   {
    "duration": 7,
    "start_time": "2023-11-25T17:39:39.077Z"
   },
   {
    "duration": 5,
    "start_time": "2023-11-25T17:39:39.087Z"
   },
   {
    "duration": 25,
    "start_time": "2023-11-25T17:39:39.094Z"
   },
   {
    "duration": 3,
    "start_time": "2023-11-25T17:39:39.120Z"
   },
   {
    "duration": 48,
    "start_time": "2023-11-25T17:39:39.125Z"
   },
   {
    "duration": 6,
    "start_time": "2023-11-25T17:39:39.174Z"
   },
   {
    "duration": 4,
    "start_time": "2023-11-25T17:39:39.181Z"
   },
   {
    "duration": 32,
    "start_time": "2023-11-25T17:39:39.186Z"
   },
   {
    "duration": 3,
    "start_time": "2023-11-25T17:39:39.219Z"
   },
   {
    "duration": 5,
    "start_time": "2023-11-25T17:39:39.224Z"
   },
   {
    "duration": 16,
    "start_time": "2023-11-25T17:39:39.230Z"
   },
   {
    "duration": 15,
    "start_time": "2023-11-25T17:39:39.248Z"
   },
   {
    "duration": 4,
    "start_time": "2023-11-25T17:39:39.264Z"
   },
   {
    "duration": 5,
    "start_time": "2023-11-25T17:39:39.270Z"
   },
   {
    "duration": 41,
    "start_time": "2023-11-25T17:39:39.277Z"
   },
   {
    "duration": 5,
    "start_time": "2023-11-25T17:39:39.319Z"
   },
   {
    "duration": 5,
    "start_time": "2023-11-25T17:39:39.325Z"
   },
   {
    "duration": 4,
    "start_time": "2023-11-25T17:39:39.331Z"
   },
   {
    "duration": 947,
    "start_time": "2023-11-25T17:39:39.337Z"
   },
   {
    "duration": 35,
    "start_time": "2023-11-25T17:39:40.289Z"
   },
   {
    "duration": 7,
    "start_time": "2023-11-25T17:39:40.326Z"
   },
   {
    "duration": 10,
    "start_time": "2023-11-25T17:39:40.334Z"
   },
   {
    "duration": 12,
    "start_time": "2023-11-25T17:39:40.345Z"
   },
   {
    "duration": 14,
    "start_time": "2023-11-25T17:39:40.359Z"
   },
   {
    "duration": 11,
    "start_time": "2023-11-25T17:39:40.375Z"
   },
   {
    "duration": 51,
    "start_time": "2023-11-25T17:39:40.387Z"
   },
   {
    "duration": 15,
    "start_time": "2023-11-25T17:39:40.439Z"
   },
   {
    "duration": 35,
    "start_time": "2023-11-25T17:39:40.455Z"
   },
   {
    "duration": 32,
    "start_time": "2023-11-25T17:39:40.491Z"
   },
   {
    "duration": 20,
    "start_time": "2023-11-25T17:39:40.525Z"
   },
   {
    "duration": 9,
    "start_time": "2023-11-25T17:39:40.547Z"
   },
   {
    "duration": 23,
    "start_time": "2023-11-25T17:39:40.557Z"
   },
   {
    "duration": 9,
    "start_time": "2023-11-25T17:39:40.581Z"
   },
   {
    "duration": 18,
    "start_time": "2023-11-25T17:39:40.591Z"
   },
   {
    "duration": 19,
    "start_time": "2023-11-25T17:39:40.610Z"
   },
   {
    "duration": 2,
    "start_time": "2023-11-25T17:39:40.630Z"
   },
   {
    "duration": 516,
    "start_time": "2023-11-25T17:39:40.633Z"
   },
   {
    "duration": 1182,
    "start_time": "2023-11-25T17:39:41.151Z"
   },
   {
    "duration": 2,
    "start_time": "2023-11-25T17:39:42.334Z"
   },
   {
    "duration": 1047,
    "start_time": "2023-11-25T17:39:42.338Z"
   },
   {
    "duration": 15,
    "start_time": "2023-11-25T17:39:43.387Z"
   },
   {
    "duration": 2603,
    "start_time": "2023-11-25T17:39:43.403Z"
   },
   {
    "duration": 1078,
    "start_time": "2023-11-25T17:39:46.007Z"
   },
   {
    "duration": 6,
    "start_time": "2023-11-25T17:39:47.086Z"
   },
   {
    "duration": 5,
    "start_time": "2023-11-25T17:39:47.093Z"
   },
   {
    "duration": 18,
    "start_time": "2023-11-25T17:39:47.100Z"
   },
   {
    "duration": 175,
    "start_time": "2023-11-25T17:39:47.119Z"
   },
   {
    "duration": 20,
    "start_time": "2023-11-25T17:39:47.295Z"
   },
   {
    "duration": 6,
    "start_time": "2023-11-25T17:39:47.316Z"
   },
   {
    "duration": 151,
    "start_time": "2023-11-25T17:39:47.323Z"
   },
   {
    "duration": 6,
    "start_time": "2023-11-25T17:39:47.475Z"
   },
   {
    "duration": 6,
    "start_time": "2023-11-25T17:39:47.483Z"
   },
   {
    "duration": 5,
    "start_time": "2023-11-25T17:39:47.490Z"
   },
   {
    "duration": 21,
    "start_time": "2023-11-25T17:39:47.497Z"
   },
   {
    "duration": 178,
    "start_time": "2023-11-25T17:39:47.519Z"
   },
   {
    "duration": 6,
    "start_time": "2023-11-25T17:39:47.698Z"
   },
   {
    "duration": 13,
    "start_time": "2023-11-25T17:39:47.705Z"
   },
   {
    "duration": 6,
    "start_time": "2023-11-25T17:39:47.719Z"
   },
   {
    "duration": 165,
    "start_time": "2023-11-25T17:39:47.726Z"
   },
   {
    "duration": 6,
    "start_time": "2023-11-25T17:39:47.892Z"
   },
   {
    "duration": 18,
    "start_time": "2023-11-25T17:39:47.899Z"
   },
   {
    "duration": 9,
    "start_time": "2023-11-25T17:39:47.918Z"
   },
   {
    "duration": 18,
    "start_time": "2023-11-25T17:39:47.929Z"
   },
   {
    "duration": 3,
    "start_time": "2023-11-25T17:39:47.949Z"
   },
   {
    "duration": 149,
    "start_time": "2023-11-25T17:39:47.953Z"
   },
   {
    "duration": 4,
    "start_time": "2023-11-25T17:39:48.103Z"
   },
   {
    "duration": 17,
    "start_time": "2023-11-25T17:39:48.115Z"
   },
   {
    "duration": 1178,
    "start_time": "2023-11-25T17:41:01.633Z"
   },
   {
    "duration": 37,
    "start_time": "2023-11-25T17:41:02.812Z"
   },
   {
    "duration": 12,
    "start_time": "2023-11-25T17:41:02.851Z"
   },
   {
    "duration": 2,
    "start_time": "2023-11-25T17:41:02.865Z"
   },
   {
    "duration": 4,
    "start_time": "2023-11-25T17:41:02.868Z"
   },
   {
    "duration": 10,
    "start_time": "2023-11-25T17:41:02.873Z"
   },
   {
    "duration": 4,
    "start_time": "2023-11-25T17:41:02.885Z"
   },
   {
    "duration": 360,
    "start_time": "2023-11-25T17:41:02.891Z"
   },
   {
    "duration": 7,
    "start_time": "2023-11-25T17:41:03.253Z"
   },
   {
    "duration": 4,
    "start_time": "2023-11-25T17:41:03.262Z"
   },
   {
    "duration": 7,
    "start_time": "2023-11-25T17:41:03.267Z"
   },
   {
    "duration": 10,
    "start_time": "2023-11-25T17:41:03.275Z"
   },
   {
    "duration": 63,
    "start_time": "2023-11-25T17:41:03.286Z"
   },
   {
    "duration": 5,
    "start_time": "2023-11-25T17:41:03.350Z"
   },
   {
    "duration": 4,
    "start_time": "2023-11-25T17:41:03.356Z"
   },
   {
    "duration": 18,
    "start_time": "2023-11-25T17:41:03.361Z"
   },
   {
    "duration": 3,
    "start_time": "2023-11-25T17:41:03.380Z"
   },
   {
    "duration": 5,
    "start_time": "2023-11-25T17:41:03.384Z"
   },
   {
    "duration": 37,
    "start_time": "2023-11-25T17:41:03.390Z"
   },
   {
    "duration": 14,
    "start_time": "2023-11-25T17:41:03.429Z"
   },
   {
    "duration": 4,
    "start_time": "2023-11-25T17:41:03.444Z"
   },
   {
    "duration": 12,
    "start_time": "2023-11-25T17:41:03.449Z"
   },
   {
    "duration": 10,
    "start_time": "2023-11-25T17:41:03.462Z"
   },
   {
    "duration": 7,
    "start_time": "2023-11-25T17:41:03.473Z"
   },
   {
    "duration": 6,
    "start_time": "2023-11-25T17:41:03.481Z"
   },
   {
    "duration": 5,
    "start_time": "2023-11-25T17:41:03.488Z"
   },
   {
    "duration": 943,
    "start_time": "2023-11-25T17:41:03.494Z"
   },
   {
    "duration": 26,
    "start_time": "2023-11-25T17:41:04.441Z"
   },
   {
    "duration": 8,
    "start_time": "2023-11-25T17:41:04.468Z"
   },
   {
    "duration": 4,
    "start_time": "2023-11-25T17:41:04.478Z"
   },
   {
    "duration": 34,
    "start_time": "2023-11-25T17:41:04.484Z"
   },
   {
    "duration": 13,
    "start_time": "2023-11-25T17:41:04.520Z"
   },
   {
    "duration": 10,
    "start_time": "2023-11-25T17:41:04.534Z"
   },
   {
    "duration": 23,
    "start_time": "2023-11-25T17:41:04.546Z"
   },
   {
    "duration": 13,
    "start_time": "2023-11-25T17:41:04.571Z"
   },
   {
    "duration": 61,
    "start_time": "2023-11-25T17:41:04.586Z"
   },
   {
    "duration": 11,
    "start_time": "2023-11-25T17:41:04.648Z"
   },
   {
    "duration": 9,
    "start_time": "2023-11-25T17:41:04.660Z"
   },
   {
    "duration": 9,
    "start_time": "2023-11-25T17:41:04.670Z"
   },
   {
    "duration": 9,
    "start_time": "2023-11-25T17:41:04.680Z"
   },
   {
    "duration": 8,
    "start_time": "2023-11-25T17:41:04.715Z"
   },
   {
    "duration": 19,
    "start_time": "2023-11-25T17:41:04.724Z"
   },
   {
    "duration": 31,
    "start_time": "2023-11-25T17:41:04.744Z"
   },
   {
    "duration": 25,
    "start_time": "2023-11-25T17:41:04.777Z"
   },
   {
    "duration": 523,
    "start_time": "2023-11-25T17:41:04.804Z"
   },
   {
    "duration": 1211,
    "start_time": "2023-11-25T17:41:05.328Z"
   },
   {
    "duration": 2,
    "start_time": "2023-11-25T17:41:06.541Z"
   },
   {
    "duration": 1052,
    "start_time": "2023-11-25T17:41:06.544Z"
   },
   {
    "duration": 21,
    "start_time": "2023-11-25T17:41:07.597Z"
   },
   {
    "duration": 2591,
    "start_time": "2023-11-25T17:41:07.619Z"
   },
   {
    "duration": 1123,
    "start_time": "2023-11-25T17:41:10.211Z"
   },
   {
    "duration": 7,
    "start_time": "2023-11-25T17:41:11.335Z"
   },
   {
    "duration": 8,
    "start_time": "2023-11-25T17:41:11.343Z"
   },
   {
    "duration": 5,
    "start_time": "2023-11-25T17:41:11.353Z"
   },
   {
    "duration": 188,
    "start_time": "2023-11-25T17:41:11.359Z"
   },
   {
    "duration": 12,
    "start_time": "2023-11-25T17:41:11.548Z"
   },
   {
    "duration": 5,
    "start_time": "2023-11-25T17:41:11.561Z"
   },
   {
    "duration": 162,
    "start_time": "2023-11-25T17:41:11.567Z"
   },
   {
    "duration": 6,
    "start_time": "2023-11-25T17:41:11.731Z"
   },
   {
    "duration": 6,
    "start_time": "2023-11-25T17:41:11.738Z"
   },
   {
    "duration": 6,
    "start_time": "2023-11-25T17:41:11.745Z"
   },
   {
    "duration": 6,
    "start_time": "2023-11-25T17:41:11.752Z"
   },
   {
    "duration": 195,
    "start_time": "2023-11-25T17:41:11.759Z"
   },
   {
    "duration": 6,
    "start_time": "2023-11-25T17:41:11.956Z"
   },
   {
    "duration": 6,
    "start_time": "2023-11-25T17:41:11.963Z"
   },
   {
    "duration": 5,
    "start_time": "2023-11-25T17:41:11.970Z"
   },
   {
    "duration": 171,
    "start_time": "2023-11-25T17:41:11.976Z"
   },
   {
    "duration": 6,
    "start_time": "2023-11-25T17:41:12.149Z"
   },
   {
    "duration": 6,
    "start_time": "2023-11-25T17:41:12.156Z"
   },
   {
    "duration": 8,
    "start_time": "2023-11-25T17:41:12.163Z"
   },
   {
    "duration": 17,
    "start_time": "2023-11-25T17:41:12.172Z"
   },
   {
    "duration": 3,
    "start_time": "2023-11-25T17:41:12.190Z"
   },
   {
    "duration": 135,
    "start_time": "2023-11-25T17:41:12.214Z"
   },
   {
    "duration": 5,
    "start_time": "2023-11-25T17:41:12.350Z"
   },
   {
    "duration": 19,
    "start_time": "2023-11-25T17:41:12.356Z"
   },
   {
    "duration": 1158,
    "start_time": "2023-11-25T17:42:38.607Z"
   },
   {
    "duration": 37,
    "start_time": "2023-11-25T17:42:39.766Z"
   },
   {
    "duration": 12,
    "start_time": "2023-11-25T17:42:39.804Z"
   },
   {
    "duration": 2,
    "start_time": "2023-11-25T17:42:39.817Z"
   },
   {
    "duration": 7,
    "start_time": "2023-11-25T17:42:39.820Z"
   },
   {
    "duration": 16,
    "start_time": "2023-11-25T17:42:39.828Z"
   },
   {
    "duration": 4,
    "start_time": "2023-11-25T17:42:39.845Z"
   },
   {
    "duration": 320,
    "start_time": "2023-11-25T17:42:39.851Z"
   },
   {
    "duration": 9,
    "start_time": "2023-11-25T17:42:40.172Z"
   },
   {
    "duration": 11,
    "start_time": "2023-11-25T17:42:40.183Z"
   },
   {
    "duration": 13,
    "start_time": "2023-11-25T17:42:40.196Z"
   },
   {
    "duration": 3,
    "start_time": "2023-11-25T17:42:40.215Z"
   },
   {
    "duration": 50,
    "start_time": "2023-11-25T17:42:40.220Z"
   },
   {
    "duration": 5,
    "start_time": "2023-11-25T17:42:40.272Z"
   },
   {
    "duration": 5,
    "start_time": "2023-11-25T17:42:40.279Z"
   },
   {
    "duration": 33,
    "start_time": "2023-11-25T17:42:40.285Z"
   },
   {
    "duration": 3,
    "start_time": "2023-11-25T17:42:40.319Z"
   },
   {
    "duration": 5,
    "start_time": "2023-11-25T17:42:40.323Z"
   },
   {
    "duration": 16,
    "start_time": "2023-11-25T17:42:40.329Z"
   },
   {
    "duration": 18,
    "start_time": "2023-11-25T17:42:40.347Z"
   },
   {
    "duration": 13,
    "start_time": "2023-11-25T17:42:40.366Z"
   },
   {
    "duration": 8,
    "start_time": "2023-11-25T17:42:40.380Z"
   },
   {
    "duration": 26,
    "start_time": "2023-11-25T17:42:40.390Z"
   },
   {
    "duration": 4,
    "start_time": "2023-11-25T17:42:40.417Z"
   },
   {
    "duration": 5,
    "start_time": "2023-11-25T17:42:40.422Z"
   },
   {
    "duration": 3,
    "start_time": "2023-11-25T17:42:40.428Z"
   },
   {
    "duration": 925,
    "start_time": "2023-11-25T17:42:40.432Z"
   },
   {
    "duration": 24,
    "start_time": "2023-11-25T17:42:41.361Z"
   },
   {
    "duration": 8,
    "start_time": "2023-11-25T17:42:41.386Z"
   },
   {
    "duration": 3,
    "start_time": "2023-11-25T17:42:41.395Z"
   },
   {
    "duration": 9,
    "start_time": "2023-11-25T17:42:41.414Z"
   },
   {
    "duration": 12,
    "start_time": "2023-11-25T17:42:41.424Z"
   },
   {
    "duration": 10,
    "start_time": "2023-11-25T17:42:41.437Z"
   },
   {
    "duration": 21,
    "start_time": "2023-11-25T17:42:41.448Z"
   },
   {
    "duration": 12,
    "start_time": "2023-11-25T17:42:41.470Z"
   },
   {
    "duration": 63,
    "start_time": "2023-11-25T17:42:41.484Z"
   },
   {
    "duration": 9,
    "start_time": "2023-11-25T17:42:41.548Z"
   },
   {
    "duration": 7,
    "start_time": "2023-11-25T17:42:41.558Z"
   },
   {
    "duration": 8,
    "start_time": "2023-11-25T17:42:41.566Z"
   },
   {
    "duration": 9,
    "start_time": "2023-11-25T17:42:41.575Z"
   },
   {
    "duration": 30,
    "start_time": "2023-11-25T17:42:41.585Z"
   },
   {
    "duration": 17,
    "start_time": "2023-11-25T17:42:41.616Z"
   },
   {
    "duration": 18,
    "start_time": "2023-11-25T17:42:41.634Z"
   },
   {
    "duration": 2,
    "start_time": "2023-11-25T17:42:41.653Z"
   },
   {
    "duration": 518,
    "start_time": "2023-11-25T17:42:41.656Z"
   },
   {
    "duration": 1187,
    "start_time": "2023-11-25T17:42:42.175Z"
   },
   {
    "duration": 3,
    "start_time": "2023-11-25T17:42:43.363Z"
   },
   {
    "duration": 1050,
    "start_time": "2023-11-25T17:42:43.367Z"
   },
   {
    "duration": 14,
    "start_time": "2023-11-25T17:42:44.418Z"
   },
   {
    "duration": 2560,
    "start_time": "2023-11-25T17:42:44.433Z"
   },
   {
    "duration": 1080,
    "start_time": "2023-11-25T17:42:46.994Z"
   },
   {
    "duration": 5,
    "start_time": "2023-11-25T17:42:48.076Z"
   },
   {
    "duration": 6,
    "start_time": "2023-11-25T17:42:48.082Z"
   },
   {
    "duration": 5,
    "start_time": "2023-11-25T17:42:48.089Z"
   },
   {
    "duration": 185,
    "start_time": "2023-11-25T17:42:48.096Z"
   },
   {
    "duration": 11,
    "start_time": "2023-11-25T17:42:48.282Z"
   },
   {
    "duration": 5,
    "start_time": "2023-11-25T17:42:48.294Z"
   },
   {
    "duration": 158,
    "start_time": "2023-11-25T17:42:48.300Z"
   },
   {
    "duration": 6,
    "start_time": "2023-11-25T17:42:48.459Z"
   },
   {
    "duration": 8,
    "start_time": "2023-11-25T17:42:48.466Z"
   },
   {
    "duration": 5,
    "start_time": "2023-11-25T17:42:48.475Z"
   },
   {
    "duration": 5,
    "start_time": "2023-11-25T17:42:48.481Z"
   },
   {
    "duration": 188,
    "start_time": "2023-11-25T17:42:48.487Z"
   },
   {
    "duration": 7,
    "start_time": "2023-11-25T17:42:48.676Z"
   },
   {
    "duration": 10,
    "start_time": "2023-11-25T17:42:48.684Z"
   },
   {
    "duration": 5,
    "start_time": "2023-11-25T17:42:48.695Z"
   },
   {
    "duration": 162,
    "start_time": "2023-11-25T17:42:48.701Z"
   },
   {
    "duration": 6,
    "start_time": "2023-11-25T17:42:48.865Z"
   },
   {
    "duration": 6,
    "start_time": "2023-11-25T17:42:48.872Z"
   },
   {
    "duration": 8,
    "start_time": "2023-11-25T17:42:48.879Z"
   },
   {
    "duration": 34,
    "start_time": "2023-11-25T17:42:48.888Z"
   },
   {
    "duration": 2,
    "start_time": "2023-11-25T17:42:48.923Z"
   },
   {
    "duration": 121,
    "start_time": "2023-11-25T17:42:48.927Z"
   },
   {
    "duration": 3,
    "start_time": "2023-11-25T17:42:49.050Z"
   },
   {
    "duration": 28,
    "start_time": "2023-11-25T17:42:49.054Z"
   },
   {
    "duration": 3,
    "start_time": "2023-11-25T17:43:11.131Z"
   },
   {
    "duration": 128,
    "start_time": "2023-11-25T17:43:11.686Z"
   },
   {
    "duration": 4,
    "start_time": "2023-11-25T17:43:12.134Z"
   },
   {
    "duration": 20,
    "start_time": "2023-11-25T17:43:13.169Z"
   },
   {
    "duration": 1207,
    "start_time": "2023-11-25T17:44:42.917Z"
   },
   {
    "duration": 37,
    "start_time": "2023-11-25T17:44:44.126Z"
   },
   {
    "duration": 13,
    "start_time": "2023-11-25T17:44:44.164Z"
   },
   {
    "duration": 2,
    "start_time": "2023-11-25T17:44:44.179Z"
   },
   {
    "duration": 10,
    "start_time": "2023-11-25T17:44:44.183Z"
   },
   {
    "duration": 17,
    "start_time": "2023-11-25T17:44:44.194Z"
   },
   {
    "duration": 4,
    "start_time": "2023-11-25T17:44:44.213Z"
   },
   {
    "duration": 348,
    "start_time": "2023-11-25T17:44:44.218Z"
   },
   {
    "duration": 7,
    "start_time": "2023-11-25T17:44:44.567Z"
   },
   {
    "duration": 4,
    "start_time": "2023-11-25T17:44:44.576Z"
   },
   {
    "duration": 6,
    "start_time": "2023-11-25T17:44:44.581Z"
   },
   {
    "duration": 3,
    "start_time": "2023-11-25T17:44:44.588Z"
   },
   {
    "duration": 68,
    "start_time": "2023-11-25T17:44:44.592Z"
   },
   {
    "duration": 4,
    "start_time": "2023-11-25T17:44:44.662Z"
   },
   {
    "duration": 3,
    "start_time": "2023-11-25T17:44:44.668Z"
   },
   {
    "duration": 7,
    "start_time": "2023-11-25T17:44:44.672Z"
   },
   {
    "duration": 3,
    "start_time": "2023-11-25T17:44:44.680Z"
   },
   {
    "duration": 11,
    "start_time": "2023-11-25T17:44:44.684Z"
   },
   {
    "duration": 35,
    "start_time": "2023-11-25T17:44:44.696Z"
   },
   {
    "duration": 14,
    "start_time": "2023-11-25T17:44:44.732Z"
   },
   {
    "duration": 3,
    "start_time": "2023-11-25T17:44:44.747Z"
   },
   {
    "duration": 4,
    "start_time": "2023-11-25T17:44:44.752Z"
   },
   {
    "duration": 4,
    "start_time": "2023-11-25T17:44:44.758Z"
   },
   {
    "duration": 4,
    "start_time": "2023-11-25T17:44:44.764Z"
   },
   {
    "duration": 8,
    "start_time": "2023-11-25T17:44:44.770Z"
   },
   {
    "duration": 36,
    "start_time": "2023-11-25T17:44:44.779Z"
   },
   {
    "duration": 945,
    "start_time": "2023-11-25T17:44:44.816Z"
   },
   {
    "duration": 25,
    "start_time": "2023-11-25T17:44:45.765Z"
   },
   {
    "duration": 7,
    "start_time": "2023-11-25T17:44:45.791Z"
   },
   {
    "duration": 16,
    "start_time": "2023-11-25T17:44:45.799Z"
   },
   {
    "duration": 10,
    "start_time": "2023-11-25T17:44:45.816Z"
   },
   {
    "duration": 11,
    "start_time": "2023-11-25T17:44:45.827Z"
   },
   {
    "duration": 9,
    "start_time": "2023-11-25T17:44:45.839Z"
   },
   {
    "duration": 21,
    "start_time": "2023-11-25T17:44:45.849Z"
   },
   {
    "duration": 13,
    "start_time": "2023-11-25T17:44:45.871Z"
   },
   {
    "duration": 57,
    "start_time": "2023-11-25T17:44:45.885Z"
   },
   {
    "duration": 10,
    "start_time": "2023-11-25T17:44:45.943Z"
   },
   {
    "duration": 8,
    "start_time": "2023-11-25T17:44:45.954Z"
   },
   {
    "duration": 8,
    "start_time": "2023-11-25T17:44:45.963Z"
   },
   {
    "duration": 8,
    "start_time": "2023-11-25T17:44:45.972Z"
   },
   {
    "duration": 8,
    "start_time": "2023-11-25T17:44:45.981Z"
   },
   {
    "duration": 41,
    "start_time": "2023-11-25T17:44:45.990Z"
   },
   {
    "duration": 18,
    "start_time": "2023-11-25T17:44:46.033Z"
   },
   {
    "duration": 2,
    "start_time": "2023-11-25T17:44:46.052Z"
   },
   {
    "duration": 525,
    "start_time": "2023-11-25T17:44:46.055Z"
   },
   {
    "duration": 1184,
    "start_time": "2023-11-25T17:44:46.582Z"
   },
   {
    "duration": 2,
    "start_time": "2023-11-25T17:44:47.767Z"
   },
   {
    "duration": 1069,
    "start_time": "2023-11-25T17:44:47.770Z"
   },
   {
    "duration": 14,
    "start_time": "2023-11-25T17:44:48.840Z"
   },
   {
    "duration": 2562,
    "start_time": "2023-11-25T17:44:48.855Z"
   },
   {
    "duration": 1083,
    "start_time": "2023-11-25T17:44:51.418Z"
   },
   {
    "duration": 12,
    "start_time": "2023-11-25T17:44:52.503Z"
   },
   {
    "duration": 6,
    "start_time": "2023-11-25T17:44:52.516Z"
   },
   {
    "duration": 19,
    "start_time": "2023-11-25T17:44:52.523Z"
   },
   {
    "duration": 181,
    "start_time": "2023-11-25T17:44:52.543Z"
   },
   {
    "duration": 12,
    "start_time": "2023-11-25T17:44:52.725Z"
   },
   {
    "duration": 17,
    "start_time": "2023-11-25T17:44:52.738Z"
   },
   {
    "duration": 145,
    "start_time": "2023-11-25T17:44:52.757Z"
   },
   {
    "duration": 6,
    "start_time": "2023-11-25T17:44:52.904Z"
   },
   {
    "duration": 21,
    "start_time": "2023-11-25T17:44:52.915Z"
   },
   {
    "duration": 6,
    "start_time": "2023-11-25T17:44:52.937Z"
   },
   {
    "duration": 6,
    "start_time": "2023-11-25T17:44:52.944Z"
   },
   {
    "duration": 172,
    "start_time": "2023-11-25T17:44:52.951Z"
   },
   {
    "duration": 6,
    "start_time": "2023-11-25T17:44:53.124Z"
   },
   {
    "duration": 7,
    "start_time": "2023-11-25T17:44:53.131Z"
   },
   {
    "duration": 7,
    "start_time": "2023-11-25T17:44:53.139Z"
   },
   {
    "duration": 169,
    "start_time": "2023-11-25T17:44:53.147Z"
   },
   {
    "duration": 7,
    "start_time": "2023-11-25T17:44:53.317Z"
   },
   {
    "duration": 17,
    "start_time": "2023-11-25T17:44:53.326Z"
   },
   {
    "duration": 8,
    "start_time": "2023-11-25T17:44:53.345Z"
   },
   {
    "duration": 14,
    "start_time": "2023-11-25T17:44:53.354Z"
   },
   {
    "duration": 3,
    "start_time": "2023-11-25T17:44:53.369Z"
   },
   {
    "duration": 147,
    "start_time": "2023-11-25T17:44:53.373Z"
   },
   {
    "duration": 4,
    "start_time": "2023-11-25T17:44:53.521Z"
   },
   {
    "duration": 21,
    "start_time": "2023-11-25T17:44:53.526Z"
   },
   {
    "duration": 3,
    "start_time": "2023-11-25T17:45:31.763Z"
   },
   {
    "duration": 123,
    "start_time": "2023-11-25T17:45:32.506Z"
   },
   {
    "duration": 5,
    "start_time": "2023-11-25T17:45:33.012Z"
   },
   {
    "duration": 19,
    "start_time": "2023-11-25T17:45:33.953Z"
   },
   {
    "duration": 3,
    "start_time": "2023-11-25T17:46:22.881Z"
   },
   {
    "duration": 119,
    "start_time": "2023-11-25T17:46:23.694Z"
   },
   {
    "duration": 4,
    "start_time": "2023-11-25T17:46:24.275Z"
   },
   {
    "duration": 18,
    "start_time": "2023-11-25T17:46:25.577Z"
   },
   {
    "duration": 3,
    "start_time": "2023-11-25T17:46:42.253Z"
   },
   {
    "duration": 116,
    "start_time": "2023-11-25T17:46:42.806Z"
   },
   {
    "duration": 5,
    "start_time": "2023-11-25T17:46:43.255Z"
   },
   {
    "duration": 19,
    "start_time": "2023-11-25T17:46:44.181Z"
   },
   {
    "duration": 1167,
    "start_time": "2023-11-25T17:47:12.628Z"
   },
   {
    "duration": 37,
    "start_time": "2023-11-25T17:47:13.797Z"
   },
   {
    "duration": 13,
    "start_time": "2023-11-25T17:47:13.838Z"
   },
   {
    "duration": 5,
    "start_time": "2023-11-25T17:47:13.852Z"
   },
   {
    "duration": 12,
    "start_time": "2023-11-25T17:47:13.858Z"
   },
   {
    "duration": 12,
    "start_time": "2023-11-25T17:47:13.871Z"
   },
   {
    "duration": 6,
    "start_time": "2023-11-25T17:47:13.884Z"
   },
   {
    "duration": 348,
    "start_time": "2023-11-25T17:47:13.891Z"
   },
   {
    "duration": 8,
    "start_time": "2023-11-25T17:47:14.242Z"
   },
   {
    "duration": 5,
    "start_time": "2023-11-25T17:47:14.251Z"
   },
   {
    "duration": 6,
    "start_time": "2023-11-25T17:47:14.258Z"
   },
   {
    "duration": 3,
    "start_time": "2023-11-25T17:47:14.265Z"
   },
   {
    "duration": 75,
    "start_time": "2023-11-25T17:47:14.269Z"
   },
   {
    "duration": 5,
    "start_time": "2023-11-25T17:47:14.345Z"
   },
   {
    "duration": 4,
    "start_time": "2023-11-25T17:47:14.351Z"
   },
   {
    "duration": 9,
    "start_time": "2023-11-25T17:47:14.356Z"
   },
   {
    "duration": 3,
    "start_time": "2023-11-25T17:47:14.366Z"
   },
   {
    "duration": 5,
    "start_time": "2023-11-25T17:47:14.370Z"
   },
   {
    "duration": 41,
    "start_time": "2023-11-25T17:47:14.376Z"
   },
   {
    "duration": 15,
    "start_time": "2023-11-25T17:47:14.418Z"
   },
   {
    "duration": 3,
    "start_time": "2023-11-25T17:47:14.434Z"
   },
   {
    "duration": 11,
    "start_time": "2023-11-25T17:47:14.438Z"
   },
   {
    "duration": 4,
    "start_time": "2023-11-25T17:47:14.450Z"
   },
   {
    "duration": 5,
    "start_time": "2023-11-25T17:47:14.455Z"
   },
   {
    "duration": 3,
    "start_time": "2023-11-25T17:47:14.461Z"
   },
   {
    "duration": 3,
    "start_time": "2023-11-25T17:47:14.466Z"
   },
   {
    "duration": 953,
    "start_time": "2023-11-25T17:47:14.472Z"
   },
   {
    "duration": 24,
    "start_time": "2023-11-25T17:47:15.426Z"
   },
   {
    "duration": 7,
    "start_time": "2023-11-25T17:47:15.451Z"
   },
   {
    "duration": 7,
    "start_time": "2023-11-25T17:47:15.460Z"
   },
   {
    "duration": 9,
    "start_time": "2023-11-25T17:47:15.468Z"
   },
   {
    "duration": 11,
    "start_time": "2023-11-25T17:47:15.479Z"
   },
   {
    "duration": 32,
    "start_time": "2023-11-25T17:47:15.491Z"
   },
   {
    "duration": 23,
    "start_time": "2023-11-25T17:47:15.525Z"
   },
   {
    "duration": 14,
    "start_time": "2023-11-25T17:47:15.549Z"
   },
   {
    "duration": 55,
    "start_time": "2023-11-25T17:47:15.564Z"
   },
   {
    "duration": 11,
    "start_time": "2023-11-25T17:47:15.620Z"
   },
   {
    "duration": 7,
    "start_time": "2023-11-25T17:47:15.632Z"
   },
   {
    "duration": 8,
    "start_time": "2023-11-25T17:47:15.640Z"
   },
   {
    "duration": 9,
    "start_time": "2023-11-25T17:47:15.649Z"
   },
   {
    "duration": 7,
    "start_time": "2023-11-25T17:47:15.659Z"
   },
   {
    "duration": 18,
    "start_time": "2023-11-25T17:47:15.667Z"
   },
   {
    "duration": 17,
    "start_time": "2023-11-25T17:47:15.715Z"
   },
   {
    "duration": 3,
    "start_time": "2023-11-25T17:47:15.733Z"
   },
   {
    "duration": 516,
    "start_time": "2023-11-25T17:47:15.737Z"
   },
   {
    "duration": 1189,
    "start_time": "2023-11-25T17:47:16.254Z"
   },
   {
    "duration": 2,
    "start_time": "2023-11-25T17:47:17.444Z"
   },
   {
    "duration": 1062,
    "start_time": "2023-11-25T17:47:17.447Z"
   },
   {
    "duration": 19,
    "start_time": "2023-11-25T17:47:18.511Z"
   },
   {
    "duration": 2558,
    "start_time": "2023-11-25T17:47:18.531Z"
   },
   {
    "duration": 1098,
    "start_time": "2023-11-25T17:47:21.090Z"
   },
   {
    "duration": 8,
    "start_time": "2023-11-25T17:47:22.189Z"
   },
   {
    "duration": 34,
    "start_time": "2023-11-25T17:47:22.198Z"
   },
   {
    "duration": 17,
    "start_time": "2023-11-25T17:47:22.234Z"
   },
   {
    "duration": 194,
    "start_time": "2023-11-25T17:47:22.252Z"
   },
   {
    "duration": 11,
    "start_time": "2023-11-25T17:47:22.448Z"
   },
   {
    "duration": 5,
    "start_time": "2023-11-25T17:47:22.460Z"
   },
   {
    "duration": 154,
    "start_time": "2023-11-25T17:47:22.466Z"
   },
   {
    "duration": 7,
    "start_time": "2023-11-25T17:47:22.621Z"
   },
   {
    "duration": 17,
    "start_time": "2023-11-25T17:47:22.630Z"
   },
   {
    "duration": 8,
    "start_time": "2023-11-25T17:47:22.648Z"
   },
   {
    "duration": 20,
    "start_time": "2023-11-25T17:47:22.657Z"
   },
   {
    "duration": 170,
    "start_time": "2023-11-25T17:47:22.678Z"
   },
   {
    "duration": 6,
    "start_time": "2023-11-25T17:47:22.849Z"
   },
   {
    "duration": 29,
    "start_time": "2023-11-25T17:47:22.856Z"
   },
   {
    "duration": 35,
    "start_time": "2023-11-25T17:47:22.886Z"
   },
   {
    "duration": 186,
    "start_time": "2023-11-25T17:47:22.923Z"
   },
   {
    "duration": 9,
    "start_time": "2023-11-25T17:47:23.110Z"
   },
   {
    "duration": 7,
    "start_time": "2023-11-25T17:47:23.120Z"
   },
   {
    "duration": 9,
    "start_time": "2023-11-25T17:47:23.128Z"
   },
   {
    "duration": 15,
    "start_time": "2023-11-25T17:47:23.138Z"
   },
   {
    "duration": 3,
    "start_time": "2023-11-25T17:47:23.155Z"
   },
   {
    "duration": 145,
    "start_time": "2023-11-25T17:47:23.159Z"
   },
   {
    "duration": 11,
    "start_time": "2023-11-25T17:47:23.305Z"
   },
   {
    "duration": 23,
    "start_time": "2023-11-25T17:47:23.317Z"
   },
   {
    "duration": 1178,
    "start_time": "2023-11-25T17:48:02.776Z"
   },
   {
    "duration": 37,
    "start_time": "2023-11-25T17:48:03.956Z"
   },
   {
    "duration": 12,
    "start_time": "2023-11-25T17:48:03.994Z"
   },
   {
    "duration": 2,
    "start_time": "2023-11-25T17:48:04.008Z"
   },
   {
    "duration": 3,
    "start_time": "2023-11-25T17:48:04.011Z"
   },
   {
    "duration": 15,
    "start_time": "2023-11-25T17:48:04.015Z"
   },
   {
    "duration": 13,
    "start_time": "2023-11-25T17:48:04.032Z"
   },
   {
    "duration": 322,
    "start_time": "2023-11-25T17:48:04.046Z"
   },
   {
    "duration": 8,
    "start_time": "2023-11-25T17:48:04.369Z"
   },
   {
    "duration": 3,
    "start_time": "2023-11-25T17:48:04.379Z"
   },
   {
    "duration": 6,
    "start_time": "2023-11-25T17:48:04.384Z"
   },
   {
    "duration": 2,
    "start_time": "2023-11-25T17:48:04.391Z"
   },
   {
    "duration": 66,
    "start_time": "2023-11-25T17:48:04.394Z"
   },
   {
    "duration": 4,
    "start_time": "2023-11-25T17:48:04.461Z"
   },
   {
    "duration": 4,
    "start_time": "2023-11-25T17:48:04.466Z"
   },
   {
    "duration": 7,
    "start_time": "2023-11-25T17:48:04.471Z"
   },
   {
    "duration": 3,
    "start_time": "2023-11-25T17:48:04.479Z"
   },
   {
    "duration": 5,
    "start_time": "2023-11-25T17:48:04.483Z"
   },
   {
    "duration": 16,
    "start_time": "2023-11-25T17:48:04.515Z"
   },
   {
    "duration": 15,
    "start_time": "2023-11-25T17:48:04.532Z"
   },
   {
    "duration": 4,
    "start_time": "2023-11-25T17:48:04.548Z"
   },
   {
    "duration": 6,
    "start_time": "2023-11-25T17:48:04.553Z"
   },
   {
    "duration": 4,
    "start_time": "2023-11-25T17:48:04.560Z"
   },
   {
    "duration": 4,
    "start_time": "2023-11-25T17:48:04.566Z"
   },
   {
    "duration": 7,
    "start_time": "2023-11-25T17:48:04.571Z"
   },
   {
    "duration": 38,
    "start_time": "2023-11-25T17:48:04.580Z"
   },
   {
    "duration": 942,
    "start_time": "2023-11-25T17:48:04.619Z"
   },
   {
    "duration": 24,
    "start_time": "2023-11-25T17:48:05.564Z"
   },
   {
    "duration": 18,
    "start_time": "2023-11-25T17:48:05.589Z"
   },
   {
    "duration": 8,
    "start_time": "2023-11-25T17:48:05.608Z"
   },
   {
    "duration": 11,
    "start_time": "2023-11-25T17:48:05.617Z"
   },
   {
    "duration": 25,
    "start_time": "2023-11-25T17:48:05.629Z"
   },
   {
    "duration": 9,
    "start_time": "2023-11-25T17:48:05.655Z"
   },
   {
    "duration": 25,
    "start_time": "2023-11-25T17:48:05.665Z"
   },
   {
    "duration": 13,
    "start_time": "2023-11-25T17:48:05.691Z"
   },
   {
    "duration": 41,
    "start_time": "2023-11-25T17:48:05.705Z"
   },
   {
    "duration": 10,
    "start_time": "2023-11-25T17:48:05.747Z"
   },
   {
    "duration": 12,
    "start_time": "2023-11-25T17:48:05.758Z"
   },
   {
    "duration": 9,
    "start_time": "2023-11-25T17:48:05.771Z"
   },
   {
    "duration": 17,
    "start_time": "2023-11-25T17:48:05.781Z"
   },
   {
    "duration": 11,
    "start_time": "2023-11-25T17:48:05.799Z"
   },
   {
    "duration": 18,
    "start_time": "2023-11-25T17:48:05.814Z"
   },
   {
    "duration": 17,
    "start_time": "2023-11-25T17:48:05.833Z"
   },
   {
    "duration": 2,
    "start_time": "2023-11-25T17:48:05.851Z"
   },
   {
    "duration": 525,
    "start_time": "2023-11-25T17:48:05.854Z"
   },
   {
    "duration": 1198,
    "start_time": "2023-11-25T17:48:06.380Z"
   },
   {
    "duration": 2,
    "start_time": "2023-11-25T17:48:07.579Z"
   },
   {
    "duration": 1051,
    "start_time": "2023-11-25T17:48:07.583Z"
   },
   {
    "duration": 14,
    "start_time": "2023-11-25T17:48:08.636Z"
   },
   {
    "duration": 2562,
    "start_time": "2023-11-25T17:48:08.651Z"
   },
   {
    "duration": 1242,
    "start_time": "2023-11-25T17:48:11.215Z"
   },
   {
    "duration": 5,
    "start_time": "2023-11-25T17:48:12.459Z"
   },
   {
    "duration": 6,
    "start_time": "2023-11-25T17:48:12.465Z"
   },
   {
    "duration": 47,
    "start_time": "2023-11-25T17:48:12.472Z"
   },
   {
    "duration": 189,
    "start_time": "2023-11-25T17:48:12.520Z"
   },
   {
    "duration": 13,
    "start_time": "2023-11-25T17:48:12.711Z"
   },
   {
    "duration": 11,
    "start_time": "2023-11-25T17:48:12.725Z"
   },
   {
    "duration": 152,
    "start_time": "2023-11-25T17:48:12.737Z"
   },
   {
    "duration": 6,
    "start_time": "2023-11-25T17:48:12.890Z"
   },
   {
    "duration": 18,
    "start_time": "2023-11-25T17:48:12.897Z"
   },
   {
    "duration": 5,
    "start_time": "2023-11-25T17:48:12.916Z"
   },
   {
    "duration": 5,
    "start_time": "2023-11-25T17:48:12.922Z"
   },
   {
    "duration": 181,
    "start_time": "2023-11-25T17:48:12.928Z"
   },
   {
    "duration": 9,
    "start_time": "2023-11-25T17:48:13.110Z"
   },
   {
    "duration": 7,
    "start_time": "2023-11-25T17:48:13.120Z"
   },
   {
    "duration": 5,
    "start_time": "2023-11-25T17:48:13.128Z"
   },
   {
    "duration": 176,
    "start_time": "2023-11-25T17:48:13.134Z"
   },
   {
    "duration": 7,
    "start_time": "2023-11-25T17:48:13.314Z"
   },
   {
    "duration": 7,
    "start_time": "2023-11-25T17:48:13.322Z"
   },
   {
    "duration": 12,
    "start_time": "2023-11-25T17:48:13.330Z"
   },
   {
    "duration": 25,
    "start_time": "2023-11-25T17:48:13.343Z"
   },
   {
    "duration": 2,
    "start_time": "2023-11-25T17:48:13.369Z"
   },
   {
    "duration": 124,
    "start_time": "2023-11-25T17:48:13.373Z"
   },
   {
    "duration": 4,
    "start_time": "2023-11-25T17:48:13.498Z"
   },
   {
    "duration": 25,
    "start_time": "2023-11-25T17:48:13.503Z"
   },
   {
    "duration": 1181,
    "start_time": "2023-11-25T17:48:40.879Z"
   },
   {
    "duration": 36,
    "start_time": "2023-11-25T17:48:42.062Z"
   },
   {
    "duration": 12,
    "start_time": "2023-11-25T17:48:42.099Z"
   },
   {
    "duration": 2,
    "start_time": "2023-11-25T17:48:42.113Z"
   },
   {
    "duration": 9,
    "start_time": "2023-11-25T17:48:42.116Z"
   },
   {
    "duration": 11,
    "start_time": "2023-11-25T17:48:42.126Z"
   },
   {
    "duration": 10,
    "start_time": "2023-11-25T17:48:42.138Z"
   },
   {
    "duration": 326,
    "start_time": "2023-11-25T17:48:42.149Z"
   },
   {
    "duration": 7,
    "start_time": "2023-11-25T17:48:42.476Z"
   },
   {
    "duration": 3,
    "start_time": "2023-11-25T17:48:42.486Z"
   },
   {
    "duration": 13,
    "start_time": "2023-11-25T17:48:42.490Z"
   },
   {
    "duration": 12,
    "start_time": "2023-11-25T17:48:42.504Z"
   },
   {
    "duration": 51,
    "start_time": "2023-11-25T17:48:42.517Z"
   },
   {
    "duration": 4,
    "start_time": "2023-11-25T17:48:42.570Z"
   },
   {
    "duration": 4,
    "start_time": "2023-11-25T17:48:42.575Z"
   },
   {
    "duration": 9,
    "start_time": "2023-11-25T17:48:42.580Z"
   },
   {
    "duration": 2,
    "start_time": "2023-11-25T17:48:42.590Z"
   },
   {
    "duration": 22,
    "start_time": "2023-11-25T17:48:42.593Z"
   },
   {
    "duration": 14,
    "start_time": "2023-11-25T17:48:42.617Z"
   },
   {
    "duration": 15,
    "start_time": "2023-11-25T17:48:42.632Z"
   },
   {
    "duration": 3,
    "start_time": "2023-11-25T17:48:42.648Z"
   },
   {
    "duration": 7,
    "start_time": "2023-11-25T17:48:42.652Z"
   },
   {
    "duration": 6,
    "start_time": "2023-11-25T17:48:42.660Z"
   },
   {
    "duration": 5,
    "start_time": "2023-11-25T17:48:42.667Z"
   },
   {
    "duration": 5,
    "start_time": "2023-11-25T17:48:42.673Z"
   },
   {
    "duration": 5,
    "start_time": "2023-11-25T17:48:42.679Z"
   },
   {
    "duration": 971,
    "start_time": "2023-11-25T17:48:42.715Z"
   },
   {
    "duration": 32,
    "start_time": "2023-11-25T17:48:43.689Z"
   },
   {
    "duration": 9,
    "start_time": "2023-11-25T17:48:43.723Z"
   },
   {
    "duration": 3,
    "start_time": "2023-11-25T17:48:43.733Z"
   },
   {
    "duration": 9,
    "start_time": "2023-11-25T17:48:43.737Z"
   },
   {
    "duration": 12,
    "start_time": "2023-11-25T17:48:43.747Z"
   },
   {
    "duration": 12,
    "start_time": "2023-11-25T17:48:43.760Z"
   },
   {
    "duration": 48,
    "start_time": "2023-11-25T17:48:43.773Z"
   },
   {
    "duration": 15,
    "start_time": "2023-11-25T17:48:43.823Z"
   },
   {
    "duration": 33,
    "start_time": "2023-11-25T17:48:43.839Z"
   },
   {
    "duration": 10,
    "start_time": "2023-11-25T17:48:43.874Z"
   },
   {
    "duration": 32,
    "start_time": "2023-11-25T17:48:43.885Z"
   },
   {
    "duration": 9,
    "start_time": "2023-11-25T17:48:43.918Z"
   },
   {
    "duration": 9,
    "start_time": "2023-11-25T17:48:43.928Z"
   },
   {
    "duration": 11,
    "start_time": "2023-11-25T17:48:43.938Z"
   },
   {
    "duration": 27,
    "start_time": "2023-11-25T17:48:43.950Z"
   },
   {
    "duration": 19,
    "start_time": "2023-11-25T17:48:43.978Z"
   },
   {
    "duration": 2,
    "start_time": "2023-11-25T17:48:43.998Z"
   },
   {
    "duration": 530,
    "start_time": "2023-11-25T17:48:44.001Z"
   },
   {
    "duration": 1194,
    "start_time": "2023-11-25T17:48:44.532Z"
   },
   {
    "duration": 2,
    "start_time": "2023-11-25T17:48:45.727Z"
   },
   {
    "duration": 1045,
    "start_time": "2023-11-25T17:48:45.731Z"
   },
   {
    "duration": 16,
    "start_time": "2023-11-25T17:48:46.777Z"
   },
   {
    "duration": 2607,
    "start_time": "2023-11-25T17:48:46.794Z"
   },
   {
    "duration": 1130,
    "start_time": "2023-11-25T17:48:49.402Z"
   },
   {
    "duration": 6,
    "start_time": "2023-11-25T17:48:50.533Z"
   },
   {
    "duration": 31,
    "start_time": "2023-11-25T17:48:50.540Z"
   },
   {
    "duration": 5,
    "start_time": "2023-11-25T17:48:50.572Z"
   },
   {
    "duration": 180,
    "start_time": "2023-11-25T17:48:50.578Z"
   },
   {
    "duration": 13,
    "start_time": "2023-11-25T17:48:50.759Z"
   },
   {
    "duration": 35,
    "start_time": "2023-11-25T17:48:50.773Z"
   },
   {
    "duration": 149,
    "start_time": "2023-11-25T17:48:50.809Z"
   },
   {
    "duration": 6,
    "start_time": "2023-11-25T17:48:50.960Z"
   },
   {
    "duration": 44,
    "start_time": "2023-11-25T17:48:50.968Z"
   },
   {
    "duration": 9,
    "start_time": "2023-11-25T17:48:51.013Z"
   },
   {
    "duration": 17,
    "start_time": "2023-11-25T17:48:51.023Z"
   },
   {
    "duration": 182,
    "start_time": "2023-11-25T17:48:51.041Z"
   },
   {
    "duration": 6,
    "start_time": "2023-11-25T17:48:51.224Z"
   },
   {
    "duration": 5,
    "start_time": "2023-11-25T17:48:51.232Z"
   },
   {
    "duration": 5,
    "start_time": "2023-11-25T17:48:51.242Z"
   },
   {
    "duration": 165,
    "start_time": "2023-11-25T17:48:51.248Z"
   },
   {
    "duration": 6,
    "start_time": "2023-11-25T17:48:51.415Z"
   },
   {
    "duration": 7,
    "start_time": "2023-11-25T17:48:51.422Z"
   },
   {
    "duration": 10,
    "start_time": "2023-11-25T17:48:51.430Z"
   },
   {
    "duration": 18,
    "start_time": "2023-11-25T17:48:51.441Z"
   },
   {
    "duration": 3,
    "start_time": "2023-11-25T17:48:51.460Z"
   },
   {
    "duration": 122,
    "start_time": "2023-11-25T17:48:51.464Z"
   },
   {
    "duration": 4,
    "start_time": "2023-11-25T17:48:51.588Z"
   },
   {
    "duration": 27,
    "start_time": "2023-11-25T17:48:51.593Z"
   },
   {
    "duration": 1123,
    "start_time": "2023-11-25T17:50:17.537Z"
   },
   {
    "duration": 36,
    "start_time": "2023-11-25T17:50:18.661Z"
   },
   {
    "duration": 12,
    "start_time": "2023-11-25T17:50:18.699Z"
   },
   {
    "duration": 3,
    "start_time": "2023-11-25T17:50:18.712Z"
   },
   {
    "duration": 9,
    "start_time": "2023-11-25T17:50:18.716Z"
   },
   {
    "duration": 10,
    "start_time": "2023-11-25T17:50:18.726Z"
   },
   {
    "duration": 5,
    "start_time": "2023-11-25T17:50:18.737Z"
   },
   {
    "duration": 330,
    "start_time": "2023-11-25T17:50:18.743Z"
   },
   {
    "duration": 8,
    "start_time": "2023-11-25T17:50:19.074Z"
   },
   {
    "duration": 3,
    "start_time": "2023-11-25T17:50:19.084Z"
   },
   {
    "duration": 6,
    "start_time": "2023-11-25T17:50:19.089Z"
   },
   {
    "duration": 20,
    "start_time": "2023-11-25T17:50:19.096Z"
   },
   {
    "duration": 52,
    "start_time": "2023-11-25T17:50:19.117Z"
   },
   {
    "duration": 4,
    "start_time": "2023-11-25T17:50:19.171Z"
   },
   {
    "duration": 5,
    "start_time": "2023-11-25T17:50:19.176Z"
   },
   {
    "duration": 8,
    "start_time": "2023-11-25T17:50:19.182Z"
   },
   {
    "duration": 23,
    "start_time": "2023-11-25T17:50:19.192Z"
   },
   {
    "duration": 5,
    "start_time": "2023-11-25T17:50:19.217Z"
   },
   {
    "duration": 18,
    "start_time": "2023-11-25T17:50:19.223Z"
   },
   {
    "duration": 14,
    "start_time": "2023-11-25T17:50:19.243Z"
   },
   {
    "duration": 3,
    "start_time": "2023-11-25T17:50:19.259Z"
   },
   {
    "duration": 9,
    "start_time": "2023-11-25T17:50:19.263Z"
   },
   {
    "duration": 11,
    "start_time": "2023-11-25T17:50:19.274Z"
   },
   {
    "duration": 29,
    "start_time": "2023-11-25T17:50:19.287Z"
   },
   {
    "duration": 5,
    "start_time": "2023-11-25T17:50:19.317Z"
   },
   {
    "duration": 6,
    "start_time": "2023-11-25T17:50:19.323Z"
   },
   {
    "duration": 934,
    "start_time": "2023-11-25T17:50:19.330Z"
   },
   {
    "duration": 26,
    "start_time": "2023-11-25T17:50:20.267Z"
   },
   {
    "duration": 22,
    "start_time": "2023-11-25T17:50:20.294Z"
   },
   {
    "duration": 40,
    "start_time": "2023-11-25T17:50:20.317Z"
   },
   {
    "duration": 12,
    "start_time": "2023-11-25T17:50:20.359Z"
   },
   {
    "duration": 17,
    "start_time": "2023-11-25T17:50:20.373Z"
   },
   {
    "duration": 11,
    "start_time": "2023-11-25T17:50:20.391Z"
   },
   {
    "duration": 38,
    "start_time": "2023-11-25T17:50:20.403Z"
   },
   {
    "duration": 15,
    "start_time": "2023-11-25T17:50:20.442Z"
   },
   {
    "duration": 57,
    "start_time": "2023-11-25T17:50:20.458Z"
   },
   {
    "duration": 11,
    "start_time": "2023-11-25T17:50:20.516Z"
   },
   {
    "duration": 8,
    "start_time": "2023-11-25T17:50:20.528Z"
   },
   {
    "duration": 10,
    "start_time": "2023-11-25T17:50:20.538Z"
   },
   {
    "duration": 10,
    "start_time": "2023-11-25T17:50:20.549Z"
   },
   {
    "duration": 8,
    "start_time": "2023-11-25T17:50:20.560Z"
   },
   {
    "duration": 48,
    "start_time": "2023-11-25T17:50:20.570Z"
   },
   {
    "duration": 19,
    "start_time": "2023-11-25T17:50:20.619Z"
   },
   {
    "duration": 3,
    "start_time": "2023-11-25T17:50:20.639Z"
   },
   {
    "duration": 531,
    "start_time": "2023-11-25T17:50:20.643Z"
   },
   {
    "duration": 1193,
    "start_time": "2023-11-25T17:50:21.177Z"
   },
   {
    "duration": 2,
    "start_time": "2023-11-25T17:50:22.372Z"
   },
   {
    "duration": 1065,
    "start_time": "2023-11-25T17:50:22.375Z"
   },
   {
    "duration": 16,
    "start_time": "2023-11-25T17:50:23.441Z"
   },
   {
    "duration": 2557,
    "start_time": "2023-11-25T17:50:23.458Z"
   },
   {
    "duration": 1065,
    "start_time": "2023-11-25T17:50:26.017Z"
   },
   {
    "duration": 6,
    "start_time": "2023-11-25T17:50:27.084Z"
   },
   {
    "duration": 5,
    "start_time": "2023-11-25T17:50:27.092Z"
   },
   {
    "duration": 19,
    "start_time": "2023-11-25T17:50:27.098Z"
   },
   {
    "duration": 181,
    "start_time": "2023-11-25T17:50:27.118Z"
   },
   {
    "duration": 17,
    "start_time": "2023-11-25T17:50:27.300Z"
   },
   {
    "duration": 5,
    "start_time": "2023-11-25T17:50:27.318Z"
   },
   {
    "duration": 151,
    "start_time": "2023-11-25T17:50:27.324Z"
   },
   {
    "duration": 6,
    "start_time": "2023-11-25T17:50:27.476Z"
   },
   {
    "duration": 7,
    "start_time": "2023-11-25T17:50:27.483Z"
   },
   {
    "duration": 5,
    "start_time": "2023-11-25T17:50:27.491Z"
   },
   {
    "duration": 21,
    "start_time": "2023-11-25T17:50:27.497Z"
   },
   {
    "duration": 177,
    "start_time": "2023-11-25T17:50:27.519Z"
   },
   {
    "duration": 7,
    "start_time": "2023-11-25T17:50:27.698Z"
   },
   {
    "duration": 5,
    "start_time": "2023-11-25T17:50:27.715Z"
   },
   {
    "duration": 5,
    "start_time": "2023-11-25T17:50:27.721Z"
   },
   {
    "duration": 164,
    "start_time": "2023-11-25T17:50:27.727Z"
   },
   {
    "duration": 7,
    "start_time": "2023-11-25T17:50:27.892Z"
   },
   {
    "duration": 17,
    "start_time": "2023-11-25T17:50:27.900Z"
   },
   {
    "duration": 8,
    "start_time": "2023-11-25T17:50:27.918Z"
   },
   {
    "duration": 24,
    "start_time": "2023-11-25T17:50:27.927Z"
   },
   {
    "duration": 3,
    "start_time": "2023-11-25T17:50:27.952Z"
   },
   {
    "duration": 105,
    "start_time": "2023-11-25T17:50:27.956Z"
   },
   {
    "duration": 4,
    "start_time": "2023-11-25T17:50:28.062Z"
   },
   {
    "duration": 18,
    "start_time": "2023-11-25T17:50:28.067Z"
   },
   {
    "duration": 3,
    "start_time": "2023-11-25T17:51:05.411Z"
   },
   {
    "duration": 105,
    "start_time": "2023-11-25T17:51:06.094Z"
   },
   {
    "duration": 4,
    "start_time": "2023-11-25T17:51:06.650Z"
   },
   {
    "duration": 18,
    "start_time": "2023-11-25T17:51:07.796Z"
   },
   {
    "duration": 3,
    "start_time": "2023-11-25T17:52:02.391Z"
   },
   {
    "duration": 104,
    "start_time": "2023-11-25T17:52:03.943Z"
   },
   {
    "duration": 4,
    "start_time": "2023-11-25T17:52:04.478Z"
   },
   {
    "duration": 18,
    "start_time": "2023-11-25T17:52:05.653Z"
   },
   {
    "duration": 4,
    "start_time": "2023-11-25T17:53:34.343Z"
   },
   {
    "duration": 103,
    "start_time": "2023-11-25T17:53:35.026Z"
   },
   {
    "duration": 5,
    "start_time": "2023-11-25T17:53:35.654Z"
   },
   {
    "duration": 19,
    "start_time": "2023-11-25T17:53:36.901Z"
   },
   {
    "duration": 1153,
    "start_time": "2023-11-25T17:54:17.004Z"
   },
   {
    "duration": 37,
    "start_time": "2023-11-25T17:54:18.159Z"
   },
   {
    "duration": 13,
    "start_time": "2023-11-25T17:54:18.197Z"
   },
   {
    "duration": 7,
    "start_time": "2023-11-25T17:54:18.211Z"
   },
   {
    "duration": 4,
    "start_time": "2023-11-25T17:54:18.219Z"
   },
   {
    "duration": 11,
    "start_time": "2023-11-25T17:54:18.224Z"
   },
   {
    "duration": 5,
    "start_time": "2023-11-25T17:54:18.236Z"
   },
   {
    "duration": 316,
    "start_time": "2023-11-25T17:54:18.242Z"
   },
   {
    "duration": 7,
    "start_time": "2023-11-25T17:54:18.560Z"
   },
   {
    "duration": 4,
    "start_time": "2023-11-25T17:54:18.569Z"
   },
   {
    "duration": 7,
    "start_time": "2023-11-25T17:54:18.574Z"
   },
   {
    "duration": 2,
    "start_time": "2023-11-25T17:54:18.582Z"
   },
   {
    "duration": 70,
    "start_time": "2023-11-25T17:54:18.586Z"
   },
   {
    "duration": 5,
    "start_time": "2023-11-25T17:54:18.657Z"
   },
   {
    "duration": 4,
    "start_time": "2023-11-25T17:54:18.663Z"
   },
   {
    "duration": 8,
    "start_time": "2023-11-25T17:54:18.668Z"
   },
   {
    "duration": 3,
    "start_time": "2023-11-25T17:54:18.677Z"
   },
   {
    "duration": 5,
    "start_time": "2023-11-25T17:54:18.681Z"
   },
   {
    "duration": 41,
    "start_time": "2023-11-25T17:54:18.687Z"
   },
   {
    "duration": 15,
    "start_time": "2023-11-25T17:54:18.729Z"
   },
   {
    "duration": 3,
    "start_time": "2023-11-25T17:54:18.745Z"
   },
   {
    "duration": 8,
    "start_time": "2023-11-25T17:54:18.749Z"
   },
   {
    "duration": 6,
    "start_time": "2023-11-25T17:54:18.758Z"
   },
   {
    "duration": 4,
    "start_time": "2023-11-25T17:54:18.765Z"
   },
   {
    "duration": 5,
    "start_time": "2023-11-25T17:54:18.770Z"
   },
   {
    "duration": 5,
    "start_time": "2023-11-25T17:54:18.776Z"
   },
   {
    "duration": 950,
    "start_time": "2023-11-25T17:54:18.782Z"
   },
   {
    "duration": 25,
    "start_time": "2023-11-25T17:54:19.736Z"
   },
   {
    "duration": 8,
    "start_time": "2023-11-25T17:54:19.762Z"
   },
   {
    "duration": 14,
    "start_time": "2023-11-25T17:54:19.771Z"
   },
   {
    "duration": 13,
    "start_time": "2023-11-25T17:54:19.786Z"
   },
   {
    "duration": 26,
    "start_time": "2023-11-25T17:54:19.800Z"
   },
   {
    "duration": 12,
    "start_time": "2023-11-25T17:54:19.827Z"
   },
   {
    "duration": 21,
    "start_time": "2023-11-25T17:54:19.841Z"
   },
   {
    "duration": 13,
    "start_time": "2023-11-25T17:54:19.863Z"
   },
   {
    "duration": 49,
    "start_time": "2023-11-25T17:54:19.877Z"
   },
   {
    "duration": 10,
    "start_time": "2023-11-25T17:54:19.927Z"
   },
   {
    "duration": 11,
    "start_time": "2023-11-25T17:54:19.938Z"
   },
   {
    "duration": 8,
    "start_time": "2023-11-25T17:54:19.950Z"
   },
   {
    "duration": 8,
    "start_time": "2023-11-25T17:54:19.960Z"
   },
   {
    "duration": 8,
    "start_time": "2023-11-25T17:54:19.969Z"
   },
   {
    "duration": 45,
    "start_time": "2023-11-25T17:54:19.978Z"
   },
   {
    "duration": 18,
    "start_time": "2023-11-25T17:54:20.024Z"
   },
   {
    "duration": 3,
    "start_time": "2023-11-25T17:54:20.043Z"
   },
   {
    "duration": 545,
    "start_time": "2023-11-25T17:54:20.047Z"
   },
   {
    "duration": 1183,
    "start_time": "2023-11-25T17:54:20.593Z"
   },
   {
    "duration": 2,
    "start_time": "2023-11-25T17:54:21.777Z"
   },
   {
    "duration": 1065,
    "start_time": "2023-11-25T17:54:21.780Z"
   },
   {
    "duration": 15,
    "start_time": "2023-11-25T17:54:22.847Z"
   },
   {
    "duration": 2547,
    "start_time": "2023-11-25T17:54:22.863Z"
   },
   {
    "duration": 1069,
    "start_time": "2023-11-25T17:54:25.412Z"
   },
   {
    "duration": 5,
    "start_time": "2023-11-25T17:54:26.483Z"
   },
   {
    "duration": 6,
    "start_time": "2023-11-25T17:54:26.490Z"
   },
   {
    "duration": 21,
    "start_time": "2023-11-25T17:54:26.497Z"
   },
   {
    "duration": 174,
    "start_time": "2023-11-25T17:54:26.519Z"
   },
   {
    "duration": 12,
    "start_time": "2023-11-25T17:54:26.694Z"
   },
   {
    "duration": 12,
    "start_time": "2023-11-25T17:54:26.707Z"
   },
   {
    "duration": 156,
    "start_time": "2023-11-25T17:54:26.720Z"
   },
   {
    "duration": 5,
    "start_time": "2023-11-25T17:54:26.878Z"
   },
   {
    "duration": 10,
    "start_time": "2023-11-25T17:54:26.884Z"
   },
   {
    "duration": 5,
    "start_time": "2023-11-25T17:54:26.895Z"
   },
   {
    "duration": 17,
    "start_time": "2023-11-25T17:54:26.901Z"
   },
   {
    "duration": 176,
    "start_time": "2023-11-25T17:54:26.919Z"
   },
   {
    "duration": 6,
    "start_time": "2023-11-25T17:54:27.096Z"
   },
   {
    "duration": 16,
    "start_time": "2023-11-25T17:54:27.103Z"
   },
   {
    "duration": 14,
    "start_time": "2023-11-25T17:54:27.120Z"
   },
   {
    "duration": 155,
    "start_time": "2023-11-25T17:54:27.136Z"
   },
   {
    "duration": 6,
    "start_time": "2023-11-25T17:54:27.293Z"
   },
   {
    "duration": 15,
    "start_time": "2023-11-25T17:54:27.300Z"
   },
   {
    "duration": 8,
    "start_time": "2023-11-25T17:54:27.316Z"
   },
   {
    "duration": 19,
    "start_time": "2023-11-25T17:54:27.325Z"
   },
   {
    "duration": 3,
    "start_time": "2023-11-25T17:54:27.345Z"
   },
   {
    "duration": 117,
    "start_time": "2023-11-25T17:54:27.349Z"
   },
   {
    "duration": 4,
    "start_time": "2023-11-25T17:54:27.467Z"
   },
   {
    "duration": 23,
    "start_time": "2023-11-25T17:54:27.472Z"
   },
   {
    "duration": 1203,
    "start_time": "2023-11-25T17:57:13.861Z"
   },
   {
    "duration": 37,
    "start_time": "2023-11-25T17:57:15.066Z"
   },
   {
    "duration": 20,
    "start_time": "2023-11-25T17:57:15.104Z"
   },
   {
    "duration": 3,
    "start_time": "2023-11-25T17:57:15.126Z"
   },
   {
    "duration": 3,
    "start_time": "2023-11-25T17:57:15.130Z"
   },
   {
    "duration": 13,
    "start_time": "2023-11-25T17:57:15.134Z"
   },
   {
    "duration": 5,
    "start_time": "2023-11-25T17:57:15.148Z"
   },
   {
    "duration": 341,
    "start_time": "2023-11-25T17:57:15.154Z"
   },
   {
    "duration": 8,
    "start_time": "2023-11-25T17:57:15.497Z"
   },
   {
    "duration": 5,
    "start_time": "2023-11-25T17:57:15.524Z"
   },
   {
    "duration": 8,
    "start_time": "2023-11-25T17:57:15.530Z"
   },
   {
    "duration": 3,
    "start_time": "2023-11-25T17:57:15.539Z"
   },
   {
    "duration": 49,
    "start_time": "2023-11-25T17:57:15.543Z"
   },
   {
    "duration": 34,
    "start_time": "2023-11-25T17:57:15.593Z"
   },
   {
    "duration": 4,
    "start_time": "2023-11-25T17:57:15.628Z"
   },
   {
    "duration": 8,
    "start_time": "2023-11-25T17:57:15.633Z"
   },
   {
    "duration": 4,
    "start_time": "2023-11-25T17:57:15.642Z"
   },
   {
    "duration": 6,
    "start_time": "2023-11-25T17:57:15.647Z"
   },
   {
    "duration": 16,
    "start_time": "2023-11-25T17:57:15.654Z"
   },
   {
    "duration": 14,
    "start_time": "2023-11-25T17:57:15.671Z"
   },
   {
    "duration": 37,
    "start_time": "2023-11-25T17:57:15.687Z"
   },
   {
    "duration": 6,
    "start_time": "2023-11-25T17:57:15.726Z"
   },
   {
    "duration": 5,
    "start_time": "2023-11-25T17:57:15.733Z"
   },
   {
    "duration": 4,
    "start_time": "2023-11-25T17:57:15.739Z"
   },
   {
    "duration": 4,
    "start_time": "2023-11-25T17:57:15.744Z"
   },
   {
    "duration": 12,
    "start_time": "2023-11-25T17:57:15.749Z"
   },
   {
    "duration": 962,
    "start_time": "2023-11-25T17:57:15.763Z"
   },
   {
    "duration": 24,
    "start_time": "2023-11-25T17:57:16.729Z"
   },
   {
    "duration": 7,
    "start_time": "2023-11-25T17:57:16.754Z"
   },
   {
    "duration": 3,
    "start_time": "2023-11-25T17:57:16.762Z"
   },
   {
    "duration": 10,
    "start_time": "2023-11-25T17:57:16.766Z"
   },
   {
    "duration": 12,
    "start_time": "2023-11-25T17:57:16.777Z"
   },
   {
    "duration": 42,
    "start_time": "2023-11-25T17:57:16.790Z"
   },
   {
    "duration": 22,
    "start_time": "2023-11-25T17:57:16.833Z"
   },
   {
    "duration": 13,
    "start_time": "2023-11-25T17:57:16.855Z"
   },
   {
    "duration": 32,
    "start_time": "2023-11-25T17:57:16.869Z"
   },
   {
    "duration": 27,
    "start_time": "2023-11-25T17:57:16.903Z"
   },
   {
    "duration": 7,
    "start_time": "2023-11-25T17:57:16.931Z"
   },
   {
    "duration": 8,
    "start_time": "2023-11-25T17:57:16.940Z"
   },
   {
    "duration": 8,
    "start_time": "2023-11-25T17:57:16.949Z"
   },
   {
    "duration": 8,
    "start_time": "2023-11-25T17:57:16.958Z"
   },
   {
    "duration": 17,
    "start_time": "2023-11-25T17:57:16.967Z"
   },
   {
    "duration": 47,
    "start_time": "2023-11-25T17:57:16.985Z"
   },
   {
    "duration": 2,
    "start_time": "2023-11-25T17:57:17.034Z"
   },
   {
    "duration": 522,
    "start_time": "2023-11-25T17:57:17.037Z"
   },
   {
    "duration": 1212,
    "start_time": "2023-11-25T17:57:17.560Z"
   },
   {
    "duration": 2,
    "start_time": "2023-11-25T17:57:18.773Z"
   },
   {
    "duration": 1079,
    "start_time": "2023-11-25T17:57:18.776Z"
   },
   {
    "duration": 17,
    "start_time": "2023-11-25T17:57:19.856Z"
   },
   {
    "duration": 2660,
    "start_time": "2023-11-25T17:57:19.874Z"
   },
   {
    "duration": 1097,
    "start_time": "2023-11-25T17:57:22.535Z"
   },
   {
    "duration": 6,
    "start_time": "2023-11-25T17:57:23.633Z"
   },
   {
    "duration": 18,
    "start_time": "2023-11-25T17:57:23.640Z"
   },
   {
    "duration": 9,
    "start_time": "2023-11-25T17:57:23.659Z"
   },
   {
    "duration": 180,
    "start_time": "2023-11-25T17:57:23.669Z"
   },
   {
    "duration": 12,
    "start_time": "2023-11-25T17:57:23.851Z"
   },
   {
    "duration": 6,
    "start_time": "2023-11-25T17:57:23.864Z"
   },
   {
    "duration": 186,
    "start_time": "2023-11-25T17:57:23.871Z"
   },
   {
    "duration": 6,
    "start_time": "2023-11-25T17:57:24.059Z"
   },
   {
    "duration": 5,
    "start_time": "2023-11-25T17:57:24.066Z"
   },
   {
    "duration": 5,
    "start_time": "2023-11-25T17:57:24.072Z"
   },
   {
    "duration": 14,
    "start_time": "2023-11-25T17:57:24.078Z"
   },
   {
    "duration": 183,
    "start_time": "2023-11-25T17:57:24.093Z"
   },
   {
    "duration": 6,
    "start_time": "2023-11-25T17:57:24.277Z"
   },
   {
    "duration": 21,
    "start_time": "2023-11-25T17:57:24.284Z"
   },
   {
    "duration": 19,
    "start_time": "2023-11-25T17:57:24.306Z"
   },
   {
    "duration": 159,
    "start_time": "2023-11-25T17:57:24.327Z"
   },
   {
    "duration": 6,
    "start_time": "2023-11-25T17:57:24.487Z"
   },
   {
    "duration": 8,
    "start_time": "2023-11-25T17:57:24.494Z"
   },
   {
    "duration": 26,
    "start_time": "2023-11-25T17:57:24.504Z"
   },
   {
    "duration": 18,
    "start_time": "2023-11-25T17:57:24.531Z"
   },
   {
    "duration": 3,
    "start_time": "2023-11-25T17:57:24.551Z"
   },
   {
    "duration": 117,
    "start_time": "2023-11-25T17:57:24.555Z"
   },
   {
    "duration": 4,
    "start_time": "2023-11-25T17:57:24.673Z"
   },
   {
    "duration": 20,
    "start_time": "2023-11-25T17:57:24.678Z"
   },
   {
    "duration": 1235,
    "start_time": "2023-11-25T18:23:39.097Z"
   },
   {
    "duration": 40,
    "start_time": "2023-11-25T18:23:40.334Z"
   },
   {
    "duration": 15,
    "start_time": "2023-11-25T18:23:40.378Z"
   },
   {
    "duration": 7,
    "start_time": "2023-11-25T18:23:40.395Z"
   },
   {
    "duration": 4,
    "start_time": "2023-11-25T18:23:40.404Z"
   },
   {
    "duration": 39,
    "start_time": "2023-11-25T18:23:40.411Z"
   },
   {
    "duration": 6,
    "start_time": "2023-11-25T18:23:40.451Z"
   },
   {
    "duration": 341,
    "start_time": "2023-11-25T18:23:40.458Z"
   },
   {
    "duration": 7,
    "start_time": "2023-11-25T18:23:40.801Z"
   },
   {
    "duration": 10,
    "start_time": "2023-11-25T18:23:40.809Z"
   },
   {
    "duration": 19,
    "start_time": "2023-11-25T18:23:40.820Z"
   },
   {
    "duration": 21,
    "start_time": "2023-11-25T18:23:40.840Z"
   },
   {
    "duration": 49,
    "start_time": "2023-11-25T18:23:40.862Z"
   },
   {
    "duration": 18,
    "start_time": "2023-11-25T18:23:40.912Z"
   },
   {
    "duration": 4,
    "start_time": "2023-11-25T18:23:40.931Z"
   },
   {
    "duration": 10,
    "start_time": "2023-11-25T18:23:40.936Z"
   },
   {
    "duration": 3,
    "start_time": "2023-11-25T18:23:40.948Z"
   },
   {
    "duration": 6,
    "start_time": "2023-11-25T18:23:40.952Z"
   },
   {
    "duration": 15,
    "start_time": "2023-11-25T18:23:40.959Z"
   },
   {
    "duration": 14,
    "start_time": "2023-11-25T18:23:40.975Z"
   },
   {
    "duration": 24,
    "start_time": "2023-11-25T18:23:40.991Z"
   },
   {
    "duration": 7,
    "start_time": "2023-11-25T18:23:41.016Z"
   },
   {
    "duration": 12,
    "start_time": "2023-11-25T18:23:41.024Z"
   },
   {
    "duration": 5,
    "start_time": "2023-11-25T18:23:41.038Z"
   },
   {
    "duration": 20,
    "start_time": "2023-11-25T18:23:41.044Z"
   },
   {
    "duration": 14,
    "start_time": "2023-11-25T18:23:41.065Z"
   },
   {
    "duration": 966,
    "start_time": "2023-11-25T18:23:41.082Z"
   },
   {
    "duration": 24,
    "start_time": "2023-11-25T18:23:42.049Z"
   },
   {
    "duration": 7,
    "start_time": "2023-11-25T18:23:42.074Z"
   },
   {
    "duration": 4,
    "start_time": "2023-11-25T18:23:42.082Z"
   },
   {
    "duration": 37,
    "start_time": "2023-11-25T18:23:42.087Z"
   },
   {
    "duration": 13,
    "start_time": "2023-11-25T18:23:42.125Z"
   },
   {
    "duration": 10,
    "start_time": "2023-11-25T18:23:42.139Z"
   },
   {
    "duration": 23,
    "start_time": "2023-11-25T18:23:42.150Z"
   },
   {
    "duration": 13,
    "start_time": "2023-11-25T18:23:42.174Z"
   },
   {
    "duration": 59,
    "start_time": "2023-11-25T18:23:42.189Z"
   },
   {
    "duration": 10,
    "start_time": "2023-11-25T18:23:42.249Z"
   },
   {
    "duration": 8,
    "start_time": "2023-11-25T18:23:42.260Z"
   },
   {
    "duration": 9,
    "start_time": "2023-11-25T18:23:42.269Z"
   },
   {
    "duration": 9,
    "start_time": "2023-11-25T18:23:42.279Z"
   },
   {
    "duration": 38,
    "start_time": "2023-11-25T18:23:42.289Z"
   },
   {
    "duration": 20,
    "start_time": "2023-11-25T18:23:42.329Z"
   },
   {
    "duration": 19,
    "start_time": "2023-11-25T18:23:42.350Z"
   },
   {
    "duration": 2,
    "start_time": "2023-11-25T18:23:42.371Z"
   },
   {
    "duration": 539,
    "start_time": "2023-11-25T18:23:42.374Z"
   },
   {
    "duration": 1254,
    "start_time": "2023-11-25T18:23:42.915Z"
   },
   {
    "duration": 2,
    "start_time": "2023-11-25T18:23:44.171Z"
   },
   {
    "duration": 1088,
    "start_time": "2023-11-25T18:23:44.174Z"
   },
   {
    "duration": 2591,
    "start_time": "2023-11-25T18:23:45.263Z"
   },
   {
    "duration": 1117,
    "start_time": "2023-11-25T18:23:47.855Z"
   },
   {
    "duration": 6,
    "start_time": "2023-11-25T18:23:48.973Z"
   },
   {
    "duration": 6,
    "start_time": "2023-11-25T18:23:48.980Z"
   },
   {
    "duration": 6,
    "start_time": "2023-11-25T18:23:48.987Z"
   },
   {
    "duration": 207,
    "start_time": "2023-11-25T18:23:48.994Z"
   },
   {
    "duration": 18,
    "start_time": "2023-11-25T18:23:49.203Z"
   },
   {
    "duration": 9,
    "start_time": "2023-11-25T18:23:49.222Z"
   },
   {
    "duration": 151,
    "start_time": "2023-11-25T18:23:49.233Z"
   },
   {
    "duration": 7,
    "start_time": "2023-11-25T18:23:49.385Z"
   },
   {
    "duration": 6,
    "start_time": "2023-11-25T18:23:49.393Z"
   },
   {
    "duration": 29,
    "start_time": "2023-11-25T18:23:49.400Z"
   },
   {
    "duration": 6,
    "start_time": "2023-11-25T18:23:49.430Z"
   },
   {
    "duration": 172,
    "start_time": "2023-11-25T18:23:49.437Z"
   },
   {
    "duration": 7,
    "start_time": "2023-11-25T18:23:49.623Z"
   },
   {
    "duration": 6,
    "start_time": "2023-11-25T18:23:49.631Z"
   },
   {
    "duration": 5,
    "start_time": "2023-11-25T18:23:49.639Z"
   },
   {
    "duration": 186,
    "start_time": "2023-11-25T18:23:49.646Z"
   },
   {
    "duration": 7,
    "start_time": "2023-11-25T18:23:49.833Z"
   },
   {
    "duration": 10,
    "start_time": "2023-11-25T18:23:49.841Z"
   },
   {
    "duration": 8,
    "start_time": "2023-11-25T18:23:49.852Z"
   },
   {
    "duration": 2,
    "start_time": "2023-11-25T18:23:49.861Z"
   },
   {
    "duration": 121,
    "start_time": "2023-11-25T18:23:49.865Z"
   },
   {
    "duration": 4,
    "start_time": "2023-11-25T18:23:49.987Z"
   },
   {
    "duration": 37,
    "start_time": "2023-11-25T18:23:49.992Z"
   },
   {
    "duration": 1188,
    "start_time": "2023-11-26T12:22:44.066Z"
   },
   {
    "duration": 36,
    "start_time": "2023-11-26T12:22:45.256Z"
   },
   {
    "duration": 12,
    "start_time": "2023-11-26T12:22:45.294Z"
   },
   {
    "duration": 3,
    "start_time": "2023-11-26T12:22:45.307Z"
   },
   {
    "duration": 3,
    "start_time": "2023-11-26T12:22:45.311Z"
   },
   {
    "duration": 10,
    "start_time": "2023-11-26T12:22:45.315Z"
   },
   {
    "duration": 5,
    "start_time": "2023-11-26T12:22:45.326Z"
   },
   {
    "duration": 328,
    "start_time": "2023-11-26T12:22:45.332Z"
   },
   {
    "duration": 7,
    "start_time": "2023-11-26T12:22:45.661Z"
   },
   {
    "duration": 8,
    "start_time": "2023-11-26T12:22:45.670Z"
   },
   {
    "duration": 15,
    "start_time": "2023-11-26T12:22:45.679Z"
   },
   {
    "duration": 10,
    "start_time": "2023-11-26T12:22:45.695Z"
   },
   {
    "duration": 51,
    "start_time": "2023-11-26T12:22:45.706Z"
   },
   {
    "duration": 5,
    "start_time": "2023-11-26T12:22:45.758Z"
   },
   {
    "duration": 5,
    "start_time": "2023-11-26T12:22:45.764Z"
   },
   {
    "duration": 8,
    "start_time": "2023-11-26T12:22:45.770Z"
   },
   {
    "duration": 3,
    "start_time": "2023-11-26T12:22:45.779Z"
   },
   {
    "duration": 5,
    "start_time": "2023-11-26T12:22:45.783Z"
   },
   {
    "duration": 34,
    "start_time": "2023-11-26T12:22:45.789Z"
   },
   {
    "duration": 14,
    "start_time": "2023-11-26T12:22:45.824Z"
   },
   {
    "duration": 4,
    "start_time": "2023-11-26T12:22:45.839Z"
   },
   {
    "duration": 5,
    "start_time": "2023-11-26T12:22:45.845Z"
   },
   {
    "duration": 5,
    "start_time": "2023-11-26T12:22:45.851Z"
   },
   {
    "duration": 4,
    "start_time": "2023-11-26T12:22:45.858Z"
   },
   {
    "duration": 5,
    "start_time": "2023-11-26T12:22:45.863Z"
   },
   {
    "duration": 6,
    "start_time": "2023-11-26T12:22:45.869Z"
   },
   {
    "duration": 954,
    "start_time": "2023-11-26T12:22:45.876Z"
   },
   {
    "duration": 24,
    "start_time": "2023-11-26T12:22:46.834Z"
   },
   {
    "duration": 7,
    "start_time": "2023-11-26T12:22:46.859Z"
   },
   {
    "duration": 21,
    "start_time": "2023-11-26T12:22:46.867Z"
   },
   {
    "duration": 9,
    "start_time": "2023-11-26T12:22:46.889Z"
   },
   {
    "duration": 17,
    "start_time": "2023-11-26T12:22:46.899Z"
   },
   {
    "duration": 9,
    "start_time": "2023-11-26T12:22:46.917Z"
   },
   {
    "duration": 23,
    "start_time": "2023-11-26T12:22:46.927Z"
   },
   {
    "duration": 13,
    "start_time": "2023-11-26T12:22:46.951Z"
   },
   {
    "duration": 50,
    "start_time": "2023-11-26T12:22:46.965Z"
   },
   {
    "duration": 15,
    "start_time": "2023-11-26T12:22:47.017Z"
   },
   {
    "duration": 17,
    "start_time": "2023-11-26T12:22:47.033Z"
   },
   {
    "duration": 9,
    "start_time": "2023-11-26T12:22:47.051Z"
   },
   {
    "duration": 8,
    "start_time": "2023-11-26T12:22:47.061Z"
   },
   {
    "duration": 8,
    "start_time": "2023-11-26T12:22:47.070Z"
   },
   {
    "duration": 17,
    "start_time": "2023-11-26T12:22:47.079Z"
   },
   {
    "duration": 32,
    "start_time": "2023-11-26T12:22:47.097Z"
   },
   {
    "duration": 2,
    "start_time": "2023-11-26T12:22:47.131Z"
   },
   {
    "duration": 516,
    "start_time": "2023-11-26T12:22:47.134Z"
   },
   {
    "duration": 1175,
    "start_time": "2023-11-26T12:22:47.651Z"
   },
   {
    "duration": 2,
    "start_time": "2023-11-26T12:22:48.827Z"
   },
   {
    "duration": 1026,
    "start_time": "2023-11-26T12:22:48.830Z"
   },
   {
    "duration": 2550,
    "start_time": "2023-11-26T12:22:49.857Z"
   },
   {
    "duration": 1077,
    "start_time": "2023-11-26T12:22:52.408Z"
   },
   {
    "duration": 7,
    "start_time": "2023-11-26T12:22:53.486Z"
   },
   {
    "duration": 6,
    "start_time": "2023-11-26T12:22:53.494Z"
   },
   {
    "duration": 17,
    "start_time": "2023-11-26T12:22:53.501Z"
   },
   {
    "duration": 172,
    "start_time": "2023-11-26T12:22:53.519Z"
   },
   {
    "duration": 11,
    "start_time": "2023-11-26T12:22:53.692Z"
   },
   {
    "duration": 15,
    "start_time": "2023-11-26T12:22:53.704Z"
   },
   {
    "duration": 154,
    "start_time": "2023-11-26T12:22:53.720Z"
   },
   {
    "duration": 6,
    "start_time": "2023-11-26T12:22:53.875Z"
   },
   {
    "duration": 6,
    "start_time": "2023-11-26T12:22:53.882Z"
   },
   {
    "duration": 6,
    "start_time": "2023-11-26T12:22:53.889Z"
   },
   {
    "duration": 22,
    "start_time": "2023-11-26T12:22:53.896Z"
   },
   {
    "duration": 174,
    "start_time": "2023-11-26T12:22:53.919Z"
   },
   {
    "duration": 6,
    "start_time": "2023-11-26T12:22:54.095Z"
   },
   {
    "duration": 13,
    "start_time": "2023-11-26T12:22:54.102Z"
   },
   {
    "duration": 5,
    "start_time": "2023-11-26T12:22:54.117Z"
   },
   {
    "duration": 162,
    "start_time": "2023-11-26T12:22:54.123Z"
   },
   {
    "duration": 6,
    "start_time": "2023-11-26T12:22:54.286Z"
   },
   {
    "duration": 6,
    "start_time": "2023-11-26T12:22:54.293Z"
   },
   {
    "duration": 20,
    "start_time": "2023-11-26T12:22:54.300Z"
   },
   {
    "duration": 3,
    "start_time": "2023-11-26T12:22:54.321Z"
   },
   {
    "duration": 115,
    "start_time": "2023-11-26T12:22:54.325Z"
   },
   {
    "duration": 4,
    "start_time": "2023-11-26T12:22:54.441Z"
   },
   {
    "duration": 18,
    "start_time": "2023-11-26T12:22:54.446Z"
   },
   {
    "duration": 3,
    "start_time": "2023-11-26T12:34:05.038Z"
   },
   {
    "duration": 1355,
    "start_time": "2023-11-26T12:40:20.960Z"
   },
   {
    "duration": 151,
    "start_time": "2023-11-26T12:40:22.317Z"
   },
   {
    "duration": 13,
    "start_time": "2023-11-26T12:40:22.470Z"
   },
   {
    "duration": 2,
    "start_time": "2023-11-26T12:40:22.484Z"
   },
   {
    "duration": 5,
    "start_time": "2023-11-26T12:40:22.487Z"
   },
   {
    "duration": 12,
    "start_time": "2023-11-26T12:40:22.494Z"
   },
   {
    "duration": 5,
    "start_time": "2023-11-26T12:40:22.507Z"
   },
   {
    "duration": 375,
    "start_time": "2023-11-26T12:40:22.513Z"
   },
   {
    "duration": 7,
    "start_time": "2023-11-26T12:40:22.889Z"
   },
   {
    "duration": 5,
    "start_time": "2023-11-26T12:40:22.897Z"
   },
   {
    "duration": 6,
    "start_time": "2023-11-26T12:40:22.915Z"
   },
   {
    "duration": 3,
    "start_time": "2023-11-26T12:40:22.922Z"
   },
   {
    "duration": 50,
    "start_time": "2023-11-26T12:40:22.926Z"
   },
   {
    "duration": 6,
    "start_time": "2023-11-26T12:40:22.979Z"
   },
   {
    "duration": 5,
    "start_time": "2023-11-26T12:40:22.986Z"
   },
   {
    "duration": 9,
    "start_time": "2023-11-26T12:40:23.015Z"
   },
   {
    "duration": 3,
    "start_time": "2023-11-26T12:40:23.026Z"
   },
   {
    "duration": 6,
    "start_time": "2023-11-26T12:40:23.031Z"
   },
   {
    "duration": 16,
    "start_time": "2023-11-26T12:40:23.038Z"
   },
   {
    "duration": 15,
    "start_time": "2023-11-26T12:40:23.056Z"
   },
   {
    "duration": 8,
    "start_time": "2023-11-26T12:40:23.072Z"
   },
   {
    "duration": 37,
    "start_time": "2023-11-26T12:40:23.082Z"
   },
   {
    "duration": 5,
    "start_time": "2023-11-26T12:40:23.120Z"
   },
   {
    "duration": 4,
    "start_time": "2023-11-26T12:40:23.127Z"
   },
   {
    "duration": 5,
    "start_time": "2023-11-26T12:40:23.132Z"
   },
   {
    "duration": 5,
    "start_time": "2023-11-26T12:40:23.139Z"
   },
   {
    "duration": 935,
    "start_time": "2023-11-26T12:40:23.145Z"
   },
   {
    "duration": 36,
    "start_time": "2023-11-26T12:40:24.081Z"
   },
   {
    "duration": 8,
    "start_time": "2023-11-26T12:40:24.118Z"
   },
   {
    "duration": 8,
    "start_time": "2023-11-26T12:40:24.127Z"
   },
   {
    "duration": 13,
    "start_time": "2023-11-26T12:40:24.136Z"
   },
   {
    "duration": 12,
    "start_time": "2023-11-26T12:40:24.150Z"
   },
   {
    "duration": 9,
    "start_time": "2023-11-26T12:40:24.163Z"
   },
   {
    "duration": 42,
    "start_time": "2023-11-26T12:40:24.173Z"
   },
   {
    "duration": 13,
    "start_time": "2023-11-26T12:40:24.216Z"
   },
   {
    "duration": 32,
    "start_time": "2023-11-26T12:40:24.230Z"
   },
   {
    "duration": 10,
    "start_time": "2023-11-26T12:40:24.263Z"
   },
   {
    "duration": 8,
    "start_time": "2023-11-26T12:40:24.274Z"
   },
   {
    "duration": 8,
    "start_time": "2023-11-26T12:40:24.283Z"
   },
   {
    "duration": 28,
    "start_time": "2023-11-26T12:40:24.292Z"
   },
   {
    "duration": 7,
    "start_time": "2023-11-26T12:40:24.323Z"
   },
   {
    "duration": 19,
    "start_time": "2023-11-26T12:40:24.331Z"
   },
   {
    "duration": 17,
    "start_time": "2023-11-26T12:40:24.351Z"
   },
   {
    "duration": 2,
    "start_time": "2023-11-26T12:40:24.369Z"
   },
   {
    "duration": 534,
    "start_time": "2023-11-26T12:40:24.372Z"
   },
   {
    "duration": 1209,
    "start_time": "2023-11-26T12:40:24.908Z"
   },
   {
    "duration": 3,
    "start_time": "2023-11-26T12:40:26.119Z"
   },
   {
    "duration": 1028,
    "start_time": "2023-11-26T12:40:26.123Z"
   },
   {
    "duration": 2548,
    "start_time": "2023-11-26T12:40:27.153Z"
   },
   {
    "duration": 1123,
    "start_time": "2023-11-26T12:40:29.703Z"
   },
   {
    "duration": 8,
    "start_time": "2023-11-26T12:40:30.827Z"
   },
   {
    "duration": 18,
    "start_time": "2023-11-26T12:40:30.836Z"
   },
   {
    "duration": 23,
    "start_time": "2023-11-26T12:40:30.856Z"
   },
   {
    "duration": 178,
    "start_time": "2023-11-26T12:40:30.881Z"
   },
   {
    "duration": 12,
    "start_time": "2023-11-26T12:40:31.060Z"
   },
   {
    "duration": 18,
    "start_time": "2023-11-26T12:40:31.073Z"
   },
   {
    "duration": 156,
    "start_time": "2023-11-26T12:40:31.092Z"
   },
   {
    "duration": 7,
    "start_time": "2023-11-26T12:40:31.249Z"
   },
   {
    "duration": 16,
    "start_time": "2023-11-26T12:40:31.257Z"
   },
   {
    "duration": 9,
    "start_time": "2023-11-26T12:40:31.274Z"
   },
   {
    "duration": 8,
    "start_time": "2023-11-26T12:40:31.284Z"
   },
   {
    "duration": 180,
    "start_time": "2023-11-26T12:40:31.293Z"
   },
   {
    "duration": 8,
    "start_time": "2023-11-26T12:40:31.474Z"
   },
   {
    "duration": 7,
    "start_time": "2023-11-26T12:40:31.483Z"
   },
   {
    "duration": 23,
    "start_time": "2023-11-26T12:40:31.492Z"
   },
   {
    "duration": 157,
    "start_time": "2023-11-26T12:40:31.517Z"
   },
   {
    "duration": 7,
    "start_time": "2023-11-26T12:40:31.676Z"
   },
   {
    "duration": 16,
    "start_time": "2023-11-26T12:40:31.684Z"
   },
   {
    "duration": 21,
    "start_time": "2023-11-26T12:40:31.701Z"
   },
   {
    "duration": 4,
    "start_time": "2023-11-26T12:40:31.723Z"
   },
   {
    "duration": 113,
    "start_time": "2023-11-26T12:40:31.728Z"
   },
   {
    "duration": 4,
    "start_time": "2023-11-26T12:40:31.843Z"
   },
   {
    "duration": 35,
    "start_time": "2023-11-26T12:40:31.848Z"
   },
   {
    "duration": 1242,
    "start_time": "2023-11-26T13:31:34.226Z"
   },
   {
    "duration": 37,
    "start_time": "2023-11-26T13:31:35.469Z"
   },
   {
    "duration": 13,
    "start_time": "2023-11-26T13:31:35.507Z"
   },
   {
    "duration": 3,
    "start_time": "2023-11-26T13:31:35.521Z"
   },
   {
    "duration": 3,
    "start_time": "2023-11-26T13:31:35.526Z"
   },
   {
    "duration": 11,
    "start_time": "2023-11-26T13:31:35.530Z"
   },
   {
    "duration": 5,
    "start_time": "2023-11-26T13:31:35.543Z"
   },
   {
    "duration": 324,
    "start_time": "2023-11-26T13:31:35.550Z"
   },
   {
    "duration": 10,
    "start_time": "2023-11-26T13:31:35.876Z"
   },
   {
    "duration": 4,
    "start_time": "2023-11-26T13:31:35.888Z"
   },
   {
    "duration": 23,
    "start_time": "2023-11-26T13:31:35.893Z"
   },
   {
    "duration": 3,
    "start_time": "2023-11-26T13:31:35.917Z"
   },
   {
    "duration": 48,
    "start_time": "2023-11-26T13:31:35.921Z"
   },
   {
    "duration": 5,
    "start_time": "2023-11-26T13:31:35.973Z"
   },
   {
    "duration": 6,
    "start_time": "2023-11-26T13:31:35.979Z"
   },
   {
    "duration": 34,
    "start_time": "2023-11-26T13:31:35.987Z"
   },
   {
    "duration": 3,
    "start_time": "2023-11-26T13:31:36.022Z"
   },
   {
    "duration": 6,
    "start_time": "2023-11-26T13:31:36.026Z"
   },
   {
    "duration": 18,
    "start_time": "2023-11-26T13:31:36.033Z"
   },
   {
    "duration": 20,
    "start_time": "2023-11-26T13:31:36.052Z"
   },
   {
    "duration": 4,
    "start_time": "2023-11-26T13:31:36.074Z"
   },
   {
    "duration": 38,
    "start_time": "2023-11-26T13:31:36.079Z"
   },
   {
    "duration": 6,
    "start_time": "2023-11-26T13:31:36.118Z"
   },
   {
    "duration": 5,
    "start_time": "2023-11-26T13:31:36.125Z"
   },
   {
    "duration": 5,
    "start_time": "2023-11-26T13:31:36.132Z"
   },
   {
    "duration": 11,
    "start_time": "2023-11-26T13:31:36.139Z"
   },
   {
    "duration": 963,
    "start_time": "2023-11-26T13:31:36.151Z"
   },
   {
    "duration": 25,
    "start_time": "2023-11-26T13:31:37.115Z"
   },
   {
    "duration": 7,
    "start_time": "2023-11-26T13:31:37.141Z"
   },
   {
    "duration": 4,
    "start_time": "2023-11-26T13:31:37.150Z"
   },
   {
    "duration": 11,
    "start_time": "2023-11-26T13:31:37.156Z"
   },
   {
    "duration": 15,
    "start_time": "2023-11-26T13:31:37.168Z"
   },
   {
    "duration": 40,
    "start_time": "2023-11-26T13:31:37.184Z"
   },
   {
    "duration": 24,
    "start_time": "2023-11-26T13:31:37.225Z"
   },
   {
    "duration": 16,
    "start_time": "2023-11-26T13:31:37.250Z"
   },
   {
    "duration": 60,
    "start_time": "2023-11-26T13:31:37.268Z"
   },
   {
    "duration": 10,
    "start_time": "2023-11-26T13:31:37.329Z"
   },
   {
    "duration": 9,
    "start_time": "2023-11-26T13:31:37.340Z"
   },
   {
    "duration": 9,
    "start_time": "2023-11-26T13:31:37.350Z"
   },
   {
    "duration": 8,
    "start_time": "2023-11-26T13:31:37.361Z"
   },
   {
    "duration": 8,
    "start_time": "2023-11-26T13:31:37.372Z"
   },
   {
    "duration": 48,
    "start_time": "2023-11-26T13:31:37.381Z"
   },
   {
    "duration": 17,
    "start_time": "2023-11-26T13:31:37.430Z"
   },
   {
    "duration": 2,
    "start_time": "2023-11-26T13:31:37.448Z"
   },
   {
    "duration": 528,
    "start_time": "2023-11-26T13:31:37.451Z"
   },
   {
    "duration": 1198,
    "start_time": "2023-11-26T13:31:37.980Z"
   },
   {
    "duration": 3,
    "start_time": "2023-11-26T13:31:39.179Z"
   },
   {
    "duration": 1033,
    "start_time": "2023-11-26T13:31:39.183Z"
   },
   {
    "duration": 2585,
    "start_time": "2023-11-26T13:31:40.218Z"
   },
   {
    "duration": 1133,
    "start_time": "2023-11-26T13:31:42.804Z"
   },
   {
    "duration": 5,
    "start_time": "2023-11-26T13:31:43.938Z"
   },
   {
    "duration": 6,
    "start_time": "2023-11-26T13:31:43.944Z"
   },
   {
    "duration": 6,
    "start_time": "2023-11-26T13:31:43.951Z"
   },
   {
    "duration": 186,
    "start_time": "2023-11-26T13:31:43.958Z"
   },
   {
    "duration": 12,
    "start_time": "2023-11-26T13:31:44.145Z"
   },
   {
    "duration": 5,
    "start_time": "2023-11-26T13:31:44.158Z"
   },
   {
    "duration": 155,
    "start_time": "2023-11-26T13:31:44.164Z"
   },
   {
    "duration": 6,
    "start_time": "2023-11-26T13:31:44.321Z"
   },
   {
    "duration": 6,
    "start_time": "2023-11-26T13:31:44.328Z"
   },
   {
    "duration": 5,
    "start_time": "2023-11-26T13:31:44.335Z"
   },
   {
    "duration": 6,
    "start_time": "2023-11-26T13:31:44.341Z"
   },
   {
    "duration": 208,
    "start_time": "2023-11-26T13:31:44.348Z"
   },
   {
    "duration": 7,
    "start_time": "2023-11-26T13:31:44.557Z"
   },
   {
    "duration": 8,
    "start_time": "2023-11-26T13:31:44.565Z"
   },
   {
    "duration": 6,
    "start_time": "2023-11-26T13:31:44.574Z"
   },
   {
    "duration": 172,
    "start_time": "2023-11-26T13:31:44.581Z"
   },
   {
    "duration": 7,
    "start_time": "2023-11-26T13:31:44.754Z"
   },
   {
    "duration": 6,
    "start_time": "2023-11-26T13:31:44.762Z"
   },
   {
    "duration": 8,
    "start_time": "2023-11-26T13:31:44.769Z"
   },
   {
    "duration": 3,
    "start_time": "2023-11-26T13:31:44.778Z"
   },
   {
    "duration": 132,
    "start_time": "2023-11-26T13:31:44.782Z"
   },
   {
    "duration": 4,
    "start_time": "2023-11-26T13:31:44.915Z"
   },
   {
    "duration": 23,
    "start_time": "2023-11-26T13:31:44.920Z"
   },
   {
    "duration": 1181,
    "start_time": "2023-11-26T13:35:42.988Z"
   },
   {
    "duration": 37,
    "start_time": "2023-11-26T13:35:44.171Z"
   },
   {
    "duration": 13,
    "start_time": "2023-11-26T13:35:44.209Z"
   },
   {
    "duration": 2,
    "start_time": "2023-11-26T13:35:44.224Z"
   },
   {
    "duration": 3,
    "start_time": "2023-11-26T13:35:44.228Z"
   },
   {
    "duration": 12,
    "start_time": "2023-11-26T13:35:44.233Z"
   },
   {
    "duration": 5,
    "start_time": "2023-11-26T13:35:44.246Z"
   },
   {
    "duration": 348,
    "start_time": "2023-11-26T13:35:44.252Z"
   },
   {
    "duration": 7,
    "start_time": "2023-11-26T13:35:44.602Z"
   },
   {
    "duration": 13,
    "start_time": "2023-11-26T13:35:44.616Z"
   },
   {
    "duration": 7,
    "start_time": "2023-11-26T13:35:44.631Z"
   },
   {
    "duration": 3,
    "start_time": "2023-11-26T13:35:44.639Z"
   },
   {
    "duration": 48,
    "start_time": "2023-11-26T13:35:44.643Z"
   },
   {
    "duration": 5,
    "start_time": "2023-11-26T13:35:44.692Z"
   },
   {
    "duration": 29,
    "start_time": "2023-11-26T13:35:44.698Z"
   },
   {
    "duration": 12,
    "start_time": "2023-11-26T13:35:44.728Z"
   },
   {
    "duration": 3,
    "start_time": "2023-11-26T13:35:44.741Z"
   },
   {
    "duration": 5,
    "start_time": "2023-11-26T13:35:44.745Z"
   },
   {
    "duration": 23,
    "start_time": "2023-11-26T13:35:44.752Z"
   },
   {
    "duration": 16,
    "start_time": "2023-11-26T13:35:44.777Z"
   },
   {
    "duration": 3,
    "start_time": "2023-11-26T13:35:44.794Z"
   },
   {
    "duration": 19,
    "start_time": "2023-11-26T13:35:44.798Z"
   },
   {
    "duration": 24,
    "start_time": "2023-11-26T13:35:44.818Z"
   },
   {
    "duration": 9,
    "start_time": "2023-11-26T13:35:44.843Z"
   },
   {
    "duration": 5,
    "start_time": "2023-11-26T13:35:44.853Z"
   },
   {
    "duration": 5,
    "start_time": "2023-11-26T13:35:44.859Z"
   },
   {
    "duration": 951,
    "start_time": "2023-11-26T13:35:44.866Z"
   },
   {
    "duration": 24,
    "start_time": "2023-11-26T13:35:45.821Z"
   },
   {
    "duration": 8,
    "start_time": "2023-11-26T13:35:45.846Z"
   },
   {
    "duration": 3,
    "start_time": "2023-11-26T13:35:45.855Z"
   },
   {
    "duration": 9,
    "start_time": "2023-11-26T13:35:45.859Z"
   },
   {
    "duration": 57,
    "start_time": "2023-11-26T13:35:45.869Z"
   },
   {
    "duration": 11,
    "start_time": "2023-11-26T13:35:45.927Z"
   },
   {
    "duration": 24,
    "start_time": "2023-11-26T13:35:45.939Z"
   },
   {
    "duration": 20,
    "start_time": "2023-11-26T13:35:46.014Z"
   },
   {
    "duration": 95,
    "start_time": "2023-11-26T13:35:46.036Z"
   },
   {
    "duration": 10,
    "start_time": "2023-11-26T13:35:46.132Z"
   },
   {
    "duration": 8,
    "start_time": "2023-11-26T13:35:46.143Z"
   },
   {
    "duration": 9,
    "start_time": "2023-11-26T13:35:46.152Z"
   },
   {
    "duration": 10,
    "start_time": "2023-11-26T13:35:46.215Z"
   },
   {
    "duration": 7,
    "start_time": "2023-11-26T13:35:46.226Z"
   },
   {
    "duration": 19,
    "start_time": "2023-11-26T13:35:46.234Z"
   },
   {
    "duration": 73,
    "start_time": "2023-11-26T13:35:46.254Z"
   },
   {
    "duration": 2,
    "start_time": "2023-11-26T13:35:46.328Z"
   },
   {
    "duration": 942,
    "start_time": "2023-11-26T13:35:46.331Z"
   },
   {
    "duration": 1211,
    "start_time": "2023-11-26T13:35:47.274Z"
   },
   {
    "duration": 3,
    "start_time": "2023-11-26T13:35:48.487Z"
   },
   {
    "duration": 1060,
    "start_time": "2023-11-26T13:35:48.491Z"
   },
   {
    "duration": 2425,
    "start_time": "2023-11-26T13:35:49.552Z"
   },
   {
    "duration": 1128,
    "start_time": "2023-11-26T13:35:51.979Z"
   },
   {
    "duration": 11,
    "start_time": "2023-11-26T13:35:53.108Z"
   },
   {
    "duration": 11,
    "start_time": "2023-11-26T13:35:53.121Z"
   },
   {
    "duration": 6,
    "start_time": "2023-11-26T13:35:53.133Z"
   },
   {
    "duration": 211,
    "start_time": "2023-11-26T13:35:53.140Z"
   },
   {
    "duration": 13,
    "start_time": "2023-11-26T13:35:53.352Z"
   },
   {
    "duration": 6,
    "start_time": "2023-11-26T13:35:53.366Z"
   },
   {
    "duration": 168,
    "start_time": "2023-11-26T13:35:53.374Z"
   },
   {
    "duration": 7,
    "start_time": "2023-11-26T13:35:53.543Z"
   },
   {
    "duration": 6,
    "start_time": "2023-11-26T13:35:53.552Z"
   },
   {
    "duration": 7,
    "start_time": "2023-11-26T13:35:53.560Z"
   },
   {
    "duration": 6,
    "start_time": "2023-11-26T13:35:53.568Z"
   },
   {
    "duration": 206,
    "start_time": "2023-11-26T13:35:53.576Z"
   },
   {
    "duration": 6,
    "start_time": "2023-11-26T13:35:53.783Z"
   },
   {
    "duration": 6,
    "start_time": "2023-11-26T13:35:53.791Z"
   },
   {
    "duration": 20,
    "start_time": "2023-11-26T13:35:53.798Z"
   },
   {
    "duration": 157,
    "start_time": "2023-11-26T13:35:53.819Z"
   },
   {
    "duration": 6,
    "start_time": "2023-11-26T13:35:53.978Z"
   },
   {
    "duration": 25,
    "start_time": "2023-11-26T13:35:53.985Z"
   },
   {
    "duration": 9,
    "start_time": "2023-11-26T13:35:54.012Z"
   },
   {
    "duration": 12,
    "start_time": "2023-11-26T13:35:54.022Z"
   },
   {
    "duration": 129,
    "start_time": "2023-11-26T13:35:54.035Z"
   },
   {
    "duration": 4,
    "start_time": "2023-11-26T13:35:54.166Z"
   },
   {
    "duration": 23,
    "start_time": "2023-11-26T13:35:54.171Z"
   },
   {
    "duration": 87,
    "start_time": "2023-11-26T13:36:38.984Z"
   },
   {
    "duration": 1147,
    "start_time": "2023-11-26T13:39:57.657Z"
   },
   {
    "duration": 1042,
    "start_time": "2023-11-26T13:40:53.586Z"
   },
   {
    "duration": 3,
    "start_time": "2023-11-26T13:43:26.404Z"
   },
   {
    "duration": 99,
    "start_time": "2023-11-26T13:43:27.857Z"
   },
   {
    "duration": 5,
    "start_time": "2023-11-26T13:43:28.357Z"
   },
   {
    "duration": 3,
    "start_time": "2023-11-26T13:44:14.149Z"
   },
   {
    "duration": 104,
    "start_time": "2023-11-26T13:44:14.790Z"
   },
   {
    "duration": 5,
    "start_time": "2023-11-26T13:44:15.333Z"
   },
   {
    "duration": 3,
    "start_time": "2023-11-26T13:44:27.506Z"
   },
   {
    "duration": 104,
    "start_time": "2023-11-26T13:44:28.022Z"
   },
   {
    "duration": 5,
    "start_time": "2023-11-26T13:44:28.464Z"
   },
   {
    "duration": 20,
    "start_time": "2023-11-26T13:44:29.618Z"
   },
   {
    "duration": 1209,
    "start_time": "2023-11-26T13:46:37.627Z"
   },
   {
    "duration": 36,
    "start_time": "2023-11-26T13:46:38.838Z"
   },
   {
    "duration": 12,
    "start_time": "2023-11-26T13:46:38.875Z"
   },
   {
    "duration": 6,
    "start_time": "2023-11-26T13:46:38.888Z"
   },
   {
    "duration": 3,
    "start_time": "2023-11-26T13:46:38.895Z"
   },
   {
    "duration": 14,
    "start_time": "2023-11-26T13:46:38.899Z"
   },
   {
    "duration": 4,
    "start_time": "2023-11-26T13:46:38.914Z"
   },
   {
    "duration": 351,
    "start_time": "2023-11-26T13:46:38.919Z"
   },
   {
    "duration": 8,
    "start_time": "2023-11-26T13:46:39.271Z"
   },
   {
    "duration": 5,
    "start_time": "2023-11-26T13:46:39.280Z"
   },
   {
    "duration": 13,
    "start_time": "2023-11-26T13:46:39.286Z"
   },
   {
    "duration": 2,
    "start_time": "2023-11-26T13:46:39.315Z"
   },
   {
    "duration": 49,
    "start_time": "2023-11-26T13:46:39.318Z"
   },
   {
    "duration": 4,
    "start_time": "2023-11-26T13:46:39.370Z"
   },
   {
    "duration": 14,
    "start_time": "2023-11-26T13:46:39.375Z"
   },
   {
    "duration": 11,
    "start_time": "2023-11-26T13:46:39.390Z"
   },
   {
    "duration": 2,
    "start_time": "2023-11-26T13:46:39.402Z"
   },
   {
    "duration": 11,
    "start_time": "2023-11-26T13:46:39.406Z"
   },
   {
    "duration": 17,
    "start_time": "2023-11-26T13:46:39.418Z"
   },
   {
    "duration": 16,
    "start_time": "2023-11-26T13:46:39.437Z"
   },
   {
    "duration": 3,
    "start_time": "2023-11-26T13:46:39.454Z"
   },
   {
    "duration": 5,
    "start_time": "2023-11-26T13:46:39.459Z"
   },
   {
    "duration": 6,
    "start_time": "2023-11-26T13:46:39.465Z"
   },
   {
    "duration": 4,
    "start_time": "2023-11-26T13:46:39.472Z"
   },
   {
    "duration": 39,
    "start_time": "2023-11-26T13:46:39.477Z"
   },
   {
    "duration": 3,
    "start_time": "2023-11-26T13:46:39.517Z"
   },
   {
    "duration": 940,
    "start_time": "2023-11-26T13:46:39.521Z"
   },
   {
    "duration": 24,
    "start_time": "2023-11-26T13:46:40.462Z"
   },
   {
    "duration": 8,
    "start_time": "2023-11-26T13:46:40.487Z"
   },
   {
    "duration": 21,
    "start_time": "2023-11-26T13:46:40.496Z"
   },
   {
    "duration": 9,
    "start_time": "2023-11-26T13:46:40.518Z"
   },
   {
    "duration": 12,
    "start_time": "2023-11-26T13:46:40.528Z"
   },
   {
    "duration": 10,
    "start_time": "2023-11-26T13:46:40.541Z"
   },
   {
    "duration": 22,
    "start_time": "2023-11-26T13:46:40.552Z"
   },
   {
    "duration": 40,
    "start_time": "2023-11-26T13:46:40.575Z"
   },
   {
    "duration": 32,
    "start_time": "2023-11-26T13:46:40.616Z"
   },
   {
    "duration": 9,
    "start_time": "2023-11-26T13:46:40.650Z"
   },
   {
    "duration": 7,
    "start_time": "2023-11-26T13:46:40.660Z"
   },
   {
    "duration": 9,
    "start_time": "2023-11-26T13:46:40.668Z"
   },
   {
    "duration": 8,
    "start_time": "2023-11-26T13:46:40.678Z"
   },
   {
    "duration": 26,
    "start_time": "2023-11-26T13:46:40.690Z"
   },
   {
    "duration": 18,
    "start_time": "2023-11-26T13:46:40.717Z"
   },
   {
    "duration": 17,
    "start_time": "2023-11-26T13:46:40.736Z"
   },
   {
    "duration": 2,
    "start_time": "2023-11-26T13:46:40.754Z"
   },
   {
    "duration": 872,
    "start_time": "2023-11-26T13:46:40.757Z"
   },
   {
    "duration": 1407,
    "start_time": "2023-11-26T13:46:41.630Z"
   },
   {
    "duration": 2,
    "start_time": "2023-11-26T13:46:43.039Z"
   },
   {
    "duration": 1043,
    "start_time": "2023-11-26T13:46:43.042Z"
   },
   {
    "duration": 1157,
    "start_time": "2023-11-26T13:46:44.086Z"
   },
   {
    "duration": 2349,
    "start_time": "2023-11-26T13:46:45.244Z"
   },
   {
    "duration": 1108,
    "start_time": "2023-11-26T13:46:47.594Z"
   },
   {
    "duration": 12,
    "start_time": "2023-11-26T13:46:48.704Z"
   },
   {
    "duration": 6,
    "start_time": "2023-11-26T13:46:48.717Z"
   },
   {
    "duration": 7,
    "start_time": "2023-11-26T13:46:48.724Z"
   },
   {
    "duration": 186,
    "start_time": "2023-11-26T13:46:48.732Z"
   },
   {
    "duration": 13,
    "start_time": "2023-11-26T13:46:48.920Z"
   },
   {
    "duration": 6,
    "start_time": "2023-11-26T13:46:48.934Z"
   },
   {
    "duration": 245,
    "start_time": "2023-11-26T13:46:48.942Z"
   },
   {
    "duration": 7,
    "start_time": "2023-11-26T13:46:49.189Z"
   },
   {
    "duration": 18,
    "start_time": "2023-11-26T13:46:49.198Z"
   },
   {
    "duration": 6,
    "start_time": "2023-11-26T13:46:49.217Z"
   },
   {
    "duration": 6,
    "start_time": "2023-11-26T13:46:49.224Z"
   },
   {
    "duration": 187,
    "start_time": "2023-11-26T13:46:49.231Z"
   },
   {
    "duration": 6,
    "start_time": "2023-11-26T13:46:49.420Z"
   },
   {
    "duration": 6,
    "start_time": "2023-11-26T13:46:49.427Z"
   },
   {
    "duration": 5,
    "start_time": "2023-11-26T13:46:49.434Z"
   },
   {
    "duration": 167,
    "start_time": "2023-11-26T13:46:49.440Z"
   },
   {
    "duration": 10,
    "start_time": "2023-11-26T13:46:49.609Z"
   },
   {
    "duration": 6,
    "start_time": "2023-11-26T13:46:49.620Z"
   },
   {
    "duration": 8,
    "start_time": "2023-11-26T13:46:49.627Z"
   },
   {
    "duration": 2,
    "start_time": "2023-11-26T13:46:49.636Z"
   },
   {
    "duration": 126,
    "start_time": "2023-11-26T13:46:49.639Z"
   },
   {
    "duration": 5,
    "start_time": "2023-11-26T13:46:49.766Z"
   },
   {
    "duration": 19,
    "start_time": "2023-11-26T13:46:49.772Z"
   },
   {
    "duration": 3,
    "start_time": "2023-11-26T13:47:10.033Z"
   },
   {
    "duration": 104,
    "start_time": "2023-11-26T13:47:10.592Z"
   },
   {
    "duration": 5,
    "start_time": "2023-11-26T13:47:11.061Z"
   },
   {
    "duration": 19,
    "start_time": "2023-11-26T13:47:13.300Z"
   },
   {
    "duration": 18,
    "start_time": "2023-11-26T13:47:38.202Z"
   },
   {
    "duration": 11,
    "start_time": "2023-11-26T13:47:42.157Z"
   },
   {
    "duration": 2,
    "start_time": "2023-11-26T13:47:53.668Z"
   },
   {
    "duration": 105,
    "start_time": "2023-11-26T13:47:54.356Z"
   },
   {
    "duration": 5,
    "start_time": "2023-11-26T13:47:54.851Z"
   },
   {
    "duration": 20,
    "start_time": "2023-11-26T13:47:55.763Z"
   },
   {
    "duration": 3,
    "start_time": "2023-11-26T13:48:05.841Z"
   },
   {
    "duration": 104,
    "start_time": "2023-11-26T13:48:06.394Z"
   },
   {
    "duration": 5,
    "start_time": "2023-11-26T13:48:06.866Z"
   },
   {
    "duration": 20,
    "start_time": "2023-11-26T13:48:07.459Z"
   },
   {
    "duration": 4,
    "start_time": "2023-11-26T13:48:44.921Z"
   },
   {
    "duration": 103,
    "start_time": "2023-11-26T13:48:45.524Z"
   },
   {
    "duration": 5,
    "start_time": "2023-11-26T13:48:46.141Z"
   },
   {
    "duration": 21,
    "start_time": "2023-11-26T13:48:48.122Z"
   },
   {
    "duration": 3,
    "start_time": "2023-11-26T13:48:57.605Z"
   },
   {
    "duration": 105,
    "start_time": "2023-11-26T13:48:58.128Z"
   },
   {
    "duration": 5,
    "start_time": "2023-11-26T13:48:58.540Z"
   },
   {
    "duration": 20,
    "start_time": "2023-11-26T13:48:59.010Z"
   },
   {
    "duration": 1154,
    "start_time": "2023-11-26T14:07:14.509Z"
   },
   {
    "duration": 36,
    "start_time": "2023-11-26T14:07:15.665Z"
   },
   {
    "duration": 13,
    "start_time": "2023-11-26T14:07:15.702Z"
   },
   {
    "duration": 2,
    "start_time": "2023-11-26T14:07:15.716Z"
   },
   {
    "duration": 9,
    "start_time": "2023-11-26T14:07:15.719Z"
   },
   {
    "duration": 10,
    "start_time": "2023-11-26T14:07:15.730Z"
   },
   {
    "duration": 5,
    "start_time": "2023-11-26T14:07:15.741Z"
   },
   {
    "duration": 310,
    "start_time": "2023-11-26T14:07:15.747Z"
   },
   {
    "duration": 7,
    "start_time": "2023-11-26T14:07:16.058Z"
   },
   {
    "duration": 19,
    "start_time": "2023-11-26T14:07:16.067Z"
   },
   {
    "duration": 7,
    "start_time": "2023-11-26T14:07:16.087Z"
   },
   {
    "duration": 3,
    "start_time": "2023-11-26T14:07:16.095Z"
   },
   {
    "duration": 50,
    "start_time": "2023-11-26T14:07:16.099Z"
   },
   {
    "duration": 5,
    "start_time": "2023-11-26T14:07:16.150Z"
   },
   {
    "duration": 4,
    "start_time": "2023-11-26T14:07:16.156Z"
   },
   {
    "duration": 24,
    "start_time": "2023-11-26T14:07:16.161Z"
   },
   {
    "duration": 3,
    "start_time": "2023-11-26T14:07:16.186Z"
   },
   {
    "duration": 5,
    "start_time": "2023-11-26T14:07:16.190Z"
   },
   {
    "duration": 25,
    "start_time": "2023-11-26T14:07:16.196Z"
   },
   {
    "duration": 14,
    "start_time": "2023-11-26T14:07:16.222Z"
   },
   {
    "duration": 2,
    "start_time": "2023-11-26T14:07:16.238Z"
   },
   {
    "duration": 6,
    "start_time": "2023-11-26T14:07:16.241Z"
   },
   {
    "duration": 7,
    "start_time": "2023-11-26T14:07:16.248Z"
   },
   {
    "duration": 4,
    "start_time": "2023-11-26T14:07:16.256Z"
   },
   {
    "duration": 5,
    "start_time": "2023-11-26T14:07:16.261Z"
   },
   {
    "duration": 4,
    "start_time": "2023-11-26T14:07:16.267Z"
   },
   {
    "duration": 961,
    "start_time": "2023-11-26T14:07:16.273Z"
   },
   {
    "duration": 25,
    "start_time": "2023-11-26T14:07:17.238Z"
   },
   {
    "duration": 8,
    "start_time": "2023-11-26T14:07:17.264Z"
   },
   {
    "duration": 6,
    "start_time": "2023-11-26T14:07:17.273Z"
   },
   {
    "duration": 17,
    "start_time": "2023-11-26T14:07:17.280Z"
   },
   {
    "duration": 25,
    "start_time": "2023-11-26T14:07:17.298Z"
   },
   {
    "duration": 9,
    "start_time": "2023-11-26T14:07:17.324Z"
   },
   {
    "duration": 22,
    "start_time": "2023-11-26T14:07:17.334Z"
   },
   {
    "duration": 12,
    "start_time": "2023-11-26T14:07:17.357Z"
   },
   {
    "duration": 51,
    "start_time": "2023-11-26T14:07:17.370Z"
   },
   {
    "duration": 11,
    "start_time": "2023-11-26T14:07:17.422Z"
   },
   {
    "duration": 8,
    "start_time": "2023-11-26T14:07:17.434Z"
   },
   {
    "duration": 8,
    "start_time": "2023-11-26T14:07:17.443Z"
   },
   {
    "duration": 9,
    "start_time": "2023-11-26T14:07:17.452Z"
   },
   {
    "duration": 11,
    "start_time": "2023-11-26T14:07:17.462Z"
   },
   {
    "duration": 20,
    "start_time": "2023-11-26T14:07:17.474Z"
   },
   {
    "duration": 17,
    "start_time": "2023-11-26T14:07:17.515Z"
   },
   {
    "duration": 2,
    "start_time": "2023-11-26T14:07:17.533Z"
   },
   {
    "duration": 523,
    "start_time": "2023-11-26T14:07:17.536Z"
   },
   {
    "duration": 1208,
    "start_time": "2023-11-26T14:07:18.061Z"
   },
   {
    "duration": 3,
    "start_time": "2023-11-26T14:07:19.270Z"
   },
   {
    "duration": 1044,
    "start_time": "2023-11-26T14:07:19.274Z"
   },
   {
    "duration": 1130,
    "start_time": "2023-11-26T14:07:20.320Z"
   },
   {
    "duration": 2341,
    "start_time": "2023-11-26T14:07:21.451Z"
   },
   {
    "duration": 1088,
    "start_time": "2023-11-26T14:07:23.793Z"
   },
   {
    "duration": 6,
    "start_time": "2023-11-26T14:07:24.882Z"
   },
   {
    "duration": 17,
    "start_time": "2023-11-26T14:07:24.889Z"
   },
   {
    "duration": 9,
    "start_time": "2023-11-26T14:07:24.907Z"
   },
   {
    "duration": 169,
    "start_time": "2023-11-26T14:07:24.918Z"
   },
   {
    "duration": 12,
    "start_time": "2023-11-26T14:07:25.088Z"
   },
   {
    "duration": 14,
    "start_time": "2023-11-26T14:07:25.101Z"
   },
   {
    "duration": 226,
    "start_time": "2023-11-26T14:07:25.116Z"
   },
   {
    "duration": 6,
    "start_time": "2023-11-26T14:07:25.343Z"
   },
   {
    "duration": 6,
    "start_time": "2023-11-26T14:07:25.350Z"
   },
   {
    "duration": 6,
    "start_time": "2023-11-26T14:07:25.358Z"
   },
   {
    "duration": 5,
    "start_time": "2023-11-26T14:07:25.366Z"
   },
   {
    "duration": 194,
    "start_time": "2023-11-26T14:07:25.372Z"
   },
   {
    "duration": 6,
    "start_time": "2023-11-26T14:07:25.567Z"
   },
   {
    "duration": 6,
    "start_time": "2023-11-26T14:07:25.574Z"
   },
   {
    "duration": 6,
    "start_time": "2023-11-26T14:07:25.581Z"
   },
   {
    "duration": 165,
    "start_time": "2023-11-26T14:07:25.588Z"
   },
   {
    "duration": 5,
    "start_time": "2023-11-26T14:07:25.755Z"
   },
   {
    "duration": 6,
    "start_time": "2023-11-26T14:07:25.761Z"
   },
   {
    "duration": 8,
    "start_time": "2023-11-26T14:07:25.768Z"
   },
   {
    "duration": 18,
    "start_time": "2023-11-26T14:07:25.777Z"
   },
   {
    "duration": 3,
    "start_time": "2023-11-26T14:07:25.796Z"
   },
   {
    "duration": 117,
    "start_time": "2023-11-26T14:07:25.800Z"
   },
   {
    "duration": 4,
    "start_time": "2023-11-26T14:07:25.919Z"
   },
   {
    "duration": 20,
    "start_time": "2023-11-26T14:07:25.924Z"
   },
   {
    "duration": 3,
    "start_time": "2023-11-26T14:07:52.614Z"
   },
   {
    "duration": 107,
    "start_time": "2023-11-26T14:07:53.208Z"
   },
   {
    "duration": 5,
    "start_time": "2023-11-26T14:07:53.729Z"
   },
   {
    "duration": 20,
    "start_time": "2023-11-26T14:07:54.501Z"
   },
   {
    "duration": 3,
    "start_time": "2023-11-26T14:08:21.740Z"
   },
   {
    "duration": 105,
    "start_time": "2023-11-26T14:08:22.363Z"
   },
   {
    "duration": 4,
    "start_time": "2023-11-26T14:08:22.980Z"
   },
   {
    "duration": 18,
    "start_time": "2023-11-26T14:08:23.546Z"
   },
   {
    "duration": 3,
    "start_time": "2023-11-26T14:08:39.822Z"
   },
   {
    "duration": 107,
    "start_time": "2023-11-26T14:08:40.427Z"
   },
   {
    "duration": 5,
    "start_time": "2023-11-26T14:08:40.941Z"
   },
   {
    "duration": 20,
    "start_time": "2023-11-26T14:08:41.462Z"
   },
   {
    "duration": 3,
    "start_time": "2023-11-26T14:10:49.838Z"
   },
   {
    "duration": 110,
    "start_time": "2023-11-26T14:10:50.637Z"
   },
   {
    "duration": 5,
    "start_time": "2023-11-26T14:10:51.184Z"
   },
   {
    "duration": 19,
    "start_time": "2023-11-26T14:10:51.885Z"
   },
   {
    "duration": 1199,
    "start_time": "2023-11-26T14:11:32.773Z"
   },
   {
    "duration": 36,
    "start_time": "2023-11-26T14:11:33.974Z"
   },
   {
    "duration": 12,
    "start_time": "2023-11-26T14:11:34.011Z"
   },
   {
    "duration": 6,
    "start_time": "2023-11-26T14:11:34.024Z"
   },
   {
    "duration": 5,
    "start_time": "2023-11-26T14:11:34.031Z"
   },
   {
    "duration": 13,
    "start_time": "2023-11-26T14:11:34.037Z"
   },
   {
    "duration": 6,
    "start_time": "2023-11-26T14:11:34.052Z"
   },
   {
    "duration": 340,
    "start_time": "2023-11-26T14:11:34.059Z"
   },
   {
    "duration": 8,
    "start_time": "2023-11-26T14:11:34.400Z"
   },
   {
    "duration": 13,
    "start_time": "2023-11-26T14:11:34.414Z"
   },
   {
    "duration": 20,
    "start_time": "2023-11-26T14:11:34.429Z"
   },
   {
    "duration": 20,
    "start_time": "2023-11-26T14:11:34.450Z"
   },
   {
    "duration": 68,
    "start_time": "2023-11-26T14:11:34.471Z"
   },
   {
    "duration": 5,
    "start_time": "2023-11-26T14:11:34.540Z"
   },
   {
    "duration": 15,
    "start_time": "2023-11-26T14:11:34.546Z"
   },
   {
    "duration": 9,
    "start_time": "2023-11-26T14:11:34.562Z"
   },
   {
    "duration": 2,
    "start_time": "2023-11-26T14:11:34.572Z"
   },
   {
    "duration": 7,
    "start_time": "2023-11-26T14:11:34.575Z"
   },
   {
    "duration": 15,
    "start_time": "2023-11-26T14:11:34.583Z"
   },
   {
    "duration": 28,
    "start_time": "2023-11-26T14:11:34.599Z"
   },
   {
    "duration": 5,
    "start_time": "2023-11-26T14:11:34.628Z"
   },
   {
    "duration": 6,
    "start_time": "2023-11-26T14:11:34.634Z"
   },
   {
    "duration": 7,
    "start_time": "2023-11-26T14:11:34.641Z"
   },
   {
    "duration": 4,
    "start_time": "2023-11-26T14:11:34.649Z"
   },
   {
    "duration": 8,
    "start_time": "2023-11-26T14:11:34.654Z"
   },
   {
    "duration": 11,
    "start_time": "2023-11-26T14:11:34.663Z"
   },
   {
    "duration": 938,
    "start_time": "2023-11-26T14:11:34.675Z"
   },
   {
    "duration": 25,
    "start_time": "2023-11-26T14:11:35.616Z"
   },
   {
    "duration": 7,
    "start_time": "2023-11-26T14:11:35.642Z"
   },
   {
    "duration": 7,
    "start_time": "2023-11-26T14:11:35.651Z"
   },
   {
    "duration": 22,
    "start_time": "2023-11-26T14:11:35.659Z"
   },
   {
    "duration": 19,
    "start_time": "2023-11-26T14:11:35.682Z"
   },
   {
    "duration": 26,
    "start_time": "2023-11-26T14:11:35.702Z"
   },
   {
    "duration": 25,
    "start_time": "2023-11-26T14:11:35.729Z"
   },
   {
    "duration": 13,
    "start_time": "2023-11-26T14:11:35.755Z"
   },
   {
    "duration": 46,
    "start_time": "2023-11-26T14:11:35.769Z"
   },
   {
    "duration": 11,
    "start_time": "2023-11-26T14:11:35.816Z"
   },
   {
    "duration": 9,
    "start_time": "2023-11-26T14:11:35.828Z"
   },
   {
    "duration": 11,
    "start_time": "2023-11-26T14:11:35.838Z"
   },
   {
    "duration": 8,
    "start_time": "2023-11-26T14:11:35.850Z"
   },
   {
    "duration": 8,
    "start_time": "2023-11-26T14:11:35.859Z"
   },
   {
    "duration": 20,
    "start_time": "2023-11-26T14:11:35.868Z"
   },
   {
    "duration": 41,
    "start_time": "2023-11-26T14:11:35.890Z"
   },
   {
    "duration": 2,
    "start_time": "2023-11-26T14:11:35.932Z"
   },
   {
    "duration": 519,
    "start_time": "2023-11-26T14:11:35.935Z"
   },
   {
    "duration": 1214,
    "start_time": "2023-11-26T14:11:36.455Z"
   },
   {
    "duration": 2,
    "start_time": "2023-11-26T14:11:37.671Z"
   },
   {
    "duration": 1044,
    "start_time": "2023-11-26T14:11:37.674Z"
   },
   {
    "duration": 1099,
    "start_time": "2023-11-26T14:11:38.719Z"
   },
   {
    "duration": 2372,
    "start_time": "2023-11-26T14:11:39.819Z"
   },
   {
    "duration": 1074,
    "start_time": "2023-11-26T14:11:42.192Z"
   },
   {
    "duration": 7,
    "start_time": "2023-11-26T14:11:43.267Z"
   },
   {
    "duration": 6,
    "start_time": "2023-11-26T14:11:43.275Z"
   },
   {
    "duration": 6,
    "start_time": "2023-11-26T14:11:43.282Z"
   },
   {
    "duration": 184,
    "start_time": "2023-11-26T14:11:43.289Z"
   },
   {
    "duration": 11,
    "start_time": "2023-11-26T14:11:43.475Z"
   },
   {
    "duration": 5,
    "start_time": "2023-11-26T14:11:43.487Z"
   },
   {
    "duration": 227,
    "start_time": "2023-11-26T14:11:43.493Z"
   },
   {
    "duration": 7,
    "start_time": "2023-11-26T14:11:43.721Z"
   },
   {
    "duration": 6,
    "start_time": "2023-11-26T14:11:43.729Z"
   },
   {
    "duration": 5,
    "start_time": "2023-11-26T14:11:43.736Z"
   },
   {
    "duration": 5,
    "start_time": "2023-11-26T14:11:43.742Z"
   },
   {
    "duration": 191,
    "start_time": "2023-11-26T14:11:43.748Z"
   },
   {
    "duration": 6,
    "start_time": "2023-11-26T14:11:43.940Z"
   },
   {
    "duration": 5,
    "start_time": "2023-11-26T14:11:43.948Z"
   },
   {
    "duration": 5,
    "start_time": "2023-11-26T14:11:43.954Z"
   },
   {
    "duration": 171,
    "start_time": "2023-11-26T14:11:43.961Z"
   },
   {
    "duration": 6,
    "start_time": "2023-11-26T14:11:44.133Z"
   },
   {
    "duration": 6,
    "start_time": "2023-11-26T14:11:44.140Z"
   },
   {
    "duration": 8,
    "start_time": "2023-11-26T14:11:44.147Z"
   },
   {
    "duration": 11,
    "start_time": "2023-11-26T14:11:44.156Z"
   },
   {
    "duration": 3,
    "start_time": "2023-11-26T14:11:44.168Z"
   },
   {
    "duration": 126,
    "start_time": "2023-11-26T14:11:44.172Z"
   },
   {
    "duration": 5,
    "start_time": "2023-11-26T14:11:44.299Z"
   },
   {
    "duration": 26,
    "start_time": "2023-11-26T14:11:44.305Z"
   },
   {
    "duration": 3,
    "start_time": "2023-11-26T14:12:07.165Z"
   },
   {
    "duration": 103,
    "start_time": "2023-11-26T14:12:07.871Z"
   },
   {
    "duration": 5,
    "start_time": "2023-11-26T14:12:08.394Z"
   },
   {
    "duration": 19,
    "start_time": "2023-11-26T14:12:08.944Z"
   },
   {
    "duration": 3,
    "start_time": "2023-11-26T14:12:37.760Z"
   },
   {
    "duration": 98,
    "start_time": "2023-11-26T14:12:38.364Z"
   },
   {
    "duration": 5,
    "start_time": "2023-11-26T14:12:38.814Z"
   },
   {
    "duration": 28,
    "start_time": "2023-11-26T14:12:39.414Z"
   },
   {
    "duration": 3,
    "start_time": "2023-11-26T14:12:48.595Z"
   },
   {
    "duration": 103,
    "start_time": "2023-11-26T14:12:49.148Z"
   },
   {
    "duration": 5,
    "start_time": "2023-11-26T14:12:49.690Z"
   },
   {
    "duration": 22,
    "start_time": "2023-11-26T14:12:50.326Z"
   },
   {
    "duration": 4,
    "start_time": "2023-11-26T14:13:15.261Z"
   },
   {
    "duration": 101,
    "start_time": "2023-11-26T14:13:16.060Z"
   },
   {
    "duration": 5,
    "start_time": "2023-11-26T14:13:16.546Z"
   },
   {
    "duration": 21,
    "start_time": "2023-11-26T14:13:17.078Z"
   },
   {
    "duration": 3,
    "start_time": "2023-11-26T14:13:33.707Z"
   },
   {
    "duration": 104,
    "start_time": "2023-11-26T14:13:34.524Z"
   },
   {
    "duration": 5,
    "start_time": "2023-11-26T14:13:35.024Z"
   },
   {
    "duration": 21,
    "start_time": "2023-11-26T14:13:35.575Z"
   },
   {
    "duration": 1255,
    "start_time": "2023-11-26T14:14:08.304Z"
   },
   {
    "duration": 35,
    "start_time": "2023-11-26T14:14:09.561Z"
   },
   {
    "duration": 12,
    "start_time": "2023-11-26T14:14:09.598Z"
   },
   {
    "duration": 2,
    "start_time": "2023-11-26T14:14:09.611Z"
   },
   {
    "duration": 3,
    "start_time": "2023-11-26T14:14:09.614Z"
   },
   {
    "duration": 13,
    "start_time": "2023-11-26T14:14:09.618Z"
   },
   {
    "duration": 5,
    "start_time": "2023-11-26T14:14:09.632Z"
   },
   {
    "duration": 326,
    "start_time": "2023-11-26T14:14:09.638Z"
   },
   {
    "duration": 8,
    "start_time": "2023-11-26T14:14:09.965Z"
   },
   {
    "duration": 4,
    "start_time": "2023-11-26T14:14:09.975Z"
   },
   {
    "duration": 37,
    "start_time": "2023-11-26T14:14:09.980Z"
   },
   {
    "duration": 2,
    "start_time": "2023-11-26T14:14:10.018Z"
   },
   {
    "duration": 55,
    "start_time": "2023-11-26T14:14:10.021Z"
   },
   {
    "duration": 5,
    "start_time": "2023-11-26T14:14:10.077Z"
   },
   {
    "duration": 4,
    "start_time": "2023-11-26T14:14:10.083Z"
   },
   {
    "duration": 8,
    "start_time": "2023-11-26T14:14:10.088Z"
   },
   {
    "duration": 3,
    "start_time": "2023-11-26T14:14:10.097Z"
   },
   {
    "duration": 6,
    "start_time": "2023-11-26T14:14:10.101Z"
   },
   {
    "duration": 15,
    "start_time": "2023-11-26T14:14:10.115Z"
   },
   {
    "duration": 15,
    "start_time": "2023-11-26T14:14:10.131Z"
   },
   {
    "duration": 9,
    "start_time": "2023-11-26T14:14:10.147Z"
   },
   {
    "duration": 8,
    "start_time": "2023-11-26T14:14:10.157Z"
   },
   {
    "duration": 5,
    "start_time": "2023-11-26T14:14:10.167Z"
   },
   {
    "duration": 16,
    "start_time": "2023-11-26T14:14:10.173Z"
   },
   {
    "duration": 4,
    "start_time": "2023-11-26T14:14:10.190Z"
   },
   {
    "duration": 17,
    "start_time": "2023-11-26T14:14:10.196Z"
   },
   {
    "duration": 1740,
    "start_time": "2023-11-26T14:14:10.214Z"
   },
   {
    "duration": 75,
    "start_time": "2023-11-26T14:14:11.958Z"
   },
   {
    "duration": 8,
    "start_time": "2023-11-26T14:14:12.034Z"
   },
   {
    "duration": 4,
    "start_time": "2023-11-26T14:14:12.044Z"
   },
   {
    "duration": 10,
    "start_time": "2023-11-26T14:14:12.049Z"
   },
   {
    "duration": 12,
    "start_time": "2023-11-26T14:14:12.115Z"
   },
   {
    "duration": 10,
    "start_time": "2023-11-26T14:14:12.128Z"
   },
   {
    "duration": 23,
    "start_time": "2023-11-26T14:14:12.139Z"
   },
   {
    "duration": 13,
    "start_time": "2023-11-26T14:14:12.215Z"
   },
   {
    "duration": 32,
    "start_time": "2023-11-26T14:14:12.230Z"
   },
   {
    "duration": 11,
    "start_time": "2023-11-26T14:14:12.263Z"
   },
   {
    "duration": 42,
    "start_time": "2023-11-26T14:14:12.275Z"
   },
   {
    "duration": 8,
    "start_time": "2023-11-26T14:14:12.319Z"
   },
   {
    "duration": 9,
    "start_time": "2023-11-26T14:14:12.329Z"
   },
   {
    "duration": 8,
    "start_time": "2023-11-26T14:14:12.339Z"
   },
   {
    "duration": 19,
    "start_time": "2023-11-26T14:14:12.348Z"
   },
   {
    "duration": 48,
    "start_time": "2023-11-26T14:14:12.368Z"
   },
   {
    "duration": 2,
    "start_time": "2023-11-26T14:14:12.418Z"
   },
   {
    "duration": 523,
    "start_time": "2023-11-26T14:14:12.421Z"
   },
   {
    "duration": 1224,
    "start_time": "2023-11-26T14:14:12.945Z"
   },
   {
    "duration": 2,
    "start_time": "2023-11-26T14:14:14.171Z"
   },
   {
    "duration": 1075,
    "start_time": "2023-11-26T14:14:14.174Z"
   },
   {
    "duration": 1176,
    "start_time": "2023-11-26T14:14:15.250Z"
   },
   {
    "duration": 2360,
    "start_time": "2023-11-26T14:14:16.427Z"
   },
   {
    "duration": 1134,
    "start_time": "2023-11-26T14:14:18.788Z"
   },
   {
    "duration": 6,
    "start_time": "2023-11-26T14:14:19.923Z"
   },
   {
    "duration": 6,
    "start_time": "2023-11-26T14:14:19.930Z"
   },
   {
    "duration": 6,
    "start_time": "2023-11-26T14:14:19.938Z"
   },
   {
    "duration": 197,
    "start_time": "2023-11-26T14:14:19.945Z"
   },
   {
    "duration": 12,
    "start_time": "2023-11-26T14:14:20.143Z"
   },
   {
    "duration": 6,
    "start_time": "2023-11-26T14:14:20.156Z"
   },
   {
    "duration": 278,
    "start_time": "2023-11-26T14:14:20.163Z"
   },
   {
    "duration": 8,
    "start_time": "2023-11-26T14:14:20.442Z"
   },
   {
    "duration": 7,
    "start_time": "2023-11-26T14:14:20.451Z"
   },
   {
    "duration": 21,
    "start_time": "2023-11-26T14:14:20.459Z"
   },
   {
    "duration": 6,
    "start_time": "2023-11-26T14:14:20.481Z"
   },
   {
    "duration": 181,
    "start_time": "2023-11-26T14:14:20.488Z"
   },
   {
    "duration": 6,
    "start_time": "2023-11-26T14:14:20.671Z"
   },
   {
    "duration": 20,
    "start_time": "2023-11-26T14:14:20.678Z"
   },
   {
    "duration": 14,
    "start_time": "2023-11-26T14:14:20.699Z"
   },
   {
    "duration": 154,
    "start_time": "2023-11-26T14:14:20.715Z"
   },
   {
    "duration": 6,
    "start_time": "2023-11-26T14:14:20.871Z"
   },
   {
    "duration": 9,
    "start_time": "2023-11-26T14:14:20.878Z"
   },
   {
    "duration": 8,
    "start_time": "2023-11-26T14:14:20.889Z"
   },
   {
    "duration": 22,
    "start_time": "2023-11-26T14:14:20.898Z"
   },
   {
    "duration": 3,
    "start_time": "2023-11-26T14:14:20.920Z"
   },
   {
    "duration": 119,
    "start_time": "2023-11-26T14:14:20.924Z"
   },
   {
    "duration": 5,
    "start_time": "2023-11-26T14:14:21.044Z"
   },
   {
    "duration": 20,
    "start_time": "2023-11-26T14:14:21.050Z"
   },
   {
    "duration": 3,
    "start_time": "2023-11-26T14:14:37.372Z"
   },
   {
    "duration": 110,
    "start_time": "2023-11-26T14:14:38.280Z"
   },
   {
    "duration": 5,
    "start_time": "2023-11-26T14:14:38.834Z"
   },
   {
    "duration": 20,
    "start_time": "2023-11-26T14:14:39.507Z"
   },
   {
    "duration": 2,
    "start_time": "2023-11-26T14:14:57.849Z"
   },
   {
    "duration": 103,
    "start_time": "2023-11-26T14:14:58.688Z"
   },
   {
    "duration": 5,
    "start_time": "2023-11-26T14:14:59.250Z"
   },
   {
    "duration": 20,
    "start_time": "2023-11-26T14:14:59.900Z"
   },
   {
    "duration": 3,
    "start_time": "2023-11-26T14:15:28.394Z"
   },
   {
    "duration": 105,
    "start_time": "2023-11-26T14:15:29.104Z"
   },
   {
    "duration": 5,
    "start_time": "2023-11-26T14:15:29.654Z"
   },
   {
    "duration": 26,
    "start_time": "2023-11-26T14:15:30.324Z"
   },
   {
    "duration": 1194,
    "start_time": "2023-11-26T14:16:07.069Z"
   },
   {
    "duration": 36,
    "start_time": "2023-11-26T14:16:08.264Z"
   },
   {
    "duration": 12,
    "start_time": "2023-11-26T14:16:08.301Z"
   },
   {
    "duration": 2,
    "start_time": "2023-11-26T14:16:08.315Z"
   },
   {
    "duration": 3,
    "start_time": "2023-11-26T14:16:08.319Z"
   },
   {
    "duration": 17,
    "start_time": "2023-11-26T14:16:08.323Z"
   },
   {
    "duration": 5,
    "start_time": "2023-11-26T14:16:08.341Z"
   },
   {
    "duration": 319,
    "start_time": "2023-11-26T14:16:08.347Z"
   },
   {
    "duration": 8,
    "start_time": "2023-11-26T14:16:08.667Z"
   },
   {
    "duration": 27,
    "start_time": "2023-11-26T14:16:08.677Z"
   },
   {
    "duration": 10,
    "start_time": "2023-11-26T14:16:08.706Z"
   },
   {
    "duration": 14,
    "start_time": "2023-11-26T14:16:08.717Z"
   },
   {
    "duration": 46,
    "start_time": "2023-11-26T14:16:08.732Z"
   },
   {
    "duration": 5,
    "start_time": "2023-11-26T14:16:08.779Z"
   },
   {
    "duration": 5,
    "start_time": "2023-11-26T14:16:08.785Z"
   },
   {
    "duration": 7,
    "start_time": "2023-11-26T14:16:08.791Z"
   },
   {
    "duration": 3,
    "start_time": "2023-11-26T14:16:08.800Z"
   },
   {
    "duration": 15,
    "start_time": "2023-11-26T14:16:08.804Z"
   },
   {
    "duration": 15,
    "start_time": "2023-11-26T14:16:08.820Z"
   },
   {
    "duration": 14,
    "start_time": "2023-11-26T14:16:08.836Z"
   },
   {
    "duration": 3,
    "start_time": "2023-11-26T14:16:08.852Z"
   },
   {
    "duration": 6,
    "start_time": "2023-11-26T14:16:08.856Z"
   },
   {
    "duration": 7,
    "start_time": "2023-11-26T14:16:08.863Z"
   },
   {
    "duration": 4,
    "start_time": "2023-11-26T14:16:08.871Z"
   },
   {
    "duration": 41,
    "start_time": "2023-11-26T14:16:08.877Z"
   },
   {
    "duration": 5,
    "start_time": "2023-11-26T14:16:08.919Z"
   },
   {
    "duration": 937,
    "start_time": "2023-11-26T14:16:08.925Z"
   },
   {
    "duration": 26,
    "start_time": "2023-11-26T14:16:09.866Z"
   },
   {
    "duration": 23,
    "start_time": "2023-11-26T14:16:09.893Z"
   },
   {
    "duration": 6,
    "start_time": "2023-11-26T14:16:09.917Z"
   },
   {
    "duration": 11,
    "start_time": "2023-11-26T14:16:09.925Z"
   },
   {
    "duration": 17,
    "start_time": "2023-11-26T14:16:09.938Z"
   },
   {
    "duration": 9,
    "start_time": "2023-11-26T14:16:09.956Z"
   },
   {
    "duration": 23,
    "start_time": "2023-11-26T14:16:10.015Z"
   },
   {
    "duration": 17,
    "start_time": "2023-11-26T14:16:10.039Z"
   },
   {
    "duration": 45,
    "start_time": "2023-11-26T14:16:10.057Z"
   },
   {
    "duration": 10,
    "start_time": "2023-11-26T14:16:10.103Z"
   },
   {
    "duration": 7,
    "start_time": "2023-11-26T14:16:10.115Z"
   },
   {
    "duration": 19,
    "start_time": "2023-11-26T14:16:10.123Z"
   },
   {
    "duration": 9,
    "start_time": "2023-11-26T14:16:10.143Z"
   },
   {
    "duration": 7,
    "start_time": "2023-11-26T14:16:10.153Z"
   },
   {
    "duration": 18,
    "start_time": "2023-11-26T14:16:10.162Z"
   },
   {
    "duration": 17,
    "start_time": "2023-11-26T14:16:10.181Z"
   },
   {
    "duration": 2,
    "start_time": "2023-11-26T14:16:10.199Z"
   },
   {
    "duration": 714,
    "start_time": "2023-11-26T14:16:10.203Z"
   },
   {
    "duration": 1232,
    "start_time": "2023-11-26T14:16:10.918Z"
   },
   {
    "duration": 2,
    "start_time": "2023-11-26T14:16:12.151Z"
   },
   {
    "duration": 1051,
    "start_time": "2023-11-26T14:16:12.154Z"
   },
   {
    "duration": 1102,
    "start_time": "2023-11-26T14:16:13.206Z"
   },
   {
    "duration": 2376,
    "start_time": "2023-11-26T14:16:14.310Z"
   },
   {
    "duration": 1086,
    "start_time": "2023-11-26T14:16:16.688Z"
   },
   {
    "duration": 6,
    "start_time": "2023-11-26T14:16:17.775Z"
   },
   {
    "duration": 6,
    "start_time": "2023-11-26T14:16:17.782Z"
   },
   {
    "duration": 5,
    "start_time": "2023-11-26T14:16:17.789Z"
   },
   {
    "duration": 187,
    "start_time": "2023-11-26T14:16:17.796Z"
   },
   {
    "duration": 12,
    "start_time": "2023-11-26T14:16:17.984Z"
   },
   {
    "duration": 18,
    "start_time": "2023-11-26T14:16:17.997Z"
   },
   {
    "duration": 223,
    "start_time": "2023-11-26T14:16:18.016Z"
   },
   {
    "duration": 6,
    "start_time": "2023-11-26T14:16:18.240Z"
   },
   {
    "duration": 6,
    "start_time": "2023-11-26T14:16:18.247Z"
   },
   {
    "duration": 6,
    "start_time": "2023-11-26T14:16:18.254Z"
   },
   {
    "duration": 7,
    "start_time": "2023-11-26T14:16:18.261Z"
   },
   {
    "duration": 192,
    "start_time": "2023-11-26T14:16:18.269Z"
   },
   {
    "duration": 6,
    "start_time": "2023-11-26T14:16:18.462Z"
   },
   {
    "duration": 9,
    "start_time": "2023-11-26T14:16:18.469Z"
   },
   {
    "duration": 5,
    "start_time": "2023-11-26T14:16:18.480Z"
   },
   {
    "duration": 166,
    "start_time": "2023-11-26T14:16:18.486Z"
   },
   {
    "duration": 5,
    "start_time": "2023-11-26T14:16:18.654Z"
   },
   {
    "duration": 6,
    "start_time": "2023-11-26T14:16:18.660Z"
   },
   {
    "duration": 8,
    "start_time": "2023-11-26T14:16:18.667Z"
   },
   {
    "duration": 9,
    "start_time": "2023-11-26T14:16:18.676Z"
   },
   {
    "duration": 2,
    "start_time": "2023-11-26T14:16:18.686Z"
   },
   {
    "duration": 104,
    "start_time": "2023-11-26T14:16:18.715Z"
   },
   {
    "duration": 5,
    "start_time": "2023-11-26T14:16:18.820Z"
   },
   {
    "duration": 19,
    "start_time": "2023-11-26T14:16:18.826Z"
   },
   {
    "duration": 3,
    "start_time": "2023-11-26T14:16:26.565Z"
   },
   {
    "duration": 110,
    "start_time": "2023-11-26T14:16:27.217Z"
   },
   {
    "duration": 5,
    "start_time": "2023-11-26T14:16:27.646Z"
   },
   {
    "duration": 19,
    "start_time": "2023-11-26T14:16:28.134Z"
   },
   {
    "duration": 3,
    "start_time": "2023-11-26T14:16:36.377Z"
   },
   {
    "duration": 104,
    "start_time": "2023-11-26T14:16:37.034Z"
   },
   {
    "duration": 5,
    "start_time": "2023-11-26T14:16:37.460Z"
   },
   {
    "duration": 20,
    "start_time": "2023-11-26T14:16:37.864Z"
   },
   {
    "duration": 3,
    "start_time": "2023-11-26T14:21:20.262Z"
   },
   {
    "duration": 105,
    "start_time": "2023-11-26T14:21:21.110Z"
   },
   {
    "duration": 5,
    "start_time": "2023-11-26T14:21:21.771Z"
   },
   {
    "duration": 21,
    "start_time": "2023-11-26T14:21:22.327Z"
   },
   {
    "duration": 3,
    "start_time": "2023-11-26T14:21:55.818Z"
   },
   {
    "duration": 102,
    "start_time": "2023-11-26T14:21:56.366Z"
   },
   {
    "duration": 5,
    "start_time": "2023-11-26T14:21:56.882Z"
   },
   {
    "duration": 20,
    "start_time": "2023-11-26T14:21:57.715Z"
   },
   {
    "duration": 3,
    "start_time": "2023-11-26T14:22:08.747Z"
   },
   {
    "duration": 104,
    "start_time": "2023-11-26T14:22:09.346Z"
   },
   {
    "duration": 4,
    "start_time": "2023-11-26T14:22:09.897Z"
   },
   {
    "duration": 25,
    "start_time": "2023-11-26T14:22:11.295Z"
   },
   {
    "duration": 3,
    "start_time": "2023-11-26T14:22:29.139Z"
   },
   {
    "duration": 102,
    "start_time": "2023-11-26T14:22:29.745Z"
   },
   {
    "duration": 4,
    "start_time": "2023-11-26T14:22:30.260Z"
   },
   {
    "duration": 19,
    "start_time": "2023-11-26T14:22:30.989Z"
   },
   {
    "duration": 2,
    "start_time": "2023-11-26T14:22:51.530Z"
   },
   {
    "duration": 101,
    "start_time": "2023-11-26T14:22:52.133Z"
   },
   {
    "duration": 5,
    "start_time": "2023-11-26T14:22:52.644Z"
   },
   {
    "duration": 19,
    "start_time": "2023-11-26T14:22:53.541Z"
   },
   {
    "duration": 1188,
    "start_time": "2023-11-26T14:23:12.766Z"
   },
   {
    "duration": 36,
    "start_time": "2023-11-26T14:23:13.956Z"
   },
   {
    "duration": 12,
    "start_time": "2023-11-26T14:23:13.994Z"
   },
   {
    "duration": 2,
    "start_time": "2023-11-26T14:23:14.007Z"
   },
   {
    "duration": 15,
    "start_time": "2023-11-26T14:23:14.010Z"
   },
   {
    "duration": 11,
    "start_time": "2023-11-26T14:23:14.026Z"
   },
   {
    "duration": 6,
    "start_time": "2023-11-26T14:23:14.038Z"
   },
   {
    "duration": 329,
    "start_time": "2023-11-26T14:23:14.045Z"
   },
   {
    "duration": 8,
    "start_time": "2023-11-26T14:23:14.375Z"
   },
   {
    "duration": 5,
    "start_time": "2023-11-26T14:23:14.385Z"
   },
   {
    "duration": 6,
    "start_time": "2023-11-26T14:23:14.391Z"
   },
   {
    "duration": 3,
    "start_time": "2023-11-26T14:23:14.415Z"
   },
   {
    "duration": 50,
    "start_time": "2023-11-26T14:23:14.419Z"
   },
   {
    "duration": 5,
    "start_time": "2023-11-26T14:23:14.470Z"
   },
   {
    "duration": 23,
    "start_time": "2023-11-26T14:23:14.476Z"
   },
   {
    "duration": 7,
    "start_time": "2023-11-26T14:23:14.500Z"
   },
   {
    "duration": 2,
    "start_time": "2023-11-26T14:23:14.509Z"
   },
   {
    "duration": 4,
    "start_time": "2023-11-26T14:23:14.515Z"
   },
   {
    "duration": 16,
    "start_time": "2023-11-26T14:23:14.520Z"
   },
   {
    "duration": 14,
    "start_time": "2023-11-26T14:23:14.537Z"
   },
   {
    "duration": 3,
    "start_time": "2023-11-26T14:23:14.552Z"
   },
   {
    "duration": 5,
    "start_time": "2023-11-26T14:23:14.556Z"
   },
   {
    "duration": 7,
    "start_time": "2023-11-26T14:23:14.562Z"
   },
   {
    "duration": 3,
    "start_time": "2023-11-26T14:23:14.570Z"
   },
   {
    "duration": 5,
    "start_time": "2023-11-26T14:23:14.574Z"
   },
   {
    "duration": 37,
    "start_time": "2023-11-26T14:23:14.580Z"
   },
   {
    "duration": 933,
    "start_time": "2023-11-26T14:23:14.618Z"
   },
   {
    "duration": 25,
    "start_time": "2023-11-26T14:23:15.555Z"
   },
   {
    "duration": 8,
    "start_time": "2023-11-26T14:23:15.581Z"
   },
   {
    "duration": 10,
    "start_time": "2023-11-26T14:23:15.590Z"
   },
   {
    "duration": 20,
    "start_time": "2023-11-26T14:23:15.601Z"
   },
   {
    "duration": 20,
    "start_time": "2023-11-26T14:23:15.622Z"
   },
   {
    "duration": 12,
    "start_time": "2023-11-26T14:23:15.643Z"
   },
   {
    "duration": 23,
    "start_time": "2023-11-26T14:23:15.657Z"
   },
   {
    "duration": 34,
    "start_time": "2023-11-26T14:23:15.681Z"
   },
   {
    "duration": 33,
    "start_time": "2023-11-26T14:23:15.717Z"
   },
   {
    "duration": 11,
    "start_time": "2023-11-26T14:23:15.751Z"
   },
   {
    "duration": 11,
    "start_time": "2023-11-26T14:23:15.763Z"
   },
   {
    "duration": 9,
    "start_time": "2023-11-26T14:23:15.775Z"
   },
   {
    "duration": 33,
    "start_time": "2023-11-26T14:23:15.786Z"
   },
   {
    "duration": 8,
    "start_time": "2023-11-26T14:23:15.820Z"
   },
   {
    "duration": 18,
    "start_time": "2023-11-26T14:23:15.829Z"
   },
   {
    "duration": 17,
    "start_time": "2023-11-26T14:23:15.848Z"
   },
   {
    "duration": 3,
    "start_time": "2023-11-26T14:23:15.866Z"
   },
   {
    "duration": 536,
    "start_time": "2023-11-26T14:23:15.870Z"
   },
   {
    "duration": 1785,
    "start_time": "2023-11-26T14:23:16.408Z"
   },
   {
    "duration": 3,
    "start_time": "2023-11-26T14:23:18.194Z"
   },
   {
    "duration": 1024,
    "start_time": "2023-11-26T14:23:18.198Z"
   },
   {
    "duration": 1128,
    "start_time": "2023-11-26T14:23:19.223Z"
   },
   {
    "duration": 2341,
    "start_time": "2023-11-26T14:23:20.353Z"
   },
   {
    "duration": 1084,
    "start_time": "2023-11-26T14:23:22.695Z"
   },
   {
    "duration": 7,
    "start_time": "2023-11-26T14:23:23.781Z"
   },
   {
    "duration": 7,
    "start_time": "2023-11-26T14:23:23.789Z"
   },
   {
    "duration": 6,
    "start_time": "2023-11-26T14:23:23.814Z"
   },
   {
    "duration": 173,
    "start_time": "2023-11-26T14:23:23.821Z"
   },
   {
    "duration": 20,
    "start_time": "2023-11-26T14:23:23.995Z"
   },
   {
    "duration": 6,
    "start_time": "2023-11-26T14:23:24.016Z"
   },
   {
    "duration": 223,
    "start_time": "2023-11-26T14:23:24.023Z"
   },
   {
    "duration": 6,
    "start_time": "2023-11-26T14:23:24.247Z"
   },
   {
    "duration": 6,
    "start_time": "2023-11-26T14:23:24.254Z"
   },
   {
    "duration": 6,
    "start_time": "2023-11-26T14:23:24.262Z"
   },
   {
    "duration": 6,
    "start_time": "2023-11-26T14:23:24.269Z"
   },
   {
    "duration": 189,
    "start_time": "2023-11-26T14:23:24.276Z"
   },
   {
    "duration": 5,
    "start_time": "2023-11-26T14:23:24.467Z"
   },
   {
    "duration": 6,
    "start_time": "2023-11-26T14:23:24.474Z"
   },
   {
    "duration": 5,
    "start_time": "2023-11-26T14:23:24.483Z"
   },
   {
    "duration": 176,
    "start_time": "2023-11-26T14:23:24.490Z"
   },
   {
    "duration": 7,
    "start_time": "2023-11-26T14:23:24.668Z"
   },
   {
    "duration": 7,
    "start_time": "2023-11-26T14:23:24.676Z"
   },
   {
    "duration": 31,
    "start_time": "2023-11-26T14:23:24.684Z"
   },
   {
    "duration": 9,
    "start_time": "2023-11-26T14:23:24.716Z"
   },
   {
    "duration": 3,
    "start_time": "2023-11-26T14:23:24.727Z"
   },
   {
    "duration": 120,
    "start_time": "2023-11-26T14:23:24.731Z"
   },
   {
    "duration": 5,
    "start_time": "2023-11-26T14:23:24.852Z"
   },
   {
    "duration": 18,
    "start_time": "2023-11-26T14:23:24.858Z"
   },
   {
    "duration": 272,
    "start_time": "2023-11-26T14:34:01.154Z"
   },
   {
    "duration": 672,
    "start_time": "2023-11-26T14:34:15.680Z"
   },
   {
    "duration": 169,
    "start_time": "2023-11-26T14:34:23.890Z"
   },
   {
    "duration": 52,
    "start_time": "2023-11-26T14:41:51.419Z"
   },
   {
    "duration": 145,
    "start_time": "2023-11-26T14:41:56.971Z"
   },
   {
    "duration": 900,
    "start_time": "2023-11-26T14:46:57.735Z"
   },
   {
    "duration": 1022,
    "start_time": "2023-11-26T14:47:26.088Z"
   },
   {
    "duration": 57,
    "start_time": "2023-11-26T14:49:01.107Z"
   },
   {
    "duration": 139,
    "start_time": "2023-11-26T14:49:52.919Z"
   },
   {
    "duration": 50,
    "start_time": "2023-11-26T14:50:03.786Z"
   },
   {
    "duration": 48,
    "start_time": "2023-11-26T14:50:12.389Z"
   },
   {
    "duration": 70,
    "start_time": "2023-11-26T14:53:47.150Z"
   },
   {
    "duration": 9,
    "start_time": "2023-11-26T14:53:51.340Z"
   },
   {
    "duration": 392,
    "start_time": "2023-11-26T14:59:46.021Z"
   },
   {
    "duration": 391,
    "start_time": "2023-11-26T14:59:54.710Z"
   },
   {
    "duration": 360,
    "start_time": "2023-11-26T15:00:50.377Z"
   },
   {
    "duration": 353,
    "start_time": "2023-11-26T15:00:58.004Z"
   },
   {
    "duration": 364,
    "start_time": "2023-11-26T15:02:35.875Z"
   },
   {
    "duration": 327,
    "start_time": "2023-11-26T15:02:49.061Z"
   },
   {
    "duration": 1151,
    "start_time": "2023-11-26T15:04:36.037Z"
   },
   {
    "duration": 36,
    "start_time": "2023-11-26T15:04:37.190Z"
   },
   {
    "duration": 13,
    "start_time": "2023-11-26T15:04:37.230Z"
   },
   {
    "duration": 6,
    "start_time": "2023-11-26T15:04:37.244Z"
   },
   {
    "duration": 16,
    "start_time": "2023-11-26T15:04:37.251Z"
   },
   {
    "duration": 15,
    "start_time": "2023-11-26T15:04:37.268Z"
   },
   {
    "duration": 5,
    "start_time": "2023-11-26T15:04:37.284Z"
   },
   {
    "duration": 358,
    "start_time": "2023-11-26T15:04:37.290Z"
   },
   {
    "duration": 7,
    "start_time": "2023-11-26T15:04:37.650Z"
   },
   {
    "duration": 4,
    "start_time": "2023-11-26T15:04:37.658Z"
   },
   {
    "duration": 8,
    "start_time": "2023-11-26T15:04:37.663Z"
   },
   {
    "duration": 2,
    "start_time": "2023-11-26T15:04:37.672Z"
   },
   {
    "duration": 67,
    "start_time": "2023-11-26T15:04:37.675Z"
   },
   {
    "duration": 4,
    "start_time": "2023-11-26T15:04:37.744Z"
   },
   {
    "duration": 6,
    "start_time": "2023-11-26T15:04:37.749Z"
   },
   {
    "duration": 10,
    "start_time": "2023-11-26T15:04:37.756Z"
   },
   {
    "duration": 3,
    "start_time": "2023-11-26T15:04:37.767Z"
   },
   {
    "duration": 4,
    "start_time": "2023-11-26T15:04:37.771Z"
   },
   {
    "duration": 14,
    "start_time": "2023-11-26T15:04:37.777Z"
   },
   {
    "duration": 34,
    "start_time": "2023-11-26T15:04:37.793Z"
   },
   {
    "duration": 3,
    "start_time": "2023-11-26T15:04:37.829Z"
   },
   {
    "duration": 5,
    "start_time": "2023-11-26T15:04:37.833Z"
   },
   {
    "duration": 5,
    "start_time": "2023-11-26T15:04:37.839Z"
   },
   {
    "duration": 5,
    "start_time": "2023-11-26T15:04:37.845Z"
   },
   {
    "duration": 5,
    "start_time": "2023-11-26T15:04:37.851Z"
   },
   {
    "duration": 6,
    "start_time": "2023-11-26T15:04:37.857Z"
   },
   {
    "duration": 958,
    "start_time": "2023-11-26T15:04:37.866Z"
   },
   {
    "duration": 25,
    "start_time": "2023-11-26T15:04:38.826Z"
   },
   {
    "duration": 7,
    "start_time": "2023-11-26T15:04:38.852Z"
   },
   {
    "duration": 4,
    "start_time": "2023-11-26T15:04:38.860Z"
   },
   {
    "duration": 10,
    "start_time": "2023-11-26T15:04:38.865Z"
   },
   {
    "duration": 40,
    "start_time": "2023-11-26T15:04:38.876Z"
   },
   {
    "duration": 11,
    "start_time": "2023-11-26T15:04:38.917Z"
   },
   {
    "duration": 25,
    "start_time": "2023-11-26T15:04:38.929Z"
   },
   {
    "duration": 14,
    "start_time": "2023-11-26T15:04:38.955Z"
   },
   {
    "duration": 61,
    "start_time": "2023-11-26T15:04:38.970Z"
   },
   {
    "duration": 11,
    "start_time": "2023-11-26T15:04:39.032Z"
   },
   {
    "duration": 10,
    "start_time": "2023-11-26T15:04:39.044Z"
   },
   {
    "duration": 9,
    "start_time": "2023-11-26T15:04:39.056Z"
   },
   {
    "duration": 9,
    "start_time": "2023-11-26T15:04:39.067Z"
   },
   {
    "duration": 7,
    "start_time": "2023-11-26T15:04:39.077Z"
   },
   {
    "duration": 43,
    "start_time": "2023-11-26T15:04:39.085Z"
   },
   {
    "duration": 19,
    "start_time": "2023-11-26T15:04:39.129Z"
   },
   {
    "duration": 3,
    "start_time": "2023-11-26T15:04:39.149Z"
   },
   {
    "duration": 529,
    "start_time": "2023-11-26T15:04:39.153Z"
   },
   {
    "duration": 1534,
    "start_time": "2023-11-26T15:04:39.683Z"
   },
   {
    "duration": 2,
    "start_time": "2023-11-26T15:04:41.218Z"
   },
   {
    "duration": 1299,
    "start_time": "2023-11-26T15:04:41.221Z"
   },
   {
    "duration": 339,
    "start_time": "2023-11-26T15:04:42.521Z"
   },
   {
    "duration": 421,
    "start_time": "2023-11-26T15:04:42.861Z"
   },
   {
    "duration": 2304,
    "start_time": "2023-11-26T15:04:43.283Z"
   },
   {
    "duration": 1093,
    "start_time": "2023-11-26T15:04:45.589Z"
   },
   {
    "duration": 7,
    "start_time": "2023-11-26T15:04:46.684Z"
   },
   {
    "duration": 6,
    "start_time": "2023-11-26T15:04:46.693Z"
   },
   {
    "duration": 7,
    "start_time": "2023-11-26T15:04:46.715Z"
   },
   {
    "duration": 175,
    "start_time": "2023-11-26T15:04:46.723Z"
   },
   {
    "duration": 18,
    "start_time": "2023-11-26T15:04:46.899Z"
   },
   {
    "duration": 6,
    "start_time": "2023-11-26T15:04:46.918Z"
   },
   {
    "duration": 157,
    "start_time": "2023-11-26T15:04:46.925Z"
   },
   {
    "duration": 6,
    "start_time": "2023-11-26T15:04:47.083Z"
   },
   {
    "duration": 5,
    "start_time": "2023-11-26T15:04:47.090Z"
   },
   {
    "duration": 21,
    "start_time": "2023-11-26T15:04:47.097Z"
   },
   {
    "duration": 5,
    "start_time": "2023-11-26T15:04:47.119Z"
   },
   {
    "duration": 265,
    "start_time": "2023-11-26T15:04:47.125Z"
   },
   {
    "duration": 7,
    "start_time": "2023-11-26T15:04:47.391Z"
   },
   {
    "duration": 20,
    "start_time": "2023-11-26T15:04:47.400Z"
   },
   {
    "duration": 6,
    "start_time": "2023-11-26T15:04:47.421Z"
   },
   {
    "duration": 159,
    "start_time": "2023-11-26T15:04:47.428Z"
   },
   {
    "duration": 7,
    "start_time": "2023-11-26T15:04:47.589Z"
   },
   {
    "duration": 20,
    "start_time": "2023-11-26T15:04:47.597Z"
   },
   {
    "duration": 9,
    "start_time": "2023-11-26T15:04:47.619Z"
   },
   {
    "duration": 20,
    "start_time": "2023-11-26T15:04:47.630Z"
   },
   {
    "duration": 4,
    "start_time": "2023-11-26T15:04:47.651Z"
   },
   {
    "duration": 106,
    "start_time": "2023-11-26T15:04:47.657Z"
   },
   {
    "duration": 4,
    "start_time": "2023-11-26T15:04:47.764Z"
   },
   {
    "duration": 21,
    "start_time": "2023-11-26T15:04:47.769Z"
   },
   {
    "duration": 3,
    "start_time": "2023-11-26T15:05:02.300Z"
   },
   {
    "duration": 101,
    "start_time": "2023-11-26T15:05:03.658Z"
   },
   {
    "duration": 4,
    "start_time": "2023-11-26T15:05:04.138Z"
   },
   {
    "duration": 24,
    "start_time": "2023-11-26T15:05:04.699Z"
   },
   {
    "duration": 3,
    "start_time": "2023-11-26T15:05:12.313Z"
   },
   {
    "duration": 98,
    "start_time": "2023-11-26T15:05:12.874Z"
   },
   {
    "duration": 5,
    "start_time": "2023-11-26T15:05:13.314Z"
   },
   {
    "duration": 19,
    "start_time": "2023-11-26T15:05:13.752Z"
   },
   {
    "duration": 3,
    "start_time": "2023-11-26T15:05:19.527Z"
   },
   {
    "duration": 105,
    "start_time": "2023-11-26T15:05:20.135Z"
   },
   {
    "duration": 5,
    "start_time": "2023-11-26T15:05:20.578Z"
   },
   {
    "duration": 19,
    "start_time": "2023-11-26T15:05:21.054Z"
   },
   {
    "duration": 3,
    "start_time": "2023-11-26T15:05:29.986Z"
   },
   {
    "duration": 100,
    "start_time": "2023-11-26T15:05:30.582Z"
   },
   {
    "duration": 5,
    "start_time": "2023-11-26T15:05:31.080Z"
   },
   {
    "duration": 19,
    "start_time": "2023-11-26T15:05:31.642Z"
   },
   {
    "duration": 3,
    "start_time": "2023-11-26T15:06:56.186Z"
   },
   {
    "duration": 106,
    "start_time": "2023-11-26T15:06:56.858Z"
   },
   {
    "duration": 5,
    "start_time": "2023-11-26T15:06:57.363Z"
   },
   {
    "duration": 20,
    "start_time": "2023-11-26T15:06:58.037Z"
   },
   {
    "duration": 3,
    "start_time": "2023-11-26T15:07:10.240Z"
   },
   {
    "duration": 120,
    "start_time": "2023-11-26T15:07:10.830Z"
   },
   {
    "duration": 5,
    "start_time": "2023-11-26T15:07:11.340Z"
   },
   {
    "duration": 20,
    "start_time": "2023-11-26T15:07:11.997Z"
   },
   {
    "duration": 3,
    "start_time": "2023-11-26T15:08:23.004Z"
   },
   {
    "duration": 105,
    "start_time": "2023-11-26T15:08:23.667Z"
   },
   {
    "duration": 5,
    "start_time": "2023-11-26T15:08:24.112Z"
   },
   {
    "duration": 19,
    "start_time": "2023-11-26T15:08:24.757Z"
   },
   {
    "duration": 3,
    "start_time": "2023-11-26T15:08:43.264Z"
   },
   {
    "duration": 104,
    "start_time": "2023-11-26T15:08:43.852Z"
   },
   {
    "duration": 5,
    "start_time": "2023-11-26T15:08:44.348Z"
   },
   {
    "duration": 20,
    "start_time": "2023-11-26T15:08:44.960Z"
   },
   {
    "duration": 3,
    "start_time": "2023-11-26T15:09:02.879Z"
   },
   {
    "duration": 109,
    "start_time": "2023-11-26T15:09:03.617Z"
   },
   {
    "duration": 5,
    "start_time": "2023-11-26T15:09:04.072Z"
   },
   {
    "duration": 19,
    "start_time": "2023-11-26T15:09:04.636Z"
   },
   {
    "duration": 9,
    "start_time": "2023-11-26T15:23:41.365Z"
   },
   {
    "duration": 3,
    "start_time": "2023-11-26T15:32:50.726Z"
   },
   {
    "duration": 261,
    "start_time": "2023-11-26T15:32:53.401Z"
   },
   {
    "duration": 3,
    "start_time": "2023-11-26T15:33:58.326Z"
   },
   {
    "duration": 188,
    "start_time": "2023-11-26T15:33:59.672Z"
   },
   {
    "duration": 162,
    "start_time": "2023-11-26T15:34:17.697Z"
   },
   {
    "duration": 176,
    "start_time": "2023-11-26T15:34:45.453Z"
   },
   {
    "duration": 3,
    "start_time": "2023-11-26T15:35:00.470Z"
   },
   {
    "duration": 178,
    "start_time": "2023-11-26T15:35:01.113Z"
   },
   {
    "duration": 167,
    "start_time": "2023-11-26T15:35:23.682Z"
   },
   {
    "duration": 6,
    "start_time": "2023-11-26T15:36:06.279Z"
   },
   {
    "duration": 6,
    "start_time": "2023-11-26T15:36:40.078Z"
   },
   {
    "duration": 6,
    "start_time": "2023-11-26T15:37:17.422Z"
   },
   {
    "duration": 4,
    "start_time": "2023-11-26T15:37:52.469Z"
   },
   {
    "duration": 169,
    "start_time": "2023-11-26T15:37:53.104Z"
   },
   {
    "duration": 5,
    "start_time": "2023-11-26T15:37:54.171Z"
   },
   {
    "duration": 6,
    "start_time": "2023-11-26T15:38:00.626Z"
   },
   {
    "duration": 5,
    "start_time": "2023-11-26T15:38:37.992Z"
   },
   {
    "duration": 3,
    "start_time": "2023-11-26T15:39:22.932Z"
   },
   {
    "duration": 4,
    "start_time": "2023-11-26T15:39:54.988Z"
   },
   {
    "duration": 23,
    "start_time": "2023-11-26T15:40:40.370Z"
   },
   {
    "duration": 4,
    "start_time": "2023-11-26T15:40:47.690Z"
   },
   {
    "duration": 5,
    "start_time": "2023-11-26T15:41:06.546Z"
   },
   {
    "duration": 5,
    "start_time": "2023-11-26T15:41:06.823Z"
   },
   {
    "duration": 4,
    "start_time": "2023-11-26T15:41:20.870Z"
   },
   {
    "duration": 175,
    "start_time": "2023-11-26T15:41:21.501Z"
   },
   {
    "duration": 5,
    "start_time": "2023-11-26T15:41:21.908Z"
   },
   {
    "duration": 6,
    "start_time": "2023-11-26T15:41:23.161Z"
   },
   {
    "duration": 3,
    "start_time": "2023-11-26T15:41:24.003Z"
   },
   {
    "duration": 5,
    "start_time": "2023-11-26T15:41:24.451Z"
   },
   {
    "duration": 5,
    "start_time": "2023-11-26T15:41:24.937Z"
   },
   {
    "duration": 5,
    "start_time": "2023-11-26T15:41:25.278Z"
   },
   {
    "duration": 155,
    "start_time": "2023-11-26T15:42:42.341Z"
   },
   {
    "duration": 159,
    "start_time": "2023-11-26T15:42:59.703Z"
   },
   {
    "duration": 166,
    "start_time": "2023-11-26T15:43:17.055Z"
   },
   {
    "duration": 6,
    "start_time": "2023-11-26T15:44:40.113Z"
   },
   {
    "duration": 1151,
    "start_time": "2023-11-26T15:46:18.316Z"
   },
   {
    "duration": 36,
    "start_time": "2023-11-26T15:46:19.468Z"
   },
   {
    "duration": 12,
    "start_time": "2023-11-26T15:46:19.505Z"
   },
   {
    "duration": 2,
    "start_time": "2023-11-26T15:46:19.518Z"
   },
   {
    "duration": 3,
    "start_time": "2023-11-26T15:46:19.521Z"
   },
   {
    "duration": 10,
    "start_time": "2023-11-26T15:46:19.525Z"
   },
   {
    "duration": 5,
    "start_time": "2023-11-26T15:46:19.536Z"
   },
   {
    "duration": 322,
    "start_time": "2023-11-26T15:46:19.541Z"
   },
   {
    "duration": 7,
    "start_time": "2023-11-26T15:46:19.864Z"
   },
   {
    "duration": 4,
    "start_time": "2023-11-26T15:46:19.872Z"
   },
   {
    "duration": 6,
    "start_time": "2023-11-26T15:46:19.878Z"
   },
   {
    "duration": 3,
    "start_time": "2023-11-26T15:46:19.885Z"
   },
   {
    "duration": 67,
    "start_time": "2023-11-26T15:46:19.889Z"
   },
   {
    "duration": 5,
    "start_time": "2023-11-26T15:46:19.959Z"
   },
   {
    "duration": 11,
    "start_time": "2023-11-26T15:46:19.965Z"
   },
   {
    "duration": 7,
    "start_time": "2023-11-26T15:46:19.977Z"
   },
   {
    "duration": 3,
    "start_time": "2023-11-26T15:46:19.985Z"
   },
   {
    "duration": 5,
    "start_time": "2023-11-26T15:46:19.990Z"
   },
   {
    "duration": 15,
    "start_time": "2023-11-26T15:46:20.015Z"
   },
   {
    "duration": 16,
    "start_time": "2023-11-26T15:46:20.031Z"
   },
   {
    "duration": 4,
    "start_time": "2023-11-26T15:46:20.049Z"
   },
   {
    "duration": 5,
    "start_time": "2023-11-26T15:46:20.054Z"
   },
   {
    "duration": 4,
    "start_time": "2023-11-26T15:46:20.061Z"
   },
   {
    "duration": 5,
    "start_time": "2023-11-26T15:46:20.066Z"
   },
   {
    "duration": 4,
    "start_time": "2023-11-26T15:46:20.072Z"
   },
   {
    "duration": 4,
    "start_time": "2023-11-26T15:46:20.077Z"
   },
   {
    "duration": 958,
    "start_time": "2023-11-26T15:46:20.115Z"
   },
   {
    "duration": 25,
    "start_time": "2023-11-26T15:46:21.074Z"
   },
   {
    "duration": 18,
    "start_time": "2023-11-26T15:46:21.101Z"
   },
   {
    "duration": 3,
    "start_time": "2023-11-26T15:46:21.121Z"
   },
   {
    "duration": 11,
    "start_time": "2023-11-26T15:46:21.126Z"
   },
   {
    "duration": 15,
    "start_time": "2023-11-26T15:46:21.139Z"
   },
   {
    "duration": 10,
    "start_time": "2023-11-26T15:46:21.155Z"
   },
   {
    "duration": 56,
    "start_time": "2023-11-26T15:46:21.167Z"
   },
   {
    "duration": 13,
    "start_time": "2023-11-26T15:46:21.224Z"
   },
   {
    "duration": 32,
    "start_time": "2023-11-26T15:46:21.238Z"
   },
   {
    "duration": 10,
    "start_time": "2023-11-26T15:46:21.271Z"
   },
   {
    "duration": 7,
    "start_time": "2023-11-26T15:46:21.283Z"
   },
   {
    "duration": 30,
    "start_time": "2023-11-26T15:46:21.291Z"
   },
   {
    "duration": 8,
    "start_time": "2023-11-26T15:46:21.323Z"
   },
   {
    "duration": 8,
    "start_time": "2023-11-26T15:46:21.335Z"
   },
   {
    "duration": 18,
    "start_time": "2023-11-26T15:46:21.344Z"
   },
   {
    "duration": 18,
    "start_time": "2023-11-26T15:46:21.363Z"
   },
   {
    "duration": 2,
    "start_time": "2023-11-26T15:46:21.382Z"
   },
   {
    "duration": 532,
    "start_time": "2023-11-26T15:46:21.385Z"
   },
   {
    "duration": 1223,
    "start_time": "2023-11-26T15:46:21.918Z"
   },
   {
    "duration": 3,
    "start_time": "2023-11-26T15:46:23.142Z"
   },
   {
    "duration": 1040,
    "start_time": "2023-11-26T15:46:23.146Z"
   },
   {
    "duration": 368,
    "start_time": "2023-11-26T15:46:24.188Z"
   },
   {
    "duration": 417,
    "start_time": "2023-11-26T15:46:24.558Z"
   },
   {
    "duration": 2299,
    "start_time": "2023-11-26T15:46:24.977Z"
   },
   {
    "duration": 1100,
    "start_time": "2023-11-26T15:46:27.277Z"
   },
   {
    "duration": 6,
    "start_time": "2023-11-26T15:46:28.379Z"
   },
   {
    "duration": 6,
    "start_time": "2023-11-26T15:46:28.387Z"
   },
   {
    "duration": 22,
    "start_time": "2023-11-26T15:46:28.394Z"
   },
   {
    "duration": 176,
    "start_time": "2023-11-26T15:46:28.417Z"
   },
   {
    "duration": 20,
    "start_time": "2023-11-26T15:46:28.595Z"
   },
   {
    "duration": 5,
    "start_time": "2023-11-26T15:46:28.617Z"
   },
   {
    "duration": 154,
    "start_time": "2023-11-26T15:46:28.623Z"
   },
   {
    "duration": 7,
    "start_time": "2023-11-26T15:46:28.778Z"
   },
   {
    "duration": 6,
    "start_time": "2023-11-26T15:46:28.786Z"
   },
   {
    "duration": 5,
    "start_time": "2023-11-26T15:46:28.793Z"
   },
   {
    "duration": 19,
    "start_time": "2023-11-26T15:46:28.799Z"
   },
   {
    "duration": 250,
    "start_time": "2023-11-26T15:46:28.819Z"
   },
   {
    "duration": 6,
    "start_time": "2023-11-26T15:46:29.071Z"
   },
   {
    "duration": 6,
    "start_time": "2023-11-26T15:46:29.078Z"
   },
   {
    "duration": 5,
    "start_time": "2023-11-26T15:46:29.085Z"
   },
   {
    "duration": 171,
    "start_time": "2023-11-26T15:46:29.091Z"
   },
   {
    "duration": 6,
    "start_time": "2023-11-26T15:46:29.263Z"
   },
   {
    "duration": 5,
    "start_time": "2023-11-26T15:46:29.271Z"
   },
   {
    "duration": 8,
    "start_time": "2023-11-26T15:46:29.278Z"
   },
   {
    "duration": 29,
    "start_time": "2023-11-26T15:46:29.287Z"
   },
   {
    "duration": 2,
    "start_time": "2023-11-26T15:46:29.317Z"
   },
   {
    "duration": 184,
    "start_time": "2023-11-26T15:46:29.320Z"
   },
   {
    "duration": 22,
    "start_time": "2023-11-26T15:46:29.505Z"
   },
   {
    "duration": 6,
    "start_time": "2023-11-26T15:46:29.528Z"
   },
   {
    "duration": 6,
    "start_time": "2023-11-26T15:46:29.535Z"
   },
   {
    "duration": 4,
    "start_time": "2023-11-26T15:46:29.542Z"
   },
   {
    "duration": 3,
    "start_time": "2023-11-26T15:46:29.547Z"
   },
   {
    "duration": 8,
    "start_time": "2023-11-26T15:46:29.551Z"
   },
   {
    "duration": 5,
    "start_time": "2023-11-26T15:46:29.560Z"
   },
   {
    "duration": 6,
    "start_time": "2023-11-26T15:46:29.566Z"
   },
   {
    "duration": 172,
    "start_time": "2023-11-26T15:46:29.572Z"
   },
   {
    "duration": 43496,
    "start_time": "2023-11-26T15:46:29.746Z"
   },
   {
    "duration": 906,
    "start_time": "2023-11-26T15:47:13.243Z"
   },
   {
    "duration": 44423,
    "start_time": "2023-11-26T15:47:39.756Z"
   },
   {
    "duration": 917,
    "start_time": "2023-11-26T15:48:24.181Z"
   },
   {
    "duration": 15,
    "start_time": "2023-11-26T15:48:29.774Z"
   },
   {
    "duration": 25,
    "start_time": "2023-11-26T15:49:39.820Z"
   },
   {
    "duration": 1117,
    "start_time": "2023-11-26T15:57:03.434Z"
   },
   {
    "duration": 1193,
    "start_time": "2023-11-26T15:58:07.349Z"
   },
   {
    "duration": 37,
    "start_time": "2023-11-26T15:58:08.543Z"
   },
   {
    "duration": 14,
    "start_time": "2023-11-26T15:58:08.581Z"
   },
   {
    "duration": 2,
    "start_time": "2023-11-26T15:58:08.597Z"
   },
   {
    "duration": 3,
    "start_time": "2023-11-26T15:58:08.600Z"
   },
   {
    "duration": 11,
    "start_time": "2023-11-26T15:58:08.604Z"
   },
   {
    "duration": 5,
    "start_time": "2023-11-26T15:58:08.616Z"
   },
   {
    "duration": 341,
    "start_time": "2023-11-26T15:58:08.622Z"
   },
   {
    "duration": 8,
    "start_time": "2023-11-26T15:58:08.964Z"
   },
   {
    "duration": 4,
    "start_time": "2023-11-26T15:58:08.975Z"
   },
   {
    "duration": 6,
    "start_time": "2023-11-26T15:58:08.980Z"
   },
   {
    "duration": 13,
    "start_time": "2023-11-26T15:58:08.987Z"
   },
   {
    "duration": 59,
    "start_time": "2023-11-26T15:58:09.001Z"
   },
   {
    "duration": 5,
    "start_time": "2023-11-26T15:58:09.061Z"
   },
   {
    "duration": 14,
    "start_time": "2023-11-26T15:58:09.067Z"
   },
   {
    "duration": 11,
    "start_time": "2023-11-26T15:58:09.082Z"
   },
   {
    "duration": 3,
    "start_time": "2023-11-26T15:58:09.094Z"
   },
   {
    "duration": 12,
    "start_time": "2023-11-26T15:58:09.098Z"
   },
   {
    "duration": 15,
    "start_time": "2023-11-26T15:58:09.111Z"
   },
   {
    "duration": 14,
    "start_time": "2023-11-26T15:58:09.127Z"
   },
   {
    "duration": 16,
    "start_time": "2023-11-26T15:58:09.142Z"
   },
   {
    "duration": 7,
    "start_time": "2023-11-26T15:58:09.159Z"
   },
   {
    "duration": 16,
    "start_time": "2023-11-26T15:58:09.167Z"
   },
   {
    "duration": 15,
    "start_time": "2023-11-26T15:58:09.184Z"
   },
   {
    "duration": 5,
    "start_time": "2023-11-26T15:58:09.200Z"
   },
   {
    "duration": 4,
    "start_time": "2023-11-26T15:58:09.207Z"
   },
   {
    "duration": 921,
    "start_time": "2023-11-26T15:58:09.212Z"
   },
   {
    "duration": 25,
    "start_time": "2023-11-26T15:58:10.137Z"
   },
   {
    "duration": 7,
    "start_time": "2023-11-26T15:58:10.164Z"
   },
   {
    "duration": 3,
    "start_time": "2023-11-26T15:58:10.173Z"
   },
   {
    "duration": 10,
    "start_time": "2023-11-26T15:58:10.177Z"
   },
   {
    "duration": 31,
    "start_time": "2023-11-26T15:58:10.188Z"
   },
   {
    "duration": 8,
    "start_time": "2023-11-26T15:58:10.220Z"
   },
   {
    "duration": 23,
    "start_time": "2023-11-26T15:58:10.229Z"
   },
   {
    "duration": 13,
    "start_time": "2023-11-26T15:58:10.254Z"
   },
   {
    "duration": 57,
    "start_time": "2023-11-26T15:58:10.269Z"
   },
   {
    "duration": 12,
    "start_time": "2023-11-26T15:58:10.327Z"
   },
   {
    "duration": 9,
    "start_time": "2023-11-26T15:58:10.340Z"
   },
   {
    "duration": 13,
    "start_time": "2023-11-26T15:58:10.350Z"
   },
   {
    "duration": 11,
    "start_time": "2023-11-26T15:58:10.364Z"
   },
   {
    "duration": 10,
    "start_time": "2023-11-26T15:58:10.378Z"
   },
   {
    "duration": 19,
    "start_time": "2023-11-26T15:58:10.415Z"
   },
   {
    "duration": 18,
    "start_time": "2023-11-26T15:58:10.435Z"
   },
   {
    "duration": 2,
    "start_time": "2023-11-26T15:58:10.454Z"
   },
   {
    "duration": 525,
    "start_time": "2023-11-26T15:58:10.457Z"
   },
   {
    "duration": 1214,
    "start_time": "2023-11-26T15:58:10.983Z"
   },
   {
    "duration": 2,
    "start_time": "2023-11-26T15:58:12.199Z"
   },
   {
    "duration": 1031,
    "start_time": "2023-11-26T15:58:12.202Z"
   },
   {
    "duration": 334,
    "start_time": "2023-11-26T15:58:13.234Z"
   },
   {
    "duration": 420,
    "start_time": "2023-11-26T15:58:13.570Z"
   },
   {
    "duration": 2293,
    "start_time": "2023-11-26T15:58:13.991Z"
   },
   {
    "duration": 1099,
    "start_time": "2023-11-26T15:58:16.286Z"
   },
   {
    "duration": 5,
    "start_time": "2023-11-26T15:58:17.386Z"
   },
   {
    "duration": 5,
    "start_time": "2023-11-26T15:58:17.393Z"
   },
   {
    "duration": 17,
    "start_time": "2023-11-26T15:58:17.399Z"
   },
   {
    "duration": 169,
    "start_time": "2023-11-26T15:58:17.418Z"
   },
   {
    "duration": 11,
    "start_time": "2023-11-26T15:58:17.588Z"
   },
   {
    "duration": 15,
    "start_time": "2023-11-26T15:58:17.600Z"
   },
   {
    "duration": 149,
    "start_time": "2023-11-26T15:58:17.617Z"
   },
   {
    "duration": 7,
    "start_time": "2023-11-26T15:58:17.767Z"
   },
   {
    "duration": 6,
    "start_time": "2023-11-26T15:58:17.775Z"
   },
   {
    "duration": 13,
    "start_time": "2023-11-26T15:58:17.782Z"
   },
   {
    "duration": 19,
    "start_time": "2023-11-26T15:58:17.796Z"
   },
   {
    "duration": 253,
    "start_time": "2023-11-26T15:58:17.816Z"
   },
   {
    "duration": 6,
    "start_time": "2023-11-26T15:58:18.070Z"
   },
   {
    "duration": 6,
    "start_time": "2023-11-26T15:58:18.077Z"
   },
   {
    "duration": 5,
    "start_time": "2023-11-26T15:58:18.084Z"
   },
   {
    "duration": 170,
    "start_time": "2023-11-26T15:58:18.090Z"
   },
   {
    "duration": 6,
    "start_time": "2023-11-26T15:58:18.261Z"
   },
   {
    "duration": 8,
    "start_time": "2023-11-26T15:58:18.268Z"
   },
   {
    "duration": 8,
    "start_time": "2023-11-26T15:58:18.277Z"
   },
   {
    "duration": 14,
    "start_time": "2023-11-26T15:58:18.286Z"
   },
   {
    "duration": 15,
    "start_time": "2023-11-26T15:58:18.301Z"
   },
   {
    "duration": 169,
    "start_time": "2023-11-26T15:58:18.317Z"
   },
   {
    "duration": 9,
    "start_time": "2023-11-26T15:58:18.487Z"
   },
   {
    "duration": 31,
    "start_time": "2023-11-26T15:58:18.497Z"
   },
   {
    "duration": 471,
    "start_time": "2023-11-26T15:58:18.530Z"
   },
   {
    "duration": 6,
    "start_time": "2023-11-26T15:58:19.002Z"
   },
   {
    "duration": 8,
    "start_time": "2023-11-26T15:58:19.015Z"
   },
   {
    "duration": 5,
    "start_time": "2023-11-26T15:58:19.024Z"
   },
   {
    "duration": 5,
    "start_time": "2023-11-26T15:58:19.030Z"
   },
   {
    "duration": 4,
    "start_time": "2023-11-26T15:58:19.039Z"
   },
   {
    "duration": 9,
    "start_time": "2023-11-26T15:58:19.044Z"
   },
   {
    "duration": 5,
    "start_time": "2023-11-26T15:58:19.053Z"
   },
   {
    "duration": 3,
    "start_time": "2023-11-26T16:00:25.368Z"
   },
   {
    "duration": 156,
    "start_time": "2023-11-26T16:00:26.170Z"
   },
   {
    "duration": 10,
    "start_time": "2023-11-26T16:00:26.805Z"
   },
   {
    "duration": 24,
    "start_time": "2023-11-26T16:00:27.535Z"
   },
   {
    "duration": 469,
    "start_time": "2023-11-26T16:00:28.430Z"
   },
   {
    "duration": 3,
    "start_time": "2023-11-26T16:00:45.068Z"
   },
   {
    "duration": 169,
    "start_time": "2023-11-26T16:00:45.871Z"
   },
   {
    "duration": 10,
    "start_time": "2023-11-26T16:00:46.378Z"
   },
   {
    "duration": 23,
    "start_time": "2023-11-26T16:00:46.878Z"
   },
   {
    "duration": 562,
    "start_time": "2023-11-26T16:00:47.522Z"
   },
   {
    "duration": 1248,
    "start_time": "2023-11-26T16:01:12.416Z"
   },
   {
    "duration": 36,
    "start_time": "2023-11-26T16:01:13.666Z"
   },
   {
    "duration": 12,
    "start_time": "2023-11-26T16:01:13.703Z"
   },
   {
    "duration": 2,
    "start_time": "2023-11-26T16:01:13.716Z"
   },
   {
    "duration": 9,
    "start_time": "2023-11-26T16:01:13.719Z"
   },
   {
    "duration": 14,
    "start_time": "2023-11-26T16:01:13.729Z"
   },
   {
    "duration": 5,
    "start_time": "2023-11-26T16:01:13.744Z"
   },
   {
    "duration": 324,
    "start_time": "2023-11-26T16:01:13.750Z"
   },
   {
    "duration": 7,
    "start_time": "2023-11-26T16:01:14.075Z"
   },
   {
    "duration": 4,
    "start_time": "2023-11-26T16:01:14.084Z"
   },
   {
    "duration": 9,
    "start_time": "2023-11-26T16:01:14.089Z"
   },
   {
    "duration": 3,
    "start_time": "2023-11-26T16:01:14.099Z"
   },
   {
    "duration": 48,
    "start_time": "2023-11-26T16:01:14.115Z"
   },
   {
    "duration": 5,
    "start_time": "2023-11-26T16:01:14.164Z"
   },
   {
    "duration": 4,
    "start_time": "2023-11-26T16:01:14.170Z"
   },
   {
    "duration": 11,
    "start_time": "2023-11-26T16:01:14.175Z"
   },
   {
    "duration": 3,
    "start_time": "2023-11-26T16:01:14.187Z"
   },
   {
    "duration": 25,
    "start_time": "2023-11-26T16:01:14.191Z"
   },
   {
    "duration": 14,
    "start_time": "2023-11-26T16:01:14.217Z"
   },
   {
    "duration": 15,
    "start_time": "2023-11-26T16:01:14.232Z"
   },
   {
    "duration": 9,
    "start_time": "2023-11-26T16:01:14.248Z"
   },
   {
    "duration": 6,
    "start_time": "2023-11-26T16:01:14.258Z"
   },
   {
    "duration": 4,
    "start_time": "2023-11-26T16:01:14.265Z"
   },
   {
    "duration": 5,
    "start_time": "2023-11-26T16:01:14.270Z"
   },
   {
    "duration": 5,
    "start_time": "2023-11-26T16:01:14.276Z"
   },
   {
    "duration": 34,
    "start_time": "2023-11-26T16:01:14.282Z"
   },
   {
    "duration": 927,
    "start_time": "2023-11-26T16:01:14.317Z"
   },
   {
    "duration": 23,
    "start_time": "2023-11-26T16:01:15.247Z"
   },
   {
    "duration": 7,
    "start_time": "2023-11-26T16:01:15.272Z"
   },
   {
    "duration": 4,
    "start_time": "2023-11-26T16:01:15.280Z"
   },
   {
    "duration": 9,
    "start_time": "2023-11-26T16:01:15.285Z"
   },
   {
    "duration": 11,
    "start_time": "2023-11-26T16:01:15.315Z"
   },
   {
    "duration": 9,
    "start_time": "2023-11-26T16:01:15.327Z"
   },
   {
    "duration": 22,
    "start_time": "2023-11-26T16:01:15.337Z"
   },
   {
    "duration": 13,
    "start_time": "2023-11-26T16:01:15.360Z"
   },
   {
    "duration": 55,
    "start_time": "2023-11-26T16:01:15.374Z"
   },
   {
    "duration": 9,
    "start_time": "2023-11-26T16:01:15.430Z"
   },
   {
    "duration": 8,
    "start_time": "2023-11-26T16:01:15.440Z"
   },
   {
    "duration": 20,
    "start_time": "2023-11-26T16:01:15.449Z"
   },
   {
    "duration": 27,
    "start_time": "2023-11-26T16:01:15.470Z"
   },
   {
    "duration": 7,
    "start_time": "2023-11-26T16:01:15.498Z"
   },
   {
    "duration": 17,
    "start_time": "2023-11-26T16:01:15.506Z"
   },
   {
    "duration": 17,
    "start_time": "2023-11-26T16:01:15.525Z"
   },
   {
    "duration": 2,
    "start_time": "2023-11-26T16:01:15.543Z"
   },
   {
    "duration": 527,
    "start_time": "2023-11-26T16:01:15.546Z"
   },
   {
    "duration": 1199,
    "start_time": "2023-11-26T16:01:16.074Z"
   },
   {
    "duration": 3,
    "start_time": "2023-11-26T16:01:17.274Z"
   },
   {
    "duration": 1028,
    "start_time": "2023-11-26T16:01:17.278Z"
   },
   {
    "duration": 353,
    "start_time": "2023-11-26T16:01:18.308Z"
   },
   {
    "duration": 416,
    "start_time": "2023-11-26T16:01:18.662Z"
   },
   {
    "duration": 2312,
    "start_time": "2023-11-26T16:01:19.079Z"
   },
   {
    "duration": 1077,
    "start_time": "2023-11-26T16:01:21.392Z"
   },
   {
    "duration": 6,
    "start_time": "2023-11-26T16:01:22.470Z"
   },
   {
    "duration": 5,
    "start_time": "2023-11-26T16:01:22.478Z"
   },
   {
    "duration": 6,
    "start_time": "2023-11-26T16:01:22.484Z"
   },
   {
    "duration": 183,
    "start_time": "2023-11-26T16:01:22.491Z"
   },
   {
    "duration": 12,
    "start_time": "2023-11-26T16:01:22.675Z"
   },
   {
    "duration": 5,
    "start_time": "2023-11-26T16:01:22.688Z"
   },
   {
    "duration": 156,
    "start_time": "2023-11-26T16:01:22.694Z"
   },
   {
    "duration": 7,
    "start_time": "2023-11-26T16:01:22.851Z"
   },
   {
    "duration": 6,
    "start_time": "2023-11-26T16:01:22.859Z"
   },
   {
    "duration": 6,
    "start_time": "2023-11-26T16:01:22.866Z"
   },
   {
    "duration": 5,
    "start_time": "2023-11-26T16:01:22.873Z"
   },
   {
    "duration": 275,
    "start_time": "2023-11-26T16:01:22.879Z"
   },
   {
    "duration": 7,
    "start_time": "2023-11-26T16:01:23.155Z"
   },
   {
    "duration": 16,
    "start_time": "2023-11-26T16:01:23.163Z"
   },
   {
    "duration": 14,
    "start_time": "2023-11-26T16:01:23.180Z"
   },
   {
    "duration": 157,
    "start_time": "2023-11-26T16:01:23.196Z"
   },
   {
    "duration": 6,
    "start_time": "2023-11-26T16:01:23.354Z"
   },
   {
    "duration": 6,
    "start_time": "2023-11-26T16:01:23.362Z"
   },
   {
    "duration": 8,
    "start_time": "2023-11-26T16:01:23.369Z"
   },
   {
    "duration": 9,
    "start_time": "2023-11-26T16:01:23.378Z"
   },
   {
    "duration": 27,
    "start_time": "2023-11-26T16:01:23.388Z"
   },
   {
    "duration": 170,
    "start_time": "2023-11-26T16:01:23.416Z"
   },
   {
    "duration": 10,
    "start_time": "2023-11-26T16:01:23.587Z"
   },
   {
    "duration": 33,
    "start_time": "2023-11-26T16:01:23.599Z"
   },
   {
    "duration": 471,
    "start_time": "2023-11-26T16:01:23.633Z"
   },
   {
    "duration": 10,
    "start_time": "2023-11-26T16:01:24.105Z"
   },
   {
    "duration": 10,
    "start_time": "2023-11-26T16:01:24.116Z"
   },
   {
    "duration": 4,
    "start_time": "2023-11-26T16:01:24.127Z"
   },
   {
    "duration": 24,
    "start_time": "2023-11-26T16:01:24.132Z"
   },
   {
    "duration": 14,
    "start_time": "2023-11-26T16:01:24.161Z"
   },
   {
    "duration": 14,
    "start_time": "2023-11-26T16:01:24.176Z"
   },
   {
    "duration": 17,
    "start_time": "2023-11-26T16:01:24.191Z"
   },
   {
    "duration": 305,
    "start_time": "2023-11-26T16:02:56.398Z"
   },
   {
    "duration": 274,
    "start_time": "2023-11-26T16:03:12.726Z"
   },
   {
    "duration": 205,
    "start_time": "2023-11-26T16:04:17.707Z"
   },
   {
    "duration": 201,
    "start_time": "2023-11-26T16:04:24.170Z"
   },
   {
    "duration": 299,
    "start_time": "2023-11-26T16:04:27.882Z"
   },
   {
    "duration": 11,
    "start_time": "2023-11-26T16:04:30.770Z"
   },
   {
    "duration": 202,
    "start_time": "2023-11-26T16:04:37.596Z"
   },
   {
    "duration": 202,
    "start_time": "2023-11-26T16:04:46.150Z"
   },
   {
    "duration": 209,
    "start_time": "2023-11-26T16:04:49.992Z"
   },
   {
    "duration": 209,
    "start_time": "2023-11-26T16:04:55.415Z"
   },
   {
    "duration": 274,
    "start_time": "2023-11-26T16:05:06.750Z"
   },
   {
    "duration": 453,
    "start_time": "2023-11-26T16:07:20.533Z"
   },
   {
    "duration": 532,
    "start_time": "2023-11-26T16:08:05.612Z"
   },
   {
    "duration": 440,
    "start_time": "2023-11-26T16:08:39.361Z"
   },
   {
    "duration": 16,
    "start_time": "2023-11-26T16:16:25.332Z"
   },
   {
    "duration": 8,
    "start_time": "2023-11-26T16:17:08.023Z"
   },
   {
    "duration": 14,
    "start_time": "2023-11-26T16:17:15.865Z"
   },
   {
    "duration": 16,
    "start_time": "2023-11-26T16:18:36.986Z"
   },
   {
    "duration": 9,
    "start_time": "2023-11-26T16:18:44.168Z"
   },
   {
    "duration": 3,
    "start_time": "2023-11-26T16:19:41.880Z"
   },
   {
    "duration": 15,
    "start_time": "2023-11-26T16:23:21.446Z"
   },
   {
    "duration": 24,
    "start_time": "2023-11-26T16:23:37.934Z"
   },
   {
    "duration": 747,
    "start_time": "2023-11-26T16:28:26.532Z"
   },
   {
    "duration": 16,
    "start_time": "2023-11-26T16:30:55.992Z"
   },
   {
    "duration": 16,
    "start_time": "2023-11-26T16:32:48.552Z"
   },
   {
    "duration": 15,
    "start_time": "2023-11-26T16:33:09.761Z"
   },
   {
    "duration": 105,
    "start_time": "2023-11-26T16:33:42.170Z"
   },
   {
    "duration": 1164,
    "start_time": "2023-11-26T16:36:54.218Z"
   },
   {
    "duration": 1097,
    "start_time": "2023-11-26T16:37:20.181Z"
   },
   {
    "duration": 905,
    "start_time": "2023-11-26T16:37:40.123Z"
   },
   {
    "duration": 643,
    "start_time": "2023-11-26T16:37:45.104Z"
   },
   {
    "duration": 869,
    "start_time": "2023-11-26T16:37:53.158Z"
   },
   {
    "duration": 921,
    "start_time": "2023-11-26T16:38:02.617Z"
   },
   {
    "duration": 791,
    "start_time": "2023-11-26T16:38:14.475Z"
   },
   {
    "duration": 847,
    "start_time": "2023-11-26T16:38:21.502Z"
   },
   {
    "duration": 804,
    "start_time": "2023-11-26T16:38:26.256Z"
   },
   {
    "duration": 1202,
    "start_time": "2023-11-26T16:40:43.653Z"
   },
   {
    "duration": 36,
    "start_time": "2023-11-26T16:40:44.857Z"
   },
   {
    "duration": 13,
    "start_time": "2023-11-26T16:40:44.894Z"
   },
   {
    "duration": 2,
    "start_time": "2023-11-26T16:40:44.908Z"
   },
   {
    "duration": 3,
    "start_time": "2023-11-26T16:40:44.911Z"
   },
   {
    "duration": 10,
    "start_time": "2023-11-26T16:40:44.915Z"
   },
   {
    "duration": 5,
    "start_time": "2023-11-26T16:40:44.926Z"
   },
   {
    "duration": 338,
    "start_time": "2023-11-26T16:40:44.932Z"
   },
   {
    "duration": 7,
    "start_time": "2023-11-26T16:40:45.272Z"
   },
   {
    "duration": 4,
    "start_time": "2023-11-26T16:40:45.281Z"
   },
   {
    "duration": 7,
    "start_time": "2023-11-26T16:40:45.286Z"
   },
   {
    "duration": 3,
    "start_time": "2023-11-26T16:40:45.294Z"
   },
   {
    "duration": 47,
    "start_time": "2023-11-26T16:40:45.314Z"
   },
   {
    "duration": 5,
    "start_time": "2023-11-26T16:40:45.362Z"
   },
   {
    "duration": 4,
    "start_time": "2023-11-26T16:40:45.368Z"
   },
   {
    "duration": 8,
    "start_time": "2023-11-26T16:40:45.373Z"
   },
   {
    "duration": 3,
    "start_time": "2023-11-26T16:40:45.382Z"
   },
   {
    "duration": 6,
    "start_time": "2023-11-26T16:40:45.386Z"
   },
   {
    "duration": 36,
    "start_time": "2023-11-26T16:40:45.393Z"
   },
   {
    "duration": 14,
    "start_time": "2023-11-26T16:40:45.430Z"
   },
   {
    "duration": 8,
    "start_time": "2023-11-26T16:40:45.445Z"
   },
   {
    "duration": 7,
    "start_time": "2023-11-26T16:40:45.454Z"
   },
   {
    "duration": 10,
    "start_time": "2023-11-26T16:40:45.462Z"
   },
   {
    "duration": 6,
    "start_time": "2023-11-26T16:40:45.473Z"
   },
   {
    "duration": 12,
    "start_time": "2023-11-26T16:40:45.480Z"
   },
   {
    "duration": 16,
    "start_time": "2023-11-26T16:40:45.493Z"
   },
   {
    "duration": 921,
    "start_time": "2023-11-26T16:40:45.510Z"
   },
   {
    "duration": 24,
    "start_time": "2023-11-26T16:40:46.435Z"
   },
   {
    "duration": 7,
    "start_time": "2023-11-26T16:40:46.460Z"
   },
   {
    "duration": 4,
    "start_time": "2023-11-26T16:40:46.469Z"
   },
   {
    "duration": 16,
    "start_time": "2023-11-26T16:40:46.474Z"
   },
   {
    "duration": 24,
    "start_time": "2023-11-26T16:40:46.492Z"
   },
   {
    "duration": 9,
    "start_time": "2023-11-26T16:40:46.517Z"
   },
   {
    "duration": 21,
    "start_time": "2023-11-26T16:40:46.527Z"
   },
   {
    "duration": 13,
    "start_time": "2023-11-26T16:40:46.549Z"
   },
   {
    "duration": 52,
    "start_time": "2023-11-26T16:40:46.563Z"
   },
   {
    "duration": 10,
    "start_time": "2023-11-26T16:40:46.616Z"
   },
   {
    "duration": 11,
    "start_time": "2023-11-26T16:40:46.627Z"
   },
   {
    "duration": 8,
    "start_time": "2023-11-26T16:40:46.639Z"
   },
   {
    "duration": 8,
    "start_time": "2023-11-26T16:40:46.649Z"
   },
   {
    "duration": 7,
    "start_time": "2023-11-26T16:40:46.658Z"
   },
   {
    "duration": 17,
    "start_time": "2023-11-26T16:40:46.666Z"
   },
   {
    "duration": 39,
    "start_time": "2023-11-26T16:40:46.684Z"
   },
   {
    "duration": 1,
    "start_time": "2023-11-26T16:40:46.725Z"
   },
   {
    "duration": 512,
    "start_time": "2023-11-26T16:40:46.727Z"
   },
   {
    "duration": 1193,
    "start_time": "2023-11-26T16:40:47.240Z"
   },
   {
    "duration": 2,
    "start_time": "2023-11-26T16:40:48.435Z"
   },
   {
    "duration": 1030,
    "start_time": "2023-11-26T16:40:48.438Z"
   },
   {
    "duration": 352,
    "start_time": "2023-11-26T16:40:49.469Z"
   },
   {
    "duration": 422,
    "start_time": "2023-11-26T16:40:49.822Z"
   },
   {
    "duration": 2786,
    "start_time": "2023-11-26T16:40:50.245Z"
   },
   {
    "duration": 1172,
    "start_time": "2023-11-26T16:40:53.032Z"
   },
   {
    "duration": 13,
    "start_time": "2023-11-26T16:40:54.205Z"
   },
   {
    "duration": 5,
    "start_time": "2023-11-26T16:40:54.219Z"
   },
   {
    "duration": 14,
    "start_time": "2023-11-26T16:40:54.225Z"
   },
   {
    "duration": 167,
    "start_time": "2023-11-26T16:40:54.240Z"
   },
   {
    "duration": 16,
    "start_time": "2023-11-26T16:40:54.408Z"
   },
   {
    "duration": 5,
    "start_time": "2023-11-26T16:40:54.425Z"
   },
   {
    "duration": 154,
    "start_time": "2023-11-26T16:40:54.431Z"
   },
   {
    "duration": 7,
    "start_time": "2023-11-26T16:40:54.586Z"
   },
   {
    "duration": 5,
    "start_time": "2023-11-26T16:40:54.594Z"
   },
   {
    "duration": 18,
    "start_time": "2023-11-26T16:40:54.600Z"
   },
   {
    "duration": 5,
    "start_time": "2023-11-26T16:40:54.619Z"
   },
   {
    "duration": 293,
    "start_time": "2023-11-26T16:40:54.625Z"
   },
   {
    "duration": 7,
    "start_time": "2023-11-26T16:40:54.919Z"
   },
   {
    "duration": 7,
    "start_time": "2023-11-26T16:40:54.927Z"
   },
   {
    "duration": 5,
    "start_time": "2023-11-26T16:40:54.935Z"
   },
   {
    "duration": 170,
    "start_time": "2023-11-26T16:40:54.941Z"
   },
   {
    "duration": 5,
    "start_time": "2023-11-26T16:40:55.115Z"
   },
   {
    "duration": 6,
    "start_time": "2023-11-26T16:40:55.121Z"
   },
   {
    "duration": 8,
    "start_time": "2023-11-26T16:40:55.128Z"
   },
   {
    "duration": 9,
    "start_time": "2023-11-26T16:40:55.137Z"
   },
   {
    "duration": 3,
    "start_time": "2023-11-26T16:40:55.147Z"
   },
   {
    "duration": 190,
    "start_time": "2023-11-26T16:40:55.151Z"
   },
   {
    "duration": 9,
    "start_time": "2023-11-26T16:40:55.342Z"
   },
   {
    "duration": 4,
    "start_time": "2023-11-26T16:40:55.353Z"
   },
   {
    "duration": 23,
    "start_time": "2023-11-26T16:40:55.359Z"
   },
   {
    "duration": 874,
    "start_time": "2023-11-26T16:40:55.383Z"
   },
   {
    "duration": 325,
    "start_time": "2023-11-26T16:40:56.258Z"
   },
   {
    "duration": 448,
    "start_time": "2023-11-26T16:40:56.584Z"
   },
   {
    "duration": 6,
    "start_time": "2023-11-26T16:40:57.033Z"
   },
   {
    "duration": 5,
    "start_time": "2023-11-26T16:40:57.043Z"
   },
   {
    "duration": 5,
    "start_time": "2023-11-26T16:40:57.049Z"
   },
   {
    "duration": 4,
    "start_time": "2023-11-26T16:40:57.054Z"
   },
   {
    "duration": 15,
    "start_time": "2023-11-26T16:40:57.059Z"
   },
   {
    "duration": 8,
    "start_time": "2023-11-26T16:40:57.075Z"
   },
   {
    "duration": 12,
    "start_time": "2023-11-26T16:40:57.084Z"
   },
   {
    "duration": 345,
    "start_time": "2023-11-26T16:41:30.813Z"
   },
   {
    "duration": 417,
    "start_time": "2023-11-26T16:41:45.367Z"
   },
   {
    "duration": 1125,
    "start_time": "2023-11-26T16:42:49.893Z"
   },
   {
    "duration": 462,
    "start_time": "2023-11-26T16:43:28.420Z"
   },
   {
    "duration": 1260,
    "start_time": "2023-11-26T16:44:40.807Z"
   },
   {
    "duration": 35,
    "start_time": "2023-11-26T16:44:42.069Z"
   },
   {
    "duration": 12,
    "start_time": "2023-11-26T16:44:42.106Z"
   },
   {
    "duration": 2,
    "start_time": "2023-11-26T16:44:42.120Z"
   },
   {
    "duration": 4,
    "start_time": "2023-11-26T16:44:42.123Z"
   },
   {
    "duration": 10,
    "start_time": "2023-11-26T16:44:42.128Z"
   },
   {
    "duration": 5,
    "start_time": "2023-11-26T16:44:42.139Z"
   },
   {
    "duration": 327,
    "start_time": "2023-11-26T16:44:42.145Z"
   },
   {
    "duration": 7,
    "start_time": "2023-11-26T16:44:42.473Z"
   },
   {
    "duration": 4,
    "start_time": "2023-11-26T16:44:42.482Z"
   },
   {
    "duration": 10,
    "start_time": "2023-11-26T16:44:42.487Z"
   },
   {
    "duration": 18,
    "start_time": "2023-11-26T16:44:42.498Z"
   },
   {
    "duration": 53,
    "start_time": "2023-11-26T16:44:42.517Z"
   },
   {
    "duration": 5,
    "start_time": "2023-11-26T16:44:42.571Z"
   },
   {
    "duration": 4,
    "start_time": "2023-11-26T16:44:42.577Z"
   },
   {
    "duration": 7,
    "start_time": "2023-11-26T16:44:42.582Z"
   },
   {
    "duration": 2,
    "start_time": "2023-11-26T16:44:42.591Z"
   },
   {
    "duration": 22,
    "start_time": "2023-11-26T16:44:42.594Z"
   },
   {
    "duration": 15,
    "start_time": "2023-11-26T16:44:42.617Z"
   },
   {
    "duration": 14,
    "start_time": "2023-11-26T16:44:42.633Z"
   },
   {
    "duration": 4,
    "start_time": "2023-11-26T16:44:42.649Z"
   },
   {
    "duration": 6,
    "start_time": "2023-11-26T16:44:42.654Z"
   },
   {
    "duration": 8,
    "start_time": "2023-11-26T16:44:42.661Z"
   },
   {
    "duration": 13,
    "start_time": "2023-11-26T16:44:42.670Z"
   },
   {
    "duration": 9,
    "start_time": "2023-11-26T16:44:42.684Z"
   },
   {
    "duration": 8,
    "start_time": "2023-11-26T16:44:42.694Z"
   },
   {
    "duration": 933,
    "start_time": "2023-11-26T16:44:42.703Z"
   },
   {
    "duration": 25,
    "start_time": "2023-11-26T16:44:43.640Z"
   },
   {
    "duration": 8,
    "start_time": "2023-11-26T16:44:43.666Z"
   },
   {
    "duration": 3,
    "start_time": "2023-11-26T16:44:43.676Z"
   },
   {
    "duration": 9,
    "start_time": "2023-11-26T16:44:43.680Z"
   },
   {
    "duration": 11,
    "start_time": "2023-11-26T16:44:43.716Z"
   },
   {
    "duration": 10,
    "start_time": "2023-11-26T16:44:43.728Z"
   },
   {
    "duration": 22,
    "start_time": "2023-11-26T16:44:43.739Z"
   },
   {
    "duration": 13,
    "start_time": "2023-11-26T16:44:43.762Z"
   },
   {
    "duration": 50,
    "start_time": "2023-11-26T16:44:43.776Z"
   },
   {
    "duration": 11,
    "start_time": "2023-11-26T16:44:43.827Z"
   },
   {
    "duration": 9,
    "start_time": "2023-11-26T16:44:43.839Z"
   },
   {
    "duration": 9,
    "start_time": "2023-11-26T16:44:43.849Z"
   },
   {
    "duration": 9,
    "start_time": "2023-11-26T16:44:43.859Z"
   },
   {
    "duration": 8,
    "start_time": "2023-11-26T16:44:43.869Z"
   },
   {
    "duration": 39,
    "start_time": "2023-11-26T16:44:43.878Z"
   },
   {
    "duration": 21,
    "start_time": "2023-11-26T16:44:43.918Z"
   },
   {
    "duration": 2,
    "start_time": "2023-11-26T16:44:43.940Z"
   },
   {
    "duration": 530,
    "start_time": "2023-11-26T16:44:43.943Z"
   },
   {
    "duration": 1219,
    "start_time": "2023-11-26T16:44:44.474Z"
   },
   {
    "duration": 2,
    "start_time": "2023-11-26T16:44:45.694Z"
   },
   {
    "duration": 1018,
    "start_time": "2023-11-26T16:44:45.698Z"
   },
   {
    "duration": 349,
    "start_time": "2023-11-26T16:44:46.717Z"
   },
   {
    "duration": 423,
    "start_time": "2023-11-26T16:44:47.068Z"
   },
   {
    "duration": 2288,
    "start_time": "2023-11-26T16:44:47.492Z"
   },
   {
    "duration": 1130,
    "start_time": "2023-11-26T16:44:49.781Z"
   },
   {
    "duration": 6,
    "start_time": "2023-11-26T16:44:50.912Z"
   },
   {
    "duration": 18,
    "start_time": "2023-11-26T16:44:50.919Z"
   },
   {
    "duration": 5,
    "start_time": "2023-11-26T16:44:50.939Z"
   },
   {
    "duration": 170,
    "start_time": "2023-11-26T16:44:50.945Z"
   },
   {
    "duration": 12,
    "start_time": "2023-11-26T16:44:51.116Z"
   },
   {
    "duration": 10,
    "start_time": "2023-11-26T16:44:51.129Z"
   },
   {
    "duration": 158,
    "start_time": "2023-11-26T16:44:51.140Z"
   },
   {
    "duration": 6,
    "start_time": "2023-11-26T16:44:51.299Z"
   },
   {
    "duration": 12,
    "start_time": "2023-11-26T16:44:51.306Z"
   },
   {
    "duration": 6,
    "start_time": "2023-11-26T16:44:51.320Z"
   },
   {
    "duration": 6,
    "start_time": "2023-11-26T16:44:51.328Z"
   },
   {
    "duration": 261,
    "start_time": "2023-11-26T16:44:51.335Z"
   },
   {
    "duration": 6,
    "start_time": "2023-11-26T16:44:51.598Z"
   },
   {
    "duration": 14,
    "start_time": "2023-11-26T16:44:51.605Z"
   },
   {
    "duration": 5,
    "start_time": "2023-11-26T16:44:51.620Z"
   },
   {
    "duration": 159,
    "start_time": "2023-11-26T16:44:51.626Z"
   },
   {
    "duration": 6,
    "start_time": "2023-11-26T16:44:51.786Z"
   },
   {
    "duration": 7,
    "start_time": "2023-11-26T16:44:51.793Z"
   },
   {
    "duration": 18,
    "start_time": "2023-11-26T16:44:51.801Z"
   },
   {
    "duration": 18,
    "start_time": "2023-11-26T16:44:51.820Z"
   },
   {
    "duration": 5,
    "start_time": "2023-11-26T16:44:51.839Z"
   },
   {
    "duration": 167,
    "start_time": "2023-11-26T16:44:51.846Z"
   },
   {
    "duration": 10,
    "start_time": "2023-11-26T16:44:52.015Z"
   },
   {
    "duration": 7,
    "start_time": "2023-11-26T16:44:52.026Z"
   },
   {
    "duration": 25,
    "start_time": "2023-11-26T16:44:52.034Z"
   },
   {
    "duration": 800,
    "start_time": "2023-11-26T16:44:52.061Z"
   },
   {
    "duration": 487,
    "start_time": "2023-11-26T16:44:52.863Z"
   },
   {
    "duration": 6,
    "start_time": "2023-11-26T16:44:53.351Z"
   },
   {
    "duration": 8,
    "start_time": "2023-11-26T16:44:53.358Z"
   },
   {
    "duration": 4,
    "start_time": "2023-11-26T16:44:53.370Z"
   },
   {
    "duration": 3,
    "start_time": "2023-11-26T16:44:53.375Z"
   },
   {
    "duration": 17,
    "start_time": "2023-11-26T16:44:53.379Z"
   },
   {
    "duration": 43,
    "start_time": "2023-11-26T16:44:53.397Z"
   },
   {
    "duration": 19,
    "start_time": "2023-11-26T16:44:53.441Z"
   },
   {
    "duration": 1158,
    "start_time": "2023-11-26T17:16:27.603Z"
   },
   {
    "duration": 36,
    "start_time": "2023-11-26T17:16:28.763Z"
   },
   {
    "duration": 13,
    "start_time": "2023-11-26T17:16:28.800Z"
   },
   {
    "duration": 2,
    "start_time": "2023-11-26T17:16:28.814Z"
   },
   {
    "duration": 18,
    "start_time": "2023-11-26T17:16:28.817Z"
   },
   {
    "duration": 10,
    "start_time": "2023-11-26T17:16:28.836Z"
   },
   {
    "duration": 5,
    "start_time": "2023-11-26T17:16:28.847Z"
   },
   {
    "duration": 348,
    "start_time": "2023-11-26T17:16:28.853Z"
   },
   {
    "duration": 14,
    "start_time": "2023-11-26T17:16:29.202Z"
   },
   {
    "duration": 4,
    "start_time": "2023-11-26T17:16:29.218Z"
   },
   {
    "duration": 7,
    "start_time": "2023-11-26T17:16:29.224Z"
   },
   {
    "duration": 3,
    "start_time": "2023-11-26T17:16:29.232Z"
   },
   {
    "duration": 65,
    "start_time": "2023-11-26T17:16:29.236Z"
   },
   {
    "duration": 14,
    "start_time": "2023-11-26T17:16:29.302Z"
   },
   {
    "duration": 5,
    "start_time": "2023-11-26T17:16:29.317Z"
   },
   {
    "duration": 8,
    "start_time": "2023-11-26T17:16:29.323Z"
   },
   {
    "duration": 3,
    "start_time": "2023-11-26T17:16:29.333Z"
   },
   {
    "duration": 5,
    "start_time": "2023-11-26T17:16:29.337Z"
   },
   {
    "duration": 15,
    "start_time": "2023-11-26T17:16:29.344Z"
   },
   {
    "duration": 15,
    "start_time": "2023-11-26T17:16:29.361Z"
   },
   {
    "duration": 40,
    "start_time": "2023-11-26T17:16:29.377Z"
   },
   {
    "duration": 6,
    "start_time": "2023-11-26T17:16:29.419Z"
   },
   {
    "duration": 5,
    "start_time": "2023-11-26T17:16:29.427Z"
   },
   {
    "duration": 4,
    "start_time": "2023-11-26T17:16:29.433Z"
   },
   {
    "duration": 4,
    "start_time": "2023-11-26T17:16:29.438Z"
   },
   {
    "duration": 4,
    "start_time": "2023-11-26T17:16:29.443Z"
   },
   {
    "duration": 974,
    "start_time": "2023-11-26T17:16:29.448Z"
   },
   {
    "duration": 27,
    "start_time": "2023-11-26T17:16:30.426Z"
   },
   {
    "duration": 7,
    "start_time": "2023-11-26T17:16:30.454Z"
   },
   {
    "duration": 37,
    "start_time": "2023-11-26T17:16:30.462Z"
   },
   {
    "duration": 23,
    "start_time": "2023-11-26T17:16:30.500Z"
   },
   {
    "duration": 22,
    "start_time": "2023-11-26T17:16:30.524Z"
   },
   {
    "duration": 21,
    "start_time": "2023-11-26T17:16:30.547Z"
   },
   {
    "duration": 36,
    "start_time": "2023-11-26T17:16:30.569Z"
   },
   {
    "duration": 13,
    "start_time": "2023-11-26T17:16:30.607Z"
   },
   {
    "duration": 48,
    "start_time": "2023-11-26T17:16:30.622Z"
   },
   {
    "duration": 33,
    "start_time": "2023-11-26T17:16:30.671Z"
   },
   {
    "duration": 27,
    "start_time": "2023-11-26T17:16:30.705Z"
   },
   {
    "duration": 57,
    "start_time": "2023-11-26T17:16:30.734Z"
   },
   {
    "duration": 32,
    "start_time": "2023-11-26T17:16:30.792Z"
   },
   {
    "duration": 27,
    "start_time": "2023-11-26T17:16:30.825Z"
   },
   {
    "duration": 51,
    "start_time": "2023-11-26T17:16:30.854Z"
   },
   {
    "duration": 18,
    "start_time": "2023-11-26T17:16:30.906Z"
   },
   {
    "duration": 44,
    "start_time": "2023-11-26T17:16:30.925Z"
   },
   {
    "duration": 525,
    "start_time": "2023-11-26T17:16:30.970Z"
   },
   {
    "duration": 1217,
    "start_time": "2023-11-26T17:16:31.496Z"
   },
   {
    "duration": 2,
    "start_time": "2023-11-26T17:16:32.715Z"
   },
   {
    "duration": 1048,
    "start_time": "2023-11-26T17:16:32.718Z"
   },
   {
    "duration": 350,
    "start_time": "2023-11-26T17:16:33.767Z"
   },
   {
    "duration": 414,
    "start_time": "2023-11-26T17:16:34.119Z"
   },
   {
    "duration": 2352,
    "start_time": "2023-11-26T17:16:34.535Z"
   },
   {
    "duration": 1100,
    "start_time": "2023-11-26T17:16:36.888Z"
   },
   {
    "duration": 6,
    "start_time": "2023-11-26T17:16:37.989Z"
   },
   {
    "duration": 6,
    "start_time": "2023-11-26T17:16:37.996Z"
   },
   {
    "duration": 5,
    "start_time": "2023-11-26T17:16:38.014Z"
   },
   {
    "duration": 170,
    "start_time": "2023-11-26T17:16:38.021Z"
   },
   {
    "duration": 12,
    "start_time": "2023-11-26T17:16:38.192Z"
   },
   {
    "duration": 11,
    "start_time": "2023-11-26T17:16:38.205Z"
   },
   {
    "duration": 153,
    "start_time": "2023-11-26T17:16:38.217Z"
   },
   {
    "duration": 6,
    "start_time": "2023-11-26T17:16:38.371Z"
   },
   {
    "duration": 31,
    "start_time": "2023-11-26T17:16:38.378Z"
   },
   {
    "duration": 15,
    "start_time": "2023-11-26T17:16:38.410Z"
   },
   {
    "duration": 10,
    "start_time": "2023-11-26T17:16:38.426Z"
   },
   {
    "duration": 253,
    "start_time": "2023-11-26T17:16:38.437Z"
   },
   {
    "duration": 6,
    "start_time": "2023-11-26T17:16:38.691Z"
   },
   {
    "duration": 6,
    "start_time": "2023-11-26T17:16:38.698Z"
   },
   {
    "duration": 13,
    "start_time": "2023-11-26T17:16:38.705Z"
   },
   {
    "duration": 159,
    "start_time": "2023-11-26T17:16:38.720Z"
   },
   {
    "duration": 6,
    "start_time": "2023-11-26T17:16:38.881Z"
   },
   {
    "duration": 5,
    "start_time": "2023-11-26T17:16:38.888Z"
   },
   {
    "duration": 22,
    "start_time": "2023-11-26T17:16:38.894Z"
   },
   {
    "duration": 9,
    "start_time": "2023-11-26T17:16:38.917Z"
   },
   {
    "duration": 4,
    "start_time": "2023-11-26T17:16:38.927Z"
   },
   {
    "duration": 176,
    "start_time": "2023-11-26T17:16:38.932Z"
   },
   {
    "duration": 13,
    "start_time": "2023-11-26T17:16:39.110Z"
   },
   {
    "duration": 3,
    "start_time": "2023-11-26T17:16:39.124Z"
   },
   {
    "duration": 24,
    "start_time": "2023-11-26T17:16:39.128Z"
   },
   {
    "duration": 810,
    "start_time": "2023-11-26T17:16:39.153Z"
   },
   {
    "duration": 495,
    "start_time": "2023-11-26T17:16:39.964Z"
   },
   {
    "duration": 5,
    "start_time": "2023-11-26T17:16:40.460Z"
   },
   {
    "duration": 11,
    "start_time": "2023-11-26T17:16:40.466Z"
   },
   {
    "duration": 5,
    "start_time": "2023-11-26T17:16:40.481Z"
   },
   {
    "duration": 4,
    "start_time": "2023-11-26T17:16:40.486Z"
   },
   {
    "duration": 9,
    "start_time": "2023-11-26T17:16:40.491Z"
   },
   {
    "duration": 15,
    "start_time": "2023-11-26T17:16:40.501Z"
   },
   {
    "duration": 5,
    "start_time": "2023-11-26T17:16:40.517Z"
   },
   {
    "duration": 4,
    "start_time": "2023-11-26T17:22:59.412Z"
   },
   {
    "duration": 4,
    "start_time": "2023-11-26T17:23:12.772Z"
   },
   {
    "duration": 4,
    "start_time": "2023-11-26T17:23:13.111Z"
   },
   {
    "duration": 4,
    "start_time": "2023-11-26T17:23:40.842Z"
   },
   {
    "duration": 4,
    "start_time": "2023-11-26T17:24:04.102Z"
   },
   {
    "duration": 4,
    "start_time": "2023-11-26T17:24:08.715Z"
   },
   {
    "duration": 3,
    "start_time": "2023-11-26T17:25:49.579Z"
   },
   {
    "duration": 2,
    "start_time": "2023-11-26T17:26:05.558Z"
   },
   {
    "duration": 3,
    "start_time": "2023-11-26T17:26:17.221Z"
   },
   {
    "duration": 18,
    "start_time": "2023-11-26T17:26:21.620Z"
   },
   {
    "duration": 1307,
    "start_time": "2023-11-26T17:26:39.960Z"
   },
   {
    "duration": 147,
    "start_time": "2023-11-26T17:26:50.486Z"
   },
   {
    "duration": 1163,
    "start_time": "2023-11-26T17:27:58.997Z"
   },
   {
    "duration": 37,
    "start_time": "2023-11-26T17:28:00.162Z"
   },
   {
    "duration": 12,
    "start_time": "2023-11-26T17:28:00.200Z"
   },
   {
    "duration": 23,
    "start_time": "2023-11-26T17:28:00.214Z"
   },
   {
    "duration": 23,
    "start_time": "2023-11-26T17:28:00.239Z"
   },
   {
    "duration": 30,
    "start_time": "2023-11-26T17:28:00.263Z"
   },
   {
    "duration": 39,
    "start_time": "2023-11-26T17:28:00.295Z"
   },
   {
    "duration": 336,
    "start_time": "2023-11-26T17:28:00.335Z"
   },
   {
    "duration": 6,
    "start_time": "2023-11-26T17:28:00.673Z"
   },
   {
    "duration": 15,
    "start_time": "2023-11-26T17:28:00.681Z"
   },
   {
    "duration": 22,
    "start_time": "2023-11-26T17:28:00.697Z"
   },
   {
    "duration": 15,
    "start_time": "2023-11-26T17:28:00.720Z"
   },
   {
    "duration": 63,
    "start_time": "2023-11-26T17:28:00.736Z"
   },
   {
    "duration": 5,
    "start_time": "2023-11-26T17:28:00.801Z"
   },
   {
    "duration": 28,
    "start_time": "2023-11-26T17:28:00.807Z"
   },
   {
    "duration": 26,
    "start_time": "2023-11-26T17:28:00.836Z"
   },
   {
    "duration": 12,
    "start_time": "2023-11-26T17:28:00.863Z"
   },
   {
    "duration": 31,
    "start_time": "2023-11-26T17:28:00.876Z"
   },
   {
    "duration": 42,
    "start_time": "2023-11-26T17:28:00.908Z"
   },
   {
    "duration": 28,
    "start_time": "2023-11-26T17:28:00.951Z"
   },
   {
    "duration": 11,
    "start_time": "2023-11-26T17:28:00.980Z"
   },
   {
    "duration": 37,
    "start_time": "2023-11-26T17:28:00.992Z"
   },
   {
    "duration": 31,
    "start_time": "2023-11-26T17:28:01.030Z"
   },
   {
    "duration": 23,
    "start_time": "2023-11-26T17:28:01.062Z"
   },
   {
    "duration": 19,
    "start_time": "2023-11-26T17:28:01.086Z"
   },
   {
    "duration": 13,
    "start_time": "2023-11-26T17:28:01.106Z"
   },
   {
    "duration": 944,
    "start_time": "2023-11-26T17:28:01.120Z"
   },
   {
    "duration": 24,
    "start_time": "2023-11-26T17:28:02.067Z"
   },
   {
    "duration": 7,
    "start_time": "2023-11-26T17:28:02.093Z"
   },
   {
    "duration": 3,
    "start_time": "2023-11-26T17:28:02.115Z"
   },
   {
    "duration": 11,
    "start_time": "2023-11-26T17:28:02.119Z"
   },
   {
    "duration": 12,
    "start_time": "2023-11-26T17:28:02.131Z"
   },
   {
    "duration": 15,
    "start_time": "2023-11-26T17:28:02.144Z"
   },
   {
    "duration": 22,
    "start_time": "2023-11-26T17:28:02.160Z"
   },
   {
    "duration": 32,
    "start_time": "2023-11-26T17:28:02.183Z"
   },
   {
    "duration": 32,
    "start_time": "2023-11-26T17:28:02.216Z"
   },
   {
    "duration": 10,
    "start_time": "2023-11-26T17:28:02.249Z"
   },
   {
    "duration": 13,
    "start_time": "2023-11-26T17:28:02.261Z"
   },
   {
    "duration": 9,
    "start_time": "2023-11-26T17:28:02.275Z"
   },
   {
    "duration": 11,
    "start_time": "2023-11-26T17:28:02.285Z"
   },
   {
    "duration": 19,
    "start_time": "2023-11-26T17:28:02.297Z"
   },
   {
    "duration": 18,
    "start_time": "2023-11-26T17:28:02.317Z"
   },
   {
    "duration": 18,
    "start_time": "2023-11-26T17:28:02.336Z"
   },
   {
    "duration": 2,
    "start_time": "2023-11-26T17:28:02.355Z"
   },
   {
    "duration": 530,
    "start_time": "2023-11-26T17:28:02.358Z"
   },
   {
    "duration": 1213,
    "start_time": "2023-11-26T17:28:02.889Z"
   },
   {
    "duration": 2,
    "start_time": "2023-11-26T17:28:04.103Z"
   },
   {
    "duration": 1035,
    "start_time": "2023-11-26T17:28:04.106Z"
   },
   {
    "duration": 332,
    "start_time": "2023-11-26T17:28:05.143Z"
   },
   {
    "duration": 434,
    "start_time": "2023-11-26T17:28:05.477Z"
   },
   {
    "duration": 2370,
    "start_time": "2023-11-26T17:28:05.912Z"
   },
   {
    "duration": 1101,
    "start_time": "2023-11-26T17:28:08.283Z"
   },
   {
    "duration": 6,
    "start_time": "2023-11-26T17:28:09.385Z"
   },
   {
    "duration": 6,
    "start_time": "2023-11-26T17:28:09.392Z"
   },
   {
    "duration": 19,
    "start_time": "2023-11-26T17:28:09.399Z"
   },
   {
    "duration": 175,
    "start_time": "2023-11-26T17:28:09.419Z"
   },
   {
    "duration": 12,
    "start_time": "2023-11-26T17:28:09.595Z"
   },
   {
    "duration": 6,
    "start_time": "2023-11-26T17:28:09.615Z"
   },
   {
    "duration": 155,
    "start_time": "2023-11-26T17:28:09.623Z"
   },
   {
    "duration": 6,
    "start_time": "2023-11-26T17:28:09.780Z"
   },
   {
    "duration": 9,
    "start_time": "2023-11-26T17:28:09.787Z"
   },
   {
    "duration": 7,
    "start_time": "2023-11-26T17:28:09.797Z"
   },
   {
    "duration": 5,
    "start_time": "2023-11-26T17:28:09.814Z"
   },
   {
    "duration": 257,
    "start_time": "2023-11-26T17:28:09.821Z"
   },
   {
    "duration": 6,
    "start_time": "2023-11-26T17:28:10.079Z"
   },
   {
    "duration": 10,
    "start_time": "2023-11-26T17:28:10.086Z"
   },
   {
    "duration": 6,
    "start_time": "2023-11-26T17:28:10.097Z"
   },
   {
    "duration": 162,
    "start_time": "2023-11-26T17:28:10.105Z"
   },
   {
    "duration": 6,
    "start_time": "2023-11-26T17:28:10.269Z"
   },
   {
    "duration": 5,
    "start_time": "2023-11-26T17:28:10.276Z"
   },
   {
    "duration": 9,
    "start_time": "2023-11-26T17:28:10.283Z"
   },
   {
    "duration": 9,
    "start_time": "2023-11-26T17:28:10.315Z"
   },
   {
    "duration": 3,
    "start_time": "2023-11-26T17:28:10.325Z"
   },
   {
    "duration": 201,
    "start_time": "2023-11-26T17:28:10.330Z"
   },
   {
    "duration": 834,
    "start_time": "2023-11-26T17:28:10.533Z"
   },
   {
    "duration": 6,
    "start_time": "2023-11-26T17:28:11.368Z"
   },
   {
    "duration": 4,
    "start_time": "2023-11-26T17:28:11.375Z"
   },
   {
    "duration": 5,
    "start_time": "2023-11-26T17:28:11.380Z"
   },
   {
    "duration": 4,
    "start_time": "2023-11-26T17:28:11.386Z"
   },
   {
    "duration": 1193,
    "start_time": "2023-11-26T17:41:36.523Z"
   },
   {
    "duration": 36,
    "start_time": "2023-11-26T17:41:37.717Z"
   },
   {
    "duration": 12,
    "start_time": "2023-11-26T17:41:37.754Z"
   },
   {
    "duration": 2,
    "start_time": "2023-11-26T17:41:37.767Z"
   },
   {
    "duration": 3,
    "start_time": "2023-11-26T17:41:37.770Z"
   },
   {
    "duration": 11,
    "start_time": "2023-11-26T17:41:37.774Z"
   },
   {
    "duration": 5,
    "start_time": "2023-11-26T17:41:37.786Z"
   },
   {
    "duration": 362,
    "start_time": "2023-11-26T17:41:37.792Z"
   },
   {
    "duration": 7,
    "start_time": "2023-11-26T17:41:38.156Z"
   },
   {
    "duration": 8,
    "start_time": "2023-11-26T17:41:38.166Z"
   },
   {
    "duration": 6,
    "start_time": "2023-11-26T17:41:38.176Z"
   },
   {
    "duration": 2,
    "start_time": "2023-11-26T17:41:38.183Z"
   },
   {
    "duration": 68,
    "start_time": "2023-11-26T17:41:38.186Z"
   },
   {
    "duration": 4,
    "start_time": "2023-11-26T17:41:38.255Z"
   },
   {
    "duration": 5,
    "start_time": "2023-11-26T17:41:38.260Z"
   },
   {
    "duration": 7,
    "start_time": "2023-11-26T17:41:38.266Z"
   },
   {
    "duration": 3,
    "start_time": "2023-11-26T17:41:38.274Z"
   },
   {
    "duration": 5,
    "start_time": "2023-11-26T17:41:38.278Z"
   },
   {
    "duration": 41,
    "start_time": "2023-11-26T17:41:38.284Z"
   },
   {
    "duration": 14,
    "start_time": "2023-11-26T17:41:38.326Z"
   },
   {
    "duration": 3,
    "start_time": "2023-11-26T17:41:38.341Z"
   },
   {
    "duration": 5,
    "start_time": "2023-11-26T17:41:38.345Z"
   },
   {
    "duration": 15,
    "start_time": "2023-11-26T17:41:38.351Z"
   },
   {
    "duration": 6,
    "start_time": "2023-11-26T17:41:38.367Z"
   },
   {
    "duration": 5,
    "start_time": "2023-11-26T17:41:38.374Z"
   },
   {
    "duration": 5,
    "start_time": "2023-11-26T17:41:38.380Z"
   },
   {
    "duration": 938,
    "start_time": "2023-11-26T17:41:38.386Z"
   },
   {
    "duration": 24,
    "start_time": "2023-11-26T17:41:39.328Z"
   },
   {
    "duration": 7,
    "start_time": "2023-11-26T17:41:39.353Z"
   },
   {
    "duration": 3,
    "start_time": "2023-11-26T17:41:39.361Z"
   },
   {
    "duration": 9,
    "start_time": "2023-11-26T17:41:39.365Z"
   },
   {
    "duration": 12,
    "start_time": "2023-11-26T17:41:39.375Z"
   },
   {
    "duration": 31,
    "start_time": "2023-11-26T17:41:39.388Z"
   },
   {
    "duration": 29,
    "start_time": "2023-11-26T17:41:39.420Z"
   },
   {
    "duration": 12,
    "start_time": "2023-11-26T17:41:39.450Z"
   },
   {
    "duration": 34,
    "start_time": "2023-11-26T17:41:39.463Z"
   },
   {
    "duration": 10,
    "start_time": "2023-11-26T17:41:39.514Z"
   },
   {
    "duration": 7,
    "start_time": "2023-11-26T17:41:39.526Z"
   },
   {
    "duration": 9,
    "start_time": "2023-11-26T17:41:39.534Z"
   },
   {
    "duration": 9,
    "start_time": "2023-11-26T17:41:39.544Z"
   },
   {
    "duration": 8,
    "start_time": "2023-11-26T17:41:39.555Z"
   },
   {
    "duration": 19,
    "start_time": "2023-11-26T17:41:39.564Z"
   },
   {
    "duration": 46,
    "start_time": "2023-11-26T17:41:39.584Z"
   },
   {
    "duration": 2,
    "start_time": "2023-11-26T17:41:39.632Z"
   },
   {
    "duration": 525,
    "start_time": "2023-11-26T17:41:39.636Z"
   },
   {
    "duration": 1214,
    "start_time": "2023-11-26T17:41:40.163Z"
   },
   {
    "duration": 2,
    "start_time": "2023-11-26T17:41:41.379Z"
   },
   {
    "duration": 1040,
    "start_time": "2023-11-26T17:41:41.383Z"
   },
   {
    "duration": 341,
    "start_time": "2023-11-26T17:41:42.424Z"
   },
   {
    "duration": 422,
    "start_time": "2023-11-26T17:41:42.767Z"
   },
   {
    "duration": 2310,
    "start_time": "2023-11-26T17:41:43.190Z"
   },
   {
    "duration": 1089,
    "start_time": "2023-11-26T17:41:45.501Z"
   },
   {
    "duration": 6,
    "start_time": "2023-11-26T17:41:46.591Z"
   },
   {
    "duration": 17,
    "start_time": "2023-11-26T17:41:46.598Z"
   },
   {
    "duration": 6,
    "start_time": "2023-11-26T17:41:46.616Z"
   },
   {
    "duration": 174,
    "start_time": "2023-11-26T17:41:46.623Z"
   },
   {
    "duration": 11,
    "start_time": "2023-11-26T17:41:46.798Z"
   },
   {
    "duration": 5,
    "start_time": "2023-11-26T17:41:46.815Z"
   },
   {
    "duration": 154,
    "start_time": "2023-11-26T17:41:46.821Z"
   },
   {
    "duration": 7,
    "start_time": "2023-11-26T17:41:46.976Z"
   },
   {
    "duration": 6,
    "start_time": "2023-11-26T17:41:46.984Z"
   },
   {
    "duration": 8,
    "start_time": "2023-11-26T17:41:46.991Z"
   },
   {
    "duration": 19,
    "start_time": "2023-11-26T17:41:47.000Z"
   },
   {
    "duration": 258,
    "start_time": "2023-11-26T17:41:47.020Z"
   },
   {
    "duration": 6,
    "start_time": "2023-11-26T17:41:47.279Z"
   },
   {
    "duration": 8,
    "start_time": "2023-11-26T17:41:47.286Z"
   },
   {
    "duration": 5,
    "start_time": "2023-11-26T17:41:47.295Z"
   },
   {
    "duration": 168,
    "start_time": "2023-11-26T17:41:47.301Z"
   },
   {
    "duration": 6,
    "start_time": "2023-11-26T17:41:47.470Z"
   },
   {
    "duration": 8,
    "start_time": "2023-11-26T17:41:47.477Z"
   },
   {
    "duration": 8,
    "start_time": "2023-11-26T17:41:47.486Z"
   },
   {
    "duration": 43,
    "start_time": "2023-11-26T17:41:47.495Z"
   },
   {
    "duration": 4,
    "start_time": "2023-11-26T17:41:47.539Z"
   },
   {
    "duration": 169,
    "start_time": "2023-11-26T17:41:47.544Z"
   },
   {
    "duration": 841,
    "start_time": "2023-11-26T17:41:47.715Z"
   },
   {
    "duration": 5,
    "start_time": "2023-11-26T17:41:48.557Z"
   },
   {
    "duration": 4,
    "start_time": "2023-11-26T17:41:48.563Z"
   },
   {
    "duration": 4,
    "start_time": "2023-11-26T17:41:48.568Z"
   },
   {
    "duration": 7,
    "start_time": "2023-11-26T17:41:48.573Z"
   },
   {
    "duration": 3,
    "start_time": "2023-11-26T18:01:22.936Z"
   },
   {
    "duration": 3,
    "start_time": "2023-11-26T18:01:32.641Z"
   },
   {
    "duration": 4,
    "start_time": "2023-11-26T18:01:37.245Z"
   },
   {
    "duration": 4,
    "start_time": "2023-11-26T18:01:45.362Z"
   },
   {
    "duration": 4,
    "start_time": "2023-11-26T18:01:51.065Z"
   },
   {
    "duration": 4,
    "start_time": "2023-11-26T18:02:15.451Z"
   },
   {
    "duration": 4,
    "start_time": "2023-11-26T18:02:21.660Z"
   },
   {
    "duration": 3,
    "start_time": "2023-11-26T18:04:21.789Z"
   },
   {
    "duration": 2,
    "start_time": "2023-11-26T18:04:31.819Z"
   },
   {
    "duration": 4,
    "start_time": "2023-11-26T18:04:35.872Z"
   },
   {
    "duration": 2,
    "start_time": "2023-11-26T18:04:45.385Z"
   },
   {
    "duration": 4,
    "start_time": "2023-11-26T18:04:49.433Z"
   },
   {
    "duration": 2,
    "start_time": "2023-11-26T18:04:59.062Z"
   },
   {
    "duration": 3,
    "start_time": "2023-11-26T18:05:07.346Z"
   },
   {
    "duration": 3,
    "start_time": "2023-11-26T18:06:00.957Z"
   },
   {
    "duration": 3,
    "start_time": "2023-11-26T18:06:01.365Z"
   },
   {
    "duration": 3,
    "start_time": "2023-11-26T18:06:46.369Z"
   },
   {
    "duration": 4,
    "start_time": "2023-11-26T18:06:47.726Z"
   },
   {
    "duration": 2,
    "start_time": "2023-11-26T18:07:04.126Z"
   },
   {
    "duration": 3,
    "start_time": "2023-11-26T18:07:04.532Z"
   },
   {
    "duration": 3,
    "start_time": "2023-11-26T18:08:56.164Z"
   },
   {
    "duration": 3,
    "start_time": "2023-11-26T18:08:57.353Z"
   },
   {
    "duration": 3,
    "start_time": "2023-11-26T18:09:01.218Z"
   },
   {
    "duration": 3,
    "start_time": "2023-11-26T18:09:54.685Z"
   },
   {
    "duration": 115,
    "start_time": "2023-11-26T18:11:51.475Z"
   },
   {
    "duration": 3,
    "start_time": "2023-11-26T18:12:57.535Z"
   },
   {
    "duration": 3,
    "start_time": "2023-11-26T18:13:05.297Z"
   },
   {
    "duration": 3,
    "start_time": "2023-11-26T18:13:09.683Z"
   },
   {
    "duration": 3,
    "start_time": "2023-11-26T18:14:21.918Z"
   },
   {
    "duration": 4,
    "start_time": "2023-11-26T18:14:22.417Z"
   },
   {
    "duration": 3,
    "start_time": "2023-11-26T18:14:25.647Z"
   },
   {
    "duration": 4,
    "start_time": "2023-11-26T18:14:26.118Z"
   },
   {
    "duration": 2,
    "start_time": "2023-11-26T18:14:28.900Z"
   },
   {
    "duration": 3,
    "start_time": "2023-11-26T18:14:29.259Z"
   },
   {
    "duration": 4,
    "start_time": "2023-11-26T18:14:30.374Z"
   },
   {
    "duration": 3,
    "start_time": "2023-11-26T18:14:31.356Z"
   },
   {
    "duration": 3,
    "start_time": "2023-11-26T18:14:31.686Z"
   },
   {
    "duration": 2,
    "start_time": "2023-11-26T18:14:35.349Z"
   },
   {
    "duration": 3,
    "start_time": "2023-11-26T18:14:36.019Z"
   },
   {
    "duration": 2,
    "start_time": "2023-11-26T18:14:36.534Z"
   },
   {
    "duration": 3,
    "start_time": "2023-11-26T18:14:37.054Z"
   },
   {
    "duration": 3,
    "start_time": "2023-11-26T18:14:37.569Z"
   },
   {
    "duration": 3,
    "start_time": "2023-11-26T18:14:38.234Z"
   },
   {
    "duration": 3,
    "start_time": "2023-11-26T18:14:38.654Z"
   },
   {
    "duration": 2,
    "start_time": "2023-11-26T18:14:39.547Z"
   },
   {
    "duration": 2,
    "start_time": "2023-11-26T18:14:42.197Z"
   },
   {
    "duration": 3,
    "start_time": "2023-11-26T18:14:42.707Z"
   },
   {
    "duration": 3,
    "start_time": "2023-11-26T18:14:44.062Z"
   },
   {
    "duration": 5,
    "start_time": "2023-11-26T18:16:02.374Z"
   },
   {
    "duration": 3,
    "start_time": "2023-11-26T18:16:08.452Z"
   },
   {
    "duration": 3,
    "start_time": "2023-11-26T18:16:08.787Z"
   },
   {
    "duration": 4,
    "start_time": "2023-11-26T18:16:10.198Z"
   },
   {
    "duration": 4,
    "start_time": "2023-11-26T18:16:10.601Z"
   },
   {
    "duration": 2,
    "start_time": "2023-11-26T18:16:11.437Z"
   },
   {
    "duration": 3,
    "start_time": "2023-11-26T18:16:11.754Z"
   },
   {
    "duration": 4,
    "start_time": "2023-11-26T18:16:12.828Z"
   },
   {
    "duration": 6,
    "start_time": "2023-11-26T18:16:12.833Z"
   },
   {
    "duration": 3,
    "start_time": "2023-11-26T18:16:13.711Z"
   },
   {
    "duration": 2,
    "start_time": "2023-11-26T18:16:14.379Z"
   },
   {
    "duration": 3,
    "start_time": "2023-11-26T18:16:15.025Z"
   },
   {
    "duration": 2,
    "start_time": "2023-11-26T18:16:15.755Z"
   },
   {
    "duration": 3,
    "start_time": "2023-11-26T18:16:16.073Z"
   },
   {
    "duration": 3,
    "start_time": "2023-11-26T18:16:16.525Z"
   },
   {
    "duration": 3,
    "start_time": "2023-11-26T18:16:16.883Z"
   },
   {
    "duration": 3,
    "start_time": "2023-11-26T18:16:17.187Z"
   },
   {
    "duration": 2,
    "start_time": "2023-11-26T18:16:17.668Z"
   },
   {
    "duration": 3,
    "start_time": "2023-11-26T18:16:18.128Z"
   },
   {
    "duration": 3,
    "start_time": "2023-11-26T18:16:19.497Z"
   },
   {
    "duration": 3,
    "start_time": "2023-11-26T18:16:20.598Z"
   },
   {
    "duration": 10,
    "start_time": "2023-11-26T18:17:31.384Z"
   },
   {
    "duration": 3,
    "start_time": "2023-11-26T18:17:52.619Z"
   },
   {
    "duration": 3,
    "start_time": "2023-11-26T18:17:52.917Z"
   },
   {
    "duration": 2,
    "start_time": "2023-11-26T18:17:53.295Z"
   },
   {
    "duration": 4,
    "start_time": "2023-11-26T18:24:48.978Z"
   },
   {
    "duration": 3,
    "start_time": "2023-11-26T18:24:50.703Z"
   },
   {
    "duration": 9,
    "start_time": "2023-11-26T18:25:16.598Z"
   },
   {
    "duration": 3,
    "start_time": "2023-11-26T18:25:25.011Z"
   },
   {
    "duration": 3,
    "start_time": "2023-11-26T18:25:25.878Z"
   },
   {
    "duration": 4,
    "start_time": "2023-11-26T18:25:36.531Z"
   },
   {
    "duration": 3,
    "start_time": "2023-11-26T18:25:37.380Z"
   },
   {
    "duration": 3,
    "start_time": "2023-11-26T18:25:49.734Z"
   },
   {
    "duration": 4,
    "start_time": "2023-11-26T18:25:50.142Z"
   },
   {
    "duration": 3,
    "start_time": "2023-11-26T18:25:56.766Z"
   },
   {
    "duration": 3,
    "start_time": "2023-11-26T18:25:59.490Z"
   },
   {
    "duration": 3,
    "start_time": "2023-11-26T18:26:00.259Z"
   },
   {
    "duration": 3,
    "start_time": "2023-11-26T18:26:00.563Z"
   },
   {
    "duration": 1272,
    "start_time": "2023-11-26T18:29:12.939Z"
   },
   {
    "duration": 37,
    "start_time": "2023-11-26T18:29:14.212Z"
   },
   {
    "duration": 12,
    "start_time": "2023-11-26T18:29:14.250Z"
   },
   {
    "duration": 2,
    "start_time": "2023-11-26T18:29:14.264Z"
   },
   {
    "duration": 3,
    "start_time": "2023-11-26T18:29:14.267Z"
   },
   {
    "duration": 11,
    "start_time": "2023-11-26T18:29:14.271Z"
   },
   {
    "duration": 5,
    "start_time": "2023-11-26T18:29:14.283Z"
   },
   {
    "duration": 379,
    "start_time": "2023-11-26T18:29:14.289Z"
   },
   {
    "duration": 8,
    "start_time": "2023-11-26T18:29:14.669Z"
   },
   {
    "duration": 4,
    "start_time": "2023-11-26T18:29:14.679Z"
   },
   {
    "duration": 9,
    "start_time": "2023-11-26T18:29:14.684Z"
   },
   {
    "duration": 3,
    "start_time": "2023-11-26T18:29:14.694Z"
   },
   {
    "duration": 59,
    "start_time": "2023-11-26T18:29:14.715Z"
   },
   {
    "duration": 6,
    "start_time": "2023-11-26T18:29:14.776Z"
   },
   {
    "duration": 5,
    "start_time": "2023-11-26T18:29:14.783Z"
   },
   {
    "duration": 27,
    "start_time": "2023-11-26T18:29:14.789Z"
   },
   {
    "duration": 4,
    "start_time": "2023-11-26T18:29:14.818Z"
   },
   {
    "duration": 16,
    "start_time": "2023-11-26T18:29:14.823Z"
   },
   {
    "duration": 15,
    "start_time": "2023-11-26T18:29:14.840Z"
   },
   {
    "duration": 13,
    "start_time": "2023-11-26T18:29:14.856Z"
   },
   {
    "duration": 3,
    "start_time": "2023-11-26T18:29:14.870Z"
   },
   {
    "duration": 7,
    "start_time": "2023-11-26T18:29:14.874Z"
   },
   {
    "duration": 5,
    "start_time": "2023-11-26T18:29:14.882Z"
   },
   {
    "duration": 32,
    "start_time": "2023-11-26T18:29:14.888Z"
   },
   {
    "duration": 6,
    "start_time": "2023-11-26T18:29:14.923Z"
   },
   {
    "duration": 6,
    "start_time": "2023-11-26T18:29:14.930Z"
   },
   {
    "duration": 1032,
    "start_time": "2023-11-26T18:29:14.937Z"
   },
   {
    "duration": 24,
    "start_time": "2023-11-26T18:29:15.973Z"
   },
   {
    "duration": 20,
    "start_time": "2023-11-26T18:29:15.998Z"
   },
   {
    "duration": 6,
    "start_time": "2023-11-26T18:29:16.020Z"
   },
   {
    "duration": 11,
    "start_time": "2023-11-26T18:29:16.028Z"
   },
   {
    "duration": 14,
    "start_time": "2023-11-26T18:29:16.040Z"
   },
   {
    "duration": 9,
    "start_time": "2023-11-26T18:29:16.055Z"
   },
   {
    "duration": 21,
    "start_time": "2023-11-26T18:29:16.065Z"
   },
   {
    "duration": 44,
    "start_time": "2023-11-26T18:29:16.088Z"
   },
   {
    "duration": 34,
    "start_time": "2023-11-26T18:29:16.134Z"
   },
   {
    "duration": 9,
    "start_time": "2023-11-26T18:29:16.170Z"
   },
   {
    "duration": 7,
    "start_time": "2023-11-26T18:29:16.181Z"
   },
   {
    "duration": 32,
    "start_time": "2023-11-26T18:29:16.189Z"
   },
   {
    "duration": 11,
    "start_time": "2023-11-26T18:29:16.222Z"
   },
   {
    "duration": 8,
    "start_time": "2023-11-26T18:29:16.234Z"
   },
   {
    "duration": 18,
    "start_time": "2023-11-26T18:29:16.243Z"
   },
   {
    "duration": 18,
    "start_time": "2023-11-26T18:29:16.262Z"
   },
   {
    "duration": 3,
    "start_time": "2023-11-26T18:29:16.281Z"
   },
   {
    "duration": 588,
    "start_time": "2023-11-26T18:29:16.285Z"
   },
   {
    "duration": 1507,
    "start_time": "2023-11-26T18:29:16.874Z"
   },
   {
    "duration": 2,
    "start_time": "2023-11-26T18:29:18.415Z"
   },
   {
    "duration": 1495,
    "start_time": "2023-11-26T18:29:18.418Z"
   },
   {
    "duration": 383,
    "start_time": "2023-11-26T18:29:19.914Z"
   },
   {
    "duration": 473,
    "start_time": "2023-11-26T18:29:20.298Z"
   },
   {
    "duration": 2488,
    "start_time": "2023-11-26T18:29:20.772Z"
   },
   {
    "duration": 1179,
    "start_time": "2023-11-26T18:29:23.261Z"
   },
   {
    "duration": 5,
    "start_time": "2023-11-26T18:29:24.442Z"
   },
   {
    "duration": 14,
    "start_time": "2023-11-26T18:29:24.449Z"
   },
   {
    "duration": 7,
    "start_time": "2023-11-26T18:29:24.464Z"
   },
   {
    "duration": 182,
    "start_time": "2023-11-26T18:29:24.472Z"
   },
   {
    "duration": 11,
    "start_time": "2023-11-26T18:29:24.655Z"
   },
   {
    "duration": 22,
    "start_time": "2023-11-26T18:29:24.667Z"
   },
   {
    "duration": 165,
    "start_time": "2023-11-26T18:29:24.690Z"
   },
   {
    "duration": 7,
    "start_time": "2023-11-26T18:29:24.856Z"
   },
   {
    "duration": 5,
    "start_time": "2023-11-26T18:29:24.864Z"
   },
   {
    "duration": 6,
    "start_time": "2023-11-26T18:29:24.870Z"
   },
   {
    "duration": 10,
    "start_time": "2023-11-26T18:29:24.877Z"
   },
   {
    "duration": 290,
    "start_time": "2023-11-26T18:29:24.889Z"
   },
   {
    "duration": 6,
    "start_time": "2023-11-26T18:29:25.180Z"
   },
   {
    "duration": 10,
    "start_time": "2023-11-26T18:29:25.187Z"
   },
   {
    "duration": 6,
    "start_time": "2023-11-26T18:29:25.198Z"
   },
   {
    "duration": 167,
    "start_time": "2023-11-26T18:29:25.219Z"
   },
   {
    "duration": 6,
    "start_time": "2023-11-26T18:29:25.388Z"
   },
   {
    "duration": 47,
    "start_time": "2023-11-26T18:29:25.395Z"
   },
   {
    "duration": 2,
    "start_time": "2023-11-26T18:29:25.444Z"
   },
   {
    "duration": 8,
    "start_time": "2023-11-26T18:29:25.447Z"
   },
   {
    "duration": 5,
    "start_time": "2023-11-26T18:29:25.456Z"
   },
   {
    "duration": 3,
    "start_time": "2023-11-26T18:29:25.462Z"
   },
   {
    "duration": 8,
    "start_time": "2023-11-26T18:29:25.466Z"
   },
   {
    "duration": 4,
    "start_time": "2023-11-26T18:29:25.475Z"
   },
   {
    "duration": 6,
    "start_time": "2023-11-26T18:29:25.480Z"
   },
   {
    "duration": 11,
    "start_time": "2023-11-26T18:29:25.487Z"
   },
   {
    "duration": 7,
    "start_time": "2023-11-26T18:29:25.499Z"
   },
   {
    "duration": 13,
    "start_time": "2023-11-26T18:29:25.507Z"
   },
   {
    "duration": 4,
    "start_time": "2023-11-26T18:29:25.523Z"
   },
   {
    "duration": 3,
    "start_time": "2023-11-26T18:29:25.534Z"
   },
   {
    "duration": 5,
    "start_time": "2023-11-26T18:29:25.538Z"
   },
   {
    "duration": 4,
    "start_time": "2023-11-26T18:29:25.544Z"
   },
   {
    "duration": 4,
    "start_time": "2023-11-26T18:29:25.549Z"
   },
   {
    "duration": 17,
    "start_time": "2023-11-26T18:29:25.554Z"
   },
   {
    "duration": 5,
    "start_time": "2023-11-26T18:29:25.572Z"
   },
   {
    "duration": 3,
    "start_time": "2023-11-26T18:29:25.578Z"
   },
   {
    "duration": 6,
    "start_time": "2023-11-26T18:29:25.582Z"
   },
   {
    "duration": 5,
    "start_time": "2023-11-26T18:29:25.589Z"
   },
   {
    "duration": 4,
    "start_time": "2023-11-26T18:29:25.595Z"
   },
   {
    "duration": 14,
    "start_time": "2023-11-26T18:29:25.601Z"
   },
   {
    "duration": 16,
    "start_time": "2023-11-26T18:29:25.617Z"
   },
   {
    "duration": 5,
    "start_time": "2023-11-26T18:29:25.634Z"
   },
   {
    "duration": 202,
    "start_time": "2023-11-26T18:29:25.640Z"
   },
   {
    "duration": 845,
    "start_time": "2023-11-26T18:29:25.843Z"
   },
   {
    "duration": 5,
    "start_time": "2023-11-26T18:29:26.690Z"
   },
   {
    "duration": 5,
    "start_time": "2023-11-26T18:29:26.696Z"
   },
   {
    "duration": 19,
    "start_time": "2023-11-26T18:29:26.702Z"
   },
   {
    "duration": 9,
    "start_time": "2023-11-26T18:29:26.723Z"
   },
   {
    "duration": 3,
    "start_time": "2023-11-26T18:30:57.607Z"
   },
   {
    "duration": 4,
    "start_time": "2023-11-26T18:30:57.981Z"
   },
   {
    "duration": 4,
    "start_time": "2023-11-26T18:31:11.126Z"
   },
   {
    "duration": 4,
    "start_time": "2023-11-26T18:31:11.888Z"
   },
   {
    "duration": 2,
    "start_time": "2023-11-26T18:32:16.774Z"
   },
   {
    "duration": 3,
    "start_time": "2023-11-26T18:32:17.414Z"
   },
   {
    "duration": 4,
    "start_time": "2023-11-26T18:32:20.288Z"
   },
   {
    "duration": 1152,
    "start_time": "2023-11-26T18:41:14.698Z"
   },
   {
    "duration": 36,
    "start_time": "2023-11-26T18:41:15.852Z"
   },
   {
    "duration": 12,
    "start_time": "2023-11-26T18:41:15.889Z"
   },
   {
    "duration": 1,
    "start_time": "2023-11-26T18:41:15.902Z"
   },
   {
    "duration": 3,
    "start_time": "2023-11-26T18:41:15.905Z"
   },
   {
    "duration": 11,
    "start_time": "2023-11-26T18:41:15.909Z"
   },
   {
    "duration": 4,
    "start_time": "2023-11-26T18:41:15.921Z"
   },
   {
    "duration": 331,
    "start_time": "2023-11-26T18:41:15.926Z"
   },
   {
    "duration": 8,
    "start_time": "2023-11-26T18:41:16.258Z"
   },
   {
    "duration": 4,
    "start_time": "2023-11-26T18:41:16.267Z"
   },
   {
    "duration": 7,
    "start_time": "2023-11-26T18:41:16.273Z"
   },
   {
    "duration": 3,
    "start_time": "2023-11-26T18:41:16.281Z"
   },
   {
    "duration": 73,
    "start_time": "2023-11-26T18:41:16.286Z"
   },
   {
    "duration": 6,
    "start_time": "2023-11-26T18:41:16.363Z"
   },
   {
    "duration": 5,
    "start_time": "2023-11-26T18:41:16.370Z"
   },
   {
    "duration": 8,
    "start_time": "2023-11-26T18:41:16.376Z"
   },
   {
    "duration": 3,
    "start_time": "2023-11-26T18:41:16.385Z"
   },
   {
    "duration": 30,
    "start_time": "2023-11-26T18:41:16.389Z"
   },
   {
    "duration": 16,
    "start_time": "2023-11-26T18:41:16.421Z"
   },
   {
    "duration": 14,
    "start_time": "2023-11-26T18:41:16.438Z"
   },
   {
    "duration": 3,
    "start_time": "2023-11-26T18:41:16.453Z"
   },
   {
    "duration": 5,
    "start_time": "2023-11-26T18:41:16.457Z"
   },
   {
    "duration": 4,
    "start_time": "2023-11-26T18:41:16.463Z"
   },
   {
    "duration": 5,
    "start_time": "2023-11-26T18:41:16.468Z"
   },
   {
    "duration": 42,
    "start_time": "2023-11-26T18:41:16.474Z"
   },
   {
    "duration": 4,
    "start_time": "2023-11-26T18:41:16.517Z"
   },
   {
    "duration": 916,
    "start_time": "2023-11-26T18:41:16.522Z"
   },
   {
    "duration": 24,
    "start_time": "2023-11-26T18:41:17.439Z"
   },
   {
    "duration": 8,
    "start_time": "2023-11-26T18:41:17.464Z"
   },
   {
    "duration": 3,
    "start_time": "2023-11-26T18:41:17.473Z"
   },
   {
    "duration": 9,
    "start_time": "2023-11-26T18:41:17.477Z"
   },
   {
    "duration": 36,
    "start_time": "2023-11-26T18:41:17.487Z"
   },
   {
    "duration": 9,
    "start_time": "2023-11-26T18:41:17.525Z"
   },
   {
    "duration": 21,
    "start_time": "2023-11-26T18:41:17.535Z"
   },
   {
    "duration": 12,
    "start_time": "2023-11-26T18:41:17.557Z"
   },
   {
    "duration": 51,
    "start_time": "2023-11-26T18:41:17.570Z"
   },
   {
    "duration": 10,
    "start_time": "2023-11-26T18:41:17.622Z"
   },
   {
    "duration": 12,
    "start_time": "2023-11-26T18:41:17.633Z"
   },
   {
    "duration": 8,
    "start_time": "2023-11-26T18:41:17.646Z"
   },
   {
    "duration": 9,
    "start_time": "2023-11-26T18:41:17.655Z"
   },
   {
    "duration": 7,
    "start_time": "2023-11-26T18:41:17.668Z"
   },
   {
    "duration": 40,
    "start_time": "2023-11-26T18:41:17.676Z"
   },
   {
    "duration": 18,
    "start_time": "2023-11-26T18:41:17.717Z"
   },
   {
    "duration": 2,
    "start_time": "2023-11-26T18:41:17.736Z"
   },
   {
    "duration": 523,
    "start_time": "2023-11-26T18:41:17.739Z"
   },
   {
    "duration": 1198,
    "start_time": "2023-11-26T18:41:18.263Z"
   },
   {
    "duration": 2,
    "start_time": "2023-11-26T18:41:19.463Z"
   },
   {
    "duration": 1095,
    "start_time": "2023-11-26T18:41:19.466Z"
   },
   {
    "duration": 343,
    "start_time": "2023-11-26T18:41:20.562Z"
   },
   {
    "duration": 436,
    "start_time": "2023-11-26T18:41:20.906Z"
   },
   {
    "duration": 2817,
    "start_time": "2023-11-26T18:41:21.344Z"
   },
   {
    "duration": 1180,
    "start_time": "2023-11-26T18:41:24.163Z"
   },
   {
    "duration": 6,
    "start_time": "2023-11-26T18:41:25.345Z"
   },
   {
    "duration": 6,
    "start_time": "2023-11-26T18:41:25.352Z"
   },
   {
    "duration": 5,
    "start_time": "2023-11-26T18:41:25.359Z"
   },
   {
    "duration": 188,
    "start_time": "2023-11-26T18:41:25.366Z"
   },
   {
    "duration": 11,
    "start_time": "2023-11-26T18:41:25.556Z"
   },
   {
    "duration": 6,
    "start_time": "2023-11-26T18:41:25.568Z"
   },
   {
    "duration": 159,
    "start_time": "2023-11-26T18:41:25.575Z"
   },
   {
    "duration": 6,
    "start_time": "2023-11-26T18:41:25.735Z"
   },
   {
    "duration": 6,
    "start_time": "2023-11-26T18:41:25.743Z"
   },
   {
    "duration": 6,
    "start_time": "2023-11-26T18:41:25.751Z"
   },
   {
    "duration": 6,
    "start_time": "2023-11-26T18:41:25.759Z"
   },
   {
    "duration": 275,
    "start_time": "2023-11-26T18:41:25.767Z"
   },
   {
    "duration": 6,
    "start_time": "2023-11-26T18:41:26.043Z"
   },
   {
    "duration": 7,
    "start_time": "2023-11-26T18:41:26.051Z"
   },
   {
    "duration": 6,
    "start_time": "2023-11-26T18:41:26.060Z"
   },
   {
    "duration": 174,
    "start_time": "2023-11-26T18:41:26.067Z"
   },
   {
    "duration": 6,
    "start_time": "2023-11-26T18:41:26.243Z"
   },
   {
    "duration": 6,
    "start_time": "2023-11-26T18:41:26.250Z"
   },
   {
    "duration": 8,
    "start_time": "2023-11-26T18:41:26.257Z"
   },
   {
    "duration": 3,
    "start_time": "2023-11-26T18:41:26.266Z"
   },
   {
    "duration": 4,
    "start_time": "2023-11-26T18:41:26.270Z"
   },
   {
    "duration": 5,
    "start_time": "2023-11-26T18:41:26.275Z"
   },
   {
    "duration": 3,
    "start_time": "2023-11-26T18:41:26.282Z"
   },
   {
    "duration": 2,
    "start_time": "2023-11-26T18:41:26.315Z"
   },
   {
    "duration": 5,
    "start_time": "2023-11-26T18:41:26.318Z"
   },
   {
    "duration": 3,
    "start_time": "2023-11-26T18:41:26.324Z"
   },
   {
    "duration": 4,
    "start_time": "2023-11-26T18:41:26.328Z"
   },
   {
    "duration": 8,
    "start_time": "2023-11-26T18:41:26.333Z"
   },
   {
    "duration": 8,
    "start_time": "2023-11-26T18:41:26.343Z"
   },
   {
    "duration": 3,
    "start_time": "2023-11-26T18:41:26.352Z"
   },
   {
    "duration": 200,
    "start_time": "2023-11-26T18:41:26.357Z"
   },
   {
    "duration": 820,
    "start_time": "2023-11-26T18:41:26.558Z"
   },
   {
    "duration": 6,
    "start_time": "2023-11-26T18:41:27.379Z"
   },
   {
    "duration": 4,
    "start_time": "2023-11-26T18:41:27.386Z"
   },
   {
    "duration": 7,
    "start_time": "2023-11-26T18:41:27.391Z"
   },
   {
    "duration": 17,
    "start_time": "2023-11-26T18:41:27.399Z"
   },
   {
    "duration": 3,
    "start_time": "2023-11-26T18:41:59.163Z"
   },
   {
    "duration": 1220,
    "start_time": "2023-11-26T18:42:22.534Z"
   },
   {
    "duration": 37,
    "start_time": "2023-11-26T18:42:23.755Z"
   },
   {
    "duration": 12,
    "start_time": "2023-11-26T18:42:23.793Z"
   },
   {
    "duration": 2,
    "start_time": "2023-11-26T18:42:23.807Z"
   },
   {
    "duration": 18,
    "start_time": "2023-11-26T18:42:23.810Z"
   },
   {
    "duration": 13,
    "start_time": "2023-11-26T18:42:23.829Z"
   },
   {
    "duration": 5,
    "start_time": "2023-11-26T18:42:23.843Z"
   },
   {
    "duration": 306,
    "start_time": "2023-11-26T18:42:23.849Z"
   },
   {
    "duration": 8,
    "start_time": "2023-11-26T18:42:24.156Z"
   },
   {
    "duration": 4,
    "start_time": "2023-11-26T18:42:24.166Z"
   },
   {
    "duration": 12,
    "start_time": "2023-11-26T18:42:24.171Z"
   },
   {
    "duration": 5,
    "start_time": "2023-11-26T18:42:24.184Z"
   },
   {
    "duration": 62,
    "start_time": "2023-11-26T18:42:24.190Z"
   },
   {
    "duration": 4,
    "start_time": "2023-11-26T18:42:24.254Z"
   },
   {
    "duration": 10,
    "start_time": "2023-11-26T18:42:24.260Z"
   },
   {
    "duration": 16,
    "start_time": "2023-11-26T18:42:24.271Z"
   },
   {
    "duration": 3,
    "start_time": "2023-11-26T18:42:24.288Z"
   },
   {
    "duration": 8,
    "start_time": "2023-11-26T18:42:24.292Z"
   },
   {
    "duration": 28,
    "start_time": "2023-11-26T18:42:24.301Z"
   },
   {
    "duration": 21,
    "start_time": "2023-11-26T18:42:24.330Z"
   },
   {
    "duration": 3,
    "start_time": "2023-11-26T18:42:24.352Z"
   },
   {
    "duration": 11,
    "start_time": "2023-11-26T18:42:24.356Z"
   },
   {
    "duration": 16,
    "start_time": "2023-11-26T18:42:24.368Z"
   },
   {
    "duration": 35,
    "start_time": "2023-11-26T18:42:24.385Z"
   },
   {
    "duration": 8,
    "start_time": "2023-11-26T18:42:24.421Z"
   },
   {
    "duration": 11,
    "start_time": "2023-11-26T18:42:24.430Z"
   },
   {
    "duration": 924,
    "start_time": "2023-11-26T18:42:24.442Z"
   },
   {
    "duration": 26,
    "start_time": "2023-11-26T18:42:25.370Z"
   },
   {
    "duration": 7,
    "start_time": "2023-11-26T18:42:25.397Z"
   },
   {
    "duration": 4,
    "start_time": "2023-11-26T18:42:25.415Z"
   },
   {
    "duration": 11,
    "start_time": "2023-11-26T18:42:25.420Z"
   },
   {
    "duration": 15,
    "start_time": "2023-11-26T18:42:25.433Z"
   },
   {
    "duration": 9,
    "start_time": "2023-11-26T18:42:25.450Z"
   },
   {
    "duration": 28,
    "start_time": "2023-11-26T18:42:25.460Z"
   },
   {
    "duration": 34,
    "start_time": "2023-11-26T18:42:25.489Z"
   },
   {
    "duration": 32,
    "start_time": "2023-11-26T18:42:25.524Z"
   },
   {
    "duration": 10,
    "start_time": "2023-11-26T18:42:25.557Z"
   },
   {
    "duration": 9,
    "start_time": "2023-11-26T18:42:25.568Z"
   },
   {
    "duration": 8,
    "start_time": "2023-11-26T18:42:25.578Z"
   },
   {
    "duration": 28,
    "start_time": "2023-11-26T18:42:25.587Z"
   },
   {
    "duration": 7,
    "start_time": "2023-11-26T18:42:25.616Z"
   },
   {
    "duration": 17,
    "start_time": "2023-11-26T18:42:25.624Z"
   },
   {
    "duration": 18,
    "start_time": "2023-11-26T18:42:25.642Z"
   },
   {
    "duration": 2,
    "start_time": "2023-11-26T18:42:25.661Z"
   },
   {
    "duration": 523,
    "start_time": "2023-11-26T18:42:25.665Z"
   },
   {
    "duration": 1256,
    "start_time": "2023-11-26T18:42:26.189Z"
   },
   {
    "duration": 2,
    "start_time": "2023-11-26T18:42:27.447Z"
   },
   {
    "duration": 1476,
    "start_time": "2023-11-26T18:42:27.450Z"
   },
   {
    "duration": 340,
    "start_time": "2023-11-26T18:42:28.927Z"
   },
   {
    "duration": 429,
    "start_time": "2023-11-26T18:42:29.269Z"
   },
   {
    "duration": 2386,
    "start_time": "2023-11-26T18:42:29.699Z"
   },
   {
    "duration": 1097,
    "start_time": "2023-11-26T18:42:32.086Z"
   },
   {
    "duration": 6,
    "start_time": "2023-11-26T18:42:33.184Z"
   },
   {
    "duration": 7,
    "start_time": "2023-11-26T18:42:33.191Z"
   },
   {
    "duration": 16,
    "start_time": "2023-11-26T18:42:33.199Z"
   },
   {
    "duration": 171,
    "start_time": "2023-11-26T18:42:33.216Z"
   },
   {
    "duration": 14,
    "start_time": "2023-11-26T18:42:33.388Z"
   },
   {
    "duration": 15,
    "start_time": "2023-11-26T18:42:33.403Z"
   },
   {
    "duration": 150,
    "start_time": "2023-11-26T18:42:33.419Z"
   },
   {
    "duration": 6,
    "start_time": "2023-11-26T18:42:33.570Z"
   },
   {
    "duration": 5,
    "start_time": "2023-11-26T18:42:33.577Z"
   },
   {
    "duration": 5,
    "start_time": "2023-11-26T18:42:33.583Z"
   },
   {
    "duration": 5,
    "start_time": "2023-11-26T18:42:33.589Z"
   },
   {
    "duration": 271,
    "start_time": "2023-11-26T18:42:33.595Z"
   },
   {
    "duration": 5,
    "start_time": "2023-11-26T18:42:33.868Z"
   },
   {
    "duration": 5,
    "start_time": "2023-11-26T18:42:33.875Z"
   },
   {
    "duration": 5,
    "start_time": "2023-11-26T18:42:33.881Z"
   },
   {
    "duration": 171,
    "start_time": "2023-11-26T18:42:33.887Z"
   },
   {
    "duration": 6,
    "start_time": "2023-11-26T18:42:34.060Z"
   },
   {
    "duration": 8,
    "start_time": "2023-11-26T18:42:34.067Z"
   },
   {
    "duration": 7,
    "start_time": "2023-11-26T18:42:34.077Z"
   },
   {
    "duration": 3,
    "start_time": "2023-11-26T18:42:34.085Z"
   },
   {
    "duration": 4,
    "start_time": "2023-11-26T18:42:34.089Z"
   },
   {
    "duration": 21,
    "start_time": "2023-11-26T18:42:34.094Z"
   },
   {
    "duration": 3,
    "start_time": "2023-11-26T18:42:34.116Z"
   },
   {
    "duration": 4,
    "start_time": "2023-11-26T18:42:34.121Z"
   },
   {
    "duration": 3,
    "start_time": "2023-11-26T18:42:34.126Z"
   },
   {
    "duration": 2,
    "start_time": "2023-11-26T18:42:34.130Z"
   },
   {
    "duration": 4,
    "start_time": "2023-11-26T18:42:34.133Z"
   },
   {
    "duration": 3,
    "start_time": "2023-11-26T18:42:34.138Z"
   },
   {
    "duration": 4,
    "start_time": "2023-11-26T18:42:34.142Z"
   },
   {
    "duration": 8,
    "start_time": "2023-11-26T18:42:34.151Z"
   },
   {
    "duration": 9,
    "start_time": "2023-11-26T18:42:34.160Z"
   },
   {
    "duration": 5,
    "start_time": "2023-11-26T18:42:34.170Z"
   },
   {
    "duration": 202,
    "start_time": "2023-11-26T18:42:34.176Z"
   },
   {
    "duration": 883,
    "start_time": "2023-11-26T18:42:34.379Z"
   },
   {
    "duration": 6,
    "start_time": "2023-11-26T18:42:35.264Z"
   },
   {
    "duration": 5,
    "start_time": "2023-11-26T18:42:35.271Z"
   },
   {
    "duration": 8,
    "start_time": "2023-11-26T18:42:35.277Z"
   },
   {
    "duration": 18,
    "start_time": "2023-11-26T18:42:35.286Z"
   },
   {
    "duration": 9,
    "start_time": "2023-11-26T18:43:13.543Z"
   },
   {
    "duration": 125,
    "start_time": "2023-11-26T18:44:18.351Z"
   },
   {
    "duration": 9,
    "start_time": "2023-11-26T18:44:27.972Z"
   },
   {
    "duration": 3,
    "start_time": "2023-11-26T18:44:31.806Z"
   },
   {
    "duration": 3,
    "start_time": "2023-11-26T18:44:33.617Z"
   },
   {
    "duration": 1146,
    "start_time": "2023-11-26T18:45:22.716Z"
   },
   {
    "duration": 37,
    "start_time": "2023-11-26T18:45:23.863Z"
   },
   {
    "duration": 13,
    "start_time": "2023-11-26T18:45:23.902Z"
   },
   {
    "duration": 6,
    "start_time": "2023-11-26T18:45:23.917Z"
   },
   {
    "duration": 9,
    "start_time": "2023-11-26T18:45:23.924Z"
   },
   {
    "duration": 14,
    "start_time": "2023-11-26T18:45:23.934Z"
   },
   {
    "duration": 5,
    "start_time": "2023-11-26T18:45:23.950Z"
   },
   {
    "duration": 342,
    "start_time": "2023-11-26T18:45:23.956Z"
   },
   {
    "duration": 8,
    "start_time": "2023-11-26T18:45:24.299Z"
   },
   {
    "duration": 4,
    "start_time": "2023-11-26T18:45:24.315Z"
   },
   {
    "duration": 6,
    "start_time": "2023-11-26T18:45:24.321Z"
   },
   {
    "duration": 3,
    "start_time": "2023-11-26T18:45:24.328Z"
   },
   {
    "duration": 58,
    "start_time": "2023-11-26T18:45:24.332Z"
   },
   {
    "duration": 5,
    "start_time": "2023-11-26T18:45:24.391Z"
   },
   {
    "duration": 18,
    "start_time": "2023-11-26T18:45:24.397Z"
   },
   {
    "duration": 7,
    "start_time": "2023-11-26T18:45:24.417Z"
   },
   {
    "duration": 6,
    "start_time": "2023-11-26T18:45:24.425Z"
   },
   {
    "duration": 27,
    "start_time": "2023-11-26T18:45:24.433Z"
   },
   {
    "duration": 30,
    "start_time": "2023-11-26T18:45:24.461Z"
   },
   {
    "duration": 15,
    "start_time": "2023-11-26T18:45:24.492Z"
   },
   {
    "duration": 3,
    "start_time": "2023-11-26T18:45:24.508Z"
   },
   {
    "duration": 10,
    "start_time": "2023-11-26T18:45:24.513Z"
   },
   {
    "duration": 10,
    "start_time": "2023-11-26T18:45:24.524Z"
   },
   {
    "duration": 5,
    "start_time": "2023-11-26T18:45:24.535Z"
   },
   {
    "duration": 3,
    "start_time": "2023-11-26T18:45:24.541Z"
   },
   {
    "duration": 10,
    "start_time": "2023-11-26T18:45:24.546Z"
   },
   {
    "duration": 961,
    "start_time": "2023-11-26T18:45:24.557Z"
   },
   {
    "duration": 25,
    "start_time": "2023-11-26T18:45:25.522Z"
   },
   {
    "duration": 8,
    "start_time": "2023-11-26T18:45:25.548Z"
   },
   {
    "duration": 7,
    "start_time": "2023-11-26T18:45:25.557Z"
   },
   {
    "duration": 10,
    "start_time": "2023-11-26T18:45:25.565Z"
   },
   {
    "duration": 12,
    "start_time": "2023-11-26T18:45:25.576Z"
   },
   {
    "duration": 9,
    "start_time": "2023-11-26T18:45:25.615Z"
   },
   {
    "duration": 21,
    "start_time": "2023-11-26T18:45:25.625Z"
   },
   {
    "duration": 13,
    "start_time": "2023-11-26T18:45:25.647Z"
   },
   {
    "duration": 33,
    "start_time": "2023-11-26T18:45:25.661Z"
   },
   {
    "duration": 11,
    "start_time": "2023-11-26T18:45:25.714Z"
   },
   {
    "duration": 10,
    "start_time": "2023-11-26T18:45:25.726Z"
   },
   {
    "duration": 17,
    "start_time": "2023-11-26T18:45:25.737Z"
   },
   {
    "duration": 8,
    "start_time": "2023-11-26T18:45:25.755Z"
   },
   {
    "duration": 7,
    "start_time": "2023-11-26T18:45:25.765Z"
   },
   {
    "duration": 18,
    "start_time": "2023-11-26T18:45:25.773Z"
   },
   {
    "duration": 19,
    "start_time": "2023-11-26T18:45:25.815Z"
   },
   {
    "duration": 3,
    "start_time": "2023-11-26T18:45:25.835Z"
   },
   {
    "duration": 530,
    "start_time": "2023-11-26T18:45:25.839Z"
   },
   {
    "duration": 1235,
    "start_time": "2023-11-26T18:45:26.370Z"
   },
   {
    "duration": 2,
    "start_time": "2023-11-26T18:45:27.607Z"
   },
   {
    "duration": 1029,
    "start_time": "2023-11-26T18:45:27.610Z"
   },
   {
    "duration": 341,
    "start_time": "2023-11-26T18:45:28.640Z"
   },
   {
    "duration": 449,
    "start_time": "2023-11-26T18:45:28.982Z"
   },
   {
    "duration": 2368,
    "start_time": "2023-11-26T18:45:29.433Z"
   },
   {
    "duration": 1097,
    "start_time": "2023-11-26T18:45:31.802Z"
   },
   {
    "duration": 15,
    "start_time": "2023-11-26T18:45:32.900Z"
   },
   {
    "duration": 6,
    "start_time": "2023-11-26T18:45:32.916Z"
   },
   {
    "duration": 6,
    "start_time": "2023-11-26T18:45:32.923Z"
   },
   {
    "duration": 176,
    "start_time": "2023-11-26T18:45:32.930Z"
   },
   {
    "duration": 17,
    "start_time": "2023-11-26T18:45:33.107Z"
   },
   {
    "duration": 5,
    "start_time": "2023-11-26T18:45:33.126Z"
   },
   {
    "duration": 156,
    "start_time": "2023-11-26T18:45:33.132Z"
   },
   {
    "duration": 6,
    "start_time": "2023-11-26T18:45:33.290Z"
   },
   {
    "duration": 5,
    "start_time": "2023-11-26T18:45:33.297Z"
   },
   {
    "duration": 15,
    "start_time": "2023-11-26T18:45:33.304Z"
   },
   {
    "duration": 6,
    "start_time": "2023-11-26T18:45:33.320Z"
   },
   {
    "duration": 265,
    "start_time": "2023-11-26T18:45:33.327Z"
   },
   {
    "duration": 7,
    "start_time": "2023-11-26T18:45:33.593Z"
   },
   {
    "duration": 14,
    "start_time": "2023-11-26T18:45:33.601Z"
   },
   {
    "duration": 5,
    "start_time": "2023-11-26T18:45:33.616Z"
   },
   {
    "duration": 166,
    "start_time": "2023-11-26T18:45:33.623Z"
   },
   {
    "duration": 6,
    "start_time": "2023-11-26T18:45:33.791Z"
   },
   {
    "duration": 19,
    "start_time": "2023-11-26T18:45:33.798Z"
   },
   {
    "duration": 3,
    "start_time": "2023-11-26T18:45:33.818Z"
   },
   {
    "duration": 10,
    "start_time": "2023-11-26T18:45:33.822Z"
   },
   {
    "duration": 3,
    "start_time": "2023-11-26T18:45:33.833Z"
   },
   {
    "duration": 7,
    "start_time": "2023-11-26T18:45:33.837Z"
   },
   {
    "duration": 33,
    "start_time": "2023-11-26T18:45:33.845Z"
   },
   {
    "duration": 6,
    "start_time": "2023-11-26T18:45:33.880Z"
   },
   {
    "duration": 177,
    "start_time": "2023-11-26T18:45:33.887Z"
   },
   {
    "duration": 797,
    "start_time": "2023-11-26T18:45:34.066Z"
   },
   {
    "duration": 6,
    "start_time": "2023-11-26T18:45:34.864Z"
   },
   {
    "duration": 10,
    "start_time": "2023-11-26T18:45:34.871Z"
   },
   {
    "duration": 5,
    "start_time": "2023-11-26T18:45:34.882Z"
   },
   {
    "duration": 4,
    "start_time": "2023-11-26T18:45:34.892Z"
   },
   {
    "duration": 9,
    "start_time": "2023-11-26T18:47:18.759Z"
   },
   {
    "duration": 1312,
    "start_time": "2023-11-26T18:51:14.887Z"
   },
   {
    "duration": 39,
    "start_time": "2023-11-26T18:51:16.200Z"
   },
   {
    "duration": 12,
    "start_time": "2023-11-26T18:51:16.241Z"
   },
   {
    "duration": 2,
    "start_time": "2023-11-26T18:51:16.255Z"
   },
   {
    "duration": 3,
    "start_time": "2023-11-26T18:51:16.258Z"
   },
   {
    "duration": 13,
    "start_time": "2023-11-26T18:51:16.262Z"
   },
   {
    "duration": 4,
    "start_time": "2023-11-26T18:51:16.276Z"
   },
   {
    "duration": 396,
    "start_time": "2023-11-26T18:51:16.281Z"
   },
   {
    "duration": 7,
    "start_time": "2023-11-26T18:51:16.678Z"
   },
   {
    "duration": 5,
    "start_time": "2023-11-26T18:51:16.687Z"
   },
   {
    "duration": 8,
    "start_time": "2023-11-26T18:51:16.693Z"
   },
   {
    "duration": 6,
    "start_time": "2023-11-26T18:51:16.718Z"
   },
   {
    "duration": 49,
    "start_time": "2023-11-26T18:51:16.729Z"
   },
   {
    "duration": 5,
    "start_time": "2023-11-26T18:51:16.779Z"
   },
   {
    "duration": 5,
    "start_time": "2023-11-26T18:51:16.785Z"
   },
   {
    "duration": 33,
    "start_time": "2023-11-26T18:51:16.791Z"
   },
   {
    "duration": 4,
    "start_time": "2023-11-26T18:51:16.828Z"
   },
   {
    "duration": 9,
    "start_time": "2023-11-26T18:51:16.834Z"
   },
   {
    "duration": 18,
    "start_time": "2023-11-26T18:51:16.844Z"
   },
   {
    "duration": 14,
    "start_time": "2023-11-26T18:51:16.863Z"
   },
   {
    "duration": 18,
    "start_time": "2023-11-26T18:51:16.879Z"
   },
   {
    "duration": 5,
    "start_time": "2023-11-26T18:51:16.898Z"
   },
   {
    "duration": 4,
    "start_time": "2023-11-26T18:51:16.904Z"
   },
   {
    "duration": 12,
    "start_time": "2023-11-26T18:51:16.910Z"
   },
   {
    "duration": 5,
    "start_time": "2023-11-26T18:51:16.926Z"
   },
   {
    "duration": 5,
    "start_time": "2023-11-26T18:51:16.932Z"
   },
   {
    "duration": 1007,
    "start_time": "2023-11-26T18:51:16.938Z"
   },
   {
    "duration": 25,
    "start_time": "2023-11-26T18:51:17.948Z"
   },
   {
    "duration": 7,
    "start_time": "2023-11-26T18:51:17.974Z"
   },
   {
    "duration": 4,
    "start_time": "2023-11-26T18:51:17.982Z"
   },
   {
    "duration": 30,
    "start_time": "2023-11-26T18:51:17.987Z"
   },
   {
    "duration": 22,
    "start_time": "2023-11-26T18:51:18.019Z"
   },
   {
    "duration": 9,
    "start_time": "2023-11-26T18:51:18.043Z"
   },
   {
    "duration": 25,
    "start_time": "2023-11-26T18:51:18.053Z"
   },
   {
    "duration": 14,
    "start_time": "2023-11-26T18:51:18.079Z"
   },
   {
    "duration": 55,
    "start_time": "2023-11-26T18:51:18.094Z"
   },
   {
    "duration": 10,
    "start_time": "2023-11-26T18:51:18.150Z"
   },
   {
    "duration": 9,
    "start_time": "2023-11-26T18:51:18.161Z"
   },
   {
    "duration": 8,
    "start_time": "2023-11-26T18:51:18.171Z"
   },
   {
    "duration": 9,
    "start_time": "2023-11-26T18:51:18.180Z"
   },
   {
    "duration": 30,
    "start_time": "2023-11-26T18:51:18.190Z"
   },
   {
    "duration": 24,
    "start_time": "2023-11-26T18:51:18.222Z"
   },
   {
    "duration": 17,
    "start_time": "2023-11-26T18:51:18.247Z"
   },
   {
    "duration": 2,
    "start_time": "2023-11-26T18:51:18.265Z"
   },
   {
    "duration": 575,
    "start_time": "2023-11-26T18:51:18.269Z"
   },
   {
    "duration": 1328,
    "start_time": "2023-11-26T18:51:18.845Z"
   },
   {
    "duration": 2,
    "start_time": "2023-11-26T18:51:20.175Z"
   },
   {
    "duration": 1127,
    "start_time": "2023-11-26T18:51:20.178Z"
   },
   {
    "duration": 385,
    "start_time": "2023-11-26T18:51:21.307Z"
   },
   {
    "duration": 481,
    "start_time": "2023-11-26T18:51:21.693Z"
   },
   {
    "duration": 2480,
    "start_time": "2023-11-26T18:51:22.175Z"
   },
   {
    "duration": 1176,
    "start_time": "2023-11-26T18:51:24.656Z"
   },
   {
    "duration": 7,
    "start_time": "2023-11-26T18:51:25.833Z"
   },
   {
    "duration": 11,
    "start_time": "2023-11-26T18:51:25.841Z"
   },
   {
    "duration": 7,
    "start_time": "2023-11-26T18:51:25.854Z"
   },
   {
    "duration": 190,
    "start_time": "2023-11-26T18:51:25.862Z"
   },
   {
    "duration": 11,
    "start_time": "2023-11-26T18:51:26.053Z"
   },
   {
    "duration": 10,
    "start_time": "2023-11-26T18:51:26.065Z"
   },
   {
    "duration": 171,
    "start_time": "2023-11-26T18:51:26.077Z"
   },
   {
    "duration": 6,
    "start_time": "2023-11-26T18:51:26.249Z"
   },
   {
    "duration": 9,
    "start_time": "2023-11-26T18:51:26.256Z"
   },
   {
    "duration": 11,
    "start_time": "2023-11-26T18:51:26.266Z"
   },
   {
    "duration": 7,
    "start_time": "2023-11-26T18:51:26.278Z"
   },
   {
    "duration": 281,
    "start_time": "2023-11-26T18:51:26.286Z"
   },
   {
    "duration": 7,
    "start_time": "2023-11-26T18:51:26.568Z"
   },
   {
    "duration": 15,
    "start_time": "2023-11-26T18:51:26.576Z"
   },
   {
    "duration": 5,
    "start_time": "2023-11-26T18:51:26.592Z"
   },
   {
    "duration": 176,
    "start_time": "2023-11-26T18:51:26.598Z"
   },
   {
    "duration": 6,
    "start_time": "2023-11-26T18:51:26.775Z"
   },
   {
    "duration": 11,
    "start_time": "2023-11-26T18:51:26.782Z"
   },
   {
    "duration": 4,
    "start_time": "2023-11-26T18:51:26.794Z"
   },
   {
    "duration": 23,
    "start_time": "2023-11-26T18:51:26.799Z"
   },
   {
    "duration": 9,
    "start_time": "2023-11-26T18:51:26.825Z"
   },
   {
    "duration": 15,
    "start_time": "2023-11-26T18:51:26.835Z"
   },
   {
    "duration": 7,
    "start_time": "2023-11-26T18:51:26.852Z"
   },
   {
    "duration": 181,
    "start_time": "2023-11-26T18:51:26.861Z"
   },
   {
    "duration": 845,
    "start_time": "2023-11-26T18:51:27.044Z"
   },
   {
    "duration": 6,
    "start_time": "2023-11-26T18:51:27.891Z"
   },
   {
    "duration": 26,
    "start_time": "2023-11-26T18:51:27.898Z"
   },
   {
    "duration": 5,
    "start_time": "2023-11-26T18:51:27.928Z"
   },
   {
    "duration": 6,
    "start_time": "2023-11-26T18:51:27.934Z"
   },
   {
    "duration": 1339,
    "start_time": "2023-11-26T19:35:23.370Z"
   },
   {
    "duration": 39,
    "start_time": "2023-11-26T19:35:24.711Z"
   },
   {
    "duration": 15,
    "start_time": "2023-11-26T19:35:24.751Z"
   },
   {
    "duration": 2,
    "start_time": "2023-11-26T19:35:24.768Z"
   },
   {
    "duration": 4,
    "start_time": "2023-11-26T19:35:24.772Z"
   },
   {
    "duration": 22,
    "start_time": "2023-11-26T19:35:24.778Z"
   },
   {
    "duration": 6,
    "start_time": "2023-11-26T19:35:24.801Z"
   },
   {
    "duration": 468,
    "start_time": "2023-11-26T19:35:24.809Z"
   },
   {
    "duration": 8,
    "start_time": "2023-11-26T19:35:25.279Z"
   },
   {
    "duration": 5,
    "start_time": "2023-11-26T19:35:25.289Z"
   },
   {
    "duration": 7,
    "start_time": "2023-11-26T19:35:25.295Z"
   },
   {
    "duration": 3,
    "start_time": "2023-11-26T19:35:25.303Z"
   },
   {
    "duration": 81,
    "start_time": "2023-11-26T19:35:25.307Z"
   },
   {
    "duration": 5,
    "start_time": "2023-11-26T19:35:25.390Z"
   },
   {
    "duration": 5,
    "start_time": "2023-11-26T19:35:25.396Z"
   },
   {
    "duration": 10,
    "start_time": "2023-11-26T19:35:25.402Z"
   },
   {
    "duration": 3,
    "start_time": "2023-11-26T19:35:25.413Z"
   },
   {
    "duration": 6,
    "start_time": "2023-11-26T19:35:25.418Z"
   },
   {
    "duration": 20,
    "start_time": "2023-11-26T19:35:25.451Z"
   },
   {
    "duration": 18,
    "start_time": "2023-11-26T19:35:25.472Z"
   },
   {
    "duration": 4,
    "start_time": "2023-11-26T19:35:25.491Z"
   },
   {
    "duration": 8,
    "start_time": "2023-11-26T19:35:25.496Z"
   },
   {
    "duration": 10,
    "start_time": "2023-11-26T19:35:25.505Z"
   },
   {
    "duration": 5,
    "start_time": "2023-11-26T19:35:25.516Z"
   },
   {
    "duration": 31,
    "start_time": "2023-11-26T19:35:25.522Z"
   },
   {
    "duration": 5,
    "start_time": "2023-11-26T19:35:25.554Z"
   },
   {
    "duration": 1118,
    "start_time": "2023-11-26T19:35:25.560Z"
   },
   {
    "duration": 28,
    "start_time": "2023-11-26T19:35:26.681Z"
   },
   {
    "duration": 9,
    "start_time": "2023-11-26T19:35:26.710Z"
   },
   {
    "duration": 14,
    "start_time": "2023-11-26T19:35:26.720Z"
   },
   {
    "duration": 20,
    "start_time": "2023-11-26T19:35:26.735Z"
   },
   {
    "duration": 14,
    "start_time": "2023-11-26T19:35:26.756Z"
   },
   {
    "duration": 12,
    "start_time": "2023-11-26T19:35:26.771Z"
   },
   {
    "duration": 28,
    "start_time": "2023-11-26T19:35:26.784Z"
   },
   {
    "duration": 46,
    "start_time": "2023-11-26T19:35:26.813Z"
   },
   {
    "duration": 41,
    "start_time": "2023-11-26T19:35:26.860Z"
   },
   {
    "duration": 11,
    "start_time": "2023-11-26T19:35:26.903Z"
   },
   {
    "duration": 14,
    "start_time": "2023-11-26T19:35:26.916Z"
   },
   {
    "duration": 27,
    "start_time": "2023-11-26T19:35:26.932Z"
   },
   {
    "duration": 16,
    "start_time": "2023-11-26T19:35:26.961Z"
   },
   {
    "duration": 9,
    "start_time": "2023-11-26T19:35:26.979Z"
   },
   {
    "duration": 27,
    "start_time": "2023-11-26T19:35:26.989Z"
   },
   {
    "duration": 37,
    "start_time": "2023-11-26T19:35:27.017Z"
   },
   {
    "duration": 3,
    "start_time": "2023-11-26T19:35:27.056Z"
   },
   {
    "duration": 659,
    "start_time": "2023-11-26T19:35:27.061Z"
   },
   {
    "duration": 1408,
    "start_time": "2023-11-26T19:35:27.721Z"
   },
   {
    "duration": 3,
    "start_time": "2023-11-26T19:35:29.131Z"
   },
   {
    "duration": 1205,
    "start_time": "2023-11-26T19:35:29.136Z"
   },
   {
    "duration": 404,
    "start_time": "2023-11-26T19:35:30.343Z"
   },
   {
    "duration": 502,
    "start_time": "2023-11-26T19:35:30.751Z"
   },
   {
    "duration": 2543,
    "start_time": "2023-11-26T19:35:31.254Z"
   },
   {
    "duration": 1337,
    "start_time": "2023-11-26T19:35:33.799Z"
   },
   {
    "duration": 19,
    "start_time": "2023-11-26T19:35:35.138Z"
   },
   {
    "duration": 8,
    "start_time": "2023-11-26T19:35:35.159Z"
   },
   {
    "duration": 9,
    "start_time": "2023-11-26T19:35:35.169Z"
   },
   {
    "duration": 251,
    "start_time": "2023-11-26T19:35:35.179Z"
   },
   {
    "duration": 22,
    "start_time": "2023-11-26T19:35:35.431Z"
   },
   {
    "duration": 6,
    "start_time": "2023-11-26T19:35:35.455Z"
   },
   {
    "duration": 178,
    "start_time": "2023-11-26T19:35:35.462Z"
   },
   {
    "duration": 11,
    "start_time": "2023-11-26T19:35:35.641Z"
   },
   {
    "duration": 13,
    "start_time": "2023-11-26T19:35:35.653Z"
   },
   {
    "duration": 15,
    "start_time": "2023-11-26T19:35:35.667Z"
   },
   {
    "duration": 6,
    "start_time": "2023-11-26T19:35:35.683Z"
   },
   {
    "duration": 312,
    "start_time": "2023-11-26T19:35:35.691Z"
   },
   {
    "duration": 7,
    "start_time": "2023-11-26T19:35:36.004Z"
   },
   {
    "duration": 16,
    "start_time": "2023-11-26T19:35:36.013Z"
   },
   {
    "duration": 5,
    "start_time": "2023-11-26T19:35:36.031Z"
   },
   {
    "duration": 191,
    "start_time": "2023-11-26T19:35:36.037Z"
   },
   {
    "duration": 9,
    "start_time": "2023-11-26T19:35:36.230Z"
   },
   {
    "duration": 16,
    "start_time": "2023-11-26T19:35:36.240Z"
   },
   {
    "duration": 3,
    "start_time": "2023-11-26T19:35:36.258Z"
   },
   {
    "duration": 11,
    "start_time": "2023-11-26T19:35:36.263Z"
   },
   {
    "duration": 4,
    "start_time": "2023-11-26T19:35:36.276Z"
   },
   {
    "duration": 4,
    "start_time": "2023-11-26T19:35:36.281Z"
   },
   {
    "duration": 9,
    "start_time": "2023-11-26T19:35:36.287Z"
   },
   {
    "duration": 213,
    "start_time": "2023-11-26T19:35:36.297Z"
   },
   {
    "duration": 963,
    "start_time": "2023-11-26T19:35:36.512Z"
   },
   {
    "duration": 9,
    "start_time": "2023-11-26T19:35:37.477Z"
   },
   {
    "duration": 8,
    "start_time": "2023-11-26T19:35:37.487Z"
   },
   {
    "duration": 5,
    "start_time": "2023-11-26T19:35:37.496Z"
   },
   {
    "duration": 18,
    "start_time": "2023-11-26T19:35:37.503Z"
   },
   {
    "duration": 48,
    "start_time": "2023-11-27T10:27:35.274Z"
   },
   {
    "duration": 1594,
    "start_time": "2023-11-27T10:29:49.786Z"
   },
   {
    "duration": 158,
    "start_time": "2023-11-27T10:29:51.382Z"
   },
   {
    "duration": 15,
    "start_time": "2023-11-27T10:29:51.542Z"
   },
   {
    "duration": 24,
    "start_time": "2023-11-27T10:29:51.559Z"
   },
   {
    "duration": 16,
    "start_time": "2023-11-27T10:29:51.584Z"
   },
   {
    "duration": 17,
    "start_time": "2023-11-27T10:29:51.602Z"
   },
   {
    "duration": 7,
    "start_time": "2023-11-27T10:29:51.620Z"
   },
   {
    "duration": 456,
    "start_time": "2023-11-27T10:29:51.628Z"
   },
   {
    "duration": 9,
    "start_time": "2023-11-27T10:29:52.086Z"
   },
   {
    "duration": 17,
    "start_time": "2023-11-27T10:29:52.097Z"
   },
   {
    "duration": 10,
    "start_time": "2023-11-27T10:29:52.116Z"
   },
   {
    "duration": 3,
    "start_time": "2023-11-27T10:29:52.128Z"
   },
   {
    "duration": 59,
    "start_time": "2023-11-27T10:29:52.132Z"
   },
   {
    "duration": 23,
    "start_time": "2023-11-27T10:29:52.192Z"
   },
   {
    "duration": 9,
    "start_time": "2023-11-27T10:29:52.216Z"
   },
   {
    "duration": 16,
    "start_time": "2023-11-27T10:29:52.227Z"
   },
   {
    "duration": 11,
    "start_time": "2023-11-27T10:29:52.244Z"
   },
   {
    "duration": 7,
    "start_time": "2023-11-27T10:29:52.256Z"
   },
   {
    "duration": 21,
    "start_time": "2023-11-27T10:29:52.265Z"
   },
   {
    "duration": 35,
    "start_time": "2023-11-27T10:29:52.288Z"
   },
   {
    "duration": 15,
    "start_time": "2023-11-27T10:29:52.324Z"
   },
   {
    "duration": 8,
    "start_time": "2023-11-27T10:29:52.340Z"
   },
   {
    "duration": 7,
    "start_time": "2023-11-27T10:29:52.350Z"
   },
   {
    "duration": 7,
    "start_time": "2023-11-27T10:29:52.359Z"
   },
   {
    "duration": 9,
    "start_time": "2023-11-27T10:29:52.367Z"
   },
   {
    "duration": 11,
    "start_time": "2023-11-27T10:29:52.377Z"
   },
   {
    "duration": 1232,
    "start_time": "2023-11-27T10:29:52.389Z"
   },
   {
    "duration": 31,
    "start_time": "2023-11-27T10:29:53.625Z"
   },
   {
    "duration": 10,
    "start_time": "2023-11-27T10:29:53.658Z"
   },
   {
    "duration": 13,
    "start_time": "2023-11-27T10:29:53.670Z"
   },
   {
    "duration": 29,
    "start_time": "2023-11-27T10:29:53.684Z"
   },
   {
    "duration": 15,
    "start_time": "2023-11-27T10:29:53.715Z"
   },
   {
    "duration": 12,
    "start_time": "2023-11-27T10:29:53.732Z"
   },
   {
    "duration": 30,
    "start_time": "2023-11-27T10:29:53.745Z"
   },
   {
    "duration": 42,
    "start_time": "2023-11-27T10:29:53.777Z"
   },
   {
    "duration": 42,
    "start_time": "2023-11-27T10:29:53.821Z"
   },
   {
    "duration": 12,
    "start_time": "2023-11-27T10:29:53.865Z"
   },
   {
    "duration": 11,
    "start_time": "2023-11-27T10:29:53.878Z"
   },
   {
    "duration": 31,
    "start_time": "2023-11-27T10:29:53.890Z"
   },
   {
    "duration": 11,
    "start_time": "2023-11-27T10:29:53.922Z"
   },
   {
    "duration": 14,
    "start_time": "2023-11-27T10:29:53.935Z"
   },
   {
    "duration": 46,
    "start_time": "2023-11-27T10:29:53.950Z"
   },
   {
    "duration": 31,
    "start_time": "2023-11-27T10:29:53.998Z"
   },
   {
    "duration": 3,
    "start_time": "2023-11-27T10:29:54.030Z"
   },
   {
    "duration": 656,
    "start_time": "2023-11-27T10:29:54.034Z"
   },
   {
    "duration": 1552,
    "start_time": "2023-11-27T10:29:54.692Z"
   },
   {
    "duration": 2,
    "start_time": "2023-11-27T10:29:56.246Z"
   },
   {
    "duration": 1311,
    "start_time": "2023-11-27T10:29:56.250Z"
   },
   {
    "duration": 456,
    "start_time": "2023-11-27T10:29:57.563Z"
   },
   {
    "duration": 546,
    "start_time": "2023-11-27T10:29:58.020Z"
   },
   {
    "duration": 2678,
    "start_time": "2023-11-27T10:29:58.567Z"
   },
   {
    "duration": 1401,
    "start_time": "2023-11-27T10:30:01.247Z"
   },
   {
    "duration": 7,
    "start_time": "2023-11-27T10:30:02.650Z"
   },
   {
    "duration": 16,
    "start_time": "2023-11-27T10:30:02.659Z"
   },
   {
    "duration": 20,
    "start_time": "2023-11-27T10:30:02.676Z"
   },
   {
    "duration": 241,
    "start_time": "2023-11-27T10:30:02.698Z"
   },
   {
    "duration": 16,
    "start_time": "2023-11-27T10:30:02.940Z"
   },
   {
    "duration": 8,
    "start_time": "2023-11-27T10:30:02.957Z"
   },
   {
    "duration": 218,
    "start_time": "2023-11-27T10:30:02.966Z"
   },
   {
    "duration": 8,
    "start_time": "2023-11-27T10:30:03.185Z"
   },
   {
    "duration": 22,
    "start_time": "2023-11-27T10:30:03.194Z"
   },
   {
    "duration": 20,
    "start_time": "2023-11-27T10:30:03.217Z"
   },
   {
    "duration": 14,
    "start_time": "2023-11-27T10:30:03.239Z"
   },
   {
    "duration": 342,
    "start_time": "2023-11-27T10:30:03.255Z"
   },
   {
    "duration": 12,
    "start_time": "2023-11-27T10:30:03.599Z"
   },
   {
    "duration": 7,
    "start_time": "2023-11-27T10:30:03.613Z"
   },
   {
    "duration": 8,
    "start_time": "2023-11-27T10:30:03.621Z"
   },
   {
    "duration": 245,
    "start_time": "2023-11-27T10:30:03.630Z"
   },
   {
    "duration": 8,
    "start_time": "2023-11-27T10:30:03.876Z"
   },
   {
    "duration": 26,
    "start_time": "2023-11-27T10:30:03.885Z"
   },
   {
    "duration": 3,
    "start_time": "2023-11-27T10:30:03.913Z"
   },
   {
    "duration": 42,
    "start_time": "2023-11-27T10:30:03.917Z"
   },
   {
    "duration": 3,
    "start_time": "2023-11-27T10:30:03.961Z"
   },
   {
    "duration": 4,
    "start_time": "2023-11-27T10:30:03.966Z"
   },
   {
    "duration": 4,
    "start_time": "2023-11-27T10:30:03.972Z"
   },
   {
    "duration": 211,
    "start_time": "2023-11-27T10:30:03.977Z"
   },
   {
    "duration": 935,
    "start_time": "2023-11-27T10:30:04.190Z"
   },
   {
    "duration": 9,
    "start_time": "2023-11-27T10:30:05.127Z"
   },
   {
    "duration": 23,
    "start_time": "2023-11-27T10:30:05.137Z"
   },
   {
    "duration": 5,
    "start_time": "2023-11-27T10:30:05.162Z"
   },
   {
    "duration": 6,
    "start_time": "2023-11-27T10:30:05.168Z"
   },
   {
    "duration": 1584,
    "start_time": "2023-12-13T07:12:13.550Z"
   },
   {
    "duration": 147,
    "start_time": "2023-12-13T07:12:15.136Z"
   },
   {
    "duration": 15,
    "start_time": "2023-12-13T07:12:15.285Z"
   },
   {
    "duration": 32,
    "start_time": "2023-12-13T07:12:15.302Z"
   },
   {
    "duration": 23,
    "start_time": "2023-12-13T07:12:15.336Z"
   },
   {
    "duration": 18,
    "start_time": "2023-12-13T07:12:15.360Z"
   },
   {
    "duration": 11,
    "start_time": "2023-12-13T07:12:15.380Z"
   },
   {
    "duration": 392,
    "start_time": "2023-12-13T07:12:15.392Z"
   },
   {
    "duration": 9,
    "start_time": "2023-12-13T07:12:15.785Z"
   },
   {
    "duration": 16,
    "start_time": "2023-12-13T07:12:15.795Z"
   },
   {
    "duration": 14,
    "start_time": "2023-12-13T07:12:15.812Z"
   },
   {
    "duration": 10,
    "start_time": "2023-12-13T07:12:15.827Z"
   },
   {
    "duration": 65,
    "start_time": "2023-12-13T07:12:15.838Z"
   },
   {
    "duration": 6,
    "start_time": "2023-12-13T07:12:15.907Z"
   },
   {
    "duration": 5,
    "start_time": "2023-12-13T07:12:15.914Z"
   },
   {
    "duration": 14,
    "start_time": "2023-12-13T07:12:15.921Z"
   },
   {
    "duration": 3,
    "start_time": "2023-12-13T07:12:15.936Z"
   },
   {
    "duration": 17,
    "start_time": "2023-12-13T07:12:15.940Z"
   },
   {
    "duration": 31,
    "start_time": "2023-12-13T07:12:15.958Z"
   },
   {
    "duration": 17,
    "start_time": "2023-12-13T07:12:15.991Z"
   },
   {
    "duration": 23,
    "start_time": "2023-12-13T07:12:16.009Z"
   },
   {
    "duration": 28,
    "start_time": "2023-12-13T07:12:16.033Z"
   },
   {
    "duration": 12,
    "start_time": "2023-12-13T07:12:16.062Z"
   },
   {
    "duration": 14,
    "start_time": "2023-12-13T07:12:16.076Z"
   },
   {
    "duration": 27,
    "start_time": "2023-12-13T07:12:16.092Z"
   },
   {
    "duration": 13,
    "start_time": "2023-12-13T07:12:16.120Z"
   },
   {
    "duration": 1123,
    "start_time": "2023-12-13T07:12:16.134Z"
   },
   {
    "duration": 36,
    "start_time": "2023-12-13T07:12:17.258Z"
   },
   {
    "duration": 9,
    "start_time": "2023-12-13T07:12:17.296Z"
   },
   {
    "duration": 5,
    "start_time": "2023-12-13T07:12:17.306Z"
   },
   {
    "duration": 12,
    "start_time": "2023-12-13T07:12:17.313Z"
   },
   {
    "duration": 23,
    "start_time": "2023-12-13T07:12:17.326Z"
   },
   {
    "duration": 31,
    "start_time": "2023-12-13T07:12:17.351Z"
   },
   {
    "duration": 26,
    "start_time": "2023-12-13T07:12:17.383Z"
   },
   {
    "duration": 15,
    "start_time": "2023-12-13T07:12:17.410Z"
   },
   {
    "duration": 56,
    "start_time": "2023-12-13T07:12:17.426Z"
   },
   {
    "duration": 13,
    "start_time": "2023-12-13T07:12:17.483Z"
   },
   {
    "duration": 14,
    "start_time": "2023-12-13T07:12:17.497Z"
   },
   {
    "duration": 10,
    "start_time": "2023-12-13T07:12:17.513Z"
   },
   {
    "duration": 28,
    "start_time": "2023-12-13T07:12:17.525Z"
   },
   {
    "duration": 11,
    "start_time": "2023-12-13T07:12:17.558Z"
   },
   {
    "duration": 31,
    "start_time": "2023-12-13T07:12:17.570Z"
   },
   {
    "duration": 23,
    "start_time": "2023-12-13T07:12:17.603Z"
   },
   {
    "duration": 3,
    "start_time": "2023-12-13T07:12:17.628Z"
   },
   {
    "duration": 641,
    "start_time": "2023-12-13T07:12:17.633Z"
   },
   {
    "duration": 1422,
    "start_time": "2023-12-13T07:12:18.282Z"
   },
   {
    "duration": 3,
    "start_time": "2023-12-13T07:12:19.706Z"
   },
   {
    "duration": 1314,
    "start_time": "2023-12-13T07:12:19.711Z"
   },
   {
    "duration": 388,
    "start_time": "2023-12-13T07:12:21.027Z"
   },
   {
    "duration": 501,
    "start_time": "2023-12-13T07:12:21.417Z"
   },
   {
    "duration": 2699,
    "start_time": "2023-12-13T07:12:21.920Z"
   },
   {
    "duration": 1305,
    "start_time": "2023-12-13T07:12:24.620Z"
   },
   {
    "duration": 7,
    "start_time": "2023-12-13T07:12:25.927Z"
   },
   {
    "duration": 19,
    "start_time": "2023-12-13T07:12:25.935Z"
   },
   {
    "duration": 17,
    "start_time": "2023-12-13T07:12:25.955Z"
   },
   {
    "duration": 213,
    "start_time": "2023-12-13T07:12:25.980Z"
   },
   {
    "duration": 13,
    "start_time": "2023-12-13T07:12:26.194Z"
   },
   {
    "duration": 6,
    "start_time": "2023-12-13T07:12:26.208Z"
   },
   {
    "duration": 192,
    "start_time": "2023-12-13T07:12:26.215Z"
   },
   {
    "duration": 7,
    "start_time": "2023-12-13T07:12:26.409Z"
   },
   {
    "duration": 11,
    "start_time": "2023-12-13T07:12:26.417Z"
   },
   {
    "duration": 11,
    "start_time": "2023-12-13T07:12:26.429Z"
   },
   {
    "duration": 5,
    "start_time": "2023-12-13T07:12:26.442Z"
   },
   {
    "duration": 345,
    "start_time": "2023-12-13T07:12:26.449Z"
   },
   {
    "duration": 7,
    "start_time": "2023-12-13T07:12:26.795Z"
   },
   {
    "duration": 13,
    "start_time": "2023-12-13T07:12:26.803Z"
   },
   {
    "duration": 7,
    "start_time": "2023-12-13T07:12:26.817Z"
   },
   {
    "duration": 197,
    "start_time": "2023-12-13T07:12:26.825Z"
   },
   {
    "duration": 7,
    "start_time": "2023-12-13T07:12:27.023Z"
   },
   {
    "duration": 20,
    "start_time": "2023-12-13T07:12:27.031Z"
   },
   {
    "duration": 5,
    "start_time": "2023-12-13T07:12:27.053Z"
   },
   {
    "duration": 24,
    "start_time": "2023-12-13T07:12:27.059Z"
   },
   {
    "duration": 8,
    "start_time": "2023-12-13T07:12:27.084Z"
   },
   {
    "duration": 7,
    "start_time": "2023-12-13T07:12:27.093Z"
   },
   {
    "duration": 13,
    "start_time": "2023-12-13T07:12:27.101Z"
   },
   {
    "duration": 187,
    "start_time": "2023-12-13T07:12:27.115Z"
   },
   {
    "duration": 863,
    "start_time": "2023-12-13T07:12:27.303Z"
   },
   {
    "duration": 14,
    "start_time": "2023-12-13T07:12:28.168Z"
   },
   {
    "duration": 4,
    "start_time": "2023-12-13T07:12:28.184Z"
   },
   {
    "duration": 9,
    "start_time": "2023-12-13T07:12:28.189Z"
   },
   {
    "duration": 13,
    "start_time": "2023-12-13T07:12:28.199Z"
   }
  ],
  "kernelspec": {
   "display_name": "Python 3 (ipykernel)",
   "language": "python",
   "name": "python3"
  },
  "language_info": {
   "codemirror_mode": {
    "name": "ipython",
    "version": 3
   },
   "file_extension": ".py",
   "mimetype": "text/x-python",
   "name": "python",
   "nbconvert_exporter": "python",
   "pygments_lexer": "ipython3",
   "version": "3.11.5"
  },
  "toc": {
   "base_numbering": 1,
   "nav_menu": {},
   "number_sections": true,
   "sideBar": true,
   "skip_h1_title": true,
   "title_cell": "Table of Contents",
   "title_sidebar": "Contents",
   "toc_cell": false,
   "toc_position": {
    "height": "calc(100% - 180px)",
    "left": "10px",
    "top": "150px",
    "width": "366.516px"
   },
   "toc_section_display": true,
   "toc_window_display": true
  }
 },
 "nbformat": 4,
 "nbformat_minor": 5
}
